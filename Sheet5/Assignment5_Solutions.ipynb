{
  "nbformat": 4,
  "nbformat_minor": 0,
  "metadata": {
    "kernelspec": {
      "display_name": "Python 3",
      "language": "python",
      "name": "python3"
    },
    "language_info": {
      "codemirror_mode": {
        "name": "ipython",
        "version": 3
      },
      "file_extension": ".py",
      "mimetype": "text/x-python",
      "name": "python",
      "nbconvert_exporter": "python",
      "pygments_lexer": "ipython3",
      "version": "3.7.7"
    },
    "colab": {
      "name": "Assignment5_Solutions.ipynb",
      "provenance": [],
      "collapsed_sections": [
        "kltDaoYgnP8w",
        "vl6_LuFLwWUx",
        "wmahsY6jwiQ2",
        "FE8B6jmKxktN"
      ],
      "include_colab_link": true
    }
  },
  "cells": [
    {
      "cell_type": "markdown",
      "metadata": {
        "id": "view-in-github",
        "colab_type": "text"
      },
      "source": [
        "<a href=\"https://colab.research.google.com/github/D34dP0oL/4216_Biomedical_DS_and_AI/blob/main/Sheet5/Assignment5_Solutions.ipynb\" target=\"_parent\"><img src=\"https://colab.research.google.com/assets/colab-badge.svg\" alt=\"Open In Colab\"/></a>"
      ]
    },
    {
      "cell_type": "code",
      "metadata": {
        "id": "-UnHoHsFop-8"
      },
      "source": [
        "import numpy as np\n",
        "import math\n",
        "import pandas as pd\n",
        "\n",
        "from scipy.stats import poisson, sem, poisson, ttest_ind, shapiro, mannwhitneyu\n",
        "import scipy.stats as stats # for 'f_oneway'\n",
        "from scipy.cluster.hierarchy import cophenet\n",
        "from scipy.spatial.distance import pdist\n",
        "\n",
        "# from sklearn import linear_model \n",
        "# from sklearn.cluster import AgglomerativeClustering\n",
        "# from sklearn.decomposition import PCA\n",
        "# from sklearn.model_selection import train_test_split\n",
        "# from sklearn.linear_model import LogisticRegression\n",
        "# from sklearn.metrics import brier_score_loss\n",
        "\n",
        "# import statsmodels.formula.api as sm # get ANOVA table as R like output\n",
        "# from statsmodels.formula.api import ols # Ordinary Least Squares (OLS) model\n",
        "\n",
        "# import matplotlib.pyplot as plt\n",
        "# from IPython.display import display, HTML\n",
        "# from scipy.cluster.hierarchy import dendrogram, linkage\n",
        "# from mpl_toolkits.mplot3d import Axes3D"
      ],
      "execution_count": null,
      "outputs": []
    },
    {
      "cell_type": "markdown",
      "metadata": {
        "id": "Lx0G72bGl7xc"
      },
      "source": [
        "## Biomedical Data Science & AI\n",
        "\n",
        "## Assignment 5\n",
        "\n",
        "#### Group members:  Fabrice Beaumont, Fatemeh Salehi, Genivika Mann, Helia Salimi, Jonah"
      ]
    },
    {
      "cell_type": "markdown",
      "metadata": {
        "id": "nNUkZ9ndVhDw"
      },
      "source": [
        "---\n",
        "*COMMENT @ the tutors: If you are not able to provide a ipynb file for these tutorial, could you PLEASE just f***ing stick to either capital or lower case k in \"K/k-means\"??????????!!!!!\n",
        "And what is up with the strange exercise naming conventions like in Exercise 3 (same in Ex 3 from assignment 3)?*"
      ]
    },
    {
      "cell_type": "markdown",
      "metadata": {
        "id": "-fhYMe5ml7xo"
      },
      "source": [
        "---\n",
        "### Exercise 1 - *k*-means clustering\n"
      ]
    },
    {
      "cell_type": "markdown",
      "metadata": {
        "id": "JN3egxQomuP8"
      },
      "source": [
        "#### 1.1. Use the $k$-means algorithm and Euclidean distance to cluster the 10 data points into $k=3$ clusters. The coordinates of the data points are given in table 1. Use the data points a4, a5 and a8 as initialization and perform 2 iteration steps. You can do the cluster assignment also visually without computing the exact distances."
      ]
    },
    {
      "cell_type": "markdown",
      "metadata": {
        "id": "jgUkN-nGziCe"
      },
      "source": [
        "#### 1.2. Shown are the results of a $k$-means clustering with three different initializations:"
      ]
    },
    {
      "cell_type": "code",
      "metadata": {
        "id": "qENpGYCXaidK",
        "colab": {
          "base_uri": "https://localhost:8080/"
        },
        "outputId": "9dace2d0-fd67-4aa1-8f32-621fb468281c"
      },
      "source": [
        "![](\"https://raw.githubusercontent.com/D34dP0oL/4216_Biomedical_DS_and_AI/main/Sheet5/img_sheet5_ex1-2.png\")"
      ],
      "execution_count": null,
      "outputs": [
        {
          "output_type": "stream",
          "text": [
            "/bin/bash: -c: line 0: syntax error near unexpected token `\"https://raw.githubusercontent.com/D34dP0oL/4216_Biomedical_DS_and_AI/main/Sheet5/img_sheet5_ex1-2.png\"'\n",
            "/bin/bash: -c: line 0: `[](\"https://raw.githubusercontent.com/D34dP0oL/4216_Biomedical_DS_and_AI/main/Sheet5/img_sheet5_ex1-2.png\")'\n"
          ],
          "name": "stdout"
        }
      ]
    },
    {
      "cell_type": "markdown",
      "metadata": {
        "id": "kv2IOiOgzo4-"
      },
      "source": [
        "##### 1.1.a. How does the choice of the initial starting points affect the clustering?"
      ]
    },
    {
      "cell_type": "markdown",
      "metadata": {
        "id": "vOQQDYxMTksV"
      },
      "source": [
        "##### 1.1.b. How can you avoid getting a clustering result that is dependent on the initialization?"
      ]
    },
    {
      "cell_type": "markdown",
      "metadata": {
        "id": "DkBRqSb8To0k"
      },
      "source": [
        "##### 1.1.c. What are the pros and cons of the $k$-means clustering?"
      ]
    },
    {
      "cell_type": "markdown",
      "metadata": {
        "id": "--yXR035TzjV"
      },
      "source": [
        "#### 1.3. Use the provided breast cancer data (cancer.csv) to perform a $k$-means clustering. Perform the clustering for a range of clusters between 2 and 10. Set the `random_state` to 20 to keep reproducibility."
      ]
    },
    {
      "cell_type": "markdown",
      "metadata": {
        "id": "c2yOLM1vUIyE"
      },
      "source": [
        "##### 1.3.a. For each clustering plot the cluster assignment within a scatter plot for the features `mean radius` and `mean concavity`."
      ]
    },
    {
      "cell_type": "markdown",
      "metadata": {
        "id": "3OqTjrrZUTuE"
      },
      "source": [
        "##### 1.3.b. For each clustering create silhouette plots and print out the score."
      ]
    },
    {
      "cell_type": "markdown",
      "metadata": {
        "id": "yDvn67mRUXvu"
      },
      "source": [
        "##### 1.3.c. Which is the best choice for the number of clusters? Why?"
      ]
    },
    {
      "cell_type": "markdown",
      "metadata": {
        "id": "gbORYUjhUclV"
      },
      "source": [
        "#### 1.4. Explain the difference between $k$-means and $k$-medoids."
      ]
    },
    {
      "cell_type": "markdown",
      "metadata": {
        "id": "-fZhD8jFUi4H"
      },
      "source": [
        "---\n",
        "### Exercise 2 - Gaussian misture models"
      ]
    },
    {
      "cell_type": "markdown",
      "metadata": {
        "id": "yO4Nb_IdUoKT"
      },
      "source": [
        "#### 2.1. Explain the EM-Algorithm in your own words, without using any formula. "
      ]
    },
    {
      "cell_type": "markdown",
      "metadata": {
        "id": "pLI5-4gqUtga"
      },
      "source": [
        "#### 2.2.  The complexity of the Gaussian mixture model can be controlled by restricting how the covariance matrices are allowed to vary. Assume your data has three features and you want to cluster it into 2 clusters."
      ]
    },
    {
      "cell_type": "markdown",
      "metadata": {
        "id": "4_1WNYHVUyFu"
      },
      "source": [
        "##### 2.2.a. How many parameters (depending on the number of clusters) need to be estimated in the most general model (no restrictions on the covariances)?"
      ]
    },
    {
      "cell_type": "markdown",
      "metadata": {
        "id": "Mg5w9Iy8U40B"
      },
      "source": [
        "##### 2.2.b. Assuming that there is no correlation between the variables for each Gaussian, how many parameters does this model need to estimate?"
      ]
    },
    {
      "cell_type": "markdown",
      "metadata": {
        "id": "CHVaykpYU8Al"
      },
      "source": [
        "##### 2.2.c. Assuming that there is neither correlation nor does the variation for each feature change. How many parameters does the model have to estimate now?"
      ]
    },
    {
      "cell_type": "markdown",
      "metadata": {
        "id": "foH3ZFQwVBui"
      },
      "source": [
        "#### 2.3. Cluster the breast cancer dataset (on the entire dataset: `cancer_all.csv`) with the help of a Gaussian mixture model. Perform the clustering for a range of clusters between 2 and 10 and for all possible assumptions for the covariance matrices. Plot the BIC of each clustering."
      ]
    },
    {
      "cell_type": "markdown",
      "metadata": {
        "id": "G2cR-PKkVF3s"
      },
      "source": [
        "##### 2.3.a. Which is the best choice for the clustering? Why?"
      ]
    },
    {
      "cell_type": "markdown",
      "metadata": {
        "id": "AQ2q7CYWVJ0O"
      },
      "source": [
        "##### 2.3.b. Plot the data (features `mean radius` and `mean compactness`), the cluster assignment and ellipses (to show the Gaussian component) for your selected model."
      ]
    },
    {
      "cell_type": "markdown",
      "metadata": {
        "id": "vZv80vtlVT_v"
      },
      "source": [
        "#### 2.4. How does the $k$-means model differ from the GMM model? Which model would you prefer for the given data and why?"
      ]
    },
    {
      "cell_type": "markdown",
      "metadata": {
        "id": "HfmBEcakVX5k"
      },
      "source": [
        "#### 2.5. Generate the $k$-Means model for the entire dataset and visualise both $k$-Mean and GMM models using PCA."
      ]
    },
    {
      "cell_type": "markdown",
      "metadata": {
        "id": "rh4HqPVHVdfo"
      },
      "source": [
        "#### 2.6. What are the advantages of GMMs over $k$-means?"
      ]
    },
    {
      "cell_type": "markdown",
      "metadata": {
        "id": "eiro6AhwYmn8"
      },
      "source": [
        "---\n",
        "### Exercise 3 - Consensus clustering\n",
        "\n",
        "Perform (k-means) consensus clustering of samples for the given gene\n",
        "expression data allData.csv. Take minimum clusters as 2, maximum clusters as\n",
        "6, resampling proportion as 80% and number of iterations as 10. Find the\n",
        "following:"
      ]
    },
    {
      "cell_type": "markdown",
      "metadata": {
        "id": "gyWNacEbYrLx"
      },
      "source": [
        "#### 3.1. Best number of clusters."
      ]
    },
    {
      "cell_type": "markdown",
      "metadata": {
        "id": "_VD2RDVuYxQW"
      },
      "source": [
        "#### 3.2. Change in area under CDF."
      ]
    },
    {
      "cell_type": "markdown",
      "metadata": {
        "id": "AsbQAaMbY7q1"
      },
      "source": [
        "#### 3.3. Best cluster from the consensus matrix for each sample."
      ]
    }
  ]
}