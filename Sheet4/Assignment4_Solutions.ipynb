{
  "nbformat": 4,
  "nbformat_minor": 0,
  "metadata": {
    "kernelspec": {
      "display_name": "Python 3",
      "language": "python",
      "name": "python3"
    },
    "language_info": {
      "codemirror_mode": {
        "name": "ipython",
        "version": 3
      },
      "file_extension": ".py",
      "mimetype": "text/x-python",
      "name": "python",
      "nbconvert_exporter": "python",
      "pygments_lexer": "ipython3",
      "version": "3.7.7"
    },
    "colab": {
      "name": "Copy of Assignment4_Solutions.ipynb",
      "provenance": [],
      "collapsed_sections": [
        "kltDaoYgnP8w",
        "vl6_LuFLwWUx",
        "wmahsY6jwiQ2",
        "FE8B6jmKxktN"
      ],
      "toc_visible": true,
      "include_colab_link": true
    }
  },
  "cells": [
    {
      "cell_type": "markdown",
      "metadata": {
        "id": "view-in-github",
        "colab_type": "text"
      },
      "source": [
        "<a href=\"https://colab.research.google.com/github/D34dP0oL/4216_Biomedical_DS_and_AI/blob/main/Sheet4/Assignment4_Solutions.ipynb\" target=\"_parent\"><img src=\"https://colab.research.google.com/assets/colab-badge.svg\" alt=\"Open In Colab\"/></a>"
      ]
    },
    {
      "cell_type": "code",
      "metadata": {
        "id": "-UnHoHsFop-8",
        "outputId": "a6915f24-cbb7-490c-f8f7-6b31d2982e35",
        "colab": {
          "base_uri": "https://localhost:8080/"
        }
      },
      "source": [
        "import numpy as np\n",
        "import math\n",
        "from scipy.stats import poisson, sem, poisson, ttest_ind, shapiro, mannwhitneyu\n",
        "import pandas as pd\n",
        "from sklearn import linear_model \n",
        "import statsmodels.formula.api as sm\n",
        "\n",
        "import matplotlib.pyplot as plt\n",
        "from IPython.display import display, HTML"
      ],
      "execution_count": 1,
      "outputs": [
        {
          "output_type": "stream",
          "text": [
            "/usr/local/lib/python3.7/dist-packages/statsmodels/tools/_testing.py:19: FutureWarning: pandas.util.testing is deprecated. Use the functions in the public API at pandas.testing instead.\n",
            "  import pandas.util.testing as tm\n"
          ],
          "name": "stderr"
        }
      ]
    },
    {
      "cell_type": "markdown",
      "metadata": {
        "id": "Lx0G72bGl7xc"
      },
      "source": [
        "## Biomedical Data Science & AI\n",
        "\n",
        "## Assignment 4\n",
        "\n",
        "#### Group members:  Fabrice Beaumont, Fatemeh Salehi, Genivika Mann, Helia Salimi, Jonah"
      ]
    },
    {
      "cell_type": "markdown",
      "metadata": {
        "id": "-fhYMe5ml7xo"
      },
      "source": [
        "---\n",
        "### Exercise 1 - ANOVA *F*-test and Hierarchical Clustering\n",
        "Load the leukemia dataset (`leukemia.csv`). It contains gene expression data of 1397 genes from 38\n",
        "tumor mRNA samples. The expression data is organized in a matrix where rows\n",
        "correspond to genes and columns to samples. The tumor class of the columns is given in the file `golub.cl`."
      ]
    },
    {
      "cell_type": "code",
      "metadata": {
        "id": "wMn6Hjmo7jK_",
        "outputId": "c6c5c25b-79da-4aec-a501-dfa3007f3ca5",
        "colab": {
          "base_uri": "https://localhost:8080/",
          "height": 247
        }
      },
      "source": [
        "leukemia_db = pd.read_csv('https://raw.githubusercontent.com/D34dP0oL/4216_Biomedical_DS_and_AI/main/Sheet4/leukemia.csv')\n",
        "leukemia_db.head(4)"
      ],
      "execution_count": 5,
      "outputs": [
        {
          "output_type": "execute_result",
          "data": {
            "text/html": [
              "<div>\n",
              "<style scoped>\n",
              "    .dataframe tbody tr th:only-of-type {\n",
              "        vertical-align: middle;\n",
              "    }\n",
              "\n",
              "    .dataframe tbody tr th {\n",
              "        vertical-align: top;\n",
              "    }\n",
              "\n",
              "    .dataframe thead th {\n",
              "        text-align: right;\n",
              "    }\n",
              "</style>\n",
              "<table border=\"1\" class=\"dataframe\">\n",
              "  <thead>\n",
              "    <tr style=\"text-align: right;\">\n",
              "      <th></th>\n",
              "      <th>gene_name</th>\n",
              "      <th>V1</th>\n",
              "      <th>V2</th>\n",
              "      <th>V3</th>\n",
              "      <th>V4</th>\n",
              "      <th>V5</th>\n",
              "      <th>V6</th>\n",
              "      <th>V7</th>\n",
              "      <th>V8</th>\n",
              "      <th>V9</th>\n",
              "      <th>V10</th>\n",
              "      <th>V11</th>\n",
              "      <th>V12</th>\n",
              "      <th>V13</th>\n",
              "      <th>V14</th>\n",
              "      <th>V15</th>\n",
              "      <th>V16</th>\n",
              "      <th>V17</th>\n",
              "      <th>V18</th>\n",
              "      <th>V19</th>\n",
              "      <th>V20</th>\n",
              "      <th>V21</th>\n",
              "      <th>V22</th>\n",
              "      <th>V23</th>\n",
              "      <th>V24</th>\n",
              "      <th>V25</th>\n",
              "      <th>V26</th>\n",
              "      <th>V27</th>\n",
              "      <th>V28</th>\n",
              "      <th>V29</th>\n",
              "      <th>V30</th>\n",
              "      <th>V31</th>\n",
              "      <th>V32</th>\n",
              "      <th>V33</th>\n",
              "      <th>V34</th>\n",
              "      <th>V35</th>\n",
              "      <th>V36</th>\n",
              "      <th>V37</th>\n",
              "      <th>V38</th>\n",
              "    </tr>\n",
              "  </thead>\n",
              "  <tbody>\n",
              "    <tr>\n",
              "      <th>0</th>\n",
              "      <td>AFFX-HUMISGF3A/M97935_3_at</td>\n",
              "      <td>0.45695</td>\n",
              "      <td>-0.09654</td>\n",
              "      <td>0.90325</td>\n",
              "      <td>-0.07194</td>\n",
              "      <td>0.03232</td>\n",
              "      <td>0.09713</td>\n",
              "      <td>-0.11978</td>\n",
              "      <td>0.23381</td>\n",
              "      <td>0.23987</td>\n",
              "      <td>0.44201</td>\n",
              "      <td>-0.39560</td>\n",
              "      <td>-0.62533</td>\n",
              "      <td>0.45181</td>\n",
              "      <td>1.09519</td>\n",
              "      <td>1.09318</td>\n",
              "      <td>0.34300</td>\n",
              "      <td>0.20010</td>\n",
              "      <td>0.38992</td>\n",
              "      <td>0.00641</td>\n",
              "      <td>1.10932</td>\n",
              "      <td>0.21952</td>\n",
              "      <td>-0.72267</td>\n",
              "      <td>0.51690</td>\n",
              "      <td>0.28577</td>\n",
              "      <td>0.61937</td>\n",
              "      <td>0.20085</td>\n",
              "      <td>0.29278</td>\n",
              "      <td>0.26624</td>\n",
              "      <td>-0.43377</td>\n",
              "      <td>-0.10823</td>\n",
              "      <td>-0.29385</td>\n",
              "      <td>0.05067</td>\n",
              "      <td>1.69430</td>\n",
              "      <td>-0.12472</td>\n",
              "      <td>0.04609</td>\n",
              "      <td>0.24347</td>\n",
              "      <td>0.90774</td>\n",
              "      <td>0.46509</td>\n",
              "    </tr>\n",
              "    <tr>\n",
              "      <th>1</th>\n",
              "      <td>AFFX-HUMTFRR/M11507_5_at</td>\n",
              "      <td>-0.56223</td>\n",
              "      <td>0.05358</td>\n",
              "      <td>0.12612</td>\n",
              "      <td>-0.84016</td>\n",
              "      <td>-0.43710</td>\n",
              "      <td>-0.38536</td>\n",
              "      <td>-0.87284</td>\n",
              "      <td>0.07453</td>\n",
              "      <td>-0.36118</td>\n",
              "      <td>-1.21583</td>\n",
              "      <td>-0.40243</td>\n",
              "      <td>-0.19383</td>\n",
              "      <td>-0.82254</td>\n",
              "      <td>-0.97149</td>\n",
              "      <td>-0.91163</td>\n",
              "      <td>-1.12340</td>\n",
              "      <td>-0.22390</td>\n",
              "      <td>-0.13425</td>\n",
              "      <td>-0.77756</td>\n",
              "      <td>-0.73043</td>\n",
              "      <td>-1.06221</td>\n",
              "      <td>-0.13176</td>\n",
              "      <td>-0.02375</td>\n",
              "      <td>-0.62739</td>\n",
              "      <td>-0.15690</td>\n",
              "      <td>-0.77535</td>\n",
              "      <td>-0.84190</td>\n",
              "      <td>0.33921</td>\n",
              "      <td>0.51484</td>\n",
              "      <td>-0.13601</td>\n",
              "      <td>-0.16682</td>\n",
              "      <td>-0.20888</td>\n",
              "      <td>0.25911</td>\n",
              "      <td>-0.21631</td>\n",
              "      <td>0.19129</td>\n",
              "      <td>-0.57687</td>\n",
              "      <td>0.44808</td>\n",
              "      <td>1.19275</td>\n",
              "    </tr>\n",
              "    <tr>\n",
              "      <th>2</th>\n",
              "      <td>AFFX-M27830_M_at</td>\n",
              "      <td>2.40116</td>\n",
              "      <td>1.83222</td>\n",
              "      <td>1.62478</td>\n",
              "      <td>1.59089</td>\n",
              "      <td>0.75700</td>\n",
              "      <td>2.32267</td>\n",
              "      <td>1.64407</td>\n",
              "      <td>2.10957</td>\n",
              "      <td>1.64361</td>\n",
              "      <td>0.32217</td>\n",
              "      <td>1.94740</td>\n",
              "      <td>3.03783</td>\n",
              "      <td>0.57267</td>\n",
              "      <td>1.25632</td>\n",
              "      <td>1.76238</td>\n",
              "      <td>0.87822</td>\n",
              "      <td>0.29212</td>\n",
              "      <td>2.75831</td>\n",
              "      <td>0.94379</td>\n",
              "      <td>0.19046</td>\n",
              "      <td>1.26587</td>\n",
              "      <td>3.06374</td>\n",
              "      <td>3.29195</td>\n",
              "      <td>0.74052</td>\n",
              "      <td>2.98852</td>\n",
              "      <td>1.64597</td>\n",
              "      <td>2.17242</td>\n",
              "      <td>1.54761</td>\n",
              "      <td>1.03327</td>\n",
              "      <td>1.16119</td>\n",
              "      <td>2.25875</td>\n",
              "      <td>1.62017</td>\n",
              "      <td>0.91712</td>\n",
              "      <td>1.50523</td>\n",
              "      <td>2.21754</td>\n",
              "      <td>1.23143</td>\n",
              "      <td>1.87913</td>\n",
              "      <td>2.49036</td>\n",
              "    </tr>\n",
              "    <tr>\n",
              "      <th>3</th>\n",
              "      <td>AFFX-HUMGAPDH/M33197_3_st</td>\n",
              "      <td>0.10806</td>\n",
              "      <td>0.08245</td>\n",
              "      <td>0.48019</td>\n",
              "      <td>-0.29554</td>\n",
              "      <td>-1.25777</td>\n",
              "      <td>0.40172</td>\n",
              "      <td>0.06140</td>\n",
              "      <td>-0.33715</td>\n",
              "      <td>0.22733</td>\n",
              "      <td>-0.57804</td>\n",
              "      <td>0.07233</td>\n",
              "      <td>0.81717</td>\n",
              "      <td>-1.08971</td>\n",
              "      <td>-0.13572</td>\n",
              "      <td>-0.09442</td>\n",
              "      <td>-0.72484</td>\n",
              "      <td>-1.00308</td>\n",
              "      <td>0.18150</td>\n",
              "      <td>-0.40358</td>\n",
              "      <td>-0.64389</td>\n",
              "      <td>-1.02620</td>\n",
              "      <td>0.25894</td>\n",
              "      <td>-0.19135</td>\n",
              "      <td>-1.48332</td>\n",
              "      <td>0.76284</td>\n",
              "      <td>-0.66419</td>\n",
              "      <td>-0.18517</td>\n",
              "      <td>-0.04229</td>\n",
              "      <td>-1.08902</td>\n",
              "      <td>-0.48494</td>\n",
              "      <td>-0.25817</td>\n",
              "      <td>-0.44108</td>\n",
              "      <td>-0.20584</td>\n",
              "      <td>0.29198</td>\n",
              "      <td>-0.01033</td>\n",
              "      <td>-0.08370</td>\n",
              "      <td>-0.11911</td>\n",
              "      <td>0.48378</td>\n",
              "    </tr>\n",
              "  </tbody>\n",
              "</table>\n",
              "</div>"
            ],
            "text/plain": [
              "                    gene_name       V1       V2  ...      V36      V37      V38\n",
              "0  AFFX-HUMISGF3A/M97935_3_at  0.45695 -0.09654  ...  0.24347  0.90774  0.46509\n",
              "1    AFFX-HUMTFRR/M11507_5_at -0.56223  0.05358  ... -0.57687  0.44808  1.19275\n",
              "2            AFFX-M27830_M_at  2.40116  1.83222  ...  1.23143  1.87913  2.49036\n",
              "3   AFFX-HUMGAPDH/M33197_3_st  0.10806  0.08245  ... -0.08370 -0.11911  0.48378\n",
              "\n",
              "[4 rows x 39 columns]"
            ]
          },
          "metadata": {
            "tags": []
          },
          "execution_count": 5
        }
      ]
    },
    {
      "cell_type": "code",
      "metadata": {
        "id": "yJcfbktB8SLp",
        "outputId": "b695f160-856b-40c0-bd10-6a6d05766865",
        "colab": {
          "base_uri": "https://localhost:8080/"
        }
      },
      "source": [
        "leukemia_db.shape"
      ],
      "execution_count": 7,
      "outputs": [
        {
          "output_type": "execute_result",
          "data": {
            "text/plain": [
              "(1397, 39)"
            ]
          },
          "metadata": {
            "tags": []
          },
          "execution_count": 7
        }
      ]
    },
    {
      "cell_type": "code",
      "metadata": {
        "id": "ZxM8KROA8ZoC",
        "outputId": "5d26336a-9461-45fe-e5da-021868e193da",
        "colab": {
          "base_uri": "https://localhost:8080/",
          "height": 175
        }
      },
      "source": [
        "tumor_class_db = pd.read_csv('https://raw.githubusercontent.com/D34dP0oL/4216_Biomedical_DS_and_AI/main/Sheet4/golub.cl.csv', index_col='Unnamed: 0')\n",
        "tumor_class_db.head(4)"
      ],
      "execution_count": 11,
      "outputs": [
        {
          "output_type": "execute_result",
          "data": {
            "text/html": [
              "<div>\n",
              "<style scoped>\n",
              "    .dataframe tbody tr th:only-of-type {\n",
              "        vertical-align: middle;\n",
              "    }\n",
              "\n",
              "    .dataframe tbody tr th {\n",
              "        vertical-align: top;\n",
              "    }\n",
              "\n",
              "    .dataframe thead th {\n",
              "        text-align: right;\n",
              "    }\n",
              "</style>\n",
              "<table border=\"1\" class=\"dataframe\">\n",
              "  <thead>\n",
              "    <tr style=\"text-align: right;\">\n",
              "      <th></th>\n",
              "      <th>x</th>\n",
              "    </tr>\n",
              "  </thead>\n",
              "  <tbody>\n",
              "    <tr>\n",
              "      <th>1</th>\n",
              "      <td>0</td>\n",
              "    </tr>\n",
              "    <tr>\n",
              "      <th>2</th>\n",
              "      <td>0</td>\n",
              "    </tr>\n",
              "    <tr>\n",
              "      <th>3</th>\n",
              "      <td>0</td>\n",
              "    </tr>\n",
              "    <tr>\n",
              "      <th>4</th>\n",
              "      <td>0</td>\n",
              "    </tr>\n",
              "  </tbody>\n",
              "</table>\n",
              "</div>"
            ],
            "text/plain": [
              "   x\n",
              "1  0\n",
              "2  0\n",
              "3  0\n",
              "4  0"
            ]
          },
          "metadata": {
            "tags": []
          },
          "execution_count": 11
        }
      ]
    },
    {
      "cell_type": "code",
      "metadata": {
        "id": "xZYiygJO_97L",
        "outputId": "363fdff3-5ddb-4acf-9f48-8c5fa27d3c9d",
        "colab": {
          "base_uri": "https://localhost:8080/"
        }
      },
      "source": [
        "### Lets check, that exactly two types of Leukemia (0 and 1) are identified\n",
        "tumor_class_db.values.T"
      ],
      "execution_count": 14,
      "outputs": [
        {
          "output_type": "execute_result",
          "data": {
            "text/plain": [
              "array([[0, 0, 0, 0, 0, 0, 0, 0, 0, 0, 0, 0, 0, 0, 0, 0, 0, 0, 0, 0, 0, 0,\n",
              "        0, 0, 0, 0, 0, 1, 1, 1, 1, 1, 1, 1, 1, 1, 1, 1]])"
            ]
          },
          "metadata": {
            "tags": []
          },
          "execution_count": 14
        }
      ]
    },
    {
      "cell_type": "markdown",
      "metadata": {
        "id": "JN3egxQomuP8"
      },
      "source": [
        "#### 1.1. ANOVA *F*-test"
      ]
    },
    {
      "cell_type": "markdown",
      "metadata": {
        "id": "jgUkN-nGziCe"
      },
      "source": [
        "##### 1.1.a. What are the assumptions of the ANOVA *F*-test?"
      ]
    },
    {
      "cell_type": "markdown",
      "metadata": {
        "id": "GChOs4tB872B"
      },
      "source": [
        "To conduct an ANOVA *F*-test one assumes that:\n",
        "- The variances in the studied groups of samples is the same (**homoscedasticity**)\n",
        "- A linear model can sufficiently fit the group means (**no heteroscedastic noise**).\n",
        "- The residuals are normally distributed.\n",
        "\n",
        "Sidenote to the foreign words:\n",
        "- A vector of random variables is **homoscedastic**, if all its random variables have the same finite variance.\n",
        "- A vector of random variables is \"heteroscedastic\", if the variability of the random disturbance is different across elements of the vector\n",
        "\n",
        "(Greek: *hetero* \"different\", *homo* \"equal\", *skedasis* \"dispersion\")"
      ]
    },
    {
      "cell_type": "markdown",
      "metadata": {
        "id": "kv2IOiOgzo4-"
      },
      "source": [
        "##### 1.1.b. For each gene in the dataset, perform the ANOVA *F*-test (assumptions are already met) to see whether the gene is significantly differentially expressed between the two types of Leukemia."
      ]
    },
    {
      "cell_type": "code",
      "metadata": {
        "id": "yKIhJYAI-2Or"
      },
      "source": [
        "### For every gene we conduct an ANOVA F-test with the same null hypothesis:\n",
        "### Null hypothesis: \"The group means of type 0 of Leukemia and type 1 of Leukemia are equal.\""
      ],
      "execution_count": null,
      "outputs": []
    },
    {
      "cell_type": "markdown",
      "metadata": {
        "id": "gDPCQCvVzpYR"
      },
      "source": [
        "##### 1.1.c. Due to our analysis, we now know which genes are significantly differentially expressed between groups. These will be the best features to use in order to get good cluster separation. Subset only the rows which represent the top 100 most significant genes."
      ]
    },
    {
      "cell_type": "markdown",
      "metadata": {
        "id": "wlJUEarCm1m_"
      },
      "source": [
        "#### 1.2. Plot 2 dendrograms using the 100 selected genes:"
      ]
    },
    {
      "cell_type": "markdown",
      "metadata": {
        "id": "OFHhgaNBz5Em"
      },
      "source": [
        "##### 1.2.a. One for a single linkage approach and another one for ward approach."
      ]
    },
    {
      "cell_type": "markdown",
      "metadata": {
        "id": "MMD9cjz5z9PT"
      },
      "source": [
        "##### 1.2.b. Which method would you recommend based on the dendrograms for a clustering? Why?"
      ]
    },
    {
      "cell_type": "markdown",
      "metadata": {
        "id": "KC8Rw6kM0Byv"
      },
      "source": [
        "##### 1.2.c. Familiarize yourself with **Cophenetic correlation coefficient** and calculate the cophenetic correlation distance for both single linkage as well as ward."
      ]
    },
    {
      "cell_type": "markdown",
      "metadata": {
        "id": "WkyKxdZl0EbS"
      },
      "source": [
        "##### 1.2.d. Based on the cophenetic correlation distance, which clustering method performed better?"
      ]
    },
    {
      "cell_type": "markdown",
      "metadata": {
        "id": "DSMfw49om1XF"
      },
      "source": [
        "#### 1.3. Apply two Agglomerative Clustering."
      ]
    },
    {
      "cell_type": "markdown",
      "metadata": {
        "id": "30cuJTn80WwX"
      },
      "source": [
        "##### 1.3.a. One using single linkage and one using **ward method**."
      ]
    },
    {
      "cell_type": "markdown",
      "metadata": {
        "id": "kltDaoYgnP8w"
      },
      "source": [
        "---\n",
        "### Exercise 2 - PCA\n",
        "Using the same leukemia dataset generate the feature matrix (transposed leukemia dataset) and the class labels (`golub.cl.csv`)."
      ]
    },
    {
      "cell_type": "markdown",
      "metadata": {
        "id": "GNYuBGE6l7xz"
      },
      "source": [
        "#### 2.1. Perform a PCA on the feature matrix and answer the following questions:"
      ]
    },
    {
      "cell_type": "markdown",
      "metadata": {
        "id": "V7VlH2yTvXnA"
      },
      "source": [
        "##### 2.1.a. How many PC’s do you need to explain at least 95% of the variance?"
      ]
    },
    {
      "cell_type": "markdown",
      "metadata": {
        "id": "PFigoT8708-D"
      },
      "source": [
        "##### 2.1.b. Make a scatterplot of the projections on the first two PC‘s with the colouring corresponding to the class labels."
      ]
    },
    {
      "cell_type": "markdown",
      "metadata": {
        "id": "K3TqySYc09tD"
      },
      "source": [
        "##### 2.1.c. Based on the scatterplot answer the following questions:"
      ]
    },
    {
      "cell_type": "markdown",
      "metadata": {
        "id": "La8WszKA1RSN"
      },
      "source": [
        "- Given the plot, do you think PCA might be a good choice? Why?"
      ]
    },
    {
      "cell_type": "markdown",
      "metadata": {
        "id": "J3vBsKyQ1Tdm"
      },
      "source": [
        "- Do you think n=2 components are a good choice? Why?"
      ]
    },
    {
      "cell_type": "markdown",
      "metadata": {
        "id": "WgXrlr5Sv2cL"
      },
      "source": [
        "#### 2.2. Inform yourself regarding decorrelation of features in a dataset."
      ]
    },
    {
      "cell_type": "markdown",
      "metadata": {
        "id": "vAP3M5I6wRPC"
      },
      "source": [
        "##### 2.2.a. Identify the correlated features in the dataset."
      ]
    },
    {
      "cell_type": "markdown",
      "metadata": {
        "id": "C-cN5YV8wS44"
      },
      "source": [
        "##### 2.2.b. Decorrelate the correlated datasets."
      ]
    },
    {
      "cell_type": "markdown",
      "metadata": {
        "id": "OiCxQdDRwUpw"
      },
      "source": [
        "##### 2.2.c. What is the purpose of carrying out decorrelation of features in a dataset?"
      ]
    },
    {
      "cell_type": "markdown",
      "metadata": {
        "id": "wmahsY6jwiQ2"
      },
      "source": [
        "---\n",
        "### Exercise 3 - Logistic Regression"
      ]
    },
    {
      "cell_type": "markdown",
      "metadata": {
        "id": "mMcV-oNXxKvB"
      },
      "source": [
        "#### 3.1. Using the reduced dataset from exercise 2.1, carry out the following tasks:"
      ]
    },
    {
      "cell_type": "markdown",
      "metadata": {
        "id": "2ZJpoPZP1wUb"
      },
      "source": [
        "##### 3.1.a Generate a logistic regression model on the first 5 PCs of the reduced dataset using 80% of the total samples."
      ]
    },
    {
      "cell_type": "markdown",
      "metadata": {
        "id": "fpzosc2L107E"
      },
      "source": [
        "##### 3.1.b. Predict the labels for the remaining 20% of the samples and calculate your model’s accuracy"
      ]
    },
    {
      "cell_type": "markdown",
      "metadata": {
        "id": "Flkiv7B_xOSs"
      },
      "source": [
        "#### 3.2. Inform yourself about **Brier’s Score**. How can it be used to evaluate the performance of your model? Show by implementation."
      ]
    },
    {
      "cell_type": "markdown",
      "metadata": {
        "id": "ShLPrjDyxS09"
      },
      "source": [
        "#### 3.3. Assess the significance of your variables using the likelihood ratio test."
      ]
    }
  ]
}