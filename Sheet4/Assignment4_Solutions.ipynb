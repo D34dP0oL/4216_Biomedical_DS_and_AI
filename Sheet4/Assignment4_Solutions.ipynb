{
  "nbformat": 4,
  "nbformat_minor": 0,
  "metadata": {
    "kernelspec": {
      "display_name": "Python 3",
      "language": "python",
      "name": "python3"
    },
    "language_info": {
      "codemirror_mode": {
        "name": "ipython",
        "version": 3
      },
      "file_extension": ".py",
      "mimetype": "text/x-python",
      "name": "python",
      "nbconvert_exporter": "python",
      "pygments_lexer": "ipython3",
      "version": "3.7.7"
    },
    "colab": {
      "name": "Copy of Assignment4_Solutions.ipynb",
      "provenance": [],
      "collapsed_sections": [
        "kltDaoYgnP8w",
        "vl6_LuFLwWUx",
        "wmahsY6jwiQ2",
        "FE8B6jmKxktN"
      ],
      "include_colab_link": true
    }
  },
  "cells": [
    {
      "cell_type": "markdown",
      "metadata": {
        "id": "view-in-github",
        "colab_type": "text"
      },
      "source": [
        "<a href=\"https://colab.research.google.com/github/D34dP0oL/4216_Biomedical_DS_and_AI/blob/main/Assignment4_Solutions.ipynb\" target=\"_parent\"><img src=\"https://colab.research.google.com/assets/colab-badge.svg\" alt=\"Open In Colab\"/></a>"
      ]
    },
    {
      "cell_type": "code",
      "metadata": {
        "id": "-UnHoHsFop-8"
      },
      "source": [
        "import numpy as np\n",
        "import math\n",
        "from scipy.stats import poisson, sem, poisson, ttest_ind, shapiro, mannwhitneyu\n",
        "import pandas as pd\n",
        "from sklearn import linear_model \n",
        "import statsmodels.formula.api as sm\n",
        "\n",
        "import matplotlib.pyplot as plt\n",
        "from IPython.display import display, HTML"
      ],
      "execution_count": null,
      "outputs": []
    },
    {
      "cell_type": "markdown",
      "metadata": {
        "id": "Lx0G72bGl7xc"
      },
      "source": [
        "## Biomedical Data Science & AI\n",
        "\n",
        "## Assignment 4\n",
        "\n",
        "#### Group members:  Fabrice Beaumont, Fatemeh Salehi, Genivika Mann, Helia Salimi, Jonah"
      ]
    },
    {
      "cell_type": "markdown",
      "metadata": {
        "id": "-fhYMe5ml7xo"
      },
      "source": [
        "---\n",
        "### Exercise 1 - ANOVA *F*-test and Hierarchical Clustering\n",
        "Load the **leukemia dataset**. It contains gene expression data of 1397 genes from 38\n",
        "tumor mRNA samples. The expression data is organized in a matrix where rows\n",
        "correspond to genes and columns to samples. The tumor class of the columns is given\n",
        "in the file `golub.cl`."
      ]
    },
    {
      "cell_type": "markdown",
      "metadata": {
        "id": "JN3egxQomuP8"
      },
      "source": [
        "#### 1.1. ANOVA *F*-test"
      ]
    },
    {
      "cell_type": "markdown",
      "metadata": {
        "id": "jgUkN-nGziCe"
      },
      "source": [
        "##### 1.1.a. What are the assumptions of the ANOVA *F*-test?"
      ]
    },
    {
      "cell_type": "markdown",
      "metadata": {
        "id": "kv2IOiOgzo4-"
      },
      "source": [
        "##### 1.1.b. For each gene in the dataset, perform the ANOVA *F*-test (assumptions are already met) to see whether the gene is significantly differentially expressed between the two types of Leukemia."
      ]
    },
    {
      "cell_type": "markdown",
      "metadata": {
        "id": "gDPCQCvVzpYR"
      },
      "source": [
        "##### 1.1.c. Due to our analysis, we now know which genes are significantly differentially expressed between groups. These will be the best features to use in order to get good cluster separation. Subset only the rows which represent the top 100 most significant genes."
      ]
    },
    {
      "cell_type": "markdown",
      "metadata": {
        "id": "wlJUEarCm1m_"
      },
      "source": [
        "#### 1.2. Plot 2 dendrograms using the 100 selected genes:"
      ]
    },
    {
      "cell_type": "markdown",
      "metadata": {
        "id": "OFHhgaNBz5Em"
      },
      "source": [
        "##### 1.2.a. One for a single linkage approach and another one for ward approach."
      ]
    },
    {
      "cell_type": "markdown",
      "metadata": {
        "id": "MMD9cjz5z9PT"
      },
      "source": [
        "##### 1.2.b. Which method would you recommend based on the dendrograms for a clustering? Why?"
      ]
    },
    {
      "cell_type": "markdown",
      "metadata": {
        "id": "KC8Rw6kM0Byv"
      },
      "source": [
        "##### 1.2.c. Familiarize yourself with **Cophenetic correlation coefficient** and calculate the cophenetic correlation distance for both single linkage as well as ward."
      ]
    },
    {
      "cell_type": "markdown",
      "metadata": {
        "id": "WkyKxdZl0EbS"
      },
      "source": [
        "##### 1.2.d. Based on the cophenetic correlation distance, which clustering method performed better?"
      ]
    },
    {
      "cell_type": "markdown",
      "metadata": {
        "id": "DSMfw49om1XF"
      },
      "source": [
        "#### 1.3. Apply two Agglomerative Clustering."
      ]
    },
    {
      "cell_type": "markdown",
      "metadata": {
        "id": "30cuJTn80WwX"
      },
      "source": [
        "##### 1.3.a. One using single linkage and one using **ward method**."
      ]
    },
    {
      "cell_type": "markdown",
      "metadata": {
        "id": "kltDaoYgnP8w"
      },
      "source": [
        "---\n",
        "### Exercise 2 - PCA\n",
        "Using the same leukemia dataset generate the feature matrix (transposed leukemia dataset) and the class labels (`golub.cl.csv`)."
      ]
    },
    {
      "cell_type": "markdown",
      "metadata": {
        "id": "GNYuBGE6l7xz"
      },
      "source": [
        "#### 2.1. Perform a PCA on the feature matrix and answer the following questions:"
      ]
    },
    {
      "cell_type": "markdown",
      "metadata": {
        "id": "V7VlH2yTvXnA"
      },
      "source": [
        "##### 2.1.a. How many PC’s do you need to explain at least 95% of the variance?"
      ]
    },
    {
      "cell_type": "markdown",
      "metadata": {
        "id": "PFigoT8708-D"
      },
      "source": [
        "##### 2.1.b. Make a scatterplot of the projections on the first two PC‘s with the colouring corresponding to the class labels."
      ]
    },
    {
      "cell_type": "markdown",
      "metadata": {
        "id": "K3TqySYc09tD"
      },
      "source": [
        "##### 2.1.c. Based on the scatterplot answer the following questions:"
      ]
    },
    {
      "cell_type": "markdown",
      "metadata": {
        "id": "La8WszKA1RSN"
      },
      "source": [
        "- Given the plot, do you think PCA might be a good choice? Why?"
      ]
    },
    {
      "cell_type": "markdown",
      "metadata": {
        "id": "J3vBsKyQ1Tdm"
      },
      "source": [
        "- Do you think n=2 components are a good choice? Why?"
      ]
    },
    {
      "cell_type": "markdown",
      "metadata": {
        "id": "WgXrlr5Sv2cL"
      },
      "source": [
        "#### 2.2. Inform yourself regarding decorrelation of features in a dataset."
      ]
    },
    {
      "cell_type": "markdown",
      "metadata": {
        "id": "vAP3M5I6wRPC"
      },
      "source": [
        "##### 2.2.a. Identify the correlated features in the dataset."
      ]
    },
    {
      "cell_type": "markdown",
      "metadata": {
        "id": "C-cN5YV8wS44"
      },
      "source": [
        "##### 2.2.b. Decorrelate the correlated datasets."
      ]
    },
    {
      "cell_type": "markdown",
      "metadata": {
        "id": "OiCxQdDRwUpw"
      },
      "source": [
        "##### 2.2.c. What is the purpose of carrying out decorrelation of features in a dataset?"
      ]
    },
    {
      "cell_type": "markdown",
      "metadata": {
        "id": "wmahsY6jwiQ2"
      },
      "source": [
        "---\n",
        "### Exercise 3 - Logistic Regression"
      ]
    },
    {
      "cell_type": "markdown",
      "metadata": {
        "id": "mMcV-oNXxKvB"
      },
      "source": [
        "#### 3.1. Using the reduced dataset from exercise 2.1, carry out the following tasks:"
      ]
    },
    {
      "cell_type": "markdown",
      "metadata": {
        "id": "2ZJpoPZP1wUb"
      },
      "source": [
        "##### 3.1.a Generate a logistic regression model on the first 5 PCs of the reduced dataset using 80% of the total samples."
      ]
    },
    {
      "cell_type": "markdown",
      "metadata": {
        "id": "fpzosc2L107E"
      },
      "source": [
        "##### 3.1.b. Predict the labels for the remaining 20% of the samples and calculate your model’s accuracy"
      ]
    },
    {
      "cell_type": "markdown",
      "metadata": {
        "id": "Flkiv7B_xOSs"
      },
      "source": [
        "#### 3.2. Inform yourself about **Brier’s Score**. How can it be used to evaluate the performance of your model? Show by implementation."
      ]
    },
    {
      "cell_type": "markdown",
      "metadata": {
        "id": "ShLPrjDyxS09"
      },
      "source": [
        "#### 3.3. Assess the significance of your variables using the likelihood ratio test."
      ]
    }
  ]
}