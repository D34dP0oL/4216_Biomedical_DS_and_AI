{
  "nbformat": 4,
  "nbformat_minor": 0,
  "metadata": {
    "kernelspec": {
      "display_name": "Python 3",
      "language": "python",
      "name": "python3"
    },
    "language_info": {
      "codemirror_mode": {
        "name": "ipython",
        "version": 3
      },
      "file_extension": ".py",
      "mimetype": "text/x-python",
      "name": "python",
      "nbconvert_exporter": "python",
      "pygments_lexer": "ipython3",
      "version": "3.7.7"
    },
    "colab": {
      "name": "Copy of Assignment4_Solutions.ipynb",
      "provenance": [],
      "collapsed_sections": [
        "kltDaoYgnP8w",
        "vl6_LuFLwWUx",
        "wmahsY6jwiQ2",
        "FE8B6jmKxktN"
      ],
      "include_colab_link": true
    }
  },
  "cells": [
    {
      "cell_type": "markdown",
      "metadata": {
        "id": "view-in-github",
        "colab_type": "text"
      },
      "source": [
        "<a href=\"https://colab.research.google.com/github/D34dP0oL/4216_Biomedical_DS_and_AI/blob/main/Sheet4/Assignment4_Solutions.ipynb\" target=\"_parent\"><img src=\"https://colab.research.google.com/assets/colab-badge.svg\" alt=\"Open In Colab\"/></a>"
      ]
    },
    {
      "cell_type": "code",
      "metadata": {
        "id": "-UnHoHsFop-8"
      },
      "source": [
        "import numpy as np\n",
        "import math\n",
        "import pandas as pd\n",
        "\n",
        "from scipy.stats import poisson, sem, poisson, ttest_ind, shapiro, mannwhitneyu\n",
        "import scipy.stats as stats # for 'f_oneway'\n",
        "from scipy.cluster.hierarchy import cophenet\n",
        "from scipy.spatial.distance import pdist\n",
        "\n",
        "from sklearn import linear_model \n",
        "from sklearn.cluster import AgglomerativeClustering\n",
        "from sklearn.decomposition import PCA\n",
        "\n",
        "import statsmodels.formula.api as sm # get ANOVA table as R like output\n",
        "from statsmodels.formula.api import ols # Ordinary Least Squares (OLS) model\n",
        "\n",
        "import matplotlib.pyplot as plt\n",
        "from IPython.display import display, HTML\n",
        "from scipy.cluster.hierarchy import dendrogram, linkage\n",
        "from mpl_toolkits.mplot3d import Axes3D"
      ],
      "execution_count": 164,
      "outputs": []
    },
    {
      "cell_type": "markdown",
      "metadata": {
        "id": "Lx0G72bGl7xc"
      },
      "source": [
        "## Biomedical Data Science & AI\n",
        "\n",
        "## Assignment 4\n",
        "\n",
        "#### Group members:  Fabrice Beaumont, Fatemeh Salehi, Genivika Mann, Helia Salimi, Jonah"
      ]
    },
    {
      "cell_type": "markdown",
      "metadata": {
        "id": "-fhYMe5ml7xo"
      },
      "source": [
        "---\n",
        "### Exercise 1 - ANOVA *F*-test and Hierarchical Clustering\n",
        "Load the leukemia dataset (`leukemia.csv`). It contains gene expression data of 1397 genes from 38\n",
        "tumor mRNA samples. The expression data is organized in a matrix where rows\n",
        "correspond to genes and columns to samples. The tumor class of the columns is given in the file `golub.cl`."
      ]
    },
    {
      "cell_type": "code",
      "metadata": {
        "colab": {
          "base_uri": "https://localhost:8080/",
          "height": 278
        },
        "id": "wMn6Hjmo7jK_",
        "outputId": "12955af6-1f86-4f98-ed49-97b3111160f3"
      },
      "source": [
        "leukemia_db = pd.read_csv('https://raw.githubusercontent.com/D34dP0oL/4216_Biomedical_DS_and_AI/main/Sheet4/leukemia.csv', index_col='gene_name')\n",
        "leukemia_db.head(4)"
      ],
      "execution_count": 165,
      "outputs": [
        {
          "output_type": "execute_result",
          "data": {
            "text/html": [
              "<div>\n",
              "<style scoped>\n",
              "    .dataframe tbody tr th:only-of-type {\n",
              "        vertical-align: middle;\n",
              "    }\n",
              "\n",
              "    .dataframe tbody tr th {\n",
              "        vertical-align: top;\n",
              "    }\n",
              "\n",
              "    .dataframe thead th {\n",
              "        text-align: right;\n",
              "    }\n",
              "</style>\n",
              "<table border=\"1\" class=\"dataframe\">\n",
              "  <thead>\n",
              "    <tr style=\"text-align: right;\">\n",
              "      <th></th>\n",
              "      <th>V1</th>\n",
              "      <th>V2</th>\n",
              "      <th>V3</th>\n",
              "      <th>V4</th>\n",
              "      <th>V5</th>\n",
              "      <th>V6</th>\n",
              "      <th>V7</th>\n",
              "      <th>V8</th>\n",
              "      <th>V9</th>\n",
              "      <th>V10</th>\n",
              "      <th>V11</th>\n",
              "      <th>V12</th>\n",
              "      <th>V13</th>\n",
              "      <th>V14</th>\n",
              "      <th>V15</th>\n",
              "      <th>V16</th>\n",
              "      <th>V17</th>\n",
              "      <th>V18</th>\n",
              "      <th>V19</th>\n",
              "      <th>V20</th>\n",
              "      <th>V21</th>\n",
              "      <th>V22</th>\n",
              "      <th>V23</th>\n",
              "      <th>V24</th>\n",
              "      <th>V25</th>\n",
              "      <th>V26</th>\n",
              "      <th>V27</th>\n",
              "      <th>V28</th>\n",
              "      <th>V29</th>\n",
              "      <th>V30</th>\n",
              "      <th>V31</th>\n",
              "      <th>V32</th>\n",
              "      <th>V33</th>\n",
              "      <th>V34</th>\n",
              "      <th>V35</th>\n",
              "      <th>V36</th>\n",
              "      <th>V37</th>\n",
              "      <th>V38</th>\n",
              "    </tr>\n",
              "    <tr>\n",
              "      <th>gene_name</th>\n",
              "      <th></th>\n",
              "      <th></th>\n",
              "      <th></th>\n",
              "      <th></th>\n",
              "      <th></th>\n",
              "      <th></th>\n",
              "      <th></th>\n",
              "      <th></th>\n",
              "      <th></th>\n",
              "      <th></th>\n",
              "      <th></th>\n",
              "      <th></th>\n",
              "      <th></th>\n",
              "      <th></th>\n",
              "      <th></th>\n",
              "      <th></th>\n",
              "      <th></th>\n",
              "      <th></th>\n",
              "      <th></th>\n",
              "      <th></th>\n",
              "      <th></th>\n",
              "      <th></th>\n",
              "      <th></th>\n",
              "      <th></th>\n",
              "      <th></th>\n",
              "      <th></th>\n",
              "      <th></th>\n",
              "      <th></th>\n",
              "      <th></th>\n",
              "      <th></th>\n",
              "      <th></th>\n",
              "      <th></th>\n",
              "      <th></th>\n",
              "      <th></th>\n",
              "      <th></th>\n",
              "      <th></th>\n",
              "      <th></th>\n",
              "      <th></th>\n",
              "    </tr>\n",
              "  </thead>\n",
              "  <tbody>\n",
              "    <tr>\n",
              "      <th>AFFX-HUMISGF3A/M97935_3_at</th>\n",
              "      <td>0.45695</td>\n",
              "      <td>-0.09654</td>\n",
              "      <td>0.90325</td>\n",
              "      <td>-0.07194</td>\n",
              "      <td>0.03232</td>\n",
              "      <td>0.09713</td>\n",
              "      <td>-0.11978</td>\n",
              "      <td>0.23381</td>\n",
              "      <td>0.23987</td>\n",
              "      <td>0.44201</td>\n",
              "      <td>-0.39560</td>\n",
              "      <td>-0.62533</td>\n",
              "      <td>0.45181</td>\n",
              "      <td>1.09519</td>\n",
              "      <td>1.09318</td>\n",
              "      <td>0.34300</td>\n",
              "      <td>0.20010</td>\n",
              "      <td>0.38992</td>\n",
              "      <td>0.00641</td>\n",
              "      <td>1.10932</td>\n",
              "      <td>0.21952</td>\n",
              "      <td>-0.72267</td>\n",
              "      <td>0.51690</td>\n",
              "      <td>0.28577</td>\n",
              "      <td>0.61937</td>\n",
              "      <td>0.20085</td>\n",
              "      <td>0.29278</td>\n",
              "      <td>0.26624</td>\n",
              "      <td>-0.43377</td>\n",
              "      <td>-0.10823</td>\n",
              "      <td>-0.29385</td>\n",
              "      <td>0.05067</td>\n",
              "      <td>1.69430</td>\n",
              "      <td>-0.12472</td>\n",
              "      <td>0.04609</td>\n",
              "      <td>0.24347</td>\n",
              "      <td>0.90774</td>\n",
              "      <td>0.46509</td>\n",
              "    </tr>\n",
              "    <tr>\n",
              "      <th>AFFX-HUMTFRR/M11507_5_at</th>\n",
              "      <td>-0.56223</td>\n",
              "      <td>0.05358</td>\n",
              "      <td>0.12612</td>\n",
              "      <td>-0.84016</td>\n",
              "      <td>-0.43710</td>\n",
              "      <td>-0.38536</td>\n",
              "      <td>-0.87284</td>\n",
              "      <td>0.07453</td>\n",
              "      <td>-0.36118</td>\n",
              "      <td>-1.21583</td>\n",
              "      <td>-0.40243</td>\n",
              "      <td>-0.19383</td>\n",
              "      <td>-0.82254</td>\n",
              "      <td>-0.97149</td>\n",
              "      <td>-0.91163</td>\n",
              "      <td>-1.12340</td>\n",
              "      <td>-0.22390</td>\n",
              "      <td>-0.13425</td>\n",
              "      <td>-0.77756</td>\n",
              "      <td>-0.73043</td>\n",
              "      <td>-1.06221</td>\n",
              "      <td>-0.13176</td>\n",
              "      <td>-0.02375</td>\n",
              "      <td>-0.62739</td>\n",
              "      <td>-0.15690</td>\n",
              "      <td>-0.77535</td>\n",
              "      <td>-0.84190</td>\n",
              "      <td>0.33921</td>\n",
              "      <td>0.51484</td>\n",
              "      <td>-0.13601</td>\n",
              "      <td>-0.16682</td>\n",
              "      <td>-0.20888</td>\n",
              "      <td>0.25911</td>\n",
              "      <td>-0.21631</td>\n",
              "      <td>0.19129</td>\n",
              "      <td>-0.57687</td>\n",
              "      <td>0.44808</td>\n",
              "      <td>1.19275</td>\n",
              "    </tr>\n",
              "    <tr>\n",
              "      <th>AFFX-M27830_M_at</th>\n",
              "      <td>2.40116</td>\n",
              "      <td>1.83222</td>\n",
              "      <td>1.62478</td>\n",
              "      <td>1.59089</td>\n",
              "      <td>0.75700</td>\n",
              "      <td>2.32267</td>\n",
              "      <td>1.64407</td>\n",
              "      <td>2.10957</td>\n",
              "      <td>1.64361</td>\n",
              "      <td>0.32217</td>\n",
              "      <td>1.94740</td>\n",
              "      <td>3.03783</td>\n",
              "      <td>0.57267</td>\n",
              "      <td>1.25632</td>\n",
              "      <td>1.76238</td>\n",
              "      <td>0.87822</td>\n",
              "      <td>0.29212</td>\n",
              "      <td>2.75831</td>\n",
              "      <td>0.94379</td>\n",
              "      <td>0.19046</td>\n",
              "      <td>1.26587</td>\n",
              "      <td>3.06374</td>\n",
              "      <td>3.29195</td>\n",
              "      <td>0.74052</td>\n",
              "      <td>2.98852</td>\n",
              "      <td>1.64597</td>\n",
              "      <td>2.17242</td>\n",
              "      <td>1.54761</td>\n",
              "      <td>1.03327</td>\n",
              "      <td>1.16119</td>\n",
              "      <td>2.25875</td>\n",
              "      <td>1.62017</td>\n",
              "      <td>0.91712</td>\n",
              "      <td>1.50523</td>\n",
              "      <td>2.21754</td>\n",
              "      <td>1.23143</td>\n",
              "      <td>1.87913</td>\n",
              "      <td>2.49036</td>\n",
              "    </tr>\n",
              "    <tr>\n",
              "      <th>AFFX-HUMGAPDH/M33197_3_st</th>\n",
              "      <td>0.10806</td>\n",
              "      <td>0.08245</td>\n",
              "      <td>0.48019</td>\n",
              "      <td>-0.29554</td>\n",
              "      <td>-1.25777</td>\n",
              "      <td>0.40172</td>\n",
              "      <td>0.06140</td>\n",
              "      <td>-0.33715</td>\n",
              "      <td>0.22733</td>\n",
              "      <td>-0.57804</td>\n",
              "      <td>0.07233</td>\n",
              "      <td>0.81717</td>\n",
              "      <td>-1.08971</td>\n",
              "      <td>-0.13572</td>\n",
              "      <td>-0.09442</td>\n",
              "      <td>-0.72484</td>\n",
              "      <td>-1.00308</td>\n",
              "      <td>0.18150</td>\n",
              "      <td>-0.40358</td>\n",
              "      <td>-0.64389</td>\n",
              "      <td>-1.02620</td>\n",
              "      <td>0.25894</td>\n",
              "      <td>-0.19135</td>\n",
              "      <td>-1.48332</td>\n",
              "      <td>0.76284</td>\n",
              "      <td>-0.66419</td>\n",
              "      <td>-0.18517</td>\n",
              "      <td>-0.04229</td>\n",
              "      <td>-1.08902</td>\n",
              "      <td>-0.48494</td>\n",
              "      <td>-0.25817</td>\n",
              "      <td>-0.44108</td>\n",
              "      <td>-0.20584</td>\n",
              "      <td>0.29198</td>\n",
              "      <td>-0.01033</td>\n",
              "      <td>-0.08370</td>\n",
              "      <td>-0.11911</td>\n",
              "      <td>0.48378</td>\n",
              "    </tr>\n",
              "  </tbody>\n",
              "</table>\n",
              "</div>"
            ],
            "text/plain": [
              "                                 V1       V2  ...      V37      V38\n",
              "gene_name                                     ...                  \n",
              "AFFX-HUMISGF3A/M97935_3_at  0.45695 -0.09654  ...  0.90774  0.46509\n",
              "AFFX-HUMTFRR/M11507_5_at   -0.56223  0.05358  ...  0.44808  1.19275\n",
              "AFFX-M27830_M_at            2.40116  1.83222  ...  1.87913  2.49036\n",
              "AFFX-HUMGAPDH/M33197_3_st   0.10806  0.08245  ... -0.11911  0.48378\n",
              "\n",
              "[4 rows x 38 columns]"
            ]
          },
          "metadata": {
            "tags": []
          },
          "execution_count": 165
        }
      ]
    },
    {
      "cell_type": "code",
      "metadata": {
        "colab": {
          "base_uri": "https://localhost:8080/"
        },
        "id": "yJcfbktB8SLp",
        "outputId": "8f4d0557-59d2-43f0-f431-25e9bcc9a84f"
      },
      "source": [
        "leukemia_db.shape"
      ],
      "execution_count": 166,
      "outputs": [
        {
          "output_type": "execute_result",
          "data": {
            "text/plain": [
              "(1397, 38)"
            ]
          },
          "metadata": {
            "tags": []
          },
          "execution_count": 166
        }
      ]
    },
    {
      "cell_type": "code",
      "metadata": {
        "colab": {
          "base_uri": "https://localhost:8080/",
          "height": 175
        },
        "id": "ZxM8KROA8ZoC",
        "outputId": "3a6ca3f9-a2ee-42a7-85e2-d71bb4c5d31d"
      },
      "source": [
        "tumor_class_db = pd.read_csv('https://raw.githubusercontent.com/D34dP0oL/4216_Biomedical_DS_and_AI/main/Sheet4/golub.cl.csv', index_col='Unnamed: 0')\n",
        "tumor_class_db.head(4)"
      ],
      "execution_count": 167,
      "outputs": [
        {
          "output_type": "execute_result",
          "data": {
            "text/html": [
              "<div>\n",
              "<style scoped>\n",
              "    .dataframe tbody tr th:only-of-type {\n",
              "        vertical-align: middle;\n",
              "    }\n",
              "\n",
              "    .dataframe tbody tr th {\n",
              "        vertical-align: top;\n",
              "    }\n",
              "\n",
              "    .dataframe thead th {\n",
              "        text-align: right;\n",
              "    }\n",
              "</style>\n",
              "<table border=\"1\" class=\"dataframe\">\n",
              "  <thead>\n",
              "    <tr style=\"text-align: right;\">\n",
              "      <th></th>\n",
              "      <th>x</th>\n",
              "    </tr>\n",
              "  </thead>\n",
              "  <tbody>\n",
              "    <tr>\n",
              "      <th>1</th>\n",
              "      <td>0</td>\n",
              "    </tr>\n",
              "    <tr>\n",
              "      <th>2</th>\n",
              "      <td>0</td>\n",
              "    </tr>\n",
              "    <tr>\n",
              "      <th>3</th>\n",
              "      <td>0</td>\n",
              "    </tr>\n",
              "    <tr>\n",
              "      <th>4</th>\n",
              "      <td>0</td>\n",
              "    </tr>\n",
              "  </tbody>\n",
              "</table>\n",
              "</div>"
            ],
            "text/plain": [
              "   x\n",
              "1  0\n",
              "2  0\n",
              "3  0\n",
              "4  0"
            ]
          },
          "metadata": {
            "tags": []
          },
          "execution_count": 167
        }
      ]
    },
    {
      "cell_type": "code",
      "metadata": {
        "colab": {
          "base_uri": "https://localhost:8080/"
        },
        "id": "xZYiygJO_97L",
        "outputId": "38ce966d-07b4-4a0f-cfd3-e62d9864497d"
      },
      "source": [
        "### Lets check, that exactly two types of Leukemia (0 and 1) are identified\n",
        "tumor_class_db.values.T"
      ],
      "execution_count": 168,
      "outputs": [
        {
          "output_type": "execute_result",
          "data": {
            "text/plain": [
              "array([[0, 0, 0, 0, 0, 0, 0, 0, 0, 0, 0, 0, 0, 0, 0, 0, 0, 0, 0, 0, 0, 0,\n",
              "        0, 0, 0, 0, 0, 1, 1, 1, 1, 1, 1, 1, 1, 1, 1, 1]])"
            ]
          },
          "metadata": {
            "tags": []
          },
          "execution_count": 168
        }
      ]
    },
    {
      "cell_type": "code",
      "metadata": {
        "id": "Kx0WxeOdCEpk",
        "outputId": "b916eec7-83cd-4f56-94ca-b92dcce8f812",
        "colab": {
          "base_uri": "https://localhost:8080/"
        }
      },
      "source": [
        "tumor_class_db.shape"
      ],
      "execution_count": 169,
      "outputs": [
        {
          "output_type": "execute_result",
          "data": {
            "text/plain": [
              "(38, 1)"
            ]
          },
          "metadata": {
            "tags": []
          },
          "execution_count": 169
        }
      ]
    },
    {
      "cell_type": "markdown",
      "metadata": {
        "id": "JN3egxQomuP8"
      },
      "source": [
        "#### 1.1. ANOVA *F*-test"
      ]
    },
    {
      "cell_type": "markdown",
      "metadata": {
        "id": "jgUkN-nGziCe"
      },
      "source": [
        "##### 1.1.a. What are the assumptions of the ANOVA *F*-test?"
      ]
    },
    {
      "cell_type": "markdown",
      "metadata": {
        "id": "GChOs4tB872B"
      },
      "source": [
        "To conduct an ANOVA *F*-test one assumes that:\n",
        "- The variances in the studied groups of samples is the same (**homoscedasticity**)\n",
        "- A linear model can sufficiently fit the group means (**no heteroscedastic noise**).\n",
        "- The residuals are normally distributed.\n",
        "\n",
        "Sidenote to the foreign words:\n",
        "- A vector of random variables is **homoscedastic**, if all its random variables have the same finite variance.\n",
        "- A vector of random variables is \"heteroscedastic\", if the variability of the random disturbance is different across elements of the vector\n",
        "\n",
        "(Greek: *hetero* \"different\", *homo* \"equal\", *skedasis* \"dispersion\")"
      ]
    },
    {
      "cell_type": "markdown",
      "metadata": {
        "id": "kv2IOiOgzo4-"
      },
      "source": [
        "##### 1.1.b. For each gene in the dataset, perform the ANOVA *F*-test (assumptions are already met) to see whether the gene is significantly differentially expressed between the two types of Leukemia."
      ]
    },
    {
      "cell_type": "code",
      "metadata": {
        "colab": {
          "base_uri": "https://localhost:8080/",
          "height": 442
        },
        "id": "yKIhJYAI-2Or",
        "outputId": "4750048f-92a0-46fa-9cbf-dd4ad807bf7e"
      },
      "source": [
        "### For every gene we conduct an ANOVA F-test with the same null hypothesis:\n",
        "### Null hypothesis: \"The group means of type 0 of leukemia and type 1 of leukemia are equal.\"\n",
        "print(\"The genes that are significantly differentially expressed between the two types of Leukemia are:\")\n",
        "### Store all signifiant genes in a dataframe\n",
        "signif_genes = pd.DataFrame(columns=['gene_name', 'p-value', 'F-value'])\n",
        "\n",
        "### From the 'tumor_class_db' get the indices of the two tpyes of leukemia\n",
        "type_zero_indices = tumor_class_db.index[tumor_class_db['x'] == 0].tolist()\n",
        "type_one_indices = tumor_class_db.index[tumor_class_db['x'] == 1].tolist()\n",
        "### Since the 'tumor_class_db' counts the first row as '1' and not '0', we need to shift all indices by '-1'\n",
        "type_zero_indices = [x - 1 for x in type_zero_indices] \n",
        "type_one_indices = [x - 1 for x in type_one_indices] \n",
        "\n",
        "### Iterate through all genes\n",
        "for gene in leukemia_db.index:\n",
        "    ### Differentiate all columns/ samples that belong to the two different types of leukemia\n",
        "    gene_expressions_type_zero = leukemia_db.loc[gene].iloc[type_zero_indices].tolist()\n",
        "    gene_expressions_type_one = leukemia_db.loc[gene].iloc[type_one_indices].tolist()\n",
        "\n",
        "    ### Stats 'f_oneway' functions takes the two groups as input and returns ANOVA F- and p-value\n",
        "    fvalue, pvalue = stats.f_oneway(gene_expressions_type_zero, gene_expressions_type_one)\n",
        "    ### A p-value < 0.05 is significant. Print the name of the gene if that is the case\n",
        "    if pvalue < 0.05:        \n",
        "        signif_genes = signif_genes.append({'gene_name' : gene, 'p-value' : pvalue, 'F-value' : fvalue}, ignore_index=True)    \n",
        "\n",
        "signif_genes"
      ],
      "execution_count": 170,
      "outputs": [
        {
          "output_type": "stream",
          "text": [
            "The genes that are significantly differentially expressed between the two types of Leukemia are:\n"
          ],
          "name": "stdout"
        },
        {
          "output_type": "execute_result",
          "data": {
            "text/html": [
              "<div>\n",
              "<style scoped>\n",
              "    .dataframe tbody tr th:only-of-type {\n",
              "        vertical-align: middle;\n",
              "    }\n",
              "\n",
              "    .dataframe tbody tr th {\n",
              "        vertical-align: top;\n",
              "    }\n",
              "\n",
              "    .dataframe thead th {\n",
              "        text-align: right;\n",
              "    }\n",
              "</style>\n",
              "<table border=\"1\" class=\"dataframe\">\n",
              "  <thead>\n",
              "    <tr style=\"text-align: right;\">\n",
              "      <th></th>\n",
              "      <th>gene_name</th>\n",
              "      <th>p-value</th>\n",
              "      <th>F-value</th>\n",
              "    </tr>\n",
              "  </thead>\n",
              "  <tbody>\n",
              "    <tr>\n",
              "      <th>0</th>\n",
              "      <td>AFFX-HUMTFRR/M11507_5_at</td>\n",
              "      <td>0.000072</td>\n",
              "      <td>20.086635</td>\n",
              "    </tr>\n",
              "    <tr>\n",
              "      <th>1</th>\n",
              "      <td>AB000449_at</td>\n",
              "      <td>0.000850</td>\n",
              "      <td>13.247115</td>\n",
              "    </tr>\n",
              "    <tr>\n",
              "      <th>2</th>\n",
              "      <td>AB000468_at</td>\n",
              "      <td>0.039889</td>\n",
              "      <td>4.545975</td>\n",
              "    </tr>\n",
              "    <tr>\n",
              "      <th>3</th>\n",
              "      <td>AC000064_cds1_at</td>\n",
              "      <td>0.022949</td>\n",
              "      <td>5.644936</td>\n",
              "    </tr>\n",
              "    <tr>\n",
              "      <th>4</th>\n",
              "      <td>AF008937_at</td>\n",
              "      <td>0.011464</td>\n",
              "      <td>7.099773</td>\n",
              "    </tr>\n",
              "    <tr>\n",
              "      <th>...</th>\n",
              "      <td>...</td>\n",
              "      <td>...</td>\n",
              "      <td>...</td>\n",
              "    </tr>\n",
              "    <tr>\n",
              "      <th>480</th>\n",
              "      <td>U40279_at</td>\n",
              "      <td>0.002999</td>\n",
              "      <td>10.133038</td>\n",
              "    </tr>\n",
              "    <tr>\n",
              "      <th>481</th>\n",
              "      <td>X17093_at</td>\n",
              "      <td>0.025641</td>\n",
              "      <td>5.420034</td>\n",
              "    </tr>\n",
              "    <tr>\n",
              "      <th>482</th>\n",
              "      <td>Z30643_at</td>\n",
              "      <td>0.044146</td>\n",
              "      <td>4.350522</td>\n",
              "    </tr>\n",
              "    <tr>\n",
              "      <th>483</th>\n",
              "      <td>U04241_at</td>\n",
              "      <td>0.044844</td>\n",
              "      <td>4.320449</td>\n",
              "    </tr>\n",
              "    <tr>\n",
              "      <th>484</th>\n",
              "      <td>X51345_at</td>\n",
              "      <td>0.037074</td>\n",
              "      <td>4.688270</td>\n",
              "    </tr>\n",
              "  </tbody>\n",
              "</table>\n",
              "<p>485 rows × 3 columns</p>\n",
              "</div>"
            ],
            "text/plain": [
              "                    gene_name   p-value    F-value\n",
              "0    AFFX-HUMTFRR/M11507_5_at  0.000072  20.086635\n",
              "1                 AB000449_at  0.000850  13.247115\n",
              "2                 AB000468_at  0.039889   4.545975\n",
              "3            AC000064_cds1_at  0.022949   5.644936\n",
              "4                 AF008937_at  0.011464   7.099773\n",
              "..                        ...       ...        ...\n",
              "480                 U40279_at  0.002999  10.133038\n",
              "481                 X17093_at  0.025641   5.420034\n",
              "482                 Z30643_at  0.044146   4.350522\n",
              "483                 U04241_at  0.044844   4.320449\n",
              "484                 X51345_at  0.037074   4.688270\n",
              "\n",
              "[485 rows x 3 columns]"
            ]
          },
          "metadata": {
            "tags": []
          },
          "execution_count": 170
        }
      ]
    },
    {
      "cell_type": "code",
      "metadata": {
        "id": "mVaiecDHNFxG",
        "outputId": "9231dfe0-13cf-459b-9ea8-093f13ca8e00",
        "colab": {
          "base_uri": "https://localhost:8080/"
        }
      },
      "source": [
        "nr_all_genes = len(leukemia_db)\n",
        "nr_signif_genes = len(signif_genes)\n",
        "signif_percentage = nr_signif_genes / nr_all_genes\n",
        "print(f\"Out of the {nr_all_genes} genes, {nr_signif_genes} are significantly differentially expressed between the two types of Leukemia.\")\n",
        "print(f\"That is about {round(signif_percentage*100, 2)}%\")"
      ],
      "execution_count": 171,
      "outputs": [
        {
          "output_type": "stream",
          "text": [
            "Out of the 1397 genes, 485 are significantly differentially expressed between the two types of Leukemia.\n",
            "That is about 34.72%\n"
          ],
          "name": "stdout"
        }
      ]
    },
    {
      "cell_type": "markdown",
      "metadata": {
        "id": "gDPCQCvVzpYR"
      },
      "source": [
        "##### 1.1.c. Due to our analysis, we now know which genes are significantly differentially expressed between groups. These will be the best features to use in order to get good cluster separation. Subset only the rows which represent the top 100 most significant genes."
      ]
    },
    {
      "cell_type": "code",
      "metadata": {
        "id": "AcXTtAxGN_nM",
        "outputId": "cbc8d4c7-7c6b-42a6-fe18-f3d9854dbb7a",
        "colab": {
          "base_uri": "https://localhost:8080/",
          "height": 424
        }
      },
      "source": [
        "### The genes are more significant, the lower their p-value is. \n",
        "### Thus return the 100 genes with the lowest p-value:\n",
        "most_signif_100_genes = signif_genes.nsmallest(100, 'p-value')\n",
        "most_signif_100_genes"
      ],
      "execution_count": 172,
      "outputs": [
        {
          "output_type": "execute_result",
          "data": {
            "text/html": [
              "<div>\n",
              "<style scoped>\n",
              "    .dataframe tbody tr th:only-of-type {\n",
              "        vertical-align: middle;\n",
              "    }\n",
              "\n",
              "    .dataframe tbody tr th {\n",
              "        vertical-align: top;\n",
              "    }\n",
              "\n",
              "    .dataframe thead th {\n",
              "        text-align: right;\n",
              "    }\n",
              "</style>\n",
              "<table border=\"1\" class=\"dataframe\">\n",
              "  <thead>\n",
              "    <tr style=\"text-align: right;\">\n",
              "      <th></th>\n",
              "      <th>gene_name</th>\n",
              "      <th>p-value</th>\n",
              "      <th>F-value</th>\n",
              "    </tr>\n",
              "  </thead>\n",
              "  <tbody>\n",
              "    <tr>\n",
              "      <th>155</th>\n",
              "      <td>M63138_at</td>\n",
              "      <td>2.366804e-08</td>\n",
              "      <td>50.530583</td>\n",
              "    </tr>\n",
              "    <tr>\n",
              "      <th>243</th>\n",
              "      <td>U50136_rna1_at</td>\n",
              "      <td>2.519519e-08</td>\n",
              "      <td>50.235874</td>\n",
              "    </tr>\n",
              "    <tr>\n",
              "      <th>478</th>\n",
              "      <td>M31523_at</td>\n",
              "      <td>2.713676e-08</td>\n",
              "      <td>49.887317</td>\n",
              "    </tr>\n",
              "    <tr>\n",
              "      <th>124</th>\n",
              "      <td>M16038_at</td>\n",
              "      <td>4.802350e-08</td>\n",
              "      <td>47.255323</td>\n",
              "    </tr>\n",
              "    <tr>\n",
              "      <th>173</th>\n",
              "      <td>M92287_at</td>\n",
              "      <td>6.046048e-08</td>\n",
              "      <td>46.217096</td>\n",
              "    </tr>\n",
              "    <tr>\n",
              "      <th>...</th>\n",
              "      <td>...</td>\n",
              "      <td>...</td>\n",
              "      <td>...</td>\n",
              "    </tr>\n",
              "    <tr>\n",
              "      <th>137</th>\n",
              "      <td>M28209_at</td>\n",
              "      <td>2.294286e-04</td>\n",
              "      <td>16.754857</td>\n",
              "    </tr>\n",
              "    <tr>\n",
              "      <th>169</th>\n",
              "      <td>M83221_at</td>\n",
              "      <td>2.310119e-04</td>\n",
              "      <td>16.735696</td>\n",
              "    </tr>\n",
              "    <tr>\n",
              "      <th>219</th>\n",
              "      <td>U30521_at</td>\n",
              "      <td>2.363345e-04</td>\n",
              "      <td>16.672289</td>\n",
              "    </tr>\n",
              "    <tr>\n",
              "      <th>422</th>\n",
              "      <td>HG627-HT5097_s_at</td>\n",
              "      <td>2.443697e-04</td>\n",
              "      <td>16.579380</td>\n",
              "    </tr>\n",
              "    <tr>\n",
              "      <th>371</th>\n",
              "      <td>Z35102_at</td>\n",
              "      <td>2.634902e-04</td>\n",
              "      <td>16.370725</td>\n",
              "    </tr>\n",
              "  </tbody>\n",
              "</table>\n",
              "<p>100 rows × 3 columns</p>\n",
              "</div>"
            ],
            "text/plain": [
              "             gene_name       p-value    F-value\n",
              "155          M63138_at  2.366804e-08  50.530583\n",
              "243     U50136_rna1_at  2.519519e-08  50.235874\n",
              "478          M31523_at  2.713676e-08  49.887317\n",
              "124          M16038_at  4.802350e-08  47.255323\n",
              "173          M92287_at  6.046048e-08  46.217096\n",
              "..                 ...           ...        ...\n",
              "137          M28209_at  2.294286e-04  16.754857\n",
              "169          M83221_at  2.310119e-04  16.735696\n",
              "219          U30521_at  2.363345e-04  16.672289\n",
              "422  HG627-HT5097_s_at  2.443697e-04  16.579380\n",
              "371          Z35102_at  2.634902e-04  16.370725\n",
              "\n",
              "[100 rows x 3 columns]"
            ]
          },
          "metadata": {
            "tags": []
          },
          "execution_count": 172
        }
      ]
    },
    {
      "cell_type": "markdown",
      "metadata": {
        "id": "wlJUEarCm1m_"
      },
      "source": [
        "#### 1.2. Plot 2 dendrograms using the 100 selected genes:"
      ]
    },
    {
      "cell_type": "code",
      "metadata": {
        "id": "gCXcvvviY9UR"
      },
      "source": [
        "### See this awesome website for further information:\n",
        "### https://joernhees.de/blog/2015/08/26/scipy-hierarchical-clustering-and-dendrogram-tutorial/"
      ],
      "execution_count": 173,
      "outputs": []
    },
    {
      "cell_type": "markdown",
      "metadata": {
        "id": "OFHhgaNBz5Em"
      },
      "source": [
        "##### 1.2.a. One for a single linkage approach and another one for ward approach."
      ]
    },
    {
      "cell_type": "code",
      "metadata": {
        "id": "c2WyAQFldXUK",
        "outputId": "d8c6adfc-1405-46ea-be41-46a5ad0b90f6",
        "colab": {
          "base_uri": "https://localhost:8080/",
          "height": 226
        }
      },
      "source": [
        "most_signif_100_genes_db = leukemia_db.loc[most_signif_100_genes['gene_name']]\n",
        "most_signif_100_genes_db.head(4)"
      ],
      "execution_count": 174,
      "outputs": [
        {
          "output_type": "execute_result",
          "data": {
            "text/html": [
              "<div>\n",
              "<style scoped>\n",
              "    .dataframe tbody tr th:only-of-type {\n",
              "        vertical-align: middle;\n",
              "    }\n",
              "\n",
              "    .dataframe tbody tr th {\n",
              "        vertical-align: top;\n",
              "    }\n",
              "\n",
              "    .dataframe thead th {\n",
              "        text-align: right;\n",
              "    }\n",
              "</style>\n",
              "<table border=\"1\" class=\"dataframe\">\n",
              "  <thead>\n",
              "    <tr style=\"text-align: right;\">\n",
              "      <th></th>\n",
              "      <th>V1</th>\n",
              "      <th>V2</th>\n",
              "      <th>V3</th>\n",
              "      <th>V4</th>\n",
              "      <th>V5</th>\n",
              "      <th>V6</th>\n",
              "      <th>V7</th>\n",
              "      <th>V8</th>\n",
              "      <th>V9</th>\n",
              "      <th>V10</th>\n",
              "      <th>V11</th>\n",
              "      <th>V12</th>\n",
              "      <th>V13</th>\n",
              "      <th>V14</th>\n",
              "      <th>V15</th>\n",
              "      <th>V16</th>\n",
              "      <th>V17</th>\n",
              "      <th>V18</th>\n",
              "      <th>V19</th>\n",
              "      <th>V20</th>\n",
              "      <th>V21</th>\n",
              "      <th>V22</th>\n",
              "      <th>V23</th>\n",
              "      <th>V24</th>\n",
              "      <th>V25</th>\n",
              "      <th>V26</th>\n",
              "      <th>V27</th>\n",
              "      <th>V28</th>\n",
              "      <th>V29</th>\n",
              "      <th>V30</th>\n",
              "      <th>V31</th>\n",
              "      <th>V32</th>\n",
              "      <th>V33</th>\n",
              "      <th>V34</th>\n",
              "      <th>V35</th>\n",
              "      <th>V36</th>\n",
              "      <th>V37</th>\n",
              "      <th>V38</th>\n",
              "    </tr>\n",
              "    <tr>\n",
              "      <th>gene_name</th>\n",
              "      <th></th>\n",
              "      <th></th>\n",
              "      <th></th>\n",
              "      <th></th>\n",
              "      <th></th>\n",
              "      <th></th>\n",
              "      <th></th>\n",
              "      <th></th>\n",
              "      <th></th>\n",
              "      <th></th>\n",
              "      <th></th>\n",
              "      <th></th>\n",
              "      <th></th>\n",
              "      <th></th>\n",
              "      <th></th>\n",
              "      <th></th>\n",
              "      <th></th>\n",
              "      <th></th>\n",
              "      <th></th>\n",
              "      <th></th>\n",
              "      <th></th>\n",
              "      <th></th>\n",
              "      <th></th>\n",
              "      <th></th>\n",
              "      <th></th>\n",
              "      <th></th>\n",
              "      <th></th>\n",
              "      <th></th>\n",
              "      <th></th>\n",
              "      <th></th>\n",
              "      <th></th>\n",
              "      <th></th>\n",
              "      <th></th>\n",
              "      <th></th>\n",
              "      <th></th>\n",
              "      <th></th>\n",
              "      <th></th>\n",
              "      <th></th>\n",
              "    </tr>\n",
              "  </thead>\n",
              "  <tbody>\n",
              "    <tr>\n",
              "      <th>M63138_at</th>\n",
              "      <td>0.98318</td>\n",
              "      <td>1.39165</td>\n",
              "      <td>1.46391</td>\n",
              "      <td>0.86954</td>\n",
              "      <td>0.92723</td>\n",
              "      <td>1.49335</td>\n",
              "      <td>1.71610</td>\n",
              "      <td>1.34453</td>\n",
              "      <td>1.38809</td>\n",
              "      <td>1.47143</td>\n",
              "      <td>1.15281</td>\n",
              "      <td>1.75560</td>\n",
              "      <td>0.46085</td>\n",
              "      <td>1.51090</td>\n",
              "      <td>1.26225</td>\n",
              "      <td>1.39635</td>\n",
              "      <td>1.59592</td>\n",
              "      <td>0.68372</td>\n",
              "      <td>1.24144</td>\n",
              "      <td>0.93333</td>\n",
              "      <td>0.49434</td>\n",
              "      <td>1.01094</td>\n",
              "      <td>1.27365</td>\n",
              "      <td>0.95373</td>\n",
              "      <td>1.17502</td>\n",
              "      <td>1.11362</td>\n",
              "      <td>1.65242</td>\n",
              "      <td>1.97190</td>\n",
              "      <td>1.93217</td>\n",
              "      <td>2.39638</td>\n",
              "      <td>2.16979</td>\n",
              "      <td>2.40208</td>\n",
              "      <td>1.38017</td>\n",
              "      <td>2.33999</td>\n",
              "      <td>2.33015</td>\n",
              "      <td>2.60321</td>\n",
              "      <td>2.31917</td>\n",
              "      <td>1.50779</td>\n",
              "    </tr>\n",
              "    <tr>\n",
              "      <th>U50136_rna1_at</th>\n",
              "      <td>0.77407</td>\n",
              "      <td>0.69785</td>\n",
              "      <td>0.85670</td>\n",
              "      <td>0.69715</td>\n",
              "      <td>0.63730</td>\n",
              "      <td>0.76063</td>\n",
              "      <td>0.83617</td>\n",
              "      <td>1.19658</td>\n",
              "      <td>0.45291</td>\n",
              "      <td>1.05127</td>\n",
              "      <td>0.37929</td>\n",
              "      <td>0.92141</td>\n",
              "      <td>0.36598</td>\n",
              "      <td>0.59186</td>\n",
              "      <td>0.05042</td>\n",
              "      <td>0.60024</td>\n",
              "      <td>0.89360</td>\n",
              "      <td>0.89230</td>\n",
              "      <td>1.21479</td>\n",
              "      <td>0.10098</td>\n",
              "      <td>0.17052</td>\n",
              "      <td>0.87792</td>\n",
              "      <td>0.71801</td>\n",
              "      <td>0.57714</td>\n",
              "      <td>1.02880</td>\n",
              "      <td>0.64994</td>\n",
              "      <td>1.17794</td>\n",
              "      <td>1.11343</td>\n",
              "      <td>1.92742</td>\n",
              "      <td>1.70779</td>\n",
              "      <td>1.76434</td>\n",
              "      <td>1.44715</td>\n",
              "      <td>0.77720</td>\n",
              "      <td>1.56749</td>\n",
              "      <td>1.74375</td>\n",
              "      <td>1.65866</td>\n",
              "      <td>1.43275</td>\n",
              "      <td>1.51216</td>\n",
              "    </tr>\n",
              "    <tr>\n",
              "      <th>M31523_at</th>\n",
              "      <td>0.92234</td>\n",
              "      <td>0.54933</td>\n",
              "      <td>0.10862</td>\n",
              "      <td>1.21964</td>\n",
              "      <td>0.96513</td>\n",
              "      <td>0.69793</td>\n",
              "      <td>0.72464</td>\n",
              "      <td>1.32339</td>\n",
              "      <td>0.79254</td>\n",
              "      <td>0.15163</td>\n",
              "      <td>0.36618</td>\n",
              "      <td>0.47953</td>\n",
              "      <td>1.27253</td>\n",
              "      <td>0.37879</td>\n",
              "      <td>1.46878</td>\n",
              "      <td>1.12782</td>\n",
              "      <td>0.36998</td>\n",
              "      <td>1.17631</td>\n",
              "      <td>1.15058</td>\n",
              "      <td>1.49879</td>\n",
              "      <td>1.96569</td>\n",
              "      <td>-0.16915</td>\n",
              "      <td>0.51035</td>\n",
              "      <td>1.24043</td>\n",
              "      <td>0.33312</td>\n",
              "      <td>1.44738</td>\n",
              "      <td>1.00982</td>\n",
              "      <td>-0.28526</td>\n",
              "      <td>-0.13281</td>\n",
              "      <td>-0.54233</td>\n",
              "      <td>-0.06494</td>\n",
              "      <td>0.25829</td>\n",
              "      <td>-0.87699</td>\n",
              "      <td>-0.33927</td>\n",
              "      <td>0.08948</td>\n",
              "      <td>-1.20703</td>\n",
              "      <td>-0.79439</td>\n",
              "      <td>-0.40721</td>\n",
              "    </tr>\n",
              "    <tr>\n",
              "      <th>M16038_at</th>\n",
              "      <td>-0.26342</td>\n",
              "      <td>0.22701</td>\n",
              "      <td>-1.39460</td>\n",
              "      <td>0.62578</td>\n",
              "      <td>0.35737</td>\n",
              "      <td>-0.19119</td>\n",
              "      <td>-0.27313</td>\n",
              "      <td>-0.55534</td>\n",
              "      <td>-0.62212</td>\n",
              "      <td>-0.88031</td>\n",
              "      <td>-1.28137</td>\n",
              "      <td>0.31220</td>\n",
              "      <td>-0.44829</td>\n",
              "      <td>0.23799</td>\n",
              "      <td>0.49646</td>\n",
              "      <td>-0.39452</td>\n",
              "      <td>-0.15118</td>\n",
              "      <td>0.41887</td>\n",
              "      <td>-1.24482</td>\n",
              "      <td>-0.12873</td>\n",
              "      <td>0.31237</td>\n",
              "      <td>-0.29898</td>\n",
              "      <td>-1.20963</td>\n",
              "      <td>0.05444</td>\n",
              "      <td>-1.25268</td>\n",
              "      <td>-0.36578</td>\n",
              "      <td>0.25452</td>\n",
              "      <td>0.31019</td>\n",
              "      <td>1.30495</td>\n",
              "      <td>1.41996</td>\n",
              "      <td>0.82319</td>\n",
              "      <td>1.49690</td>\n",
              "      <td>1.50992</td>\n",
              "      <td>1.23706</td>\n",
              "      <td>0.70736</td>\n",
              "      <td>1.34766</td>\n",
              "      <td>1.38402</td>\n",
              "      <td>0.54227</td>\n",
              "    </tr>\n",
              "  </tbody>\n",
              "</table>\n",
              "</div>"
            ],
            "text/plain": [
              "                     V1       V2       V3  ...      V36      V37      V38\n",
              "gene_name                                  ...                           \n",
              "M63138_at       0.98318  1.39165  1.46391  ...  2.60321  2.31917  1.50779\n",
              "U50136_rna1_at  0.77407  0.69785  0.85670  ...  1.65866  1.43275  1.51216\n",
              "M31523_at       0.92234  0.54933  0.10862  ... -1.20703 -0.79439 -0.40721\n",
              "M16038_at      -0.26342  0.22701 -1.39460  ...  1.34766  1.38402  0.54227\n",
              "\n",
              "[4 rows x 38 columns]"
            ]
          },
          "metadata": {
            "tags": []
          },
          "execution_count": 174
        }
      ]
    },
    {
      "cell_type": "code",
      "metadata": {
        "id": "hoU3WqzPR8G8"
      },
      "source": [
        "### The 'linkage' function returns a matrix which rows denote an cluster merging-iteration\n",
        "### Every row stores the indixes of the merged clusters, their distance and the number of samples in the resulting cluster\n",
        "\n",
        "### Singel linkage approach\n",
        "dendogram_single = linkage(most_signif_100_genes_db, 'single')\n",
        "### Ward approach\n",
        "dendogram_ward = linkage(most_signif_100_genes_db, 'ward')"
      ],
      "execution_count": 175,
      "outputs": []
    },
    {
      "cell_type": "code",
      "metadata": {
        "id": "EgfuvRBCUOot"
      },
      "source": [
        "def plot_dendogram(data, name=None, x_label=None, y_label=None, truncate_nr=None):\n",
        "    plt.figure(figsize=(25, 10))\n",
        "    plt.title('Hierarchical Clustering Dendrogram')\n",
        "    plt.xlabel('sample index')\n",
        "    plt.ylabel('distance')\n",
        "    if name is not None:\n",
        "        plt.title(name)\n",
        "    if x_label is not None:\n",
        "        plt.xlabel(x_label)\n",
        "    if y_label is not None:\n",
        "        plt.ylabel(y_label)\n",
        "\n",
        "    dendrogram(\n",
        "        data,\n",
        "        leaf_rotation=90.,  # rotates the x axis labels\n",
        "        leaf_font_size=8.,  # font size for the x axis labels\n",
        "    )\n",
        "    if truncate_nr is not None:\n",
        "        dendrogram(\n",
        "            data,\n",
        "            truncate_mode='lastp',  # show only the last p merged clusters\n",
        "            p=truncate_nr,  # show only the last p merged clusters\n",
        "            show_leaf_counts=False,  # otherwise numbers in brackets are counts\n",
        "            leaf_rotation=90.,\n",
        "            leaf_font_size=12.,\n",
        "            show_contracted=True,  # to get a distribution impression in truncated branches\n",
        "        )\n",
        "    \n",
        "    plt.show()"
      ],
      "execution_count": 176,
      "outputs": []
    },
    {
      "cell_type": "code",
      "metadata": {
        "id": "3z0CaYrhWbNi",
        "outputId": "4c29c4e9-98e6-4daa-fc0e-f6c14d02338c",
        "colab": {
          "base_uri": "https://localhost:8080/",
          "height": 622
        }
      },
      "source": [
        "plot_dendogram(dendogram_single, \"Hierarchical Clustering Dendogram of the 100 most significant genes (single linkage approach)\")"
      ],
      "execution_count": 177,
      "outputs": [
        {
          "output_type": "display_data",
          "data": {
            "image/png": "[encoded data removed]",
            "text/plain": [
              "<Figure size 1800x720 with 1 Axes>"
            ]
          },
          "metadata": {
            "tags": [],
            "needs_background": "light"
          }
        }
      ]
    },
    {
      "cell_type": "code",
      "metadata": {
        "id": "vIg6WCm7WsJ3",
        "outputId": "388dfe45-1ac1-4fa9-bb6e-6511a61c130f",
        "colab": {
          "base_uri": "https://localhost:8080/",
          "height": 622
        }
      },
      "source": [
        "plot_dendogram(dendogram_ward, \"Hierarchical Clustering Dendogram of the 100 most significant genes (ward approach)\")"
      ],
      "execution_count": 178,
      "outputs": [
        {
          "output_type": "display_data",
          "data": {
            "image/png": "[encoded data removed]",
            "text/plain": [
              "<Figure size 1800x720 with 1 Axes>"
            ]
          },
          "metadata": {
            "tags": [],
            "needs_background": "light"
          }
        }
      ]
    },
    {
      "cell_type": "markdown",
      "metadata": {
        "id": "MMD9cjz5z9PT"
      },
      "source": [
        "##### 1.2.b. Which method would you recommend based on the dendrograms for a clustering? Why?"
      ]
    },
    {
      "cell_type": "markdown",
      "metadata": {
        "id": "uXCWMSlcXBYH"
      },
      "source": [
        "The dendogram created using the **ward approach is better**, since the hierarchical tree is more equally distributed/merged. With the single linkage approach, a lot of clusters are successively growing by merging with a single gene."
      ]
    },
    {
      "cell_type": "markdown",
      "metadata": {
        "id": "KC8Rw6kM0Byv"
      },
      "source": [
        "##### 1.2.c. Familiarize yourself with **Cophenetic correlation coefficient** and calculate the cophenetic correlation distance for both single linkage as well as ward."
      ]
    },
    {
      "cell_type": "markdown",
      "metadata": {
        "id": "dZRQ6gHGXzIM"
      },
      "source": [
        "The Cophenetic correlation coefficien indicates how well the dendograms preserve the actual distances  of the data. The closer the coefficient is to one, the better the preservation."
      ]
    },
    {
      "cell_type": "code",
      "metadata": {
        "id": "4cuOaSoZSb_R",
        "outputId": "321dc496-fc2a-47e7-a487-33e251bb126b",
        "colab": {
          "base_uri": "https://localhost:8080/"
        }
      },
      "source": [
        "c_single, coph_dists_single = cophenet(dendogram_single, pdist(most_signif_100_genes_db))\n",
        "c_ward, coph_dists_ward = cophenet(dendogram_ward, pdist(most_signif_100_genes_db))\n",
        "print(f\"The Cophenetic correlation coefficient for the ward approach is           ~{round(c_ward,2)} \\t({c_ward})\")\n",
        "print(f\"The Cophenetic correlation coefficient for the single linkage approach is ~{round(c_single,2)} \\t({c_single})\")"
      ],
      "execution_count": 179,
      "outputs": [
        {
          "output_type": "stream",
          "text": [
            "The Cophenetic correlation coefficient for the ward approach is           ~0.71 \t(0.7122409337749579)\n",
            "The Cophenetic correlation coefficient for the single linkage approach is ~0.29 \t(0.29202720217881184)\n"
          ],
          "name": "stdout"
        }
      ]
    },
    {
      "cell_type": "markdown",
      "metadata": {
        "id": "WkyKxdZl0EbS"
      },
      "source": [
        "##### 1.2.d. Based on the cophenetic correlation distance, which clustering method performed better?"
      ]
    },
    {
      "cell_type": "code",
      "metadata": {
        "id": "6VXhT1guZJFR",
        "outputId": "967e4ce5-0e68-4902-f40a-9ff3e2ed72be",
        "colab": {
          "base_uri": "https://localhost:8080/"
        }
      },
      "source": [
        "if c_ward < c_single:\n",
        "    name = \"single linkage\"    \n",
        "else:\n",
        "    name = \"ward\"\n",
        "\n",
        "print(f\"The {name} approach is better, since its Cophenetic correlation coefficient (preservation of the original distances) is higher.\")"
      ],
      "execution_count": 180,
      "outputs": [
        {
          "output_type": "stream",
          "text": [
            "The ward approach is better, since its Cophenetic correlation coefficient (preservation of the original distances) is higher.\n"
          ],
          "name": "stdout"
        }
      ]
    },
    {
      "cell_type": "markdown",
      "metadata": {
        "id": "DSMfw49om1XF"
      },
      "source": [
        "#### 1.3. Apply two Agglomerative Clustering."
      ]
    },
    {
      "cell_type": "markdown",
      "metadata": {
        "id": "30cuJTn80WwX"
      },
      "source": [
        "##### 1.3.a. One using single linkage and one using **ward method**."
      ]
    },
    {
      "cell_type": "code",
      "metadata": {
        "id": "nZvTRC4eZu2X"
      },
      "source": [
        "### Singel linkage approach\n",
        "agglomerative_single = AgglomerativeClustering(linkage='single').fit(most_signif_100_genes_db)\n",
        "### Ward approach\n",
        "agglomerative_ward = AgglomerativeClustering(linkage='ward').fit(most_signif_100_genes_db)"
      ],
      "execution_count": 181,
      "outputs": []
    },
    {
      "cell_type": "markdown",
      "metadata": {
        "id": "YxRc-FbYeg08"
      },
      "source": [
        "Visualizing this data is a bit tricky, since the feature vectors have 38 dimensions (number of samples). To still get an idea, that the agglomerative clustering was reasonable, we define a function that reduces the data to three dimensions and then display the agglomerative clustering as a heat map on this representation."
      ]
    },
    {
      "cell_type": "code",
      "metadata": {
        "id": "2foghA7Scula"
      },
      "source": [
        "def pca_scatter_plt(dataframe, colours=None, name=None):\n",
        "    X = dataframe.values\n",
        "    # Project data down to 3D\n",
        "    pca = PCA(n_components=3)\n",
        "    X_three_d = pca.fit_transform(X)\n",
        "\n",
        "    # Now plot in 3D\n",
        "    fig = plt.figure()\n",
        "    ax = fig.add_subplot(111, projection='3d')\n",
        "    \n",
        "    plt.title(f\"Agglomerative Clustering\")\n",
        "    if name is not None:\n",
        "        plt.title(f\"Agglomerative Clustering using {name} method\")\n",
        "\n",
        "    x = X_three_d[:,0]\n",
        "    y = X_three_d[:,1]\n",
        "    z = X_three_d[:,2]\n",
        "    \n",
        "    img = ax.scatter(x, y, z)\n",
        "    if colours is not None:\n",
        "        img = ax.scatter(x, y, z, c=colours)\n",
        "    plt.show()"
      ],
      "execution_count": 182,
      "outputs": []
    },
    {
      "cell_type": "code",
      "metadata": {
        "id": "67FneOfnfp29",
        "outputId": "29f2f121-f2c2-4596-9b9c-5f6ed10f80f9",
        "colab": {
          "base_uri": "https://localhost:8080/",
          "height": 248
        }
      },
      "source": [
        "pca_scatter_plt(most_signif_100_genes_db)"
      ],
      "execution_count": 183,
      "outputs": [
        {
          "output_type": "display_data",
          "data": {
            "image/png": "[encoded data removed]",
            "text/plain": [
              "<Figure size 432x288 with 1 Axes>"
            ]
          },
          "metadata": {
            "tags": [],
            "needs_background": "light"
          }
        }
      ]
    },
    {
      "cell_type": "code",
      "metadata": {
        "id": "EBMIvb7Hd4tw",
        "outputId": "83ad0d16-87e1-442c-87d7-407111344289",
        "colab": {
          "base_uri": "https://localhost:8080/",
          "height": 479
        }
      },
      "source": [
        "for linkage in ['single', 'ward']:\n",
        "    agglo_clustering = AgglomerativeClustering(affinity='euclidean', compute_full_tree='auto',\n",
        "            connectivity=None, linkage='ward', memory=None, n_clusters=5).fit(most_signif_100_genes_db)\n",
        "    \n",
        "    pca_scatter_plt(most_signif_100_genes_db, agglo_clustering.labels_, linkage)"
      ],
      "execution_count": 184,
      "outputs": [
        {
          "output_type": "display_data",
          "data": {
            "image/png": "[encoded data removed]",
            "text/plain": [
              "<Figure size 432x288 with 1 Axes>"
            ]
          },
          "metadata": {
            "tags": [],
            "needs_background": "light"
          }
        },
        {
          "output_type": "display_data",
          "data": {
            "image/png": "[encoded data removed]",
            "text/plain": [
              "<Figure size 432x288 with 1 Axes>"
            ]
          },
          "metadata": {
            "tags": [],
            "needs_background": "light"
          }
        }
      ]
    },
    {
      "cell_type": "markdown",
      "metadata": {
        "id": "kltDaoYgnP8w"
      },
      "source": [
        "---\n",
        "### Exercise 2 - PCA\n",
        "Using the same leukemia dataset generate the feature matrix (transposed leukemia dataset) and the class labels (`golub.cl.csv`)."
      ]
    },
    {
      "cell_type": "markdown",
      "metadata": {
        "id": "GNYuBGE6l7xz"
      },
      "source": [
        "#### 2.1. Perform a PCA on the feature matrix and answer the following questions:"
      ]
    },
    {
      "cell_type": "markdown",
      "metadata": {
        "id": "V7VlH2yTvXnA"
      },
      "source": [
        "##### 2.1.a. How many PC’s do you need to explain at least 95% of the variance?"
      ]
    },
    {
      "cell_type": "markdown",
      "metadata": {
        "id": "PFigoT8708-D"
      },
      "source": [
        "##### 2.1.b. Make a scatterplot of the projections on the first two PC‘s with the colouring corresponding to the class labels."
      ]
    },
    {
      "cell_type": "markdown",
      "metadata": {
        "id": "K3TqySYc09tD"
      },
      "source": [
        "##### 2.1.c. Based on the scatterplot answer the following questions:"
      ]
    },
    {
      "cell_type": "markdown",
      "metadata": {
        "id": "La8WszKA1RSN"
      },
      "source": [
        "- Given the plot, do you think PCA might be a good choice? Why?"
      ]
    },
    {
      "cell_type": "markdown",
      "metadata": {
        "id": "J3vBsKyQ1Tdm"
      },
      "source": [
        "- Do you think n=2 components are a good choice? Why?"
      ]
    },
    {
      "cell_type": "markdown",
      "metadata": {
        "id": "WgXrlr5Sv2cL"
      },
      "source": [
        "#### 2.2. Inform yourself regarding decorrelation of features in a dataset."
      ]
    },
    {
      "cell_type": "markdown",
      "metadata": {
        "id": "vAP3M5I6wRPC"
      },
      "source": [
        "##### 2.2.a. Identify the correlated features in the dataset."
      ]
    },
    {
      "cell_type": "markdown",
      "metadata": {
        "id": "C-cN5YV8wS44"
      },
      "source": [
        "##### 2.2.b. Decorrelate the correlated datasets."
      ]
    },
    {
      "cell_type": "markdown",
      "metadata": {
        "id": "OiCxQdDRwUpw"
      },
      "source": [
        "##### 2.2.c. What is the purpose of carrying out decorrelation of features in a dataset?"
      ]
    },
    {
      "cell_type": "markdown",
      "metadata": {
        "id": "wmahsY6jwiQ2"
      },
      "source": [
        "---\n",
        "### Exercise 3 - Logistic Regression"
      ]
    },
    {
      "cell_type": "markdown",
      "metadata": {
        "id": "mMcV-oNXxKvB"
      },
      "source": [
        "#### 3.1. Using the reduced dataset from exercise 2.1, carry out the following tasks:"
      ]
    },
    {
      "cell_type": "markdown",
      "metadata": {
        "id": "2ZJpoPZP1wUb"
      },
      "source": [
        "##### 3.1.a Generate a logistic regression model on the first 5 PCs of the reduced dataset using 80% of the total samples."
      ]
    },
    {
      "cell_type": "markdown",
      "metadata": {
        "id": "fpzosc2L107E"
      },
      "source": [
        "##### 3.1.b. Predict the labels for the remaining 20% of the samples and calculate your model’s accuracy"
      ]
    },
    {
      "cell_type": "markdown",
      "metadata": {
        "id": "Flkiv7B_xOSs"
      },
      "source": [
        "#### 3.2. Inform yourself about **Brier’s Score**. How can it be used to evaluate the performance of your model? Show by implementation."
      ]
    },
    {
      "cell_type": "markdown",
      "metadata": {
        "id": "ShLPrjDyxS09"
      },
      "source": [
        "#### 3.3. Assess the significance of your variables using the likelihood ratio test."
      ]
    }
  ]
}