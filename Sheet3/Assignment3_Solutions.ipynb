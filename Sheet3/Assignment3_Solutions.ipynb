{
  "nbformat": 4,
  "nbformat_minor": 0,
  "metadata": {
    "kernelspec": {
      "display_name": "Python 3",
      "language": "python",
      "name": "python3"
    },
    "language_info": {
      "codemirror_mode": {
        "name": "ipython",
        "version": 3
      },
      "file_extension": ".py",
      "mimetype": "text/x-python",
      "name": "python",
      "nbconvert_exporter": "python",
      "pygments_lexer": "ipython3",
      "version": "3.7.7"
    },
    "colab": {
      "name": "Assignment3_Solutions.ipynb",
      "provenance": [],
      "include_colab_link": true
    }
  },
  "cells": [
    {
      "cell_type": "markdown",
      "metadata": {
        "id": "view-in-github",
        "colab_type": "text"
      },
      "source": [
        "<a href=\"https://colab.research.google.com/github/D34dP0oL/4216_Biomedical_DS_and_AI/blob/main/Sheet3/Assignment3_Solutions.ipynb\" target=\"_parent\"><img src=\"https://colab.research.google.com/assets/colab-badge.svg\" alt=\"Open In Colab\"/></a>"
      ]
    },
    {
      "cell_type": "code",
      "metadata": {
        "id": "-UnHoHsFop-8"
      },
      "source": [
        "import numpy as np\n",
        "import math"
      ],
      "execution_count": 2,
      "outputs": []
    },
    {
      "cell_type": "markdown",
      "metadata": {
        "id": "Lx0G72bGl7xc"
      },
      "source": [
        "## Biomedical Data Science & AI\n",
        "\n",
        "## Assignment 3\n",
        "\n",
        "#### Group members:  Fabrice Beaumont, Fatemeh Salehi, Genivika Mann, Helia Salimi, Jonah"
      ]
    },
    {
      "cell_type": "markdown",
      "metadata": {
        "id": "-fhYMe5ml7xo"
      },
      "source": [
        "---\n",
        "### Exercise 1 - Probability\n",
        "The amount of wine bottles sold in a shop follows a Poisson distribution with *180*\n",
        "bottles per week (6 days). If $C$ is the **random variable for bottles per day**, how is:"
      ]
    },
    {
      "cell_type": "markdown",
      "metadata": {
        "id": "JN3egxQomuP8"
      },
      "source": [
        "#### 1.1. The probability that the shop will only sell 20 bottles per day?"
      ]
    },
    {
      "cell_type": "markdown",
      "metadata": {
        "id": "Mk1azku9mp1v"
      },
      "source": [
        "The probability distribution of a Poisson random variable $X$ (here amount of sold wine bottles over time) is given by\n",
        "$$ \\mathbb{P}[X=x] = \\frac{\\exp(-\\mu) \\mu^x}{x!} $$\n",
        "\n",
        "\n",
        "The given setting gives the following means: $\\mu_{\\text{week}} = 180 \\ \\implies \\ \\mu_{\\text{day}} = 180/6 = 30$. \n",
        "\n",
        "Thus the probability to sell $20$ bottles per day is:\n",
        "\n",
        "$\\begin{aligned} \\mathbb{P}[X=20] &= \\frac{\\exp(-\\mu_{\\text{day}}) \\mu_{\\text{day}}^{20}}{20!}\\\\\n",
        "&= \\frac{\\exp(-\\mu_{\\text{day}}) \\mu_{\\text{day}}^{20}}{20!} \\\\\n",
        "&= \\frac{\\exp(-30) 30^{20}}{20!} \\qquad \\approx \\text{well ... tiny. This can't be right - right?}\n",
        "\\\\ \\text{Yes, it's not right:)}\\\\\n",
        "\\end{aligned}$\n"
      ]
    },
    {
      "cell_type": "code",
      "metadata": {
        "colab": {
          "base_uri": "https://localhost:8080/"
        },
        "id": "l39h7O0xoeUX",
        "outputId": "fae3f1bf-9c23-41b5-a69e-4aa0cb88b0e7"
      },
      "source": [
        "print(f\"{np.exp(-30)* np.power(30, 20) / math.factorial(20)}\")"
      ],
      "execution_count": 3,
      "outputs": [
        {
          "output_type": "stream",
          "text": [
            "-1.6755778325549218e-13\n"
          ],
          "name": "stdout"
        }
      ]
    },
    {
      "cell_type": "code",
      "metadata": {
        "id": "J_iVeqkb6uJg",
        "outputId": "54a006a0-be2a-4f92-f6c2-f19e29a0d393",
        "colab": {
          "base_uri": "https://localhost:8080/"
        }
      },
      "source": [
        "print( f\"P[C=20] = {((30**20)*np.e**(-30))/math.factorial(20)}\" )"
      ],
      "execution_count": 20,
      "outputs": [
        {
          "output_type": "stream",
          "text": [
            "P[C=20] = 0.01341115001283781\n"
          ],
          "name": "stdout"
        }
      ]
    },
    {
      "cell_type": "markdown",
      "metadata": {
        "id": "wlJUEarCm1m_"
      },
      "source": [
        "#### 1.2. The probability that the demand is more than average for a particular day?"
      ]
    },
    {
      "cell_type": "markdown",
      "metadata": {
        "id": "cDaDLh2urlyU"
      },
      "source": [
        "**No statement about the demand was made!** We assume this is equal to the number of sold bottles. Since $\\mu_{\\text{day}}$ is the expected/average abount of sold bottles per day, the probability to sell more than this is:\n",
        "\n",
        "$\\begin{aligned} \\mathbb{P}[X> \\mu_{\\text{day}}] = 1-\\mathbb{P}[X\\le \\mu_{\\text{day}}] &= 1-\\sum_{i=0}^{\\mu_{\\text{day}}} \\frac{\\exp(-\\mu_{\\text{day}}) \\mu_{\\text{day}}^{i}}{i!}\\\\\n",
        "&= 1-\\sum_{i=0}^{30} \\frac{\\exp(-30) 30^{i}}{i!}\\\\\n",
        "&= \\dots \n",
        "\\end{aligned}$"
      ]
    },
    {
      "cell_type": "markdown",
      "metadata": {
        "id": "DSMfw49om1XF"
      },
      "source": [
        "#### 1.3. The expected number of units per day $\\mathbb{E}[C]$?"
      ]
    },
    {
      "cell_type": "markdown",
      "metadata": {
        "id": "MkfUCT5Xt6nO"
      },
      "source": [
        "**Who the hell wrote this? Units were not introduced either!** We assume again that this is equal to the number of sold bottles. The expected value (average) was needed and thus computed already in task 1.a:\n",
        "$$ \\mathbb{E}[C] = \\mu_{\\text{day}} = 30 $$"
      ]
    },
    {
      "cell_type": "markdown",
      "metadata": {
        "id": "EWaHzsHEm0gm"
      },
      "source": [
        "#### 1.4. What is $\\text{Var}[C]$?"
      ]
    },
    {
      "cell_type": "markdown",
      "metadata": {
        "id": "YGCn0bQDuj18"
      },
      "source": [
        "Funny. In Poisson distribution, the variance equals the mean:\n",
        "$$ \\text{Var}[C] = \\mathbb{E}[C] = \\mu_{\\text{day}} = 30 $$"
      ]
    },
    {
      "cell_type": "markdown",
      "metadata": {
        "id": "tqD5sFn9nKt6"
      },
      "source": [
        "#### 1.5. The standard deviation of $C$?"
      ]
    },
    {
      "cell_type": "markdown",
      "metadata": {
        "id": "5Tf7eATUu3Jn"
      },
      "source": [
        "It is:\n",
        "$$ \\sigma(C) = \\sqrt{\\mathbb{E}[C]} = \\sqrt{\\mu_{\\text{day}}} = \\sqrt{30} \\approx 5.48 $$"
      ]
    },
    {
      "cell_type": "code",
      "metadata": {
        "id": "Sallwt9xvCYZ",
        "colab": {
          "base_uri": "https://localhost:8080/"
        },
        "outputId": "f3efa9d0-ecb7-4d55-88aa-3345cba87ffc"
      },
      "source": [
        "np.sqrt(30)"
      ],
      "execution_count": null,
      "outputs": [
        {
          "output_type": "execute_result",
          "data": {
            "text/plain": [
              "5.477225575051661"
            ]
          },
          "metadata": {
            "tags": []
          },
          "execution_count": 13
        }
      ]
    },
    {
      "cell_type": "markdown",
      "metadata": {
        "id": "kltDaoYgnP8w"
      },
      "source": [
        "---\n",
        "### Exercise 2 - Hypothesis testing\n",
        "This exercise illustrates a gene expression data set with its normally distributed values.\n",
        "Consider the gene expression data of the Golub dataset. Load the file `golub.csv`. \n",
        "It contains gene expression data of 3051 genes from 38 tumor mRNA samples. The expression data is organized in a matrix where rows correspond to genes and columns to samples. The tumor class of the columns is given in the file `golub.cl`. The names of the genes (rows) are given in `golub.gnames`."
      ]
    },
    {
      "cell_type": "markdown",
      "metadata": {
        "id": "GNYuBGE6l7xz"
      },
      "source": [
        "#### 2.1. Calculate the sample mean of all genes $\\beta$ in the pooled expression matrix. Use these means to determine the overall mean $\\beta_0$ by just taking the average."
      ]
    },
    {
      "cell_type": "code",
      "metadata": {
        "id": "e4d-7gKPnuqg"
      },
      "source": [
        ""
      ],
      "execution_count": null,
      "outputs": []
    },
    {
      "cell_type": "markdown",
      "metadata": {
        "id": "V7VlH2yTvXnA"
      },
      "source": [
        "#### 2.2. Based on the $t$-statistic defined below obtain the $100$ most signifiant genes.\n",
        "$$ t_{\\hat{\\beta}} = \\frac{ \\hat{\\beta}-\\beta_0}{\\text{s.e.}(\\hat{\\beta})} $$\n",
        "[Hint: $\\hat{\\beta}$ is the sample mean of a particular gene.]"
      ]
    },
    {
      "cell_type": "code",
      "metadata": {
        "id": "QBFqzFRivz7s"
      },
      "source": [
        ""
      ],
      "execution_count": null,
      "outputs": []
    },
    {
      "cell_type": "markdown",
      "metadata": {
        "id": "WgXrlr5Sv2cL"
      },
      "source": [
        "#### 2.3. Perform two sampled student $t$-tests for all genes comparing the distributions for ALL and AML."
      ]
    },
    {
      "cell_type": "code",
      "metadata": {
        "id": "TE8qXv6DwQsJ"
      },
      "source": [
        ""
      ],
      "execution_count": null,
      "outputs": []
    },
    {
      "cell_type": "markdown",
      "metadata": {
        "id": "vAP3M5I6wRPC"
      },
      "source": [
        "#### 2.4. Based on the $p$-values obtained in 2.3., obtain the top $10$ genes with the lowest $p$-values."
      ]
    },
    {
      "cell_type": "code",
      "metadata": {
        "id": "8Nd78M8FwSTX"
      },
      "source": [
        ""
      ],
      "execution_count": null,
      "outputs": []
    },
    {
      "cell_type": "markdown",
      "metadata": {
        "id": "C-cN5YV8wS44"
      },
      "source": [
        "\n",
        "#### 2.5. Shapiro-Wilk test is used to test if a random variable follows a Normal distribution (Null-hypothesis). Using this test identify the top $100$ genes which deviate significantly from normal."
      ]
    },
    {
      "cell_type": "markdown",
      "metadata": {
        "id": "OiCxQdDRwUpw"
      },
      "source": [
        "#### 2.6. Out of the $100$ genes obtained in 2.5., use an appropriate statistical test to obtain the $10$ most differentiating genes between ALL and AML classes."
      ]
    },
    {
      "cell_type": "code",
      "metadata": {
        "id": "9CN889y7wV2d"
      },
      "source": [
        ""
      ],
      "execution_count": null,
      "outputs": []
    },
    {
      "cell_type": "markdown",
      "metadata": {
        "id": "vl6_LuFLwWUx"
      },
      "source": [
        "#### 2.7. Inform yourself about the multiple testing problem. Apply one appropriate method to deal with it and explain how it works."
      ]
    },
    {
      "cell_type": "code",
      "metadata": {
        "id": "jIojopyUwXRW"
      },
      "source": [
        ""
      ],
      "execution_count": null,
      "outputs": []
    },
    {
      "cell_type": "markdown",
      "metadata": {
        "id": "wmahsY6jwiQ2"
      },
      "source": [
        "---\n",
        "### Exercise 3 - Linear regression\n",
        "Using the `fish.csv` dataset, generate a multiple linear regression model with `weight` as the response variable and `length1`, `length2`, `length3`, `height`, and `width` as the predictors. Answer the following questions based on the regression model."
      ]
    },
    {
      "cell_type": "markdown",
      "metadata": {
        "id": "mMcV-oNXxKvB"
      },
      "source": [
        "#### 3.1. How large is the coefficient of the predictors?"
      ]
    },
    {
      "cell_type": "code",
      "metadata": {
        "id": "Nbx7plARxNQH"
      },
      "source": [
        ""
      ],
      "execution_count": null,
      "outputs": []
    },
    {
      "cell_type": "markdown",
      "metadata": {
        "id": "Flkiv7B_xOSs"
      },
      "source": [
        "#### 3.2. What is the value of the adjusted $R$-squared? What does this tell us?"
      ]
    },
    {
      "cell_type": "code",
      "metadata": {
        "id": "MSwT3NonxRl9"
      },
      "source": [
        ""
      ],
      "execution_count": null,
      "outputs": []
    },
    {
      "cell_type": "markdown",
      "metadata": {
        "id": "ShLPrjDyxS09"
      },
      "source": [
        "#### 3.3. Which predictors lead to the increase in the weight of the fish, and which have a negative effect?"
      ]
    },
    {
      "cell_type": "code",
      "metadata": {
        "id": "cZpeY8zCxVD2"
      },
      "source": [
        ""
      ],
      "execution_count": null,
      "outputs": []
    },
    {
      "cell_type": "markdown",
      "metadata": {
        "id": "AL_8bVehxXLn"
      },
      "source": [
        "#### 3.4. Using a simple regression model, predict the weight of a fish with `length1` of $15$?"
      ]
    },
    {
      "cell_type": "code",
      "metadata": {
        "id": "aLt7bIxaxY0e"
      },
      "source": [
        ""
      ],
      "execution_count": null,
      "outputs": []
    },
    {
      "cell_type": "markdown",
      "metadata": {
        "id": "bX5t83cZxdLS"
      },
      "source": [
        "#### 3.5. Predict the weight of a fish with `length1`, `height`, and `width` of $20.0$, $7.3$, and $5.3$ using a multiple linear regression model."
      ]
    },
    {
      "cell_type": "code",
      "metadata": {
        "id": "U3PBBH3sxi72"
      },
      "source": [
        ""
      ],
      "execution_count": null,
      "outputs": []
    },
    {
      "cell_type": "markdown",
      "metadata": {
        "id": "FE8B6jmKxktN"
      },
      "source": [
        "#### 3.6. What are the associated 95% confidence intervals for the predictors, as well as for intercept?"
      ]
    },
    {
      "cell_type": "code",
      "metadata": {
        "id": "6Osv_OlMxn0Q"
      },
      "source": [
        ""
      ],
      "execution_count": null,
      "outputs": []
    }
  ]
}