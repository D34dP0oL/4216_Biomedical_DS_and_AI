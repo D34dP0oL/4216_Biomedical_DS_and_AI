{
  "nbformat": 4,
  "nbformat_minor": 0,
  "metadata": {
    "kernelspec": {
      "display_name": "Python 3",
      "language": "python",
      "name": "python3"
    },
    "language_info": {
      "codemirror_mode": {
        "name": "ipython",
        "version": 3
      },
      "file_extension": ".py",
      "mimetype": "text/x-python",
      "name": "python",
      "nbconvert_exporter": "python",
      "pygments_lexer": "ipython3",
      "version": "3.7.7"
    },
    "colab": {
      "name": "Assignment3_Solutions.ipynb",
      "provenance": [],
      "include_colab_link": true
    }
  },
  "cells": [
    {
      "cell_type": "markdown",
      "metadata": {
        "id": "view-in-github",
        "colab_type": "text"
      },
      "source": [
        "<a href=\"https://colab.research.google.com/github/D34dP0oL/4216_Biomedical_DS_and_AI/blob/main/Sheet3/Assignment3_Solutions.ipynb\" target=\"_parent\"><img src=\"https://colab.research.google.com/assets/colab-badge.svg\" alt=\"Open In Colab\"/></a>"
      ]
    },
    {
      "cell_type": "code",
      "metadata": {
        "id": "-UnHoHsFop-8"
      },
      "source": [
        "import numpy as np\n",
        "import math\n",
        "from scipy.stats import poisson\n",
        "from scipy.stats import sem\n",
        "import pandas as pd\n",
        "from sklearn import linear_model \n",
        "\n",
        "import matplotlib.pyplot as plt"
      ],
      "execution_count": 89,
      "outputs": []
    },
    {
      "cell_type": "markdown",
      "metadata": {
        "id": "Lx0G72bGl7xc"
      },
      "source": [
        "## Biomedical Data Science & AI\n",
        "\n",
        "## Assignment 3\n",
        "\n",
        "#### Group members:  Fabrice Beaumont, Fatemeh Salehi, Genivika Mann, Helia Salimi, Jonah"
      ]
    },
    {
      "cell_type": "markdown",
      "metadata": {
        "id": "-fhYMe5ml7xo"
      },
      "source": [
        "---\n",
        "### Exercise 1 - Probability\n",
        "The amount of wine bottles sold in a shop follows a Poisson distribution with *180*\n",
        "bottles per week (6 days). If $C$ is the **random variable for bottles per day**, how is:"
      ]
    },
    {
      "cell_type": "markdown",
      "metadata": {
        "id": "JN3egxQomuP8"
      },
      "source": [
        "#### 1.1. The probability that the shop will only sell 20 bottles per day?"
      ]
    },
    {
      "cell_type": "markdown",
      "metadata": {
        "id": "Mk1azku9mp1v"
      },
      "source": [
        "The probability distribution of a Poisson random variable $X$ (here amount of sold wine bottles over time) is given by\n",
        "$$ \\mathbb{P}[X=x] = \\frac{e^{-\\mu} \\mu^x}{x!} $$\n",
        "\n",
        "\n",
        "The given setting gives the following means: $\\mu_{\\text{week}} = 180 \\ \\implies \\ \\mu_{\\text{day}} = 180/6 = 30$. \n",
        "\n",
        "Thus the probability to sell $20$ bottles per day is:\n",
        "\n",
        "$\\begin{aligned} \\mathbb{P}[X=20|\\ \\mu_{\\text{day}}=30] &= \\frac{e^{-\\mu_{\\text{day}}} \\mu_{\\text{day}}^{20}}{20!}\\\\\n",
        "&= \\frac{e^{-30} 30^{20}}{20!} \\qquad \\approx 1.34 \\%\n",
        "\\end{aligned}$\n"
      ]
    },
    {
      "cell_type": "code",
      "metadata": {
        "colab": {
          "base_uri": "https://localhost:8080/"
        },
        "id": "J_iVeqkb6uJg",
        "outputId": "70422439-1e58-41e9-dfaf-91cfd86436a9"
      },
      "source": [
        "tmp1 = poisson.pmf(20, 30)\n",
        "print( f\"P[X=20] = {tmp1} ~ {tmp1*100:.2f}%\" )\n",
        "print(f\"\\n(Direct computation yields almost the same result: {((30**20)*np.e**(-30))/math.factorial(20)})\")"
      ],
      "execution_count": 28,
      "outputs": [
        {
          "output_type": "stream",
          "text": [
            "P[X=20] = 0.013411150012837837 ~ 1.34%\n",
            "\n",
            "(Direct computation yields almost the same result: 0.01341115001283781)\n"
          ],
          "name": "stdout"
        }
      ]
    },
    {
      "cell_type": "code",
      "metadata": {
        "id": "l39h7O0xoeUX"
      },
      "source": [
        "### QUESTION: Why does this computation lead to a different solution?\n",
        "# print(f\"{np.exp(-30)* np.power(30, 20) / math.factorial(20)}\")\n",
        "# -1.6755778325549218e-13"
      ],
      "execution_count": 15,
      "outputs": []
    },
    {
      "cell_type": "markdown",
      "metadata": {
        "id": "wlJUEarCm1m_"
      },
      "source": [
        "#### 1.2. The probability that the demand is more than average for a particular day?"
      ]
    },
    {
      "cell_type": "markdown",
      "metadata": {
        "id": "cDaDLh2urlyU"
      },
      "source": [
        "**No statement about the demand was made!** We assume this is equal to the number of sold bottles. Since $\\mu_{\\text{day}}=30$ is the expected/average amount of sold bottles per day, the probability to sell more than this is:\n",
        "\n",
        "$\\begin{aligned} \\mathbb{P}[X> \\mu_{\\text{day}}] = 1-\\mathbb{P}[X\\le \\mu_{\\text{day}}] &= 1-\\sum_{i=0}^{\\mu_{\\text{day}}} \\frac{e^{-\\mu_{\\text{day}}} \\mu_{\\text{day}}^{i}}{i!}\\\\\n",
        "&= 1-\\sum_{i=0}^{30} \\frac{e^{-30} 30^{i}}{i!}\\\\\n",
        "&\\approx 45.16 \\%\n",
        "\\end{aligned}$\n",
        "\n",
        "We used the cumulative distribution function (cdf) to compute $\\mathbb{P}[X\\le \\mu_{\\text{day}}]$:"
      ]
    },
    {
      "cell_type": "code",
      "metadata": {
        "id": "qTUgVgRtBefG",
        "colab": {
          "base_uri": "https://localhost:8080/"
        },
        "outputId": "caacfcbe-420a-4eee-d470-23a9dcbb7e3a"
      },
      "source": [
        "tmp2 = 1 - poisson.cdf(30, 30)\n",
        "print( f\"P[X>30] = {tmp2} ~ {tmp2*100:.2f}%\" )"
      ],
      "execution_count": 18,
      "outputs": [
        {
          "output_type": "stream",
          "text": [
            "P[X>30] = 0.45164848742208863 ~ 45.16%\n"
          ],
          "name": "stdout"
        }
      ]
    },
    {
      "cell_type": "markdown",
      "metadata": {
        "id": "DSMfw49om1XF"
      },
      "source": [
        "#### 1.3. The expected number of units per day $\\mathbb{E}[C]$?"
      ]
    },
    {
      "cell_type": "markdown",
      "metadata": {
        "id": "MkfUCT5Xt6nO"
      },
      "source": [
        "**Who the hell wrote this? Units were not introduced either!** We assume again that this is equal to the number of sold bottles. The expected value (average) was needed and thus computed already in task 1.a:\n",
        "$$ \\mathbb{E}[C] = \\mu_{\\text{day}} = 30 $$"
      ]
    },
    {
      "cell_type": "markdown",
      "metadata": {
        "id": "EWaHzsHEm0gm"
      },
      "source": [
        "#### 1.4. What is $\\text{Var}[C]$?"
      ]
    },
    {
      "cell_type": "markdown",
      "metadata": {
        "id": "YGCn0bQDuj18"
      },
      "source": [
        "Funny. In Poisson distribution, the variance equals the mean:\n",
        "$$ \\text{Var}[C] = \\mathbb{E}[C] = \\mu_{\\text{day}} = 30 $$"
      ]
    },
    {
      "cell_type": "markdown",
      "metadata": {
        "id": "tqD5sFn9nKt6"
      },
      "source": [
        "#### 1.5. The standard deviation of $C$?"
      ]
    },
    {
      "cell_type": "markdown",
      "metadata": {
        "id": "5Tf7eATUu3Jn"
      },
      "source": [
        "It is:\n",
        "$$ \\sigma(C) = \\sqrt{\\mathbb{E}[C]} = \\sqrt{\\mu_{\\text{day}}} = \\sqrt{30} \\approx 5.48 $$"
      ]
    },
    {
      "cell_type": "code",
      "metadata": {
        "id": "Sallwt9xvCYZ",
        "colab": {
          "base_uri": "https://localhost:8080/"
        },
        "outputId": "07cd379f-2541-45ea-fea1-67d9dc0248c4"
      },
      "source": [
        "tmp3 = np.sqrt(30)\n",
        "print( f\"P[X>30] = {tmp3} ~ {round(tmp3,2)}\" )"
      ],
      "execution_count": 17,
      "outputs": [
        {
          "output_type": "stream",
          "text": [
            "P[X>30] = 5.477225575051661 ~ 5.48\n"
          ],
          "name": "stdout"
        }
      ]
    },
    {
      "cell_type": "markdown",
      "metadata": {
        "id": "kltDaoYgnP8w"
      },
      "source": [
        "---\n",
        "### Exercise 2 - Hypothesis testing\n",
        "This exercise illustrates a gene expression data set with its normally distributed values.\n",
        "Consider the gene expression data of the Golub dataset. Load the file `golub.csv`. \n",
        "It contains gene expression data of 3051 genes from 38 tumor mRNA samples. The expression data is organized in a matrix where rows correspond to genes and columns to samples. The tumor class of the columns is given in the file `golub.cl`. The names of the genes (rows) are given in `golub.gnames`."
      ]
    },
    {
      "cell_type": "code",
      "metadata": {
        "id": "T85sXxS61aBa",
        "outputId": "34c5d89d-4dc0-494a-d8ee-a099aa6dde72",
        "colab": {
          "base_uri": "https://localhost:8080/"
        }
      },
      "source": [
        "from google.colab import drive\n",
        "drive.mount('/content/drive')"
      ],
      "execution_count": 31,
      "outputs": [
        {
          "output_type": "stream",
          "text": [
            "Mounted at /content/drive\n"
          ],
          "name": "stdout"
        }
      ]
    },
    {
      "cell_type": "code",
      "metadata": {
        "id": "iO-99uxf3HB9",
        "outputId": "d776e482-ea08-44ab-91c7-c851bb1a71fb",
        "colab": {
          "base_uri": "https://localhost:8080/"
        }
      },
      "source": [
        "!ls \"/content/drive/MyDrive/Colab Notebooks/MAINF4216_Databases\""
      ],
      "execution_count": 40,
      "outputs": [
        {
          "output_type": "stream",
          "text": [
            "Fish.csv  golub.cl.csv\tgolub.csv  golub.gnames.csv\n"
          ],
          "name": "stdout"
        }
      ]
    },
    {
      "cell_type": "code",
      "metadata": {
        "id": "wGD4WvDs3bQz"
      },
      "source": [
        "file_path = \"/content/drive/MyDrive/Colab Notebooks/MAINF4216_Databases/\"\n",
        "db_golub_tumorClass = pd.read_csv(file_path + \"golub.cl.csv\", index_col='Unnamed: 0')\n",
        "db_golub_genes = pd.read_csv(file_path + \"golub.csv\", index_col='Unnamed: 0')\n",
        "db_golub_gnames = pd.read_csv(file_path + \"golub.gnames.csv\", index_col='Unnamed: 0')"
      ],
      "execution_count": 63,
      "outputs": []
    },
    {
      "cell_type": "code",
      "metadata": {
        "id": "NdYd8a815stF",
        "outputId": "4d6542a1-562b-4d35-ba79-20290a4dad09",
        "colab": {
          "base_uri": "https://localhost:8080/",
          "height": 175
        }
      },
      "source": [
        "db_golub_tumorClass.head(4)"
      ],
      "execution_count": 64,
      "outputs": [
        {
          "output_type": "execute_result",
          "data": {
            "text/html": [
              "<div>\n",
              "<style scoped>\n",
              "    .dataframe tbody tr th:only-of-type {\n",
              "        vertical-align: middle;\n",
              "    }\n",
              "\n",
              "    .dataframe tbody tr th {\n",
              "        vertical-align: top;\n",
              "    }\n",
              "\n",
              "    .dataframe thead th {\n",
              "        text-align: right;\n",
              "    }\n",
              "</style>\n",
              "<table border=\"1\" class=\"dataframe\">\n",
              "  <thead>\n",
              "    <tr style=\"text-align: right;\">\n",
              "      <th></th>\n",
              "      <th>x</th>\n",
              "    </tr>\n",
              "  </thead>\n",
              "  <tbody>\n",
              "    <tr>\n",
              "      <th>1</th>\n",
              "      <td>0</td>\n",
              "    </tr>\n",
              "    <tr>\n",
              "      <th>2</th>\n",
              "      <td>0</td>\n",
              "    </tr>\n",
              "    <tr>\n",
              "      <th>3</th>\n",
              "      <td>0</td>\n",
              "    </tr>\n",
              "    <tr>\n",
              "      <th>4</th>\n",
              "      <td>0</td>\n",
              "    </tr>\n",
              "  </tbody>\n",
              "</table>\n",
              "</div>"
            ],
            "text/plain": [
              "   x\n",
              "1  0\n",
              "2  0\n",
              "3  0\n",
              "4  0"
            ]
          },
          "metadata": {
            "tags": []
          },
          "execution_count": 64
        }
      ]
    },
    {
      "cell_type": "code",
      "metadata": {
        "id": "P2Lu34ua5sgZ",
        "outputId": "a120222a-1ef5-4af9-b7d4-e7ebf0c8ccb4",
        "colab": {
          "base_uri": "https://localhost:8080/",
          "height": 195
        }
      },
      "source": [
        "db_golub_genes.head(4)"
      ],
      "execution_count": 65,
      "outputs": [
        {
          "output_type": "execute_result",
          "data": {
            "text/html": [
              "<div>\n",
              "<style scoped>\n",
              "    .dataframe tbody tr th:only-of-type {\n",
              "        vertical-align: middle;\n",
              "    }\n",
              "\n",
              "    .dataframe tbody tr th {\n",
              "        vertical-align: top;\n",
              "    }\n",
              "\n",
              "    .dataframe thead th {\n",
              "        text-align: right;\n",
              "    }\n",
              "</style>\n",
              "<table border=\"1\" class=\"dataframe\">\n",
              "  <thead>\n",
              "    <tr style=\"text-align: right;\">\n",
              "      <th></th>\n",
              "      <th>V1</th>\n",
              "      <th>V2</th>\n",
              "      <th>V3</th>\n",
              "      <th>V4</th>\n",
              "      <th>V5</th>\n",
              "      <th>V6</th>\n",
              "      <th>V7</th>\n",
              "      <th>V8</th>\n",
              "      <th>V9</th>\n",
              "      <th>V10</th>\n",
              "      <th>V11</th>\n",
              "      <th>V12</th>\n",
              "      <th>V13</th>\n",
              "      <th>V14</th>\n",
              "      <th>V15</th>\n",
              "      <th>V16</th>\n",
              "      <th>V17</th>\n",
              "      <th>V18</th>\n",
              "      <th>V19</th>\n",
              "      <th>V20</th>\n",
              "      <th>V21</th>\n",
              "      <th>V22</th>\n",
              "      <th>V23</th>\n",
              "      <th>V24</th>\n",
              "      <th>V25</th>\n",
              "      <th>V26</th>\n",
              "      <th>V27</th>\n",
              "      <th>V28</th>\n",
              "      <th>V29</th>\n",
              "      <th>V30</th>\n",
              "      <th>V31</th>\n",
              "      <th>V32</th>\n",
              "      <th>V33</th>\n",
              "      <th>V34</th>\n",
              "      <th>V35</th>\n",
              "      <th>V36</th>\n",
              "      <th>V37</th>\n",
              "      <th>V38</th>\n",
              "    </tr>\n",
              "  </thead>\n",
              "  <tbody>\n",
              "    <tr>\n",
              "      <th>1</th>\n",
              "      <td>-1.45769</td>\n",
              "      <td>-1.39420</td>\n",
              "      <td>-1.42779</td>\n",
              "      <td>-1.40715</td>\n",
              "      <td>-1.42668</td>\n",
              "      <td>-1.21719</td>\n",
              "      <td>-1.37386</td>\n",
              "      <td>-1.36832</td>\n",
              "      <td>-1.47649</td>\n",
              "      <td>-1.21583</td>\n",
              "      <td>-1.28137</td>\n",
              "      <td>-1.03209</td>\n",
              "      <td>-1.36149</td>\n",
              "      <td>-1.39979</td>\n",
              "      <td>0.17628</td>\n",
              "      <td>-1.40095</td>\n",
              "      <td>-1.56783</td>\n",
              "      <td>-1.20466</td>\n",
              "      <td>-1.24482</td>\n",
              "      <td>-1.60767</td>\n",
              "      <td>-1.06221</td>\n",
              "      <td>-1.12665</td>\n",
              "      <td>-1.20963</td>\n",
              "      <td>-1.48332</td>\n",
              "      <td>-1.25268</td>\n",
              "      <td>-1.27619</td>\n",
              "      <td>-1.23051</td>\n",
              "      <td>-1.43337</td>\n",
              "      <td>-1.08902</td>\n",
              "      <td>-1.29865</td>\n",
              "      <td>-1.26183</td>\n",
              "      <td>-1.44434</td>\n",
              "      <td>1.10147</td>\n",
              "      <td>-1.34158</td>\n",
              "      <td>-1.22961</td>\n",
              "      <td>-0.75919</td>\n",
              "      <td>0.84905</td>\n",
              "      <td>-0.66465</td>\n",
              "    </tr>\n",
              "    <tr>\n",
              "      <th>2</th>\n",
              "      <td>-0.75161</td>\n",
              "      <td>-1.26278</td>\n",
              "      <td>-0.09052</td>\n",
              "      <td>-0.99596</td>\n",
              "      <td>-1.24245</td>\n",
              "      <td>-0.69242</td>\n",
              "      <td>-1.37386</td>\n",
              "      <td>-0.50803</td>\n",
              "      <td>-1.04533</td>\n",
              "      <td>-0.81257</td>\n",
              "      <td>-1.28137</td>\n",
              "      <td>-1.03209</td>\n",
              "      <td>-0.74005</td>\n",
              "      <td>-0.83161</td>\n",
              "      <td>0.41200</td>\n",
              "      <td>-1.27669</td>\n",
              "      <td>-0.74370</td>\n",
              "      <td>-1.20466</td>\n",
              "      <td>-1.02380</td>\n",
              "      <td>-0.38779</td>\n",
              "      <td>-1.06221</td>\n",
              "      <td>-1.12665</td>\n",
              "      <td>-1.20963</td>\n",
              "      <td>-1.12185</td>\n",
              "      <td>-0.65264</td>\n",
              "      <td>-1.27619</td>\n",
              "      <td>-1.23051</td>\n",
              "      <td>-1.18065</td>\n",
              "      <td>-1.08902</td>\n",
              "      <td>-1.05094</td>\n",
              "      <td>-1.26183</td>\n",
              "      <td>-1.25918</td>\n",
              "      <td>0.97813</td>\n",
              "      <td>-0.79357</td>\n",
              "      <td>-1.22961</td>\n",
              "      <td>-0.71792</td>\n",
              "      <td>0.45127</td>\n",
              "      <td>-0.45804</td>\n",
              "    </tr>\n",
              "    <tr>\n",
              "      <th>3</th>\n",
              "      <td>0.45695</td>\n",
              "      <td>-0.09654</td>\n",
              "      <td>0.90325</td>\n",
              "      <td>-0.07194</td>\n",
              "      <td>0.03232</td>\n",
              "      <td>0.09713</td>\n",
              "      <td>-0.11978</td>\n",
              "      <td>0.23381</td>\n",
              "      <td>0.23987</td>\n",
              "      <td>0.44201</td>\n",
              "      <td>-0.39560</td>\n",
              "      <td>-0.62533</td>\n",
              "      <td>0.45181</td>\n",
              "      <td>1.09519</td>\n",
              "      <td>1.09318</td>\n",
              "      <td>0.34300</td>\n",
              "      <td>0.20010</td>\n",
              "      <td>0.38992</td>\n",
              "      <td>0.00641</td>\n",
              "      <td>1.10932</td>\n",
              "      <td>0.21952</td>\n",
              "      <td>-0.72267</td>\n",
              "      <td>0.51690</td>\n",
              "      <td>0.28577</td>\n",
              "      <td>0.61937</td>\n",
              "      <td>0.20085</td>\n",
              "      <td>0.29278</td>\n",
              "      <td>0.26624</td>\n",
              "      <td>-0.43377</td>\n",
              "      <td>-0.10823</td>\n",
              "      <td>-0.29385</td>\n",
              "      <td>0.05067</td>\n",
              "      <td>1.69430</td>\n",
              "      <td>-0.12472</td>\n",
              "      <td>0.04609</td>\n",
              "      <td>0.24347</td>\n",
              "      <td>0.90774</td>\n",
              "      <td>0.46509</td>\n",
              "    </tr>\n",
              "    <tr>\n",
              "      <th>4</th>\n",
              "      <td>3.13533</td>\n",
              "      <td>0.21415</td>\n",
              "      <td>2.08754</td>\n",
              "      <td>2.23467</td>\n",
              "      <td>0.93811</td>\n",
              "      <td>2.24089</td>\n",
              "      <td>3.36576</td>\n",
              "      <td>1.97859</td>\n",
              "      <td>2.66468</td>\n",
              "      <td>-1.21583</td>\n",
              "      <td>0.59110</td>\n",
              "      <td>3.26050</td>\n",
              "      <td>-1.36149</td>\n",
              "      <td>0.64180</td>\n",
              "      <td>2.32621</td>\n",
              "      <td>-1.40095</td>\n",
              "      <td>-1.56783</td>\n",
              "      <td>0.83502</td>\n",
              "      <td>-1.24482</td>\n",
              "      <td>-1.60767</td>\n",
              "      <td>-1.06221</td>\n",
              "      <td>3.69445</td>\n",
              "      <td>3.70837</td>\n",
              "      <td>-1.48332</td>\n",
              "      <td>2.36698</td>\n",
              "      <td>-1.27619</td>\n",
              "      <td>2.89604</td>\n",
              "      <td>0.71990</td>\n",
              "      <td>0.29598</td>\n",
              "      <td>-1.29865</td>\n",
              "      <td>2.76869</td>\n",
              "      <td>2.08960</td>\n",
              "      <td>0.70003</td>\n",
              "      <td>0.13854</td>\n",
              "      <td>1.75908</td>\n",
              "      <td>0.06151</td>\n",
              "      <td>1.30297</td>\n",
              "      <td>0.58186</td>\n",
              "    </tr>\n",
              "  </tbody>\n",
              "</table>\n",
              "</div>"
            ],
            "text/plain": [
              "        V1       V2       V3       V4  ...      V35      V36      V37      V38\n",
              "1 -1.45769 -1.39420 -1.42779 -1.40715  ... -1.22961 -0.75919  0.84905 -0.66465\n",
              "2 -0.75161 -1.26278 -0.09052 -0.99596  ... -1.22961 -0.71792  0.45127 -0.45804\n",
              "3  0.45695 -0.09654  0.90325 -0.07194  ...  0.04609  0.24347  0.90774  0.46509\n",
              "4  3.13533  0.21415  2.08754  2.23467  ...  1.75908  0.06151  1.30297  0.58186\n",
              "\n",
              "[4 rows x 38 columns]"
            ]
          },
          "metadata": {
            "tags": []
          },
          "execution_count": 65
        }
      ]
    },
    {
      "cell_type": "code",
      "metadata": {
        "id": "l77_XvW25sYi",
        "outputId": "85423fc3-a0b5-4c49-8535-a5f3c9c44e32",
        "colab": {
          "base_uri": "https://localhost:8080/",
          "height": 175
        }
      },
      "source": [
        "db_golub_gnames.head(4)"
      ],
      "execution_count": 66,
      "outputs": [
        {
          "output_type": "execute_result",
          "data": {
            "text/html": [
              "<div>\n",
              "<style scoped>\n",
              "    .dataframe tbody tr th:only-of-type {\n",
              "        vertical-align: middle;\n",
              "    }\n",
              "\n",
              "    .dataframe tbody tr th {\n",
              "        vertical-align: top;\n",
              "    }\n",
              "\n",
              "    .dataframe thead th {\n",
              "        text-align: right;\n",
              "    }\n",
              "</style>\n",
              "<table border=\"1\" class=\"dataframe\">\n",
              "  <thead>\n",
              "    <tr style=\"text-align: right;\">\n",
              "      <th></th>\n",
              "      <th>V1</th>\n",
              "      <th>V2</th>\n",
              "      <th>V3</th>\n",
              "    </tr>\n",
              "  </thead>\n",
              "  <tbody>\n",
              "    <tr>\n",
              "      <th>1</th>\n",
              "      <td>36</td>\n",
              "      <td>AFFX-HUMISGF3A/M97935_MA_at (endogenous control)</td>\n",
              "      <td>AFFX-HUMISGF3A/M97935_MA_at</td>\n",
              "    </tr>\n",
              "    <tr>\n",
              "      <th>2</th>\n",
              "      <td>37</td>\n",
              "      <td>AFFX-HUMISGF3A/M97935_MB_at (endogenous control)</td>\n",
              "      <td>AFFX-HUMISGF3A/M97935_MB_at</td>\n",
              "    </tr>\n",
              "    <tr>\n",
              "      <th>3</th>\n",
              "      <td>38</td>\n",
              "      <td>AFFX-HUMISGF3A/M97935_3_at (endogenous control)</td>\n",
              "      <td>AFFX-HUMISGF3A/M97935_3_at</td>\n",
              "    </tr>\n",
              "    <tr>\n",
              "      <th>4</th>\n",
              "      <td>39</td>\n",
              "      <td>AFFX-HUMRGE/M10098_5_at (endogenous control)</td>\n",
              "      <td>AFFX-HUMRGE/M10098_5_at</td>\n",
              "    </tr>\n",
              "  </tbody>\n",
              "</table>\n",
              "</div>"
            ],
            "text/plain": [
              "   V1  ...                           V3\n",
              "1  36  ...  AFFX-HUMISGF3A/M97935_MA_at\n",
              "2  37  ...  AFFX-HUMISGF3A/M97935_MB_at\n",
              "3  38  ...   AFFX-HUMISGF3A/M97935_3_at\n",
              "4  39  ...      AFFX-HUMRGE/M10098_5_at\n",
              "\n",
              "[4 rows x 3 columns]"
            ]
          },
          "metadata": {
            "tags": []
          },
          "execution_count": 66
        }
      ]
    },
    {
      "cell_type": "code",
      "metadata": {
        "id": "nbkcKrq244tJ",
        "outputId": "cac9250b-953a-4193-b48a-a058c2b88f4a",
        "colab": {
          "base_uri": "https://localhost:8080/",
          "height": 175
        }
      },
      "source": [
        ""
      ],
      "execution_count": 56,
      "outputs": [
        {
          "output_type": "execute_result",
          "data": {
            "text/html": [
              "<div>\n",
              "<style scoped>\n",
              "    .dataframe tbody tr th:only-of-type {\n",
              "        vertical-align: middle;\n",
              "    }\n",
              "\n",
              "    .dataframe tbody tr th {\n",
              "        vertical-align: top;\n",
              "    }\n",
              "\n",
              "    .dataframe thead th {\n",
              "        text-align: right;\n",
              "    }\n",
              "</style>\n",
              "<table border=\"1\" class=\"dataframe\">\n",
              "  <thead>\n",
              "    <tr style=\"text-align: right;\">\n",
              "      <th></th>\n",
              "      <th>x</th>\n",
              "    </tr>\n",
              "  </thead>\n",
              "  <tbody>\n",
              "    <tr>\n",
              "      <th>0</th>\n",
              "      <td>0</td>\n",
              "    </tr>\n",
              "    <tr>\n",
              "      <th>1</th>\n",
              "      <td>0</td>\n",
              "    </tr>\n",
              "    <tr>\n",
              "      <th>2</th>\n",
              "      <td>0</td>\n",
              "    </tr>\n",
              "    <tr>\n",
              "      <th>3</th>\n",
              "      <td>0</td>\n",
              "    </tr>\n",
              "  </tbody>\n",
              "</table>\n",
              "</div>"
            ],
            "text/plain": [
              "   x\n",
              "0  0\n",
              "1  0\n",
              "2  0\n",
              "3  0"
            ]
          },
          "metadata": {
            "tags": []
          },
          "execution_count": 56
        }
      ]
    },
    {
      "cell_type": "markdown",
      "metadata": {
        "id": "GNYuBGE6l7xz"
      },
      "source": [
        "#### 2.1. Calculate the sample mean of all genes $\\beta$ in the pooled expression matrix. Use these means to determine the overall mean $\\beta_0$ by just taking the average."
      ]
    },
    {
      "cell_type": "code",
      "metadata": {
        "id": "e4d-7gKPnuqg",
        "outputId": "ecfff0cb-e028-4249-f88c-228bf59a9bbc",
        "colab": {
          "base_uri": "https://localhost:8080/"
        }
      },
      "source": [
        "### Since the rows correspond to the genes (and the columns to the samples)\n",
        "### we need to take the means by iterating over the column. This is done by setting 'axis=1'\n",
        "beta = db_golub_genes.mean(axis=1)\n",
        "beta_0 = beta.mean()\n",
        "print(\"Sample mean of all genes:\\n\", beta)\n",
        "print(\"Mean of all sample mean of all genes:\\n\", beta_0)"
      ],
      "execution_count": 72,
      "outputs": [
        {
          "output_type": "stream",
          "text": [
            "Sample mean of all genes:\n",
            " 1      -1.129013\n",
            "2      -0.846746\n",
            "3       0.260806\n",
            "4       0.949458\n",
            "5       0.475348\n",
            "          ...   \n",
            "3047    0.422469\n",
            "3048   -0.353091\n",
            "3049    0.484367\n",
            "3050   -0.366183\n",
            "3051   -0.360164\n",
            "Length: 3051, dtype: float64\n",
            "Mean of all sample mean of all genes:\n",
            " -6.813986781078161e-09\n"
          ],
          "name": "stdout"
        }
      ]
    },
    {
      "cell_type": "markdown",
      "metadata": {
        "id": "V7VlH2yTvXnA"
      },
      "source": [
        "#### 2.2. Based on the $t$-statistic defined below obtain the $100$ most signifiant genes.\n",
        "$$ t_{\\hat{\\beta}} = \\frac{ \\hat{\\beta}-\\beta_0}{\\text{s.e.}(\\hat{\\beta})} \\qquad\\qquad = \\frac{ \\hat{\\beta}-\\beta_0}{\\text{std.dev}(\\hat{\\beta})}\\sqrt{\\hat{n}}$$\n",
        "[Hint: $\\hat{\\beta}$ is the sample mean of a particular gene, and $\\sqrt{n}$ the number of samples - here its always $38$.]"
      ]
    },
    {
      "cell_type": "code",
      "metadata": {
        "id": "QBFqzFRivz7s"
      },
      "source": [
        "### We guess 's.e.' denotes the standard error. \n",
        "### One could compute it using the 'sem()' function from the SciPy Stats library.\n",
        "def t_test(samples):\n",
        "    beta = samples.mean()\n",
        "    return 38*(beta - beta_0)/ np.std(samples)\n",
        "    # return (beta - beta_0)/ sem(beta)"
      ],
      "execution_count": 79,
      "outputs": []
    },
    {
      "cell_type": "code",
      "metadata": {
        "id": "H0iIFZP-9J3E",
        "outputId": "9c6ff14d-1133-4c41-d21f-3fa1b0681b0d",
        "colab": {
          "base_uri": "https://localhost:8080/"
        }
      },
      "source": [
        "### Apply the t-test function row-wise\n",
        "db_golub_genes_tstats = db_golub_genes.apply(t_test, axis=1)\n",
        "### Return the genes with the 100 largest scores\n",
        "db_golub_genes_tstats.nlargest(100)"
      ],
      "execution_count": 83,
      "outputs": [
        {
          "output_type": "execute_result",
          "data": {
            "text/plain": [
              "2030    375.536162\n",
              "272     354.082561\n",
              "2847    336.511117\n",
              "1984    322.652845\n",
              "1014    313.164531\n",
              "           ...    \n",
              "1783    180.554593\n",
              "1890    179.279957\n",
              "2833    178.889022\n",
              "158     177.968046\n",
              "3009    177.619055\n",
              "Length: 100, dtype: float64"
            ]
          },
          "metadata": {
            "tags": []
          },
          "execution_count": 83
        }
      ]
    },
    {
      "cell_type": "markdown",
      "metadata": {
        "id": "WgXrlr5Sv2cL"
      },
      "source": [
        "#### 2.3. Perform two sampled student $t$-tests for all genes comparing the distributions for ALL and AML."
      ]
    },
    {
      "cell_type": "code",
      "metadata": {
        "id": "TE8qXv6DwQsJ"
      },
      "source": [
        ""
      ],
      "execution_count": null,
      "outputs": []
    },
    {
      "cell_type": "markdown",
      "metadata": {
        "id": "vAP3M5I6wRPC"
      },
      "source": [
        "#### 2.4. Based on the $p$-values obtained in 2.3., obtain the top $10$ genes with the lowest $p$-values."
      ]
    },
    {
      "cell_type": "code",
      "metadata": {
        "id": "8Nd78M8FwSTX"
      },
      "source": [
        ""
      ],
      "execution_count": null,
      "outputs": []
    },
    {
      "cell_type": "markdown",
      "metadata": {
        "id": "C-cN5YV8wS44"
      },
      "source": [
        "\n",
        "#### 2.5. Shapiro-Wilk test is used to test if a random variable follows a Normal distribution (Null-hypothesis). Using this test identify the top $100$ genes which deviate significantly from normal."
      ]
    },
    {
      "cell_type": "markdown",
      "metadata": {
        "id": "OiCxQdDRwUpw"
      },
      "source": [
        "#### 2.6. Out of the $100$ genes obtained in 2.5., use an appropriate statistical test to obtain the $10$ most differentiating genes between ALL and AML classes."
      ]
    },
    {
      "cell_type": "code",
      "metadata": {
        "id": "9CN889y7wV2d"
      },
      "source": [
        ""
      ],
      "execution_count": null,
      "outputs": []
    },
    {
      "cell_type": "markdown",
      "metadata": {
        "id": "vl6_LuFLwWUx"
      },
      "source": [
        "#### 2.7. Inform yourself about the multiple testing problem. Apply one appropriate method to deal with it and explain how it works."
      ]
    },
    {
      "cell_type": "code",
      "metadata": {
        "id": "jIojopyUwXRW"
      },
      "source": [
        ""
      ],
      "execution_count": null,
      "outputs": []
    },
    {
      "cell_type": "markdown",
      "metadata": {
        "id": "wmahsY6jwiQ2"
      },
      "source": [
        "---\n",
        "### Exercise 3 - Linear regression\n",
        "Using the `Fish.csv` dataset, generate a multiple linear regression model with `Weight` as the response variable and `Length1`, `Length2`, `Length3`, `Height`, and `Width` as the predictors. Answer the following questions based on the regression model."
      ]
    },
    {
      "cell_type": "code",
      "metadata": {
        "id": "JTuhaUa1_7n0",
        "outputId": "e2acaa96-0adf-4aea-830a-ae03090e0cad",
        "colab": {
          "base_uri": "https://localhost:8080/",
          "height": 175
        }
      },
      "source": [
        "file_path = \"/content/drive/MyDrive/Colab Notebooks/MAINF4216_Databases/\"\n",
        "db_fish = pd.read_csv(file_path + \"Fish.csv\")\n",
        "db_fish.head(4)"
      ],
      "execution_count": 88,
      "outputs": [
        {
          "output_type": "execute_result",
          "data": {
            "text/html": [
              "<div>\n",
              "<style scoped>\n",
              "    .dataframe tbody tr th:only-of-type {\n",
              "        vertical-align: middle;\n",
              "    }\n",
              "\n",
              "    .dataframe tbody tr th {\n",
              "        vertical-align: top;\n",
              "    }\n",
              "\n",
              "    .dataframe thead th {\n",
              "        text-align: right;\n",
              "    }\n",
              "</style>\n",
              "<table border=\"1\" class=\"dataframe\">\n",
              "  <thead>\n",
              "    <tr style=\"text-align: right;\">\n",
              "      <th></th>\n",
              "      <th>Species</th>\n",
              "      <th>Weight</th>\n",
              "      <th>Length1</th>\n",
              "      <th>Length2</th>\n",
              "      <th>Length3</th>\n",
              "      <th>Height</th>\n",
              "      <th>Width</th>\n",
              "    </tr>\n",
              "  </thead>\n",
              "  <tbody>\n",
              "    <tr>\n",
              "      <th>0</th>\n",
              "      <td>Bream</td>\n",
              "      <td>242.0</td>\n",
              "      <td>23.2</td>\n",
              "      <td>25.4</td>\n",
              "      <td>30.0</td>\n",
              "      <td>11.5200</td>\n",
              "      <td>4.0200</td>\n",
              "    </tr>\n",
              "    <tr>\n",
              "      <th>1</th>\n",
              "      <td>Bream</td>\n",
              "      <td>290.0</td>\n",
              "      <td>24.0</td>\n",
              "      <td>26.3</td>\n",
              "      <td>31.2</td>\n",
              "      <td>12.4800</td>\n",
              "      <td>4.3056</td>\n",
              "    </tr>\n",
              "    <tr>\n",
              "      <th>2</th>\n",
              "      <td>Bream</td>\n",
              "      <td>340.0</td>\n",
              "      <td>23.9</td>\n",
              "      <td>26.5</td>\n",
              "      <td>31.1</td>\n",
              "      <td>12.3778</td>\n",
              "      <td>4.6961</td>\n",
              "    </tr>\n",
              "    <tr>\n",
              "      <th>3</th>\n",
              "      <td>Bream</td>\n",
              "      <td>363.0</td>\n",
              "      <td>26.3</td>\n",
              "      <td>29.0</td>\n",
              "      <td>33.5</td>\n",
              "      <td>12.7300</td>\n",
              "      <td>4.4555</td>\n",
              "    </tr>\n",
              "  </tbody>\n",
              "</table>\n",
              "</div>"
            ],
            "text/plain": [
              "  Species  Weight  Length1  Length2  Length3   Height   Width\n",
              "0   Bream   242.0     23.2     25.4     30.0  11.5200  4.0200\n",
              "1   Bream   290.0     24.0     26.3     31.2  12.4800  4.3056\n",
              "2   Bream   340.0     23.9     26.5     31.1  12.3778  4.6961\n",
              "3   Bream   363.0     26.3     29.0     33.5  12.7300  4.4555"
            ]
          },
          "metadata": {
            "tags": []
          },
          "execution_count": 88
        }
      ]
    },
    {
      "cell_type": "code",
      "metadata": {
        "id": "QTGJqkRsAWEt",
        "outputId": "0e0e2bdd-5cb7-455a-ac16-1125ddaa7f5e",
        "colab": {
          "base_uri": "https://localhost:8080/"
        }
      },
      "source": [
        "### We use linear_model from sklearn\n",
        "### See: https://www.w3schools.com/python/python_ml_multiple_regression.asp for reference\n",
        "predictors = db_fish[['Length1', 'Length2', 'Length3', 'Height', 'Width']]\n",
        "response = db_fish['Weight']\n",
        "regr = linear_model.LinearRegression()\n",
        "regr.fit(predictors, response) "
      ],
      "execution_count": 92,
      "outputs": [
        {
          "output_type": "execute_result",
          "data": {
            "text/plain": [
              "LinearRegression(copy_X=True, fit_intercept=True, n_jobs=None, normalize=False)"
            ]
          },
          "metadata": {
            "tags": []
          },
          "execution_count": 92
        }
      ]
    },
    {
      "cell_type": "markdown",
      "metadata": {
        "id": "mMcV-oNXxKvB"
      },
      "source": [
        "#### 3.1. How large is the coefficient of the predictors?"
      ]
    },
    {
      "cell_type": "code",
      "metadata": {
        "id": "Nbx7plARxNQH",
        "outputId": "4982a686-120c-43eb-c6f6-8a685469f8df",
        "colab": {
          "base_uri": "https://localhost:8080/"
        }
      },
      "source": [
        "print(\"The coefficient\")\n",
        "for coef, pred in zip(regr.coef_, predictors):\n",
        "    print(f\"of {pred} is\\t{coef}\")"
      ],
      "execution_count": 96,
      "outputs": [
        {
          "output_type": "stream",
          "text": [
            "The coefficient\n",
            "of Length1 is\t62.35521443246453\n",
            "of Length2 is\t-6.526752492044295\n",
            "of Length3 is\t-29.026218612693484\n",
            "of Height is\t28.297351322276644\n",
            "of Width is\t22.4733066522373\n"
          ],
          "name": "stdout"
        }
      ]
    },
    {
      "cell_type": "markdown",
      "metadata": {
        "id": "Flkiv7B_xOSs"
      },
      "source": [
        "#### 3.2. What is the value of the adjusted $R$-squared? What does this tell us?"
      ]
    },
    {
      "cell_type": "code",
      "metadata": {
        "id": "MSwT3NonxRl9"
      },
      "source": [
        ""
      ],
      "execution_count": null,
      "outputs": []
    },
    {
      "cell_type": "markdown",
      "metadata": {
        "id": "ShLPrjDyxS09"
      },
      "source": [
        "#### 3.3. Which predictors lead to the increase in the weight of the fish, and which have a negative effect?"
      ]
    },
    {
      "cell_type": "code",
      "metadata": {
        "id": "cZpeY8zCxVD2"
      },
      "source": [
        ""
      ],
      "execution_count": null,
      "outputs": []
    },
    {
      "cell_type": "markdown",
      "metadata": {
        "id": "AL_8bVehxXLn"
      },
      "source": [
        "#### 3.4. Using a simple regression model, predict the weight of a fish with `length1` of $15$?"
      ]
    },
    {
      "cell_type": "code",
      "metadata": {
        "id": "aLt7bIxaxY0e",
        "outputId": "1713e827-1644-4cb5-d92d-707ccce027e6",
        "colab": {
          "base_uri": "https://localhost:8080/"
        }
      },
      "source": [
        "predictor_3_4 = db_fish['Length1'].values.reshape(-1, 1)\n",
        "regr_3_4 = linear_model.LinearRegression()\n",
        "regr_3_4.fit(predictor_len, response) \n",
        "print(f\"{regr_3_4.predict([[15]])[0]:.2f} kg\")"
      ],
      "execution_count": 110,
      "outputs": [
        {
          "output_type": "stream",
          "text": [
            "29.51 kg\n"
          ],
          "name": "stdout"
        }
      ]
    },
    {
      "cell_type": "markdown",
      "metadata": {
        "id": "bX5t83cZxdLS"
      },
      "source": [
        "#### 3.5. Predict the weight of a fish with `length1`, `height`, and `width` of $20.0$, $7.3$, and $5.3$ using a multiple linear regression model."
      ]
    },
    {
      "cell_type": "code",
      "metadata": {
        "id": "U3PBBH3sxi72",
        "outputId": "0811ae8d-ffb0-4b81-8c4f-4eeb33aa23a0",
        "colab": {
          "base_uri": "https://localhost:8080/"
        }
      },
      "source": [
        "predictor_3_5 = db_fish[['Length1', 'Height', 'Width']]\n",
        "regr_3_5 = linear_model.LinearRegression()\n",
        "regr_3_5.fit(predictor_3_5, response) \n",
        "print(f\"{regr_3_5.predict([[20.0, 7.3, 5.3]])[0]:.2f} kg\")"
      ],
      "execution_count": 112,
      "outputs": [
        {
          "output_type": "stream",
          "text": [
            "272.67 kg\n"
          ],
          "name": "stdout"
        }
      ]
    },
    {
      "cell_type": "markdown",
      "metadata": {
        "id": "FE8B6jmKxktN"
      },
      "source": [
        "#### 3.6. What are the associated 95% confidence intervals for the predictors, as well as for intercept?"
      ]
    },
    {
      "cell_type": "code",
      "metadata": {
        "id": "6Osv_OlMxn0Q"
      },
      "source": [
        ""
      ],
      "execution_count": null,
      "outputs": []
    }
  ]
}