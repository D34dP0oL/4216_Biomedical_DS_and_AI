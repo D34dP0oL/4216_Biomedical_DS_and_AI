{
  "nbformat": 4,
  "nbformat_minor": 0,
  "metadata": {
    "kernelspec": {
      "display_name": "Python 3",
      "language": "python",
      "name": "python3"
    },
    "language_info": {
      "codemirror_mode": {
        "name": "ipython",
        "version": 3
      },
      "file_extension": ".py",
      "mimetype": "text/x-python",
      "name": "python",
      "nbconvert_exporter": "python",
      "pygments_lexer": "ipython3",
      "version": "3.7.7"
    },
    "colab": {
      "name": "Assignment3_Solutions.ipynb",
      "provenance": [],
      "include_colab_link": true
    }
  },
  "cells": [
    {
      "cell_type": "markdown",
      "metadata": {
        "id": "view-in-github",
        "colab_type": "text"
      },
      "source": [
        "<a href=\"https://colab.research.google.com/github/D34dP0oL/4216_Biomedical_DS_and_AI/blob/main/Sheet3/Assignment3_Solutions.ipynb\" target=\"_parent\"><img src=\"https://colab.research.google.com/assets/colab-badge.svg\" alt=\"Open In Colab\"/></a>"
      ]
    },
    {
      "cell_type": "code",
      "metadata": {
        "id": "-UnHoHsFop-8"
      },
      "source": [
        "import numpy as np\n",
        "import math"
      ],
      "execution_count": 5,
      "outputs": []
    },
    {
      "cell_type": "markdown",
      "metadata": {
        "id": "Lx0G72bGl7xc"
      },
      "source": [
        "## Biomedical Data Science & AI\n",
        "\n",
        "## Assignment 3\n",
        "\n",
        "#### Group members:  Fabrice Beaumont, Fatemeh Salehi, Genivika Mann, Helia Salimi, Jonah"
      ]
    },
    {
      "cell_type": "markdown",
      "metadata": {
        "id": "-fhYMe5ml7xo"
      },
      "source": [
        "#### Exercise 1 - Probability\n",
        "The amount of wine bottles sold in a shop follows a Poisson distribution with *180*\n",
        "bottles per week (6 days). If $C$ is the **random variable for bottles per day**, how is:"
      ]
    },
    {
      "cell_type": "markdown",
      "metadata": {
        "id": "JN3egxQomuP8"
      },
      "source": [
        "#### 1.a. The probability that the shop will only sell 20 bottles per day?"
      ]
    },
    {
      "cell_type": "markdown",
      "metadata": {
        "id": "Mk1azku9mp1v"
      },
      "source": [
        "The probability distribution of a Poisson random variable $X$ (here amount of sold wine bottles over time) is given by\n",
        "$$ \\mathbb{P}[X=x] = \\frac{\\exp(-\\mu) \\mu^x}{x!} $$\n",
        "\n",
        "\n",
        "The given setting gives the following means: $\\mu_{\\text{week}} = 180 \\ \\implies \\ \\mu_{\\text{day}} = 180/6 = 30$. \n",
        "\n",
        "Thus the probability to sell $20$ bottles per day is:\n",
        "\n",
        "$\\begin{aligned} \\mathbb{P}[X=20] &= \\frac{\\exp(-\\mu_{\\text{day}}) \\mu_{\\text{day}}^{20}}{20!}\\\\\n",
        "&= \\frac{\\exp(-\\mu_{\\text{day}}) \\mu_{\\text{day}}^{20}}{20!} \\\\\n",
        "&= \\frac{\\exp(-30) 30^{20}}{20!} \\qquad \\approx \\text{well ... tiny. This can't be right - right?}\\\\\n",
        "\\end{aligned}$\n"
      ]
    },
    {
      "cell_type": "code",
      "metadata": {
        "id": "l39h7O0xoeUX",
        "outputId": "bef08d8e-4a3a-474f-e8ef-202b83a4e23e",
        "colab": {
          "base_uri": "https://localhost:8080/"
        }
      },
      "source": [
        "print(f\"{np.exp(-30)* np.power(30, 20) / math.factorial(20)}\")"
      ],
      "execution_count": 12,
      "outputs": [
        {
          "output_type": "stream",
          "text": [
            "-1.6755778325549218e-13\n"
          ],
          "name": "stdout"
        }
      ]
    },
    {
      "cell_type": "markdown",
      "metadata": {
        "id": "wlJUEarCm1m_"
      },
      "source": [
        "#### 1.b. The probability that the demand is more than average for a particular day?"
      ]
    },
    {
      "cell_type": "markdown",
      "metadata": {
        "id": "cDaDLh2urlyU"
      },
      "source": [
        "**No statement about the demand was made!** We assume this is equal to the number of sold bottles. Since $\\mu_{\\text{day}}$ is the expected/average abount of sold bottles per day, the probability to sell more than this is:\n",
        "\n",
        "$\\begin{aligned} \\mathbb{P}[X> \\mu_{\\text{day}}] = 1-\\mathbb{P}[X\\le \\mu_{\\text{day}}] &= 1-\\sum_{i=0}^{\\mu_{\\text{day}}} \\frac{\\exp(-\\mu_{\\text{day}}) \\mu_{\\text{day}}^{i}}{i!}\\\\\n",
        "&= \\dots \n",
        "\\end{aligned}$"
      ]
    },
    {
      "cell_type": "markdown",
      "metadata": {
        "id": "DSMfw49om1XF"
      },
      "source": [
        "#### 1.c. The expected number of units per day $\\mathbb{E}[C]$?"
      ]
    },
    {
      "cell_type": "markdown",
      "metadata": {
        "id": "EWaHzsHEm0gm"
      },
      "source": [
        "#### 1.d. What is $\\text{Var}[C]$?"
      ]
    },
    {
      "cell_type": "markdown",
      "metadata": {
        "id": "tqD5sFn9nKt6"
      },
      "source": [
        "#### 1.e. The standard deviation of $C$?"
      ]
    },
    {
      "cell_type": "markdown",
      "metadata": {
        "id": "kltDaoYgnP8w"
      },
      "source": [
        "#### Exercise 2 - Hypothesis testing\n",
        "This exercise illustrates a gene expression data set with its normally distributed values.\n",
        "Consider the gene expression data of the Golub dataset. Load the file `golub.csv`. \n",
        "It contains gene expression data of 3051 genes from 38 tumor mRNA samples. The expression data is organized in a matrix where rows correspond to genes and columns to samples. The tumor class of the columns is given in the file `golub.cl`. The names of the genes (rows) are given in `golub.gnames`."
      ]
    },
    {
      "cell_type": "markdown",
      "metadata": {
        "id": "GNYuBGE6l7xz"
      },
      "source": [
        "#### 2.1. Calculate the sample mean of all genes $\\beta$ in the pooled expression matrix. Use these means to determine the overall mean $\\beta_0$ by just taking the average."
      ]
    },
    {
      "cell_type": "code",
      "metadata": {
        "id": "e4d-7gKPnuqg"
      },
      "source": [
        ""
      ],
      "execution_count": null,
      "outputs": []
    }
  ]
}