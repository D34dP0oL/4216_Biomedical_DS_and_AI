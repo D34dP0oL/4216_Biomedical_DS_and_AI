{
 "cells": [
  {
   "cell_type": "markdown",
   "metadata": {},
   "source": [
    "## Biomedical Data Science & AI\n",
    "\n",
    "## Assignment 2\n",
    "\n",
    "#### Group members:  Fabrice Beaumont, Fatemeh Salehi, Genivika Mann, Helia Salimi, Jonah"
   ]
  },
  {
   "cell_type": "markdown",
   "metadata": {},
   "source": [
    "#### **Exercise 1 - Understanding Your Dataset**\n",
    "**Load the processedClevelandData.csv dataset. The features for the dataset are\n",
    "described in the featureDescription.csv file.**"
   ]
  },
  {
   "cell_type": "code",
   "execution_count": 16,
   "metadata": {},
   "outputs": [],
   "source": [
    "import pandas as pd"
   ]
  },
  {
   "cell_type": "code",
   "execution_count": 17,
   "metadata": {},
   "outputs": [
    {
     "name": "stdout",
     "output_type": "stream",
     "text": [
      "The dataset contains 303 rows and 16 columns.\n",
      "   Unnamed: 0  Unnamed: 0.1  id   Age  Sex   cp  trestbps         chol  fbs  \\\n",
      "0           0             0   1  63.0  1.0  1.0     145.0  233.0 mg/dl  1.0   \n",
      "1           1             1   2  67.0  1.0  4.0     160.0  286.0 mg/dl  0.0   \n",
      "2           2             2   3  67.0  1.0  4.0     120.0  229.0 mg/dl  0.0   \n",
      "3           3             3   4  37.0  1.0  3.0     130.0  250.0 mg/dl  0.0   \n",
      "4           4             4   5  41.0  0.0  2.0     130.0  204.0 mg/dl  0.0   \n",
      "\n",
      "   resetecg  thalach  exang  slope   ca thal  num  \n",
      "0       2.0    150.0    0.0    3.0  0.0  6.0    0  \n",
      "1       2.0    108.0    1.0    2.0  3.0  3.0    2  \n",
      "2       2.0    129.0    1.0    2.0  2.0  7.0    1  \n",
      "3       0.0    187.0    0.0    3.0  0.0  3.0    0  \n",
      "4       2.0    172.0    0.0    1.0  0.0  3.0    0  \n"
     ]
    }
   ],
   "source": [
    "# load dataset in dataframe\n",
    "cleveland_dataset = pd.read_csv( \"processedClevelandData.csv\", sep = \";\" )\n",
    "nr_rows, nr_cols = cleveland_dataset.shape\n",
    "print( f\"The dataset contains {nr_rows} rows and {nr_cols} columns.\" )\n",
    "print( cleveland_dataset.head(5) )"
   ]
  },
  {
   "cell_type": "code",
   "execution_count": 18,
   "metadata": {},
   "outputs": [
    {
     "name": "stdout",
     "output_type": "stream",
     "text": [
      "The dataset contains 27 rows and 2 columns.\n",
      "                                             features  \\\n",
      "0                                                  id   \n",
      "1                                                 Age   \n",
      "2                   Sex;\"sex (1 = male; 0 = female) \"   \n",
      "3                                cp;\"chest pain type    \n",
      "4                         -- Value 1: typical angina    \n",
      "5                        -- Value 2: atypical angina    \n",
      "6                       -- Value 3: non-anginal pain    \n",
      "7                          -- Value 4: asymptomatic \"   \n",
      "8                                            trestbps   \n",
      "9                                                chol   \n",
      "10  fbs;\"(fasting blood sugar > 120 mg/dl) (1 = tr...   \n",
      "11   resetecg;\" resting electrocardiographic results    \n",
      "12                                -- Value 0: normal    \n",
      "13  -- Value 1: having ST-T wave abnormality (T wa...   \n",
      "14  -- Value 2: showing probable or definite left ...   \n",
      "15                                            thalach   \n",
      "16  exang;\"exercise induced angina (1 = yes; 0 = n...   \n",
      "17  slope;\" the slope of the peak exercise ST segm...   \n",
      "18                             -- Value 1: upsloping    \n",
      "19                                  -- Value 2: flat    \n",
      "20                          -- Value 3: downsloping \"   \n",
      "21                                                 ca   \n",
      "22  thal;\"3 = normal; 6 = fixed defect; 7 = revers...   \n",
      "23  num;\" diagnosis of heart disease (angiographic...   \n",
      "24              -- Value 0: < 50% diameter narrowing    \n",
      "25              -- Value 1: > 50% diameter narrowing    \n",
      "26  (in any major vessel: attributes 59 through 68...   \n",
      "\n",
      "                                          description  \n",
      "0                       patient identification number  \n",
      "1                                        age in years  \n",
      "2                                                 NaN  \n",
      "3                                                 NaN  \n",
      "4                                                 NaN  \n",
      "5                                                 NaN  \n",
      "6                                                 NaN  \n",
      "7                                                 NaN  \n",
      "8   resting blood pressure (in mm Hg on admission ...  \n",
      "9                         serum cholestoral in mg/dl   \n",
      "10                                                NaN  \n",
      "11                                                NaN  \n",
      "12                                                NaN  \n",
      "13                                                NaN  \n",
      "14                                                NaN  \n",
      "15                       maximum heart rate achieved   \n",
      "16                                                NaN  \n",
      "17                                                NaN  \n",
      "18                                                NaN  \n",
      "19                                                NaN  \n",
      "20                                                NaN  \n",
      "21  number of major vessels (0-3) colored by flour...  \n",
      "22                                                NaN  \n",
      "23                                                NaN  \n",
      "24                                                NaN  \n",
      "25                                                NaN  \n",
      "26                                                NaN  \n"
     ]
    }
   ],
   "source": [
    "# load feature description in data frame\n",
    "feature_description = pd.read_csv( \"featureDescription.csv\", sep = \";\" )\n",
    "nr_rows, nr_cols = feature_description.shape\n",
    "print( f\"The dataset contains {nr_rows} rows and {nr_cols} columns.\" )\n",
    "\n",
    "print( feature_description )\n",
    "# feature_description.style"
   ]
  },
  {
   "cell_type": "markdown",
   "metadata": {},
   "source": [
    "**1. Perform data cleaning procedures such that your final dataset is usable in the\n",
    "following questions.**"
   ]
  },
  {
   "cell_type": "markdown",
   "metadata": {},
   "source": [
    "1. Check unique values in each column, to remove any column without any unique value"
   ]
  },
  {
   "cell_type": "code",
   "execution_count": 19,
   "metadata": {},
   "outputs": [
    {
     "name": "stdout",
     "output_type": "stream",
     "text": [
      "No. of unique values in each column\n",
      "Unnamed: 0      303\n",
      "Unnamed: 0.1    303\n",
      "id              303\n",
      "Age              41\n",
      "Sex               2\n",
      "cp                4\n",
      "trestbps         50\n",
      "chol            152\n",
      "fbs               2\n",
      "resetecg          3\n",
      "thalach          91\n",
      "exang             2\n",
      "slope             3\n",
      "ca                5\n",
      "thal              4\n",
      "num               5\n",
      "dtype: int64\n"
     ]
    }
   ],
   "source": [
    "print( 'No. of unique values in each column')\n",
    "print( cleveland_dataset.nunique() )"
   ]
  },
  {
   "cell_type": "markdown",
   "metadata": {},
   "source": [
    "2. Check and remove duplicate rows in dataset"
   ]
  },
  {
   "cell_type": "code",
   "execution_count": 20,
   "metadata": {},
   "outputs": [
    {
     "name": "stdout",
     "output_type": "stream",
     "text": [
      "There are 0 duplicated rows.\n"
     ]
    }
   ],
   "source": [
    "import numpy as np\n",
    "# count no. of duplicate rows\n",
    "nr_duplicated_rows = np.sum( cleveland_dataset.duplicated() )\n",
    "print( f\"There are {nr_duplicated_rows} duplicated rows.\" ) "
   ]
  },
  {
   "cell_type": "markdown",
   "metadata": {},
   "source": [
    "3. Check and remove missing values in dataset"
   ]
  },
  {
   "cell_type": "code",
   "execution_count": 21,
   "metadata": {},
   "outputs": [
    {
     "name": "stdout",
     "output_type": "stream",
     "text": [
      "There are 0 values missing (or NaN) in all columns and rows.\n"
     ]
    }
   ],
   "source": [
    "# count no. of missing values in the dataset\n",
    "nr_missing_values = cleveland_dataset.isna().sum().sum()\n",
    "print(f\"There are {nr_missing_values} values missing (or NaN) in all columns and rows.\")"
   ]
  },
  {
   "cell_type": "markdown",
   "metadata": {},
   "source": [
    "4. Change index of dataset to the 'id' column"
   ]
  },
  {
   "cell_type": "code",
   "execution_count": 22,
   "metadata": {},
   "outputs": [
    {
     "data": {
      "text/plain": [
       "True"
      ]
     },
     "execution_count": 22,
     "metadata": {},
     "output_type": "execute_result"
    }
   ],
   "source": [
    "# Check whether `id` column uniquely identifies each row\n",
    "cleveland_dataset[ 'id' ].is_unique "
   ]
  },
  {
   "cell_type": "code",
   "execution_count": 8,
   "metadata": {},
   "outputs": [
    {
     "name": "stdout",
     "output_type": "stream",
     "text": [
      "     Unnamed: 0  Unnamed: 0.1   Age  Sex   cp  trestbps         chol  fbs  \\\n",
      "id                                                                          \n",
      "1             0             0  63.0  1.0  1.0     145.0  233.0 mg/dl  1.0   \n",
      "2             1             1  67.0  1.0  4.0     160.0  286.0 mg/dl  0.0   \n",
      "3             2             2  67.0  1.0  4.0     120.0  229.0 mg/dl  0.0   \n",
      "4             3             3  37.0  1.0  3.0     130.0  250.0 mg/dl  0.0   \n",
      "5             4             4  41.0  0.0  2.0     130.0  204.0 mg/dl  0.0   \n",
      "6             5             5  56.0  1.0  2.0     120.0  236.0 mg/dl  0.0   \n",
      "7             6             6  62.0  0.0  4.0     140.0  268.0 mg/dl  0.0   \n",
      "8             7             7  57.0  0.0  4.0     120.0  354.0 mg/dl  0.0   \n",
      "9             8             8  63.0  1.0  4.0     130.0  254.0 mg/dl  0.0   \n",
      "10            9             9  53.0  1.0  4.0     140.0  203.0 mg/dl  1.0   \n",
      "11           10            10  57.0  1.0  4.0     140.0  192.0 mg/dl  0.0   \n",
      "12           11            11  56.0  0.0  2.0     140.0  294.0 mg/dl  0.0   \n",
      "13           12            12  56.0  1.0  3.0     130.0  256.0 mg/dl  1.0   \n",
      "14           13            13  44.0  1.0  2.0     120.0  263.0 mg/dl  0.0   \n",
      "15           14            14  52.0  1.0  3.0     172.0  199.0 mg/dl  1.0   \n",
      "16           15            15  57.0  1.0  3.0     150.0  168.0 mg/dl  0.0   \n",
      "17           16            16  48.0  1.0  2.0     110.0  229.0 mg/dl  0.0   \n",
      "18           17            17  54.0  1.0  4.0     140.0  239.0 mg/dl  0.0   \n",
      "19           18            18  48.0  0.0  3.0     130.0  275.0 mg/dl  0.0   \n",
      "20           19            19  49.0  1.0  2.0     130.0  266.0 mg/dl  0.0   \n",
      "21           20            20  64.0  1.0  1.0     110.0  211.0 mg/dl  0.0   \n",
      "22           21            21  58.0  0.0  1.0     150.0  283.0 mg/dl  1.0   \n",
      "23           22            22  58.0  1.0  2.0     120.0  284.0 mg/dl  0.0   \n",
      "24           23            23  58.0  1.0  3.0     132.0  224.0 mg/dl  0.0   \n",
      "25           24            24  60.0  1.0  4.0     130.0  206.0 mg/dl  0.0   \n",
      "26           25            25  50.0  0.0  3.0     120.0  219.0 mg/dl  0.0   \n",
      "27           26            26  58.0  0.0  3.0     120.0  340.0 mg/dl  0.0   \n",
      "28           27            27  66.0  0.0  1.0     150.0  226.0 mg/dl  0.0   \n",
      "29           28            28  43.0  1.0  4.0     150.0  247.0 mg/dl  0.0   \n",
      "30           29            29  40.0  1.0  4.0     110.0  167.0 mg/dl  0.0   \n",
      "..          ...           ...   ...  ...  ...       ...          ...  ...   \n",
      "274         273           273  71.0  0.0  4.0     112.0  149.0 mg/dl  0.0   \n",
      "275         274           274  59.0  1.0  1.0     134.0  204.0 mg/dl  0.0   \n",
      "276         275           275  64.0  1.0  1.0     170.0  227.0 mg/dl  0.0   \n",
      "277         276           276  66.0  0.0  3.0     146.0  278.0 mg/dl  0.0   \n",
      "278         277           277  39.0  0.0  3.0     138.0  220.0 mg/dl  0.0   \n",
      "279         278           278  57.0  1.0  2.0     154.0  232.0 mg/dl  0.0   \n",
      "280         279           279  58.0  0.0  4.0     130.0  197.0 mg/dl  0.0   \n",
      "281         280           280  57.0  1.0  4.0     110.0  335.0 mg/dl  0.0   \n",
      "282         281           281  47.0  1.0  3.0     130.0  253.0 mg/dl  0.0   \n",
      "283         282           282  55.0  0.0  4.0     128.0  205.0 mg/dl  0.0   \n",
      "284         283           283  35.0  1.0  2.0     122.0  192.0 mg/dl  0.0   \n",
      "285         284           284  61.0  1.0  4.0     148.0  203.0 mg/dl  0.0   \n",
      "286         285           285  58.0  1.0  4.0     114.0  318.0 mg/dl  0.0   \n",
      "287         286           286  58.0  0.0  4.0     170.0  225.0 mg/dl  1.0   \n",
      "288         287           287  58.0  1.0  2.0     125.0  220.0 mg/dl  0.0   \n",
      "289         288           288  56.0  1.0  2.0     130.0  221.0 mg/dl  0.0   \n",
      "290         289           289  56.0  1.0  2.0     120.0  240.0 mg/dl  0.0   \n",
      "291         290           290  67.0  1.0  3.0     152.0  212.0 mg/dl  0.0   \n",
      "292         291           291  55.0  0.0  2.0     132.0  342.0 mg/dl  0.0   \n",
      "293         292           292  44.0  1.0  4.0     120.0  169.0 mg/dl  0.0   \n",
      "294         293           293  63.0  1.0  4.0     140.0  187.0 mg/dl  0.0   \n",
      "295         294           294  63.0  0.0  4.0     124.0  197.0 mg/dl  0.0   \n",
      "296         295           295  41.0  1.0  2.0     120.0  157.0 mg/dl  0.0   \n",
      "297         296           296  59.0  1.0  4.0     164.0  176.0 mg/dl  1.0   \n",
      "298         297           297  57.0  0.0  4.0     140.0  241.0 mg/dl  0.0   \n",
      "299         298           298  45.0  1.0  1.0     110.0  264.0 mg/dl  0.0   \n",
      "300         299           299  68.0  1.0  4.0     144.0  193.0 mg/dl  1.0   \n",
      "301         300           300  57.0  1.0  4.0     130.0  131.0 mg/dl  0.0   \n",
      "302         301           301  57.0  0.0  2.0     130.0  236.0 mg/dl  0.0   \n",
      "303         302           302  38.0  1.0  3.0     138.0  175.0 mg/dl  0.0   \n",
      "\n",
      "     resetecg  thalach  exang  slope   ca thal  num  \n",
      "id                                                   \n",
      "1         2.0    150.0    0.0    3.0  0.0  6.0    0  \n",
      "2         2.0    108.0    1.0    2.0  3.0  3.0    2  \n",
      "3         2.0    129.0    1.0    2.0  2.0  7.0    1  \n",
      "4         0.0    187.0    0.0    3.0  0.0  3.0    0  \n",
      "5         2.0    172.0    0.0    1.0  0.0  3.0    0  \n",
      "6         0.0    178.0    0.0    1.0  0.0  3.0    0  \n",
      "7         2.0    160.0    0.0    3.0  2.0  3.0    3  \n",
      "8         0.0    163.0    1.0    1.0  0.0  3.0    0  \n",
      "9         2.0    147.0    0.0    2.0  1.0  7.0    2  \n",
      "10        2.0    155.0    1.0    3.0  0.0  7.0    1  \n",
      "11        0.0    148.0    0.0    2.0  0.0  6.0    0  \n",
      "12        2.0    153.0    0.0    2.0  0.0  3.0    0  \n",
      "13        2.0    142.0    1.0    2.0  1.0  6.0    2  \n",
      "14        0.0    173.0    0.0    1.0  0.0  7.0    0  \n",
      "15        0.0    162.0    0.0    1.0  0.0  7.0    0  \n",
      "16        0.0    174.0    0.0    1.0  0.0  3.0    0  \n",
      "17        0.0    168.0    0.0    3.0  0.0  7.0    1  \n",
      "18        0.0    160.0    0.0    1.0  0.0  3.0    0  \n",
      "19        0.0    139.0    0.0    1.0  0.0  3.0    0  \n",
      "20        0.0    171.0    0.0    1.0  0.0  3.0    0  \n",
      "21        2.0    144.0    1.0    2.0  0.0  3.0    0  \n",
      "22        2.0    162.0    0.0    1.0  0.0  3.0    0  \n",
      "23        2.0    160.0    0.0    2.0  0.0  3.0    1  \n",
      "24        2.0    173.0    0.0    1.0  2.0  7.0    3  \n",
      "25        2.0    132.0    1.0    2.0  2.0  7.0    4  \n",
      "26        0.0    158.0    0.0    2.0  0.0  3.0    0  \n",
      "27        0.0    172.0    0.0    1.0  0.0  3.0    0  \n",
      "28        0.0    114.0    0.0    3.0  0.0  3.0    0  \n",
      "29        0.0    171.0    0.0    1.0  0.0  3.0    0  \n",
      "30        2.0    114.0    1.0    2.0  0.0  7.0    3  \n",
      "..        ...      ...    ...    ...  ...  ...  ...  \n",
      "274       0.0    125.0    0.0    2.0  0.0  3.0    0  \n",
      "275       0.0    162.0    0.0    1.0  2.0  3.0    1  \n",
      "276       2.0    155.0    0.0    2.0  0.0  7.0    0  \n",
      "277       2.0    152.0    0.0    2.0  1.0  3.0    0  \n",
      "278       0.0    152.0    0.0    2.0  0.0  3.0    0  \n",
      "279       2.0    164.0    0.0    1.0  1.0  3.0    1  \n",
      "280       0.0    131.0    0.0    2.0  0.0  3.0    0  \n",
      "281       0.0    143.0    1.0    2.0  1.0  7.0    2  \n",
      "282       0.0    179.0    0.0    1.0  0.0  3.0    0  \n",
      "283       1.0    130.0    1.0    2.0  1.0  7.0    3  \n",
      "284       0.0    174.0    0.0    1.0  0.0  3.0    0  \n",
      "285       0.0    161.0    0.0    1.0  1.0  7.0    2  \n",
      "286       1.0    140.0    0.0    3.0  3.0  6.0    4  \n",
      "287       2.0    146.0    1.0    2.0  2.0  6.0    2  \n",
      "288       0.0    144.0    0.0    2.0    ?  7.0    0  \n",
      "289       2.0    163.0    0.0    1.0  0.0  7.0    0  \n",
      "290       0.0    169.0    0.0    3.0  0.0  3.0    0  \n",
      "291       2.0    150.0    0.0    2.0  0.0  7.0    1  \n",
      "292       0.0    166.0    0.0    1.0  0.0  3.0    0  \n",
      "293       0.0    144.0    1.0    3.0  0.0  6.0    2  \n",
      "294       2.0    144.0    1.0    1.0  2.0  7.0    2  \n",
      "295       0.0    136.0    1.0    2.0  0.0  3.0    1  \n",
      "296       0.0    182.0    0.0    1.0  0.0  3.0    0  \n",
      "297       2.0     90.0    0.0    2.0  2.0  6.0    3  \n",
      "298       0.0    123.0    1.0    2.0  0.0  7.0    1  \n",
      "299       0.0    132.0    0.0    2.0  0.0  7.0    1  \n",
      "300       0.0    141.0    0.0    2.0  2.0  7.0    2  \n",
      "301       0.0    115.0    1.0    2.0  1.0  7.0    3  \n",
      "302       2.0    174.0    0.0    2.0  1.0  3.0    1  \n",
      "303       0.0    173.0    0.0    1.0    ?  3.0    0  \n",
      "\n",
      "[303 rows x 15 columns]\n"
     ]
    }
   ],
   "source": [
    "# Change index of dataset to `id` column\n",
    "cleveland_dataset.set_index( 'id', inplace = True )\n",
    "print( cleveland_dataset )"
   ]
  },
  {
   "cell_type": "markdown",
   "metadata": {},
   "source": [
    "5. Check for inconsistent data"
   ]
  },
  {
   "cell_type": "code",
   "execution_count": 9,
   "metadata": {},
   "outputs": [
    {
     "data": {
      "text/plain": [
       "Unnamed: 0        int64\n",
       "Unnamed: 0.1      int64\n",
       "Age             float64\n",
       "Sex             float64\n",
       "cp              float64\n",
       "trestbps        float64\n",
       "chol             object\n",
       "fbs             float64\n",
       "resetecg        float64\n",
       "thalach         float64\n",
       "exang           float64\n",
       "slope           float64\n",
       "ca               object\n",
       "thal             object\n",
       "num               int64\n",
       "dtype: object"
      ]
     },
     "execution_count": 9,
     "metadata": {},
     "output_type": "execute_result"
    }
   ],
   "source": [
    "# list datatype of the data present in each column\n",
    "cleveland_dataset.dtypes"
   ]
  },
  {
   "cell_type": "code",
   "execution_count": 10,
   "metadata": {},
   "outputs": [
    {
     "name": "stdout",
     "output_type": "stream",
     "text": [
      "Value counts of `ca` column \n",
      "0.0    176\n",
      "1.0     65\n",
      "2.0     38\n",
      "3.0     20\n",
      "?        4\n",
      "Name: ca, dtype: int64\n",
      "Value counts of `thal` column \n",
      "3.0    166\n",
      "7.0    117\n",
      "6.0     18\n",
      "?        2\n",
      "Name: thal, dtype: int64\n"
     ]
    }
   ],
   "source": [
    "# examine values present in `ca` column and `thal` column\n",
    "print( 'Value counts of `ca` column ' )\n",
    "print( cleveland_dataset[ 'ca' ].value_counts() )\n",
    "print( 'Value counts of `thal` column ' )\n",
    "print( cleveland_dataset[ 'thal' ].value_counts() )"
   ]
  },
  {
   "cell_type": "markdown",
   "metadata": {},
   "source": [
    "The value `?` is present in column `ca` and `thal`. We drop all rows containing `?` value for these columns."
   ]
  },
  {
   "cell_type": "code",
   "execution_count": 11,
   "metadata": {},
   "outputs": [],
   "source": [
    "cleveland_dataset = cleveland_dataset[ ( cleveland_dataset[ \"ca\" ] != \"?\" ) ]\n",
    "cleveland_dataset = cleveland_dataset[ ( cleveland_dataset[ \"thal\" ] != \"?\" ) ]"
   ]
  },
  {
   "cell_type": "code",
   "execution_count": 12,
   "metadata": {},
   "outputs": [
    {
     "name": "stdout",
     "output_type": "stream",
     "text": [
      "0.0    174\n",
      "1.0     65\n",
      "2.0     38\n",
      "3.0     20\n",
      "Name: ca, dtype: int64\n"
     ]
    }
   ],
   "source": [
    "# `?` removed in `ca` column\n",
    "print( cleveland_dataset[ 'ca' ].value_counts() )"
   ]
  },
  {
   "cell_type": "code",
   "execution_count": 13,
   "metadata": {},
   "outputs": [
    {
     "name": "stdout",
     "output_type": "stream",
     "text": [
      "3.0    164\n",
      "7.0    115\n",
      "6.0     18\n",
      "Name: thal, dtype: int64\n"
     ]
    }
   ],
   "source": [
    "# `?` removed in `thal` column\n",
    "print( cleveland_dataset[ 'thal' ].value_counts() )"
   ]
  },
  {
   "cell_type": "markdown",
   "metadata": {},
   "source": [
    "**2. For each type of diagnosis of heart disease, find the following for the resting blood pressure: Mean, Median, Standard Deviation**"
   ]
  },
  {
   "cell_type": "code",
   "execution_count": 14,
   "metadata": {},
   "outputs": [
    {
     "name": "stdout",
     "output_type": "stream",
     "text": [
      "Diagnosis Value  0\n",
      "Mean 129.175\n",
      "Median 130.0\n",
      "Standard Deviation 16.37398995876728\n",
      "\n",
      "\n",
      "Diagnosis Value  2\n",
      "Mean 134.37142857142857\n",
      "Median 134.0\n",
      "Standard Deviation 18.125519407220104\n",
      "\n",
      "\n",
      "Diagnosis Value  1\n",
      "Mean 133.27777777777777\n",
      "Median 130.0\n",
      "Standard Deviation 18.196429949115892\n",
      "\n",
      "\n",
      "Diagnosis Value  3\n",
      "Mean 135.45714285714286\n",
      "Median 130.0\n",
      "Standard Deviation 21.660947316667897\n",
      "\n",
      "\n",
      "Diagnosis Value  4\n",
      "Mean 138.76923076923077\n",
      "Median 145.0\n",
      "Standard Deviation 17.18601100776368\n",
      "\n",
      "\n"
     ]
    }
   ],
   "source": [
    "def findDescriptiveStats( feature_values ):\n",
    "    ''' This method prints the mean, median and standard deviation\n",
    "    of a feature\n",
    "    Args:\n",
    "        feature_values: A series containing values of\n",
    "        a feature of dataset\n",
    "    '''\n",
    "    print( 'Mean', feature_values.mean() )\n",
    "    print( 'Median', feature_values.median() )\n",
    "    print( 'Standard Deviation', feature_values.std() )\n",
    "    \n",
    "    \n",
    "    \n",
    "'''\n",
    "For each type of heart diagnosis in 'num' column, do the following:-\n",
    "1. filter the rows for that diagnosis\n",
    "2. call findDescriptiveStats() to compute mean, median and standard deviation of 'trestbps' over filtered rows\n",
    "'''\n",
    "for diagnosis_value in cleveland_dataset[ 'num' ].unique():\n",
    "    print( \"Diagnosis Value \", diagnosis_value )\n",
    "    filtered_dataset = cleveland_dataset[ cleveland_dataset[ 'num'] == diagnosis_value ]\n",
    "    findDescriptiveStats( filtered_dataset[ 'trestbps' ] )\n",
    "    print( \"\\n\" )\n"
   ]
  },
  {
   "cell_type": "markdown",
   "metadata": {},
   "source": [
    "**3. Use Spearman's and Kendall correlation to quantify the correlation between\n",
    "age and the following.\n",
    "a. Resting blood pressure\n",
    "b. Serum cholesterol level\n",
    "c. Maximum heart rate achieved\n",
    "Also, which variable(s) are most correlated with age? Illustrate with heatmaps.**"
   ]
  },
  {
   "cell_type": "code",
   "execution_count": 23,
   "metadata": {},
   "outputs": [
    {
     "name": "stdout",
     "output_type": "stream",
     "text": [
      "Correlation between Age & 0\n",
      "Spearman Correlation Coeffiecient:\t -0.0013312553045430916\n"
     ]
    },
    {
     "ename": "OverflowError",
     "evalue": "int too large to convert to float",
     "output_type": "error",
     "traceback": [
      "\u001b[0;31m---------------------------------------------------------------------------\u001b[0m",
      "\u001b[0;31mOverflowError\u001b[0m                             Traceback (most recent call last)",
      "\u001b[0;32m<ipython-input-23-bc15b469583c>\u001b[0m in \u001b[0;36m<module>\u001b[0;34m\u001b[0m\n\u001b[1;32m      5\u001b[0m     \u001b[0mprint\u001b[0m\u001b[0;34m(\u001b[0m \u001b[0;34m'Correlation between'\u001b[0m\u001b[0;34m,\u001b[0m \u001b[0;34m'Age &'\u001b[0m\u001b[0;34m,\u001b[0m \u001b[0mfeature_name\u001b[0m \u001b[0;34m)\u001b[0m\u001b[0;34m\u001b[0m\u001b[0;34m\u001b[0m\u001b[0m\n\u001b[1;32m      6\u001b[0m     \u001b[0mprint\u001b[0m\u001b[0;34m(\u001b[0m \u001b[0;34m'Spearman Correlation Coeffiecient:\\t'\u001b[0m\u001b[0;34m,\u001b[0m \u001b[0mcleveland_dataset\u001b[0m\u001b[0;34m.\u001b[0m\u001b[0mcorr\u001b[0m\u001b[0;34m(\u001b[0m\u001b[0mmethod\u001b[0m \u001b[0;34m=\u001b[0m \u001b[0;34m'spearman'\u001b[0m \u001b[0;34m)\u001b[0m\u001b[0;34m[\u001b[0m \u001b[0;34m'Age'\u001b[0m \u001b[0;34m]\u001b[0m\u001b[0;34m[\u001b[0m \u001b[0mfeature_name\u001b[0m \u001b[0;34m]\u001b[0m \u001b[0;34m)\u001b[0m\u001b[0;34m\u001b[0m\u001b[0;34m\u001b[0m\u001b[0m\n\u001b[0;32m----> 7\u001b[0;31m     \u001b[0mprint\u001b[0m\u001b[0;34m(\u001b[0m \u001b[0;34m'Kendall Correlation Coeffiecient:\\t'\u001b[0m\u001b[0;34m,\u001b[0m \u001b[0mcleveland_dataset\u001b[0m\u001b[0;34m.\u001b[0m\u001b[0mcorr\u001b[0m\u001b[0;34m(\u001b[0m\u001b[0mmethod\u001b[0m \u001b[0;34m=\u001b[0m \u001b[0;34m'kendall'\u001b[0m \u001b[0;34m)\u001b[0m\u001b[0;34m[\u001b[0m \u001b[0;34m'Age'\u001b[0m \u001b[0;34m]\u001b[0m\u001b[0;34m[\u001b[0m \u001b[0mfeature_name\u001b[0m \u001b[0;34m]\u001b[0m \u001b[0;34m)\u001b[0m\u001b[0;34m\u001b[0m\u001b[0;34m\u001b[0m\u001b[0m\n\u001b[0m\u001b[1;32m      8\u001b[0m     \u001b[0mprint\u001b[0m\u001b[0;34m(\u001b[0m \u001b[0;34m'\\n'\u001b[0m \u001b[0;34m)\u001b[0m\u001b[0;34m\u001b[0m\u001b[0;34m\u001b[0m\u001b[0m\n\u001b[1;32m      9\u001b[0m \u001b[0;34m\u001b[0m\u001b[0m\n",
      "\u001b[0;32m~/anaconda3/lib/python3.7/site-packages/pandas/core/frame.py\u001b[0m in \u001b[0;36mcorr\u001b[0;34m(self, method, min_periods)\u001b[0m\n\u001b[1;32m   7028\u001b[0m                         \u001b[0mc\u001b[0m \u001b[0;34m=\u001b[0m \u001b[0mcorrf\u001b[0m\u001b[0;34m(\u001b[0m\u001b[0mac\u001b[0m\u001b[0;34m[\u001b[0m\u001b[0mvalid\u001b[0m\u001b[0;34m]\u001b[0m\u001b[0;34m,\u001b[0m \u001b[0mbc\u001b[0m\u001b[0;34m[\u001b[0m\u001b[0mvalid\u001b[0m\u001b[0;34m]\u001b[0m\u001b[0;34m)\u001b[0m\u001b[0;34m\u001b[0m\u001b[0;34m\u001b[0m\u001b[0m\n\u001b[1;32m   7029\u001b[0m                     \u001b[0;32melse\u001b[0m\u001b[0;34m:\u001b[0m\u001b[0;34m\u001b[0m\u001b[0;34m\u001b[0m\u001b[0m\n\u001b[0;32m-> 7030\u001b[0;31m                         \u001b[0mc\u001b[0m \u001b[0;34m=\u001b[0m \u001b[0mcorrf\u001b[0m\u001b[0;34m(\u001b[0m\u001b[0mac\u001b[0m\u001b[0;34m,\u001b[0m \u001b[0mbc\u001b[0m\u001b[0;34m)\u001b[0m\u001b[0;34m\u001b[0m\u001b[0;34m\u001b[0m\u001b[0m\n\u001b[0m\u001b[1;32m   7031\u001b[0m                     \u001b[0mcorrel\u001b[0m\u001b[0;34m[\u001b[0m\u001b[0mi\u001b[0m\u001b[0;34m,\u001b[0m \u001b[0mj\u001b[0m\u001b[0;34m]\u001b[0m \u001b[0;34m=\u001b[0m \u001b[0mc\u001b[0m\u001b[0;34m\u001b[0m\u001b[0;34m\u001b[0m\u001b[0m\n\u001b[1;32m   7032\u001b[0m                     \u001b[0mcorrel\u001b[0m\u001b[0;34m[\u001b[0m\u001b[0mj\u001b[0m\u001b[0;34m,\u001b[0m \u001b[0mi\u001b[0m\u001b[0;34m]\u001b[0m \u001b[0;34m=\u001b[0m \u001b[0mc\u001b[0m\u001b[0;34m\u001b[0m\u001b[0;34m\u001b[0m\u001b[0m\n",
      "\u001b[0;32m~/anaconda3/lib/python3.7/site-packages/pandas/core/nanops.py\u001b[0m in \u001b[0;36m_kendall\u001b[0;34m(a, b)\u001b[0m\n\u001b[1;32m   1113\u001b[0m \u001b[0;34m\u001b[0m\u001b[0m\n\u001b[1;32m   1114\u001b[0m     \u001b[0;32mdef\u001b[0m \u001b[0m_kendall\u001b[0m\u001b[0;34m(\u001b[0m\u001b[0ma\u001b[0m\u001b[0;34m,\u001b[0m \u001b[0mb\u001b[0m\u001b[0;34m)\u001b[0m\u001b[0;34m:\u001b[0m\u001b[0;34m\u001b[0m\u001b[0;34m\u001b[0m\u001b[0m\n\u001b[0;32m-> 1115\u001b[0;31m         \u001b[0mrs\u001b[0m \u001b[0;34m=\u001b[0m \u001b[0mkendalltau\u001b[0m\u001b[0;34m(\u001b[0m\u001b[0ma\u001b[0m\u001b[0;34m,\u001b[0m \u001b[0mb\u001b[0m\u001b[0;34m)\u001b[0m\u001b[0;34m\u001b[0m\u001b[0;34m\u001b[0m\u001b[0m\n\u001b[0m\u001b[1;32m   1116\u001b[0m         \u001b[0;32mif\u001b[0m \u001b[0misinstance\u001b[0m\u001b[0;34m(\u001b[0m\u001b[0mrs\u001b[0m\u001b[0;34m,\u001b[0m \u001b[0mtuple\u001b[0m\u001b[0;34m)\u001b[0m\u001b[0;34m:\u001b[0m\u001b[0;34m\u001b[0m\u001b[0;34m\u001b[0m\u001b[0m\n\u001b[1;32m   1117\u001b[0m             \u001b[0;32mreturn\u001b[0m \u001b[0mrs\u001b[0m\u001b[0;34m[\u001b[0m\u001b[0;36m0\u001b[0m\u001b[0;34m]\u001b[0m\u001b[0;34m\u001b[0m\u001b[0;34m\u001b[0m\u001b[0m\n",
      "\u001b[0;32m~/anaconda3/lib/python3.7/site-packages/scipy/stats/stats.py\u001b[0m in \u001b[0;36mkendalltau\u001b[0;34m(x, y, initial_lexsort, nan_policy, method)\u001b[0m\n\u001b[1;32m   3630\u001b[0m             \u001b[0mpvalue\u001b[0m \u001b[0;34m=\u001b[0m \u001b[0;36m1.0\u001b[0m\u001b[0;34m\u001b[0m\u001b[0;34m\u001b[0m\u001b[0m\n\u001b[1;32m   3631\u001b[0m         \u001b[0;32melif\u001b[0m \u001b[0mc\u001b[0m \u001b[0;34m==\u001b[0m \u001b[0;36m0\u001b[0m\u001b[0;34m:\u001b[0m\u001b[0;34m\u001b[0m\u001b[0;34m\u001b[0m\u001b[0m\n\u001b[0;32m-> 3632\u001b[0;31m             \u001b[0mpvalue\u001b[0m \u001b[0;34m=\u001b[0m \u001b[0;36m2.0\u001b[0m\u001b[0;34m/\u001b[0m\u001b[0mnp\u001b[0m\u001b[0;34m.\u001b[0m\u001b[0mmath\u001b[0m\u001b[0;34m.\u001b[0m\u001b[0mfactorial\u001b[0m\u001b[0;34m(\u001b[0m\u001b[0msize\u001b[0m\u001b[0;34m)\u001b[0m\u001b[0;34m\u001b[0m\u001b[0;34m\u001b[0m\u001b[0m\n\u001b[0m\u001b[1;32m   3633\u001b[0m         \u001b[0;32melif\u001b[0m \u001b[0mc\u001b[0m \u001b[0;34m==\u001b[0m \u001b[0;36m1\u001b[0m\u001b[0;34m:\u001b[0m\u001b[0;34m\u001b[0m\u001b[0;34m\u001b[0m\u001b[0m\n\u001b[1;32m   3634\u001b[0m             \u001b[0mpvalue\u001b[0m \u001b[0;34m=\u001b[0m \u001b[0;36m2.0\u001b[0m\u001b[0;34m/\u001b[0m\u001b[0mnp\u001b[0m\u001b[0;34m.\u001b[0m\u001b[0mmath\u001b[0m\u001b[0;34m.\u001b[0m\u001b[0mfactorial\u001b[0m\u001b[0;34m(\u001b[0m\u001b[0msize\u001b[0m\u001b[0;34m-\u001b[0m\u001b[0;36m1\u001b[0m\u001b[0;34m)\u001b[0m\u001b[0;34m\u001b[0m\u001b[0;34m\u001b[0m\u001b[0m\n",
      "\u001b[0;31mOverflowError\u001b[0m: int too large to convert to float"
     ]
    }
   ],
   "source": [
    "selected_features = [ 'trestbps', 'chol', 'thalach' ]\n",
    "\n",
    "# calculating coefficients for selected_features\n",
    "for ( feature_name, index ) in enumerate( selected_features ):\n",
    "    print( 'Correlation between', 'Age &', feature_name )\n",
    "    print( 'Spearman Correlation Coeffiecient:\\t', cleveland_dataset.corr(method = 'spearman' )[ 'Age' ][ feature_name ] )\n",
    "    print( 'Kendall Correlation Coeffiecient:\\t', cleveland_dataset.corr(method = 'kendall' )[ 'Age' ][ feature_name ] )\n",
    "    print( '\\n' )\n",
    "    "
   ]
  },
  {
   "cell_type": "markdown",
   "metadata": {},
   "source": [
    "The `Age` and `thalach` ( maximum heart rate achieved ) have highest negative correlation, while the `Age` and `trestbps` ( resting blood pressure ) have the highest positive correlation value. This is confirmed with the heatmap below:"
   ]
  },
  {
   "cell_type": "code",
   "execution_count": 51,
   "metadata": {},
   "outputs": [
    {
     "name": "stdout",
     "output_type": "stream",
     "text": [
      "     trestbps  chol   thalach\n",
      "Age  0.292183   NaN -0.391633\n"
     ]
    },
    {
     "name": "stderr",
     "output_type": "stream",
     "text": [
      "/home/fabrice/anaconda3/lib/python3.7/site-packages/pandas/core/indexing.py:1494: FutureWarning: \n",
      "Passing list-likes to .loc or [] with any missing label will raise\n",
      "KeyError in the future, you can use .reindex() as an alternative.\n",
      "\n",
      "See the documentation here:\n",
      "https://pandas.pydata.org/pandas-docs/stable/indexing.html#deprecate-loc-reindex-listlike\n",
      "  return self._getitem_tuple(key)\n"
     ]
    },
    {
     "ename": "OverflowError",
     "evalue": "int too large to convert to float",
     "output_type": "error",
     "traceback": [
      "\u001b[0;31m---------------------------------------------------------------------------\u001b[0m",
      "\u001b[0;31mOverflowError\u001b[0m                             Traceback (most recent call last)",
      "\u001b[0;32m<ipython-input-51-cc453081084a>\u001b[0m in \u001b[0;36m<module>\u001b[0;34m\u001b[0m\n\u001b[1;32m      6\u001b[0m \u001b[0mSpearman_Corr\u001b[0m \u001b[0;34m=\u001b[0m \u001b[0mSpearman_Corr\u001b[0m\u001b[0;34m.\u001b[0m\u001b[0mloc\u001b[0m\u001b[0;34m[\u001b[0m \u001b[0;34m[\u001b[0m \u001b[0;34m'Age'\u001b[0m \u001b[0;34m]\u001b[0m\u001b[0;34m,\u001b[0m\u001b[0;34m[\u001b[0m \u001b[0;34m'trestbps'\u001b[0m\u001b[0;34m,\u001b[0m \u001b[0;34m'chol'\u001b[0m\u001b[0;34m,\u001b[0m \u001b[0;34m'thalach'\u001b[0m \u001b[0;34m]\u001b[0m \u001b[0;34m]\u001b[0m\u001b[0;34m\u001b[0m\u001b[0;34m\u001b[0m\u001b[0m\n\u001b[1;32m      7\u001b[0m \u001b[0mprint\u001b[0m\u001b[0;34m(\u001b[0m \u001b[0mSpearman_Corr\u001b[0m \u001b[0;34m)\u001b[0m\u001b[0;34m\u001b[0m\u001b[0;34m\u001b[0m\u001b[0m\n\u001b[0;32m----> 8\u001b[0;31m \u001b[0mKendall_Corr\u001b[0m \u001b[0;34m=\u001b[0m \u001b[0mcleveland_dataset\u001b[0m\u001b[0;34m.\u001b[0m\u001b[0mcorr\u001b[0m\u001b[0;34m(\u001b[0m\u001b[0mmethod\u001b[0m \u001b[0;34m=\u001b[0m \u001b[0;34m'kendall'\u001b[0m \u001b[0;34m)\u001b[0m\u001b[0;34m\u001b[0m\u001b[0;34m\u001b[0m\u001b[0m\n\u001b[0m\u001b[1;32m      9\u001b[0m \u001b[0mKendall_Corr\u001b[0m \u001b[0;34m=\u001b[0m \u001b[0mKendall_Corr\u001b[0m\u001b[0;34m.\u001b[0m\u001b[0mloc\u001b[0m\u001b[0;34m[\u001b[0m \u001b[0;34m[\u001b[0m \u001b[0;34m'Age'\u001b[0m \u001b[0;34m]\u001b[0m\u001b[0;34m,\u001b[0m\u001b[0;34m[\u001b[0m \u001b[0;34m'trestbps'\u001b[0m\u001b[0;34m,\u001b[0m \u001b[0;34m'chol'\u001b[0m\u001b[0;34m,\u001b[0m \u001b[0;34m'thalach'\u001b[0m \u001b[0;34m]\u001b[0m \u001b[0;34m]\u001b[0m\u001b[0;34m\u001b[0m\u001b[0;34m\u001b[0m\u001b[0m\n\u001b[1;32m     10\u001b[0m \u001b[0;34m\u001b[0m\u001b[0m\n",
      "\u001b[0;32m~/anaconda3/lib/python3.7/site-packages/pandas/core/frame.py\u001b[0m in \u001b[0;36mcorr\u001b[0;34m(self, method, min_periods)\u001b[0m\n\u001b[1;32m   7028\u001b[0m                         \u001b[0mc\u001b[0m \u001b[0;34m=\u001b[0m \u001b[0mcorrf\u001b[0m\u001b[0;34m(\u001b[0m\u001b[0mac\u001b[0m\u001b[0;34m[\u001b[0m\u001b[0mvalid\u001b[0m\u001b[0;34m]\u001b[0m\u001b[0;34m,\u001b[0m \u001b[0mbc\u001b[0m\u001b[0;34m[\u001b[0m\u001b[0mvalid\u001b[0m\u001b[0;34m]\u001b[0m\u001b[0;34m)\u001b[0m\u001b[0;34m\u001b[0m\u001b[0;34m\u001b[0m\u001b[0m\n\u001b[1;32m   7029\u001b[0m                     \u001b[0;32melse\u001b[0m\u001b[0;34m:\u001b[0m\u001b[0;34m\u001b[0m\u001b[0;34m\u001b[0m\u001b[0m\n\u001b[0;32m-> 7030\u001b[0;31m                         \u001b[0mc\u001b[0m \u001b[0;34m=\u001b[0m \u001b[0mcorrf\u001b[0m\u001b[0;34m(\u001b[0m\u001b[0mac\u001b[0m\u001b[0;34m,\u001b[0m \u001b[0mbc\u001b[0m\u001b[0;34m)\u001b[0m\u001b[0;34m\u001b[0m\u001b[0;34m\u001b[0m\u001b[0m\n\u001b[0m\u001b[1;32m   7031\u001b[0m                     \u001b[0mcorrel\u001b[0m\u001b[0;34m[\u001b[0m\u001b[0mi\u001b[0m\u001b[0;34m,\u001b[0m \u001b[0mj\u001b[0m\u001b[0;34m]\u001b[0m \u001b[0;34m=\u001b[0m \u001b[0mc\u001b[0m\u001b[0;34m\u001b[0m\u001b[0;34m\u001b[0m\u001b[0m\n\u001b[1;32m   7032\u001b[0m                     \u001b[0mcorrel\u001b[0m\u001b[0;34m[\u001b[0m\u001b[0mj\u001b[0m\u001b[0;34m,\u001b[0m \u001b[0mi\u001b[0m\u001b[0;34m]\u001b[0m \u001b[0;34m=\u001b[0m \u001b[0mc\u001b[0m\u001b[0;34m\u001b[0m\u001b[0;34m\u001b[0m\u001b[0m\n",
      "\u001b[0;32m~/anaconda3/lib/python3.7/site-packages/pandas/core/nanops.py\u001b[0m in \u001b[0;36m_kendall\u001b[0;34m(a, b)\u001b[0m\n\u001b[1;32m   1113\u001b[0m \u001b[0;34m\u001b[0m\u001b[0m\n\u001b[1;32m   1114\u001b[0m     \u001b[0;32mdef\u001b[0m \u001b[0m_kendall\u001b[0m\u001b[0;34m(\u001b[0m\u001b[0ma\u001b[0m\u001b[0;34m,\u001b[0m \u001b[0mb\u001b[0m\u001b[0;34m)\u001b[0m\u001b[0;34m:\u001b[0m\u001b[0;34m\u001b[0m\u001b[0;34m\u001b[0m\u001b[0m\n\u001b[0;32m-> 1115\u001b[0;31m         \u001b[0mrs\u001b[0m \u001b[0;34m=\u001b[0m \u001b[0mkendalltau\u001b[0m\u001b[0;34m(\u001b[0m\u001b[0ma\u001b[0m\u001b[0;34m,\u001b[0m \u001b[0mb\u001b[0m\u001b[0;34m)\u001b[0m\u001b[0;34m\u001b[0m\u001b[0;34m\u001b[0m\u001b[0m\n\u001b[0m\u001b[1;32m   1116\u001b[0m         \u001b[0;32mif\u001b[0m \u001b[0misinstance\u001b[0m\u001b[0;34m(\u001b[0m\u001b[0mrs\u001b[0m\u001b[0;34m,\u001b[0m \u001b[0mtuple\u001b[0m\u001b[0;34m)\u001b[0m\u001b[0;34m:\u001b[0m\u001b[0;34m\u001b[0m\u001b[0;34m\u001b[0m\u001b[0m\n\u001b[1;32m   1117\u001b[0m             \u001b[0;32mreturn\u001b[0m \u001b[0mrs\u001b[0m\u001b[0;34m[\u001b[0m\u001b[0;36m0\u001b[0m\u001b[0;34m]\u001b[0m\u001b[0;34m\u001b[0m\u001b[0;34m\u001b[0m\u001b[0m\n",
      "\u001b[0;32m~/anaconda3/lib/python3.7/site-packages/scipy/stats/stats.py\u001b[0m in \u001b[0;36mkendalltau\u001b[0;34m(x, y, initial_lexsort, nan_policy, method)\u001b[0m\n\u001b[1;32m   3630\u001b[0m             \u001b[0mpvalue\u001b[0m \u001b[0;34m=\u001b[0m \u001b[0;36m1.0\u001b[0m\u001b[0;34m\u001b[0m\u001b[0;34m\u001b[0m\u001b[0m\n\u001b[1;32m   3631\u001b[0m         \u001b[0;32melif\u001b[0m \u001b[0mc\u001b[0m \u001b[0;34m==\u001b[0m \u001b[0;36m0\u001b[0m\u001b[0;34m:\u001b[0m\u001b[0;34m\u001b[0m\u001b[0;34m\u001b[0m\u001b[0m\n\u001b[0;32m-> 3632\u001b[0;31m             \u001b[0mpvalue\u001b[0m \u001b[0;34m=\u001b[0m \u001b[0;36m2.0\u001b[0m\u001b[0;34m/\u001b[0m\u001b[0mnp\u001b[0m\u001b[0;34m.\u001b[0m\u001b[0mmath\u001b[0m\u001b[0;34m.\u001b[0m\u001b[0mfactorial\u001b[0m\u001b[0;34m(\u001b[0m\u001b[0msize\u001b[0m\u001b[0;34m)\u001b[0m\u001b[0;34m\u001b[0m\u001b[0;34m\u001b[0m\u001b[0m\n\u001b[0m\u001b[1;32m   3633\u001b[0m         \u001b[0;32melif\u001b[0m \u001b[0mc\u001b[0m \u001b[0;34m==\u001b[0m \u001b[0;36m1\u001b[0m\u001b[0;34m:\u001b[0m\u001b[0;34m\u001b[0m\u001b[0;34m\u001b[0m\u001b[0m\n\u001b[1;32m   3634\u001b[0m             \u001b[0mpvalue\u001b[0m \u001b[0;34m=\u001b[0m \u001b[0;36m2.0\u001b[0m\u001b[0;34m/\u001b[0m\u001b[0mnp\u001b[0m\u001b[0;34m.\u001b[0m\u001b[0mmath\u001b[0m\u001b[0;34m.\u001b[0m\u001b[0mfactorial\u001b[0m\u001b[0;34m(\u001b[0m\u001b[0msize\u001b[0m\u001b[0;34m-\u001b[0m\u001b[0;36m1\u001b[0m\u001b[0;34m)\u001b[0m\u001b[0;34m\u001b[0m\u001b[0;34m\u001b[0m\u001b[0m\n",
      "\u001b[0;31mOverflowError\u001b[0m: int too large to convert to float"
     ]
    }
   ],
   "source": [
    "import matplotlib.pyplot as plt\n",
    "import seaborn as sns\n",
    "\n",
    "# slicing Spearman Correlation data frame & Kendall Correlation data frame to only keep rows/columns of interest\n",
    "Spearman_Corr = cleveland_dataset.corr(method = 'spearman' )\n",
    "Spearman_Corr = Spearman_Corr.loc[ [ 'Age' ],[ 'trestbps', 'chol', 'thalach' ] ]\n",
    "print( Spearman_Corr )\n",
    "Kendall_Corr = cleveland_dataset.corr(method = 'kendall' )\n",
    "Kendall_Corr = Kendall_Corr.loc[ [ 'Age' ],[ 'trestbps', 'chol', 'thalach' ] ]\n",
    "\n",
    "\n",
    "# plot the heatmap and annotation on it for Spearman Correlation \n",
    "sns.heatmap( Spearman_Corr, yticklabels = [ 'Age' ], xticklabels = [ 'trestbps', 'chol', 'thalach' ], annot = True)\n",
    "plt.title('Spearman Correlation Heat Map')\n",
    "plt.show()\n",
    "\n",
    "# plot the heatmap and annotation on it for Kendall Correlation\n",
    "sns.heatmap( Kendall_Corr, yticklabels = [ 'Age' ], xticklabels =  [ 'trestbps', 'chol', 'thalach' ], annot = True)\n",
    "plt.title('Kendall Correlation Heat Map')\n",
    "plt.show()"
   ]
  },
  {
   "cell_type": "markdown",
   "metadata": {},
   "source": [
    "**4.From your understanding, which of the features can be labeled as discrete\n",
    "random variables and which features as continuous random variables?**"
   ]
  },
  {
   "cell_type": "markdown",
   "metadata": {},
   "source": [
    "- Categorical features can be labelled as Discrete Random Variables. Hence the below features are Discrete Random Variables:\n",
    "Sex,        \n",
    "cp,              \n",
    "fbs,         \n",
    "resetecg,   \n",
    "exang,    \n",
    "slope,     \n",
    "thal,        \n",
    "num          \n",
    "\n",
    "- Non-Categorical/Continuous features can be labelled as Continuous Random Variables.The below features are Continuous Random Variables:\n",
    "Age,\n",
    "trestbps,\n",
    "chol,\n",
    "thalach,\n",
    "ca"
   ]
  },
  {
   "cell_type": "markdown",
   "metadata": {},
   "source": [
    "**5.Describe the distribution for the values of the \"thalach\" feature? Illustrate with a plot.**"
   ]
  },
  {
   "cell_type": "markdown",
   "metadata": {},
   "source": [
    "The `Thalach` feature follows a normal distribution with its mean lying around 160-170, which is illustrated by the density plot below:"
   ]
  },
  {
   "cell_type": "code",
   "execution_count": 25,
   "metadata": {},
   "outputs": [
    {
     "data": {
      "image/png": "[encoded data removed]",
      "text/plain": [
       "<Figure size 432x288 with 1 Axes>"
      ]
     },
     "metadata": {
      "needs_background": "light"
     },
     "output_type": "display_data"
    }
   ],
   "source": [
    "cleveland_dataset[ 'thalach' ].plot.density(grid=True)\n",
    "plt.title( 'Density plot for Thalach' )\n",
    "plt.xlabel( 'Thalach' )\n",
    "plt.show()"
   ]
  },
  {
   "cell_type": "markdown",
   "metadata": {},
   "source": [
    "**6. Plot the frequency of “Sex” variable in the dataset and describe what you\n",
    "observe in the plot. Similarly plot and describe the 'ca' feature for the male\n",
    "participants.**"
   ]
  },
  {
   "cell_type": "code",
   "execution_count": 26,
   "metadata": {},
   "outputs": [
    {
     "data": {
      "image/png": "[encoded data removed]",
      "text/plain": [
       "<Figure size 432x288 with 1 Axes>"
      ]
     },
     "metadata": {
      "needs_background": "light"
     },
     "output_type": "display_data"
    }
   ],
   "source": [
    "# Plotting count plot for \"Sex\" feature in dataset\n",
    "sns.countplot( data = cleveland_dataset, x = \"Sex\" )\n",
    "plt.title( 'Count plot for feature Sex' )\n",
    "plt.xlabel( 'Sex' )\n",
    "plt.ylabel( 'frequency' )\n",
    "plt.show()"
   ]
  },
  {
   "cell_type": "markdown",
   "metadata": {},
   "source": [
    "Observation: The number of male participants are more than twice the number of female participants in the dataset."
   ]
  },
  {
   "cell_type": "code",
   "execution_count": 27,
   "metadata": {},
   "outputs": [
    {
     "name": "stdout",
     "output_type": "stream",
     "text": [
      "['0.0' '3.0' '2.0' '1.0' '?']\n"
     ]
    },
    {
     "data": {
      "image/png": "[encoded data removed]",
      "text/plain": [
       "<Figure size 432x288 with 1 Axes>"
      ]
     },
     "metadata": {
      "needs_background": "light"
     },
     "output_type": "display_data"
    }
   ],
   "source": [
    "# Plotting the \"ca\" feature for male participants\n",
    "\n",
    "# preparing dataframe with only male participant rows\n",
    "male_participants_dataset = cleveland_dataset[ cleveland_dataset[ 'Sex' ] == 1 ]\n",
    "print( male_participants_dataset[ \"ca\" ].unique() )\n",
    "\n",
    "\n",
    "# plotting 'ca' for male participants\n",
    "sns.countplot( data = male_participants_dataset, x = \"ca\" )\n",
    "plt.title( \"Count plot for feature ca for male participants\" )\n",
    "plt.xlabel( \"ca\" )\n",
    "plt.ylabel( \"frequency\" )\n",
    "plt.show()"
   ]
  },
  {
   "cell_type": "markdown",
   "metadata": {},
   "source": [
    "Observation: More than half of the male participants have 'ca' feature value of '0.0', followed by almost a quarter male participants having 'ca' equal to '1.0'. Less than 20 male participants have 'ca' feature of '3.0' "
   ]
  },
  {
   "cell_type": "markdown",
   "metadata": {},
   "source": [
    "**7.Detect outlier patients for features \"trestbps'' and \"chol\". Illustrate with plots.**"
   ]
  },
  {
   "cell_type": "code",
   "execution_count": 28,
   "metadata": {},
   "outputs": [
    {
     "data": {
      "image/png": "[encoded data removed]",
      "text/plain": [
       "<Figure size 432x288 with 1 Axes>"
      ]
     },
     "metadata": {
      "needs_background": "light"
     },
     "output_type": "display_data"
    }
   ],
   "source": [
    "# plotting violin plot to detect outliers\n",
    "\n",
    "# Box plot for trestbps\n",
    "sns.boxplot( y = cleveland_dataset[ 'trestbps' ] )\n",
    "plt.title( 'Box plot for trestbps' )\n",
    "plt.show()"
   ]
  },
  {
   "cell_type": "code",
   "execution_count": 29,
   "metadata": {},
   "outputs": [
    {
     "ename": "TypeError",
     "evalue": "Vertical orientation requires numeric `y` variable.",
     "output_type": "error",
     "traceback": [
      "\u001b[0;31m---------------------------------------------------------------------------\u001b[0m",
      "\u001b[0;31mTypeError\u001b[0m                                 Traceback (most recent call last)",
      "\u001b[0;32m<ipython-input-29-02f18ea60f42>\u001b[0m in \u001b[0;36m<module>\u001b[0;34m\u001b[0m\n\u001b[1;32m      1\u001b[0m \u001b[0;31m# Box plot for chol\u001b[0m\u001b[0;34m\u001b[0m\u001b[0;34m\u001b[0m\u001b[0;34m\u001b[0m\u001b[0m\n\u001b[0;32m----> 2\u001b[0;31m \u001b[0msns\u001b[0m\u001b[0;34m.\u001b[0m\u001b[0mboxplot\u001b[0m\u001b[0;34m(\u001b[0m \u001b[0my\u001b[0m \u001b[0;34m=\u001b[0m \u001b[0mcleveland_dataset\u001b[0m\u001b[0;34m[\u001b[0m \u001b[0;34m'chol'\u001b[0m \u001b[0;34m]\u001b[0m \u001b[0;34m)\u001b[0m\u001b[0;34m\u001b[0m\u001b[0;34m\u001b[0m\u001b[0m\n\u001b[0m\u001b[1;32m      3\u001b[0m \u001b[0mplt\u001b[0m\u001b[0;34m.\u001b[0m\u001b[0mtitle\u001b[0m\u001b[0;34m(\u001b[0m \u001b[0;34m'Box plot for chol'\u001b[0m \u001b[0;34m)\u001b[0m\u001b[0;34m\u001b[0m\u001b[0;34m\u001b[0m\u001b[0m\n\u001b[1;32m      4\u001b[0m \u001b[0mplt\u001b[0m\u001b[0;34m.\u001b[0m\u001b[0mshow\u001b[0m\u001b[0;34m(\u001b[0m\u001b[0;34m)\u001b[0m\u001b[0;34m\u001b[0m\u001b[0;34m\u001b[0m\u001b[0m\n",
      "\u001b[0;32m~/anaconda3/lib/python3.7/site-packages/seaborn/_decorators.py\u001b[0m in \u001b[0;36minner_f\u001b[0;34m(*args, **kwargs)\u001b[0m\n\u001b[1;32m     44\u001b[0m             )\n\u001b[1;32m     45\u001b[0m         \u001b[0mkwargs\u001b[0m\u001b[0;34m.\u001b[0m\u001b[0mupdate\u001b[0m\u001b[0;34m(\u001b[0m\u001b[0;34m{\u001b[0m\u001b[0mk\u001b[0m\u001b[0;34m:\u001b[0m \u001b[0marg\u001b[0m \u001b[0;32mfor\u001b[0m \u001b[0mk\u001b[0m\u001b[0;34m,\u001b[0m \u001b[0marg\u001b[0m \u001b[0;32min\u001b[0m \u001b[0mzip\u001b[0m\u001b[0;34m(\u001b[0m\u001b[0msig\u001b[0m\u001b[0;34m.\u001b[0m\u001b[0mparameters\u001b[0m\u001b[0;34m,\u001b[0m \u001b[0margs\u001b[0m\u001b[0;34m)\u001b[0m\u001b[0;34m}\u001b[0m\u001b[0;34m)\u001b[0m\u001b[0;34m\u001b[0m\u001b[0;34m\u001b[0m\u001b[0m\n\u001b[0;32m---> 46\u001b[0;31m         \u001b[0;32mreturn\u001b[0m \u001b[0mf\u001b[0m\u001b[0;34m(\u001b[0m\u001b[0;34m**\u001b[0m\u001b[0mkwargs\u001b[0m\u001b[0;34m)\u001b[0m\u001b[0;34m\u001b[0m\u001b[0;34m\u001b[0m\u001b[0m\n\u001b[0m\u001b[1;32m     47\u001b[0m     \u001b[0;32mreturn\u001b[0m \u001b[0minner_f\u001b[0m\u001b[0;34m\u001b[0m\u001b[0;34m\u001b[0m\u001b[0m\n\u001b[1;32m     48\u001b[0m \u001b[0;34m\u001b[0m\u001b[0m\n",
      "\u001b[0;32m~/anaconda3/lib/python3.7/site-packages/seaborn/categorical.py\u001b[0m in \u001b[0;36mboxplot\u001b[0;34m(x, y, hue, data, order, hue_order, orient, color, palette, saturation, width, dodge, fliersize, linewidth, whis, ax, **kwargs)\u001b[0m\n\u001b[1;32m   2240\u001b[0m     plotter = _BoxPlotter(x, y, hue, data, order, hue_order,\n\u001b[1;32m   2241\u001b[0m                           \u001b[0morient\u001b[0m\u001b[0;34m,\u001b[0m \u001b[0mcolor\u001b[0m\u001b[0;34m,\u001b[0m \u001b[0mpalette\u001b[0m\u001b[0;34m,\u001b[0m \u001b[0msaturation\u001b[0m\u001b[0;34m,\u001b[0m\u001b[0;34m\u001b[0m\u001b[0;34m\u001b[0m\u001b[0m\n\u001b[0;32m-> 2242\u001b[0;31m                           width, dodge, fliersize, linewidth)\n\u001b[0m\u001b[1;32m   2243\u001b[0m \u001b[0;34m\u001b[0m\u001b[0m\n\u001b[1;32m   2244\u001b[0m     \u001b[0;32mif\u001b[0m \u001b[0max\u001b[0m \u001b[0;32mis\u001b[0m \u001b[0;32mNone\u001b[0m\u001b[0;34m:\u001b[0m\u001b[0;34m\u001b[0m\u001b[0;34m\u001b[0m\u001b[0m\n",
      "\u001b[0;32m~/anaconda3/lib/python3.7/site-packages/seaborn/categorical.py\u001b[0m in \u001b[0;36m__init__\u001b[0;34m(self, x, y, hue, data, order, hue_order, orient, color, palette, saturation, width, dodge, fliersize, linewidth)\u001b[0m\n\u001b[1;32m    404\u001b[0m                  width, dodge, fliersize, linewidth):\n\u001b[1;32m    405\u001b[0m \u001b[0;34m\u001b[0m\u001b[0m\n\u001b[0;32m--> 406\u001b[0;31m         \u001b[0mself\u001b[0m\u001b[0;34m.\u001b[0m\u001b[0mestablish_variables\u001b[0m\u001b[0;34m(\u001b[0m\u001b[0mx\u001b[0m\u001b[0;34m,\u001b[0m \u001b[0my\u001b[0m\u001b[0;34m,\u001b[0m \u001b[0mhue\u001b[0m\u001b[0;34m,\u001b[0m \u001b[0mdata\u001b[0m\u001b[0;34m,\u001b[0m \u001b[0morient\u001b[0m\u001b[0;34m,\u001b[0m \u001b[0morder\u001b[0m\u001b[0;34m,\u001b[0m \u001b[0mhue_order\u001b[0m\u001b[0;34m)\u001b[0m\u001b[0;34m\u001b[0m\u001b[0;34m\u001b[0m\u001b[0m\n\u001b[0m\u001b[1;32m    407\u001b[0m         \u001b[0mself\u001b[0m\u001b[0;34m.\u001b[0m\u001b[0mestablish_colors\u001b[0m\u001b[0;34m(\u001b[0m\u001b[0mcolor\u001b[0m\u001b[0;34m,\u001b[0m \u001b[0mpalette\u001b[0m\u001b[0;34m,\u001b[0m \u001b[0msaturation\u001b[0m\u001b[0;34m)\u001b[0m\u001b[0;34m\u001b[0m\u001b[0;34m\u001b[0m\u001b[0m\n\u001b[1;32m    408\u001b[0m \u001b[0;34m\u001b[0m\u001b[0m\n",
      "\u001b[0;32m~/anaconda3/lib/python3.7/site-packages/seaborn/categorical.py\u001b[0m in \u001b[0;36mestablish_variables\u001b[0;34m(self, x, y, hue, data, orient, order, hue_order, units)\u001b[0m\n\u001b[1;32m    155\u001b[0m             \u001b[0;31m# Figure out the plotting orientation\u001b[0m\u001b[0;34m\u001b[0m\u001b[0;34m\u001b[0m\u001b[0;34m\u001b[0m\u001b[0m\n\u001b[1;32m    156\u001b[0m             orient = infer_orient(\n\u001b[0;32m--> 157\u001b[0;31m                 \u001b[0mx\u001b[0m\u001b[0;34m,\u001b[0m \u001b[0my\u001b[0m\u001b[0;34m,\u001b[0m \u001b[0morient\u001b[0m\u001b[0;34m,\u001b[0m \u001b[0mrequire_numeric\u001b[0m\u001b[0;34m=\u001b[0m\u001b[0mself\u001b[0m\u001b[0;34m.\u001b[0m\u001b[0mrequire_numeric\u001b[0m\u001b[0;34m\u001b[0m\u001b[0;34m\u001b[0m\u001b[0m\n\u001b[0m\u001b[1;32m    158\u001b[0m             )\n\u001b[1;32m    159\u001b[0m \u001b[0;34m\u001b[0m\u001b[0m\n",
      "\u001b[0;32m~/anaconda3/lib/python3.7/site-packages/seaborn/_core.py\u001b[0m in \u001b[0;36minfer_orient\u001b[0;34m(x, y, orient, require_numeric)\u001b[0m\n\u001b[1;32m   1312\u001b[0m             \u001b[0mwarnings\u001b[0m\u001b[0;34m.\u001b[0m\u001b[0mwarn\u001b[0m\u001b[0;34m(\u001b[0m\u001b[0msingle_var_warning\u001b[0m\u001b[0;34m.\u001b[0m\u001b[0mformat\u001b[0m\u001b[0;34m(\u001b[0m\u001b[0;34m\"Horizontal\"\u001b[0m\u001b[0;34m,\u001b[0m \u001b[0;34m\"y\"\u001b[0m\u001b[0;34m)\u001b[0m\u001b[0;34m)\u001b[0m\u001b[0;34m\u001b[0m\u001b[0;34m\u001b[0m\u001b[0m\n\u001b[1;32m   1313\u001b[0m         \u001b[0;32mif\u001b[0m \u001b[0mrequire_numeric\u001b[0m \u001b[0;32mand\u001b[0m \u001b[0my_type\u001b[0m \u001b[0;34m!=\u001b[0m \u001b[0;34m\"numeric\"\u001b[0m\u001b[0;34m:\u001b[0m\u001b[0;34m\u001b[0m\u001b[0;34m\u001b[0m\u001b[0m\n\u001b[0;32m-> 1314\u001b[0;31m             \u001b[0;32mraise\u001b[0m \u001b[0mTypeError\u001b[0m\u001b[0;34m(\u001b[0m\u001b[0mnonnumeric_dv_error\u001b[0m\u001b[0;34m.\u001b[0m\u001b[0mformat\u001b[0m\u001b[0;34m(\u001b[0m\u001b[0;34m\"Vertical\"\u001b[0m\u001b[0;34m,\u001b[0m \u001b[0;34m\"y\"\u001b[0m\u001b[0;34m)\u001b[0m\u001b[0;34m)\u001b[0m\u001b[0;34m\u001b[0m\u001b[0;34m\u001b[0m\u001b[0m\n\u001b[0m\u001b[1;32m   1315\u001b[0m         \u001b[0;32mreturn\u001b[0m \u001b[0;34m\"v\"\u001b[0m\u001b[0;34m\u001b[0m\u001b[0;34m\u001b[0m\u001b[0m\n\u001b[1;32m   1316\u001b[0m \u001b[0;34m\u001b[0m\u001b[0m\n",
      "\u001b[0;31mTypeError\u001b[0m: Vertical orientation requires numeric `y` variable."
     ]
    }
   ],
   "source": [
    "# Box plot for chol\n",
    "sns.boxplot( y = cleveland_dataset[ 'chol' ] )\n",
    "plt.title( 'Box plot for chol' )\n",
    "plt.show()"
   ]
  },
  {
   "cell_type": "markdown",
   "metadata": {},
   "source": [
    "Outliers are visible in box plots as the points below Minimum ( $Q_1-1.5*IQR$ ) or the points above Maximum ( $Q_3+1.5*IQR$). The box plots for 'trestbps' and 'chol' shows outliers above the maximum."
   ]
  },
  {
   "cell_type": "code",
   "execution_count": null,
   "metadata": {},
   "outputs": [],
   "source": [
    "def outlierDetector( dataset, feature ):\n",
    "    '''This method calculates quartiles, IQR and minimum, maximum for a feature of the dataset.\n",
    "    It then returns a dataframe containing outliers of the feature\n",
    "    \n",
    "    Args:\n",
    "        dataset - A dataset containing the feature whose outliers need to be detected.\n",
    "        feature - The feature whose outliers need to be detected\n",
    "        \n",
    "    Return:\n",
    "        outliers - A dataframe containing outliers of df\n",
    "    '''\n",
    "    q1 = dataset[ feature ].quantile(0.25)\n",
    "    q3 = dataset[ feature ].quantile(0.75)\n",
    "    iqr = q3 - q1\n",
    "    minimum = q1 - 1.5 * iqr\n",
    "    maximum = q3 + 1.5 * iqr\n",
    "    outliers = dataset[ ( dataset[ feature ] > maximum ) | ( dataset[ feature ] < minimum ) ]\n",
    "    outlier_rows = outliers.shape[ 0 ]\n",
    "    print( f\"The no. of outliers in feature {feature} are {outlier_rows}\" )\n",
    "    print( outliers, \"\\n\" )\n",
    "    \n",
    "outlierDetector( cleveland_dataset, 'trestbps' )\n",
    "outlierDetector( cleveland_dataset, 'chol' )"
   ]
  },
  {
   "cell_type": "markdown",
   "metadata": {},
   "source": [
    "#### **Exercise 2 - Probability**"
   ]
  },
  {
   "cell_type": "markdown",
   "metadata": {},
   "source": [
    "**1. Suppose a discrete random variable, MMSE (Mini mental state examination),\n",
    "cognitive test measured for Alzheimer’s disease (AD) has the following\n",
    "probability mass function.....Find the probability that MMSE:\n",
    "a) at least 22\n",
    "b) at least 14 and at most 28**"
   ]
  },
  {
   "cell_type": "markdown",
   "metadata": {},
   "source": [
    " $$\n",
    "a) Pr(X >= 22) = 1 - Pr(X<22) = 1-[ Pr(X=5) + Pr(X=8) + Pr(X=14) ] \\\\ = 1- [ 0.05 + 0.27 + 0.16 ] = 0.52\n",
    " $$"
   ]
  },
  {
   "cell_type": "markdown",
   "metadata": {},
   "source": [
    "$$\n",
    "b) Pr(X>=14 \\ and \\ X<=28) = Pr(X=14)+Pr(X=22)+Pr(X=24)+Pr(X=28) \\\\ = 0.16+0.17+0.03+0.12 = 0.48\n",
    " $$"
   ]
  },
  {
   "cell_type": "markdown",
   "metadata": {},
   "source": [
    "**2. A company produced antibody testing kits for COVID-19. The false positive\n",
    "rate of the test is known to be 3%. What is the probability to find at least 2\n",
    "false positive results within 35 tested patients?**"
   ]
  },
  {
   "cell_type": "markdown",
   "metadata": {},
   "source": [
    "Let \n",
    "- X be the nr. of false positive results,\n",
    "- n be the nr. of tested patients (n=35),\n",
    "- p be the probability of a single false postive result (p= 3/100) and\n",
    "- q = (1-p) = 97/100\n",
    "\n",
    "$$\n",
    "Pr\\Big( X>=2 \\ | \\ n=35, p= \\frac{3}{100}\\Big) = 1-Pr\\Big(X<2 \\ | \\ n=35, p=\\frac{3}{100}\\Big)\n",
    "\\\\ = 1 - [ Pr(X=0) + Pr(X=1) ]\n",
    "$$\n",
    "\n",
    "\n",
    "We can calculate $Pr(X=0) \\ and \\ Pr(X=1) $ using Binomial Distribution\n",
    "$$\n",
    "Pr\\Big(X<2 \\ | \\ n=35, p=\\frac{3}{100}\\Big) = Pr\\Big(X<2 \\ | \\ n=35, p=\\frac{3}{100}\\Big)\n",
    "$$\n",
    "\n",
    "Probability of 0 false positives with n=35\n",
    "$$\n",
    "Pr\\Big(X=0, n=35, p=\\frac{3}{100}\\Big) =  \\binom{35}{0} \\left(\\frac{3}{100}\\right)^{0}\\left(\\frac{97}{100}\\right)^{35} = 0.3443 \\tag1\n",
    "$$\n",
    "Probability of 1 false positive with n=35\n",
    "$$\n",
    "Pr\\Big(X=1, n=35, p=\\frac{3}{100}\\Big) =  \\binom{35}{0} \\left(\\frac{3}{100}\\right)^{1}\\left(\\frac{97}{100}\\right)^{34} = 0.01065 \\tag2\n",
    "$$\n",
    "Using $(1)$ and $(2)$,\n",
    "$$\n",
    "Pr\\Big(X>=2 \\ | \\ n=35, p=\\frac{3}{100}\\Big) = 1-\\left(0.3443+0.01065 \\right) = 0.64505 \n",
    "$$"
   ]
  },
  {
   "cell_type": "markdown",
   "metadata": {},
   "source": [
    "#### **Exercise 3 - Hypothesis Testing**"
   ]
  },
  {
   "cell_type": "markdown",
   "metadata": {},
   "source": [
    "Using the processed dataset from question 1 answer the following questions."
   ]
  },
  {
   "cell_type": "markdown",
   "metadata": {},
   "source": [
    "**1. Are all the criteria for carrying out a t-test to identify a significant difference in\n",
    "the age of patients who have heart disease and those who don’t, met?\n",
    "-If the criteria is met, carry out a t-test using Python.\n",
    "-And if not, point out the unmet conditions for the variables, and mention\n",
    "a possible solution in-order to combat this issue.**"
   ]
  },
  {
   "cell_type": "markdown",
   "metadata": {},
   "source": [
    "Observations about data:\n",
    "- We observe that our samples of patients who have heart disease and patients who do not have heart disease are independent(unpaired) samples.\n",
    "- We need to first check whether our samples are normally distributed. t-test can only be applied on normally distributed samples.\n",
    "- We perform the Shapiro-Wilks test to check whether sample is drawn from normal distribution. We also plot density plots to observe the distribution."
   ]
  },
  {
   "cell_type": "code",
   "execution_count": 30,
   "metadata": {},
   "outputs": [
    {
     "name": "stdout",
     "output_type": "stream",
     "text": [
      "(55, 16)\n",
      "(164, 16)\n"
     ]
    }
   ],
   "source": [
    "# divide dataset into two samples\n",
    "heart_disease_sample = cleveland_dataset[ cleveland_dataset[ 'num' ] == 1 ]\n",
    "non_heart_disease_sample = cleveland_dataset[ cleveland_dataset[ 'num' ] == 0 ]\n",
    "print( heart_disease_sample.shape )\n",
    "print( non_heart_disease_sample.shape )\n"
   ]
  },
  {
   "cell_type": "code",
   "execution_count": 31,
   "metadata": {
    "scrolled": true
   },
   "outputs": [
    {
     "name": "stdout",
     "output_type": "stream",
     "text": [
      "Shapiro-Wilks test result for heart disease sample:\n",
      " (0.9461842775344849, 0.015654753893613815)\n"
     ]
    }
   ],
   "source": [
    "# performing Shapiro-Wilks test on heart disease sample\n",
    "from scipy import stats\n",
    "shapiro_test = stats.shapiro( heart_disease_sample[ 'Age' ] )\n",
    "print( \"Shapiro-Wilks test result for heart disease sample:\\n\", shapiro_test )"
   ]
  },
  {
   "cell_type": "markdown",
   "metadata": {},
   "source": [
    "From the test results, it can be seen that the heart_disease_sample is not normally distributed since p-value< 0.05 significance level."
   ]
  },
  {
   "cell_type": "code",
   "execution_count": 32,
   "metadata": {},
   "outputs": [
    {
     "name": "stdout",
     "output_type": "stream",
     "text": [
      "Shapiro-Wilks test result for non-heart disease sample:\n",
      " (0.9870028495788574, 0.1320628970861435)\n"
     ]
    }
   ],
   "source": [
    "# performing Shapiro-Wilks test on non-heart disease sample\n",
    "shapiro_test = stats.shapiro( non_heart_disease_sample[ 'Age' ] )\n",
    "print( \"Shapiro-Wilks test result for non-heart disease sample:\\n\", shapiro_test )"
   ]
  },
  {
   "cell_type": "markdown",
   "metadata": {},
   "source": [
    "The non_heart_disease_sample is normally distributed since p-value> 0.05 significance level."
   ]
  },
  {
   "cell_type": "code",
   "execution_count": 33,
   "metadata": {},
   "outputs": [
    {
     "data": {
      "image/png": "[encoded data removed]",
      "text/plain": [
       "<Figure size 432x288 with 1 Axes>"
      ]
     },
     "metadata": {
      "needs_background": "light"
     },
     "output_type": "display_data"
    }
   ],
   "source": [
    "# plot distribution age feature for sample with num = 1 ( with heart disease)\n",
    "heart_disease_sample[ 'Age' ].plot.density(grid=True)\n",
    "plt.title( 'Density plot for Age feature for heart disease sample' )\n",
    "plt.xlabel( 'Age' )\n",
    "plt.show()"
   ]
  },
  {
   "cell_type": "code",
   "execution_count": 34,
   "metadata": {},
   "outputs": [
    {
     "data": {
      "image/png": "[encoded data removed]",
      "text/plain": [
       "<Figure size 432x288 with 1 Axes>"
      ]
     },
     "metadata": {
      "needs_background": "light"
     },
     "output_type": "display_data"
    }
   ],
   "source": [
    "# plot distribution age feature for sample with  num = 0  ( without heart disease)\n",
    "non_heart_disease_sample[ 'Age' ].plot.density(grid=True)\n",
    "plt.title( 'Density plot for Age feature for non-heart disease sample' )\n",
    "plt.xlabel( 'Age' )\n",
    "plt.show()"
   ]
  },
  {
   "cell_type": "markdown",
   "metadata": {},
   "source": [
    "We cannot perform the t-test as the heart disease sample in not normally distributed. However, we can combat this problem by choosing another test that does not require the sample to be normally distributed.\n"
   ]
  },
  {
   "cell_type": "code",
   "execution_count": 35,
   "metadata": {},
   "outputs": [
    {
     "name": "stdout",
     "output_type": "stream",
     "text": [
      "MannwhitneyuResult(statistic=5443.0, pvalue=0.02175078707913069)\n"
     ]
    }
   ],
   "source": [
    "# Using Mann-Whitney rank test \n",
    "mannwhitneyu_results = stats.mannwhitneyu( heart_disease_sample[ 'Age' ], non_heart_disease_sample[ 'Age' ], alternative = 'two-sided' )\n",
    "print( mannwhitneyu_results )"
   ]
  },
  {
   "cell_type": "markdown",
   "metadata": {},
   "source": [
    "We reject the null hypothesis as p-value<0.05 and conclude that the alternative hypothesis is true, i.e $H_{1}:\\mu_{age\\ of\\  heart\\ disease\\ patients}\\neq \\mu_{age\\ of\\ normal\\ patients}$\n",
    "\n",
    "\n",
    "**Thus, there is significant difference in the age of patients who have heart disease and those who do not.**"
   ]
  },
  {
   "cell_type": "markdown",
   "metadata": {},
   "source": [
    "**2. Identify if women are significantly more likely to get heart disease than men?**"
   ]
  },
  {
   "cell_type": "code",
   "execution_count": 39,
   "metadata": {},
   "outputs": [
    {
     "name": "stdout",
     "output_type": "stream",
     "text": [
      "4     0\n",
      "6     3\n",
      "7     0\n",
      "11    0\n",
      "18    0\n",
      "Name: num, dtype: int64\n",
      "0    0\n",
      "1    2\n",
      "2    1\n",
      "3    0\n",
      "5    0\n",
      "Name: num, dtype: int64\n"
     ]
    }
   ],
   "source": [
    "# plotting the features `Sex` and `num`\n",
    "male_dataframe = cleveland_dataset[ cleveland_dataset[ 'Sex' ] == 0 ]\n",
    "female_dataframe = cleveland_dataset[ cleveland_dataset[ 'Sex' ] == 1 ]\n",
    "print( male_dataframe[ 'num' ].head(5) )\n",
    "print( female_dataframe[ 'num' ].head(5) )\n",
    "## TODO\n",
    "## Work in Progress"
   ]
  },
  {
   "cell_type": "markdown",
   "metadata": {},
   "source": [
    "**3. Inform yourself about χ²−test. And using χ²−test, identify if there is a\n",
    "significant association between exercise induced angina (exang), and the\n",
    "slope of the peak exercise ST segment (slope)?**"
   ]
  },
  {
   "cell_type": "code",
   "execution_count": 37,
   "metadata": {},
   "outputs": [],
   "source": [
    "# creating matrix between features - 'exang' and 'slope'\n",
    "feature_matrix = pd.crosstab(cleveland_dataset[ 'exang' ], cleveland_dataset[ 'slope' ] )"
   ]
  },
  {
   "cell_type": "code",
   "execution_count": 38,
   "metadata": {},
   "outputs": [
    {
     "name": "stdout",
     "output_type": "stream",
     "text": [
      "Chi-square value:  25.131165603245137\n",
      "p-value:  3.490090811425977e-06\n",
      "degree of freedom:  2\n",
      "expected values:  [[95.6039604  94.25742574 14.13861386]\n",
      " [46.3960396  45.74257426  6.86138614]]\n"
     ]
    }
   ],
   "source": [
    "chi2_results = stats.chi2_contingency( feature_matrix )\n",
    "print( 'Chi-square value: ', chi2_results[0] )\n",
    "print( 'p-value: ', chi2_results[1] )\n",
    "print( 'degree of freedom: ', chi2_results[2] )\n",
    "print( 'expected values: ', chi2_results[3] )"
   ]
  },
  {
   "cell_type": "code",
   "execution_count": null,
   "metadata": {},
   "outputs": [],
   "source": []
  },
  {
   "cell_type": "markdown",
   "metadata": {},
   "source": [
    "The p-value is less than 0.05, therefore null hypothesis is rejected. The 'exang' and 'slope' are dependant and there is significant association between the two features."
   ]
  }
 ],
 "metadata": {
  "kernelspec": {
   "display_name": "Python 3",
   "language": "python",
   "name": "python3"
  },
  "language_info": {
   "codemirror_mode": {
    "name": "ipython",
    "version": 3
   },
   "file_extension": ".py",
   "mimetype": "text/x-python",
   "name": "python",
   "nbconvert_exporter": "python",
   "pygments_lexer": "ipython3",
   "version": "3.7.7"
  }
 },
 "nbformat": 4,
 "nbformat_minor": 4
}
