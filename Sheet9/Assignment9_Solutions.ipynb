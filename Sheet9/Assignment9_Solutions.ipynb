{
  "nbformat": 4,
  "nbformat_minor": 0,
  "metadata": {
    "kernelspec": {
      "display_name": "Python 3",
      "language": "python",
      "name": "python3"
    },
    "language_info": {
      "codemirror_mode": {
        "name": "ipython",
        "version": 3
      },
      "file_extension": ".py",
      "mimetype": "text/x-python",
      "name": "python",
      "nbconvert_exporter": "python",
      "pygments_lexer": "ipython3",
      "version": "3.7.7"
    },
    "colab": {
      "name": "Assignment9_Solutions.ipynb",
      "provenance": [],
      "collapsed_sections": [],
      "include_colab_link": true
    }
  },
  "cells": [
    {
      "cell_type": "markdown",
      "metadata": {
        "id": "view-in-github",
        "colab_type": "text"
      },
      "source": [
        "<a href=\"https://colab.research.google.com/github/FabriceBeaumont/4216_Biomedical_DS_and_AI/blob/main/Sheet9/Assignment9_Solutions.ipynb\" target=\"_parent\"><img src=\"https://colab.research.google.com/assets/colab-badge.svg\" alt=\"Open In Colab\"/></a>"
      ]
    },
    {
      "cell_type": "code",
      "metadata": {
        "id": "-UnHoHsFop-8"
      },
      "source": [
        "import pandas as pd\n",
        "import numpy as np\n",
        "from numpy.random import seed\n",
        "import matplotlib.pyplot as plt\n",
        "\n",
        "import tensorflow as tf\n",
        "\n",
        "import torchvision.transforms as transforms\n",
        "import torchvision.datasets as datasets\n",
        "\n",
        "from tensorflow import keras\n",
        "from tensorflow.keras import layers\n",
        "\n",
        "from sklearn.preprocessing import StandardScaler\n",
        "from sklearn.ensemble import RandomForestClassifier, GradientBoostingClassifier\n",
        "from sklearn.linear_model import LogisticRegression\n",
        "from sklearn.model_selection import GridSearchCV, KFold, cross_val_predict, train_test_split\n",
        "from sklearn.calibration import calibration_curve\n",
        "\n",
        "from keras.applications.vgg16 import VGG16\n",
        "from keras.utils.vis_utils import plot_model\n",
        "from keras.preprocessing.image import load_img\n",
        "from keras.preprocessing.image import img_to_array\n",
        "from keras.applications.vgg16 import preprocess_input\n",
        "from keras.applications.vgg16 import decode_predictions\n",
        "from keras.wrappers.scikit_learn import KerasClassifier"
      ],
      "execution_count": 43,
      "outputs": []
    },
    {
      "cell_type": "code",
      "metadata": {
        "id": "LluoqOW02nc5"
      },
      "source": [
        "# !pip install -q -U keras-tuner"
      ],
      "execution_count": 44,
      "outputs": []
    },
    {
      "cell_type": "code",
      "metadata": {
        "id": "zhhKcXmr2pmG"
      },
      "source": [
        "import kerastuner as kt\n",
        "from kerastuner import HyperModel"
      ],
      "execution_count": 45,
      "outputs": []
    },
    {
      "cell_type": "markdown",
      "metadata": {
        "id": "Lx0G72bGl7xc"
      },
      "source": [
        "## Biomedical Data Science & AI\n",
        "\n",
        "## Assignment 9\n",
        "\n",
        "#### Group members:  Fabrice Beaumont, Fatemeh Salehi, Genivika Mann, Helia Salimi, Jonah"
      ]
    },
    {
      "cell_type": "markdown",
      "metadata": {
        "id": "-fhYMe5ml7xo"
      },
      "source": [
        "---\n",
        "### Exercise 1 - Basics of NN\n",
        "\n",
        "From the MNIST database load the handwritten digits dataset."
      ]
    },
    {
      "cell_type": "code",
      "metadata": {
        "id": "s-WB8i9iunPs"
      },
      "source": [
        "# Load the data: \n",
        "# Split between train and test sets w.r.t. data 'x' and class vectors 'y'\n",
        "(x_train, y_train), (x_test, y_test) = keras.datasets.mnist.load_data()"
      ],
      "execution_count": 46,
      "outputs": []
    },
    {
      "cell_type": "markdown",
      "metadata": {
        "id": "_krKhWqo-Bv7"
      },
      "source": [
        "#### 1.1. Normalize your dataset before training your model."
      ]
    },
    {
      "cell_type": "code",
      "metadata": {
        "id": "vGazybua_y8x",
        "colab": {
          "base_uri": "https://localhost:8080/",
          "height": 268
        },
        "outputId": "8f44d16d-5a4c-4303-ff3c-221489e3b077"
      },
      "source": [
        "# For normalization we scale the images to contain values in [0, 1]\n",
        "x_train = x_train.astype(\"float32\") / 255\n",
        "x_test = x_test.astype(\"float32\") / 255\n",
        "# Alternative approach:\n",
        "# x_train = tf.keras.utils.normalize(x_train, axis=1)\n",
        "\n",
        "# Print the first image to get an idea of the data\n",
        "index = 0\n",
        "_classification = y_train[0]\n",
        "plt.imshow(x_train[0], cmap=plt.cm.binary); plt.title(f\"Image of a {_classification}\")\n",
        "plt.xticks([]); plt.yticks([]); plt.show()"
      ],
      "execution_count": 47,
      "outputs": [
        {
          "output_type": "display_data",
          "data": {
            "image/png": "[encoded data removed]",
            "text/plain": [
              "<Figure size 432x288 with 1 Axes>"
            ]
          },
          "metadata": {
            "tags": []
          }
        }
      ]
    },
    {
      "cell_type": "code",
      "metadata": {
        "colab": {
          "base_uri": "https://localhost:8080/"
        },
        "id": "A9a6HLa7AAic",
        "outputId": "5b63f85c-3fcd-427b-d546-38dadf07f630"
      },
      "source": [
        "# Check, that all images have shape (28, 28, 1)\n",
        "x_train = np.expand_dims(x_train, -1)\n",
        "x_test = np.expand_dims(x_test, -1)\n",
        "input_shape = x_train[0].shape\n",
        "\n",
        "print(\"x_train shape:\", x_train.shape)\n",
        "print(x_train.shape[0], \"train samples\")\n",
        "print(x_test.shape[0], \"test samples\")\n"
      ],
      "execution_count": 48,
      "outputs": [
        {
          "output_type": "stream",
          "text": [
            "x_train shape: (60000, 28, 28, 1)\n",
            "60000 train samples\n",
            "10000 test samples\n"
          ],
          "name": "stdout"
        }
      ]
    },
    {
      "cell_type": "code",
      "metadata": {
        "colab": {
          "base_uri": "https://localhost:8080/"
        },
        "id": "gFf6r2oRATnf",
        "outputId": "d6d838cf-b856-4b09-dcfe-0beb488529e4"
      },
      "source": [
        "# Check, if the number of classes is ten (since there are ten digits 0,...,9)\n",
        "num_classes = 10\n",
        "\n",
        "if num_classes == len(set(y_train)) == len(set(y_test)): print(f\"There are {num_classes} classes.\")"
      ],
      "execution_count": 49,
      "outputs": [
        {
          "output_type": "stream",
          "text": [
            "There are 10 classes.\n"
          ],
          "name": "stdout"
        }
      ]
    },
    {
      "cell_type": "markdown",
      "metadata": {
        "id": "appoDszfFI5l"
      },
      "source": [
        "#### 1.2. Train a neural network once using **Adam** and once using **AdaGrad** optimizer. \n",
        "\n",
        "*Hint*: Set epochs to $20$, neurons of hidden layer to $100$ and use the ReLU as activation function."
      ]
    },
    {
      "cell_type": "code",
      "metadata": {
        "id": "l6VsDVuWA8_F"
      },
      "source": [
        "num_epochs = 20\n",
        "num_hidden_neurons = 100\n",
        "activation_fct = \"relu\"\n",
        "# Alternative: \n",
        "# activation_fct = tf.nn.relu\n",
        "\n",
        "loss = \"sparse_categorical_crossentropy\""
      ],
      "execution_count": 50,
      "outputs": []
    },
    {
      "cell_type": "code",
      "metadata": {
        "colab": {
          "base_uri": "https://localhost:8080/"
        },
        "id": "efEwjYzet4Ml",
        "outputId": "f60c3c1d-e6a8-4753-e47e-3617468f463f"
      },
      "source": [
        "model = keras.Sequential(\n",
        "    [\n",
        "        # Input layer   (size 28x28 -> 784)\n",
        "        keras.Input(shape=input_shape),\n",
        "        layers.Flatten(),\n",
        "     \n",
        "        # One hidden layer  (size 'num_hidden_neurons'=100)\n",
        "        layers.Dense(num_hidden_neurons, activation=activation_fct),\n",
        "\n",
        "        # Output layer  (size 10)\n",
        "        # Use 'softmax' to get a probability for the digits 0,...,9 as classification\n",
        "        layers.Dense(num_classes, activation=\"softmax\")\n",
        "    ]\n",
        ")\n",
        "\n",
        "model.summary()"
      ],
      "execution_count": 51,
      "outputs": [
        {
          "output_type": "stream",
          "text": [
            "WARNING:tensorflow:Please add `keras.layers.InputLayer` instead of `keras.Input` to Sequential model. `keras.Input` is intended to be used by Functional model.\n",
            "Model: \"sequential_120\"\n",
            "_________________________________________________________________\n",
            "Layer (type)                 Output Shape              Param #   \n",
            "=================================================================\n",
            "flatten_120 (Flatten)        (None, 784)               0         \n",
            "_________________________________________________________________\n",
            "dense_298 (Dense)            (None, 100)               78500     \n",
            "_________________________________________________________________\n",
            "dense_299 (Dense)            (None, 10)                1010      \n",
            "=================================================================\n",
            "Total params: 79,510\n",
            "Trainable params: 79,510\n",
            "Non-trainable params: 0\n",
            "_________________________________________________________________\n"
          ],
          "name": "stdout"
        }
      ]
    },
    {
      "cell_type": "code",
      "metadata": {
        "colab": {
          "base_uri": "https://localhost:8080/"
        },
        "id": "XNjhS6ZJDD0Z",
        "outputId": "8c56a4d3-799b-485a-f543-4ab20ea43450"
      },
      "source": [
        "# Compile the model with 'adam'\n",
        "model.compile(loss=loss, optimizer=\"adam\", metrics=[\"accuracy\"])\n",
        "\n",
        "# Train the model\n",
        "# Also pass the validation data, because this way the history will contain\n",
        "# the loss and accuracy w.r.t. to the validation data too (for later use)\n",
        "%time history_adam = model.fit(x_train, y_train, epochs=num_epochs, validation_data=(x_test, y_test))\n",
        "\n",
        "# Save the score (validation loss and validation accuracy) for later use\n",
        "score_adam = model.evaluate(x_test, y_test, verbose=0)"
      ],
      "execution_count": 52,
      "outputs": [
        {
          "output_type": "stream",
          "text": [
            "Epoch 1/20\n",
            "1875/1875 [==============================] - 4s 2ms/step - loss: 0.2775 - accuracy: 0.9206 - val_loss: 0.1484 - val_accuracy: 0.9585\n",
            "Epoch 2/20\n",
            "1875/1875 [==============================] - 5s 3ms/step - loss: 0.1240 - accuracy: 0.9628 - val_loss: 0.1170 - val_accuracy: 0.9646\n",
            "Epoch 3/20\n",
            "1875/1875 [==============================] - 6s 3ms/step - loss: 0.0865 - accuracy: 0.9739 - val_loss: 0.0979 - val_accuracy: 0.9692\n",
            "Epoch 4/20\n",
            "1875/1875 [==============================] - 4s 2ms/step - loss: 0.0659 - accuracy: 0.9799 - val_loss: 0.0838 - val_accuracy: 0.9738\n",
            "Epoch 5/20\n",
            "1875/1875 [==============================] - 4s 2ms/step - loss: 0.0522 - accuracy: 0.9835 - val_loss: 0.0771 - val_accuracy: 0.9777\n",
            "Epoch 6/20\n",
            "1875/1875 [==============================] - 4s 2ms/step - loss: 0.0417 - accuracy: 0.9868 - val_loss: 0.0767 - val_accuracy: 0.9772\n",
            "Epoch 7/20\n",
            "1875/1875 [==============================] - 4s 2ms/step - loss: 0.0345 - accuracy: 0.9891 - val_loss: 0.0731 - val_accuracy: 0.9778\n",
            "Epoch 8/20\n",
            "1875/1875 [==============================] - 4s 2ms/step - loss: 0.0283 - accuracy: 0.9915 - val_loss: 0.0772 - val_accuracy: 0.9775\n",
            "Epoch 9/20\n",
            "1875/1875 [==============================] - 4s 2ms/step - loss: 0.0239 - accuracy: 0.9928 - val_loss: 0.0865 - val_accuracy: 0.9745\n",
            "Epoch 10/20\n",
            "1875/1875 [==============================] - 4s 2ms/step - loss: 0.0193 - accuracy: 0.9941 - val_loss: 0.0833 - val_accuracy: 0.9785\n",
            "Epoch 11/20\n",
            "1875/1875 [==============================] - 4s 2ms/step - loss: 0.0176 - accuracy: 0.9943 - val_loss: 0.0904 - val_accuracy: 0.9743\n",
            "Epoch 12/20\n",
            "1875/1875 [==============================] - 4s 2ms/step - loss: 0.0138 - accuracy: 0.9959 - val_loss: 0.0802 - val_accuracy: 0.9782\n",
            "Epoch 13/20\n",
            "1875/1875 [==============================] - 4s 2ms/step - loss: 0.0135 - accuracy: 0.9956 - val_loss: 0.0879 - val_accuracy: 0.9762\n",
            "Epoch 14/20\n",
            "1875/1875 [==============================] - 4s 2ms/step - loss: 0.0102 - accuracy: 0.9971 - val_loss: 0.0910 - val_accuracy: 0.9759\n",
            "Epoch 15/20\n",
            "1875/1875 [==============================] - 4s 2ms/step - loss: 0.0097 - accuracy: 0.9971 - val_loss: 0.0908 - val_accuracy: 0.9786\n",
            "Epoch 16/20\n",
            "1875/1875 [==============================] - 4s 2ms/step - loss: 0.0081 - accuracy: 0.9976 - val_loss: 0.0951 - val_accuracy: 0.9782\n",
            "Epoch 17/20\n",
            "1875/1875 [==============================] - 4s 2ms/step - loss: 0.0081 - accuracy: 0.9977 - val_loss: 0.0977 - val_accuracy: 0.9774\n",
            "Epoch 18/20\n",
            "1875/1875 [==============================] - 4s 2ms/step - loss: 0.0071 - accuracy: 0.9981 - val_loss: 0.0851 - val_accuracy: 0.9811\n",
            "Epoch 19/20\n",
            "1875/1875 [==============================] - 4s 2ms/step - loss: 0.0075 - accuracy: 0.9976 - val_loss: 0.0974 - val_accuracy: 0.9770\n",
            "Epoch 20/20\n",
            "1875/1875 [==============================] - 4s 2ms/step - loss: 0.0059 - accuracy: 0.9981 - val_loss: 0.1032 - val_accuracy: 0.9774\n",
            "CPU times: user 1min 45s, sys: 8.15 s, total: 1min 53s\n",
            "Wall time: 1min 25s\n"
          ],
          "name": "stdout"
        }
      ]
    },
    {
      "cell_type": "code",
      "metadata": {
        "id": "jFcKiI_nHO4_",
        "colab": {
          "base_uri": "https://localhost:8080/"
        },
        "outputId": "934697eb-6565-4ce9-eb4e-0f04ea2271c1"
      },
      "source": [
        "# Now do the same using AdaGrad. First compile the model\n",
        "model.compile(loss=loss, optimizer=\"adagrad\", metrics=[\"accuracy\"])\n",
        "\n",
        "# Train the model\n",
        "%time history_adagrad = model.fit(x_train, y_train, epochs=num_epochs, validation_data=(x_test, y_test))\n",
        "\n",
        "# Save the score (validation loss and validation accuracy) for later use\n",
        "score_adagrad = model.evaluate(x_test, y_test, verbose=0)"
      ],
      "execution_count": 53,
      "outputs": [
        {
          "output_type": "stream",
          "text": [
            "Epoch 1/20\n",
            "1875/1875 [==============================] - 4s 2ms/step - loss: 0.0046 - accuracy: 0.9987 - val_loss: 0.0964 - val_accuracy: 0.9784\n",
            "Epoch 2/20\n",
            "1875/1875 [==============================] - 4s 2ms/step - loss: 0.0031 - accuracy: 0.9992 - val_loss: 0.0947 - val_accuracy: 0.9790\n",
            "Epoch 3/20\n",
            "1875/1875 [==============================] - 4s 2ms/step - loss: 0.0027 - accuracy: 0.9994 - val_loss: 0.0936 - val_accuracy: 0.9797\n",
            "Epoch 4/20\n",
            "1875/1875 [==============================] - 4s 2ms/step - loss: 0.0024 - accuracy: 0.9996 - val_loss: 0.0928 - val_accuracy: 0.9798\n",
            "Epoch 5/20\n",
            "1875/1875 [==============================] - 4s 2ms/step - loss: 0.0022 - accuracy: 0.9996 - val_loss: 0.0922 - val_accuracy: 0.9799\n",
            "Epoch 6/20\n",
            "1875/1875 [==============================] - 4s 2ms/step - loss: 0.0020 - accuracy: 0.9997 - val_loss: 0.0918 - val_accuracy: 0.9804\n",
            "Epoch 7/20\n",
            "1875/1875 [==============================] - 4s 2ms/step - loss: 0.0019 - accuracy: 0.9998 - val_loss: 0.0914 - val_accuracy: 0.9806\n",
            "Epoch 8/20\n",
            "1875/1875 [==============================] - 4s 2ms/step - loss: 0.0018 - accuracy: 0.9998 - val_loss: 0.0910 - val_accuracy: 0.9807\n",
            "Epoch 9/20\n",
            "1875/1875 [==============================] - 4s 2ms/step - loss: 0.0017 - accuracy: 0.9999 - val_loss: 0.0908 - val_accuracy: 0.9804\n",
            "Epoch 10/20\n",
            "1875/1875 [==============================] - 4s 2ms/step - loss: 0.0016 - accuracy: 0.9999 - val_loss: 0.0905 - val_accuracy: 0.9803\n",
            "Epoch 11/20\n",
            "1875/1875 [==============================] - 4s 2ms/step - loss: 0.0016 - accuracy: 0.9999 - val_loss: 0.0903 - val_accuracy: 0.9803\n",
            "Epoch 12/20\n",
            "1875/1875 [==============================] - 4s 2ms/step - loss: 0.0015 - accuracy: 0.9999 - val_loss: 0.0901 - val_accuracy: 0.9804\n",
            "Epoch 13/20\n",
            "1875/1875 [==============================] - 4s 2ms/step - loss: 0.0015 - accuracy: 0.9999 - val_loss: 0.0900 - val_accuracy: 0.9805\n",
            "Epoch 14/20\n",
            "1875/1875 [==============================] - 4s 2ms/step - loss: 0.0014 - accuracy: 0.9999 - val_loss: 0.0899 - val_accuracy: 0.9806\n",
            "Epoch 15/20\n",
            "1875/1875 [==============================] - 4s 2ms/step - loss: 0.0014 - accuracy: 0.9999 - val_loss: 0.0897 - val_accuracy: 0.9807\n",
            "Epoch 16/20\n",
            "1875/1875 [==============================] - 4s 2ms/step - loss: 0.0013 - accuracy: 1.0000 - val_loss: 0.0896 - val_accuracy: 0.9807\n",
            "Epoch 17/20\n",
            "1875/1875 [==============================] - 4s 2ms/step - loss: 0.0013 - accuracy: 1.0000 - val_loss: 0.0895 - val_accuracy: 0.9808\n",
            "Epoch 18/20\n",
            "1875/1875 [==============================] - 4s 2ms/step - loss: 0.0013 - accuracy: 1.0000 - val_loss: 0.0895 - val_accuracy: 0.9808\n",
            "Epoch 19/20\n",
            "1875/1875 [==============================] - 4s 2ms/step - loss: 0.0013 - accuracy: 1.0000 - val_loss: 0.0894 - val_accuracy: 0.9808\n",
            "Epoch 20/20\n",
            "1875/1875 [==============================] - 4s 2ms/step - loss: 0.0012 - accuracy: 1.0000 - val_loss: 0.0893 - val_accuracy: 0.9807\n",
            "CPU times: user 1min 36s, sys: 6.44 s, total: 1min 42s\n",
            "Wall time: 1min 20s\n"
          ],
          "name": "stdout"
        }
      ]
    },
    {
      "cell_type": "code",
      "metadata": {
        "colab": {
          "base_uri": "https://localhost:8080/"
        },
        "id": "7qLxsw5pwOpO",
        "outputId": "611670cb-81e7-4ffb-ef8d-9e9c5dd53ccd"
      },
      "source": [
        "# Compare the scores of the two models\n",
        "print(f'ADAM:    Validation loss: {score_adam[0]:.2f},\\tValidation accuracy: {score_adam[1]*100:.2f} %')\n",
        "print(f'ADAGRAD: Validation loss: {score_adagrad[0]:.2f},\\tValidation accuracy: {score_adagrad[1]*100:.2f} %')"
      ],
      "execution_count": 54,
      "outputs": [
        {
          "output_type": "stream",
          "text": [
            "ADAM:    Validation loss: 0.10,\tValidation accuracy: 97.74 %\n",
            "ADAGRAD: Validation loss: 0.09,\tValidation accuracy: 98.07 %\n"
          ],
          "name": "stdout"
        }
      ]
    },
    {
      "cell_type": "markdown",
      "metadata": {
        "id": "zyw9E17lFKxz"
      },
      "source": [
        "#### 1.3. Plot the *SparseCategoricalCrossentropy* loss for both models. Plot the computed accuracy for both models. Which model performed better while training?"
      ]
    },
    {
      "cell_type": "code",
      "metadata": {
        "colab": {
          "base_uri": "https://localhost:8080/"
        },
        "id": "qs3mWDQq6mSz",
        "outputId": "dc73a3fb-920b-4fc3-bb49-e3cf850aca6e"
      },
      "source": [
        "history_adam.history.keys()"
      ],
      "execution_count": 55,
      "outputs": [
        {
          "output_type": "execute_result",
          "data": {
            "text/plain": [
              "dict_keys(['loss', 'accuracy', 'val_loss', 'val_accuracy'])"
            ]
          },
          "metadata": {
            "tags": []
          },
          "execution_count": 55
        }
      ]
    },
    {
      "cell_type": "code",
      "metadata": {
        "id": "oSRUWsLCu9J3",
        "colab": {
          "base_uri": "https://localhost:8080/",
          "height": 295
        },
        "outputId": "c598e465-c863-4d8e-a193-c28a637a7173"
      },
      "source": [
        "# Now plot the losses\n",
        "plt.plot(history_adam.history['loss'], c=\"royalblue\")\n",
        "plt.plot(history_adam.history['val_loss'], c=\"red\")\n",
        "\n",
        "plt.plot(history_adagrad.history['loss'], c=\"yellowgreen\")\n",
        "plt.plot(history_adagrad.history['val_loss'], c=\"darkorange\")\n",
        "\n",
        "plt.title('Model losses')\n",
        "plt.ylabel('loss')\n",
        "plt.xlabel('epoch')\n",
        "plt.xticks(range(1, num_epochs))\n",
        "plt.legend(['Adam:     training loss', 'Adam:     validation loss', 'Adagrad: training loss', 'Adagrad: validation loss'])\n",
        "plt.show()"
      ],
      "execution_count": 56,
      "outputs": [
        {
          "output_type": "display_data",
          "data": {
            "image/png": "[encoded data removed]",
            "text/plain": [
              "<Figure size 432x288 with 1 Axes>"
            ]
          },
          "metadata": {
            "tags": [],
            "needs_background": "light"
          }
        }
      ]
    },
    {
      "cell_type": "markdown",
      "metadata": {
        "id": "rUIsXo-Yu_dH"
      },
      "source": [
        "#### 1.4. Compute the model accuracy on the test set for both optimizers. Which model performed better?"
      ]
    },
    {
      "cell_type": "code",
      "metadata": {
        "colab": {
          "base_uri": "https://localhost:8080/"
        },
        "id": "BTJEb5RO5Ypj",
        "outputId": "4a7f2420-a100-419a-a16b-2c109d6c6e53"
      },
      "source": [
        "print(f\"The model using ADAM    reached an accuracy of {score_adam[1]*100:.2f} %.\")\n",
        "print(f\"The model using ADAGRAD reached an accuracy of {score_adagrad[1]*100:.2f} %.\")\n",
        "print(f\"Thus the model using ADAGRAD performed better.\")"
      ],
      "execution_count": 57,
      "outputs": [
        {
          "output_type": "stream",
          "text": [
            "The model using ADAM    reached an accuracy of 97.74 %.\n",
            "The model using ADAGRAD reached an accuracy of 98.07 %.\n",
            "Thus the model using ADAGRAD performed better.\n"
          ],
          "name": "stdout"
        }
      ]
    },
    {
      "cell_type": "code",
      "metadata": {
        "id": "XT0URUTYvBjn",
        "colab": {
          "base_uri": "https://localhost:8080/",
          "height": 295
        },
        "outputId": "09be4cab-714c-46dd-ef18-5318d198cc5b"
      },
      "source": [
        "# Plot the accuracies\n",
        "plt.plot(history_adam.history['accuracy'], c=\"royalblue\")\n",
        "plt.plot(history_adam.history['val_accuracy'], c=\"red\")\n",
        "\n",
        "plt.plot(history_adagrad.history['accuracy'], c=\"yellowgreen\")\n",
        "plt.plot(history_adagrad.history['val_accuracy'], c=\"darkorange\")\n",
        "\n",
        "plt.title('Model accuracies')\n",
        "plt.ylabel('accuracy [%]')\n",
        "plt.xlabel('epoch')\n",
        "plt.xticks(range(1, num_epochs))\n",
        "plt.legend(['Adam:     training accuracy', 'Adam:     validation accuracy', 'Adagrad: training accuracy', 'Adagrad: validation accuracy'])\n",
        "plt.show()"
      ],
      "execution_count": 58,
      "outputs": [
        {
          "output_type": "display_data",
          "data": {
            "image/png": "[encoded data removed]",
            "text/plain": [
              "<Figure size 432x288 with 1 Axes>"
            ]
          },
          "metadata": {
            "tags": [],
            "needs_background": "light"
          }
        }
      ]
    },
    {
      "cell_type": "markdown",
      "metadata": {
        "id": "omo2nxYuvDZv"
      },
      "source": [
        "#### 1.5. Familiarize yourself with **Layer Normalization** and explain how it works."
      ]
    },
    {
      "cell_type": "markdown",
      "metadata": {
        "id": "Lw4U1iSj9imD"
      },
      "source": [
        "**Layer normalization** is the process of normalizing the activations of layers *for each given example* in a batch *independently*. \n",
        "\n",
        "Thus it is similar to batch normalization, but does not have the same limitations. Limitations of batch normalization that layer normalization does not have are:\n",
        "- normalization accross a batch and thus dependent of the other examples in the batch\n",
        "- no obvious application to *recurrent NN* (*RNN*): The summed inputs often vary with the length of the sequence!\n",
        "- no application to online learning algorithms\n",
        "\n",
        "Furthermore, unlike batch normalization, layer\n",
        "normalization performs exactly the same computation at training and *validation*.\n",
        "\n",
        "Important **benefits** of batch normalization are also given by layer normalization:\n",
        "- stabilizes the hidden state dynamics in recurrent networks\n",
        "- can substantially reduce the training time"
      ]
    },
    {
      "cell_type": "markdown",
      "metadata": {
        "id": "uXkHzhwUThmI"
      },
      "source": [
        "###### Mathematical description of layer normalization:\n",
        "\n",
        "Let \n",
        "- $a^l$ be the vector representation of the summed inputs to the neurons in layer $l$,\n",
        "- $W^l$ be the weights between layer $l-1$ and $l$,\n",
        "- $x^l$ the inputs for layer $l$,\n",
        "- $b^l$ the bias of layer $l$ and\n",
        "- $f$ activation function.\n",
        "\n",
        "It is\n",
        "$$ a_i^l = {w_i^l}^\\intercal x^l ,\\qquad\\qquad x_i^{l+1} =f\\big( a_i^l + b_i^l \\big) $$\n",
        "\n",
        "For layer normalization, adjust the mean and variance of every layer to be the mean and variance over *all hidden units in the same layer*. Let $l$ be a layer with $H$ neurons. Define\n",
        "$$ \\mu^l := \\frac{1}{H} \\sum_{i=1}^{H} a_i^l,\\qquad\\qquad \\sigma^l := \\sqrt{ \\frac{1}{H} \\sum_{i=1}^{H} (a_i^l-\\mu^l)^2 } $$"
      ]
    },
    {
      "cell_type": "markdown",
      "metadata": {
        "id": "Tetl2QXI_tcL"
      },
      "source": [
        "###### Source:\n",
        "- [\"Layer Normalization\"](https://arxiv.org/pdf/1607.06450v1) by Jimmy Lei Ba, Jamie Ryan Kiros and Geoffrey E. Hinton (2016)"
      ]
    },
    {
      "cell_type": "markdown",
      "metadata": {
        "id": "aj_QiGbovFHI"
      },
      "source": [
        "#### 1.6. Use the same dataset to train a neural network with Layer Normalization."
      ]
    },
    {
      "cell_type": "code",
      "metadata": {
        "colab": {
          "base_uri": "https://localhost:8080/"
        },
        "id": "2heUzL4EAGay",
        "outputId": "8bb28b09-14bc-4552-e09c-c7418b9f1375"
      },
      "source": [
        "model = keras.Sequential(\n",
        "    [\n",
        "        # Input layer   (size 28x28 -> 784)\n",
        "        keras.Input(shape=input_shape),\n",
        "        layers.Flatten(),\n",
        "        # TODO: since the input was originally normalized, if this necessary here too?\n",
        "        layers.LayerNormalization(axis=1),\n",
        "     \n",
        "        # One hidden layer  (size 'num_hidden_neurons'=100)\n",
        "        layers.Dense(num_hidden_neurons, activation=activation_fct),\n",
        "        layers.LayerNormalization(axis=1),\n",
        "\n",
        "        # Output layer  (size 10)\n",
        "        # Use 'softmax' to get a probability for the digits 0,...,9 as classification\n",
        "        layers.Dense(num_classes, activation=\"softmax\")\n",
        "    ]\n",
        ")\n",
        "\n",
        "model.summary()"
      ],
      "execution_count": 59,
      "outputs": [
        {
          "output_type": "stream",
          "text": [
            "WARNING:tensorflow:Please add `keras.layers.InputLayer` instead of `keras.Input` to Sequential model. `keras.Input` is intended to be used by Functional model.\n",
            "Model: \"sequential_121\"\n",
            "_________________________________________________________________\n",
            "Layer (type)                 Output Shape              Param #   \n",
            "=================================================================\n",
            "flatten_121 (Flatten)        (None, 784)               0         \n",
            "_________________________________________________________________\n",
            "layer_normalization (LayerNo (None, 784)               1568      \n",
            "_________________________________________________________________\n",
            "dense_300 (Dense)            (None, 100)               78500     \n",
            "_________________________________________________________________\n",
            "layer_normalization_1 (Layer (None, 100)               200       \n",
            "_________________________________________________________________\n",
            "dense_301 (Dense)            (None, 10)                1010      \n",
            "=================================================================\n",
            "Total params: 81,278\n",
            "Trainable params: 81,278\n",
            "Non-trainable params: 0\n",
            "_________________________________________________________________\n"
          ],
          "name": "stdout"
        }
      ]
    },
    {
      "cell_type": "code",
      "metadata": {
        "colab": {
          "base_uri": "https://localhost:8080/"
        },
        "id": "UbGptqMLA1JV",
        "outputId": "ada755fc-f799-41fe-a238-b0485228560d"
      },
      "source": [
        "# Lets use AdaGrad, since it performed better. First compile the model\n",
        "model.compile(loss=loss, optimizer=\"adagrad\", metrics=[\"accuracy\"])\n",
        "\n",
        "# Train the model\n",
        "%time history = model.fit(x_train, y_train, epochs=num_epochs, validation_data=(x_test, y_test))\n",
        "\n",
        "# Save the score (validation loss and validation accuracy) for later use\n",
        "score = model.evaluate(x_test, y_test, verbose=0)"
      ],
      "execution_count": 60,
      "outputs": [
        {
          "output_type": "stream",
          "text": [
            "Epoch 1/20\n",
            "1875/1875 [==============================] - 8s 4ms/step - loss: 0.6289 - accuracy: 0.8158 - val_loss: 0.3918 - val_accuracy: 0.8933\n",
            "Epoch 2/20\n",
            "1875/1875 [==============================] - 8s 4ms/step - loss: 0.3660 - accuracy: 0.8985 - val_loss: 0.3210 - val_accuracy: 0.9138\n",
            "Epoch 3/20\n",
            "1875/1875 [==============================] - 7s 4ms/step - loss: 0.3144 - accuracy: 0.9129 - val_loss: 0.2891 - val_accuracy: 0.9222\n",
            "Epoch 4/20\n",
            "1875/1875 [==============================] - 7s 4ms/step - loss: 0.2854 - accuracy: 0.9212 - val_loss: 0.2671 - val_accuracy: 0.9264\n",
            "Epoch 5/20\n",
            "1875/1875 [==============================] - 8s 4ms/step - loss: 0.2653 - accuracy: 0.9265 - val_loss: 0.2515 - val_accuracy: 0.9303\n",
            "Epoch 6/20\n",
            "1875/1875 [==============================] - 8s 4ms/step - loss: 0.2500 - accuracy: 0.9311 - val_loss: 0.2394 - val_accuracy: 0.9335\n",
            "Epoch 7/20\n",
            "1875/1875 [==============================] - 8s 4ms/step - loss: 0.2379 - accuracy: 0.9347 - val_loss: 0.2292 - val_accuracy: 0.9362\n",
            "Epoch 8/20\n",
            "1875/1875 [==============================] - 8s 4ms/step - loss: 0.2277 - accuracy: 0.9377 - val_loss: 0.2210 - val_accuracy: 0.9384\n",
            "Epoch 9/20\n",
            "1875/1875 [==============================] - 8s 4ms/step - loss: 0.2192 - accuracy: 0.9399 - val_loss: 0.2138 - val_accuracy: 0.9401\n",
            "Epoch 10/20\n",
            "1875/1875 [==============================] - 8s 4ms/step - loss: 0.2117 - accuracy: 0.9421 - val_loss: 0.2075 - val_accuracy: 0.9424\n",
            "Epoch 11/20\n",
            "1875/1875 [==============================] - 8s 4ms/step - loss: 0.2052 - accuracy: 0.9442 - val_loss: 0.2024 - val_accuracy: 0.9442\n",
            "Epoch 12/20\n",
            "1875/1875 [==============================] - 8s 4ms/step - loss: 0.1993 - accuracy: 0.9460 - val_loss: 0.1975 - val_accuracy: 0.9449\n",
            "Epoch 13/20\n",
            "1875/1875 [==============================] - 8s 4ms/step - loss: 0.1940 - accuracy: 0.9478 - val_loss: 0.1929 - val_accuracy: 0.9459\n",
            "Epoch 14/20\n",
            "1875/1875 [==============================] - 8s 4ms/step - loss: 0.1892 - accuracy: 0.9489 - val_loss: 0.1892 - val_accuracy: 0.9469\n",
            "Epoch 15/20\n",
            "1875/1875 [==============================] - 8s 4ms/step - loss: 0.1847 - accuracy: 0.9500 - val_loss: 0.1851 - val_accuracy: 0.9483\n",
            "Epoch 16/20\n",
            "1875/1875 [==============================] - 8s 4ms/step - loss: 0.1807 - accuracy: 0.9510 - val_loss: 0.1818 - val_accuracy: 0.9497\n",
            "Epoch 17/20\n",
            "1875/1875 [==============================] - 8s 4ms/step - loss: 0.1770 - accuracy: 0.9518 - val_loss: 0.1785 - val_accuracy: 0.9502\n",
            "Epoch 18/20\n",
            "1875/1875 [==============================] - 8s 4ms/step - loss: 0.1735 - accuracy: 0.9529 - val_loss: 0.1758 - val_accuracy: 0.9507\n",
            "Epoch 19/20\n",
            "1875/1875 [==============================] - 8s 4ms/step - loss: 0.1702 - accuracy: 0.9538 - val_loss: 0.1729 - val_accuracy: 0.9513\n",
            "Epoch 20/20\n",
            "1875/1875 [==============================] - 8s 4ms/step - loss: 0.1672 - accuracy: 0.9545 - val_loss: 0.1704 - val_accuracy: 0.9522\n",
            "CPU times: user 3min 17s, sys: 13.6 s, total: 3min 30s\n",
            "Wall time: 2min 36s\n"
          ],
          "name": "stdout"
        }
      ]
    },
    {
      "cell_type": "markdown",
      "metadata": {
        "id": "XXW6NPA7vGzn"
      },
      "source": [
        "##### 1.6.a. Compute the SparseCategoricalCrossentropy loss and model accuracy."
      ]
    },
    {
      "cell_type": "code",
      "metadata": {
        "colab": {
          "base_uri": "https://localhost:8080/"
        },
        "id": "RxvRhXePBB1a",
        "outputId": "0ce2ac29-87f4-4f3d-d001-02b4e40314aa"
      },
      "source": [
        "print(f'ADAGRAD with layer normlization:\\nValidation loss: {score[0]:.2f},\\tValidation accuracy: {score[1]*100:.2f} %')"
      ],
      "execution_count": 61,
      "outputs": [
        {
          "output_type": "stream",
          "text": [
            "ADAGRAD with layer normlization:\n",
            "Validation loss: 0.17,\tValidation accuracy: 95.22 %\n"
          ],
          "name": "stdout"
        }
      ]
    },
    {
      "cell_type": "markdown",
      "metadata": {
        "id": "4CzB1JOcvI5J"
      },
      "source": [
        "##### 1.6.b. Evaluate the model performance using the test dataset."
      ]
    },
    {
      "cell_type": "code",
      "metadata": {
        "id": "9dLlCzPpvFyJ",
        "colab": {
          "base_uri": "https://localhost:8080/",
          "height": 573
        },
        "outputId": "58c4b76d-40cf-464d-c915-e775c7582c42"
      },
      "source": [
        "singular = ['loss', 'accuracy']\n",
        "plural = ['losses', 'accuracies']\n",
        "\n",
        "for i in range(len(singular)):\n",
        "    mode = singular[i]\n",
        "\n",
        "    plt.plot(history.history[mode], c=\"dodgerblue\")\n",
        "    plt.plot(history.history[f\"val_{mode}\"], c=\"chartreuse\")\n",
        "\n",
        "    plt.title(f\"Model {plural[i]}\")\n",
        "    plt.ylabel(mode)\n",
        "    plt.xlabel('epoch')\n",
        "    plt.xticks(range(1, num_epochs))\n",
        "    plt.legend([f\"Adagrad: training {mode}\", f\"Adagrad: validation {mode}\"])\n",
        "    plt.show()"
      ],
      "execution_count": 62,
      "outputs": [
        {
          "output_type": "display_data",
          "data": {
            "image/png": "[encoded data removed]",
            "text/plain": [
              "<Figure size 432x288 with 1 Axes>"
            ]
          },
          "metadata": {
            "tags": [],
            "needs_background": "light"
          }
        },
        {
          "output_type": "display_data",
          "data": {
            "image/png": "[encoded data removed]",
            "text/plain": [
              "<Figure size 432x288 with 1 Axes>"
            ]
          },
          "metadata": {
            "tags": [],
            "needs_background": "light"
          }
        }
      ]
    },
    {
      "cell_type": "markdown",
      "metadata": {
        "id": "9Whnr95UcN_9"
      },
      "source": [
        "Just from looking at the plots we can see that the training went as desired: The loss steadily decreased while the accuracy increased.\n",
        "\n",
        "Interestingly, the to be expected relation that the loss on the validation set is higher and the accuracy lower than on the training set is only the case after already 5 and 10 epochs.\n",
        "\n",
        "We can see that around epoch 10, the loss on the training data gets lower, than on the validation loss. But the loss on the validation data still decreases, thus one can continue the training."
      ]
    },
    {
      "cell_type": "markdown",
      "metadata": {
        "id": "PwJ9lFCMvL3i"
      },
      "source": [
        "---\n",
        "### Exercise 2 - Hyper Parameter Optimization"
      ]
    },
    {
      "cell_type": "markdown",
      "metadata": {
        "id": "7qALaDAgvQ9h"
      },
      "source": [
        "#### 2.1. What are the main challenges with hyper-parameter optimization for neural networks?"
      ]
    },
    {
      "cell_type": "markdown",
      "metadata": {
        "id": "6vNbxgbTd4M2"
      },
      "source": [
        "Typical challenges with hyper-parameter optimization (HPO) for NN are:\n",
        "- hyper-parameters may be *continuous* or *discrete*/*categorical* \n",
        "(thus: use methods like grid search, random search,...)\n",
        "- different *sensitivity* of the model with respect to different parameters\n",
        "- large number of hyper-parameters\n",
        "- complex models\n",
        "- time-consuming model evaluations\n",
        "- the choice of hyper-parameters may influence the *duration of training* significantly\n",
        "- non-linear hyper-parameter interactions"
      ]
    },
    {
      "cell_type": "markdown",
      "metadata": {
        "id": "p075qyNQJNMq"
      },
      "source": [
        "###### Source:\n",
        "- [\"On Hyperparameter Optimization of Machine Learning Algorithms: Theory and Practice\"](https://arxiv.org/pdf/2007.15745) by Li Yang and Abdallah Shami (2010)"
      ]
    },
    {
      "cell_type": "markdown",
      "metadata": {
        "id": "JAW6mdQlvWBl"
      },
      "source": [
        "##### 2.2. Inform yourself about variants of **Bayesian-HPO** and explain them in detail."
      ]
    },
    {
      "cell_type": "markdown",
      "metadata": {
        "id": "CI_xRnRDNw3H"
      },
      "source": [
        "**Bayesian optimization** is a method to model the generalization performance of a learning algorithm as a *sample from a Gaussian process* (*GP*). That means to find the minimum of a function $f(x)$ on some bounded set $X\\subset\\mathbb{R}^D$ by constructing a probabilisitic model for $f(x)$ and exploit it to make the next evaluations of $f$ in $X$.\n",
        "\n",
        "Since the evaluations $f(x)$ are expensive to perform (train and evaluate the learning algorithm on the new hyper-parameters $x$), it is justified, that more effort in the selection of the $x$ is made."
      ]
    },
    {
      "cell_type": "markdown",
      "metadata": {
        "id": "2jeEB5_sQeRo"
      },
      "source": [
        "###### DEFINITION: **Gaussian process** (**GP**)\n",
        "A GP is a (prior) distribution on functions $f:X\\to\\mathbb{R}$ such that any finite set of $N$ points $\\{ x_n\\in X \\}_{n=1}^{N}$ induces a multivariate Gaussian distribution on $\\mathbb{R}^N$.\n",
        "\n",
        "Now assume that $f(x)$ is drawn from a GP piror and that the observations/data are of the form $\\{x_n, y_n\\}_{n=1}^{N}$ where $y_n\\sim\\mathcal{N}\\big( f(x_n), \\nu \\big)$ where $\\nu$ is the *variance of noise* in the data."
      ]
    },
    {
      "cell_type": "markdown",
      "metadata": {
        "id": "N1wS5g4nOGCM"
      },
      "source": [
        "###### Sources:\n",
        "- [\"A Tutorial on Bayesian Optimization of\n",
        "Expensive Cost Functions, with Application to\n",
        "Active User Modeling and Hierarchical\n",
        "Reinforcement Learning\"](https://www.google.com/url?sa=t&rct=j&q=&esrc=s&source=web&cd=&cad=rja&uact=8&ved=2ahUKEwiu7dC8rb7xAhXigP0HHTKDDOkQFnoECAUQAw&url=https%3A%2F%2Fwww.semanticscholar.org%2Fpaper%2FA-Tutorial-on-Bayesian-Optimization-of-Expensive-to-Brochu-Cora%2Fcd5a26b89f0799db1cbc1dff5607cb6815739fe7&usg=AOvVaw37GVu2ur6fAx3O7QkBwaes) by Eric Brochu, Vlad M. Cora and Nando de Freitas (2010)\n",
        "- [\"Practical Bayesian Optimization of Machine\n",
        "Learning Algorithms\"](https://www.google.com/url?sa=t&rct=j&q=&esrc=s&source=web&cd=&cad=rja&uact=8&ved=2ahUKEwi58fbIrb7xAhV-hP0HHbwrAu8QFnoECAcQAw&url=https%3A%2F%2Fpapers.nips.cc%2Fpaper%2F4522-practical-bayesian-optimization-of-machine-learning-algorithms.pdf&usg=AOvVaw1vwF0dYZpS1XkJbJjbuRIG) by Jasper Snoek, Hugo Larochelle and Ryan P. Adams (2021)\n",
        "- [\"Hyperopt: A Python Library for Optimizing the\n",
        "Hyperparameters of Machine Learning Algorithms\"](https://www.google.com/url?sa=t&rct=j&q=&esrc=s&source=web&cd=&cad=rja&uact=8&ved=2ahUKEwiu0NXprb7xAhXKhv0HHWmaAq8QFnoECAQQAw&url=https%3A%2F%2Fconference.scipy.org%2Fproceedings%2Fscipy2013%2Fpdfs%2Fbergstra_hyperopt.pdf&usg=AOvVaw1T3FFVZlILsBGulTAL4ByO) by James Bergstra, Dan Yamins and David D. Cox (2013)\n"
      ]
    },
    {
      "cell_type": "markdown",
      "metadata": {
        "id": "qXORgwslvaQ2"
      },
      "source": [
        "#### 2.3. Using the same MNIST dataset, optimize the activation function for the output layer and the number of dropout units in the NN model using the following methods."
      ]
    },
    {
      "cell_type": "code",
      "metadata": {
        "id": "iiKbcaoJMFEI"
      },
      "source": [
        "###### For preparation do the same as in exercise 1.1.: ######\n",
        "# Load the data: \n",
        "# Split between train and test sets w.r.t. data 'x' and class vectors 'y'\n",
        "(X_train, y_train), (X_test, y_test) = keras.datasets.mnist.load_data()\n",
        "\n",
        "# For normalization we scale the images to contain values in [0, 1]\n",
        "X_train = X_train.astype(\"float32\") / 255\n",
        "X_test = X_test.astype(\"float32\") / 255\n",
        "\n",
        "# Check, that all images have shape (28, 28, 1)\n",
        "X_train = np.expand_dims(X_train, -1)\n",
        "X_test = np.expand_dims(X_test, -1)\n",
        "input_shape = X_train[0].shape"
      ],
      "execution_count": 63,
      "outputs": []
    },
    {
      "cell_type": "code",
      "metadata": {
        "id": "Z-OFn5DC23Bh"
      },
      "source": [
        "num_classes = 10"
      ],
      "execution_count": 64,
      "outputs": []
    },
    {
      "cell_type": "markdown",
      "metadata": {
        "id": "UaY0eyycve4w"
      },
      "source": [
        "##### 2.3.a. Grid search"
      ]
    },
    {
      "cell_type": "code",
      "metadata": {
        "id": "YEIh7fvJ24tk"
      },
      "source": [
        "# Create a wrapper for the model (required by KerasClassifier)\n",
        "def build_model(activation = 'relu', rate = 0.2):\n",
        "    model = keras.models.Sequential()\n",
        "    model.add(keras.layers.Flatten())\n",
        "    \n",
        "    # Input layer\n",
        "    model.add(keras.layers.Dense(128, activation = 'relu')) \n",
        "    \n",
        "    # Hidden layer\n",
        "    model.add(keras.layers.Dense(100, activation = 'relu')) \n",
        "    model.add(keras.layers.Dropout(rate = rate))\n",
        "\n",
        "    # Output layer\n",
        "    model.add(keras.layers.Dense(10, activation = activation)) \n",
        "    \n",
        "    model.compile(loss ='sparse_categorical_crossentropy', optimizer = 'adam', metrics = ['accuracy'])\n",
        "    return model"
      ],
      "execution_count": 65,
      "outputs": []
    },
    {
      "cell_type": "code",
      "metadata": {
        "id": "1-8CPk_m25tO"
      },
      "source": [
        "# create nn model with Keras Classifier\n",
        "nn_model = KerasClassifier(build_fn = build_model, verbose = 0)"
      ],
      "execution_count": 66,
      "outputs": []
    },
    {
      "cell_type": "code",
      "metadata": {
        "id": "YF1t0jIW3xLV"
      },
      "source": [
        "# Define the grid search parameters\n",
        "param_grid = {\n",
        "    'activation': ['relu', 'softmax', 'sigmoid'],\n",
        "    'rate': [0.2, 0.4, 0.6, 0.8]\n",
        "}\n",
        "\n",
        "grid_search = GridSearchCV(\n",
        "    estimator = nn_model,\n",
        "    param_grid = param_grid,\n",
        ")"
      ],
      "execution_count": 67,
      "outputs": []
    },
    {
      "cell_type": "code",
      "metadata": {
        "id": "ju-2MBbY3ydd",
        "outputId": "b84b0569-0f1f-4e1b-db6f-e37489057dcc",
        "colab": {
          "base_uri": "https://localhost:8080/"
        }
      },
      "source": [
        "# Apply the grid Search\n",
        "%time grid_search_result = grid_search.fit(X_train, y_train)"
      ],
      "execution_count": 68,
      "outputs": [
        {
          "output_type": "stream",
          "text": [
            "CPU times: user 5min 47s, sys: 22.8 s, total: 6min 10s\n",
            "Wall time: 5min 38s\n"
          ],
          "name": "stdout"
        }
      ]
    },
    {
      "cell_type": "code",
      "metadata": {
        "id": "0julYnd74c0s",
        "outputId": "613b98a9-d167-4b2f-a0f1-e146ffee4206",
        "colab": {
          "base_uri": "https://localhost:8080/"
        }
      },
      "source": [
        "# Grid Search Performance\n",
        "print(f\"Best parameter settings are:\\n{grid_search_result.best_params_}\")\n",
        "print(f\"\\n\\nWith an accuracy of {grid_search_result.best_score_*100:.2f} %.\")"
      ],
      "execution_count": 69,
      "outputs": [
        {
          "output_type": "stream",
          "text": [
            "Best parameter settings are:\n",
            "{'activation': 'sigmoid', 'rate': 0.2}\n",
            "\n",
            "\n",
            "With an accuracy of 95.70 %.\n"
          ],
          "name": "stdout"
        }
      ]
    },
    {
      "cell_type": "markdown",
      "metadata": {
        "id": "uUOwcULPvgxh"
      },
      "source": [
        "##### 2.3.a. Random search"
      ]
    },
    {
      "cell_type": "code",
      "metadata": {
        "id": "NXZgmjfx4gRo"
      },
      "source": [
        "class SequentialHyperModel(HyperModel):\n",
        "    def __init__(self, input_shape, num_classes):\n",
        "        self.input_shape = input_shape\n",
        "        self.num_classes = num_classes\n",
        "        \n",
        "    def build(self, hp):\n",
        "        model = keras.models.Sequential()\n",
        "        model.add(keras.layers.Flatten())\n",
        "\n",
        "        # Input layer\n",
        "        model.add(keras.layers.Dense(self.input_shape, activation = 'relu')) \n",
        "        \n",
        "        # Hidden layer\n",
        "        model.add(keras.layers.Dense(100, activation = 'relu')) \n",
        "        model.add(keras.layers.Dropout(rate = hp.Choice('rate', values = [0.2, 0.4, 0.6, 0.8])))\n",
        "        \n",
        "        # Output layer\n",
        "        model.add(keras.layers.Dense(self.num_classes, activation = hp.Choice('activation', values = [ 'relu', 'softmax', 'sigmoid'] ))) \n",
        "        \n",
        "        model.compile(loss ='sparse_categorical_crossentropy', optimizer = 'adam', metrics = ['accuracy'])\n",
        "        return model"
      ],
      "execution_count": 73,
      "outputs": []
    },
    {
      "cell_type": "code",
      "metadata": {
        "id": "HI5bBji14g55"
      },
      "source": [
        "# Create a hypermodel instance\n",
        "hypermodel = SequentialHyperModel(input_shape = 128, num_classes = num_classes)"
      ],
      "execution_count": 74,
      "outputs": []
    },
    {
      "cell_type": "code",
      "metadata": {
        "id": "rm4UTQCa4kkD"
      },
      "source": [
        "# Create a Random Search hyperparameter tuner\n",
        "tuner = kt.RandomSearch(\n",
        "    hypermodel = hypermodel,\n",
        "    objective = 'accuracy',\n",
        "    max_trials = 10,\n",
        "    directory = 'RSHO',\n",
        "    project_name = 'Random Search'\n",
        ")"
      ],
      "execution_count": 75,
      "outputs": []
    },
    {
      "cell_type": "code",
      "metadata": {
        "id": "50lHc7El4lrO",
        "outputId": "95b2a8d6-05af-4272-82d2-18b0632ba25b",
        "colab": {
          "base_uri": "https://localhost:8080/"
        }
      },
      "source": [
        "# Execute the search by the tuner\n",
        "%time tuner.search(x = X_train, y = y_train, epochs = 10, verbose = 0)"
      ],
      "execution_count": 78,
      "outputs": [
        {
          "output_type": "stream",
          "text": [
            "INFO:tensorflow:Oracle triggered exit\n",
            "CPU times: user 9min 23s, sys: 36.8 s, total: 9min 59s\n",
            "Wall time: 6min 45s\n"
          ],
          "name": "stdout"
        }
      ]
    },
    {
      "cell_type": "code",
      "metadata": {
        "id": "8mG2_lml4oNi",
        "outputId": "c805c54e-da5c-4d6c-fdd5-465385d8e13d",
        "colab": {
          "base_uri": "https://localhost:8080/"
        }
      },
      "source": [
        "# Report the found parameters\n",
        "tuner_results = tuner.get_best_hyperparameters()[0]\n",
        "best_model = tuner.get_best_models(num_models = 1)[0]\n",
        "loss, accuracy = best_model.evaluate(X_test, y_test)"
      ],
      "execution_count": 79,
      "outputs": [
        {
          "output_type": "stream",
          "text": [
            "313/313 [==============================] - 1s 1ms/step - loss: 0.1029 - accuracy: 0.9751\n"
          ],
          "name": "stdout"
        }
      ]
    },
    {
      "cell_type": "code",
      "metadata": {
        "id": "yzMLnmVQ4rQY",
        "outputId": "c5ac683b-2a7f-4489-f3cc-c47599c1f4da",
        "colab": {
          "base_uri": "https://localhost:8080/"
        }
      },
      "source": [
        "print(\"Best params are:\\nrate: {}, activation: {}\".format(\n",
        "    tuner_results.get('rate'),\n",
        "    tuner_results.get('activation')\n",
        "))\n",
        "\n",
        "print(f\"\\n\\nWith an accuracy of {accuracy*100:.2f} % and a loss of {loss}.\")"
      ],
      "execution_count": 80,
      "outputs": [
        {
          "output_type": "stream",
          "text": [
            "Best params are:\n",
            "rate: 0.2, activation: softmax\n",
            "\n",
            "\n",
            "With an accuracy of 97.51 % and a loss of 0.10285230726003647.\n"
          ],
          "name": "stdout"
        }
      ]
    },
    {
      "cell_type": "markdown",
      "metadata": {
        "id": "sGjTMl4tviNM"
      },
      "source": [
        "##### 2.3.a. Bayesian Hyper-parameter optimization"
      ]
    },
    {
      "cell_type": "code",
      "metadata": {
        "id": "2UF0_fP2vQwH"
      },
      "source": [
        "# Create a Bayesian Optimization hyperparameter tuner\n",
        "tuner = kt.BayesianOptimization(\n",
        "    hypermodel = hypermodel,\n",
        "    objective = 'accuracy',\n",
        "    max_trials = 10,\n",
        "    directory = 'BHO',\n",
        "    project_name = 'BayesianOptimisation'\n",
        ")"
      ],
      "execution_count": 81,
      "outputs": []
    },
    {
      "cell_type": "code",
      "metadata": {
        "id": "0SSMf2SZ4tN3",
        "outputId": "eab81a14-8b24-4b3c-9586-cb7726cd08b9",
        "colab": {
          "base_uri": "https://localhost:8080/"
        }
      },
      "source": [
        "# Execute the search by the tuner\n",
        "%time tuner.search(x = X_train, y = y_train, epochs = 10, verbose = 0)"
      ],
      "execution_count": 83,
      "outputs": [
        {
          "output_type": "stream",
          "text": [
            "INFO:tensorflow:Oracle triggered exit\n",
            "CPU times: user 9min 19s, sys: 36.8 s, total: 9min 56s\n",
            "Wall time: 6min 46s\n"
          ],
          "name": "stdout"
        }
      ]
    },
    {
      "cell_type": "code",
      "metadata": {
        "id": "y-7LCala4v4a",
        "outputId": "cc35f1e9-1252-43e3-99af-a59731debb6a",
        "colab": {
          "base_uri": "https://localhost:8080/"
        }
      },
      "source": [
        "# Report the found parameters\n",
        "print(\"Best params are:\\nrate: {}, activation: {}\".format(\n",
        "    tuner_results.get('rate'),\n",
        "    tuner_results.get('activation')\n",
        "))\n",
        "\n",
        "print(f\"\\n\\nWith an accuracy of {accuracy*100:.2f} % and a loss of {loss}.\")"
      ],
      "execution_count": 84,
      "outputs": [
        {
          "output_type": "stream",
          "text": [
            "Best params are:\n",
            "rate: 0.2, activation: softmax\n",
            "\n",
            "\n",
            "With an accuracy of 97.51 % and a loss of 0.10285230726003647.\n"
          ],
          "name": "stdout"
        }
      ]
    },
    {
      "cell_type": "markdown",
      "metadata": {
        "id": "D0BD_oB8vmTJ"
      },
      "source": [
        "---\n",
        "### Exercise 3 - Transfer Learning & CNNs"
      ]
    },
    {
      "cell_type": "markdown",
      "metadata": {
        "id": "3az3ObKlvp-B"
      },
      "source": [
        "#### 3.1. Load the *VGG16 pre-trained model* using Keras Applications API. Use the model to classify the dog images in canines.zip after pre-processing each image by doing the following:"
      ]
    },
    {
      "cell_type": "markdown",
      "metadata": {
        "id": "ehO2zSXvM1x4"
      },
      "source": [
        "(*See [MachineLearningMastery](ttps://machinelearningmastery.com/use-pre-trained-vgg-model-classify-objects-photographs/) for reference*)"
      ]
    },
    {
      "cell_type": "code",
      "metadata": {
        "id": "EXHnnrRZMWJa",
        "colab": {
          "base_uri": "https://localhost:8080/"
        },
        "outputId": "fe714436-11a6-4b6c-fea2-2be68397e530"
      },
      "source": [
        "model = VGG16()\n",
        "model.summary()"
      ],
      "execution_count": 85,
      "outputs": [
        {
          "output_type": "stream",
          "text": [
            "Downloading data from https://storage.googleapis.com/tensorflow/keras-applications/vgg16/vgg16_weights_tf_dim_ordering_tf_kernels.h5\n",
            "553467904/553467096 [==============================] - 8s 0us/step\n",
            "553476096/553467096 [==============================] - 8s 0us/step\n",
            "Model: \"vgg16\"\n",
            "_________________________________________________________________\n",
            "Layer (type)                 Output Shape              Param #   \n",
            "=================================================================\n",
            "input_1 (InputLayer)         [(None, 224, 224, 3)]     0         \n",
            "_________________________________________________________________\n",
            "block1_conv1 (Conv2D)        (None, 224, 224, 64)      1792      \n",
            "_________________________________________________________________\n",
            "block1_conv2 (Conv2D)        (None, 224, 224, 64)      36928     \n",
            "_________________________________________________________________\n",
            "block1_pool (MaxPooling2D)   (None, 112, 112, 64)      0         \n",
            "_________________________________________________________________\n",
            "block2_conv1 (Conv2D)        (None, 112, 112, 128)     73856     \n",
            "_________________________________________________________________\n",
            "block2_conv2 (Conv2D)        (None, 112, 112, 128)     147584    \n",
            "_________________________________________________________________\n",
            "block2_pool (MaxPooling2D)   (None, 56, 56, 128)       0         \n",
            "_________________________________________________________________\n",
            "block3_conv1 (Conv2D)        (None, 56, 56, 256)       295168    \n",
            "_________________________________________________________________\n",
            "block3_conv2 (Conv2D)        (None, 56, 56, 256)       590080    \n",
            "_________________________________________________________________\n",
            "block3_conv3 (Conv2D)        (None, 56, 56, 256)       590080    \n",
            "_________________________________________________________________\n",
            "block3_pool (MaxPooling2D)   (None, 28, 28, 256)       0         \n",
            "_________________________________________________________________\n",
            "block4_conv1 (Conv2D)        (None, 28, 28, 512)       1180160   \n",
            "_________________________________________________________________\n",
            "block4_conv2 (Conv2D)        (None, 28, 28, 512)       2359808   \n",
            "_________________________________________________________________\n",
            "block4_conv3 (Conv2D)        (None, 28, 28, 512)       2359808   \n",
            "_________________________________________________________________\n",
            "block4_pool (MaxPooling2D)   (None, 14, 14, 512)       0         \n",
            "_________________________________________________________________\n",
            "block5_conv1 (Conv2D)        (None, 14, 14, 512)       2359808   \n",
            "_________________________________________________________________\n",
            "block5_conv2 (Conv2D)        (None, 14, 14, 512)       2359808   \n",
            "_________________________________________________________________\n",
            "block5_conv3 (Conv2D)        (None, 14, 14, 512)       2359808   \n",
            "_________________________________________________________________\n",
            "block5_pool (MaxPooling2D)   (None, 7, 7, 512)         0         \n",
            "_________________________________________________________________\n",
            "flatten (Flatten)            (None, 25088)             0         \n",
            "_________________________________________________________________\n",
            "fc1 (Dense)                  (None, 4096)              102764544 \n",
            "_________________________________________________________________\n",
            "fc2 (Dense)                  (None, 4096)              16781312  \n",
            "_________________________________________________________________\n",
            "predictions (Dense)          (None, 1000)              4097000   \n",
            "=================================================================\n",
            "Total params: 138,357,544\n",
            "Trainable params: 138,357,544\n",
            "Non-trainable params: 0\n",
            "_________________________________________________________________\n"
          ],
          "name": "stdout"
        }
      ]
    },
    {
      "cell_type": "markdown",
      "metadata": {
        "id": "aqepkwhKvu-6"
      },
      "source": [
        "##### 3.1.a. Load each image and set the size to 224 x 224 pixels."
      ]
    },
    {
      "cell_type": "markdown",
      "metadata": {
        "id": "5ttioWE5vySg"
      },
      "source": [
        "##### 3.1.b. Convert the image pixels to a numpy array and reshape it according to the model’s input requirements."
      ]
    },
    {
      "cell_type": "markdown",
      "metadata": {
        "id": "op0xzm-nv1G0"
      },
      "source": [
        "##### 3.1.c. Use the model to print out the predicted class and its probability for each image."
      ]
    },
    {
      "cell_type": "code",
      "metadata": {
        "id": "ByH9l6s2M9hi",
        "colab": {
          "base_uri": "https://localhost:8080/"
        },
        "outputId": "8a21d10f-e434-4692-a331-13bff84d61da"
      },
      "source": [
        "image_target_size = (224, 224)\n",
        "\n",
        "for image_number in range(1,9):\n",
        "  # Load an image from file\n",
        "  image = load_img(\"dog\"+str(image_number)+\".jpg\", target_size=image_target_size)\n",
        "\n",
        "  # Convert the image pixels to a numpy array\n",
        "  image = img_to_array(image)\n",
        "\n",
        "  # Reshape the data for the model\n",
        "  image = image.reshape((1, image.shape[0], image.shape[1], image.shape[2]))\n",
        "\n",
        "  # Prepare the image for the VGG model\n",
        "  image = preprocess_input(image)\n",
        "  \n",
        "  # Predict the probability across all output classes\n",
        "  %time yhat = model.predict(image)\n",
        "  \n",
        "  # Convert the probabilities to class labels\n",
        "  label = decode_predictions(yhat)\n",
        "  \n",
        "  # Retrieve the most likely result, e.g. highest probability\n",
        "  label = label[0][0]\n",
        "  \n",
        "  # Print the classification\n",
        "  print('Image Number %d:\\t %s (%.2f%%)\\n' % (image_number, label[1], label[2]*100))"
      ],
      "execution_count": 91,
      "outputs": [
        {
          "output_type": "stream",
          "text": [
            "CPU times: user 1.08 s, sys: 701 µs, total: 1.08 s\n",
            "Wall time: 613 ms\n",
            "Image Number 1:\t Doberman (93.43%)\n",
            "\n",
            "CPU times: user 1.08 s, sys: 1.38 ms, total: 1.08 s\n",
            "Wall time: 599 ms\n",
            "Image Number 2:\t Pembroke (74.57%)\n",
            "\n",
            "CPU times: user 1.09 s, sys: 2.19 ms, total: 1.09 s\n",
            "Wall time: 631 ms\n",
            "Image Number 3:\t golden_retriever (78.78%)\n",
            "\n",
            "CPU times: user 1.07 s, sys: 6.86 ms, total: 1.08 s\n",
            "Wall time: 600 ms\n",
            "Image Number 4:\t Border_collie (70.29%)\n",
            "\n",
            "CPU times: user 1.09 s, sys: 2.89 ms, total: 1.09 s\n",
            "Wall time: 631 ms\n",
            "Image Number 5:\t Great_Dane (45.38%)\n",
            "\n",
            "CPU times: user 1.08 s, sys: 5.51 ms, total: 1.08 s\n",
            "Wall time: 619 ms\n",
            "Image Number 6:\t Great_Dane (90.89%)\n",
            "\n",
            "CPU times: user 1.08 s, sys: 4.67 ms, total: 1.08 s\n",
            "Wall time: 597 ms\n",
            "Image Number 7:\t Eskimo_dog (49.96%)\n",
            "\n",
            "CPU times: user 1.07 s, sys: 6.74 ms, total: 1.08 s\n",
            "Wall time: 611 ms\n",
            "Image Number 8:\t Doberman (35.42%)\n",
            "\n"
          ],
          "name": "stdout"
        }
      ]
    },
    {
      "cell_type": "markdown",
      "metadata": {
        "id": "StTqwf0Vv6Q2"
      },
      "source": [
        "#### 3.2. Downscale the given matrix by applying the following pooling operations:"
      ]
    },
    {
      "cell_type": "markdown",
      "metadata": {
        "id": "ALJ8BJ0rv9SO"
      },
      "source": [
        "##### 3.2.a. Max Pool"
      ]
    },
    {
      "cell_type": "markdown",
      "metadata": {
        "id": "glyGSHsev_Yk"
      },
      "source": [
        "##### 3.2.a. Average Pool"
      ]
    },
    {
      "cell_type": "markdown",
      "metadata": {
        "id": "VxTmNGWHwBSl"
      },
      "source": [
        "#### 3.3. Load the **CIFAR10 dataset** using Keras datasets API and normalize the images’ pixel values. Train a convolutional neural network to classify the dataset images with the following architecture:"
      ]
    },
    {
      "cell_type": "markdown",
      "metadata": {
        "id": "Toy-Aut09UFp"
      },
      "source": [
        "##### 3.3.a. Convolutional Base:\n",
        "1. An input convolution layer with $32$ filters and a kernel size of $(3,3)$.\n",
        "Adjust your input shape to that of the CIFAR images’ format\n",
        "2. Two convolution layers, each with 64 filters and a kernel size of $(3,3)$\n",
        "3. Two Max Pool layers, with a pool size of $2\\times 2$"
      ]
    },
    {
      "cell_type": "markdown",
      "metadata": {
        "id": "H-JwLlof9kwa"
      },
      "source": [
        "##### 3.3.b. Two dense layers, with $64$ and $10$ units respectively. Adjust the output of the convolutional base such that it satisfies the input requirements of the dense layers."
      ]
    },
    {
      "cell_type": "markdown",
      "metadata": {
        "id": "2mUj_ufp9qXr"
      },
      "source": [
        "##### 3.3.c. Use the following parameters to train the network:\n",
        "1. Sparse categorical cross entropy as your loss function\n",
        "1. Adam optimizer\n",
        "1. $10$ epochs\n",
        "1. ReLU activation for your layers\n",
        "\n",
        "Compile your model, then plot the accuracy across each epoch."
      ]
    }
  ]
}