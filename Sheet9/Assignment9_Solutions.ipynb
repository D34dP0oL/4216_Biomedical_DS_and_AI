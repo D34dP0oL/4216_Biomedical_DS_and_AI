{
  "nbformat": 4,
  "nbformat_minor": 0,
  "metadata": {
    "kernelspec": {
      "display_name": "Python 3",
      "language": "python",
      "name": "python3"
    },
    "language_info": {
      "codemirror_mode": {
        "name": "ipython",
        "version": 3
      },
      "file_extension": ".py",
      "mimetype": "text/x-python",
      "name": "python",
      "nbconvert_exporter": "python",
      "pygments_lexer": "ipython3",
      "version": "3.7.7"
    },
    "colab": {
      "name": "Assignment9_Solutions.ipynb",
      "provenance": [],
      "collapsed_sections": [],
      "include_colab_link": true
    }
  },
  "cells": [
    {
      "cell_type": "markdown",
      "metadata": {
        "id": "view-in-github",
        "colab_type": "text"
      },
      "source": [
        "<a href=\"https://colab.research.google.com/github/FabriceBeaumont/4216_Biomedical_DS_and_AI/blob/main/Sheet9/Assignment9_Solutions.ipynb\" target=\"_parent\"><img src=\"https://colab.research.google.com/assets/colab-badge.svg\" alt=\"Open In Colab\"/></a>"
      ]
    },
    {
      "cell_type": "code",
      "metadata": {
        "id": "-UnHoHsFop-8"
      },
      "source": [
        "import pandas as pd\n",
        "import numpy as np\n",
        "from numpy.random import seed\n",
        "import matplotlib.pyplot as plt\n",
        "\n",
        "import tensorflow as tf\n",
        "\n",
        "import torchvision.transforms as transforms\n",
        "import torchvision.datasets as datasets\n",
        "\n",
        "from tensorflow import keras\n",
        "from tensorflow.keras import layers\n",
        "# from keras.models import Sequential\n",
        "# from keras.layers import Dense, Activation, Dropout\n",
        "# from keras.wrappers.scikit_learn import KerasClassifier\n",
        "\n",
        "from sklearn.preprocessing import StandardScaler\n",
        "from sklearn.ensemble import RandomForestClassifier, GradientBoostingClassifier\n",
        "from sklearn.linear_model import LogisticRegression\n",
        "from sklearn.model_selection import GridSearchCV, KFold, cross_val_predict, train_test_split\n",
        "from sklearn.calibration import calibration_curve"
      ],
      "execution_count": 191,
      "outputs": []
    },
    {
      "cell_type": "code",
      "metadata": {
        "id": "BUswbzmRCHbj"
      },
      "source": [
        "def get_dataset_from_github(filename, index_col_str=None, header_str='infer'):    \n",
        "    data_file_path = \"https://raw.githubusercontent.com/FabriceBeaumont/4216_Biomedical_DS_and_AI/tree/main/Datasets\"\n",
        "    if index_col_str is None and header_str == 'infer':\n",
        "      data = pd.read_csv(data_file_path + filename)\n",
        "    elif index_col_str is None:\n",
        "        data = pd.read_csv(data_file_path + filename, header=header_str)\n",
        "    elif header_str == 'infer':\n",
        "      data = pd.read_csv(data_file_path + filename, index_col=index_col_str)\n",
        "    else:\n",
        "      data = pd.read_csv(data_file_path + filename, index_col=index_col_str, header=header_str)\n",
        "\n",
        "    return data"
      ],
      "execution_count": 192,
      "outputs": []
    },
    {
      "cell_type": "markdown",
      "metadata": {
        "id": "Lx0G72bGl7xc"
      },
      "source": [
        "## Biomedical Data Science & AI\n",
        "\n",
        "## Assignment 9\n",
        "\n",
        "#### Group members:  Fabrice Beaumont, Fatemeh Salehi, Genivika Mann, Helia Salimi, Jonah"
      ]
    },
    {
      "cell_type": "markdown",
      "metadata": {
        "id": "-fhYMe5ml7xo"
      },
      "source": [
        "---\n",
        "### Exercise 1 - Basics of NN\n",
        "\n",
        "From the MNIST database load the handwritten digits dataset."
      ]
    },
    {
      "cell_type": "code",
      "metadata": {
        "id": "s-WB8i9iunPs"
      },
      "source": [
        "# Load the data: \n",
        "# Split between train and test sets w.r.t. data 'x' and class vectors 'y'\n",
        "(x_train, y_train), (x_test, y_test) = keras.datasets.mnist.load_data()"
      ],
      "execution_count": 193,
      "outputs": []
    },
    {
      "cell_type": "markdown",
      "metadata": {
        "id": "_krKhWqo-Bv7"
      },
      "source": [
        "#### 1.1. Normalize your dataset before training your model."
      ]
    },
    {
      "cell_type": "code",
      "metadata": {
        "id": "vGazybua_y8x",
        "outputId": "905bec84-4f7a-491a-8e41-9eddd65cf587",
        "colab": {
          "base_uri": "https://localhost:8080/",
          "height": 268
        }
      },
      "source": [
        "# For normalization we scale the images to contain values in [0, 1]\n",
        "x_train = x_train.astype(\"float32\") / 255\n",
        "x_test = x_test.astype(\"float32\") / 255\n",
        "# Alternative approach:\n",
        "# x_train = tf.keras.utils.normalize(x_train, axis=1)\n",
        "\n",
        "# Print the first image to get an idea of the data\n",
        "index = 0\n",
        "_classification = y_train[0]\n",
        "plt.imshow(x_train[0], cmap=plt.cm.binary); plt.title(f\"Image of a {_classification}\")\n",
        "plt.xticks([]); plt.yticks([]); plt.show()"
      ],
      "execution_count": 194,
      "outputs": [
        {
          "output_type": "display_data",
          "data": {
            "image/png": "[encoded data removed]",
            "text/plain": [
              "<Figure size 432x288 with 1 Axes>"
            ]
          },
          "metadata": {
            "tags": []
          }
        }
      ]
    },
    {
      "cell_type": "code",
      "metadata": {
        "colab": {
          "base_uri": "https://localhost:8080/"
        },
        "id": "A9a6HLa7AAic",
        "outputId": "722e0d9f-2c1d-44f8-a0ec-634003b2d70b"
      },
      "source": [
        "# Check, that all images have shape (28, 28, 1)\n",
        "x_train = np.expand_dims(x_train, -1)\n",
        "x_test = np.expand_dims(x_test, -1)\n",
        "input_shape = x_train[0].shape\n",
        "\n",
        "print(\"x_train shape:\", x_train.shape)\n",
        "print(x_train.shape[0], \"train samples\")\n",
        "print(x_test.shape[0], \"test samples\")\n"
      ],
      "execution_count": 195,
      "outputs": [
        {
          "output_type": "stream",
          "text": [
            "x_train shape: (60000, 28, 28, 1)\n",
            "60000 train samples\n",
            "10000 test samples\n"
          ],
          "name": "stdout"
        }
      ]
    },
    {
      "cell_type": "code",
      "metadata": {
        "colab": {
          "base_uri": "https://localhost:8080/"
        },
        "id": "gFf6r2oRATnf",
        "outputId": "e12cda55-7c97-4c1b-ec0a-b8dae0eb9145"
      },
      "source": [
        "# Check, if the number of classes is ten (since there are ten digits 0,...,9)\n",
        "num_classes = 10\n",
        "\n",
        "if num_classes == len(set(y_train)) == len(set(y_test)): print(f\"There are {num_classes} classes.\")"
      ],
      "execution_count": 196,
      "outputs": [
        {
          "output_type": "stream",
          "text": [
            "There are 10 classes.\n"
          ],
          "name": "stdout"
        }
      ]
    },
    {
      "cell_type": "markdown",
      "metadata": {
        "id": "appoDszfFI5l"
      },
      "source": [
        "#### 1.2. Train a neural network once using **Adam** and once using **AdaGrad** optimizer. \n",
        "\n",
        "*Hint*: Set epochs to $20$, neurons of hidden layer to $100$ and use the ReLU as activation function."
      ]
    },
    {
      "cell_type": "code",
      "metadata": {
        "id": "l6VsDVuWA8_F"
      },
      "source": [
        "num_epochs = 20\n",
        "num_hidden_neurons = 100\n",
        "activation_fct = \"relu\"\n",
        "# Alternative: \n",
        "# activation_fct = tf.nn.relu\n",
        "\n",
        "loss = \"sparse_categorical_crossentropy\""
      ],
      "execution_count": 197,
      "outputs": []
    },
    {
      "cell_type": "code",
      "metadata": {
        "id": "efEwjYzet4Ml",
        "outputId": "ff236a64-58ea-449f-acbd-c2d4169e9f41",
        "colab": {
          "base_uri": "https://localhost:8080/"
        }
      },
      "source": [
        "model = keras.Sequential(\n",
        "    [\n",
        "        # Input layer   (size 28x28 -> 784)\n",
        "        keras.Input(shape=input_shape),\n",
        "        layers.Flatten(),\n",
        "     \n",
        "        # One hidden layer  (size 'num_hidden_neurons'=100)\n",
        "        layers.Dense(num_hidden_neurons, activation=activation_fct),\n",
        "\n",
        "        # Output layer  (size 10)\n",
        "        # Use 'softmax' to get a probability for the digits 0,...,9 as classification\n",
        "        layers.Dense(num_classes, activation=\"softmax\")\n",
        "    ]\n",
        ")\n",
        "\n",
        "model.summary()"
      ],
      "execution_count": 198,
      "outputs": [
        {
          "output_type": "stream",
          "text": [
            "WARNING:tensorflow:Please add `keras.layers.InputLayer` instead of `keras.Input` to Sequential model. `keras.Input` is intended to be used by Functional model.\n",
            "Model: \"sequential_15\"\n",
            "_________________________________________________________________\n",
            "Layer (type)                 Output Shape              Param #   \n",
            "=================================================================\n",
            "flatten_14 (Flatten)         (None, 784)               0         \n",
            "_________________________________________________________________\n",
            "dense_30 (Dense)             (None, 100)               78500     \n",
            "_________________________________________________________________\n",
            "dense_31 (Dense)             (None, 10)                1010      \n",
            "=================================================================\n",
            "Total params: 79,510\n",
            "Trainable params: 79,510\n",
            "Non-trainable params: 0\n",
            "_________________________________________________________________\n"
          ],
          "name": "stdout"
        }
      ]
    },
    {
      "cell_type": "code",
      "metadata": {
        "colab": {
          "base_uri": "https://localhost:8080/"
        },
        "id": "XNjhS6ZJDD0Z",
        "outputId": "8bd7004a-8033-431c-be62-8c997c34ce76"
      },
      "source": [
        "# Compile the model with 'adam'\n",
        "model.compile(loss=loss, optimizer=\"adam\", metrics=[\"accuracy\"])\n",
        "\n",
        "# Train the model\n",
        "# Also pass the validation data, because this way the history will contain\n",
        "# the loss and accuracy w.r.t. to the validation data too (for later use)\n",
        "history_adam = model.fit(x_train, y_train, epochs=num_epochs, validation_data=(x_test, y_test))\n",
        "\n",
        "# Save the score (validation loss and validation accuracy) for later use\n",
        "score_adam = model.evaluate(x_test, y_test, verbose=0)"
      ],
      "execution_count": 199,
      "outputs": [
        {
          "output_type": "stream",
          "text": [
            "Epoch 1/20\n",
            "1875/1875 [==============================] - 3s 2ms/step - loss: 0.2755 - accuracy: 0.9235 - val_loss: 0.1453 - val_accuracy: 0.9567\n",
            "Epoch 2/20\n",
            "1875/1875 [==============================] - 3s 2ms/step - loss: 0.1244 - accuracy: 0.9631 - val_loss: 0.1012 - val_accuracy: 0.9695\n",
            "Epoch 3/20\n",
            "1875/1875 [==============================] - 3s 2ms/step - loss: 0.0867 - accuracy: 0.9744 - val_loss: 0.0859 - val_accuracy: 0.9734\n",
            "Epoch 4/20\n",
            "1875/1875 [==============================] - 3s 2ms/step - loss: 0.0668 - accuracy: 0.9797 - val_loss: 0.0823 - val_accuracy: 0.9742\n",
            "Epoch 5/20\n",
            "1875/1875 [==============================] - 3s 2ms/step - loss: 0.0526 - accuracy: 0.9836 - val_loss: 0.0793 - val_accuracy: 0.9744\n",
            "Epoch 6/20\n",
            "1875/1875 [==============================] - 3s 2ms/step - loss: 0.0421 - accuracy: 0.9871 - val_loss: 0.0748 - val_accuracy: 0.9769\n",
            "Epoch 7/20\n",
            "1875/1875 [==============================] - 3s 2ms/step - loss: 0.0345 - accuracy: 0.9898 - val_loss: 0.0722 - val_accuracy: 0.9790\n",
            "Epoch 8/20\n",
            "1875/1875 [==============================] - 3s 2ms/step - loss: 0.0281 - accuracy: 0.9915 - val_loss: 0.0773 - val_accuracy: 0.9775\n",
            "Epoch 9/20\n",
            "1875/1875 [==============================] - 3s 2ms/step - loss: 0.0239 - accuracy: 0.9925 - val_loss: 0.0781 - val_accuracy: 0.9783\n",
            "Epoch 10/20\n",
            "1875/1875 [==============================] - 3s 2ms/step - loss: 0.0196 - accuracy: 0.9942 - val_loss: 0.0810 - val_accuracy: 0.9781\n",
            "Epoch 11/20\n",
            "1875/1875 [==============================] - 3s 2ms/step - loss: 0.0165 - accuracy: 0.9950 - val_loss: 0.0862 - val_accuracy: 0.9764\n",
            "Epoch 12/20\n",
            "1875/1875 [==============================] - 3s 2ms/step - loss: 0.0142 - accuracy: 0.9956 - val_loss: 0.0775 - val_accuracy: 0.9781\n",
            "Epoch 13/20\n",
            "1875/1875 [==============================] - 3s 2ms/step - loss: 0.0127 - accuracy: 0.9962 - val_loss: 0.0801 - val_accuracy: 0.9784\n",
            "Epoch 14/20\n",
            "1875/1875 [==============================] - 3s 2ms/step - loss: 0.0102 - accuracy: 0.9970 - val_loss: 0.0964 - val_accuracy: 0.9746\n",
            "Epoch 15/20\n",
            "1875/1875 [==============================] - 3s 2ms/step - loss: 0.0097 - accuracy: 0.9970 - val_loss: 0.0854 - val_accuracy: 0.9774\n",
            "Epoch 16/20\n",
            "1875/1875 [==============================] - 3s 2ms/step - loss: 0.0080 - accuracy: 0.9975 - val_loss: 0.0901 - val_accuracy: 0.9772\n",
            "Epoch 17/20\n",
            "1875/1875 [==============================] - 3s 2ms/step - loss: 0.0088 - accuracy: 0.9972 - val_loss: 0.1077 - val_accuracy: 0.9754\n",
            "Epoch 18/20\n",
            "1875/1875 [==============================] - 3s 2ms/step - loss: 0.0078 - accuracy: 0.9974 - val_loss: 0.0989 - val_accuracy: 0.9772\n",
            "Epoch 19/20\n",
            "1875/1875 [==============================] - 3s 1ms/step - loss: 0.0051 - accuracy: 0.9986 - val_loss: 0.0928 - val_accuracy: 0.9788\n",
            "Epoch 20/20\n",
            "1875/1875 [==============================] - 3s 2ms/step - loss: 0.0063 - accuracy: 0.9980 - val_loss: 0.1045 - val_accuracy: 0.9757\n"
          ],
          "name": "stdout"
        }
      ]
    },
    {
      "cell_type": "code",
      "metadata": {
        "id": "jFcKiI_nHO4_",
        "outputId": "9310069d-1a4f-4e1d-f395-52252c65d38d",
        "colab": {
          "base_uri": "https://localhost:8080/"
        }
      },
      "source": [
        "# Now do the same using AdaGrad. First compile the model\n",
        "model.compile(loss=loss, optimizer=\"adagrad\", metrics=[\"accuracy\"])\n",
        "\n",
        "# Train the model\n",
        "history_adagrad = model.fit(x_train, y_train, epochs=num_epochs, validation_data=(x_test, y_test))\n",
        "\n",
        "# Save the score (validation loss and validation accuracy) for later use\n",
        "score_adagrad = model.evaluate(x_test, y_test, verbose=0)"
      ],
      "execution_count": 200,
      "outputs": [
        {
          "output_type": "stream",
          "text": [
            "Epoch 1/20\n",
            "1875/1875 [==============================] - 3s 2ms/step - loss: 0.0036 - accuracy: 0.9990 - val_loss: 0.0997 - val_accuracy: 0.9766\n",
            "Epoch 2/20\n",
            "1875/1875 [==============================] - 3s 2ms/step - loss: 0.0028 - accuracy: 0.9994 - val_loss: 0.0980 - val_accuracy: 0.9767\n",
            "Epoch 3/20\n",
            "1875/1875 [==============================] - 3s 2ms/step - loss: 0.0024 - accuracy: 0.9995 - val_loss: 0.0969 - val_accuracy: 0.9769\n",
            "Epoch 4/20\n",
            "1875/1875 [==============================] - 3s 1ms/step - loss: 0.0022 - accuracy: 0.9995 - val_loss: 0.0961 - val_accuracy: 0.9771\n",
            "Epoch 5/20\n",
            "1875/1875 [==============================] - 3s 1ms/step - loss: 0.0020 - accuracy: 0.9996 - val_loss: 0.0955 - val_accuracy: 0.9774\n",
            "Epoch 6/20\n",
            "1875/1875 [==============================] - 3s 1ms/step - loss: 0.0019 - accuracy: 0.9997 - val_loss: 0.0950 - val_accuracy: 0.9777\n",
            "Epoch 7/20\n",
            "1875/1875 [==============================] - 3s 1ms/step - loss: 0.0018 - accuracy: 0.9998 - val_loss: 0.0945 - val_accuracy: 0.9781\n",
            "Epoch 8/20\n",
            "1875/1875 [==============================] - 3s 1ms/step - loss: 0.0017 - accuracy: 0.9998 - val_loss: 0.0942 - val_accuracy: 0.9782\n",
            "Epoch 9/20\n",
            "1875/1875 [==============================] - 3s 1ms/step - loss: 0.0016 - accuracy: 0.9999 - val_loss: 0.0939 - val_accuracy: 0.9782\n",
            "Epoch 10/20\n",
            "1875/1875 [==============================] - 3s 1ms/step - loss: 0.0015 - accuracy: 0.9999 - val_loss: 0.0936 - val_accuracy: 0.9783\n",
            "Epoch 11/20\n",
            "1875/1875 [==============================] - 3s 2ms/step - loss: 0.0015 - accuracy: 0.9999 - val_loss: 0.0934 - val_accuracy: 0.9783\n",
            "Epoch 12/20\n",
            "1875/1875 [==============================] - 3s 2ms/step - loss: 0.0014 - accuracy: 0.9999 - val_loss: 0.0932 - val_accuracy: 0.9784\n",
            "Epoch 13/20\n",
            "1875/1875 [==============================] - 3s 1ms/step - loss: 0.0014 - accuracy: 0.9999 - val_loss: 0.0930 - val_accuracy: 0.9785\n",
            "Epoch 14/20\n",
            "1875/1875 [==============================] - 3s 1ms/step - loss: 0.0013 - accuracy: 0.9999 - val_loss: 0.0928 - val_accuracy: 0.9785\n",
            "Epoch 15/20\n",
            "1875/1875 [==============================] - 3s 1ms/step - loss: 0.0013 - accuracy: 0.9999 - val_loss: 0.0927 - val_accuracy: 0.9786\n",
            "Epoch 16/20\n",
            "1875/1875 [==============================] - 3s 1ms/step - loss: 0.0013 - accuracy: 0.9999 - val_loss: 0.0925 - val_accuracy: 0.9788\n",
            "Epoch 17/20\n",
            "1875/1875 [==============================] - 3s 1ms/step - loss: 0.0012 - accuracy: 0.9999 - val_loss: 0.0924 - val_accuracy: 0.9788\n",
            "Epoch 18/20\n",
            "1875/1875 [==============================] - 3s 1ms/step - loss: 0.0012 - accuracy: 0.9999 - val_loss: 0.0923 - val_accuracy: 0.9789\n",
            "Epoch 19/20\n",
            "1875/1875 [==============================] - 3s 1ms/step - loss: 0.0012 - accuracy: 0.9999 - val_loss: 0.0922 - val_accuracy: 0.9789\n",
            "Epoch 20/20\n",
            "1875/1875 [==============================] - 3s 2ms/step - loss: 0.0012 - accuracy: 0.9999 - val_loss: 0.0921 - val_accuracy: 0.9789\n"
          ],
          "name": "stdout"
        }
      ]
    },
    {
      "cell_type": "code",
      "metadata": {
        "id": "7qLxsw5pwOpO",
        "outputId": "9a6c5c32-5f2a-4455-bd8c-69413cc5c2de",
        "colab": {
          "base_uri": "https://localhost:8080/"
        }
      },
      "source": [
        "# Compare the scores of the two models\n",
        "print(f'ADAM:    Validation loss: {score_adam[0]:.2f},\\tValidation accuracy: {score_adam[1]:.2f} %')\n",
        "print(f'ADAGRAD: Validation loss: {score_adagrad[0]:.2f},\\tValidation accuracy: {score_adagrad[1]:.2f} %')"
      ],
      "execution_count": 201,
      "outputs": [
        {
          "output_type": "stream",
          "text": [
            "ADAM:    Validation loss: 0.10,\tValidation accuracy: 0.98 %\n",
            "ADAGRAD: Validation loss: 0.09,\tValidation accuracy: 0.98 %\n"
          ],
          "name": "stdout"
        }
      ]
    },
    {
      "cell_type": "markdown",
      "metadata": {
        "id": "zyw9E17lFKxz"
      },
      "source": [
        "#### 1.3. Plot the *SparseCategoricalCrossentropy* loss for both models. Plot the computed accuracy for both models. Which model performed better while training?"
      ]
    },
    {
      "cell_type": "code",
      "metadata": {
        "id": "qs3mWDQq6mSz",
        "outputId": "6f0626f2-8659-4437-e1bc-a9caebfc25e1",
        "colab": {
          "base_uri": "https://localhost:8080/"
        }
      },
      "source": [
        "history_adam.history.keys()"
      ],
      "execution_count": 202,
      "outputs": [
        {
          "output_type": "execute_result",
          "data": {
            "text/plain": [
              "dict_keys(['loss', 'accuracy', 'val_loss', 'val_accuracy'])"
            ]
          },
          "metadata": {
            "tags": []
          },
          "execution_count": 202
        }
      ]
    },
    {
      "cell_type": "code",
      "metadata": {
        "id": "oSRUWsLCu9J3",
        "outputId": "7d5f62b5-d7b1-4d25-c067-844b355dde5e",
        "colab": {
          "base_uri": "https://localhost:8080/",
          "height": 295
        }
      },
      "source": [
        "# Now plot the losses\n",
        "plt.plot(history_adam.history['loss'], c=\"salmon\")\n",
        "plt.plot(history_adam.history['val_loss'], c=\"red\")\n",
        "\n",
        "plt.plot(history_adagrad.history['loss'], c=\"dodgerblue\")\n",
        "plt.plot(history_adagrad.history['val_loss'], c=\"royalblue\")\n",
        "\n",
        "plt.title('Model losses')\n",
        "plt.ylabel('loss')\n",
        "plt.xlabel('epoch')\n",
        "plt.xticks(range(1, num_epochs))\n",
        "plt.legend(['Adam:     training loss', 'Adam:     validation loss', 'Adagrad: training loss', 'Adagrad: validation loss'])\n",
        "plt.show()"
      ],
      "execution_count": 203,
      "outputs": [
        {
          "output_type": "display_data",
          "data": {
            "image/png": "[encoded data removed]",
            "text/plain": [
              "<Figure size 432x288 with 1 Axes>"
            ]
          },
          "metadata": {
            "tags": [],
            "needs_background": "light"
          }
        }
      ]
    },
    {
      "cell_type": "markdown",
      "metadata": {
        "id": "rUIsXo-Yu_dH"
      },
      "source": [
        "#### 1.4. Compute the model accuracy on the test set for both optimizers. Which model performed better?"
      ]
    },
    {
      "cell_type": "code",
      "metadata": {
        "id": "BTJEb5RO5Ypj",
        "outputId": "215aca8b-7eb4-41fd-cdc9-eecf04f3d529",
        "colab": {
          "base_uri": "https://localhost:8080/"
        }
      },
      "source": [
        "print(f\"The model using ADAM    reached an accuracy of {score_adam[1]:.2f} %\")\n",
        "print(f\"The model using ADAGRAD reached an accuracy of {score_adagrad[1]:.2f} %\")\n",
        "print(f\"Thus the model using ADAGRAD performed better.\")"
      ],
      "execution_count": 204,
      "outputs": [
        {
          "output_type": "stream",
          "text": [
            "The model using ADAM    reached an accuracy of 0.98 %\n",
            "The model using ADAGRAD reached an accuracy of 0.98 %\n",
            "Thus the model using ADAGRAD performed better.\n"
          ],
          "name": "stdout"
        }
      ]
    },
    {
      "cell_type": "code",
      "metadata": {
        "id": "XT0URUTYvBjn",
        "outputId": "27c84c5c-f96f-4118-eb06-7816aaa3a65a",
        "colab": {
          "base_uri": "https://localhost:8080/",
          "height": 295
        }
      },
      "source": [
        "# Plot the accuracies\n",
        "plt.plot(history_adam.history['accuracy'], c=\"salmon\")\n",
        "plt.plot(history_adam.history['val_accuracy'], c=\"red\")\n",
        "\n",
        "plt.plot(history_adagrad.history['accuracy'], c=\"dodgerblue\")\n",
        "plt.plot(history_adagrad.history['val_accuracy'], c=\"royalblue\")\n",
        "\n",
        "plt.title('Model accuracies')\n",
        "plt.ylabel('accuracy')\n",
        "plt.xlabel('epoch')\n",
        "plt.xticks(range(1, num_epochs))\n",
        "plt.legend(['Adam:     training accuracy', 'Adam:     validation accuracy', 'Adagrad: training accuracy', 'Adagrad: validation accuracy'])\n",
        "plt.show()"
      ],
      "execution_count": 205,
      "outputs": [
        {
          "output_type": "display_data",
          "data": {
            "image/png": "[encoded data removed]",
            "text/plain": [
              "<Figure size 432x288 with 1 Axes>"
            ]
          },
          "metadata": {
            "tags": [],
            "needs_background": "light"
          }
        }
      ]
    },
    {
      "cell_type": "markdown",
      "metadata": {
        "id": "omo2nxYuvDZv"
      },
      "source": [
        "#### 1.5. Familiarize yourself with **Layer Normalization** and explain how it works."
      ]
    },
    {
      "cell_type": "markdown",
      "metadata": {
        "id": "Lw4U1iSj9imD"
      },
      "source": [
        "**Layer normalization** is the process of normalizing the activations of layers *for each given example* in a batch *independently*. \n",
        "\n",
        "Thus it is similar to batch normalization, but does not have the same limitations. Limitations of batch normalization that layer normalization does not have are:\n",
        "- normalization accross a batch and thus dependent of the other examples in the batch\n",
        "- no obvious application to *recurrent NN* (*RNN*): The summed inputs often vary with the length of the sequence!\n",
        "- no application to online learning algorithms\n",
        "\n",
        "Furthermore, unlike batch normalization, layer\n",
        "normalization performs exactly the same computation at training and *validation*.\n",
        "\n",
        "Important **benefits** of batch normalization are also given by layer normalization:\n",
        "- stabilizes the hidden state dynamics in recurrent networks\n",
        "- can substantially reduce the training time"
      ]
    },
    {
      "cell_type": "markdown",
      "metadata": {
        "id": "uXkHzhwUThmI"
      },
      "source": [
        "##### Mathematical description of layer normalization:\n",
        "\n",
        "Let \n",
        "- $a^l$ be the vector representation of the summed inputs to the neurons in layer $l$,\n",
        "- $W^l$ be the weights between layer $l-1$ and $l$,\n",
        "- $x^l$ the inputs for layer $l$,\n",
        "- $b^l$ the bias of layer $l$ and\n",
        "- $f$ activation function.\n",
        "\n",
        "It is\n",
        "$$ a_i^l = {w_i^l}^\\intercal x^l ,\\qquad\\qquad x_i^{l+1} =f\\big( a_i^l + b_i^l \\big) $$\n",
        "\n",
        "For layer normalization, adjust the mean and variance of every layer to be the mean and variance over *all hidden units in the same layer*. Let $l$ be a layer with $H$ neurons. Define\n",
        "$$ \\mu^l := \\frac{1}{H} \\sum_{i=1}^{H} a_i^l,\\qquad\\qquad \\sigma^l := \\sqrt{ \\frac{1}{H} \\sum_{i=1}^{H} (a_i^l-\\mu^l)^2 } $$"
      ]
    },
    {
      "cell_type": "markdown",
      "metadata": {
        "id": "Tetl2QXI_tcL"
      },
      "source": [
        "Source:\n",
        "- [\"Layer Normalization\"](https://arxiv.org/pdf/1607.06450v1) by Jimmy Lei Ba, Jamie Ryan Kiros, Geoffrey E. Hinton, 2016"
      ]
    },
    {
      "cell_type": "markdown",
      "metadata": {
        "id": "aj_QiGbovFHI"
      },
      "source": [
        "#### 1.6. Use the same dataset to train a neural network with Layer Normalization."
      ]
    },
    {
      "cell_type": "code",
      "metadata": {
        "id": "2heUzL4EAGay",
        "outputId": "dd2c9a38-8b93-4a51-e067-0d8332fb8939",
        "colab": {
          "base_uri": "https://localhost:8080/"
        }
      },
      "source": [
        "model = keras.Sequential(\n",
        "    [\n",
        "        # Input layer   (size 28x28 -> 784)\n",
        "        keras.Input(shape=input_shape),\n",
        "        layers.Flatten(),\n",
        "        # TODO: since the input was originally normalized, if this necessary here too?\n",
        "        layers.LayerNormalization(axis=1),\n",
        "     \n",
        "        # One hidden layer  (size 'num_hidden_neurons'=100)\n",
        "        layers.Dense(num_hidden_neurons, activation=activation_fct),\n",
        "        layers.LayerNormalization(axis=1),\n",
        "\n",
        "        # Output layer  (size 10)\n",
        "        # Use 'softmax' to get a probability for the digits 0,...,9 as classification\n",
        "        layers.Dense(num_classes, activation=\"softmax\")\n",
        "    ]\n",
        ")\n",
        "\n",
        "model.summary()"
      ],
      "execution_count": 206,
      "outputs": [
        {
          "output_type": "stream",
          "text": [
            "WARNING:tensorflow:Please add `keras.layers.InputLayer` instead of `keras.Input` to Sequential model. `keras.Input` is intended to be used by Functional model.\n",
            "Model: \"sequential_16\"\n",
            "_________________________________________________________________\n",
            "Layer (type)                 Output Shape              Param #   \n",
            "=================================================================\n",
            "flatten_15 (Flatten)         (None, 784)               0         \n",
            "_________________________________________________________________\n",
            "layer_normalization_5 (Layer (None, 784)               1568      \n",
            "_________________________________________________________________\n",
            "dense_32 (Dense)             (None, 100)               78500     \n",
            "_________________________________________________________________\n",
            "layer_normalization_6 (Layer (None, 100)               200       \n",
            "_________________________________________________________________\n",
            "dense_33 (Dense)             (None, 10)                1010      \n",
            "=================================================================\n",
            "Total params: 81,278\n",
            "Trainable params: 81,278\n",
            "Non-trainable params: 0\n",
            "_________________________________________________________________\n"
          ],
          "name": "stdout"
        }
      ]
    },
    {
      "cell_type": "code",
      "metadata": {
        "id": "UbGptqMLA1JV",
        "outputId": "c89dcd6a-7271-4287-aacb-ef9ae19ba3ba",
        "colab": {
          "base_uri": "https://localhost:8080/"
        }
      },
      "source": [
        "# Lets use AdaGrad, since it performed better. First compile the model\n",
        "model.compile(loss=loss, optimizer=\"adagrad\", metrics=[\"accuracy\"])\n",
        "\n",
        "# Train the model\n",
        "history = model.fit(x_train, y_train, epochs=num_epochs, validation_data=(x_test, y_test))\n",
        "\n",
        "# Save the score (validation loss and validation accuracy) for later use\n",
        "score = model.evaluate(x_test, y_test, verbose=0)"
      ],
      "execution_count": 207,
      "outputs": [
        {
          "output_type": "stream",
          "text": [
            "Epoch 1/20\n",
            "1875/1875 [==============================] - 6s 3ms/step - loss: 0.6480 - accuracy: 0.8131 - val_loss: 0.3993 - val_accuracy: 0.8891\n",
            "Epoch 2/20\n",
            "1875/1875 [==============================] - 6s 3ms/step - loss: 0.3691 - accuracy: 0.8979 - val_loss: 0.3243 - val_accuracy: 0.9099\n",
            "Epoch 3/20\n",
            "1875/1875 [==============================] - 6s 3ms/step - loss: 0.3143 - accuracy: 0.9129 - val_loss: 0.2889 - val_accuracy: 0.9197\n",
            "Epoch 4/20\n",
            "1875/1875 [==============================] - 6s 3ms/step - loss: 0.2836 - accuracy: 0.9219 - val_loss: 0.2674 - val_accuracy: 0.9236\n",
            "Epoch 5/20\n",
            "1875/1875 [==============================] - 6s 3ms/step - loss: 0.2628 - accuracy: 0.9272 - val_loss: 0.2511 - val_accuracy: 0.9280\n",
            "Epoch 6/20\n",
            "1875/1875 [==============================] - 5s 3ms/step - loss: 0.2470 - accuracy: 0.9313 - val_loss: 0.2391 - val_accuracy: 0.9311\n",
            "Epoch 7/20\n",
            "1875/1875 [==============================] - 5s 3ms/step - loss: 0.2345 - accuracy: 0.9348 - val_loss: 0.2287 - val_accuracy: 0.9343\n",
            "Epoch 8/20\n",
            "1875/1875 [==============================] - 5s 3ms/step - loss: 0.2242 - accuracy: 0.9377 - val_loss: 0.2209 - val_accuracy: 0.9359\n",
            "Epoch 9/20\n",
            "1875/1875 [==============================] - 6s 3ms/step - loss: 0.2154 - accuracy: 0.9400 - val_loss: 0.2132 - val_accuracy: 0.9393\n",
            "Epoch 10/20\n",
            "1875/1875 [==============================] - 6s 3ms/step - loss: 0.2078 - accuracy: 0.9425 - val_loss: 0.2074 - val_accuracy: 0.9408\n",
            "Epoch 11/20\n",
            "1875/1875 [==============================] - 6s 3ms/step - loss: 0.2012 - accuracy: 0.9446 - val_loss: 0.2018 - val_accuracy: 0.9424\n",
            "Epoch 12/20\n",
            "1875/1875 [==============================] - 6s 3ms/step - loss: 0.1952 - accuracy: 0.9460 - val_loss: 0.1970 - val_accuracy: 0.9436\n",
            "Epoch 13/20\n",
            "1875/1875 [==============================] - 6s 3ms/step - loss: 0.1898 - accuracy: 0.9478 - val_loss: 0.1926 - val_accuracy: 0.9458\n",
            "Epoch 14/20\n",
            "1875/1875 [==============================] - 6s 3ms/step - loss: 0.1851 - accuracy: 0.9496 - val_loss: 0.1886 - val_accuracy: 0.9464\n",
            "Epoch 15/20\n",
            "1875/1875 [==============================] - 6s 3ms/step - loss: 0.1806 - accuracy: 0.9509 - val_loss: 0.1848 - val_accuracy: 0.9475\n",
            "Epoch 16/20\n",
            "1875/1875 [==============================] - 6s 3ms/step - loss: 0.1766 - accuracy: 0.9518 - val_loss: 0.1817 - val_accuracy: 0.9484\n",
            "Epoch 17/20\n",
            "1875/1875 [==============================] - 6s 3ms/step - loss: 0.1729 - accuracy: 0.9529 - val_loss: 0.1784 - val_accuracy: 0.9491\n",
            "Epoch 18/20\n",
            "1875/1875 [==============================] - 6s 3ms/step - loss: 0.1694 - accuracy: 0.9538 - val_loss: 0.1756 - val_accuracy: 0.9507\n",
            "Epoch 19/20\n",
            "1875/1875 [==============================] - 6s 3ms/step - loss: 0.1662 - accuracy: 0.9546 - val_loss: 0.1729 - val_accuracy: 0.9510\n",
            "Epoch 20/20\n",
            "1875/1875 [==============================] - 6s 3ms/step - loss: 0.1631 - accuracy: 0.9551 - val_loss: 0.1704 - val_accuracy: 0.9515\n"
          ],
          "name": "stdout"
        }
      ]
    },
    {
      "cell_type": "markdown",
      "metadata": {
        "id": "XXW6NPA7vGzn"
      },
      "source": [
        "##### 1.6.a. Compute the SparseCategoricalCrossentropy loss and model accuracy."
      ]
    },
    {
      "cell_type": "code",
      "metadata": {
        "id": "RxvRhXePBB1a",
        "outputId": "46ad99aa-24d6-4220-ca8b-c0a2bd67bf5f",
        "colab": {
          "base_uri": "https://localhost:8080/"
        }
      },
      "source": [
        "print(f'ADAGRAD with layer normlization:\\nValidation loss: {score[0]:.2f},\\tValidation accuracy: {score[1]:.2f} %')"
      ],
      "execution_count": 208,
      "outputs": [
        {
          "output_type": "stream",
          "text": [
            "ADAGRAD with layer normlization:\n",
            "Validation loss: 0.17,\tValidation accuracy: 0.95 %\n"
          ],
          "name": "stdout"
        }
      ]
    },
    {
      "cell_type": "markdown",
      "metadata": {
        "id": "4CzB1JOcvI5J"
      },
      "source": [
        "##### 1.6.b. Evaluate the model performance using the test dataset."
      ]
    },
    {
      "cell_type": "code",
      "metadata": {
        "id": "9dLlCzPpvFyJ",
        "outputId": "29c8ac2f-41e4-47e7-ef70-99269a22acac",
        "colab": {
          "base_uri": "https://localhost:8080/",
          "height": 573
        }
      },
      "source": [
        "singular = ['loss', 'accuracy']\n",
        "plural = ['losses', 'accuracies']\n",
        "\n",
        "for i in range(len(singular)):\n",
        "    mode = singular[i]\n",
        "\n",
        "    plt.plot(history.history[mode], c=\"dodgerblue\")\n",
        "    plt.plot(history.history[f\"val_{mode}\"], c=\"chartreuse\")\n",
        "\n",
        "    plt.title(f\"Model {plural[i]}\")\n",
        "    plt.ylabel(mode)\n",
        "    plt.xlabel('epoch')\n",
        "    plt.xticks(range(1, num_epochs))\n",
        "    plt.legend([f\"Adagrad: training {mode}\", f\"Adagrad: validation {mode}\"])\n",
        "    plt.show()"
      ],
      "execution_count": 215,
      "outputs": [
        {
          "output_type": "display_data",
          "data": {
            "image/png": "[encoded data removed]",
            "text/plain": [
              "<Figure size 432x288 with 1 Axes>"
            ]
          },
          "metadata": {
            "tags": [],
            "needs_background": "light"
          }
        },
        {
          "output_type": "display_data",
          "data": {
            "image/png": "[encoded data removed]",
            "text/plain": [
              "<Figure size 432x288 with 1 Axes>"
            ]
          },
          "metadata": {
            "tags": [],
            "needs_background": "light"
          }
        }
      ]
    },
    {
      "cell_type": "markdown",
      "metadata": {
        "id": "9Whnr95UcN_9"
      },
      "source": [
        "Just from looking at the plots we can see that the training went as desired: The loss steadily decreased while the accuracy increased.\n",
        "\n",
        "Interestingly, the to be expected relation that the loss on the validation set is higher and the accuracy lower than on the training set is only the case after already 5 and 10 epochs.\n",
        "\n",
        "We can see that around epoch 10, the loss on the training data gets lower, than on the validation loss. But the loss on the validation data still decreases, thus one can continue the training."
      ]
    },
    {
      "cell_type": "markdown",
      "metadata": {
        "id": "PwJ9lFCMvL3i"
      },
      "source": [
        "---\n",
        "### Exercise 2 - Hyper Parameter Optimization"
      ]
    },
    {
      "cell_type": "markdown",
      "metadata": {
        "id": "7qALaDAgvQ9h"
      },
      "source": [
        "#### 2.1. What are the main challenges with hyper-parameter optimization for neural networks?"
      ]
    },
    {
      "cell_type": "markdown",
      "metadata": {
        "id": "JAW6mdQlvWBl"
      },
      "source": [
        "##### 2.2. Inform yourself about variants of **Bayesian-HPO** and explain them in detail."
      ]
    },
    {
      "cell_type": "markdown",
      "metadata": {
        "id": "qXORgwslvaQ2"
      },
      "source": [
        "#### 2.3. Using the same MNIST dataset, optimize the activation function for the output layer and the number of dropout units in the NN model using the following methods."
      ]
    },
    {
      "cell_type": "code",
      "metadata": {
        "id": "iiKbcaoJMFEI"
      },
      "source": [
        "###### For preparation do the same as in exercise 1.1.: ######\n",
        "# Load the data: \n",
        "# Split between train and test sets w.r.t. data 'x' and class vectors 'y'\n",
        "(x_train, y_train), (x_test, y_test) = keras.datasets.mnist.load_data()\n",
        "\n",
        "# For normalization we scale the images to contain values in [0, 1]\n",
        "x_train = x_train.astype(\"float32\") / 255\n",
        "x_test = x_test.astype(\"float32\") / 255\n",
        "\n",
        "# Check, that all images have shape (28, 28, 1)\n",
        "x_train = np.expand_dims(x_train, -1)\n",
        "x_test = np.expand_dims(x_test, -1)\n",
        "input_shape = x_train[0].shape\n",
        "\n",
        "# Check, if the number of classes is ten (since there are ten digits 0,...,9)\n",
        "num_classes = 10\n",
        "\n",
        "num_classes == len(set(y_train)) == len(set(y_test))\n",
        "\n",
        "# Convert the class vectors 'y' to binary class matrices\n",
        "y_train = keras.utils.to_categorical(y_train, num_classes)\n",
        "y_test = keras.utils.to_categorical(y_test, num_classes)"
      ],
      "execution_count": 210,
      "outputs": []
    },
    {
      "cell_type": "markdown",
      "metadata": {
        "id": "UaY0eyycve4w"
      },
      "source": [
        "##### 2.3.a. Grid search"
      ]
    },
    {
      "cell_type": "markdown",
      "metadata": {
        "id": "uUOwcULPvgxh"
      },
      "source": [
        "##### 2.3.a. Random search"
      ]
    },
    {
      "cell_type": "markdown",
      "metadata": {
        "id": "sGjTMl4tviNM"
      },
      "source": [
        "##### 2.3.a. Bayesian Hyper-parameter optimization"
      ]
    },
    {
      "cell_type": "code",
      "metadata": {
        "id": "2UF0_fP2vQwH"
      },
      "source": [
        ""
      ],
      "execution_count": 210,
      "outputs": []
    },
    {
      "cell_type": "markdown",
      "metadata": {
        "id": "D0BD_oB8vmTJ"
      },
      "source": [
        "---\n",
        "### Exercise 3 - Transfer Learning & CNNs"
      ]
    },
    {
      "cell_type": "markdown",
      "metadata": {
        "id": "3az3ObKlvp-B"
      },
      "source": [
        "#### 3.1. Load the *VGG16 pre-trained model* using Keras Applications API. Use the model to classify the dog images in canines.zip after pre-processing each image by doing the following:"
      ]
    },
    {
      "cell_type": "markdown",
      "metadata": {
        "id": "ehO2zSXvM1x4"
      },
      "source": [
        "(*See [MachineLearningMastery](ttps://machinelearningmastery.com/use-pre-trained-vgg-model-classify-objects-photographs/) for reference*)"
      ]
    },
    {
      "cell_type": "code",
      "metadata": {
        "id": "vhHd1UFNMb86"
      },
      "source": [
        "from keras.applications.vgg16 import VGG16\n",
        "from keras.utils.vis_utils import plot_model\n",
        "from keras.preprocessing.image import load_img"
      ],
      "execution_count": 211,
      "outputs": []
    },
    {
      "cell_type": "code",
      "metadata": {
        "id": "EXHnnrRZMWJa",
        "outputId": "732d59c7-07fa-4300-feb6-d62fb1878731",
        "colab": {
          "base_uri": "https://localhost:8080/"
        }
      },
      "source": [
        "model = VGG16()\n",
        "# plot_model(model, to_file='vgg.png')"
      ],
      "execution_count": 212,
      "outputs": [
        {
          "output_type": "stream",
          "text": [
            "Downloading data from https://storage.googleapis.com/tensorflow/keras-applications/vgg16/vgg16_weights_tf_dim_ordering_tf_kernels.h5\n",
            "553467904/553467096 [==============================] - 3s 0us/step\n",
            "553476096/553467096 [==============================] - 3s 0us/step\n"
          ],
          "name": "stdout"
        }
      ]
    },
    {
      "cell_type": "markdown",
      "metadata": {
        "id": "aqepkwhKvu-6"
      },
      "source": [
        "##### 3.1.a. Load each image and set the size to 224 x 224 pixels."
      ]
    },
    {
      "cell_type": "code",
      "metadata": {
        "id": "ByH9l6s2M9hi"
      },
      "source": [
        "image_target_size = (224, 224)"
      ],
      "execution_count": 213,
      "outputs": []
    },
    {
      "cell_type": "markdown",
      "metadata": {
        "id": "5ttioWE5vySg"
      },
      "source": [
        "##### 3.1.b. Convert the image pixels to a numpy array and reshape it according to the model’s input requirements."
      ]
    },
    {
      "cell_type": "markdown",
      "metadata": {
        "id": "op0xzm-nv1G0"
      },
      "source": [
        "##### 3.1.c. Use the model to print out the predicted class and its probability for each image."
      ]
    },
    {
      "cell_type": "markdown",
      "metadata": {
        "id": "StTqwf0Vv6Q2"
      },
      "source": [
        "#### 3.2. Downscale the given matrix by applying the following pooling operations:"
      ]
    },
    {
      "cell_type": "markdown",
      "metadata": {
        "id": "ALJ8BJ0rv9SO"
      },
      "source": [
        "##### 3.2.a. Max Pool"
      ]
    },
    {
      "cell_type": "markdown",
      "metadata": {
        "id": "glyGSHsev_Yk"
      },
      "source": [
        "##### 3.2.a. Average Pool"
      ]
    },
    {
      "cell_type": "markdown",
      "metadata": {
        "id": "VxTmNGWHwBSl"
      },
      "source": [
        "#### 3.3. Load the **CIFAR10 dataset** using Keras datasets API and normalize the images’ pixel values. Train a convolutional neural network to classify the dataset images with the following architecture:"
      ]
    },
    {
      "cell_type": "markdown",
      "metadata": {
        "id": "Toy-Aut09UFp"
      },
      "source": [
        "##### 3.3.a. Convolutional Base:\n",
        "1. An input convolution layer with $32$ filters and a kernel size of $(3,3)$.\n",
        "Adjust your input shape to that of the CIFAR images’ format\n",
        "2. Two convolution layers, each with 64 filters and a kernel size of $(3,3)$\n",
        "3. Two Max Pool layers, with a pool size of $2\\times 2$"
      ]
    },
    {
      "cell_type": "markdown",
      "metadata": {
        "id": "H-JwLlof9kwa"
      },
      "source": [
        "##### 3.3.b. Two dense layers, with $64$ and $10$ units respectively. Adjust the output of the convolutional base such that it satisfies the input requirements of the dense layers."
      ]
    },
    {
      "cell_type": "markdown",
      "metadata": {
        "id": "2mUj_ufp9qXr"
      },
      "source": [
        "##### 3.3.c. Use the following parameters to train the network:\n",
        "1. Sparse categorical cross entropy as your loss function\n",
        "1. Adam optimizer\n",
        "1. $10$ epochs\n",
        "1. ReLU activation for your layers\n",
        "\n",
        "Compile your model, then plot the accuracy across each epoch."
      ]
    },
    {
      "cell_type": "code",
      "metadata": {
        "id": "PVTrdDV8voV-"
      },
      "source": [
        ""
      ],
      "execution_count": 213,
      "outputs": []
    }
  ]
}