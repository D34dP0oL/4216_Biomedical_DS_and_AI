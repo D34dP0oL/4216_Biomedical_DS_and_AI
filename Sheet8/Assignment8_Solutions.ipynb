{
  "nbformat": 4,
  "nbformat_minor": 0,
  "metadata": {
    "kernelspec": {
      "display_name": "Python 3",
      "language": "python",
      "name": "python3"
    },
    "language_info": {
      "codemirror_mode": {
        "name": "ipython",
        "version": 3
      },
      "file_extension": ".py",
      "mimetype": "text/x-python",
      "name": "python",
      "nbconvert_exporter": "python",
      "pygments_lexer": "ipython3",
      "version": "3.7.7"
    },
    "colab": {
      "name": "Assignment8_Solutions.ipynb",
      "provenance": [],
      "collapsed_sections": [],
      "include_colab_link": true
    }
  },
  "cells": [
    {
      "cell_type": "markdown",
      "metadata": {
        "id": "view-in-github",
        "colab_type": "text"
      },
      "source": [
        "<a href=\"https://colab.research.google.com/github/FabriceBeaumont/4216_Biomedical_DS_and_AI/blob/main/Sheet8/Assignment8_Solutions.ipynb\" target=\"_parent\"><img src=\"https://colab.research.google.com/assets/colab-badge.svg\" alt=\"Open In Colab\"/></a>"
      ]
    },
    {
      "cell_type": "code",
      "metadata": {
        "id": "-UnHoHsFop-8"
      },
      "source": [
        "import pandas as pd\n",
        "import numpy as np\n",
        "import matplotlib.pyplot as plt\n",
        "\n",
        "from sklearn.ensemble import RandomForestClassifier, GradientBoostingClassifier\n",
        "from sklearn.linear_model import LogisticRegression\n",
        "from sklearn.model_selection import GridSearchCV, KFold, cross_val_predict\n",
        "from sklearn.calibration import calibration_curve"
      ],
      "execution_count": null,
      "outputs": []
    },
    {
      "cell_type": "code",
      "metadata": {
        "id": "BUswbzmRCHbj"
      },
      "source": [
        "def get_dataset_from_github(filename, index_col_str=None, header_str='infer'):    \n",
        "    data_file_path = \"https://raw.githubusercontent.com/FabriceBeaumont/4216_Biomedical_DS_and_AI/tree/main/Datasets\"\n",
        "    if index_col_str is None and header_str == 'infer':\n",
        "      data = pd.read_csv(data_file_path + filename)\n",
        "    elif index_col_str is None:\n",
        "        data = pd.read_csv(data_file_path + filename, header=header_str)\n",
        "    elif header_str == 'infer':\n",
        "      data = pd.read_csv(data_file_path + filename, index_col=index_col_str)\n",
        "    else:\n",
        "      data = pd.read_csv(data_file_path + filename, index_col=index_col_str, header=header_str)\n",
        "\n",
        "    return data"
      ],
      "execution_count": null,
      "outputs": []
    },
    {
      "cell_type": "code",
      "metadata": {
        "colab": {
          "base_uri": "https://localhost:8080/",
          "height": 175
        },
        "id": "Q3YXStZTEQGa",
        "outputId": "8cf94bee-6c40-4ef3-ccc3-1e1940198a32"
      },
      "source": [
        "# titanic_survival_ds = get_dataset_from_github(\"/titanic_survival_data.csv\")\n",
        "# If this does not work, load the file (temporarily) into the Colab-File system (left side) \n",
        "# from your local files. Then execute as usual:\n",
        "titanic_survival_ds = pd.read_csv(\"titanic_survival_data.csv\")\n",
        "\n",
        "titanic_survival_ds.head(4)"
      ],
      "execution_count": null,
      "outputs": [
        {
          "output_type": "execute_result",
          "data": {
            "text/html": [
              "<div>\n",
              "<style scoped>\n",
              "    .dataframe tbody tr th:only-of-type {\n",
              "        vertical-align: middle;\n",
              "    }\n",
              "\n",
              "    .dataframe tbody tr th {\n",
              "        vertical-align: top;\n",
              "    }\n",
              "\n",
              "    .dataframe thead th {\n",
              "        text-align: right;\n",
              "    }\n",
              "</style>\n",
              "<table border=\"1\" class=\"dataframe\">\n",
              "  <thead>\n",
              "    <tr style=\"text-align: right;\">\n",
              "      <th></th>\n",
              "      <th>PassengerId</th>\n",
              "      <th>Pclass</th>\n",
              "      <th>Sex</th>\n",
              "      <th>Age</th>\n",
              "      <th>SibSp</th>\n",
              "      <th>Parch</th>\n",
              "      <th>Fare</th>\n",
              "      <th>Embarked</th>\n",
              "      <th>no_cabin</th>\n",
              "      <th>Label</th>\n",
              "    </tr>\n",
              "  </thead>\n",
              "  <tbody>\n",
              "    <tr>\n",
              "      <th>0</th>\n",
              "      <td>1</td>\n",
              "      <td>3</td>\n",
              "      <td>0</td>\n",
              "      <td>22.0</td>\n",
              "      <td>1</td>\n",
              "      <td>0</td>\n",
              "      <td>7.2500</td>\n",
              "      <td>0</td>\n",
              "      <td>2</td>\n",
              "      <td>0</td>\n",
              "    </tr>\n",
              "    <tr>\n",
              "      <th>1</th>\n",
              "      <td>2</td>\n",
              "      <td>1</td>\n",
              "      <td>1</td>\n",
              "      <td>38.0</td>\n",
              "      <td>1</td>\n",
              "      <td>0</td>\n",
              "      <td>71.2833</td>\n",
              "      <td>1</td>\n",
              "      <td>1</td>\n",
              "      <td>1</td>\n",
              "    </tr>\n",
              "    <tr>\n",
              "      <th>2</th>\n",
              "      <td>3</td>\n",
              "      <td>3</td>\n",
              "      <td>1</td>\n",
              "      <td>26.0</td>\n",
              "      <td>0</td>\n",
              "      <td>0</td>\n",
              "      <td>7.9250</td>\n",
              "      <td>0</td>\n",
              "      <td>2</td>\n",
              "      <td>1</td>\n",
              "    </tr>\n",
              "    <tr>\n",
              "      <th>3</th>\n",
              "      <td>4</td>\n",
              "      <td>1</td>\n",
              "      <td>1</td>\n",
              "      <td>35.0</td>\n",
              "      <td>1</td>\n",
              "      <td>0</td>\n",
              "      <td>53.1000</td>\n",
              "      <td>0</td>\n",
              "      <td>1</td>\n",
              "      <td>1</td>\n",
              "    </tr>\n",
              "  </tbody>\n",
              "</table>\n",
              "</div>"
            ],
            "text/plain": [
              "   PassengerId  Pclass  Sex   Age  ...     Fare  Embarked  no_cabin  Label\n",
              "0            1       3    0  22.0  ...   7.2500         0         2      0\n",
              "1            2       1    1  38.0  ...  71.2833         1         1      1\n",
              "2            3       3    1  26.0  ...   7.9250         0         2      1\n",
              "3            4       1    1  35.0  ...  53.1000         0         1      1\n",
              "\n",
              "[4 rows x 10 columns]"
            ]
          },
          "metadata": {
            "tags": []
          },
          "execution_count": 5
        }
      ]
    },
    {
      "cell_type": "markdown",
      "metadata": {
        "id": "Lx0G72bGl7xc"
      },
      "source": [
        "## Biomedical Data Science & AI\n",
        "\n",
        "## Assignment 8\n",
        "\n",
        "#### Group members:  Fabrice Beaumont, Fatemeh Salehi, Genivika Mann, Helia Salimi, Jonah"
      ]
    },
    {
      "cell_type": "markdown",
      "metadata": {
        "id": "-fhYMe5ml7xo"
      },
      "source": [
        "---\n",
        "### Exercise 1 - Ensemble Learning\n"
      ]
    },
    {
      "cell_type": "markdown",
      "metadata": {
        "id": "_krKhWqo-Bv7"
      },
      "source": [
        "#### 1.1. Inform yourself about **gradient boosting**, then answer the following questions in your own words:"
      ]
    },
    {
      "cell_type": "markdown",
      "metadata": {
        "id": "QTjkofc690tY"
      },
      "source": [
        "In-depth resource for Gradient Boosting: https://explained.ai/gradient-boosting/index.html"
      ]
    },
    {
      "cell_type": "markdown",
      "metadata": {
        "id": "fYHqa8s-92O3"
      },
      "source": [
        "Gradient Boosting is a machine learning technique which uses Gradient Descent and Boosting. It aims at fitting an additive model by introducing **weak learners** (i.e Decision trees) such that the recently added weak learner compensates the shortcomings of existing weak learners. The shortcoming of existing weak learners are identified by gradients in the loss function. Any user specified loss function can be optimised by a gradient boosting algorithm. The objective is to minimise the loss function by adding weak learners using Gradient Descent."
      ]
    },
    {
      "cell_type": "markdown",
      "metadata": {
        "id": "jgUkN-nGziCe"
      },
      "source": [
        "a. What do the individual **weak learners** model? How does this relate to the\n",
        "gradient of the loss function?\n"
      ]
    },
    {
      "cell_type": "markdown",
      "metadata": {
        "id": "zKBxLpeY-Wf6"
      },
      "source": [
        "- The weak learners are trained with the objective of minimising the loss function, hence they are trained on the residuals of the model. Each new weak learner will be fitted on the **residual error** usually known as **pseudo-residual** produced by the existing sequence of learners.\n",
        "\n",
        "- The gradient boosting algorithm performs **gradient descent minimisation on some loss function** between the true and the predicted values. We perform gradient descent to bring the predicted values closer to the true value by minimising the residual. The residual is a vector which not only provides the magnitude of difference between the true and the predicted value but also the direction of better approximation (w.r.t. minimization of loss function). Hence we are chasing the (negative) gradient of the loss function via gradient descent by chasing the direction of residual. Thus we perform gradient descent on the loss function.\n",
        "\n",
        "- The gradient boosted model that trains weak learners on residual vectors optimises the mean squared error (MSE; $L_2$ loss), ...\n",
        "\n",
        "- ...while the model that trains the weak learners on the sign vector (only direction of residual without the magnitude) optimises the mean absolute error(MAE; $L_1$ loss)."
      ]
    },
    {
      "cell_type": "markdown",
      "metadata": {
        "id": "Rh-CgF8k-JLD"
      },
      "source": [
        "b. What is the difference between **gradient boosting** and **random forest**?"
      ]
    },
    {
      "cell_type": "markdown",
      "metadata": {
        "id": "ZivxSdGg-l9T"
      },
      "source": [
        "- Gradient Boosting (GB) is a forward stage-wise additive model, that builds and adds one tree at a time with the objective of minimising the loss function (computed by considering the existing sequence of trees). Random forest (RF) on the other hand builds all trees independently - using random samples of the data (to prevent overfitting).\n",
        "\n",
        "\n",
        "- GB focusses step by step on difficult examples - making it suitable for datasets with class imbalance. No such quality is present in RF. Additionally, any user specified loss function can be optimised by a gradient boosting algorithm.\n",
        "\n",
        "\n",
        "- RF combines the results of all the trees at the end after the construction of all trees. GB on the other hand, takes the predictions of the sequence of trees into consideration at each stage of the algorithm.\n",
        "\n",
        "\n",
        "- If the parameters are tuned carefully, GB can perform better than RF. However it is difficult to tune GB since there are much more parameters that need to be tuned.\n",
        "\n",
        "\n",
        "- GB is more sensitive to overfitting if the data is noisy. RF is more robust and should be considered in this case.\n",
        "\n",
        "\n",
        "- Training GB generally takes longer then RF, since the trees are constructed sequentially."
      ]
    },
    {
      "cell_type": "markdown",
      "metadata": {
        "id": "appoDszfFI5l"
      },
      "source": [
        "#### 1.2. Which modifications make gradient boosting **robust against overfitting**?"
      ]
    },
    {
      "cell_type": "markdown",
      "metadata": {
        "id": "9zAnH_KU-qip"
      },
      "source": [
        "Gredient Boosting is not robust against overfitting the training data as it is a greedy algorithm. This problem can be resolved by using regualarization methods which penalize different aspects of the algorithm. The following methods can be used:\n",
        "- **Tree constraints:** The idea is that is the trees are more constrained, more trees need to be constructed. The constraints can be imposed on \n",
        "    - the number of trees (~\"keep on adding trees until no improvement is observed\"), \n",
        "    - tree depth (~\"shorter trees are preferred as deeper trees are considered more complex\"),\n",
        "    - number of nodes/leaves of tree and\n",
        "    - number of observations per split and minimum improvement to loss.\n",
        "\n",
        "- **Weighted Updates:** The prediction of each tree is weighed by a learning rate or shrinkage to slow down the learning by the algorithm. Shrinkage reduces the influence of each individual tree and leaves space for future trees to improve the model.\n",
        "\n",
        "\n",
        "- **Stochastic Gradient Boosting:** The method aims at reducing the correlation of the trees in the sequence of trees. This is achieved by using only a subsample of the training data to fit the  base learner.\n",
        "\n",
        "\n",
        "- **Penalized Gradient Boosting:** Regression trees (a variant of decision trees which contain only numeric values at leaf nodes) can be used in GB. The leaf values act as weights and can be regularised using $L_1$ or $L_2$ regularization to prevent overfitting."
      ]
    },
    {
      "cell_type": "markdown",
      "metadata": {
        "id": "zyw9E17lFKxz"
      },
      "source": [
        "#### 1.3. Using the `titanic_survival_dataset.csv`, train the following models using nested cross validation while optimizing a selected number of hyperparameters in the inner loop using grid search, then compute the probabilities of your targets:"
      ]
    },
    {
      "cell_type": "code",
      "metadata": {
        "id": "DdkdJx3c-ycE",
        "colab": {
          "base_uri": "https://localhost:8080/",
          "height": 238
        },
        "outputId": "4b6986b8-4b27-4847-b8c9-415a97d87c15"
      },
      "source": [
        "# Load the dataset\n",
        "titanic_data = pd.read_csv('titanic_survival_data.csv', index_col=\"PassengerId\")\n",
        "titanic_data.head()"
      ],
      "execution_count": null,
      "outputs": [
        {
          "output_type": "execute_result",
          "data": {
            "text/html": [
              "<div>\n",
              "<style scoped>\n",
              "    .dataframe tbody tr th:only-of-type {\n",
              "        vertical-align: middle;\n",
              "    }\n",
              "\n",
              "    .dataframe tbody tr th {\n",
              "        vertical-align: top;\n",
              "    }\n",
              "\n",
              "    .dataframe thead th {\n",
              "        text-align: right;\n",
              "    }\n",
              "</style>\n",
              "<table border=\"1\" class=\"dataframe\">\n",
              "  <thead>\n",
              "    <tr style=\"text-align: right;\">\n",
              "      <th></th>\n",
              "      <th>Pclass</th>\n",
              "      <th>Sex</th>\n",
              "      <th>Age</th>\n",
              "      <th>SibSp</th>\n",
              "      <th>Parch</th>\n",
              "      <th>Fare</th>\n",
              "      <th>Embarked</th>\n",
              "      <th>no_cabin</th>\n",
              "      <th>Label</th>\n",
              "    </tr>\n",
              "    <tr>\n",
              "      <th>PassengerId</th>\n",
              "      <th></th>\n",
              "      <th></th>\n",
              "      <th></th>\n",
              "      <th></th>\n",
              "      <th></th>\n",
              "      <th></th>\n",
              "      <th></th>\n",
              "      <th></th>\n",
              "      <th></th>\n",
              "    </tr>\n",
              "  </thead>\n",
              "  <tbody>\n",
              "    <tr>\n",
              "      <th>1</th>\n",
              "      <td>3</td>\n",
              "      <td>0</td>\n",
              "      <td>22.0</td>\n",
              "      <td>1</td>\n",
              "      <td>0</td>\n",
              "      <td>7.2500</td>\n",
              "      <td>0</td>\n",
              "      <td>2</td>\n",
              "      <td>0</td>\n",
              "    </tr>\n",
              "    <tr>\n",
              "      <th>2</th>\n",
              "      <td>1</td>\n",
              "      <td>1</td>\n",
              "      <td>38.0</td>\n",
              "      <td>1</td>\n",
              "      <td>0</td>\n",
              "      <td>71.2833</td>\n",
              "      <td>1</td>\n",
              "      <td>1</td>\n",
              "      <td>1</td>\n",
              "    </tr>\n",
              "    <tr>\n",
              "      <th>3</th>\n",
              "      <td>3</td>\n",
              "      <td>1</td>\n",
              "      <td>26.0</td>\n",
              "      <td>0</td>\n",
              "      <td>0</td>\n",
              "      <td>7.9250</td>\n",
              "      <td>0</td>\n",
              "      <td>2</td>\n",
              "      <td>1</td>\n",
              "    </tr>\n",
              "    <tr>\n",
              "      <th>4</th>\n",
              "      <td>1</td>\n",
              "      <td>1</td>\n",
              "      <td>35.0</td>\n",
              "      <td>1</td>\n",
              "      <td>0</td>\n",
              "      <td>53.1000</td>\n",
              "      <td>0</td>\n",
              "      <td>1</td>\n",
              "      <td>1</td>\n",
              "    </tr>\n",
              "    <tr>\n",
              "      <th>5</th>\n",
              "      <td>3</td>\n",
              "      <td>0</td>\n",
              "      <td>35.0</td>\n",
              "      <td>0</td>\n",
              "      <td>0</td>\n",
              "      <td>8.0500</td>\n",
              "      <td>0</td>\n",
              "      <td>2</td>\n",
              "      <td>0</td>\n",
              "    </tr>\n",
              "  </tbody>\n",
              "</table>\n",
              "</div>"
            ],
            "text/plain": [
              "             Pclass  Sex   Age  SibSp  ...     Fare  Embarked  no_cabin  Label\n",
              "PassengerId                            ...                                    \n",
              "1                 3    0  22.0      1  ...   7.2500         0         2      0\n",
              "2                 1    1  38.0      1  ...  71.2833         1         1      1\n",
              "3                 3    1  26.0      0  ...   7.9250         0         2      1\n",
              "4                 1    1  35.0      1  ...  53.1000         0         1      1\n",
              "5                 3    0  35.0      0  ...   8.0500         0         2      0\n",
              "\n",
              "[5 rows x 9 columns]"
            ]
          },
          "metadata": {
            "tags": []
          },
          "execution_count": 10
        }
      ]
    },
    {
      "cell_type": "code",
      "metadata": {
        "id": "WaF0u7bfXh8W"
      },
      "source": [
        "# Sepearate features and target (which is stored in column 'Label')\n",
        "y = titanic_data['Label'].ravel()\n",
        "X = titanic_data.drop(columns = ['Label'])"
      ],
      "execution_count": null,
      "outputs": []
    },
    {
      "cell_type": "markdown",
      "metadata": {
        "id": "jhfmrS-AFOra"
      },
      "source": [
        "#### 1.3.a) Random forest, optimizing the number of estimators"
      ]
    },
    {
      "cell_type": "code",
      "metadata": {
        "id": "53pNibdz_vh7"
      },
      "source": [
        "# Initialize the RF classifier and a parameter grid for the grid search\n",
        "Random_Forest = RandomForestClassifier()\n",
        "p_grid_random_forest = {'n_estimators': [100, 150, 200, 300, 400]}"
      ],
      "execution_count": null,
      "outputs": []
    },
    {
      "cell_type": "code",
      "metadata": {
        "id": "-2WoTW8B_xzP",
        "colab": {
          "base_uri": "https://localhost:8080/"
        },
        "outputId": "8c3c5ad9-e3f1-45e2-d496-ff79de3811a2"
      },
      "source": [
        "# Inner Fold - to obtain the best hyperparameters\n",
        "Random_Forest_Fit = GridSearchCV(\n",
        "    estimator = Random_Forest,\n",
        "    param_grid = p_grid_random_forest,\n",
        "    cv = KFold(shuffle = True),\n",
        "    verbose = 1\n",
        ")\n",
        "\n",
        "Random_Forest_Fit.fit(X, y)"
      ],
      "execution_count": null,
      "outputs": [
        {
          "output_type": "stream",
          "text": [
            "Fitting 5 folds for each of 5 candidates, totalling 25 fits\n"
          ],
          "name": "stdout"
        },
        {
          "output_type": "stream",
          "text": [
            "[Parallel(n_jobs=1)]: Using backend SequentialBackend with 1 concurrent workers.\n",
            "[Parallel(n_jobs=1)]: Done  25 out of  25 | elapsed:   10.1s finished\n"
          ],
          "name": "stderr"
        },
        {
          "output_type": "execute_result",
          "data": {
            "text/plain": [
              "GridSearchCV(cv=KFold(n_splits=5, random_state=None, shuffle=True),\n",
              "             error_score=nan,\n",
              "             estimator=RandomForestClassifier(bootstrap=True, ccp_alpha=0.0,\n",
              "                                              class_weight=None,\n",
              "                                              criterion='gini', max_depth=None,\n",
              "                                              max_features='auto',\n",
              "                                              max_leaf_nodes=None,\n",
              "                                              max_samples=None,\n",
              "                                              min_impurity_decrease=0.0,\n",
              "                                              min_impurity_split=None,\n",
              "                                              min_samples_leaf=1,\n",
              "                                              min_samples_split=2,\n",
              "                                              min_weight_fraction_leaf=0.0,\n",
              "                                              n_estimators=100, n_jobs=None,\n",
              "                                              oob_score=False,\n",
              "                                              random_state=None, verbose=0,\n",
              "                                              warm_start=False),\n",
              "             iid='deprecated', n_jobs=None,\n",
              "             param_grid={'n_estimators': [100, 150, 200, 300, 400]},\n",
              "             pre_dispatch='2*n_jobs', refit=True, return_train_score=False,\n",
              "             scoring=None, verbose=1)"
            ]
          },
          "metadata": {
            "tags": []
          },
          "execution_count": 15
        }
      ]
    },
    {
      "cell_type": "code",
      "metadata": {
        "id": "81oe6w3d_6QW",
        "colab": {
          "base_uri": "https://localhost:8080/"
        },
        "outputId": "95cebe00-e1e2-4dc4-b4b5-3c257a70781a"
      },
      "source": [
        "# Outer Fold - to perform cross validation based on metrics and compute the probabilities of the target\n",
        "random_forest_prediction_prob = cross_val_predict(\n",
        "    estimator = Random_Forest_Fit,\n",
        "    X = X,\n",
        "    y = y,\n",
        "    cv = KFold(shuffle = True),\n",
        "    method = 'predict_proba', # To obtain prediction probabilities in result\n",
        "    verbose = 1\n",
        ")\n",
        "random_forest_prediction_prob"
      ],
      "execution_count": null,
      "outputs": [
        {
          "output_type": "stream",
          "text": [
            "[Parallel(n_jobs=1)]: Using backend SequentialBackend with 1 concurrent workers.\n",
            "[Parallel(n_jobs=1)]: Using backend SequentialBackend with 1 concurrent workers.\n"
          ],
          "name": "stderr"
        },
        {
          "output_type": "stream",
          "text": [
            "Fitting 5 folds for each of 5 candidates, totalling 25 fits\n"
          ],
          "name": "stdout"
        },
        {
          "output_type": "stream",
          "text": [
            "[Parallel(n_jobs=1)]: Done  25 out of  25 | elapsed:    9.6s finished\n"
          ],
          "name": "stderr"
        },
        {
          "output_type": "stream",
          "text": [
            "Fitting 5 folds for each of 5 candidates, totalling 25 fits\n"
          ],
          "name": "stdout"
        },
        {
          "output_type": "stream",
          "text": [
            "[Parallel(n_jobs=1)]: Using backend SequentialBackend with 1 concurrent workers.\n",
            "[Parallel(n_jobs=1)]: Done  25 out of  25 | elapsed:    9.5s finished\n"
          ],
          "name": "stderr"
        },
        {
          "output_type": "stream",
          "text": [
            "Fitting 5 folds for each of 5 candidates, totalling 25 fits\n"
          ],
          "name": "stdout"
        },
        {
          "output_type": "stream",
          "text": [
            "[Parallel(n_jobs=1)]: Using backend SequentialBackend with 1 concurrent workers.\n",
            "[Parallel(n_jobs=1)]: Done  25 out of  25 | elapsed:    9.4s finished\n"
          ],
          "name": "stderr"
        },
        {
          "output_type": "stream",
          "text": [
            "Fitting 5 folds for each of 5 candidates, totalling 25 fits\n"
          ],
          "name": "stdout"
        },
        {
          "output_type": "stream",
          "text": [
            "[Parallel(n_jobs=1)]: Using backend SequentialBackend with 1 concurrent workers.\n",
            "[Parallel(n_jobs=1)]: Done  25 out of  25 | elapsed:    9.5s finished\n"
          ],
          "name": "stderr"
        },
        {
          "output_type": "stream",
          "text": [
            "Fitting 5 folds for each of 5 candidates, totalling 25 fits\n"
          ],
          "name": "stdout"
        },
        {
          "output_type": "stream",
          "text": [
            "[Parallel(n_jobs=1)]: Using backend SequentialBackend with 1 concurrent workers.\n",
            "[Parallel(n_jobs=1)]: Done  25 out of  25 | elapsed:    9.5s finished\n",
            "[Parallel(n_jobs=1)]: Done   5 out of   5 | elapsed:   50.1s finished\n"
          ],
          "name": "stderr"
        },
        {
          "output_type": "execute_result",
          "data": {
            "text/plain": [
              "array([[0.706  , 0.294  ],\n",
              "       [0.01   , 0.99   ],\n",
              "       [0.615  , 0.385  ],\n",
              "       ...,\n",
              "       [0.605  , 0.395  ],\n",
              "       [0.155  , 0.845  ],\n",
              "       [0.98375, 0.01625]])"
            ]
          },
          "metadata": {
            "tags": []
          },
          "execution_count": 17
        }
      ]
    },
    {
      "cell_type": "markdown",
      "metadata": {
        "id": "NT5fcXYbFQKJ"
      },
      "source": [
        "#### 1.3.b) Gradient boosting, optimizing boosting steps"
      ]
    },
    {
      "cell_type": "code",
      "metadata": {
        "id": "hqLsNOin_-zz",
        "colab": {
          "base_uri": "https://localhost:8080/"
        },
        "outputId": "90ee8009-859d-4f8a-9add-f7036fde0f95"
      },
      "source": [
        "# Initialize the GB classifier and a parameter grid for the grid search\n",
        "GB = GradientBoostingClassifier()\n",
        "p_grid_gb = {'n_estimators': [10, 50, 100, 200, 300]}\n",
        "\n",
        "# Inner Fold - to obtain the best hyperparameters\n",
        "GB_Best_Clf = GridSearchCV(\n",
        "    estimator = GB,\n",
        "    param_grid = p_grid_gb,\n",
        "    cv = KFold(shuffle = True),\n",
        "    verbose = 1\n",
        ")\n",
        "\n",
        "GB_Best_Clf.fit(X, y)\n",
        "\n",
        "# Outer Fold - to perform cross validation based on metrics and compute the probabilities of the target\n",
        "gb_prediction_prob = cross_val_predict(\n",
        "    estimator = GB_Best_Clf,\n",
        "    X = X,\n",
        "    y = y,\n",
        "    cv = KFold(shuffle = True),\n",
        "    method = 'predict_proba', # To obtain prediction probabilities in result\n",
        "    verbose = 1\n",
        ")\n",
        "gb_prediction_prob"
      ],
      "execution_count": null,
      "outputs": [
        {
          "output_type": "stream",
          "text": [
            "Fitting 5 folds for each of 5 candidates, totalling 25 fits\n"
          ],
          "name": "stdout"
        },
        {
          "output_type": "stream",
          "text": [
            "[Parallel(n_jobs=1)]: Using backend SequentialBackend with 1 concurrent workers.\n",
            "[Parallel(n_jobs=1)]: Done  25 out of  25 | elapsed:    3.4s finished\n",
            "[Parallel(n_jobs=1)]: Using backend SequentialBackend with 1 concurrent workers.\n",
            "[Parallel(n_jobs=1)]: Using backend SequentialBackend with 1 concurrent workers.\n"
          ],
          "name": "stderr"
        },
        {
          "output_type": "stream",
          "text": [
            "Fitting 5 folds for each of 5 candidates, totalling 25 fits\n"
          ],
          "name": "stdout"
        },
        {
          "output_type": "stream",
          "text": [
            "[Parallel(n_jobs=1)]: Done  25 out of  25 | elapsed:    3.1s finished\n",
            "[Parallel(n_jobs=1)]: Using backend SequentialBackend with 1 concurrent workers.\n"
          ],
          "name": "stderr"
        },
        {
          "output_type": "stream",
          "text": [
            "Fitting 5 folds for each of 5 candidates, totalling 25 fits\n"
          ],
          "name": "stdout"
        },
        {
          "output_type": "stream",
          "text": [
            "[Parallel(n_jobs=1)]: Done  25 out of  25 | elapsed:    3.0s finished\n",
            "[Parallel(n_jobs=1)]: Using backend SequentialBackend with 1 concurrent workers.\n"
          ],
          "name": "stderr"
        },
        {
          "output_type": "stream",
          "text": [
            "Fitting 5 folds for each of 5 candidates, totalling 25 fits\n"
          ],
          "name": "stdout"
        },
        {
          "output_type": "stream",
          "text": [
            "[Parallel(n_jobs=1)]: Done  25 out of  25 | elapsed:    3.0s finished\n",
            "[Parallel(n_jobs=1)]: Using backend SequentialBackend with 1 concurrent workers.\n"
          ],
          "name": "stderr"
        },
        {
          "output_type": "stream",
          "text": [
            "Fitting 5 folds for each of 5 candidates, totalling 25 fits\n"
          ],
          "name": "stdout"
        },
        {
          "output_type": "stream",
          "text": [
            "[Parallel(n_jobs=1)]: Done  25 out of  25 | elapsed:    3.1s finished\n"
          ],
          "name": "stderr"
        },
        {
          "output_type": "stream",
          "text": [
            "Fitting 5 folds for each of 5 candidates, totalling 25 fits\n"
          ],
          "name": "stdout"
        },
        {
          "output_type": "stream",
          "text": [
            "[Parallel(n_jobs=1)]: Using backend SequentialBackend with 1 concurrent workers.\n",
            "[Parallel(n_jobs=1)]: Done  25 out of  25 | elapsed:    3.1s finished\n",
            "[Parallel(n_jobs=1)]: Done   5 out of   5 | elapsed:   16.0s finished\n"
          ],
          "name": "stderr"
        },
        {
          "output_type": "execute_result",
          "data": {
            "text/plain": [
              "array([[0.78829091, 0.21170909],\n",
              "       [0.05449812, 0.94550188],\n",
              "       [0.49750538, 0.50249462],\n",
              "       ...,\n",
              "       [0.54399186, 0.45600814],\n",
              "       [0.10972886, 0.89027114],\n",
              "       [0.9760037 , 0.0239963 ]])"
            ]
          },
          "metadata": {
            "tags": []
          },
          "execution_count": 18
        }
      ]
    },
    {
      "cell_type": "markdown",
      "metadata": {
        "id": "ZFoW86HYFRQr"
      },
      "source": [
        "#### 1.3.c) Lasso penalized logistic regression, optimizing $L_1$ regularization strength"
      ]
    },
    {
      "cell_type": "code",
      "metadata": {
        "id": "E2VF4tZKAD_X",
        "colab": {
          "base_uri": "https://localhost:8080/"
        },
        "outputId": "dce56d9a-4a44-4ba5-f170-f8b12ca56302"
      },
      "source": [
        "# Initialize the Logistic Regression classifier and a parameter grid for the grid search\n",
        "LR = LogisticRegression(penalty = 'l1', solver = 'liblinear')\n",
        "p_grid_lr = {'C': [1000, 100, 10, 1, 0.1]}\n",
        "\n",
        "# Inner Fold - to obtain the best hyperparameters\n",
        "LR_Best_Clf = GridSearchCV(\n",
        "    estimator = LR,\n",
        "    param_grid = p_grid_lr,\n",
        "    cv = KFold(shuffle = True),\n",
        "    verbose = 1\n",
        ")\n",
        "\n",
        "LR_Best_Clf.fit(X, y)\n",
        "\n",
        "# Outer Fold - to perform cross validation based on metrics and compute the probabilities of the target\n",
        "lr_prediction_prob = cross_val_predict(\n",
        "    estimator = LR_Best_Clf,\n",
        "    X = X,\n",
        "    y = y,\n",
        "    cv = KFold(shuffle = True),\n",
        "    method = 'predict_proba', # To obtain prediction probabilities in result\n",
        "    verbose = 1\n",
        ")\n",
        "lr_prediction_prob"
      ],
      "execution_count": null,
      "outputs": [
        {
          "output_type": "stream",
          "text": [
            "Fitting 5 folds for each of 5 candidates, totalling 25 fits\n",
            "Fitting 5 folds for each of 5 candidates, totalling 25 fits\n"
          ],
          "name": "stdout"
        },
        {
          "output_type": "stream",
          "text": [
            "[Parallel(n_jobs=1)]: Using backend SequentialBackend with 1 concurrent workers.\n",
            "[Parallel(n_jobs=1)]: Done  25 out of  25 | elapsed:    0.2s finished\n",
            "[Parallel(n_jobs=1)]: Using backend SequentialBackend with 1 concurrent workers.\n",
            "[Parallel(n_jobs=1)]: Using backend SequentialBackend with 1 concurrent workers.\n",
            "[Parallel(n_jobs=1)]: Done  25 out of  25 | elapsed:    0.2s finished\n",
            "[Parallel(n_jobs=1)]: Using backend SequentialBackend with 1 concurrent workers.\n",
            "[Parallel(n_jobs=1)]: Done  25 out of  25 | elapsed:    0.2s finished\n",
            "[Parallel(n_jobs=1)]: Using backend SequentialBackend with 1 concurrent workers.\n"
          ],
          "name": "stderr"
        },
        {
          "output_type": "stream",
          "text": [
            "Fitting 5 folds for each of 5 candidates, totalling 25 fits\n",
            "Fitting 5 folds for each of 5 candidates, totalling 25 fits\n"
          ],
          "name": "stdout"
        },
        {
          "output_type": "stream",
          "text": [
            "[Parallel(n_jobs=1)]: Done  25 out of  25 | elapsed:    0.2s finished\n",
            "[Parallel(n_jobs=1)]: Using backend SequentialBackend with 1 concurrent workers.\n",
            "[Parallel(n_jobs=1)]: Done  25 out of  25 | elapsed:    0.1s finished\n",
            "[Parallel(n_jobs=1)]: Using backend SequentialBackend with 1 concurrent workers.\n"
          ],
          "name": "stderr"
        },
        {
          "output_type": "stream",
          "text": [
            "Fitting 5 folds for each of 5 candidates, totalling 25 fits\n",
            "Fitting 5 folds for each of 5 candidates, totalling 25 fits\n"
          ],
          "name": "stdout"
        },
        {
          "output_type": "stream",
          "text": [
            "[Parallel(n_jobs=1)]: Done  25 out of  25 | elapsed:    0.2s finished\n",
            "[Parallel(n_jobs=1)]: Done   5 out of   5 | elapsed:    0.8s finished\n"
          ],
          "name": "stderr"
        },
        {
          "output_type": "execute_result",
          "data": {
            "text/plain": [
              "array([[0.92331682, 0.07668318],\n",
              "       [0.07173476, 0.92826524],\n",
              "       [0.41955762, 0.58044238],\n",
              "       ...,\n",
              "       [0.44867269, 0.55132731],\n",
              "       [0.32413817, 0.67586183],\n",
              "       [0.87865206, 0.12134794]])"
            ]
          },
          "metadata": {
            "tags": []
          },
          "execution_count": 19
        }
      ]
    },
    {
      "cell_type": "code",
      "metadata": {
        "id": "l8u4nd5FAH8d"
      },
      "source": [
        "# Converting computed prediction probabilities to dataframes\n",
        "lr_prob_result = pd.DataFrame(lr_prediction_prob, columns = ['0', '1'])\n",
        "gb_prob_result = pd.DataFrame(gb_prediction_prob, columns = ['0', '1'])\n",
        "rf_prob_result = pd.DataFrame(random_forest_prediction_prob, columns = ['0', '1'])"
      ],
      "execution_count": null,
      "outputs": []
    },
    {
      "cell_type": "markdown",
      "metadata": {
        "id": "CTrbd1slCDb7"
      },
      "source": [
        "(Using a large parameter grid results in an extended computation time. We advise using a maximum of *five* values per hyperparameter)"
      ]
    },
    {
      "cell_type": "markdown",
      "metadata": {
        "id": "NExXYSYPFL78"
      },
      "source": [
        "#### 1.4. Inform yourself about **calibration curves** (reliability diagrams). Use the predicted probabilities of each model from 3) to plot a calibration curve, then explain your results."
      ]
    },
    {
      "cell_type": "code",
      "metadata": {
        "id": "Hl0oasQ2AMD2",
        "colab": {
          "base_uri": "https://localhost:8080/",
          "height": 295
        },
        "outputId": "e88963a2-249e-4f7a-acb5-c143ab39e74e"
      },
      "source": [
        "# Compute fraction of positives and the mean predicted value for plotting\n",
        "fraction_of_positives_rf, mean_predicted_value_rf = calibration_curve(y, rf_prob_result['1'], n_bins = 10)\n",
        "fraction_of_positives_lr, mean_predicted_value_lr = calibration_curve(y, lr_prob_result['1'], n_bins = 10)\n",
        "fraction_of_positives_gb, mean_predicted_value_gb = calibration_curve(y, gb_prob_result['1'], n_bins = 10)\n",
        "\n",
        "plt.plot(mean_predicted_value_gb, fraction_of_positives_gb, marker = '.', label = 'Gradient Boosting')\n",
        "plt.plot(mean_predicted_value_rf, fraction_of_positives_rf, marker = '.', label = 'Random Forest')\n",
        "plt.plot(mean_predicted_value_lr, fraction_of_positives_lr, marker = '.', label = 'Logistic Regression')\n",
        "plt.plot([0,1], [0,1], linestyle = '--',label = 'Perfectly Calibrated')\n",
        "\n",
        "plt.xlabel('Mean Predicted Value')\n",
        "plt.ylabel('Fraction of positives')\n",
        "plt.title('Reliability Curves')\n",
        "plt.legend()\n",
        "plt.show()"
      ],
      "execution_count": null,
      "outputs": [
        {
          "output_type": "display_data",
          "data": {
            "image/png": "[encoded data removed]",
            "text/plain": [
              "<Figure size 432x288 with 1 Axes>"
            ]
          },
          "metadata": {
            "tags": [],
            "needs_background": "light"
          }
        }
      ]
    },
    {
      "cell_type": "markdown",
      "metadata": {
        "id": "28Eku42XAUlZ"
      },
      "source": [
        "Calibration diagrams show how the predicted probabilities of the model are well calibrated  with respect to the true distribution of the class in data. The closer the plot is to the main diagonal, the better calibrated are the probabilities of the model. If the curve is below the main diagonal, the model has *overforcast* (the probabilities are too large). On the other hand, if the curve is above the main diagonal, the model has *underforcast* (the probabilities are too small).\n",
        "\n",
        "\n",
        "**Inference from Calibration Curves:** \n",
        "The GB model and the Logistic Regression are the most calibrated. In the plot, their predicted probabilities almost overlap with the main diagonal for some mean predicted values. \n",
        "RF overforcasts and underforcasts the most between the mean predicted value of $0.6$ and $0.8$. None of the models show very poor performance. This can be because we performed nested cross validation before reporting the results. All the plots are close to the perfect calibration line."
      ]
    },
    {
      "cell_type": "markdown",
      "metadata": {
        "id": "9v3MrpiqElLz"
      },
      "source": [
        "---\n",
        "### Exercise 2 - Machine Learning"
      ]
    },
    {
      "cell_type": "markdown",
      "metadata": {
        "id": "AsbQAaMbY7q1"
      },
      "source": [
        "#### 2.1. Suppose there is a Multi-Layer Perceptron (MLP) composed of one input layer with *eight* neurons, followed by one hidden layer with *30* artificial neurons, and one output layer with *three* artificial neurons. All artificial neurons use the ReLU activation function."
      ]
    },
    {
      "cell_type": "markdown",
      "metadata": {
        "id": "EjUHF7RUE3Cp"
      },
      "source": [
        "##### 2.1.a) Deduce the shape of input matrix $X$, hidden layer’s weight vector $W_h$, bias vector $b_h$ and the shape of the network’s output matrix $Y$."
      ]
    },
    {
      "cell_type": "markdown",
      "metadata": {
        "id": "BIvBLUd4Tq8Z"
      },
      "source": [
        "If we suppose each $x_i$ has n features then: $X.shape = (n, 8)$ and $W_h.shape = (30,8)$ <br>\n",
        "So the shape of the term $XW_h^T$ will be $(n, 30)$ and it should be the same for $b_h^T \\Longrightarrow b_h.shape = (30, n)$<br>\n",
        "$H$ have the shape $(n, 30)$ and $W_o.shape = (3, 30)$ so the shape of the term $HW_o^T$ will be $(n, 3)$ and it should be the same for $b_o^T \\Longrightarrow b_o.shape = (3, n) \\Longrightarrow Y.shape = (n,3)$<br>\n"
      ]
    },
    {
      "cell_type": "markdown",
      "metadata": {
        "id": "oY1tnymZFBbW"
      },
      "source": [
        "##### 2.1.b) Write the equation that computes the network’s output matrix $Y$ as a function of $X$, $W_h$, $b_h$, $W_o$ and $b_o$."
      ]
    },
    {
      "cell_type": "markdown",
      "metadata": {
        "id": "CIxEwTAhbDit"
      },
      "source": [
        "activation function: $ReLU(X) =$ [ $max(0,x_i)$ for $x_i$ in $X$ ] <br>\n",
        "$H = XW_h^T + b_h^T$ <br> $out_H = ReLU(H)$ <br>\n",
        "$Y = out_HW_o^T + b_o^T$ <br> $out_Y = ReLU(Y)$ <br>\n",
        "$\\Longrightarrow out_Y = ReLU((ReLU(XW_h^T + b_h^T)) W_o^T + b_o^T)$"
      ]
    },
    {
      "cell_type": "markdown",
      "metadata": {
        "id": "L6uiZwAlCnlr"
      },
      "source": [
        "#### 2.2. What are principle and unavoidable limitations of the backpropagation (BP)?"
      ]
    },
    {
      "cell_type": "markdown",
      "metadata": {
        "id": "pOesRBz6Jz_A"
      },
      "source": [
        "- **Local Minima Problem:** If local minima are present along with global minima in the synaptic weight space, BP algorithm will get trapped in the local minima. Since in this situation, every small change in synaptic weights will increase the cost function.\n",
        "\n",
        "\n",
        "- **Slow Convergence:** The BP algorithm uses an instantaneous estimate for the gradient of the error-surface in weight space. Due to this stochastic nature of the algorithm, it tends to converge slowly. If the error surface along a weight dimension is flat, the gradient will be small resulting in small updates to the weights. Hence the algorithm will have to undergo a large no. of iterations. In the opposite scenario, if the error surface is curved, the magnitude of gradient will be large causing larger weigth updates and the algorithm might overshoot the minimum of the error surface.\n",
        "\n",
        "\n",
        "- **Scaling:** It does not scale well to large problems."
      ]
    },
    {
      "cell_type": "markdown",
      "metadata": {
        "id": "UswnbGnvFDY5"
      },
      "source": [
        "#### 2.3. The shown figure is a *three* layer neural network"
      ]
    },
    {
      "cell_type": "markdown",
      "metadata": {
        "id": "v_o6m1LbBWyv"
      },
      "source": [
        "##### 2.3.a) Compute $h_1$, $h_2$, $o_1$, and the total error using ReLU units. \n",
        "\n",
        "*Note*: $b_1$, $b_2$ and $b_3$ represent the biases added to their respective units."
      ]
    },
    {
      "cell_type": "markdown",
      "metadata": {
        "id": "MEH0wipMxzc5"
      },
      "source": [
        "$h_1 = i_1 \\times w_1 + i_2 \\times w_2 + b_1 = 0.5 \\times 0.15 + 0.8 \\times 0.2 + 0.4  = 0.635$<br>\n",
        "$out_{h_1} = ReLU(h_1) = max(0.635, 0) = 0.635$ <br>\n",
        "$h_2 = i_1 \\times w_3 + i_2 \\times w_4 + b_2 = 0.5 \\times 0.25 + 0.8 \\times 0.3 + 0.3 = 0.665$<br>\n",
        "$out_{h_2} = ReLU(h_2) = max(0.665, 0) = 0.665$ <br>\n",
        "$o_1 = out_{h_1} \\times w_5 + out_{h_2} \\times w_6 + b_3 = 0.635 \\times 0.4 + 0.665 \\times 0.55 + 0.6 = 1.21975$\n",
        "$out_{o_1} = ReLU(o_1) = max(1.21975, 0) = 1.21975$ <br>\n",
        "$Error_{total} = Error_1 = \\frac{1}{2}(1 - 1.21975)^2 = 0.024145031249999976$"
      ]
    },
    {
      "cell_type": "markdown",
      "metadata": {
        "id": "BU705EzJBeP4"
      },
      "source": [
        "##### 2.3.b) Calculate the updates of the network weights $w_1, \\dots , w_6$ and bias terms $b_1$, $b_2$, $b_3$ using backpropagation. Assume a learning rate of $1$ for the sake of simplicity. \n",
        "\n",
        "*Note*: Remember that a bias term is equivalent to a weighted constant input 1."
      ]
    },
    {
      "cell_type": "markdown",
      "metadata": {
        "id": "hVZHOG2JYQlU"
      },
      "source": [
        "Learning rate: $\\gamma = 1$<br><br>\n",
        "$Error_{total} = \\frac{1}{2}(T_1 - out_{o_1})^2$ <br><br>\n",
        "$ReLU(x) = \\begin{cases} x & \\text{if } x \\geq 0\\\\ 0 & \\text{if }x \\lt 0\\end{cases}$ <br>\n",
        "$\\lim_{h \\to 0^+} \\dfrac{f(h) - f(0)}{h} = \\lim_{h\\to 0^+} \\dfrac{h}{h} = 1$<br>\n",
        "$\\lim_{h \\to 0^-} \\dfrac{f(h) - f(0)}{h} = 0$<br>\n",
        "$ReLU^{\\prime}(x) = \\begin{cases} 1 & \\text{if } x \\geq 0\\\\ 0 & \\text{if }x \\lt 0\\end{cases}$<br><br><br>\n",
        "\n",
        "**Error at** $\\pmb{w_6}$: $\\frac{\\partial E_{total}}{\\partial w_6} = \n",
        "\\frac{\\partial E_{total}}{\\partial out_{o_1}} \\times \n",
        "\\frac{\\partial out_{o_1}}{\\partial o_1} \\times \n",
        "\\frac{\\partial o_1}{\\partial w_6} $\n",
        "\n",
        "\n",
        "$\\frac{\\partial E_{total}}{\\partial out_{o_1}} = 2 \\times \\frac{1}{2}(T_1 - out_{o_1}) (-1) = -T_1 + out_{o_1} = -1+1.21975 = 0.21975$\n",
        "\n",
        "\n",
        "\n",
        "$\\frac{\\partial out_{o_1}}{\\partial o_1} = 1$\n",
        "\n",
        "$\\frac{\\partial o_1}{\\partial w_6} = 1 \\times out_{h_2} = 0.665$\n",
        "\n",
        "$\\Longrightarrow \\frac{\\partial E_{total}}{\\partial w_6} = 0.21975 \\times 1 \\times 0.665 = 0.14613375$<br>\n",
        "**updating** $\\pmb{w_6}: w_6 = w_6-\\gamma \\times \\frac{\\partial E_{total}}{\\partial w_6} = 0.55 - 1 \\times 0.14613375 = 0.40386625$<br><br>\n",
        "\n",
        "**Error at** $\\pmb{w_5}$: $\\frac{\\partial E_{total}}{\\partial w_5} = \n",
        "\\frac{\\partial E_{total}}{\\partial out_{o_1}} \\times \n",
        "\\frac{\\partial out_{o_1}}{\\partial o_1} \\times \n",
        "\\frac{\\partial o_1}{\\partial w_5} $<br>\n",
        "\n",
        "$\\frac{\\partial E_{total}}{\\partial out_{o_1}} = 0.21975$<br>\n",
        "$\\frac{\\partial out_{o_1}}{\\partial o_1} = 1$<br>\n",
        "$\\frac{\\partial o_1}{\\partial w_5} = 1 \\times out_{h_1} = 0.635$\n",
        "\n",
        "$\\Longrightarrow \\frac{\\partial E_{total}}{\\partial w_5} = 0.21975 \\times 1 \\times 0.635 = 0.13954125$<br>\n",
        "**updating** $\\pmb{w_5}: w_5 = w_5-\\gamma \\times \\frac{\\partial E_{total}}{\\partial w_5} = 0.4 - 1 \\times 0.13954125 = 0.26045875$<br><br>\n",
        "\n",
        "**Error at** $\\pmb{w_4}$: $\\frac{\\partial E_{total}}{\\partial w_4} = \n",
        "\\frac{\\partial E_{total}}{\\partial out_{o_1}} \\times \\frac{\\partial out_{o_1}}{\\partial o_1} \\times \n",
        "\\frac{\\partial o_1}{\\partial out_{h_2}} \\times \n",
        "\\frac{\\partial out_{h_2}}{\\partial h_2} \\times \n",
        "\\frac{\\partial h_2}{\\partial w_4} $\n",
        "\n",
        "$\\frac{\\partial E_{total}}{\\partial out_{o_1}} = 0.21975$<br>\n",
        "$\\frac{\\partial out_{o_1}}{\\partial o_1} = 1$<br>\n",
        "$\\frac{\\partial o_1}{\\partial out_{h_2}} = 1 \\times w_6 = 0.55$<br>\n",
        "$\\frac{\\partial out_{h_2}}{\\partial h_2} = 1$<br>\n",
        "$\\frac{\\partial h_2}{\\partial w_4} = 1 \\times i_2 = 0.8$\n",
        "\n",
        "$\\Longrightarrow \\frac{\\partial E_{total}}{\\partial w_4} = 0.21975 \\times 1 \\times 0.55 \\times 1 \\times 0.8 = 0.09669$<br>\n",
        "**updating** $\\pmb{w_4}: w_4 = w_4-\\gamma \\times \\frac{\\partial E_{total}}{\\partial w_4} = 0.3 - 1 \\times 0.09669 = 0.20331$<br><br>\n",
        "\n",
        "**Error at** $\\pmb{w_3}$: $\\frac{\\partial E_{total}}{\\partial w_3} = \n",
        "\\frac{\\partial E_{total}}{\\partial out_{o_1}} \\times \\frac{\\partial out_{o_1}}{\\partial o_1} \\times \n",
        "\\frac{\\partial o_1}{\\partial out_{h_2}} \\times \n",
        "\\frac{\\partial out_{h_2}}{\\partial h_2} \\times \n",
        "\\frac{\\partial h_2}{\\partial w_3} $\n",
        "\n",
        "$\\frac{\\partial E_{total}}{\\partial out_{o_1}} = 0.21975$<br>\n",
        "$\\frac{\\partial out_{o_1}}{\\partial o_1} = 1$<br>\n",
        "$\\frac{\\partial o_1}{\\partial out_{h_2}} = 0.55$<br>\n",
        "$\\frac{\\partial out_{h_2}}{\\partial h_2} = 1$<br>\n",
        "$\\frac{\\partial h_2}{\\partial w_3} = 1 \\times i_1 = 0.5$\n",
        "\n",
        "$\\Longrightarrow \\frac{\\partial E_{total}}{\\partial w_4} = 0.21975 \\times 1 \\times 0.55 \\times 1 \\times 0.5 = 0.06043125$<br>\n",
        "**updating** $\\pmb{w_3}: w_3 = w_3-\\gamma \\times \\frac{\\partial E_{total}}{\\partial w_3} = 0.25 - 1 \\times 0.06043125 = 0.18956875$<br><br>\n",
        "\n",
        "**Error at** $\\pmb{w_2}$: $\\frac{\\partial E_{total}}{\\partial w_2} = \n",
        "\\frac{\\partial E_{total}}{\\partial out_{o_1}} \\times \\frac{\\partial out_{o_1}}{\\partial o_1} \\times \n",
        "\\frac{\\partial o_1}{\\partial out_{h_1}} \\times \n",
        "\\frac{\\partial out_{h_1}}{\\partial h_1} \\times \n",
        "\\frac{\\partial h_1}{\\partial w_2} $\n",
        "\n",
        "$\\frac{\\partial E_{total}}{\\partial out_{o_1}} = 0.21975$<br>\n",
        "$\\frac{\\partial out_{o_1}}{\\partial o_1} = 1$<br>\n",
        "$\\frac{\\partial o_1}{\\partial out_{h_1}} = 1 \\times w_5 = 0.4$<br>\n",
        "$\\frac{\\partial out_{h_1}}{\\partial h_1} = 1$<br>\n",
        "$\\frac{\\partial h_1}{\\partial w_2} = 1 \\times i_2 = 0.8$\n",
        "\n",
        "$\\Longrightarrow \\frac{\\partial E_{total}}{\\partial w_2} = 0.21975 \\times 1 \\times 0.4 \\times 1 \\times 0.8 = 0.07032$<br>\n",
        "**updating** $\\pmb{w_2}: w_2 = w_2-\\gamma \\times \\frac{\\partial E_{total}}{\\partial w_2} = 0.2 - 1 \\times 0.07032 = 0.12968$<br><br>\n",
        "\n",
        "**Error at** $\\pmb{w_1}$: $\\frac{\\partial E_{total}}{\\partial w_1} = \n",
        "\\frac{\\partial E_{total}}{\\partial out_{o_1}} \\times \\frac{\\partial out_{o_1}}{\\partial o_1} \\times \n",
        "\\frac{\\partial o_1}{\\partial out_{h_1}} \\times \n",
        "\\frac{\\partial out_{h_1}}{\\partial h_1} \\times \n",
        "\\frac{\\partial h_1}{\\partial w_1} $\n",
        "\n",
        "$\\frac{\\partial E_{total}}{\\partial out_{o_1}} = 0.21975$<br>\n",
        "$\\frac{\\partial out_{o_1}}{\\partial o_1} = 1$<br>\n",
        "$\\frac{\\partial o_1}{\\partial out_{h_1}} = 1 \\times w_5 = 0.4$<br>\n",
        "$\\frac{\\partial out_{h_1}}{\\partial h_1} = 1$<br>\n",
        "$\\frac{\\partial h_1}{\\partial w_1} = 1 \\times i_1 = 0.5$\n",
        "\n",
        "$\\Longrightarrow \\frac{\\partial E_{total}}{\\partial w_1} = 0.21975 \\times 1 \\times 0.4 \\times 1 \\times 0.5 = 0.04395$<br>\n",
        "**updating** $\\pmb{w_1}: w_1 = w_1-\\gamma \\times \\frac{\\partial E_{total}}{\\partial w_1} = 0.15 - 1 \\times 0.04395 = 0.10605$<br><br>\n",
        "\n",
        "**Error at** $\\pmb{b_3}$: $\\frac{\\partial E_{total}}{\\partial b_3} = \n",
        "\\frac{\\partial E_{total}}{\\partial out_{o_1}} \\times \n",
        "\\frac{\\partial out_{o_1}}{\\partial o_1} \\times \n",
        "\\frac{\\partial o_1}{\\partial b_3} $<br>\n",
        "\n",
        "$\\frac{\\partial E_{total}}{\\partial out_{o_1}} = 0.21975$<br>\n",
        "$\\frac{\\partial out_{o_1}}{\\partial o_1} = 1$<br>\n",
        "$\\frac{\\partial o_1}{\\partial b_3} = 1$\n",
        "\n",
        "$\\Longrightarrow \\frac{\\partial E_{total}}{\\partial b_3} = 0.21975 \\times 1 \\times 1 = 0.21975$<br>\n",
        "**updating** $\\pmb{b_3}: b_3 = b_3-\\gamma \\times \\frac{\\partial E_{total}}{\\partial b_3} = 0.6 - 1 \\times 0.21975 = 0.38025$<br><br>\n",
        "\n",
        "**Error at** $\\pmb{b_2}$: $\\frac{\\partial E_{total}}{\\partial b_2} = \n",
        "\\frac{\\partial E_{total}}{\\partial out_{o_1}} \\times \\frac{\\partial out_{o_1}}{\\partial o_1} \\times \n",
        "\\frac{\\partial o_1}{\\partial out_{h_2}} \\times \n",
        "\\frac{\\partial out_{h_2}}{\\partial h_2} \\times \n",
        "\\frac{\\partial h_2}{\\partial b_2} $\n",
        "\n",
        "$\\frac{\\partial E_{total}}{\\partial out_{o_1}} = 0.21975$<br>\n",
        "$\\frac{\\partial out_{o_1}}{\\partial o_1} = 1$<br>\n",
        "$\\frac{\\partial o_1}{\\partial out_{h_2}} = 0.55$<br>\n",
        "$\\frac{\\partial out_{h_2}}{\\partial h_2} = 1$<br>\n",
        "$\\frac{\\partial h_2}{\\partial b_2} = 1$\n",
        "\n",
        "$\\Longrightarrow \\frac{\\partial E_{total}}{\\partial b_2} = 0.21975 \\times 1 \\times 0.55 \\times 1 \\times 1 = 0.1208625$<br>\n",
        "**updating** $\\pmb{b_2}: b_2 = b_2-\\gamma \\times \\frac{\\partial E_{total}}{\\partial b_2} = 0.3 - 1 \\times 0.1208625 = 0.1791375$<br><br>\n",
        "\n",
        "**Error at** $\\pmb{b_1}$: $\\frac{\\partial E_{total}}{\\partial b_1} = \n",
        "\\frac{\\partial E_{total}}{\\partial out_{o_1}} \\times \\frac{\\partial out_{o_1}}{\\partial o_1} \\times \n",
        "\\frac{\\partial o_1}{\\partial out_{h_1}} \\times \n",
        "\\frac{\\partial out_{h_1}}{\\partial h_1} \\times \n",
        "\\frac{\\partial h_1}{\\partial b_1} $\n",
        "\n",
        "$\\frac{\\partial E_{total}}{\\partial out_{o_1}} = 0.21975$<br>\n",
        "$\\frac{\\partial out_{o_1}}{\\partial o_1} = 1$<br>\n",
        "$\\frac{\\partial o_1}{\\partial out_{h_1}} = 1 \\times w_5 = 0.4$<br>\n",
        "$\\frac{\\partial out_{h_1}}{\\partial h_1} = 1$<br>\n",
        "$\\frac{\\partial h_1}{\\partial w_1} = 1$\n",
        "\n",
        "$\\Longrightarrow \\frac{\\partial E_{total}}{\\partial b_1} = 0.21975 \\times 1 \\times 0.4 \\times 1 \\times 1 = 0.0879$<br>\n",
        "**updating** $\\pmb{b_1}: b_1 = b_1-\\gamma \\times \\frac{\\partial E_{total}}{\\partial b_1} = 0.4 - 1 \\times 0.0879 = 0.3121$<br><br>"
      ]
    },
    {
      "cell_type": "code",
      "metadata": {
        "colab": {
          "base_uri": "https://localhost:8080/"
        },
        "id": "gBabTHc7_3Qp",
        "outputId": "52c0849d-1a1a-47b9-87dc-2e76eebe232b"
      },
      "source": [
        "!wget[](https://raw.githubusercontent.com/FabriceBeaumont/4216_Biomedical_DS_and_AI/main/Sheet8/sheet8_NN_sketch.png)"
      ],
      "execution_count": null,
      "outputs": [
        {
          "output_type": "stream",
          "text": [
            "/bin/bash: -c: line 0: syntax error near unexpected token `https://raw.githubusercontent.com/FabriceBeaumont/4216_Biomedical_DS_and_AI/main/Sheet8/sheet8_NN_sketch.png'\n",
            "/bin/bash: -c: line 0: `wget[](https://raw.githubusercontent.com/FabriceBeaumont/4216_Biomedical_DS_and_AI/main/Sheet8/sheet8_NN_sketch.png)'\n"
          ],
          "name": "stdout"
        }
      ]
    },
    {
      "cell_type": "markdown",
      "metadata": {
        "id": "VtFd0JZPDVK4"
      },
      "source": [
        "With:\n",
        "- $i_1 = 0.5$, $i_2 = 0.8$\n",
        "- $w_1 = 0.15$, $w_2 = 0.2$, $w_3 = 0.25$, $w_4 = 0.3$, $w_5 = 0.4$, $w_6 = 0.55$\n",
        "- $b_1 = 0.4$, $w_3 = 0.6$\n",
        "\n",
        "And the activation function for $h_1$ and $h_2$ is the ReLU. The expected outputis $1$."
      ]
    },
    {
      "cell_type": "markdown",
      "metadata": {
        "id": "aulNH2BmC5KU"
      },
      "source": [
        "---\n",
        "### Exercise 3- NN Programming"
      ]
    },
    {
      "cell_type": "markdown",
      "metadata": {
        "id": "MXYQj-xFD0-5"
      },
      "source": [
        "#### 3.1. Familiarize yourself with **tensorflow** and train a neural network with *two* hidden layers ($10$ and $8$ units respectively) and predict the label feature using the `titanic_survival_dataset.csv` dataset.\n"
      ]
    },
    {
      "cell_type": "markdown",
      "metadata": {
        "id": "PmrdJKSXD5sR"
      },
      "source": [
        "#### 3.2. Evaluate the performance of the neural network for the same dataset in a nested cross validation by optimizing the number of units in the second hidden layer in the inner cross validation. "
      ]
    },
    {
      "cell_type": "markdown",
      "metadata": {
        "id": "fqZp3FIBD7P_"
      },
      "source": [
        "#### 3.3. How does the neural network perform in comparison to the models in the calibration curve from the previous task and plot the results alongside the other models in the calibration plot?"
      ]
    },
    {
      "cell_type": "code",
      "metadata": {
        "id": "2yx8o12VEMOg"
      },
      "source": [
        ""
      ],
      "execution_count": null,
      "outputs": []
    }
  ]
}