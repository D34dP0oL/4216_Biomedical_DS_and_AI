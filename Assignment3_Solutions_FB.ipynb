{
  "nbformat": 4,
  "nbformat_minor": 0,
  "metadata": {
    "kernelspec": {
      "display_name": "Python 3",
      "language": "python",
      "name": "python3"
    },
    "language_info": {
      "codemirror_mode": {
        "name": "ipython",
        "version": 3
      },
      "file_extension": ".py",
      "mimetype": "text/x-python",
      "name": "python",
      "nbconvert_exporter": "python",
      "pygments_lexer": "ipython3",
      "version": "3.7.7"
    },
    "colab": {
      "name": "Assignment3_Solutions_FB.ipynb",
      "provenance": [],
      "collapsed_sections": [
        "-fhYMe5ml7xo",
        "JN3egxQomuP8",
        "wlJUEarCm1m_",
        "DSMfw49om1XF",
        "EWaHzsHEm0gm",
        "tqD5sFn9nKt6",
        "kltDaoYgnP8w",
        "GNYuBGE6l7xz",
        "V7VlH2yTvXnA",
        "WgXrlr5Sv2cL",
        "vAP3M5I6wRPC",
        "C-cN5YV8wS44",
        "OiCxQdDRwUpw",
        "vl6_LuFLwWUx",
        "FE8B6jmKxktN"
      ],
      "include_colab_link": true
    }
  },
  "cells": [
    {
      "cell_type": "markdown",
      "metadata": {
        "id": "view-in-github",
        "colab_type": "text"
      },
      "source": [
        "<a href=\"https://colab.research.google.com/github/D34dP0oL/4216_Biomedical_DS_and_AI/blob/main/Assignment3_Solutions_FB.ipynb\" target=\"_parent\"><img src=\"https://colab.research.google.com/assets/colab-badge.svg\" alt=\"Open In Colab\"/></a>"
      ]
    },
    {
      "cell_type": "code",
      "metadata": {
        "id": "-UnHoHsFop-8"
      },
      "source": [
        "import numpy as np\n",
        "import math\n",
        "from scipy.stats import poisson, sem, poisson, ttest_ind, shapiro, mannwhitneyu\n",
        "import pandas as pd\n",
        "from sklearn import linear_model \n",
        "import statsmodels.formula.api as sm\n",
        "\n",
        "import matplotlib.pyplot as plt\n",
        "from IPython.display import display, HTML"
      ],
      "execution_count": null,
      "outputs": []
    },
    {
      "cell_type": "markdown",
      "metadata": {
        "id": "Lx0G72bGl7xc"
      },
      "source": [
        "## Biomedical Data Science & AI\n",
        "\n",
        "## Assignment 3\n",
        "\n",
        "#### Group members:  Fabrice Beaumont, Fatemeh Salehi, Genivika Mann, Helia Salimi, Jonah"
      ]
    },
    {
      "cell_type": "markdown",
      "metadata": {
        "id": "-fhYMe5ml7xo"
      },
      "source": [
        "---\n",
        "### Exercise 1 - Probability\n",
        "The amount of wine bottles sold in a shop follows a Poisson distribution with *180*\n",
        "bottles per week (6 days). If $C$ is the **random variable for bottles per day**, how is:"
      ]
    },
    {
      "cell_type": "markdown",
      "metadata": {
        "id": "JN3egxQomuP8"
      },
      "source": [
        "#### 1.1. The probability that the shop will only sell 20 bottles per day?"
      ]
    },
    {
      "cell_type": "markdown",
      "metadata": {
        "id": "Mk1azku9mp1v"
      },
      "source": [
        "The probability distribution of a Poisson random variable $X$ (here amount of sold wine bottles over time) is given by\n",
        "$$ \\mathbb{P}[X=x] = \\frac{e^{-\\mu} \\mu^x}{x!} $$\n",
        "\n",
        "\n",
        "The given setting gives the following means: $\\mu_{\\text{week}} = 180 \\ \\implies \\ \\mu_{\\text{day}} = 180/6 = 30$. \n",
        "\n",
        "Thus the probability to sell $20$ bottles per day is:\n",
        "\n",
        "$\\begin{aligned} \\mathbb{P}[X=20| \\mu_{\\text{day}}=30 ] &= \\frac{e^{-\\mu_{\\text{day}}} \\mu_{\\text{day}}^{20}}{20!}\\\\\n",
        "&= \\frac{e^{-30} 30^{20}}{20!} \\qquad \\approx 1.34\\ \\%\n",
        "\\end{aligned}$\n"
      ]
    },
    {
      "cell_type": "code",
      "metadata": {
        "colab": {
          "base_uri": "https://localhost:8080/"
        },
        "id": "J_iVeqkb6uJg",
        "outputId": "528b496d-6b9c-4df3-dd06-f218b0d7d9c7"
      },
      "source": [
        "tmp1 = poisson.pmf(20, 30)\n",
        "print( f\"P[X=20] = {tmp1} ~ {tmp1*100:.2f}%\" )\n",
        "print(f\"\\n(Direct computation yields almost the same result: {((30**20)*np.e**(-30))/math.factorial(20)})\")"
      ],
      "execution_count": null,
      "outputs": [
        {
          "output_type": "stream",
          "text": [
            "P[X=20] = 0.013411150012837837 ~ 1.34%\n",
            "\n",
            "(Direct computation yields almost the same result: 0.01341115001283781)\n"
          ],
          "name": "stdout"
        }
      ]
    },
    {
      "cell_type": "code",
      "metadata": {
        "id": "MMWBoY0vLwe1"
      },
      "source": [
        "### QUESTION: Why does this computation lead to a different solution?\n",
        "# print(f\"{np.exp(-30)* np.power(30, 20) / math.factorial(20)}\")\n",
        "# -1.6755778325549218e-13"
      ],
      "execution_count": null,
      "outputs": []
    },
    {
      "cell_type": "markdown",
      "metadata": {
        "id": "wlJUEarCm1m_"
      },
      "source": [
        "#### 1.2. The probability that the demand is more than average for a particular day?"
      ]
    },
    {
      "cell_type": "markdown",
      "metadata": {
        "id": "cDaDLh2urlyU"
      },
      "source": [
        "We assume the demand is equal to the number of sold bottles. Since $\\mu_{\\text{day}}$ is the expected/average amount of sold bottles per day, the probability to sell more than this is:\n",
        "\n",
        "$\\begin{aligned} \\mathbb{P}[X> \\mu_{\\text{day}}] = 1-\\mathbb{P}[X\\le \\mu_{\\text{day}}] &= 1-\\sum_{i=0}^{\\mu_{\\text{day}}} \\frac{e^{-\\mu_{\\text{day}}} \\mu_{\\text{day}}^{i}}{i!}\\\\\n",
        "&= 1-\\sum_{i=0}^{30} \\frac{e^{-30} 30^{i}}{i!}\\\\\n",
        "&\\approx 45.16 \\ \\%\n",
        "\\end{aligned}$\n",
        "\n",
        "We use cumulative distribution function to compute the sum:"
      ]
    },
    {
      "cell_type": "code",
      "metadata": {
        "id": "qTUgVgRtBefG",
        "colab": {
          "base_uri": "https://localhost:8080/"
        },
        "outputId": "b06de83b-152c-47af-ad6d-12d76356d612"
      },
      "source": [
        "tmp2 = 1 - poisson.cdf(30, 30)\n",
        "print( f\"P[X>30] = {tmp2} ~ {tmp2*100:.2f}%\" )"
      ],
      "execution_count": null,
      "outputs": [
        {
          "output_type": "stream",
          "text": [
            "P[X>30] = 0.45164848742208863 ~ 45.16%\n"
          ],
          "name": "stdout"
        }
      ]
    },
    {
      "cell_type": "markdown",
      "metadata": {
        "id": "DSMfw49om1XF"
      },
      "source": [
        "#### 1.3. The expected number of units per day $\\mathbb{E}[C]$?"
      ]
    },
    {
      "cell_type": "markdown",
      "metadata": {
        "id": "MkfUCT5Xt6nO"
      },
      "source": [
        "We assume again that units is equal to the number of sold bottles. The expected value (average) was needed and thus computed already in task 1.a:\n",
        "$$ \\mathbb{E}[C] = \\mu_{\\text{day}} = 30 $$"
      ]
    },
    {
      "cell_type": "markdown",
      "metadata": {
        "id": "EWaHzsHEm0gm"
      },
      "source": [
        "#### 1.4. What is $\\text{Var}[C]$?"
      ]
    },
    {
      "cell_type": "markdown",
      "metadata": {
        "id": "YGCn0bQDuj18"
      },
      "source": [
        "In Poisson distribution, the variance equals the mean:\n",
        "$$ \\text{Var}[C] = \\mathbb{E}[C] = \\mu_{\\text{day}} = 30 $$"
      ]
    },
    {
      "cell_type": "markdown",
      "metadata": {
        "id": "tqD5sFn9nKt6"
      },
      "source": [
        "#### 1.5. The standard deviation of $C$?"
      ]
    },
    {
      "cell_type": "markdown",
      "metadata": {
        "id": "5Tf7eATUu3Jn"
      },
      "source": [
        "It is:\n",
        "$$ \\sigma(C) = \\sqrt{\\mathbb{E}[C]} = \\sqrt{\\mu_{\\text{day}}} = \\sqrt{30} \\approx 5.48 $$"
      ]
    },
    {
      "cell_type": "code",
      "metadata": {
        "id": "Sallwt9xvCYZ",
        "colab": {
          "base_uri": "https://localhost:8080/"
        },
        "outputId": "d8e110dc-9b70-4160-fc63-fb37234c1278"
      },
      "source": [
        "tmp3 = np.sqrt(30)\n",
        "print( f\"Sigma(C) = {tmp3} ~ {round(tmp3,2)}\" )"
      ],
      "execution_count": null,
      "outputs": [
        {
          "output_type": "stream",
          "text": [
            "Sigma(C) = 5.477225575051661 ~ 5.48\n"
          ],
          "name": "stdout"
        }
      ]
    },
    {
      "cell_type": "markdown",
      "metadata": {
        "id": "kltDaoYgnP8w"
      },
      "source": [
        "---\n",
        "### Exercise 2 - Hypothesis testing\n",
        "This exercise illustrates a gene expression data set with its normally distributed values.\n",
        "Consider the gene expression data of the Golub dataset. Load the file `golub.csv`. \n",
        "It contains gene expression data of 3051 genes from 38 tumor mRNA samples. The expression data is organized in a matrix where rows correspond to genes and columns to samples. The tumor class of the columns is given in the file `golub.cl`. The names of the genes (rows) are given in `golub.gnames`."
      ]
    },
    {
      "cell_type": "code",
      "metadata": {
        "id": "EKzd7kMyMN9V",
        "colab": {
          "base_uri": "https://localhost:8080/"
        },
        "outputId": "b7194376-3ceb-454e-90bc-3cec2f6a3bcf"
      },
      "source": [
        "from google.colab import drive\n",
        "drive.mount('/content/drive')"
      ],
      "execution_count": null,
      "outputs": [
        {
          "output_type": "stream",
          "text": [
            "Mounted at /content/drive\n"
          ],
          "name": "stdout"
        }
      ]
    },
    {
      "cell_type": "code",
      "metadata": {
        "id": "Kp7aYzD8MQ-p",
        "colab": {
          "base_uri": "https://localhost:8080/"
        },
        "outputId": "2ccce604-5fa0-462a-aa5a-20c5b048d5e9"
      },
      "source": [
        "!ls \"/content/drive/MyDrive/Colab Notebooks/MAINF4216_Databases\""
      ],
      "execution_count": null,
      "outputs": [
        {
          "output_type": "stream",
          "text": [
            "Fish.csv  golub.cl.csv\tgolub.csv  golub.gnames.csv\n"
          ],
          "name": "stdout"
        }
      ]
    },
    {
      "cell_type": "code",
      "metadata": {
        "id": "hnSVpYLUMaso"
      },
      "source": [
        "file_path = \"/content/drive/MyDrive/Colab Notebooks/MAINF4216_Databases/\"\n",
        "db_golub_tumorClass = pd.read_csv(file_path + \"golub.cl.csv\", index_col='Unnamed: 0')\n",
        "db_golub_genes = pd.read_csv(file_path + \"golub.csv\", index_col='Unnamed: 0')\n",
        "db_golub_gnames = pd.read_csv(file_path + \"golub.gnames.csv\", index_col='Unnamed: 0')"
      ],
      "execution_count": null,
      "outputs": []
    },
    {
      "cell_type": "code",
      "metadata": {
        "id": "rfwG73VdENVR",
        "colab": {
          "base_uri": "https://localhost:8080/",
          "height": 225
        },
        "outputId": "08d58085-e80f-485b-f5ee-e08fc42db01d"
      },
      "source": [
        "nr_rows, nr_cols = db_golub_tumorClass.shape\n",
        "print( f\"The 'golub.cl.csv' dataset contains {nr_rows} rows and {nr_cols} columns.\" )\n",
        "db_golub_tumorClass.head(5)"
      ],
      "execution_count": null,
      "outputs": [
        {
          "output_type": "stream",
          "text": [
            "The 'golub.cl.csv' dataset contains 38 rows and 1 columns.\n"
          ],
          "name": "stdout"
        },
        {
          "output_type": "execute_result",
          "data": {
            "text/html": [
              "<div>\n",
              "<style scoped>\n",
              "    .dataframe tbody tr th:only-of-type {\n",
              "        vertical-align: middle;\n",
              "    }\n",
              "\n",
              "    .dataframe tbody tr th {\n",
              "        vertical-align: top;\n",
              "    }\n",
              "\n",
              "    .dataframe thead th {\n",
              "        text-align: right;\n",
              "    }\n",
              "</style>\n",
              "<table border=\"1\" class=\"dataframe\">\n",
              "  <thead>\n",
              "    <tr style=\"text-align: right;\">\n",
              "      <th></th>\n",
              "      <th>x</th>\n",
              "    </tr>\n",
              "  </thead>\n",
              "  <tbody>\n",
              "    <tr>\n",
              "      <th>1</th>\n",
              "      <td>0</td>\n",
              "    </tr>\n",
              "    <tr>\n",
              "      <th>2</th>\n",
              "      <td>0</td>\n",
              "    </tr>\n",
              "    <tr>\n",
              "      <th>3</th>\n",
              "      <td>0</td>\n",
              "    </tr>\n",
              "    <tr>\n",
              "      <th>4</th>\n",
              "      <td>0</td>\n",
              "    </tr>\n",
              "    <tr>\n",
              "      <th>5</th>\n",
              "      <td>0</td>\n",
              "    </tr>\n",
              "  </tbody>\n",
              "</table>\n",
              "</div>"
            ],
            "text/plain": [
              "   x\n",
              "1  0\n",
              "2  0\n",
              "3  0\n",
              "4  0\n",
              "5  0"
            ]
          },
          "metadata": {
            "tags": []
          },
          "execution_count": 10
        }
      ]
    },
    {
      "cell_type": "code",
      "metadata": {
        "id": "sjsOO9W0E9nb",
        "colab": {
          "base_uri": "https://localhost:8080/",
          "height": 195
        },
        "outputId": "3206dc79-7dc7-4cca-fb2e-7335c2c72c40"
      },
      "source": [
        "db_golub_genes.head(4)"
      ],
      "execution_count": null,
      "outputs": [
        {
          "output_type": "execute_result",
          "data": {
            "text/html": [
              "<div>\n",
              "<style scoped>\n",
              "    .dataframe tbody tr th:only-of-type {\n",
              "        vertical-align: middle;\n",
              "    }\n",
              "\n",
              "    .dataframe tbody tr th {\n",
              "        vertical-align: top;\n",
              "    }\n",
              "\n",
              "    .dataframe thead th {\n",
              "        text-align: right;\n",
              "    }\n",
              "</style>\n",
              "<table border=\"1\" class=\"dataframe\">\n",
              "  <thead>\n",
              "    <tr style=\"text-align: right;\">\n",
              "      <th></th>\n",
              "      <th>V1</th>\n",
              "      <th>V2</th>\n",
              "      <th>V3</th>\n",
              "      <th>V4</th>\n",
              "      <th>V5</th>\n",
              "      <th>V6</th>\n",
              "      <th>V7</th>\n",
              "      <th>V8</th>\n",
              "      <th>V9</th>\n",
              "      <th>V10</th>\n",
              "      <th>V11</th>\n",
              "      <th>V12</th>\n",
              "      <th>V13</th>\n",
              "      <th>V14</th>\n",
              "      <th>V15</th>\n",
              "      <th>V16</th>\n",
              "      <th>V17</th>\n",
              "      <th>V18</th>\n",
              "      <th>V19</th>\n",
              "      <th>V20</th>\n",
              "      <th>V21</th>\n",
              "      <th>V22</th>\n",
              "      <th>V23</th>\n",
              "      <th>V24</th>\n",
              "      <th>V25</th>\n",
              "      <th>V26</th>\n",
              "      <th>V27</th>\n",
              "      <th>V28</th>\n",
              "      <th>V29</th>\n",
              "      <th>V30</th>\n",
              "      <th>V31</th>\n",
              "      <th>V32</th>\n",
              "      <th>V33</th>\n",
              "      <th>V34</th>\n",
              "      <th>V35</th>\n",
              "      <th>V36</th>\n",
              "      <th>V37</th>\n",
              "      <th>V38</th>\n",
              "    </tr>\n",
              "  </thead>\n",
              "  <tbody>\n",
              "    <tr>\n",
              "      <th>1</th>\n",
              "      <td>-1.45769</td>\n",
              "      <td>-1.39420</td>\n",
              "      <td>-1.42779</td>\n",
              "      <td>-1.40715</td>\n",
              "      <td>-1.42668</td>\n",
              "      <td>-1.21719</td>\n",
              "      <td>-1.37386</td>\n",
              "      <td>-1.36832</td>\n",
              "      <td>-1.47649</td>\n",
              "      <td>-1.21583</td>\n",
              "      <td>-1.28137</td>\n",
              "      <td>-1.03209</td>\n",
              "      <td>-1.36149</td>\n",
              "      <td>-1.39979</td>\n",
              "      <td>0.17628</td>\n",
              "      <td>-1.40095</td>\n",
              "      <td>-1.56783</td>\n",
              "      <td>-1.20466</td>\n",
              "      <td>-1.24482</td>\n",
              "      <td>-1.60767</td>\n",
              "      <td>-1.06221</td>\n",
              "      <td>-1.12665</td>\n",
              "      <td>-1.20963</td>\n",
              "      <td>-1.48332</td>\n",
              "      <td>-1.25268</td>\n",
              "      <td>-1.27619</td>\n",
              "      <td>-1.23051</td>\n",
              "      <td>-1.43337</td>\n",
              "      <td>-1.08902</td>\n",
              "      <td>-1.29865</td>\n",
              "      <td>-1.26183</td>\n",
              "      <td>-1.44434</td>\n",
              "      <td>1.10147</td>\n",
              "      <td>-1.34158</td>\n",
              "      <td>-1.22961</td>\n",
              "      <td>-0.75919</td>\n",
              "      <td>0.84905</td>\n",
              "      <td>-0.66465</td>\n",
              "    </tr>\n",
              "    <tr>\n",
              "      <th>2</th>\n",
              "      <td>-0.75161</td>\n",
              "      <td>-1.26278</td>\n",
              "      <td>-0.09052</td>\n",
              "      <td>-0.99596</td>\n",
              "      <td>-1.24245</td>\n",
              "      <td>-0.69242</td>\n",
              "      <td>-1.37386</td>\n",
              "      <td>-0.50803</td>\n",
              "      <td>-1.04533</td>\n",
              "      <td>-0.81257</td>\n",
              "      <td>-1.28137</td>\n",
              "      <td>-1.03209</td>\n",
              "      <td>-0.74005</td>\n",
              "      <td>-0.83161</td>\n",
              "      <td>0.41200</td>\n",
              "      <td>-1.27669</td>\n",
              "      <td>-0.74370</td>\n",
              "      <td>-1.20466</td>\n",
              "      <td>-1.02380</td>\n",
              "      <td>-0.38779</td>\n",
              "      <td>-1.06221</td>\n",
              "      <td>-1.12665</td>\n",
              "      <td>-1.20963</td>\n",
              "      <td>-1.12185</td>\n",
              "      <td>-0.65264</td>\n",
              "      <td>-1.27619</td>\n",
              "      <td>-1.23051</td>\n",
              "      <td>-1.18065</td>\n",
              "      <td>-1.08902</td>\n",
              "      <td>-1.05094</td>\n",
              "      <td>-1.26183</td>\n",
              "      <td>-1.25918</td>\n",
              "      <td>0.97813</td>\n",
              "      <td>-0.79357</td>\n",
              "      <td>-1.22961</td>\n",
              "      <td>-0.71792</td>\n",
              "      <td>0.45127</td>\n",
              "      <td>-0.45804</td>\n",
              "    </tr>\n",
              "    <tr>\n",
              "      <th>3</th>\n",
              "      <td>0.45695</td>\n",
              "      <td>-0.09654</td>\n",
              "      <td>0.90325</td>\n",
              "      <td>-0.07194</td>\n",
              "      <td>0.03232</td>\n",
              "      <td>0.09713</td>\n",
              "      <td>-0.11978</td>\n",
              "      <td>0.23381</td>\n",
              "      <td>0.23987</td>\n",
              "      <td>0.44201</td>\n",
              "      <td>-0.39560</td>\n",
              "      <td>-0.62533</td>\n",
              "      <td>0.45181</td>\n",
              "      <td>1.09519</td>\n",
              "      <td>1.09318</td>\n",
              "      <td>0.34300</td>\n",
              "      <td>0.20010</td>\n",
              "      <td>0.38992</td>\n",
              "      <td>0.00641</td>\n",
              "      <td>1.10932</td>\n",
              "      <td>0.21952</td>\n",
              "      <td>-0.72267</td>\n",
              "      <td>0.51690</td>\n",
              "      <td>0.28577</td>\n",
              "      <td>0.61937</td>\n",
              "      <td>0.20085</td>\n",
              "      <td>0.29278</td>\n",
              "      <td>0.26624</td>\n",
              "      <td>-0.43377</td>\n",
              "      <td>-0.10823</td>\n",
              "      <td>-0.29385</td>\n",
              "      <td>0.05067</td>\n",
              "      <td>1.69430</td>\n",
              "      <td>-0.12472</td>\n",
              "      <td>0.04609</td>\n",
              "      <td>0.24347</td>\n",
              "      <td>0.90774</td>\n",
              "      <td>0.46509</td>\n",
              "    </tr>\n",
              "    <tr>\n",
              "      <th>4</th>\n",
              "      <td>3.13533</td>\n",
              "      <td>0.21415</td>\n",
              "      <td>2.08754</td>\n",
              "      <td>2.23467</td>\n",
              "      <td>0.93811</td>\n",
              "      <td>2.24089</td>\n",
              "      <td>3.36576</td>\n",
              "      <td>1.97859</td>\n",
              "      <td>2.66468</td>\n",
              "      <td>-1.21583</td>\n",
              "      <td>0.59110</td>\n",
              "      <td>3.26050</td>\n",
              "      <td>-1.36149</td>\n",
              "      <td>0.64180</td>\n",
              "      <td>2.32621</td>\n",
              "      <td>-1.40095</td>\n",
              "      <td>-1.56783</td>\n",
              "      <td>0.83502</td>\n",
              "      <td>-1.24482</td>\n",
              "      <td>-1.60767</td>\n",
              "      <td>-1.06221</td>\n",
              "      <td>3.69445</td>\n",
              "      <td>3.70837</td>\n",
              "      <td>-1.48332</td>\n",
              "      <td>2.36698</td>\n",
              "      <td>-1.27619</td>\n",
              "      <td>2.89604</td>\n",
              "      <td>0.71990</td>\n",
              "      <td>0.29598</td>\n",
              "      <td>-1.29865</td>\n",
              "      <td>2.76869</td>\n",
              "      <td>2.08960</td>\n",
              "      <td>0.70003</td>\n",
              "      <td>0.13854</td>\n",
              "      <td>1.75908</td>\n",
              "      <td>0.06151</td>\n",
              "      <td>1.30297</td>\n",
              "      <td>0.58186</td>\n",
              "    </tr>\n",
              "  </tbody>\n",
              "</table>\n",
              "</div>"
            ],
            "text/plain": [
              "        V1       V2       V3       V4  ...      V35      V36      V37      V38\n",
              "1 -1.45769 -1.39420 -1.42779 -1.40715  ... -1.22961 -0.75919  0.84905 -0.66465\n",
              "2 -0.75161 -1.26278 -0.09052 -0.99596  ... -1.22961 -0.71792  0.45127 -0.45804\n",
              "3  0.45695 -0.09654  0.90325 -0.07194  ...  0.04609  0.24347  0.90774  0.46509\n",
              "4  3.13533  0.21415  2.08754  2.23467  ...  1.75908  0.06151  1.30297  0.58186\n",
              "\n",
              "[4 rows x 38 columns]"
            ]
          },
          "metadata": {
            "tags": []
          },
          "execution_count": 11
        }
      ]
    },
    {
      "cell_type": "code",
      "metadata": {
        "id": "jPuAh8QuFIYv",
        "colab": {
          "base_uri": "https://localhost:8080/",
          "height": 175
        },
        "outputId": "4166abcb-b72e-4e9e-d1f4-fd7f1838ac41"
      },
      "source": [
        "db_golub_gnames.head(4)"
      ],
      "execution_count": null,
      "outputs": [
        {
          "output_type": "execute_result",
          "data": {
            "text/html": [
              "<div>\n",
              "<style scoped>\n",
              "    .dataframe tbody tr th:only-of-type {\n",
              "        vertical-align: middle;\n",
              "    }\n",
              "\n",
              "    .dataframe tbody tr th {\n",
              "        vertical-align: top;\n",
              "    }\n",
              "\n",
              "    .dataframe thead th {\n",
              "        text-align: right;\n",
              "    }\n",
              "</style>\n",
              "<table border=\"1\" class=\"dataframe\">\n",
              "  <thead>\n",
              "    <tr style=\"text-align: right;\">\n",
              "      <th></th>\n",
              "      <th>V1</th>\n",
              "      <th>V2</th>\n",
              "      <th>V3</th>\n",
              "    </tr>\n",
              "  </thead>\n",
              "  <tbody>\n",
              "    <tr>\n",
              "      <th>1</th>\n",
              "      <td>36</td>\n",
              "      <td>AFFX-HUMISGF3A/M97935_MA_at (endogenous control)</td>\n",
              "      <td>AFFX-HUMISGF3A/M97935_MA_at</td>\n",
              "    </tr>\n",
              "    <tr>\n",
              "      <th>2</th>\n",
              "      <td>37</td>\n",
              "      <td>AFFX-HUMISGF3A/M97935_MB_at (endogenous control)</td>\n",
              "      <td>AFFX-HUMISGF3A/M97935_MB_at</td>\n",
              "    </tr>\n",
              "    <tr>\n",
              "      <th>3</th>\n",
              "      <td>38</td>\n",
              "      <td>AFFX-HUMISGF3A/M97935_3_at (endogenous control)</td>\n",
              "      <td>AFFX-HUMISGF3A/M97935_3_at</td>\n",
              "    </tr>\n",
              "    <tr>\n",
              "      <th>4</th>\n",
              "      <td>39</td>\n",
              "      <td>AFFX-HUMRGE/M10098_5_at (endogenous control)</td>\n",
              "      <td>AFFX-HUMRGE/M10098_5_at</td>\n",
              "    </tr>\n",
              "  </tbody>\n",
              "</table>\n",
              "</div>"
            ],
            "text/plain": [
              "   V1  ...                           V3\n",
              "1  36  ...  AFFX-HUMISGF3A/M97935_MA_at\n",
              "2  37  ...  AFFX-HUMISGF3A/M97935_MB_at\n",
              "3  38  ...   AFFX-HUMISGF3A/M97935_3_at\n",
              "4  39  ...      AFFX-HUMRGE/M10098_5_at\n",
              "\n",
              "[4 rows x 3 columns]"
            ]
          },
          "metadata": {
            "tags": []
          },
          "execution_count": 12
        }
      ]
    },
    {
      "cell_type": "markdown",
      "metadata": {
        "id": "GNYuBGE6l7xz"
      },
      "source": [
        "#### 2.1. Calculate the sample mean of all genes $\\beta$ in the pooled expression matrix. Use these means to determine the overall mean $\\beta_0$ by just taking the average."
      ]
    },
    {
      "cell_type": "code",
      "metadata": {
        "id": "e4d-7gKPnuqg",
        "colab": {
          "base_uri": "https://localhost:8080/"
        },
        "outputId": "a3b615a0-ab64-4de0-e4ca-9047fa04275d"
      },
      "source": [
        "### Since the rows correspond to the genes (and the columns to the samples)\n",
        "### we need to take the means by iterating over the column. This is done by setting 'axis=1'\n",
        "beta_hat = db_golub_genes.mean(axis=1)\n",
        "print(\"Sample mean of all genes:\\n\", beta_hat)"
      ],
      "execution_count": null,
      "outputs": [
        {
          "output_type": "stream",
          "text": [
            "Sample mean of all genes:\n",
            " 1      -1.129013\n",
            "2      -0.846746\n",
            "3       0.260806\n",
            "4       0.949458\n",
            "5       0.475348\n",
            "          ...   \n",
            "3047    0.422469\n",
            "3048   -0.353091\n",
            "3049    0.484367\n",
            "3050   -0.366183\n",
            "3051   -0.360164\n",
            "Length: 3051, dtype: float64\n"
          ],
          "name": "stdout"
        }
      ]
    },
    {
      "cell_type": "code",
      "metadata": {
        "id": "XYaNtnNsFacJ",
        "colab": {
          "base_uri": "https://localhost:8080/"
        },
        "outputId": "b984b2c3-5e8a-4b41-d4fd-7430cf2f98fa"
      },
      "source": [
        "# overall mean of all sample means\n",
        "beta_0 = beta_hat.mean()\n",
        "print(\"Mean of all sample mean of all genes:\\n\", beta_0)"
      ],
      "execution_count": null,
      "outputs": [
        {
          "output_type": "stream",
          "text": [
            "Mean of all sample mean of all genes:\n",
            " -6.813986781078161e-09\n"
          ],
          "name": "stdout"
        }
      ]
    },
    {
      "cell_type": "markdown",
      "metadata": {
        "id": "V7VlH2yTvXnA"
      },
      "source": [
        "#### 2.2. Based on the $t$-statistic defined below obtain the $100$ most signifiant genes.\n",
        "$$ t_{\\hat{\\beta}} = \\frac{ \\hat{\\beta}-\\beta_0}{\\text{s.e.}(\\hat{\\beta})} \\quad \\frac{ \\hat{\\beta}-\\beta_0}{\\text{std.dev.}(\\hat{\\beta})}\\sqrt{\\hat{n}} $$\n",
        "[Hint: $\\hat{\\beta}$ is the sample mean of a particular gene, and $\\hat{n}$ the number of samples - here its always 38.]"
      ]
    },
    {
      "cell_type": "code",
      "metadata": {
        "id": "QBFqzFRivz7s",
        "colab": {
          "base_uri": "https://localhost:8080/",
          "height": 424
        },
        "outputId": "9066b3bc-b156-40b7-d441-5d74226a6902"
      },
      "source": [
        "# sample standard deviation\n",
        "sample_std = db_golub_genes.std( axis = 1 )\n",
        "# square root of the sample_size\n",
        "sqrt_n = math.sqrt(db_golub_genes.shape[1])\n",
        "# degree_of_freedom = sqrt_n-1\n",
        "\n",
        "# compute t-statistic for each sample\n",
        "t_statistic = np.zeros( (beta_hat.shape[0],1), dtype ='int' )\n",
        "for i in np.arange( start=1, stop = beta_hat.shape[0], step = 1):\n",
        "    # use (i+1) since indices of 'beta_hat' & 'sample_std' start from one but the index 'i' from zero\n",
        "    # t-statistic\n",
        "    t_statistic[i] = ( beta_hat[i+1] - beta_0)/(sample_std[i+1]/(sqrt_n))\n",
        " \n",
        "test_statistic_dataframe = pd.DataFrame(t_statistic)\n",
        "test_statistic_dataframe"
      ],
      "execution_count": null,
      "outputs": [
        {
          "output_type": "execute_result",
          "data": {
            "text/html": [
              "<div>\n",
              "<style scoped>\n",
              "    .dataframe tbody tr th:only-of-type {\n",
              "        vertical-align: middle;\n",
              "    }\n",
              "\n",
              "    .dataframe tbody tr th {\n",
              "        vertical-align: top;\n",
              "    }\n",
              "\n",
              "    .dataframe thead th {\n",
              "        text-align: right;\n",
              "    }\n",
              "</style>\n",
              "<table border=\"1\" class=\"dataframe\">\n",
              "  <thead>\n",
              "    <tr style=\"text-align: right;\">\n",
              "      <th></th>\n",
              "      <th>0</th>\n",
              "    </tr>\n",
              "  </thead>\n",
              "  <tbody>\n",
              "    <tr>\n",
              "      <th>0</th>\n",
              "      <td>0</td>\n",
              "    </tr>\n",
              "    <tr>\n",
              "      <th>1</th>\n",
              "      <td>-9</td>\n",
              "    </tr>\n",
              "    <tr>\n",
              "      <th>2</th>\n",
              "      <td>3</td>\n",
              "    </tr>\n",
              "    <tr>\n",
              "      <th>3</th>\n",
              "      <td>3</td>\n",
              "    </tr>\n",
              "    <tr>\n",
              "      <th>4</th>\n",
              "      <td>1</td>\n",
              "    </tr>\n",
              "    <tr>\n",
              "      <th>...</th>\n",
              "      <td>...</td>\n",
              "    </tr>\n",
              "    <tr>\n",
              "      <th>3046</th>\n",
              "      <td>8</td>\n",
              "    </tr>\n",
              "    <tr>\n",
              "      <th>3047</th>\n",
              "      <td>-3</td>\n",
              "    </tr>\n",
              "    <tr>\n",
              "      <th>3048</th>\n",
              "      <td>6</td>\n",
              "    </tr>\n",
              "    <tr>\n",
              "      <th>3049</th>\n",
              "      <td>-4</td>\n",
              "    </tr>\n",
              "    <tr>\n",
              "      <th>3050</th>\n",
              "      <td>-2</td>\n",
              "    </tr>\n",
              "  </tbody>\n",
              "</table>\n",
              "<p>3051 rows × 1 columns</p>\n",
              "</div>"
            ],
            "text/plain": [
              "      0\n",
              "0     0\n",
              "1    -9\n",
              "2     3\n",
              "3     3\n",
              "4     1\n",
              "...  ..\n",
              "3046  8\n",
              "3047 -3\n",
              "3048  6\n",
              "3049 -4\n",
              "3050 -2\n",
              "\n",
              "[3051 rows x 1 columns]"
            ]
          },
          "metadata": {
            "tags": []
          },
          "execution_count": 15
        }
      ]
    },
    {
      "cell_type": "code",
      "metadata": {
        "id": "x_e3Ja5yFtPT",
        "colab": {
          "base_uri": "https://localhost:8080/"
        },
        "outputId": "0bb63303-a924-4aab-b925-840a3d70626b"
      },
      "source": [
        "### The result is significant if alternative hypothesis is correct\n",
        "### Comparing t-score to the level of significance, alpha = 0.05.\n",
        "### t( df = 37, alpha / 2 = 0.025 ) = 2.0262\n",
        "\n",
        "### Check the significance condition\n",
        "selected_genes = test_statistic_dataframe.loc[abs(test_statistic_dataframe[0]) >= 2.0262]\n",
        "### Sort the values: The larger the t-score, more statistically significant the result\n",
        "result = selected_genes.sort_values(by=0, ascending=False) \n",
        "### Print the 100 most significant genes\n",
        "np.array(result[:100].index)"
      ],
      "execution_count": null,
      "outputs": [
        {
          "output_type": "execute_result",
          "data": {
            "text/plain": [
              "array([2029,  271, 2846, 1983, 1013,  747, 2415, 3033, 2696, 2496,  437,\n",
              "       1144, 1406, 2439,  771, 2330, 2251, 2465,   36, 2477, 3037, 2901,\n",
              "        124,  824, 3032, 2241, 2504,  968,  485, 1309, 1806, 1733, 1181,\n",
              "        734,  641, 2829, 1965, 2367, 1058,  569,  105, 1201, 2892, 2277,\n",
              "        164, 2315,  198,    8, 1740, 1526, 1388, 1620, 2862, 1464, 2848,\n",
              "       1724, 2962, 2752,  559,  175, 1282, 2495, 2049, 3004, 2651,  252,\n",
              "       2437,  884, 1754, 1494, 1970, 2446, 1599, 2364,  103, 1722, 2226,\n",
              "       2915, 2557,   89, 1275, 1887, 1369, 1993, 1812, 2783, 1863, 2835,\n",
              "       2746, 1024, 2471, 2000,  263, 1820,  127, 1889,  157, 2832, 2094,\n",
              "       1782])"
            ]
          },
          "metadata": {
            "tags": []
          },
          "execution_count": 16
        }
      ]
    },
    {
      "cell_type": "markdown",
      "metadata": {
        "id": "WgXrlr5Sv2cL"
      },
      "source": [
        "#### 2.3. Perform two sampled student $t$-tests for all genes comparing the distributions for ALL and AML."
      ]
    },
    {
      "cell_type": "code",
      "metadata": {
        "id": "TE8qXv6DwQsJ",
        "colab": {
          "base_uri": "https://localhost:8080/",
          "height": 175
        },
        "outputId": "73fa6e37-178f-4e88-c115-60e0669555d9"
      },
      "source": [
        "### Prepare ALL class dataframe\n",
        "all_sample_dataframe = db_golub_genes.loc[:][db_golub_genes.columns[0:27]]\n",
        "\n",
        "### Prepare AML class dataframe\n",
        "aml_sample_dataframe = db_golub_genes.loc[:][db_golub_genes.columns[27:]]\n",
        "\n",
        "### Create array to store t-test results for each gene\n",
        "t_test_result = np.zeros( (3051, 3) )\n",
        "\n",
        "### Perform two sampled student t-test for each gene\n",
        "for gene in np.arange( start = 1, stop = 3052, step = 1, dtype=int ):\n",
        "    a = all_sample_dataframe.loc[gene][:]\n",
        "    b = aml_sample_dataframe.loc[gene][:]\n",
        "    ### Gene index\n",
        "    t_test_result[gene-1][0] = gene\n",
        "    ### Test result \n",
        "    (t_test_result[gene-1][1], t_test_result[gene-1][2]) = ttest_ind( a, b) \n",
        "\n",
        "t_test_result_dataframe = pd.DataFrame( t_test_result, columns = ['gene', 't-statistic', 'p-value' ] )\n",
        "t_test_result_dataframe.head(4)"
      ],
      "execution_count": null,
      "outputs": [
        {
          "output_type": "execute_result",
          "data": {
            "text/html": [
              "<div>\n",
              "<style scoped>\n",
              "    .dataframe tbody tr th:only-of-type {\n",
              "        vertical-align: middle;\n",
              "    }\n",
              "\n",
              "    .dataframe tbody tr th {\n",
              "        vertical-align: top;\n",
              "    }\n",
              "\n",
              "    .dataframe thead th {\n",
              "        text-align: right;\n",
              "    }\n",
              "</style>\n",
              "<table border=\"1\" class=\"dataframe\">\n",
              "  <thead>\n",
              "    <tr style=\"text-align: right;\">\n",
              "      <th></th>\n",
              "      <th>gene</th>\n",
              "      <th>t-statistic</th>\n",
              "      <th>p-value</th>\n",
              "    </tr>\n",
              "  </thead>\n",
              "  <tbody>\n",
              "    <tr>\n",
              "      <th>0</th>\n",
              "      <td>1.0</td>\n",
              "      <td>-2.502107</td>\n",
              "      <td>0.017028</td>\n",
              "    </tr>\n",
              "    <tr>\n",
              "      <th>1</th>\n",
              "      <td>2.0</td>\n",
              "      <td>-1.156167</td>\n",
              "      <td>0.255228</td>\n",
              "    </tr>\n",
              "    <tr>\n",
              "      <th>2</th>\n",
              "      <td>3.0</td>\n",
              "      <td>0.109986</td>\n",
              "      <td>0.913031</td>\n",
              "    </tr>\n",
              "    <tr>\n",
              "      <th>3</th>\n",
              "      <td>4.0</td>\n",
              "      <td>0.272658</td>\n",
              "      <td>0.786674</td>\n",
              "    </tr>\n",
              "  </tbody>\n",
              "</table>\n",
              "</div>"
            ],
            "text/plain": [
              "   gene  t-statistic   p-value\n",
              "0   1.0    -2.502107  0.017028\n",
              "1   2.0    -1.156167  0.255228\n",
              "2   3.0     0.109986  0.913031\n",
              "3   4.0     0.272658  0.786674"
            ]
          },
          "metadata": {
            "tags": []
          },
          "execution_count": 24
        }
      ]
    },
    {
      "cell_type": "markdown",
      "metadata": {
        "id": "vAP3M5I6wRPC"
      },
      "source": [
        "#### 2.4. Based on the $p$-values obtained in 2.3., obtain the top $10$ genes with the lowest $p$-values."
      ]
    },
    {
      "cell_type": "code",
      "metadata": {
        "id": "8Nd78M8FwSTX",
        "colab": {
          "base_uri": "https://localhost:8080/",
          "height": 363
        },
        "outputId": "14bd8d6e-abf9-4134-adbe-a27f83ac5d02"
      },
      "source": [
        "result = t_test_result_dataframe.sort_values(by= 'p-value', ascending=True)\n",
        "db_golub_gnames.loc[np.array(result[:10]['gene'], dtype = int)]"
      ],
      "execution_count": null,
      "outputs": [
        {
          "output_type": "execute_result",
          "data": {
            "text/html": [
              "<div>\n",
              "<style scoped>\n",
              "    .dataframe tbody tr th:only-of-type {\n",
              "        vertical-align: middle;\n",
              "    }\n",
              "\n",
              "    .dataframe tbody tr th {\n",
              "        vertical-align: top;\n",
              "    }\n",
              "\n",
              "    .dataframe thead th {\n",
              "        text-align: right;\n",
              "    }\n",
              "</style>\n",
              "<table border=\"1\" class=\"dataframe\">\n",
              "  <thead>\n",
              "    <tr style=\"text-align: right;\">\n",
              "      <th></th>\n",
              "      <th>V1</th>\n",
              "      <th>V2</th>\n",
              "      <th>V3</th>\n",
              "    </tr>\n",
              "  </thead>\n",
              "  <tbody>\n",
              "    <tr>\n",
              "      <th>829</th>\n",
              "      <td>1882</td>\n",
              "      <td>CST3 Cystatin C (amyloid angiopathy and cerebr...</td>\n",
              "      <td>M27891_at</td>\n",
              "    </tr>\n",
              "    <tr>\n",
              "      <th>378</th>\n",
              "      <td>760</td>\n",
              "      <td>CYSTATIN A</td>\n",
              "      <td>D88422_at</td>\n",
              "    </tr>\n",
              "    <tr>\n",
              "      <th>2124</th>\n",
              "      <td>4847</td>\n",
              "      <td>Zyxin</td>\n",
              "      <td>X95735_at</td>\n",
              "    </tr>\n",
              "    <tr>\n",
              "      <th>808</th>\n",
              "      <td>1834</td>\n",
              "      <td>CD33 CD33 antigen (differentiation antigen)</td>\n",
              "      <td>M23197_at</td>\n",
              "    </tr>\n",
              "    <tr>\n",
              "      <th>2489</th>\n",
              "      <td>5772</td>\n",
              "      <td>C-myb gene extracted from Human (c-myb) gene, ...</td>\n",
              "      <td>U22376_cds2_s_at</td>\n",
              "    </tr>\n",
              "    <tr>\n",
              "      <th>394</th>\n",
              "      <td>804</td>\n",
              "      <td>Macmarcks</td>\n",
              "      <td>HG1612-HT1612_at</td>\n",
              "    </tr>\n",
              "    <tr>\n",
              "      <th>2670</th>\n",
              "      <td>6218</td>\n",
              "      <td>ELA2 Elastatse 2, neutrophil</td>\n",
              "      <td>M27783_s_at</td>\n",
              "    </tr>\n",
              "    <tr>\n",
              "      <th>1009</th>\n",
              "      <td>2288</td>\n",
              "      <td>DF D component of complement (adipsin)</td>\n",
              "      <td>M84526_at</td>\n",
              "    </tr>\n",
              "    <tr>\n",
              "      <th>1995</th>\n",
              "      <td>4535</td>\n",
              "      <td>RETINOBLASTOMA BINDING PROTEIN P48</td>\n",
              "      <td>X74262_at</td>\n",
              "    </tr>\n",
              "    <tr>\n",
              "      <th>937</th>\n",
              "      <td>2121</td>\n",
              "      <td>CTSD Cathepsin D (lysosomal aspartyl protease)</td>\n",
              "      <td>M63138_at</td>\n",
              "    </tr>\n",
              "  </tbody>\n",
              "</table>\n",
              "</div>"
            ],
            "text/plain": [
              "        V1                                                 V2                V3\n",
              "829   1882  CST3 Cystatin C (amyloid angiopathy and cerebr...         M27891_at\n",
              "378    760                                         CYSTATIN A         D88422_at\n",
              "2124  4847                                              Zyxin         X95735_at\n",
              "808   1834        CD33 CD33 antigen (differentiation antigen)         M23197_at\n",
              "2489  5772  C-myb gene extracted from Human (c-myb) gene, ...  U22376_cds2_s_at\n",
              "394    804                                          Macmarcks  HG1612-HT1612_at\n",
              "2670  6218                       ELA2 Elastatse 2, neutrophil       M27783_s_at\n",
              "1009  2288             DF D component of complement (adipsin)         M84526_at\n",
              "1995  4535                 RETINOBLASTOMA BINDING PROTEIN P48         X74262_at\n",
              "937   2121     CTSD Cathepsin D (lysosomal aspartyl protease)         M63138_at"
            ]
          },
          "metadata": {
            "tags": []
          },
          "execution_count": 25
        }
      ]
    },
    {
      "cell_type": "markdown",
      "metadata": {
        "id": "C-cN5YV8wS44"
      },
      "source": [
        "\n",
        "#### 2.5. Shapiro-Wilk test is used to test if a random variable follows a Normal distribution (Null-hypothesis). Using this test identify the top $100$ genes which deviate significantly from normal."
      ]
    },
    {
      "cell_type": "code",
      "metadata": {
        "id": "nlApGhuMHAw5",
        "colab": {
          "base_uri": "https://localhost:8080/",
          "height": 424
        },
        "outputId": "3002ccfc-de7d-4cca-9414-7ed5e27b0214"
      },
      "source": [
        "### Identifying top 100 genes which deviate from normal distribution using Shapiro-Wilks test\n",
        "### The H_0 for Shapiro test is that the variable is normally distributed in some population\n",
        "\n",
        "### Create array to store shapiro-test results for each gene\n",
        "shapiro_test_result = np.zeros( (3051, 3) )\n",
        "\n",
        "for gene in np.arange( start = 1, stop = 3052, step = 1, dtype=int ):\n",
        "    ### Gene index\n",
        "    shapiro_test_result[gene-1][0] = gene\n",
        "    ( shapiro_test_result[gene-1][1],  shapiro_test_result[gene-1][2] ) = shapiro( db_golub_genes.iloc[gene-1] ) # test result \n",
        "shapiro_test_result_dataframe = pd.DataFrame( shapiro_test_result, columns = ['gene', 'statistic', 'p-value' ] )\n",
        "\n",
        "## Sorting results based on p-value\n",
        "result = shapiro_test_result_dataframe.sort_values(by= 'p-value', ascending=True)\n",
        "\n",
        "### Printing top 100 genes\n",
        "gene_ids = np.array(result[:100]['gene'], dtype = int)\n",
        "db_golub_gnames.loc[gene_ids]"
      ],
      "execution_count": null,
      "outputs": [
        {
          "output_type": "execute_result",
          "data": {
            "text/html": [
              "<div>\n",
              "<style scoped>\n",
              "    .dataframe tbody tr th:only-of-type {\n",
              "        vertical-align: middle;\n",
              "    }\n",
              "\n",
              "    .dataframe tbody tr th {\n",
              "        vertical-align: top;\n",
              "    }\n",
              "\n",
              "    .dataframe thead th {\n",
              "        text-align: right;\n",
              "    }\n",
              "</style>\n",
              "<table border=\"1\" class=\"dataframe\">\n",
              "  <thead>\n",
              "    <tr style=\"text-align: right;\">\n",
              "      <th></th>\n",
              "      <th>V1</th>\n",
              "      <th>V2</th>\n",
              "      <th>V3</th>\n",
              "    </tr>\n",
              "  </thead>\n",
              "  <tbody>\n",
              "    <tr>\n",
              "      <th>3022</th>\n",
              "      <td>7066</td>\n",
              "      <td>PRSS1 Protease, serine, 1 (trypsin 1)</td>\n",
              "      <td>M22612_f_at</td>\n",
              "    </tr>\n",
              "    <tr>\n",
              "      <th>2641</th>\n",
              "      <td>6158</td>\n",
              "      <td>Mutant coseg gene for vasopressin-neurophysin ...</td>\n",
              "      <td>X62891_s_at</td>\n",
              "    </tr>\n",
              "    <tr>\n",
              "      <th>2551</th>\n",
              "      <td>5930</td>\n",
              "      <td>IG EPSILON CHAIN C REGION</td>\n",
              "      <td>L00022_s_at</td>\n",
              "    </tr>\n",
              "    <tr>\n",
              "      <th>459</th>\n",
              "      <td>990</td>\n",
              "      <td>Nkr-P1a Protein</td>\n",
              "      <td>HG4263-HT4533_at</td>\n",
              "    </tr>\n",
              "    <tr>\n",
              "      <th>2911</th>\n",
              "      <td>6783</td>\n",
              "      <td>PDE4C Phosphodiesterase 4C, cAMP-specific (dun...</td>\n",
              "      <td>Z46632_r_at</td>\n",
              "    </tr>\n",
              "    <tr>\n",
              "      <th>...</th>\n",
              "      <td>...</td>\n",
              "      <td>...</td>\n",
              "      <td>...</td>\n",
              "    </tr>\n",
              "    <tr>\n",
              "      <th>116</th>\n",
              "      <td>260</td>\n",
              "      <td>VLDLR Very low density lipoprotein receptor</td>\n",
              "      <td>D16532_at</td>\n",
              "    </tr>\n",
              "    <tr>\n",
              "      <th>2488</th>\n",
              "      <td>5765</td>\n",
              "      <td>KIT V-kit Hardy-Zuckerman 4 feline sarcoma vir...</td>\n",
              "      <td>X06182_s_at</td>\n",
              "    </tr>\n",
              "    <tr>\n",
              "      <th>2845</th>\n",
              "      <td>6606</td>\n",
              "      <td>TCRB T-cell receptor, beta cluster</td>\n",
              "      <td>X00437_s_at</td>\n",
              "    </tr>\n",
              "    <tr>\n",
              "      <th>7</th>\n",
              "      <td>42</td>\n",
              "      <td>AFFX-HUMGAPDH/M33197_5_at (endogenous control)</td>\n",
              "      <td>AFFX-HUMGAPDH/M33197_5_at</td>\n",
              "    </tr>\n",
              "    <tr>\n",
              "      <th>8</th>\n",
              "      <td>43</td>\n",
              "      <td>AFFX-HUMGAPDH/M33197_M_at (endogenous control)</td>\n",
              "      <td>AFFX-HUMGAPDH/M33197_M_at</td>\n",
              "    </tr>\n",
              "  </tbody>\n",
              "</table>\n",
              "<p>100 rows × 3 columns</p>\n",
              "</div>"
            ],
            "text/plain": [
              "        V1  ...                         V3\n",
              "3022  7066  ...                M22612_f_at\n",
              "2641  6158  ...                X62891_s_at\n",
              "2551  5930  ...                L00022_s_at\n",
              "459    990  ...           HG4263-HT4533_at\n",
              "2911  6783  ...                Z46632_r_at\n",
              "...    ...  ...                        ...\n",
              "116    260  ...                  D16532_at\n",
              "2488  5765  ...                X06182_s_at\n",
              "2845  6606  ...                X00437_s_at\n",
              "7       42  ...  AFFX-HUMGAPDH/M33197_5_at\n",
              "8       43  ...  AFFX-HUMGAPDH/M33197_M_at\n",
              "\n",
              "[100 rows x 3 columns]"
            ]
          },
          "metadata": {
            "tags": []
          },
          "execution_count": 26
        }
      ]
    },
    {
      "cell_type": "markdown",
      "metadata": {
        "id": "OiCxQdDRwUpw"
      },
      "source": [
        "#### 2.6. Out of the $100$ genes obtained in 2.5., use an appropriate statistical test to obtain the $10$ most differentiating genes between ALL and AML classes."
      ]
    },
    {
      "cell_type": "code",
      "metadata": {
        "id": "9CN889y7wV2d",
        "colab": {
          "base_uri": "https://localhost:8080/",
          "height": 363
        },
        "outputId": "e97b08fd-3374-4c62-fdbe-eee09f7ca606"
      },
      "source": [
        "### Applying Mann Whitney Rank test on genes(top 100) which are not normally distributed\n",
        "### Perform mann whitney-test for each gene, H_o of Mann Whitney Rank test assumes the two samples come from same population\n",
        "\n",
        "### Create array to store mann-test results for each gene\n",
        "mann_test_result = np.zeros( (100, 3) )\n",
        "\n",
        "### 'gene_ids' contains indices of genes which are not normally distributed\n",
        "for i in np.arange(100, dtype=int):\n",
        "    \n",
        "    a = all_sample_dataframe.loc[gene_ids[i]][:]\n",
        "    b = aml_sample_dataframe.loc[gene_ids[i]][:]\n",
        "    \n",
        "    mann_test_result[i][0] = gene_ids[i] # gene id\n",
        "    ( mann_test_result[i][1],  mann_test_result[i][2] ) = mannwhitneyu(a, b) # test result \n",
        "    \n",
        "mann_test_result_dataframe = pd.DataFrame( mann_test_result, columns = ['gene', 'test-statistic', 'p-value' ] )\n",
        "\n",
        "### 10 most differentiating genes b/w ALL and AML\n",
        "### Sorting results based on p-value\n",
        "result = mann_test_result_dataframe.sort_values(by= 'p-value', ascending=True)\n",
        "\n",
        "### Printing top 10 most differentiating genes\n",
        "gene_ids = np.array(result[:10]['gene'], dtype = int)\n",
        "db_golub_gnames.loc[gene_ids]"
      ],
      "execution_count": null,
      "outputs": [
        {
          "output_type": "execute_result",
          "data": {
            "text/html": [
              "<div>\n",
              "<style scoped>\n",
              "    .dataframe tbody tr th:only-of-type {\n",
              "        vertical-align: middle;\n",
              "    }\n",
              "\n",
              "    .dataframe tbody tr th {\n",
              "        vertical-align: top;\n",
              "    }\n",
              "\n",
              "    .dataframe thead th {\n",
              "        text-align: right;\n",
              "    }\n",
              "</style>\n",
              "<table border=\"1\" class=\"dataframe\">\n",
              "  <thead>\n",
              "    <tr style=\"text-align: right;\">\n",
              "      <th></th>\n",
              "      <th>V1</th>\n",
              "      <th>V2</th>\n",
              "      <th>V3</th>\n",
              "    </tr>\n",
              "  </thead>\n",
              "  <tbody>\n",
              "    <tr>\n",
              "      <th>1579</th>\n",
              "      <td>3643</td>\n",
              "      <td>GB DEF = 34 kDa mov34 isologue mRNA</td>\n",
              "      <td>U70735_at</td>\n",
              "    </tr>\n",
              "    <tr>\n",
              "      <th>2421</th>\n",
              "      <td>5599</td>\n",
              "      <td>Cyclooxygenase-2 (hCox-2) gene</td>\n",
              "      <td>D28235_s_at</td>\n",
              "    </tr>\n",
              "    <tr>\n",
              "      <th>2569</th>\n",
              "      <td>5970</td>\n",
              "      <td>PAI2 Plasminogen activator inhibitor, type II ...</td>\n",
              "      <td>M31551_s_at</td>\n",
              "    </tr>\n",
              "    <tr>\n",
              "      <th>2336</th>\n",
              "      <td>5376</td>\n",
              "      <td>Cyclooxygenase-2 (hCox-2) gene</td>\n",
              "      <td>U04636_rna1_at</td>\n",
              "    </tr>\n",
              "    <tr>\n",
              "      <th>2738</th>\n",
              "      <td>6355</td>\n",
              "      <td>G0S2 gene extracted from Human GOS2 gene, 5' f...</td>\n",
              "      <td>M72885_rna1_s_at</td>\n",
              "    </tr>\n",
              "    <tr>\n",
              "      <th>1802</th>\n",
              "      <td>4149</td>\n",
              "      <td>THBS1 Thrombospondin 1</td>\n",
              "      <td>X14787_at</td>\n",
              "    </tr>\n",
              "    <tr>\n",
              "      <th>1767</th>\n",
              "      <td>4079</td>\n",
              "      <td>ALDH2 Aldehyde dehydrogenase 2, mitochondrial</td>\n",
              "      <td>X05409_at</td>\n",
              "    </tr>\n",
              "    <tr>\n",
              "      <th>2698</th>\n",
              "      <td>6277</td>\n",
              "      <td>Amphiregulin (AR) gene</td>\n",
              "      <td>M30703_s_at</td>\n",
              "    </tr>\n",
              "    <tr>\n",
              "      <th>2488</th>\n",
              "      <td>5765</td>\n",
              "      <td>KIT V-kit Hardy-Zuckerman 4 feline sarcoma vir...</td>\n",
              "      <td>X06182_s_at</td>\n",
              "    </tr>\n",
              "    <tr>\n",
              "      <th>1307</th>\n",
              "      <td>2997</td>\n",
              "      <td>GB DEF = Selenium-binding protein (hSBP) mRNA</td>\n",
              "      <td>U29091_at</td>\n",
              "    </tr>\n",
              "  </tbody>\n",
              "</table>\n",
              "</div>"
            ],
            "text/plain": [
              "        V1                                                 V2                V3\n",
              "1579  3643                GB DEF = 34 kDa mov34 isologue mRNA         U70735_at\n",
              "2421  5599                     Cyclooxygenase-2 (hCox-2) gene       D28235_s_at\n",
              "2569  5970  PAI2 Plasminogen activator inhibitor, type II ...       M31551_s_at\n",
              "2336  5376                     Cyclooxygenase-2 (hCox-2) gene    U04636_rna1_at\n",
              "2738  6355  G0S2 gene extracted from Human GOS2 gene, 5' f...  M72885_rna1_s_at\n",
              "1802  4149                             THBS1 Thrombospondin 1         X14787_at\n",
              "1767  4079      ALDH2 Aldehyde dehydrogenase 2, mitochondrial         X05409_at\n",
              "2698  6277                             Amphiregulin (AR) gene       M30703_s_at\n",
              "2488  5765  KIT V-kit Hardy-Zuckerman 4 feline sarcoma vir...       X06182_s_at\n",
              "1307  2997      GB DEF = Selenium-binding protein (hSBP) mRNA         U29091_at"
            ]
          },
          "metadata": {
            "tags": []
          },
          "execution_count": 27
        }
      ]
    },
    {
      "cell_type": "markdown",
      "metadata": {
        "id": "vl6_LuFLwWUx"
      },
      "source": [
        "#### 2.7. Inform yourself about the multiple testing problem. Apply one appropriate method to deal with it and explain how it works."
      ]
    },
    {
      "cell_type": "markdown",
      "metadata": {
        "id": "51TpLgJLtErD"
      },
      "source": [
        "Assume we have a set of hypotheses that we want to test simultaneously. A solution for this is that we can test each hypothesis separately, using some level of significance $\\alpha$. Consider a case where we have 20 hypotheses to test and a significance level of 0.05. The probability of observing at least one significant result just due to chance is: \n",
        "\n",
        "$$\n",
        "\\mathbb{P} [\\text{at least one significant result}]= 1 − \\mathbb{P}[\\text{no significant results}] = 1 − (1 − 0.05)^{20} ≈ 0.64\n",
        "$$\n",
        "\n",
        "So, with 20 tests being considered, we have a 64% chance of observing at least one significant result, even if all of the tests are not significant (most of which will be false alarms). This large number of false alarms produced when you run multiple hypothesis tests is called the multiple testing problem. \n",
        "Methods for dealing with multiple testing frequently call for adjusting $\\alpha$ in some way so that the probability of observing at least one significant result due to chance remains below our desired significance level.\n",
        "\n",
        "One method to deal with this problem is **The Bonferroni correction**.\n",
        "In this method, we set the significance cut-off at $\\alpha/n$. Also, Bonferroni correction is a highly conservative method. It can decrease the rate of false positives, but also extremely increases false negatives."
      ]
    },
    {
      "cell_type": "code",
      "metadata": {
        "id": "F-Mp0CzGYMYh",
        "colab": {
          "base_uri": "https://localhost:8080/",
          "height": 571
        },
        "outputId": "d567e87b-e4af-43f2-c830-9bd239e6aedf"
      },
      "source": [
        "from statsmodels.stats.multitest import multipletests\n",
        "alpha = 0.05\n",
        "\n",
        "print(\"Test result from Shapiro-Wilk test:\")\n",
        "display(shapiro_test_result_dataframe)\n",
        "len_tmp = len(shapiro_test_result_dataframe.loc[np.where(shapiro_test_result_dataframe['p-value']<alpha)])\n",
        "print(\"\\nNumber of P-values lower than 5%: \", len_tmp)\n",
        "\n",
        "# Bonferroni correction\n",
        "# Get Bonferroni corrected P-value\n",
        "\n",
        "y=multipletests(pvals=shapiro_test_result_dataframe['p-value'], alpha=alpha, method=\"bonferroni\")\n",
        "print(\"Bonferroni corrected P-value:\\n\",y[1])\n",
        "\n",
        "print(\"\\nNumber of P-values lower than 5%: \", len(y[1][np.where(y[1]<alpha)]))"
      ],
      "execution_count": null,
      "outputs": [
        {
          "output_type": "stream",
          "text": [
            "Test result from Shapiro-Wilk test:\n"
          ],
          "name": "stdout"
        },
        {
          "output_type": "display_data",
          "data": {
            "text/html": [
              "<div>\n",
              "<style scoped>\n",
              "    .dataframe tbody tr th:only-of-type {\n",
              "        vertical-align: middle;\n",
              "    }\n",
              "\n",
              "    .dataframe tbody tr th {\n",
              "        vertical-align: top;\n",
              "    }\n",
              "\n",
              "    .dataframe thead th {\n",
              "        text-align: right;\n",
              "    }\n",
              "</style>\n",
              "<table border=\"1\" class=\"dataframe\">\n",
              "  <thead>\n",
              "    <tr style=\"text-align: right;\">\n",
              "      <th></th>\n",
              "      <th>gene</th>\n",
              "      <th>statistic</th>\n",
              "      <th>p-value</th>\n",
              "    </tr>\n",
              "  </thead>\n",
              "  <tbody>\n",
              "    <tr>\n",
              "      <th>0</th>\n",
              "      <td>1.0</td>\n",
              "      <td>0.589699</td>\n",
              "      <td>4.144559e-09</td>\n",
              "    </tr>\n",
              "    <tr>\n",
              "      <th>1</th>\n",
              "      <td>2.0</td>\n",
              "      <td>0.783611</td>\n",
              "      <td>4.930624e-06</td>\n",
              "    </tr>\n",
              "    <tr>\n",
              "      <th>2</th>\n",
              "      <td>3.0</td>\n",
              "      <td>0.961777</td>\n",
              "      <td>2.167703e-01</td>\n",
              "    </tr>\n",
              "    <tr>\n",
              "      <th>3</th>\n",
              "      <td>4.0</td>\n",
              "      <td>0.924814</td>\n",
              "      <td>1.381648e-02</td>\n",
              "    </tr>\n",
              "    <tr>\n",
              "      <th>4</th>\n",
              "      <td>5.0</td>\n",
              "      <td>0.880878</td>\n",
              "      <td>7.677478e-04</td>\n",
              "    </tr>\n",
              "    <tr>\n",
              "      <th>...</th>\n",
              "      <td>...</td>\n",
              "      <td>...</td>\n",
              "      <td>...</td>\n",
              "    </tr>\n",
              "    <tr>\n",
              "      <th>3046</th>\n",
              "      <td>3047.0</td>\n",
              "      <td>0.981668</td>\n",
              "      <td>7.758895e-01</td>\n",
              "    </tr>\n",
              "    <tr>\n",
              "      <th>3047</th>\n",
              "      <td>3048.0</td>\n",
              "      <td>0.880593</td>\n",
              "      <td>7.546362e-04</td>\n",
              "    </tr>\n",
              "    <tr>\n",
              "      <th>3048</th>\n",
              "      <td>3049.0</td>\n",
              "      <td>0.945502</td>\n",
              "      <td>6.333631e-02</td>\n",
              "    </tr>\n",
              "    <tr>\n",
              "      <th>3049</th>\n",
              "      <td>3050.0</td>\n",
              "      <td>0.981116</td>\n",
              "      <td>7.568102e-01</td>\n",
              "    </tr>\n",
              "    <tr>\n",
              "      <th>3050</th>\n",
              "      <td>3051.0</td>\n",
              "      <td>0.875621</td>\n",
              "      <td>5.600382e-04</td>\n",
              "    </tr>\n",
              "  </tbody>\n",
              "</table>\n",
              "<p>3051 rows × 3 columns</p>\n",
              "</div>"
            ],
            "text/plain": [
              "        gene  statistic       p-value\n",
              "0        1.0   0.589699  4.144559e-09\n",
              "1        2.0   0.783611  4.930624e-06\n",
              "2        3.0   0.961777  2.167703e-01\n",
              "3        4.0   0.924814  1.381648e-02\n",
              "4        5.0   0.880878  7.677478e-04\n",
              "...      ...        ...           ...\n",
              "3046  3047.0   0.981668  7.758895e-01\n",
              "3047  3048.0   0.880593  7.546362e-04\n",
              "3048  3049.0   0.945502  6.333631e-02\n",
              "3049  3050.0   0.981116  7.568102e-01\n",
              "3050  3051.0   0.875621  5.600382e-04\n",
              "\n",
              "[3051 rows x 3 columns]"
            ]
          },
          "metadata": {
            "tags": []
          }
        },
        {
          "output_type": "stream",
          "text": [
            "\n",
            "Number of P-values lower than 5%:  1549\n",
            "Bonferroni corrected P-value:\n",
            " [1.26450506e-05 1.50433340e-02 1.00000000e+00 ... 1.00000000e+00\n",
            " 1.00000000e+00 1.00000000e+00]\n",
            "\n",
            "Number of P-values lower than 5%:  404\n"
          ],
          "name": "stdout"
        }
      ]
    },
    {
      "cell_type": "markdown",
      "metadata": {
        "id": "wmahsY6jwiQ2"
      },
      "source": [
        "---\n",
        "### Exercise 3 - Linear regression\n",
        "Using the `fish.csv` dataset, generate a multiple linear regression model with `weight` as the response variable and `length1`, `length2`, `length3`, `height`, and `width` as the predictors. Answer the following questions based on the regression model."
      ]
    },
    {
      "cell_type": "code",
      "metadata": {
        "id": "X2qZ1UK3Hel_",
        "colab": {
          "base_uri": "https://localhost:8080/",
          "height": 175
        },
        "outputId": "576ec4e9-e760-4862-a4d7-a78d06c974ad"
      },
      "source": [
        "file_path = \"/content/drive/MyDrive/Colab Notebooks/MAINF4216_Databases/\"\n",
        "db_fish = pd.read_csv(file_path + \"Fish.csv\")\n",
        "db_fish.head(4)"
      ],
      "execution_count": null,
      "outputs": [
        {
          "output_type": "execute_result",
          "data": {
            "text/html": [
              "<div>\n",
              "<style scoped>\n",
              "    .dataframe tbody tr th:only-of-type {\n",
              "        vertical-align: middle;\n",
              "    }\n",
              "\n",
              "    .dataframe tbody tr th {\n",
              "        vertical-align: top;\n",
              "    }\n",
              "\n",
              "    .dataframe thead th {\n",
              "        text-align: right;\n",
              "    }\n",
              "</style>\n",
              "<table border=\"1\" class=\"dataframe\">\n",
              "  <thead>\n",
              "    <tr style=\"text-align: right;\">\n",
              "      <th></th>\n",
              "      <th>Species</th>\n",
              "      <th>Weight</th>\n",
              "      <th>Length1</th>\n",
              "      <th>Length2</th>\n",
              "      <th>Length3</th>\n",
              "      <th>Height</th>\n",
              "      <th>Width</th>\n",
              "    </tr>\n",
              "  </thead>\n",
              "  <tbody>\n",
              "    <tr>\n",
              "      <th>0</th>\n",
              "      <td>Bream</td>\n",
              "      <td>242.0</td>\n",
              "      <td>23.2</td>\n",
              "      <td>25.4</td>\n",
              "      <td>30.0</td>\n",
              "      <td>11.5200</td>\n",
              "      <td>4.0200</td>\n",
              "    </tr>\n",
              "    <tr>\n",
              "      <th>1</th>\n",
              "      <td>Bream</td>\n",
              "      <td>290.0</td>\n",
              "      <td>24.0</td>\n",
              "      <td>26.3</td>\n",
              "      <td>31.2</td>\n",
              "      <td>12.4800</td>\n",
              "      <td>4.3056</td>\n",
              "    </tr>\n",
              "    <tr>\n",
              "      <th>2</th>\n",
              "      <td>Bream</td>\n",
              "      <td>340.0</td>\n",
              "      <td>23.9</td>\n",
              "      <td>26.5</td>\n",
              "      <td>31.1</td>\n",
              "      <td>12.3778</td>\n",
              "      <td>4.6961</td>\n",
              "    </tr>\n",
              "    <tr>\n",
              "      <th>3</th>\n",
              "      <td>Bream</td>\n",
              "      <td>363.0</td>\n",
              "      <td>26.3</td>\n",
              "      <td>29.0</td>\n",
              "      <td>33.5</td>\n",
              "      <td>12.7300</td>\n",
              "      <td>4.4555</td>\n",
              "    </tr>\n",
              "  </tbody>\n",
              "</table>\n",
              "</div>"
            ],
            "text/plain": [
              "  Species  Weight  Length1  Length2  Length3   Height   Width\n",
              "0   Bream   242.0     23.2     25.4     30.0  11.5200  4.0200\n",
              "1   Bream   290.0     24.0     26.3     31.2  12.4800  4.3056\n",
              "2   Bream   340.0     23.9     26.5     31.1  12.3778  4.6961\n",
              "3   Bream   363.0     26.3     29.0     33.5  12.7300  4.4555"
            ]
          },
          "metadata": {
            "tags": []
          },
          "execution_count": 38
        }
      ]
    },
    {
      "cell_type": "code",
      "metadata": {
        "id": "Cqz_PclLH3Yt",
        "colab": {
          "base_uri": "https://localhost:8080/"
        },
        "outputId": "ef3c4c4c-17fc-427e-a95c-f6ff51f7feed"
      },
      "source": [
        "### We use linear_model from sklearn\n",
        "### See: https://www.w3schools.com/python/python_ml_multiple_regression.asp for reference\n",
        "predictors = db_fish[['Length1', 'Length2', 'Length3', 'Height', 'Width']]\n",
        "response = db_fish['Weight']\n",
        "regr = linear_model.LinearRegression()\n",
        "regr.fit(predictors, response)\n",
        "\n",
        "### Note: Generally, the dataset is split into training & test set. \n",
        "### The training set is used for training the model and the test set is used to test the model. \n",
        "### We have not split our dataset, since the exercise does not require it. \n",
        "### We can split data into training and test sets, by using Scikit-Learn's built-in train_test_split() method:\n",
        "\n",
        "# from sklearn.model_selection import train_test_split\n",
        "# X_train, X_test, y_train, y_test = train_test_split(X, y, test_size=0.2, random_state=0)"
      ],
      "execution_count": null,
      "outputs": [
        {
          "output_type": "execute_result",
          "data": {
            "text/plain": [
              "LinearRegression(copy_X=True, fit_intercept=True, n_jobs=None, normalize=False)"
            ]
          },
          "metadata": {
            "tags": []
          },
          "execution_count": 41
        }
      ]
    },
    {
      "cell_type": "markdown",
      "metadata": {
        "id": "mMcV-oNXxKvB"
      },
      "source": [
        "#### 3.1. How large is the coefficient of the predictors?"
      ]
    },
    {
      "cell_type": "code",
      "metadata": {
        "id": "Nbx7plARxNQH",
        "colab": {
          "base_uri": "https://localhost:8080/"
        },
        "outputId": "436134d4-b673-413f-e753-f76c5999c75c"
      },
      "source": [
        "print(\"The coefficient\")\n",
        "for coef, pred in zip(regr.coef_, predictors):\n",
        "    suffix = 0\n",
        "    if coef == regr.coef_.max():\n",
        "        suffix = \"\\t (largest)\"\n",
        "    elif coef == regr.coef_.min():\n",
        "        suffix = \"\\t (smallest)\"\n",
        "\n",
        "    print(f\"of {pred} is\\t{coef}{suffix}\")"
      ],
      "execution_count": null,
      "outputs": [
        {
          "output_type": "stream",
          "text": [
            "The coefficient\n",
            "of Length1 is\t62.35521443246453\t (largest)\n",
            "of Length2 is\t-6.5267524920442950\n",
            "of Length3 is\t-29.026218612693484\t (smallest)\n",
            "of Height is\t28.2973513222766440\n",
            "of Width is\t22.47330665223730\n"
          ],
          "name": "stdout"
        }
      ]
    },
    {
      "cell_type": "markdown",
      "metadata": {
        "id": "Flkiv7B_xOSs"
      },
      "source": [
        "#### 3.2. What is the value of the adjusted $R$-squared? What does this tell us?"
      ]
    },
    {
      "cell_type": "code",
      "metadata": {
        "id": "MSwT3NonxRl9",
        "colab": {
          "base_uri": "https://localhost:8080/"
        },
        "outputId": "b5069f12-55f4-4e0d-bea2-f937a3523210"
      },
      "source": [
        "n = response.shape[0]\n",
        "p = len(predictors.columns)\n",
        "r_squared = regr.score(predictors, response)\n",
        "adjusted_r_squared = 1-((1-r_squared**2)*((n-1)/(n-p-1)))\n",
        "print( f'Adjusted R-squared = {adjusted_r_squared} ~ {round(adjusted_r_squared*100,1)}%' )"
      ],
      "execution_count": null,
      "outputs": [
        {
          "output_type": "stream",
          "text": [
            "Adjusted R-squared = 0.7766649856943888 ~ 77.7%\n"
          ],
          "name": "stdout"
        }
      ]
    },
    {
      "cell_type": "markdown",
      "metadata": {
        "id": "4xfi9Hi0IQV3"
      },
      "source": [
        "When we are performing multiple linear regression, the $R^2$ increases as the number of perdictor variables increase regardless of whether these variables improve the model.\n",
        "This can tackled by calculating *adjusted $R^2$*, which adjusts $R^2$ for the number of predictors(p) relative to the number of datapoints(n) in the model. The adjusted $R^2$ increases with an increase in the no. of predictors only if the added predictors improve the model. The adjusted $R^2$ is given by,\n",
        "$$R_{\\text{adjusted}}^{2}= 1-(1-R^2)\\frac{n-1}{n-p-1}$$\n",
        "\n",
        "\n",
        "The adjusted $R^2$ of 0.777 indicates that around 77.7% of the variance in `Weight` can be explained by the model. Around 23% if variance is unexplained by the model as it could be due to unobserved predictors."
      ]
    },
    {
      "cell_type": "markdown",
      "metadata": {
        "id": "ShLPrjDyxS09"
      },
      "source": [
        "#### 3.3. Which predictors lead to the increase in the weight of the fish, and which have a negative effect?"
      ]
    },
    {
      "cell_type": "markdown",
      "metadata": {
        "id": "gfqFba6_ImHt"
      },
      "source": [
        "We can determine the association between predictors and response variable by examining the predictor coefficients. The predictors which have a postive coefficient will result in increase in weight of fish, while those with a negative coefficient will result in decrease in weight.\n",
        "\n",
        "\n",
        "**Predictors leading to increase in weight of fish**\n",
        "- `Length1` - A unit increase in this predictor will increase the weight of fish by 62.355 units\n",
        "- `Height` - A unit increase in this predictor will increase the weight of fish by 28.297 units\n",
        "- `Width` -  A unit increase in this predictor will increase the weight of fish by 22.47 units\n",
        "    \n",
        "**Predictors leading to decrease in weight of fish**\n",
        "- `Length2` - A unit increase in this predictor will decrease the weight of fish by 6.527 units\n",
        "- `Length3` - A unit increase in this predictor will decrease the weight of fish by 29.026 units\n"
      ]
    },
    {
      "cell_type": "markdown",
      "metadata": {
        "id": "AL_8bVehxXLn"
      },
      "source": [
        "#### 3.4. Using a simple regression model, predict the weight of a fish with `length1` of $15$?"
      ]
    },
    {
      "cell_type": "code",
      "metadata": {
        "id": "aLt7bIxaxY0e",
        "colab": {
          "base_uri": "https://localhost:8080/"
        },
        "outputId": "dfafac4f-12d7-41b0-b11b-2384140eb6c5"
      },
      "source": [
        "fish_length = 15\n",
        "simple_linear_model = linear_model.LinearRegression()\n",
        "simple_predictor = db_fish['Length1'].values.reshape(-1, 1)\n",
        "simple_linear_model.fit(simple_predictor, response)\n",
        "\n",
        "prediction = simple_linear_model.predict([[fish_length]])[0]\n",
        "print(f\"The predicted weight of the fish with lenght {fish_length} is:\\n{round(prediction,2)} kg\")\n"
      ],
      "execution_count": null,
      "outputs": [
        {
          "output_type": "stream",
          "text": [
            "The predicted weight of the fish with lenght 15 is:\n",
            "29.51 kg\n"
          ],
          "name": "stdout"
        }
      ]
    },
    {
      "cell_type": "markdown",
      "metadata": {
        "id": "bX5t83cZxdLS"
      },
      "source": [
        "#### 3.5. Predict the weight of a fish with `length1`, `height`, and `width` of $20.0$, $7.3$, and $5.3$ using a multiple linear regression model."
      ]
    },
    {
      "cell_type": "code",
      "metadata": {
        "id": "U3PBBH3sxi72",
        "colab": {
          "base_uri": "https://localhost:8080/"
        },
        "outputId": "6935620d-56a7-44f5-f84e-c000dac9d5a4"
      },
      "source": [
        "fish_length = 20.0\n",
        "fish_height = 7.3\n",
        "fish_width = 5.3\n",
        "\n",
        "multiple_linear_reg_model = linear_model.LinearRegression()\n",
        "multiple_predictor = db_fish[['Length1', 'Height', 'Width']]\n",
        "multiple_linear_reg_model.fit(multiple_predictor, response)\n",
        "\n",
        "prediction = multiple_linear_reg_model.predict([[fish_length, fish_height, fish_width]])[0]\n",
        "print(f\"The predicted weight of the fish with lenght {fish_length}, height {fish_height} and width {fish_width} is:\\n{round(prediction,2)} kg\")"
      ],
      "execution_count": null,
      "outputs": [
        {
          "output_type": "stream",
          "text": [
            "The predicted weight of the fish with lenght 20.0, height 7.3 and width 5.3 is:\n",
            "272.67 kg\n"
          ],
          "name": "stdout"
        }
      ]
    },
    {
      "cell_type": "markdown",
      "metadata": {
        "id": "FE8B6jmKxktN"
      },
      "source": [
        "#### 3.6. What are the associated 95% confidence intervals for the predictors, as well as for intercept?"
      ]
    },
    {
      "cell_type": "code",
      "metadata": {
        "id": "6Osv_OlMxn0Q",
        "colab": {
          "base_uri": "https://localhost:8080/"
        },
        "outputId": "364ded86-9367-4b73-f49d-feca45f35177"
      },
      "source": [
        "model = sm.ols(formula='Weight ~ Length1 + Height + Width', data= db_fish).fit()\n",
        "\n",
        "# 95% confidence intervals for model with predictors - Length1, Height, Width\n",
        "print('95% confidence intervals')\n",
        "print(model.conf_int())"
      ],
      "execution_count": null,
      "outputs": [
        {
          "output_type": "stream",
          "text": [
            "95% confidence intervals\n",
            "                    0           1\n",
            "Intercept -570.737665 -457.946453\n",
            "Length1     18.690241   26.675564\n",
            "Height       6.056703   21.283255\n",
            "Width       13.751582   74.385971\n"
          ],
          "name": "stdout"
        }
      ]
    },
    {
      "cell_type": "code",
      "metadata": {
        "id": "4F7nF56cJV5u",
        "colab": {
          "base_uri": "https://localhost:8080/"
        },
        "outputId": "11f4005f-a16f-4ac2-ea07-19e78f101214"
      },
      "source": [
        "model2 = sm.ols(formula='Weight ~ Length1 + Length2 + Length3 + Height + Width', data= db_fish).fit()\n",
        "\n",
        "# 95% confidence intervals for model with predictors - Length1, Length2, Length3, Height, Width\n",
        "print( '95% confidence intervals' )\n",
        "print( model2.conf_int() )"
      ],
      "execution_count": null,
      "outputs": [
        {
          "output_type": "stream",
          "text": [
            "95% confidence intervals\n",
            "                    0           1\n",
            "Intercept -558.009586 -441.164325\n",
            "Length1    -17.080780  141.791209\n",
            "Length2    -89.024956   75.971451\n",
            "Length3    -63.308554    5.256116\n",
            "Height      11.051977   45.542726\n",
            "Width      -17.772891   62.719505\n"
          ],
          "name": "stdout"
        }
      ]
    }
  ]
}