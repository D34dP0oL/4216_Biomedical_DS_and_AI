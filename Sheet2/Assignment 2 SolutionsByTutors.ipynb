{
 "cells": [
  {
   "cell_type": "code",
   "execution_count": 1,
   "metadata": {
    "id": "KYf7N9inw-DH"
   },
   "outputs": [],
   "source": [
    "import pandas as pd\n",
    "from collections import Counter\n",
    "import numpy as np\n",
    "import seaborn as sns\n",
    "import matplotlib.pyplot as plt"
   ]
  },
  {
   "cell_type": "markdown",
   "metadata": {},
   "source": [
    "## **Exercise 1: Understanding Your Dataset**"
   ]
  },
  {
   "cell_type": "code",
   "execution_count": 2,
   "metadata": {},
   "outputs": [
    {
     "data": {
      "text/html": [
       "<div>\n",
       "<style scoped>\n",
       "    .dataframe tbody tr th:only-of-type {\n",
       "        vertical-align: middle;\n",
       "    }\n",
       "\n",
       "    .dataframe tbody tr th {\n",
       "        vertical-align: top;\n",
       "    }\n",
       "\n",
       "    .dataframe thead th {\n",
       "        text-align: right;\n",
       "    }\n",
       "</style>\n",
       "<table border=\"1\" class=\"dataframe\">\n",
       "  <thead>\n",
       "    <tr style=\"text-align: right;\">\n",
       "      <th></th>\n",
       "      <th>id</th>\n",
       "      <th>Age</th>\n",
       "      <th>Sex</th>\n",
       "      <th>cp</th>\n",
       "      <th>trestbps</th>\n",
       "      <th>chol</th>\n",
       "      <th>fbs</th>\n",
       "      <th>resetecg</th>\n",
       "      <th>thalach</th>\n",
       "      <th>exang</th>\n",
       "      <th>slope</th>\n",
       "      <th>ca</th>\n",
       "      <th>thal</th>\n",
       "      <th>num</th>\n",
       "    </tr>\n",
       "  </thead>\n",
       "  <tbody>\n",
       "    <tr>\n",
       "      <th>0</th>\n",
       "      <td>1</td>\n",
       "      <td>63.0</td>\n",
       "      <td>1.0</td>\n",
       "      <td>1.0</td>\n",
       "      <td>145.0</td>\n",
       "      <td>233.0</td>\n",
       "      <td>1.0</td>\n",
       "      <td>2.0</td>\n",
       "      <td>150.0</td>\n",
       "      <td>0.0</td>\n",
       "      <td>3.0</td>\n",
       "      <td>0.0</td>\n",
       "      <td>6.0</td>\n",
       "      <td>0</td>\n",
       "    </tr>\n",
       "    <tr>\n",
       "      <th>1</th>\n",
       "      <td>2</td>\n",
       "      <td>67.0</td>\n",
       "      <td>1.0</td>\n",
       "      <td>4.0</td>\n",
       "      <td>160.0</td>\n",
       "      <td>286.0</td>\n",
       "      <td>0.0</td>\n",
       "      <td>2.0</td>\n",
       "      <td>108.0</td>\n",
       "      <td>1.0</td>\n",
       "      <td>2.0</td>\n",
       "      <td>3.0</td>\n",
       "      <td>3.0</td>\n",
       "      <td>1</td>\n",
       "    </tr>\n",
       "    <tr>\n",
       "      <th>2</th>\n",
       "      <td>3</td>\n",
       "      <td>67.0</td>\n",
       "      <td>1.0</td>\n",
       "      <td>4.0</td>\n",
       "      <td>120.0</td>\n",
       "      <td>229.0</td>\n",
       "      <td>0.0</td>\n",
       "      <td>2.0</td>\n",
       "      <td>129.0</td>\n",
       "      <td>1.0</td>\n",
       "      <td>2.0</td>\n",
       "      <td>2.0</td>\n",
       "      <td>7.0</td>\n",
       "      <td>1</td>\n",
       "    </tr>\n",
       "    <tr>\n",
       "      <th>3</th>\n",
       "      <td>4</td>\n",
       "      <td>37.0</td>\n",
       "      <td>1.0</td>\n",
       "      <td>3.0</td>\n",
       "      <td>130.0</td>\n",
       "      <td>250.0</td>\n",
       "      <td>0.0</td>\n",
       "      <td>0.0</td>\n",
       "      <td>187.0</td>\n",
       "      <td>0.0</td>\n",
       "      <td>3.0</td>\n",
       "      <td>0.0</td>\n",
       "      <td>3.0</td>\n",
       "      <td>0</td>\n",
       "    </tr>\n",
       "    <tr>\n",
       "      <th>4</th>\n",
       "      <td>5</td>\n",
       "      <td>41.0</td>\n",
       "      <td>0.0</td>\n",
       "      <td>2.0</td>\n",
       "      <td>130.0</td>\n",
       "      <td>204.0</td>\n",
       "      <td>0.0</td>\n",
       "      <td>2.0</td>\n",
       "      <td>172.0</td>\n",
       "      <td>0.0</td>\n",
       "      <td>1.0</td>\n",
       "      <td>0.0</td>\n",
       "      <td>3.0</td>\n",
       "      <td>0</td>\n",
       "    </tr>\n",
       "  </tbody>\n",
       "</table>\n",
       "</div>"
      ],
      "text/plain": [
       "   id   Age  Sex   cp  trestbps   chol  fbs  resetecg  thalach  exang  slope  \\\n",
       "0   1  63.0  1.0  1.0     145.0  233.0  1.0       2.0    150.0    0.0    3.0   \n",
       "1   2  67.0  1.0  4.0     160.0  286.0  0.0       2.0    108.0    1.0    2.0   \n",
       "2   3  67.0  1.0  4.0     120.0  229.0  0.0       2.0    129.0    1.0    2.0   \n",
       "3   4  37.0  1.0  3.0     130.0  250.0  0.0       0.0    187.0    0.0    3.0   \n",
       "4   5  41.0  0.0  2.0     130.0  204.0  0.0       2.0    172.0    0.0    1.0   \n",
       "\n",
       "    ca thal  num  \n",
       "0  0.0  6.0    0  \n",
       "1  3.0  3.0    1  \n",
       "2  2.0  7.0    1  \n",
       "3  0.0  3.0    0  \n",
       "4  0.0  3.0    0  "
      ]
     },
     "execution_count": 2,
     "metadata": {},
     "output_type": "execute_result"
    }
   ],
   "source": [
    "#Question 1\n",
    "\n",
    "df = pd.read_csv(\"processedClevelandData.csv\", sep = \";\") #Used proper separator\n",
    "df.head()"
   ]
  },
  {
   "cell_type": "code",
   "execution_count": 3,
   "metadata": {},
   "outputs": [
    {
     "data": {
      "text/plain": [
       "id          0\n",
       "Age         0\n",
       "Sex         0\n",
       "cp          0\n",
       "trestbps    0\n",
       "chol        0\n",
       "fbs         0\n",
       "resetecg    0\n",
       "thalach     0\n",
       "exang       0\n",
       "slope       0\n",
       "ca          0\n",
       "thal        0\n",
       "num         0\n",
       "dtype: int64"
      ]
     },
     "execution_count": 3,
     "metadata": {},
     "output_type": "execute_result"
    }
   ],
   "source": [
    "df.isna().sum() #Checking missing values"
   ]
  },
  {
   "cell_type": "code",
   "execution_count": 4,
   "metadata": {},
   "outputs": [
    {
     "name": "stdout",
     "output_type": "stream",
     "text": [
      "Number of duplicated rows: 0\n"
     ]
    }
   ],
   "source": [
    "print(f\"Number of duplicated rows: {df.duplicated().sum()}\")"
   ]
  },
  {
   "cell_type": "code",
   "execution_count": 5,
   "metadata": {},
   "outputs": [],
   "source": [
    "#Replacing the \"?\" values in ca and thal with the mode\n",
    "df['ca'] = df['ca'].replace(['?'], df['ca'].mode())\n",
    "df['thal'] = df['thal'].replace(['?'], df['thal'].mode())"
   ]
  },
  {
   "cell_type": "code",
   "execution_count": 6,
   "metadata": {},
   "outputs": [
    {
     "data": {
      "text/html": [
       "<div>\n",
       "<style scoped>\n",
       "    .dataframe tbody tr th:only-of-type {\n",
       "        vertical-align: middle;\n",
       "    }\n",
       "\n",
       "    .dataframe tbody tr th {\n",
       "        vertical-align: top;\n",
       "    }\n",
       "\n",
       "    .dataframe thead th {\n",
       "        text-align: right;\n",
       "    }\n",
       "</style>\n",
       "<table border=\"1\" class=\"dataframe\">\n",
       "  <thead>\n",
       "    <tr style=\"text-align: right;\">\n",
       "      <th></th>\n",
       "      <th>typeOfDiagnosis</th>\n",
       "      <th>mean</th>\n",
       "      <th>median</th>\n",
       "      <th>std</th>\n",
       "    </tr>\n",
       "  </thead>\n",
       "  <tbody>\n",
       "    <tr>\n",
       "      <th>0</th>\n",
       "      <td>0</td>\n",
       "      <td>129</td>\n",
       "      <td>130</td>\n",
       "      <td>16</td>\n",
       "    </tr>\n",
       "    <tr>\n",
       "      <th>1</th>\n",
       "      <td>1</td>\n",
       "      <td>135</td>\n",
       "      <td>130</td>\n",
       "      <td>19</td>\n",
       "    </tr>\n",
       "  </tbody>\n",
       "</table>\n",
       "</div>"
      ],
      "text/plain": [
       "   typeOfDiagnosis  mean  median  std\n",
       "0                0   129     130   16\n",
       "1                1   135     130   19"
      ]
     },
     "execution_count": 6,
     "metadata": {},
     "output_type": "execute_result"
    }
   ],
   "source": [
    "#Question 2\n",
    "summaryDfBP = pd.DataFrame(\n",
    "    [val, round(np.mean(df[df.num == val].trestbps)),\n",
    "     round(np.median(df[df.num == val].trestbps)),\n",
    "     round(np.std(df[df.num == val].trestbps))]\n",
    "    for val in np.unique(df.num)\n",
    ")\n",
    "summaryDfBP.columns = ['typeOfDiagnosis', 'mean', 'median', 'std']\n",
    "summaryDfBP"
   ]
  },
  {
   "cell_type": "code",
   "execution_count": 7,
   "metadata": {},
   "outputs": [
    {
     "data": {
      "image/png": "[encoded data removed]",
      "text/plain": [
       "<Figure size 432x288 with 2 Axes>"
      ]
     },
     "metadata": {
      "needs_background": "light"
     },
     "output_type": "display_data"
    }
   ],
   "source": [
    "#Question 3\n",
    "spearman_corr = df[['Age', 'trestbps','chol','thalach']].corr(method = \"spearman\")\n",
    "spearman_heatmap = sns.heatmap(spearman_corr,vmin=-1, vmax=1,annot=True)\n",
    "spearman_heatmap.set_title('Spearman\\'s Correlation Heatmap')\n",
    "plt.show()"
   ]
  },
  {
   "cell_type": "markdown",
   "metadata": {},
   "source": [
    "Age is most correlated with resting blood pressure. Spearman's correlation coefficient: 0.29"
   ]
  },
  {
   "cell_type": "code",
   "execution_count": 8,
   "metadata": {},
   "outputs": [
    {
     "data": {
      "image/png": "[encoded data removed]",
      "text/plain": [
       "<Figure size 432x288 with 2 Axes>"
      ]
     },
     "metadata": {
      "needs_background": "light"
     },
     "output_type": "display_data"
    }
   ],
   "source": [
    "kendall_corr = df[['Age', 'trestbps','chol','thalach']].corr(method = \"kendall\")\n",
    "kendall_heatmap = sns.heatmap(kendall_corr,vmin=-1, vmax=1,annot=True)\n",
    "kendall_heatmap.set_title('Kendall\\'s Correlation Heatmap')\n",
    "plt.show()"
   ]
  },
  {
   "cell_type": "markdown",
   "metadata": {},
   "source": [
    "Age is most correlated with resting blood pressure. Kendall's correlation coefficient: 0.21"
   ]
  },
  {
   "cell_type": "markdown",
   "metadata": {},
   "source": [
    "**Question 4:**\n",
    "\n",
    "Discrete: sex, cp, fbs, resetecg, exang, slope, thal, ca, num\n",
    "Continuous: trestbps, chol, thalach\n",
    "\n",
    "Age is considered a discrete variable if only the number of years is counted, or continuous if measured as a time variable."
   ]
  },
  {
   "cell_type": "code",
   "execution_count": 9,
   "metadata": {},
   "outputs": [
    {
     "data": {
      "image/png": "[encoded data removed]",
      "text/plain": [
       "<Figure size 432x288 with 1 Axes>"
      ]
     },
     "metadata": {
      "needs_background": "light"
     },
     "output_type": "display_data"
    }
   ],
   "source": [
    "#Question 5\n",
    "sns.histplot(df[\"thalach\"])\n",
    "plt.title(\"Distribution of thalach\")\n",
    "plt.show()"
   ]
  },
  {
   "cell_type": "markdown",
   "metadata": {},
   "source": [
    "thalach is negative distribution (skewed left)"
   ]
  },
  {
   "cell_type": "code",
   "execution_count": 10,
   "metadata": {},
   "outputs": [
    {
     "data": {
      "image/png": "[encoded data removed]",
      "text/plain": [
       "<Figure size 432x288 with 1 Axes>"
      ]
     },
     "metadata": {
      "needs_background": "light"
     },
     "output_type": "display_data"
    }
   ],
   "source": [
    "#Question 6\n",
    "gender = df.Sex.value_counts()\n",
    "sns.barplot(x=gender.index, y=gender.values)\n",
    "plt.title(\"Frequency of Gender\")\n",
    "plt.show()"
   ]
  },
  {
   "cell_type": "code",
   "execution_count": 11,
   "metadata": {},
   "outputs": [
    {
     "data": {
      "image/png": "[encoded data removed]",
      "text/plain": [
       "<Figure size 432x288 with 1 Axes>"
      ]
     },
     "metadata": {
      "needs_background": "light"
     },
     "output_type": "display_data"
    }
   ],
   "source": [
    "male_df = df.loc[df['Sex']==1]\n",
    "ca = male_df.ca.value_counts()\n",
    "sns.barplot(x=ca.index, y=ca.values)\n",
    "plt.title(\"Distribution of ca in Male Participants\")\n",
    "plt.show()"
   ]
  },
  {
   "cell_type": "code",
   "execution_count": 12,
   "metadata": {},
   "outputs": [],
   "source": [
    "#Question 7\n",
    "from scipy.stats import iqr\n",
    "def outliers(feature):\n",
    "    \"\"\"Calculates the outlier for different features.\n",
    "    Args:\n",
    "    feature: features for which the outliers needs to be computed.\n",
    "    Returns:\n",
    "    The indices of the outliers.\n",
    "    \"\"\"\n",
    "    sns.boxplot(x=df[feature])\n",
    "    plt.show()\n",
    "    q1, q3= np.percentile(df[feature],[25,75])\n",
    "    lower_bound = q1 -(1.5 * iqr(df[feature])) \n",
    "    upper_bound = q3 +(1.5 * iqr(df[feature])) \n",
    "    print(lower_bound, upper_bound)\n",
    "    indices = np.where((df[feature] < lower_bound) | (df[feature] > upper_bound))\n",
    "    return indices"
   ]
  },
  {
   "cell_type": "code",
   "execution_count": 13,
   "metadata": {},
   "outputs": [
    {
     "data": {
      "image/png": "[encoded data removed]",
      "text/plain": [
       "<Figure size 432x288 with 1 Axes>"
      ]
     },
     "metadata": {
      "needs_background": "light"
     },
     "output_type": "display_data"
    },
    {
     "name": "stdout",
     "output_type": "stream",
     "text": [
      "90.0 170.0\n"
     ]
    },
    {
     "data": {
      "text/plain": [
       "(array([ 14,  83, 126, 172, 183, 188, 201, 213, 231]),)"
      ]
     },
     "execution_count": 13,
     "metadata": {},
     "output_type": "execute_result"
    }
   ],
   "source": [
    "outliers('trestbps')"
   ]
  },
  {
   "cell_type": "code",
   "execution_count": 14,
   "metadata": {},
   "outputs": [
    {
     "data": {
      "image/png": "[encoded data removed]",
      "text/plain": [
       "<Figure size 432x288 with 1 Axes>"
      ]
     },
     "metadata": {
      "needs_background": "light"
     },
     "output_type": "display_data"
    },
    {
     "name": "stdout",
     "output_type": "stream",
     "text": [
      "84.75 214.75\n"
     ]
    },
    {
     "data": {
      "text/plain": [
       "(array([245]),)"
      ]
     },
     "execution_count": 14,
     "metadata": {},
     "output_type": "execute_result"
    }
   ],
   "source": [
    "outliers('thalach')"
   ]
  },
  {
   "cell_type": "markdown",
   "metadata": {
    "id": "anHv-IRCXVkK"
   },
   "source": [
    "## **Exercise 2 - Probability (total: 4 points)** "
   ]
  },
  {
   "cell_type": "markdown",
   "metadata": {},
   "source": [
    "### **2.1** Suppose a discrete random variable, MMSE (Mini mental state examination), cognitive test measured for Alzheimer’s disease (AD) has the following probability mass function:\n",
    "\n",
    "### Find the probability that MMSE:\n",
    "  \n",
    "####  a) at least 22 (1 point)\n",
    "  \n",
    "####  b) at least 14 and at most 28 (1 point)"
   ]
  },
  {
   "cell_type": "markdown",
   "metadata": {
    "id": "z4Tm0X90Ymm3"
   },
   "source": [
    "a)\n",
    "p(X>=22) = p(22) + p(14) + p(8) + p(5) = 0.17 + 0.16 + 0.27 + 0.05 = 0.65\n",
    "\n",
    "b) \n",
    "p(14<=X<=28) =  p(14) + p(22) + p(24) + p(28) = 0.16 + 0.17 + 0.3 + 0.12 = 0.75"
   ]
  },
  {
   "cell_type": "markdown",
   "metadata": {
    "id": "JS98K4PLZI5Q"
   },
   "source": [
    "### **2.2** A company produced antibody testing kits for COVID-19. The false positive rate of the test is known to be 3%. What is the probability to find at least 2 false positive results within 35 tested patients? (2 points)\n"
   ]
  },
  {
   "cell_type": "markdown",
   "metadata": {
    "id": "Ua_QL8pndGFD"
   },
   "source": [
    "**Binomial coefficient**\n",
    "\n",
    "Probability mass function:\n",
    "\n",
    "$$Bin(n|k,p) = \\binom{n}{k}p^k(1-p)^{n-k}$$\n",
    "\n",
    "\n",
    "$$\\binom{n}{k} = \\frac{n!}{(n - k)!k!}$$\n",
    "\n",
    "\n",
    "$k = 1, n = 35, p = 0.03$\n",
    "\n",
    "$$P(no false positive) = (1 - 0.03)^{35} =  0.344$$\n",
    "\n",
    "$$P(one false postive) = (35!/(35-1)!1!) * 0.03^{1} * (1-0.03)^{34} = 35 * 0.03 * (1-0.03)^{34} = 0.373$$\n",
    "\n",
    "$$P(at least two false positives) = 1 - P(no false positives) - P(one false positive) = 1 - 0.344 - 0.373 = 0.283$$"
   ]
  },
  {
   "cell_type": "markdown",
   "metadata": {
    "id": "ilBJTQMEzJHL"
   },
   "source": [
    "## Exercise 3 - Hypothesis Testing (total: 8 points)"
   ]
  },
  {
   "cell_type": "code",
   "execution_count": 15,
   "metadata": {
    "executionInfo": {
     "elapsed": 1121,
     "status": "ok",
     "timestamp": 1620039038969,
     "user": {
      "displayName": "vinay bharadhwaj",
      "photoUrl": "https://lh3.googleusercontent.com/a-/AOh14GjzprLdvEHTkR_zJnWucrvTk-wrHfzSwSretDpdSJk=s64",
      "userId": "16009644865536746957"
     },
     "user_tz": -120
    },
    "id": "xQJh-ytc19G8"
   },
   "outputs": [],
   "source": [
    "import pandas as pd\n",
    "import seaborn as sns\n",
    "import numpy as np\n",
    "import scipy as sp\n",
    "from itertools import combinations"
   ]
  },
  {
   "cell_type": "markdown",
   "metadata": {
    "id": "Rj0_2HkOzTzO"
   },
   "source": [
    "### Are all the criteria for carrying out a t-test to identify a significant difference in the age of patients who have heart disease and those who don’t, met? (3 points)\n"
   ]
  },
  {
   "cell_type": "markdown",
   "metadata": {
    "id": "L1n2BozFz2vA"
   },
   "source": [
    "#### If criteria is not met, point out the unmet conditions for the variables, and mention a possible solution in-order to combat this issue. "
   ]
  },
  {
   "cell_type": "markdown",
   "metadata": {
    "id": "7xanRwtezcsO"
   },
   "source": [
    "* No, the age feature is not normally distributed. This can be tested for using either Shapiro-Wilk's test (as shown in the code cell below) or by plotting the distribution of the feature\n",
    "* There are multiple solutions to combat this issue, namely:\n",
    "  1. Using a non-parametric hypothesis test, such as Mann-Whitney U test\n",
    "  0. A creative solution to the problem is to take the logarithm of the 2 groups (with heart disease, and without) and carry out the t-test on the log-transformed values\n",
    "\n",
    "**Note - If you were to take the logarithm, you need to still make sure that the 2 groups have equal variances (take a look at Levene's test)** "
   ]
  },
  {
   "cell_type": "code",
   "execution_count": 16,
   "metadata": {
    "colab": {
     "base_uri": "https://localhost:8080/"
    },
    "executionInfo": {
     "elapsed": 415,
     "status": "ok",
     "timestamp": 1620039513570,
     "user": {
      "displayName": "vinay bharadhwaj",
      "photoUrl": "https://lh3.googleusercontent.com/a-/AOh14GjzprLdvEHTkR_zJnWucrvTk-wrHfzSwSretDpdSJk=s64",
      "userId": "16009644865536746957"
     },
     "user_tz": -120
    },
    "id": "uOot5FMXzRr-",
    "outputId": "7c9fdb7f-a3c8-4c64-eb31-cb5b18eaf006"
   },
   "outputs": [
    {
     "name": "stdout",
     "output_type": "stream",
     "text": [
      "Shapiro test for patients with heart disease:\n",
      "\tStatistic: 0.9677355885505676 & P-Value: 0.002255889819934964\n",
      "\n",
      "Shapiro test for normal patients:\n",
      "\tStatistic: 0.9870028495788574 & P-Value: 0.1320628970861435\n"
     ]
    }
   ],
   "source": [
    "# Split the age feature into 2 groups\n",
    "heart_disease = df[df['num'] == 1]['Age'].copy()\n",
    "normal = df[df['num'] == 0]['Age'].copy()\n",
    "\n",
    "# Shapiro-Wilks test\n",
    "stat, pval = sp.stats.shapiro(heart_disease)\n",
    "print(f\"Shapiro test for patients with heart disease:\\n\\tStatistic: {stat} & P-Value: {pval}\\n\")\n",
    "\n",
    "stat, pval = sp.stats.shapiro(normal)\n",
    "print(f\"Shapiro test for normal patients:\\n\\tStatistic: {stat} & P-Value: {pval}\")"
   ]
  },
  {
   "cell_type": "markdown",
   "metadata": {
    "id": "6_Bcer2G3s8L"
   },
   "source": [
    "The Shapiro-Wilk test tests the null hypothesis that the data was drawn from a normal distribution. And as the p-value for the normal patients is not significant, a normal distribution cannot be assumed. Due to which we must carry out a different test or a data transformation step to account for it."
   ]
  },
  {
   "cell_type": "markdown",
   "metadata": {
    "id": "s1tCZN3d5bo5"
   },
   "source": [
    "In order to account for the non-normality we will now take the logarithm of the age feature for the 2 groups."
   ]
  },
  {
   "cell_type": "code",
   "execution_count": 17,
   "metadata": {
    "colab": {
     "base_uri": "https://localhost:8080/"
    },
    "executionInfo": {
     "elapsed": 713,
     "status": "ok",
     "timestamp": 1620040172783,
     "user": {
      "displayName": "vinay bharadhwaj",
      "photoUrl": "https://lh3.googleusercontent.com/a-/AOh14GjzprLdvEHTkR_zJnWucrvTk-wrHfzSwSretDpdSJk=s64",
      "userId": "16009644865536746957"
     },
     "user_tz": -120
    },
    "id": "Vsjmrc_43i0g",
    "outputId": "a8c0efc6-f469-4d64-81e2-7def5564a420"
   },
   "outputs": [
    {
     "name": "stdout",
     "output_type": "stream",
     "text": [
      "Levene's test:\n",
      "\tStatistic: 10.64895386190539, P-Value: 0.0012280952241828288\n",
      "\n",
      "T-Test of log transformed values:\n",
      "\t Statistic: 4.09425064523287, P-Value: 5.447049903915471e-05\n"
     ]
    }
   ],
   "source": [
    "# Levene's test to test equality of variance between the 2 groups\n",
    "levene_result = sp.stats.levene(np.log(heart_disease), np.log(normal))\n",
    "print(f\"Levene's test:\\n\\tStatistic: {levene_result.statistic}, P-Value: {levene_result.pvalue}\\n\")\n",
    "\n",
    "# T-Test\n",
    "t_test = sp.stats.ttest_ind(np.log(heart_disease), np.log(normal), equal_var = True)   \n",
    "print(f\"T-Test of log transformed values:\\n\\t Statistic: {t_test.statistic}, P-Value: {t_test.pvalue}\")"
   ]
  },
  {
   "cell_type": "markdown",
   "metadata": {
    "id": "ejeq0DCT7BTR"
   },
   "source": [
    "### Identify if women are significantly more likely to get heart disease than men? (2 points)"
   ]
  },
  {
   "cell_type": "code",
   "execution_count": 18,
   "metadata": {
    "colab": {
     "base_uri": "https://localhost:8080/"
    },
    "executionInfo": {
     "elapsed": 480,
     "status": "ok",
     "timestamp": 1620042210264,
     "user": {
      "displayName": "vinay bharadhwaj",
      "photoUrl": "https://lh3.googleusercontent.com/a-/AOh14GjzprLdvEHTkR_zJnWucrvTk-wrHfzSwSretDpdSJk=s64",
      "userId": "16009644865536746957"
     },
     "user_tz": -120
    },
    "id": "QAZRbTQs6r7A",
    "outputId": "f41a8ba3-e526-4b95-d576-4126b5c71450"
   },
   "outputs": [
    {
     "name": "stdout",
     "output_type": "stream",
     "text": [
      "Fisher's exact test:\n",
      "\tOdds of women being more prone to heart disease than men: 3.57,\n",
      "\tP-Value: 1.2589439001519399e-06\n"
     ]
    }
   ],
   "source": [
    "# Generate a contingency table\n",
    "tab = pd.crosstab(df['num'], df['Sex'])\n",
    "\n",
    "# Carry out Fisher's exact test\n",
    "odds, pvalue = sp.stats.fisher_exact(tab)\n",
    "print(f\"Fisher's exact test:\\n\\tOdds of women being more prone to heart disease than men: {odds:.3},\\n\\tP-Value: {pvalue}\")"
   ]
  },
  {
   "cell_type": "markdown",
   "metadata": {
    "id": "SGcRNRbmCre4"
   },
   "source": [
    "Using Fisher's exact test, we can identify that the Sex variable has some association with the possiblity of development of heart disease.\n",
    "\n",
    "In order to identify if women are more like to get heart disease or not we must look at the distribution of the data."
   ]
  },
  {
   "cell_type": "code",
   "execution_count": 19,
   "metadata": {},
   "outputs": [
    {
     "data": {
      "text/plain": [
       "<AxesSubplot:xlabel='Sex', ylabel='count'>"
      ]
     },
     "execution_count": 19,
     "metadata": {},
     "output_type": "execute_result"
    },
    {
     "data": {
      "image/png": "[encoded data removed]",
      "text/plain": [
       "<Figure size 432x288 with 1 Axes>"
      ]
     },
     "metadata": {
      "needs_background": "light"
     },
     "output_type": "display_data"
    }
   ],
   "source": [
    "sns.countplot(data=df, x=\"Sex\", hue=\"num\")"
   ]
  },
  {
   "cell_type": "markdown",
   "metadata": {},
   "source": [
    "This distribution of the data shows us that men are more likely to get heart disease than men."
   ]
  },
  {
   "cell_type": "markdown",
   "metadata": {
    "id": "c3I1xDcJELb-"
   },
   "source": [
    "### And using χ²−test, identify if there is a significant association between exercise induced angina (exang), and the slope of the peak exercise ST segment (slope)? (3 points)"
   ]
  },
  {
   "cell_type": "markdown",
   "metadata": {
    "id": "SxRxzUKUEgDT"
   },
   "source": [
    "Similar to Fisher's test, χ²−test is also a test on categorical variables. But χ²−test is only an approximation and not an \"exact\" test to identify the association between 2 variables."
   ]
  },
  {
   "cell_type": "code",
   "execution_count": 20,
   "metadata": {
    "colab": {
     "base_uri": "https://localhost:8080/"
    },
    "executionInfo": {
     "elapsed": 1088,
     "status": "ok",
     "timestamp": 1620042881965,
     "user": {
      "displayName": "vinay bharadhwaj",
      "photoUrl": "https://lh3.googleusercontent.com/a-/AOh14GjzprLdvEHTkR_zJnWucrvTk-wrHfzSwSretDpdSJk=s64",
      "userId": "16009644865536746957"
     },
     "user_tz": -120
    },
    "id": "Q2GcWCzUEeTh",
    "outputId": "7c70d972-c39c-4351-b3da-8bdfb15be351"
   },
   "outputs": [
    {
     "name": "stdout",
     "output_type": "stream",
     "text": [
      "Chi square test:\n",
      "\tChi: 25.131165603245137\n",
      "\tPvalue: 3.490090811425977e-06\n"
     ]
    }
   ],
   "source": [
    "# Generate a contingency table for slope and exercise induced angina\n",
    "tab = pd.crosstab(df['exang'], df['slope'])\n",
    "\n",
    "# Carry out Chi-Square test to identif the association\n",
    "chi, pvalue, dof, expected = sp.stats.chi2_contingency(tab)\n",
    "print(f\"Chi square test:\\n\\tChi: {chi}\\n\\tPvalue: {pvalue}\")"
   ]
  },
  {
   "cell_type": "markdown",
   "metadata": {
    "id": "PwiAiI8vFLPm"
   },
   "source": [
    "It can be see that there is definitely an association between the exercise induced angina and the slope of the peak exercise ST segment. "
   ]
  }
 ],
 "metadata": {
  "colab": {
   "collapsed_sections": [],
   "name": "Assignment 2 Solutions.ipynb",
   "provenance": []
  },
  "kernelspec": {
   "display_name": "Python 3",
   "language": "python",
   "name": "python3"
  },
  "language_info": {
   "codemirror_mode": {
    "name": "ipython",
    "version": 3
   },
   "file_extension": ".py",
   "mimetype": "text/x-python",
   "name": "python",
   "nbconvert_exporter": "python",
   "pygments_lexer": "ipython3",
   "version": "3.7.8"
  }
 },
 "nbformat": 4,
 "nbformat_minor": 1
}
