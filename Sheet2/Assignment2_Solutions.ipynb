{
 "cells": [
  {
   "cell_type": "markdown",
   "metadata": {},
   "source": [
    "## Biomedical Data Science & AI\n",
    "\n",
    "## Assignment 2\n",
    "\n",
    "#### Group members:  Fabrice Beaumont, Fatemeh Salehi, Genivika Mann, Helia Salimi, Jonah"
   ]
  },
  {
   "cell_type": "markdown",
   "metadata": {},
   "source": [
    "#### **Exercise 1 - Understanding Your Dataset**\n",
    "**Load the processedClevelandData.csv dataset. The features for the dataset are\n",
    "described in the featureDescription.csv file.**"
   ]
  },
  {
   "cell_type": "code",
   "execution_count": 2,
   "metadata": {},
   "outputs": [],
   "source": [
    "import pandas as pd"
   ]
  },
  {
   "cell_type": "code",
   "execution_count": 3,
   "metadata": {},
   "outputs": [
    {
     "name": "stdout",
     "output_type": "stream",
     "text": [
      "The dataset contains 303 rows and 14 columns.\n",
      "   id   Age  Sex   cp  trestbps   chol  fbs  resetecg  thalach  exang  slope  \\\n",
      "0   1  63.0  1.0  1.0     145.0  233.0  1.0       2.0    150.0    0.0    3.0   \n",
      "1   2  67.0  1.0  4.0     160.0  286.0  0.0       2.0    108.0    1.0    2.0   \n",
      "2   3  67.0  1.0  4.0     120.0  229.0  0.0       2.0    129.0    1.0    2.0   \n",
      "3   4  37.0  1.0  3.0     130.0  250.0  0.0       0.0    187.0    0.0    3.0   \n",
      "4   5  41.0  0.0  2.0     130.0  204.0  0.0       2.0    172.0    0.0    1.0   \n",
      "\n",
      "    ca thal  num  \n",
      "0  0.0  6.0    0  \n",
      "1  3.0  3.0    1  \n",
      "2  2.0  7.0    1  \n",
      "3  0.0  3.0    0  \n",
      "4  0.0  3.0    0  \n"
     ]
    }
   ],
   "source": [
    "# load dataset in dataframe\n",
    "cleveland_dataset = pd.read_csv( \"processedClevelandData.csv\", sep = \";\" )\n",
    "nr_rows, nr_cols = cleveland_dataset.shape\n",
    "print( f\"The dataset contains {nr_rows} rows and {nr_cols} columns.\" )\n",
    "print( cleveland_dataset.head(5) )"
   ]
  },
  {
   "cell_type": "code",
   "execution_count": 64,
   "metadata": {},
   "outputs": [
    {
     "name": "stdout",
     "output_type": "stream",
     "text": [
      "The dataset contains 27 rows and 2 columns.\n",
      "                                             features  \\\n",
      "0                                                  id   \n",
      "1                                                 Age   \n",
      "2                   Sex;\"sex (1 = male; 0 = female) \"   \n",
      "3                                cp;\"chest pain type    \n",
      "4                         -- Value 1: typical angina    \n",
      "5                        -- Value 2: atypical angina    \n",
      "6                       -- Value 3: non-anginal pain    \n",
      "7                          -- Value 4: asymptomatic \"   \n",
      "8                                            trestbps   \n",
      "9                                                chol   \n",
      "10  fbs;\"(fasting blood sugar > 120 mg/dl) (1 = tr...   \n",
      "11   resetecg;\" resting electrocardiographic results    \n",
      "12                                -- Value 0: normal    \n",
      "13  -- Value 1: having ST-T wave abnormality (T wa...   \n",
      "14  -- Value 2: showing probable or definite left ...   \n",
      "15                                            thalach   \n",
      "16  exang;\"exercise induced angina (1 = yes; 0 = n...   \n",
      "17  slope;\" the slope of the peak exercise ST segm...   \n",
      "18                             -- Value 1: upsloping    \n",
      "19                                  -- Value 2: flat    \n",
      "20                          -- Value 3: downsloping \"   \n",
      "21                                                 ca   \n",
      "22  thal;\"3 = normal; 6 = fixed defect; 7 = revers...   \n",
      "23  num;\" diagnosis of heart disease (angiographic...   \n",
      "24              -- Value 0: < 50% diameter narrowing    \n",
      "25              -- Value 1: > 50% diameter narrowing    \n",
      "26  (in any major vessel: attributes 59 through 68...   \n",
      "\n",
      "                                          description  \n",
      "0                       patient identification number  \n",
      "1                                        age in years  \n",
      "2                                                 NaN  \n",
      "3                                                 NaN  \n",
      "4                                                 NaN  \n",
      "5                                                 NaN  \n",
      "6                                                 NaN  \n",
      "7                                                 NaN  \n",
      "8   resting blood pressure (in mm Hg on admission ...  \n",
      "9                         serum cholestoral in mg/dl   \n",
      "10                                                NaN  \n",
      "11                                                NaN  \n",
      "12                                                NaN  \n",
      "13                                                NaN  \n",
      "14                                                NaN  \n",
      "15                       maximum heart rate achieved   \n",
      "16                                                NaN  \n",
      "17                                                NaN  \n",
      "18                                                NaN  \n",
      "19                                                NaN  \n",
      "20                                                NaN  \n",
      "21  number of major vessels (0-3) colored by flour...  \n",
      "22                                                NaN  \n",
      "23                                                NaN  \n",
      "24                                                NaN  \n",
      "25                                                NaN  \n",
      "26                                                NaN  \n"
     ]
    }
   ],
   "source": [
    "# load feature description in data frame\n",
    "feature_description = pd.read_csv( \"featureDescription.csv\", sep = \";\" )\n",
    "nr_rows, nr_cols = feature_description.shape\n",
    "print( f\"The dataset contains {nr_rows} rows and {nr_cols} columns.\" )\n",
    "\n",
    "print( feature_description )\n",
    "# feature_description.style"
   ]
  },
  {
   "cell_type": "markdown",
   "metadata": {},
   "source": [
    "**1. Perform data cleaning procedures such that your final dataset is usable in the\n",
    "following questions.**"
   ]
  },
  {
   "cell_type": "markdown",
   "metadata": {},
   "source": [
    "1. Check unique values in each column, to remove any column without any unique value"
   ]
  },
  {
   "cell_type": "code",
   "execution_count": 5,
   "metadata": {},
   "outputs": [
    {
     "name": "stdout",
     "output_type": "stream",
     "text": [
      "No. of unique values in each column\n",
      "id          303\n",
      "Age          41\n",
      "Sex           2\n",
      "cp            4\n",
      "trestbps     50\n",
      "chol        152\n",
      "fbs           2\n",
      "resetecg      3\n",
      "thalach      91\n",
      "exang         2\n",
      "slope         3\n",
      "ca            5\n",
      "thal          4\n",
      "num           2\n",
      "dtype: int64\n"
     ]
    }
   ],
   "source": [
    "print( 'No. of unique values in each column')\n",
    "print( cleveland_dataset.nunique() )"
   ]
  },
  {
   "cell_type": "markdown",
   "metadata": {},
   "source": [
    "2. Check and remove duplicate rows in dataset"
   ]
  },
  {
   "cell_type": "code",
   "execution_count": 6,
   "metadata": {},
   "outputs": [
    {
     "name": "stdout",
     "output_type": "stream",
     "text": [
      "There are 0 duplicated rows.\n"
     ]
    }
   ],
   "source": [
    "import numpy as np\n",
    "# count no. of duplicate rows\n",
    "nr_duplicated_rows = np.sum( cleveland_dataset.duplicated() )\n",
    "print( f\"There are {nr_duplicated_rows} duplicated rows.\" ) "
   ]
  },
  {
   "cell_type": "markdown",
   "metadata": {},
   "source": [
    "3. Check and remove missing values in dataset"
   ]
  },
  {
   "cell_type": "code",
   "execution_count": 66,
   "metadata": {},
   "outputs": [
    {
     "name": "stdout",
     "output_type": "stream",
     "text": [
      "There are 0 values missing (or NaN) in all columns and rows.\n"
     ]
    }
   ],
   "source": [
    "# count no. of missing values in the dataset\n",
    "nr_missing_values = cleveland_dataset.isna().sum().sum()\n",
    "print(f\"There are {nr_missing_values} values missing (or NaN) in all columns and rows.\")"
   ]
  },
  {
   "cell_type": "markdown",
   "metadata": {},
   "source": [
    "4. Change index of dataset to the 'id' column"
   ]
  },
  {
   "cell_type": "code",
   "execution_count": 8,
   "metadata": {},
   "outputs": [
    {
     "data": {
      "text/plain": [
       "True"
      ]
     },
     "execution_count": 8,
     "metadata": {},
     "output_type": "execute_result"
    }
   ],
   "source": [
    "# Check whether `id` column uniquely identifies each row\n",
    "cleveland_dataset[ 'id' ].is_unique "
   ]
  },
  {
   "cell_type": "code",
   "execution_count": 9,
   "metadata": {},
   "outputs": [
    {
     "name": "stdout",
     "output_type": "stream",
     "text": [
      "      Age  Sex   cp  trestbps   chol  fbs  resetecg  thalach  exang  slope  \\\n",
      "id                                                                           \n",
      "1    63.0  1.0  1.0     145.0  233.0  1.0       2.0    150.0    0.0    3.0   \n",
      "2    67.0  1.0  4.0     160.0  286.0  0.0       2.0    108.0    1.0    2.0   \n",
      "3    67.0  1.0  4.0     120.0  229.0  0.0       2.0    129.0    1.0    2.0   \n",
      "4    37.0  1.0  3.0     130.0  250.0  0.0       0.0    187.0    0.0    3.0   \n",
      "5    41.0  0.0  2.0     130.0  204.0  0.0       2.0    172.0    0.0    1.0   \n",
      "..    ...  ...  ...       ...    ...  ...       ...      ...    ...    ...   \n",
      "299  45.0  1.0  1.0     110.0  264.0  0.0       0.0    132.0    0.0    2.0   \n",
      "300  68.0  1.0  4.0     144.0  193.0  1.0       0.0    141.0    0.0    2.0   \n",
      "301  57.0  1.0  4.0     130.0  131.0  0.0       0.0    115.0    1.0    2.0   \n",
      "302  57.0  0.0  2.0     130.0  236.0  0.0       2.0    174.0    0.0    2.0   \n",
      "303  38.0  1.0  3.0     138.0  175.0  0.0       0.0    173.0    0.0    1.0   \n",
      "\n",
      "      ca thal  num  \n",
      "id                  \n",
      "1    0.0  6.0    0  \n",
      "2    3.0  3.0    1  \n",
      "3    2.0  7.0    1  \n",
      "4    0.0  3.0    0  \n",
      "5    0.0  3.0    0  \n",
      "..   ...  ...  ...  \n",
      "299  0.0  7.0    1  \n",
      "300  2.0  7.0    1  \n",
      "301  1.0  7.0    1  \n",
      "302  1.0  3.0    1  \n",
      "303    ?  3.0    0  \n",
      "\n",
      "[303 rows x 13 columns]\n"
     ]
    }
   ],
   "source": [
    "# Change index of dataset to `id` column\n",
    "cleveland_dataset.set_index( 'id', inplace = True )\n",
    "print( cleveland_dataset )"
   ]
  },
  {
   "cell_type": "markdown",
   "metadata": {},
   "source": [
    "5. Check for inconsistent data"
   ]
  },
  {
   "cell_type": "code",
   "execution_count": 10,
   "metadata": {},
   "outputs": [
    {
     "data": {
      "text/plain": [
       "Age         float64\n",
       "Sex         float64\n",
       "cp          float64\n",
       "trestbps    float64\n",
       "chol        float64\n",
       "fbs         float64\n",
       "resetecg    float64\n",
       "thalach     float64\n",
       "exang       float64\n",
       "slope       float64\n",
       "ca           object\n",
       "thal         object\n",
       "num           int64\n",
       "dtype: object"
      ]
     },
     "execution_count": 10,
     "metadata": {},
     "output_type": "execute_result"
    }
   ],
   "source": [
    "# list datatype of the data present in each column\n",
    "cleveland_dataset.dtypes"
   ]
  },
  {
   "cell_type": "code",
   "execution_count": 11,
   "metadata": {},
   "outputs": [
    {
     "name": "stdout",
     "output_type": "stream",
     "text": [
      "Value counts of `ca` column \n",
      "0.0    176\n",
      "1.0     65\n",
      "2.0     38\n",
      "3.0     20\n",
      "?        4\n",
      "Name: ca, dtype: int64\n",
      "Value counts of `thal` column \n",
      "3.0    166\n",
      "7.0    117\n",
      "6.0     18\n",
      "?        2\n",
      "Name: thal, dtype: int64\n"
     ]
    }
   ],
   "source": [
    "# examine values present in `ca` column and `thal` column\n",
    "print( 'Value counts of `ca` column ' )\n",
    "print( cleveland_dataset[ 'ca' ].value_counts() )\n",
    "print( 'Value counts of `thal` column ' )\n",
    "print( cleveland_dataset[ 'thal' ].value_counts() )"
   ]
  },
  {
   "cell_type": "markdown",
   "metadata": {},
   "source": [
    "The value `?` is present in column `ca` and `thal`. We drop all rows containing `?` value for these columns."
   ]
  },
  {
   "cell_type": "code",
   "execution_count": 12,
   "metadata": {},
   "outputs": [],
   "source": [
    "cleveland_dataset = cleveland_dataset[ ( cleveland_dataset[ \"ca\" ] != \"?\" ) ]\n",
    "cleveland_dataset = cleveland_dataset[ ( cleveland_dataset[ \"thal\" ] != \"?\" ) ]"
   ]
  },
  {
   "cell_type": "code",
   "execution_count": 13,
   "metadata": {},
   "outputs": [
    {
     "name": "stdout",
     "output_type": "stream",
     "text": [
      "0.0    174\n",
      "1.0     65\n",
      "2.0     38\n",
      "3.0     20\n",
      "Name: ca, dtype: int64\n"
     ]
    }
   ],
   "source": [
    "# `?` removed in `ca` column\n",
    "print( cleveland_dataset[ 'ca' ].value_counts() )"
   ]
  },
  {
   "cell_type": "code",
   "execution_count": 14,
   "metadata": {},
   "outputs": [
    {
     "name": "stdout",
     "output_type": "stream",
     "text": [
      "3.0    164\n",
      "7.0    115\n",
      "6.0     18\n",
      "Name: thal, dtype: int64\n"
     ]
    }
   ],
   "source": [
    "# `?` removed in `thal` column\n",
    "print( cleveland_dataset[ 'thal' ].value_counts() )"
   ]
  },
  {
   "cell_type": "markdown",
   "metadata": {},
   "source": [
    "**2. For each type of diagnosis of heart disease, find the following for the resting blood pressure: Mean, Median, Standard Deviation**"
   ]
  },
  {
   "cell_type": "code",
   "execution_count": 15,
   "metadata": {},
   "outputs": [
    {
     "name": "stdout",
     "output_type": "stream",
     "text": [
      "Diagnosis Value  0\n",
      "Mean 129.175\n",
      "Median 130.0\n",
      "Standard Deviation 16.37398995876728\n",
      "\n",
      "\n",
      "Diagnosis Value  1\n",
      "Mean 134.63503649635035\n",
      "Median 130.0\n",
      "Standard Deviation 18.896730153034394\n",
      "\n",
      "\n"
     ]
    }
   ],
   "source": [
    "def findDescriptiveStats( feature_values ):\n",
    "    ''' This method prints the mean, median and standard deviation\n",
    "    of a feature\n",
    "    Args:\n",
    "        feature_values: A series containing values of\n",
    "        a feature of dataset\n",
    "    '''\n",
    "    print( 'Mean', feature_values.mean() )\n",
    "    print( 'Median', feature_values.median() )\n",
    "    print( 'Standard Deviation', feature_values.std() )\n",
    "    \n",
    "    \n",
    "    \n",
    "'''\n",
    "For each type of heart diagnosis in 'num' column, do the following:-\n",
    "1. filter the rows for that diagnosis\n",
    "2. call findDescriptiveStats() to compute mean, median and standard deviation of 'trestbps' over filtered rows\n",
    "'''\n",
    "for diagnosis_value in cleveland_dataset[ 'num' ].unique():\n",
    "    print( \"Diagnosis Value \", diagnosis_value )\n",
    "    filtered_dataset = cleveland_dataset[ cleveland_dataset[ 'num'] == diagnosis_value ]\n",
    "    findDescriptiveStats( filtered_dataset[ 'trestbps' ] )\n",
    "    print( \"\\n\" )\n"
   ]
  },
  {
   "cell_type": "markdown",
   "metadata": {},
   "source": [
    "**3. Use Spearman's and Kendall correlation to quantify the correlation between\n",
    "age and the following.\n",
    "a. Resting blood pressure\n",
    "b. Serum cholesterol level\n",
    "c. Maximum heart rate achieved\n",
    "Also, which variable(s) are most correlated with age? Illustrate with heatmaps.**"
   ]
  },
  {
   "cell_type": "code",
   "execution_count": 16,
   "metadata": {},
   "outputs": [
    {
     "name": "stdout",
     "output_type": "stream",
     "text": [
      "Correlation between Age & 0\n",
      "Spearman Correlation Coeffiecient:\t 1.0\n",
      "Kendall Correlation Coeffiecient:\t 1.0\n",
      "\n",
      "\n",
      "Correlation between Age & 1\n",
      "Spearman Correlation Coeffiecient:\t -0.0954065894582443\n",
      "Kendall Correlation Coeffiecient:\t -0.0791902422292627\n",
      "\n",
      "\n",
      "Correlation between Age & 2\n",
      "Spearman Correlation Coeffiecient:\t 0.13272366453132223\n",
      "Kendall Correlation Coeffiecient:\t 0.10288045853579214\n",
      "\n",
      "\n"
     ]
    }
   ],
   "source": [
    "selected_features = [ 'trestbps', 'chol', 'thalach' ]\n",
    "\n",
    "# calculating coefficients for selected_features\n",
    "for ( feature_name, index ) in enumerate( selected_features ):\n",
    "    print( 'Correlation between', 'Age &', feature_name )\n",
    "    print( 'Spearman Correlation Coeffiecient:\\t', cleveland_dataset.corr(method = 'spearman' )[ 'Age' ][ feature_name ] )\n",
    "    print( 'Kendall Correlation Coeffiecient:\\t', cleveland_dataset.corr(method = 'kendall' )[ 'Age' ][ feature_name ] )\n",
    "    print( '\\n' )\n",
    "    "
   ]
  },
  {
   "cell_type": "markdown",
   "metadata": {},
   "source": [
    "The `Age` and `thalach` ( maximum heart rate achieved ) have highest negative correlation, while the `Age` and `trestbps` ( resting blood pressure ) have the highest positive correlation value. This is confirmed with the heatmap below:"
   ]
  },
  {
   "cell_type": "code",
   "execution_count": 17,
   "metadata": {},
   "outputs": [
    {
     "name": "stdout",
     "output_type": "stream",
     "text": [
      "     trestbps     chol   thalach\n",
      "Age   0.29961  0.18344 -0.392571\n"
     ]
    },
    {
     "data": {
      "image/png": "[encoded data removed]",
      "text/plain": [
       "<Figure size 432x288 with 2 Axes>"
      ]
     },
     "metadata": {
      "needs_background": "light"
     },
     "output_type": "display_data"
    },
    {
     "data": {
      "image/png": "[encoded data removed]",
      "text/plain": [
       "<Figure size 432x288 with 2 Axes>"
      ]
     },
     "metadata": {
      "needs_background": "light"
     },
     "output_type": "display_data"
    }
   ],
   "source": [
    "import matplotlib.pyplot as plt\n",
    "import seaborn as sns\n",
    "\n",
    "# slicing Spearman Correlation data frame & Kendall Correlation data frame to only keep rows/columns of interest\n",
    "Spearman_Corr = cleveland_dataset.corr(method = 'spearman' )\n",
    "Spearman_Corr = Spearman_Corr.loc[ [ 'Age' ],[ 'trestbps', 'chol', 'thalach' ] ]\n",
    "print( Spearman_Corr )\n",
    "Kendall_Corr = cleveland_dataset.corr(method = 'kendall' )\n",
    "Kendall_Corr = Kendall_Corr.loc[ [ 'Age' ],[ 'trestbps', 'chol', 'thalach' ] ]\n",
    "\n",
    "\n",
    "# plot the heatmap and annotation on it for Spearman Correlation \n",
    "sns.heatmap( Spearman_Corr, yticklabels = [ 'Age' ], xticklabels = [ 'trestbps', 'chol', 'thalach' ], annot = True)\n",
    "plt.title('Spearman Correlation Heat Map')\n",
    "plt.show()\n",
    "\n",
    "# plot the heatmap and annotation on it for Kendall Correlation\n",
    "sns.heatmap( Kendall_Corr, yticklabels = [ 'Age' ], xticklabels =  [ 'trestbps', 'chol', 'thalach' ], annot = True)\n",
    "plt.title('Kendall Correlation Heat Map')\n",
    "plt.show()"
   ]
  },
  {
   "cell_type": "markdown",
   "metadata": {},
   "source": [
    "**4.From your understanding, which of the features can be labeled as discrete\n",
    "random variables and which features as continuous random variables?**"
   ]
  },
  {
   "cell_type": "markdown",
   "metadata": {},
   "source": [
    "- Categorical features can be labelled as Discrete Random Variables. Hence the below features are Discrete Random Variables:\n",
    "Sex,        \n",
    "cp,              \n",
    "fbs,         \n",
    "resetecg,   \n",
    "exang,    \n",
    "slope,     \n",
    "thal,        \n",
    "num          \n",
    "\n",
    "- Non-Categorical/Continuous features can be labelled as Continuous Random Variables.The below features are Continuous Random Variables:\n",
    "Age,\n",
    "trestbps,\n",
    "chol,\n",
    "thalach,\n",
    "ca"
   ]
  },
  {
   "cell_type": "markdown",
   "metadata": {},
   "source": [
    "**5.Describe the distribution for the values of the \"thalach\" feature? Illustrate with a plot.**"
   ]
  },
  {
   "cell_type": "markdown",
   "metadata": {},
   "source": [
    "The `Thalach` feature follows a normal distribution with its mean lying around 160-170, which is illustrated by the density plot below:"
   ]
  },
  {
   "cell_type": "code",
   "execution_count": 18,
   "metadata": {},
   "outputs": [
    {
     "data": {
      "image/png": "[encoded data removed]",
      "text/plain": [
       "<Figure size 432x288 with 1 Axes>"
      ]
     },
     "metadata": {
      "needs_background": "light"
     },
     "output_type": "display_data"
    }
   ],
   "source": [
    "cleveland_dataset[ 'thalach' ].plot.density(grid=True)\n",
    "plt.title( 'Density plot for Thalach' )\n",
    "plt.xlabel( 'Thalach' )\n",
    "plt.show()"
   ]
  },
  {
   "cell_type": "markdown",
   "metadata": {},
   "source": [
    "**6. Plot the frequency of “Sex” variable in the dataset and describe what you\n",
    "observe in the plot. Similarly plot and describe the 'ca' feature for the male\n",
    "participants.**"
   ]
  },
  {
   "cell_type": "code",
   "execution_count": 19,
   "metadata": {},
   "outputs": [
    {
     "data": {
      "image/png": "[encoded data removed]",
      "text/plain": [
       "<Figure size 432x288 with 1 Axes>"
      ]
     },
     "metadata": {
      "needs_background": "light"
     },
     "output_type": "display_data"
    }
   ],
   "source": [
    "# Plotting count plot for \"Sex\" feature in dataset\n",
    "sns.countplot( data = cleveland_dataset, x = \"Sex\" )\n",
    "plt.title( 'Count plot for feature Sex' )\n",
    "plt.xlabel( 'Sex' )\n",
    "plt.ylabel( 'frequency' )\n",
    "plt.show()"
   ]
  },
  {
   "cell_type": "markdown",
   "metadata": {},
   "source": [
    "Observation: The number of male participants are more than twice the number of female participants in the dataset."
   ]
  },
  {
   "cell_type": "code",
   "execution_count": 20,
   "metadata": {},
   "outputs": [
    {
     "name": "stdout",
     "output_type": "stream",
     "text": [
      "['0.0' '3.0' '2.0' '1.0']\n"
     ]
    },
    {
     "data": {
      "image/png": "[encoded data removed]",
      "text/plain": [
       "<Figure size 432x288 with 1 Axes>"
      ]
     },
     "metadata": {
      "needs_background": "light"
     },
     "output_type": "display_data"
    }
   ],
   "source": [
    "# Plotting the \"ca\" feature for male participants\n",
    "\n",
    "# preparing dataframe with only male participant rows\n",
    "male_participants_dataset = cleveland_dataset[ cleveland_dataset[ 'Sex' ] == 1 ]\n",
    "print( male_participants_dataset[ \"ca\" ].unique() )\n",
    "\n",
    "\n",
    "# plotting 'ca' for male participants\n",
    "sns.countplot( data = male_participants_dataset, x = \"ca\" )\n",
    "plt.title( \"Count plot for feature ca for male participants\" )\n",
    "plt.xlabel( \"ca\" )\n",
    "plt.ylabel( \"frequency\" )\n",
    "plt.show()"
   ]
  },
  {
   "cell_type": "markdown",
   "metadata": {},
   "source": [
    "Observation: More than half of the male participants have 'ca' feature value of '0.0', followed by almost a quarter male participants having 'ca' equal to '1.0'. Less than 20 male participants have 'ca' feature of '3.0' "
   ]
  },
  {
   "cell_type": "markdown",
   "metadata": {},
   "source": [
    "**7.Detect outlier patients for features \"trestbps'' and \"chol\". Illustrate with plots.**"
   ]
  },
  {
   "cell_type": "code",
   "execution_count": 32,
   "metadata": {},
   "outputs": [
    {
     "data": {
      "image/png": "[encoded data removed]",
      "text/plain": [
       "<Figure size 432x288 with 1 Axes>"
      ]
     },
     "metadata": {
      "needs_background": "light"
     },
     "output_type": "display_data"
    }
   ],
   "source": [
    "# plotting violin plot to detect outliers\n",
    "\n",
    "# Box plot for trestbps\n",
    "sns.boxplot( y = cleveland_dataset[ 'trestbps' ] )\n",
    "plt.title( 'Box plot for trestbps' )\n",
    "plt.show()"
   ]
  },
  {
   "cell_type": "code",
   "execution_count": 33,
   "metadata": {},
   "outputs": [
    {
     "data": {
      "image/png": "[encoded data removed]",
      "text/plain": [
       "<Figure size 432x288 with 1 Axes>"
      ]
     },
     "metadata": {
      "needs_background": "light"
     },
     "output_type": "display_data"
    }
   ],
   "source": [
    "# Box plot for chol\n",
    "sns.boxplot( y = cleveland_dataset[ 'chol' ] )\n",
    "plt.title( 'Box plot for chol' )\n",
    "plt.show()"
   ]
  },
  {
   "cell_type": "markdown",
   "metadata": {},
   "source": [
    "Outliers are visible in box plots as the points below Minimum ( $Q_1-1.5*IQR$ ) or the points above Maximum ( $Q_3+1.5*IQR$). The box plots for 'trestbps' and 'chol' shows outliers above the maximum."
   ]
  },
  {
   "cell_type": "code",
   "execution_count": 90,
   "metadata": {},
   "outputs": [
    {
     "name": "stdout",
     "output_type": "stream",
     "text": [
      "The no. of outliers in feature trestbps are 9\n",
      "      Age  Sex   cp  trestbps   chol  fbs  resetecg  thalach  exang  slope  \\\n",
      "id                                                                           \n",
      "15   52.0  1.0  3.0     172.0  199.0  1.0       0.0    162.0    0.0    1.0   \n",
      "84   68.0  1.0  3.0     180.0  274.0  1.0       2.0    150.0    1.0    2.0   \n",
      "127  56.0  0.0  4.0     200.0  288.0  1.0       2.0    133.0    1.0    3.0   \n",
      "173  59.0  0.0  4.0     174.0  249.0  0.0       0.0    143.0    1.0    2.0   \n",
      "184  59.0  1.0  1.0     178.0  270.0  0.0       2.0    145.0    0.0    3.0   \n",
      "189  54.0  1.0  2.0     192.0  283.0  0.0       2.0    195.0    0.0    1.0   \n",
      "202  64.0  0.0  4.0     180.0  325.0  0.0       0.0    154.0    1.0    1.0   \n",
      "214  66.0  0.0  4.0     178.0  228.0  1.0       0.0    165.0    1.0    2.0   \n",
      "232  55.0  0.0  4.0     180.0  327.0  0.0       1.0    117.0    1.0    2.0   \n",
      "\n",
      "      ca thal  num  \n",
      "id                  \n",
      "15   0.0  7.0    0  \n",
      "84   0.0  7.0    1  \n",
      "127  2.0  7.0    1  \n",
      "173  0.0  3.0    1  \n",
      "184  0.0  7.0    0  \n",
      "189  1.0  7.0    1  \n",
      "202  0.0  3.0    0  \n",
      "214  2.0  7.0    1  \n",
      "232  0.0  3.0    1   \n",
      "\n",
      "The no. of outliers in feature chol are 5\n",
      "      Age  Sex   cp  trestbps   chol  fbs  resetecg  thalach  exang  slope  \\\n",
      "id                                                                           \n",
      "49   65.0  0.0  3.0     140.0  417.0  1.0       2.0    157.0    0.0    1.0   \n",
      "122  63.0  0.0  4.0     150.0  407.0  0.0       2.0    154.0    0.0    2.0   \n",
      "153  67.0  0.0  3.0     115.0  564.0  0.0       2.0    160.0    0.0    2.0   \n",
      "174  62.0  0.0  4.0     140.0  394.0  0.0       2.0    157.0    0.0    2.0   \n",
      "182  56.0  0.0  4.0     134.0  409.0  0.0       2.0    150.0    1.0    2.0   \n",
      "\n",
      "      ca thal  num  \n",
      "id                  \n",
      "49   1.0  3.0    0  \n",
      "122  3.0  7.0    1  \n",
      "153  0.0  7.0    0  \n",
      "174  0.0  3.0    0  \n",
      "182  2.0  7.0    1   \n",
      "\n"
     ]
    }
   ],
   "source": [
    "def outlierDetector( dataset, feature ):\n",
    "    '''This method calculates quartiles, IQR and minimum, maximum for a feature of the dataset.\n",
    "    It then returns a dataframe containing outliers of the feature\n",
    "    \n",
    "    Args:\n",
    "        dataset - A dataset containing the feature whose outliers need to be detected.\n",
    "        feature - The feature whose outliers need to be detected\n",
    "        \n",
    "    Return:\n",
    "        outliers - A dataframe containing outliers of df\n",
    "    '''\n",
    "    q1 = dataset[ feature ].quantile(0.25)\n",
    "    q3 = dataset[ feature ].quantile(0.75)\n",
    "    iqr = q3 - q1\n",
    "    minimum = q1 - 1.5 * iqr\n",
    "    maximum = q3 + 1.5 * iqr\n",
    "    outliers = dataset[ ( dataset[ feature ] > maximum ) | ( dataset[ feature ] < minimum ) ]\n",
    "    outlier_rows = outliers.shape[ 0 ]\n",
    "    print( f\"The no. of outliers in feature {feature} are {outlier_rows}\" )\n",
    "    print( outliers, \"\\n\" )\n",
    "    \n",
    "outlierDetector( cleveland_dataset, 'trestbps' )\n",
    "outlierDetector( cleveland_dataset, 'chol' )"
   ]
  },
  {
   "cell_type": "markdown",
   "metadata": {},
   "source": [
    "#### **Exercise 2 - Probability**"
   ]
  },
  {
   "cell_type": "markdown",
   "metadata": {},
   "source": [
    "**1. Suppose a discrete random variable, MMSE (Mini mental state examination),\n",
    "cognitive test measured for Alzheimer’s disease (AD) has the following\n",
    "probability mass function.....Find the probability that MMSE:\n",
    "a) at least 22\n",
    "b) at least 14 and at most 28**"
   ]
  },
  {
   "cell_type": "markdown",
   "metadata": {},
   "source": [
    " $$\n",
    "a) Pr(X >= 22) = 1 - Pr(X<22) = 1-[ Pr(X=5) + Pr(X=8) + Pr(X=14) ] \\\\ = 1- [ 0.05 + 0.27 + 0.16 ] = 0.52\n",
    " $$"
   ]
  },
  {
   "cell_type": "markdown",
   "metadata": {},
   "source": [
    "$$\n",
    "b) Pr(X>=14 \\ and \\ X<=28) = Pr(X=14)+Pr(X=22)+Pr(X=24)+Pr(X=28) \\\\ = 0.16+0.17+0.03+0.12 = 0.48\n",
    " $$"
   ]
  },
  {
   "cell_type": "markdown",
   "metadata": {},
   "source": [
    "**2. A company produced antibody testing kits for COVID-19. The false positive\n",
    "rate of the test is known to be 3%. What is the probability to find at least 2\n",
    "false positive results within 35 tested patients?**"
   ]
  },
  {
   "cell_type": "markdown",
   "metadata": {},
   "source": [
    "Let\n",
    "X = no. of false positive results\n",
    "n = no. of tested patients = 35\n",
    "p = probability of a single false postive result = 3/100\n",
    "q = (1-p) = 97/100\n",
    "\n",
    "$$\n",
    "Pr( X>=2 \\ | \\ n=35, p= \\frac{3}{100}) = 1-Pr(X<2 \\ | \\ n=35, p=\\frac{3}{100})\n",
    "\\\\ = 1 - [ Pr(X=0) + Pr(X=1) ]\n",
    "$$\n",
    "\n",
    "\n",
    "We can calculate $Pr(X=0) \\ and \\ Pr(X=1) $ using Binomial Distribution\n",
    "$$\n",
    "Pr(X<2 \\ | \\ n=35, p=\\frac{3}{100}) = Pr(X<2 \\ | \\ n=35, p=\\frac{3}{100})\n",
    "$$\n",
    "\n",
    "Probability of 0 false positives with n=35\n",
    "$$\n",
    "Pr(X=0, n=35, p=\\frac{3}{100}) =  \\binom{35}{0} \\left(\\frac{3}{100}\\right)^{0}\\left(\\frac{97}{100}\\right)^{35} = 0.3443 \\tag1\n",
    "$$\n",
    "Probability of 1 false positive with n=35\n",
    "$$\n",
    "Pr(X=1, n=35, p=\\frac{3}{100}) =  \\binom{35}{0} \\left(\\frac{3}{100}\\right)^{1}\\left(\\frac{97}{100}\\right)^{34} = 0.01065 \\tag2\n",
    "$$\n",
    "Using $(1)$ and $(2)$,\n",
    "$$\n",
    "Pr(X>=2 \\ | \\ n=35, p=\\frac{3}{100}) = 1-\\left(0.3443+0.01065 \\right) = 0.64505 \n",
    "$$"
   ]
  },
  {
   "cell_type": "markdown",
   "metadata": {},
   "source": [
    "#### **Exercise 3 - Hypothesis Testing**"
   ]
  },
  {
   "cell_type": "markdown",
   "metadata": {},
   "source": [
    "Using the processed dataset from question 1 answer the following questions."
   ]
  },
  {
   "cell_type": "markdown",
   "metadata": {},
   "source": [
    "**1. Are all the criteria for carrying out a t-test to identify a significant difference in\n",
    "the age of patients who have heart disease and those who don’t, met?\n",
    "-If the criteria is met, carry out a t-test using Python.\n",
    "-And if not, point out the unmet conditions for the variables, and mention\n",
    "a possible solution in-order to combat this issue.**"
   ]
  },
  {
   "cell_type": "markdown",
   "metadata": {},
   "source": [
    "Observations about data:\n",
    "- We observe that our samples of patients who have heart disease and patients who do not have heart disease are independent(unpaired) samples.\n",
    "- We need to first check whether our samples are normally distributed. t-test can only be applied on normally distributed samples.\n",
    "- We perform the Shapiro-Wilks test to check whether sample is drawn from normal distribution. We also plot density plots to observe the distribution."
   ]
  },
  {
   "cell_type": "code",
   "execution_count": 73,
   "metadata": {},
   "outputs": [
    {
     "name": "stdout",
     "output_type": "stream",
     "text": [
      "(137, 13)\n",
      "(160, 13)\n"
     ]
    }
   ],
   "source": [
    "# divide dataset into two samples\n",
    "heart_disease_sample = cleveland_dataset[ cleveland_dataset[ 'num' ] == 1 ]\n",
    "non_heart_disease_sample = cleveland_dataset[ cleveland_dataset[ 'num' ] == 0 ]\n",
    "print( heart_disease_sample.shape )\n",
    "print( non_heart_disease_sample.shape )\n"
   ]
  },
  {
   "cell_type": "code",
   "execution_count": 93,
   "metadata": {
    "scrolled": true
   },
   "outputs": [
    {
     "name": "stdout",
     "output_type": "stream",
     "text": [
      "Shapiro-Wilks test result for heart disease sample:\n",
      " ShapiroResult(statistic=0.9659031629562378, pvalue=0.0016701725544407964)\n"
     ]
    }
   ],
   "source": [
    "# performing Shapiro-Wilks test on heart disease sample\n",
    "from scipy import stats\n",
    "shapiro_test = stats.shapiro( heart_disease_sample[ 'Age' ] )\n",
    "print( \"Shapiro-Wilks test result for heart disease sample:\\n\", shapiro_test )"
   ]
  },
  {
   "cell_type": "markdown",
   "metadata": {},
   "source": [
    "From the test results, it can be seen that the heart_disease_sample is not normally distributed since p-value< 0.05 significance level."
   ]
  },
  {
   "cell_type": "code",
   "execution_count": 81,
   "metadata": {},
   "outputs": [
    {
     "name": "stdout",
     "output_type": "stream",
     "text": [
      "Shapiro-Wilks test result for non-heart disease sample:\n",
      " ShapiroResult(statistic=0.9860922694206238, pvalue=0.11105211079120636)\n"
     ]
    }
   ],
   "source": [
    "# performing Shapiro-Wilks test on non-heart disease sample\n",
    "shapiro_test = stats.shapiro( non_heart_disease_sample[ 'Age' ] )\n",
    "print( \"Shapiro-Wilks test result for non-heart disease sample:\\n\", shapiro_test )"
   ]
  },
  {
   "cell_type": "markdown",
   "metadata": {},
   "source": [
    "The non_heart_disease_sample is normally distributed since p-value> 0.05 significance level."
   ]
  },
  {
   "cell_type": "code",
   "execution_count": 72,
   "metadata": {},
   "outputs": [
    {
     "data": {
      "image/png": "[encoded data removed]",
      "text/plain": [
       "<Figure size 432x288 with 1 Axes>"
      ]
     },
     "metadata": {
      "needs_background": "light"
     },
     "output_type": "display_data"
    }
   ],
   "source": [
    "# plot distribution age feature for sample with num = 1 ( with heart disease)\n",
    "heart_disease_sample[ 'Age' ].plot.density(grid=True)\n",
    "plt.title( 'Density plot for Age feature for heart disease sample' )\n",
    "plt.xlabel( 'Age' )\n",
    "plt.show()"
   ]
  },
  {
   "cell_type": "code",
   "execution_count": 71,
   "metadata": {},
   "outputs": [
    {
     "data": {
      "image/png": "[encoded data removed]",
      "text/plain": [
       "<Figure size 432x288 with 1 Axes>"
      ]
     },
     "metadata": {
      "needs_background": "light"
     },
     "output_type": "display_data"
    }
   ],
   "source": [
    "# plot distribution age feature for sample with  num = 0  ( without heart disease)\n",
    "non_heart_disease_sample[ 'Age' ].plot.density(grid=True)\n",
    "plt.title( 'Density plot for Age feature for non-heart disease sample' )\n",
    "plt.xlabel( 'Age' )\n",
    "plt.show()"
   ]
  },
  {
   "cell_type": "markdown",
   "metadata": {},
   "source": [
    "We cannot perform the t-test as the heart disease sample in not normally distributed. However, we can combat this problem by choosing another test that does not require the sample to be normally distributed.\n"
   ]
  },
  {
   "cell_type": "code",
   "execution_count": 97,
   "metadata": {},
   "outputs": [
    {
     "name": "stdout",
     "output_type": "stream",
     "text": [
      "MannwhitneyuResult(statistic=14003.5, pvalue=3.672541004211365e-05)\n"
     ]
    }
   ],
   "source": [
    "# Using Mann-Whitney rank test \n",
    "mannwhitneyu_results = stats.mannwhitneyu( heart_disease_sample[ 'Age' ], non_heart_disease_sample[ 'Age' ], alternative = 'two-sided' )\n",
    "print( mannwhitneyu_results )"
   ]
  },
  {
   "cell_type": "markdown",
   "metadata": {},
   "source": [
    "We reject the null hypothesis as p-value<0.05 and conclude that the alternative hypothesis is true, i.e $H_{1}:\\mu_{age\\ of\\  heart\\ disease\\ patients}\\neq \\mu_{age\\ of\\ normal\\ patients}$\n",
    "\n",
    "\n",
    "**Thus, there is significant difference in the age of patients who have heart disease and those who do not.**"
   ]
  },
  {
   "cell_type": "markdown",
   "metadata": {},
   "source": [
    "**2. Identify if women are significantly more likely to get heart disease than men?**"
   ]
  },
  {
   "cell_type": "code",
   "execution_count": 120,
   "metadata": {},
   "outputs": [
    {
     "name": "stdout",
     "output_type": "stream",
     "text": [
      "id\n",
      "5     0\n",
      "7     1\n",
      "8     0\n",
      "12    0\n",
      "19    0\n",
      "Name: num, dtype: int64\n",
      "id\n",
      "1    0\n",
      "2    1\n",
      "3    1\n",
      "4    0\n",
      "6    0\n",
      "Name: num, dtype: int64\n"
     ]
    }
   ],
   "source": [
    "# plotting the features `Sex` and `num`\n",
    "male_dataframe = cleveland_dataset[ cleveland_dataset[ 'Sex' ] == 0 ]\n",
    "female_dataframe = cleveland_dataset[ cleveland_dataset[ 'Sex' ] == 1 ]\n",
    "print( male_dataframe[ 'num' ].head(5) )\n",
    "print( female_dataframe[ 'num' ].head(5) )\n",
    "## TODO\n",
    "## Work in Progress"
   ]
  },
  {
   "cell_type": "markdown",
   "metadata": {},
   "source": [
    "**3. Inform yourself about χ²−test. And using χ²−test, identify if there is a\n",
    "significant association between exercise induced angina (exang), and the\n",
    "slope of the peak exercise ST segment (slope)?**"
   ]
  },
  {
   "cell_type": "code",
   "execution_count": 117,
   "metadata": {},
   "outputs": [],
   "source": [
    "# creating matrix between features - 'exang' and 'slope'\n",
    "feature_matrix = pd.crosstab(cleveland_dataset[ 'exang' ], cleveland_dataset[ 'slope' ] )"
   ]
  },
  {
   "cell_type": "code",
   "execution_count": 119,
   "metadata": {},
   "outputs": [
    {
     "name": "stdout",
     "output_type": "stream",
     "text": [
      "Chi-square value:  23.183106158398047\n",
      "p-value:  9.243840878417745e-06\n",
      "degree of freedom:  2\n",
      "expected values:  [[93.6026936  92.25589226 14.14141414]\n",
      " [45.3973064  44.74410774  6.85858586]]\n"
     ]
    }
   ],
   "source": [
    "chi2_results = stats.chi2_contingency( feature_matrix )\n",
    "print( 'Chi-square value: ', chi2_results[0] )\n",
    "print( 'p-value: ', chi2_results[1] )\n",
    "print( 'degree of freedom: ', chi2_results[2] )\n",
    "print( 'expected values: ', chi2_results[3] )"
   ]
  },
  {
   "cell_type": "markdown",
   "metadata": {},
   "source": [
    "The p-value is less than 0.05, therefore null hypothesis is rejected. The 'exang' and 'slope' are dependant and there is significant association between the two features."
   ]
  }
 ],
 "metadata": {
  "kernelspec": {
   "display_name": "Python 3",
   "language": "python",
   "name": "python3"
  },
  "language_info": {
   "codemirror_mode": {
    "name": "ipython",
    "version": 3
   },
   "file_extension": ".py",
   "mimetype": "text/x-python",
   "name": "python",
   "nbconvert_exporter": "python",
   "pygments_lexer": "ipython3",
   "version": "3.8.5"
  }
 },
 "nbformat": 4,
 "nbformat_minor": 4
}
