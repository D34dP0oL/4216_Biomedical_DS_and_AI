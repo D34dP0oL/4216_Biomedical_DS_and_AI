{
 "cells": [
  {
   "cell_type": "markdown",
   "metadata": {},
   "source": [
    "# Sheet 2 - Introduction\n",
    "\n",
    "By: Genivika Mann, Jonah, Fatemeh Salehi, Helia Salimi, Fabrice Beaumont"
   ]
  },
  {
   "cell_type": "markdown",
   "metadata": {},
   "source": [
    "## Ex1 - Understanding Your Dataset"
   ]
  },
  {
   "cell_type": "code",
   "execution_count": 1,
   "metadata": {},
   "outputs": [],
   "source": [
    "import numpy as np\n",
    "import pandas as pd\n",
    "import matplotlib.pyplot as plt\n",
    "import seaborn as sns"
   ]
  },
  {
   "cell_type": "markdown",
   "metadata": {},
   "source": [
    "### 1. Perform data cleaning procedures such that your final dataset is usable in the following questions"
   ]
  },
  {
   "cell_type": "markdown",
   "metadata": {},
   "source": [
    "#### For the file 'processedClevelandData.csv'"
   ]
  },
  {
   "cell_type": "code",
   "execution_count": 2,
   "metadata": {},
   "outputs": [
    {
     "data": {
      "text/html": [
       "<div>\n",
       "<style scoped>\n",
       "    .dataframe tbody tr th:only-of-type {\n",
       "        vertical-align: middle;\n",
       "    }\n",
       "\n",
       "    .dataframe tbody tr th {\n",
       "        vertical-align: top;\n",
       "    }\n",
       "\n",
       "    .dataframe thead th {\n",
       "        text-align: right;\n",
       "    }\n",
       "</style>\n",
       "<table border=\"1\" class=\"dataframe\">\n",
       "  <thead>\n",
       "    <tr style=\"text-align: right;\">\n",
       "      <th></th>\n",
       "      <th>Unnamed: 0</th>\n",
       "      <th>Unnamed: 0.1</th>\n",
       "      <th>Age</th>\n",
       "      <th>Sex</th>\n",
       "      <th>cp</th>\n",
       "      <th>trestbps</th>\n",
       "      <th>chol</th>\n",
       "      <th>fbs</th>\n",
       "      <th>resetecg</th>\n",
       "      <th>thalach</th>\n",
       "      <th>exang</th>\n",
       "      <th>slope</th>\n",
       "      <th>ca</th>\n",
       "      <th>thal</th>\n",
       "      <th>num</th>\n",
       "    </tr>\n",
       "    <tr>\n",
       "      <th>id</th>\n",
       "      <th></th>\n",
       "      <th></th>\n",
       "      <th></th>\n",
       "      <th></th>\n",
       "      <th></th>\n",
       "      <th></th>\n",
       "      <th></th>\n",
       "      <th></th>\n",
       "      <th></th>\n",
       "      <th></th>\n",
       "      <th></th>\n",
       "      <th></th>\n",
       "      <th></th>\n",
       "      <th></th>\n",
       "      <th></th>\n",
       "    </tr>\n",
       "  </thead>\n",
       "  <tbody>\n",
       "    <tr>\n",
       "      <th>1</th>\n",
       "      <td>0</td>\n",
       "      <td>0</td>\n",
       "      <td>63.0</td>\n",
       "      <td>1.0</td>\n",
       "      <td>1.0</td>\n",
       "      <td>145.0</td>\n",
       "      <td>233.0 mg/dl</td>\n",
       "      <td>1.0</td>\n",
       "      <td>2.0</td>\n",
       "      <td>150.0</td>\n",
       "      <td>0.0</td>\n",
       "      <td>3.0</td>\n",
       "      <td>0.0</td>\n",
       "      <td>6.0</td>\n",
       "      <td>0</td>\n",
       "    </tr>\n",
       "    <tr>\n",
       "      <th>2</th>\n",
       "      <td>1</td>\n",
       "      <td>1</td>\n",
       "      <td>67.0</td>\n",
       "      <td>1.0</td>\n",
       "      <td>4.0</td>\n",
       "      <td>160.0</td>\n",
       "      <td>286.0 mg/dl</td>\n",
       "      <td>0.0</td>\n",
       "      <td>2.0</td>\n",
       "      <td>108.0</td>\n",
       "      <td>1.0</td>\n",
       "      <td>2.0</td>\n",
       "      <td>3.0</td>\n",
       "      <td>3.0</td>\n",
       "      <td>2</td>\n",
       "    </tr>\n",
       "    <tr>\n",
       "      <th>3</th>\n",
       "      <td>2</td>\n",
       "      <td>2</td>\n",
       "      <td>67.0</td>\n",
       "      <td>1.0</td>\n",
       "      <td>4.0</td>\n",
       "      <td>120.0</td>\n",
       "      <td>229.0 mg/dl</td>\n",
       "      <td>0.0</td>\n",
       "      <td>2.0</td>\n",
       "      <td>129.0</td>\n",
       "      <td>1.0</td>\n",
       "      <td>2.0</td>\n",
       "      <td>2.0</td>\n",
       "      <td>7.0</td>\n",
       "      <td>1</td>\n",
       "    </tr>\n",
       "    <tr>\n",
       "      <th>4</th>\n",
       "      <td>3</td>\n",
       "      <td>3</td>\n",
       "      <td>37.0</td>\n",
       "      <td>1.0</td>\n",
       "      <td>3.0</td>\n",
       "      <td>130.0</td>\n",
       "      <td>250.0 mg/dl</td>\n",
       "      <td>0.0</td>\n",
       "      <td>0.0</td>\n",
       "      <td>187.0</td>\n",
       "      <td>0.0</td>\n",
       "      <td>3.0</td>\n",
       "      <td>0.0</td>\n",
       "      <td>3.0</td>\n",
       "      <td>0</td>\n",
       "    </tr>\n",
       "  </tbody>\n",
       "</table>\n",
       "</div>"
      ],
      "text/plain": [
       "    Unnamed: 0  Unnamed: 0.1   Age  Sex   cp  trestbps         chol  fbs  \\\n",
       "id                                                                         \n",
       "1            0             0  63.0  1.0  1.0     145.0  233.0 mg/dl  1.0   \n",
       "2            1             1  67.0  1.0  4.0     160.0  286.0 mg/dl  0.0   \n",
       "3            2             2  67.0  1.0  4.0     120.0  229.0 mg/dl  0.0   \n",
       "4            3             3  37.0  1.0  3.0     130.0  250.0 mg/dl  0.0   \n",
       "\n",
       "    resetecg  thalach  exang  slope   ca thal  num  \n",
       "id                                                  \n",
       "1        2.0    150.0    0.0    3.0  0.0  6.0    0  \n",
       "2        2.0    108.0    1.0    2.0  3.0  3.0    2  \n",
       "3        2.0    129.0    1.0    2.0  2.0  7.0    1  \n",
       "4        0.0    187.0    0.0    3.0  0.0  3.0    0  "
      ]
     },
     "execution_count": 2,
     "metadata": {},
     "output_type": "execute_result"
    }
   ],
   "source": [
    "data = pd.read_csv(\"processedClevelandData.csv\", sep=';', index_col = 'id')\n",
    "data.head(4)"
   ]
  },
  {
   "cell_type": "code",
   "execution_count": 3,
   "metadata": {},
   "outputs": [],
   "source": [
    "### Remove the useless second index column\n",
    "data.drop(columns='Unnamed: 0', inplace=True)\n",
    "data.drop(columns='Unnamed: 0.1', inplace=True)"
   ]
  },
  {
   "cell_type": "code",
   "execution_count": 4,
   "metadata": {},
   "outputs": [
    {
     "data": {
      "text/plain": [
       "0"
      ]
     },
     "execution_count": 4,
     "metadata": {},
     "output_type": "execute_result"
    }
   ],
   "source": [
    "### Check, if any missing values have to be filled in\n",
    "data.isna().sum().sum()"
   ]
  },
  {
   "cell_type": "code",
   "execution_count": 5,
   "metadata": {},
   "outputs": [
    {
     "data": {
      "text/plain": [
       "'?'"
      ]
     },
     "execution_count": 5,
     "metadata": {},
     "output_type": "execute_result"
    }
   ],
   "source": [
    "### There are no NaN values, but we notice some '?' values. For example\n",
    "data.loc[288]['ca']"
   ]
  },
  {
   "cell_type": "code",
   "execution_count": 6,
   "metadata": {},
   "outputs": [],
   "source": [
    "### One could replace them in the following way:\n",
    "# data.replace({'ca': {'?': np.nan}}, regex=False,inplace=True)\n",
    "# data.loc[288]['ca']\n",
    "### But we are not sure if this is desired. So we didnt do it."
   ]
  },
  {
   "cell_type": "code",
   "execution_count": 7,
   "metadata": {},
   "outputs": [],
   "source": [
    "### W.r.t. task 1.3: Column 'chol' stores the values AND the unit mg/dl as a string\n",
    "### Lets remove the unit to be left with directly usable values\n",
    "data['chol'] = data['chol'].map(lambda x: x.rstrip('mg/dl'))\n",
    "data['chol'] = data['chol'].astype(float) ### 'int' seems reasonable too"
   ]
  },
  {
   "cell_type": "code",
   "execution_count": 8,
   "metadata": {},
   "outputs": [
    {
     "data": {
      "text/html": [
       "<div>\n",
       "<style scoped>\n",
       "    .dataframe tbody tr th:only-of-type {\n",
       "        vertical-align: middle;\n",
       "    }\n",
       "\n",
       "    .dataframe tbody tr th {\n",
       "        vertical-align: top;\n",
       "    }\n",
       "\n",
       "    .dataframe thead th {\n",
       "        text-align: right;\n",
       "    }\n",
       "</style>\n",
       "<table border=\"1\" class=\"dataframe\">\n",
       "  <thead>\n",
       "    <tr style=\"text-align: right;\">\n",
       "      <th></th>\n",
       "      <th>Age</th>\n",
       "      <th>Sex</th>\n",
       "      <th>cp</th>\n",
       "      <th>trestbps</th>\n",
       "      <th>chol</th>\n",
       "      <th>fbs</th>\n",
       "      <th>resetecg</th>\n",
       "      <th>thalach</th>\n",
       "      <th>exang</th>\n",
       "      <th>slope</th>\n",
       "      <th>ca</th>\n",
       "      <th>thal</th>\n",
       "      <th>num</th>\n",
       "    </tr>\n",
       "    <tr>\n",
       "      <th>id</th>\n",
       "      <th></th>\n",
       "      <th></th>\n",
       "      <th></th>\n",
       "      <th></th>\n",
       "      <th></th>\n",
       "      <th></th>\n",
       "      <th></th>\n",
       "      <th></th>\n",
       "      <th></th>\n",
       "      <th></th>\n",
       "      <th></th>\n",
       "      <th></th>\n",
       "      <th></th>\n",
       "    </tr>\n",
       "  </thead>\n",
       "  <tbody>\n",
       "    <tr>\n",
       "      <th>1</th>\n",
       "      <td>63.0</td>\n",
       "      <td>1.0</td>\n",
       "      <td>1.0</td>\n",
       "      <td>145.0</td>\n",
       "      <td>233.0</td>\n",
       "      <td>1.0</td>\n",
       "      <td>2.0</td>\n",
       "      <td>150.0</td>\n",
       "      <td>0.0</td>\n",
       "      <td>3.0</td>\n",
       "      <td>0.0</td>\n",
       "      <td>6.0</td>\n",
       "      <td>0</td>\n",
       "    </tr>\n",
       "    <tr>\n",
       "      <th>2</th>\n",
       "      <td>67.0</td>\n",
       "      <td>1.0</td>\n",
       "      <td>4.0</td>\n",
       "      <td>160.0</td>\n",
       "      <td>286.0</td>\n",
       "      <td>0.0</td>\n",
       "      <td>2.0</td>\n",
       "      <td>108.0</td>\n",
       "      <td>1.0</td>\n",
       "      <td>2.0</td>\n",
       "      <td>3.0</td>\n",
       "      <td>3.0</td>\n",
       "      <td>2</td>\n",
       "    </tr>\n",
       "    <tr>\n",
       "      <th>3</th>\n",
       "      <td>67.0</td>\n",
       "      <td>1.0</td>\n",
       "      <td>4.0</td>\n",
       "      <td>120.0</td>\n",
       "      <td>229.0</td>\n",
       "      <td>0.0</td>\n",
       "      <td>2.0</td>\n",
       "      <td>129.0</td>\n",
       "      <td>1.0</td>\n",
       "      <td>2.0</td>\n",
       "      <td>2.0</td>\n",
       "      <td>7.0</td>\n",
       "      <td>1</td>\n",
       "    </tr>\n",
       "    <tr>\n",
       "      <th>4</th>\n",
       "      <td>37.0</td>\n",
       "      <td>1.0</td>\n",
       "      <td>3.0</td>\n",
       "      <td>130.0</td>\n",
       "      <td>250.0</td>\n",
       "      <td>0.0</td>\n",
       "      <td>0.0</td>\n",
       "      <td>187.0</td>\n",
       "      <td>0.0</td>\n",
       "      <td>3.0</td>\n",
       "      <td>0.0</td>\n",
       "      <td>3.0</td>\n",
       "      <td>0</td>\n",
       "    </tr>\n",
       "  </tbody>\n",
       "</table>\n",
       "</div>"
      ],
      "text/plain": [
       "     Age  Sex   cp  trestbps   chol  fbs  resetecg  thalach  exang  slope  \\\n",
       "id                                                                          \n",
       "1   63.0  1.0  1.0     145.0  233.0  1.0       2.0    150.0    0.0    3.0   \n",
       "2   67.0  1.0  4.0     160.0  286.0  0.0       2.0    108.0    1.0    2.0   \n",
       "3   67.0  1.0  4.0     120.0  229.0  0.0       2.0    129.0    1.0    2.0   \n",
       "4   37.0  1.0  3.0     130.0  250.0  0.0       0.0    187.0    0.0    3.0   \n",
       "\n",
       "     ca thal  num  \n",
       "id                 \n",
       "1   0.0  6.0    0  \n",
       "2   3.0  3.0    2  \n",
       "3   2.0  7.0    1  \n",
       "4   0.0  3.0    0  "
      ]
     },
     "execution_count": 8,
     "metadata": {},
     "output_type": "execute_result"
    }
   ],
   "source": [
    "data.head(4)"
   ]
  },
  {
   "cell_type": "code",
   "execution_count": 9,
   "metadata": {},
   "outputs": [],
   "source": [
    "### With the thoughs from task 1.4 we can specify some datatypes:\n",
    "### (We can not do it for the columns with missing values '?' in it)\n",
    "int_cols = ['Age', 'Sex', 'cp', 'trestbps']\n",
    "for col in int_cols:\n",
    "    data[col] = data[col].astype(int)"
   ]
  },
  {
   "cell_type": "markdown",
   "metadata": {},
   "source": [
    "#### For the file 'featureDescription.csv'"
   ]
  },
  {
   "cell_type": "markdown",
   "metadata": {},
   "source": [
    "When first reading in the file, we notices some messed up separation.\n",
    "We noticed, that often the delimiter ; was inside a quotationmark.\n",
    "By flipping these, we get a better - but still not perfect readout.\n",
    "Alternatively one could clean up the small data by hand."
   ]
  },
  {
   "cell_type": "code",
   "execution_count": 10,
   "metadata": {},
   "outputs": [],
   "source": [
    "file_in = open(\"featureDescription.csv\", \"rt\")\n",
    "file_out = open(\"featureDescription_clean.csv\", \"wt\")\n",
    "for line in file_in:\n",
    "    file_out.write(line.replace(';\"', '\";'))\n",
    "file_in.close()\n",
    "file_out.close()\n",
    "\n",
    "features = pd.read_csv(\"featureDescription.csv\", sep=';')"
   ]
  },
  {
   "cell_type": "markdown",
   "metadata": {},
   "source": [
    "### 2. For each type of diagnosis of heart disease, find the following for the resting blood pressure:"
   ]
  },
  {
   "cell_type": "markdown",
   "metadata": {},
   "source": [
    "#### Taking a look at the features reveals, that the 'diagnosis of heart disease' is given in the column 'num'"
   ]
  },
  {
   "cell_type": "markdown",
   "metadata": {},
   "source": [
    "#### a. Mean"
   ]
  },
  {
   "cell_type": "code",
   "execution_count": 11,
   "metadata": {},
   "outputs": [],
   "source": [
    "### One can get the mean of the (resting) 'blood pressure' [mmHg] with: \n",
    "#data['trestbps'].mean()\n",
    "### But to get it for each type of diagnosis of heart disease ('num') separately,\n",
    "### group the rows with the same 'num' entry first\n",
    "mean_per_heartDisease = data.groupby(['num']).mean()"
   ]
  },
  {
   "cell_type": "code",
   "execution_count": 12,
   "metadata": {},
   "outputs": [
    {
     "name": "stdout",
     "output_type": "stream",
     "text": [
      "Heart disease 0 has an average blood pressure of 129.25 mmHg\n",
      "Heart disease 1 has an average blood pressure of 133.25 mmHg\n",
      "Heart disease 2 has an average blood pressure of 134.19 mmHg\n",
      "Heart disease 3 has an average blood pressure of 135.46 mmHg\n",
      "Heart disease 4 has an average blood pressure of 138.77 mmHg\n"
     ]
    }
   ],
   "source": [
    "#mean_per_heartDisease['trestbps']\n",
    "for index, row in mean_per_heartDisease.iterrows():\n",
    "    print(f\"Heart disease {index} has an average blood pressure of {row['trestbps']:.2f} mmHg\")"
   ]
  },
  {
   "cell_type": "code",
   "execution_count": 13,
   "metadata": {},
   "outputs": [
    {
     "data": {
      "text/plain": [
       "Text(0, 0.5, 'Mean [mmHg]')"
      ]
     },
     "execution_count": 13,
     "metadata": {},
     "output_type": "execute_result"
    },
    {
     "data": {
      "image/png": "[encoded data removed]",
      "text/plain": [
       "<Figure size 432x288 with 1 Axes>"
      ]
     },
     "metadata": {
      "needs_background": "light"
     },
     "output_type": "display_data"
    }
   ],
   "source": [
    "mean_per_heartDisease['trestbps'].plot()\n",
    "plt.xticks(np.arange(0, 4.1, 1.0))\n",
    "plt.xlabel(\"Heart disease\")\n",
    "plt.ylabel(\"Mean [mmHg]\")"
   ]
  },
  {
   "cell_type": "markdown",
   "metadata": {},
   "source": [
    "#### b. Median"
   ]
  },
  {
   "cell_type": "code",
   "execution_count": 14,
   "metadata": {},
   "outputs": [
    {
     "name": "stdout",
     "output_type": "stream",
     "text": [
      "Heart disease 0 has an median blood pressure of 130.00 mmHg\n",
      "Heart disease 1 has an median blood pressure of 130.00 mmHg\n",
      "Heart disease 2 has an median blood pressure of 133.00 mmHg\n",
      "Heart disease 3 has an median blood pressure of 130.00 mmHg\n",
      "Heart disease 4 has an median blood pressure of 145.00 mmHg\n"
     ]
    }
   ],
   "source": [
    "median_per_heartDisease = data.groupby(['num']).median()\n",
    "for index, row in median_per_heartDisease.iterrows():\n",
    "    print(f\"Heart disease {index} has an median blood pressure of {row['trestbps']:.2f} mmHg\")"
   ]
  },
  {
   "cell_type": "code",
   "execution_count": 15,
   "metadata": {},
   "outputs": [
    {
     "data": {
      "text/plain": [
       "Text(0, 0.5, 'Median [mmHg]')"
      ]
     },
     "execution_count": 15,
     "metadata": {},
     "output_type": "execute_result"
    },
    {
     "data": {
      "image/png": "[encoded data removed]",
      "text/plain": [
       "<Figure size 432x288 with 1 Axes>"
      ]
     },
     "metadata": {
      "needs_background": "light"
     },
     "output_type": "display_data"
    }
   ],
   "source": [
    "median_per_heartDisease['trestbps'].plot()\n",
    "plt.xticks(np.arange(0, 4.1, 1.0))\n",
    "plt.xlabel(\"Heart disease\")\n",
    "plt.ylabel(\"Median [mmHg]\")"
   ]
  },
  {
   "cell_type": "markdown",
   "metadata": {},
   "source": [
    "#### c. Standard deviation"
   ]
  },
  {
   "cell_type": "code",
   "execution_count": 16,
   "metadata": {},
   "outputs": [
    {
     "name": "stdout",
     "output_type": "stream",
     "text": [
      "Heart disease 0 has a std. dev. in blood pressure of 16.20 mmHg\n",
      "Heart disease 1 has a std. dev. in blood pressure of 18.03 mmHg\n",
      "Heart disease 2 has a std. dev. in blood pressure of 17.90 mmHg\n",
      "Heart disease 3 has a std. dev. in blood pressure of 21.66 mmHg\n",
      "Heart disease 4 has a std. dev. in blood pressure of 17.19 mmHg\n"
     ]
    }
   ],
   "source": [
    "stdDev_per_heartDisease = data.groupby(['num']).std()\n",
    "for index, row in stdDev_per_heartDisease.iterrows():\n",
    "    print(f\"Heart disease {index} has a std. dev. in blood pressure of {row['trestbps']:.2f} mmHg\")"
   ]
  },
  {
   "cell_type": "code",
   "execution_count": 17,
   "metadata": {},
   "outputs": [
    {
     "data": {
      "text/plain": [
       "Text(0, 0.5, 'Standard deviation [mmHg]')"
      ]
     },
     "execution_count": 17,
     "metadata": {},
     "output_type": "execute_result"
    },
    {
     "data": {
      "image/png": "[encoded data removed]",
      "text/plain": [
       "<Figure size 432x288 with 1 Axes>"
      ]
     },
     "metadata": {
      "needs_background": "light"
     },
     "output_type": "display_data"
    }
   ],
   "source": [
    "stdDev_per_heartDisease['trestbps'].plot()\n",
    "plt.xticks(np.arange(0, 4.1, 1.0))\n",
    "plt.xlabel(\"Heart disease\")\n",
    "plt.ylabel(\"Standard deviation [mmHg]\")"
   ]
  },
  {
   "cell_type": "markdown",
   "metadata": {},
   "source": [
    "### 3. Use Spearman's and Kendall correlation to quantify the correlation between age and the following."
   ]
  },
  {
   "cell_type": "code",
   "execution_count": 18,
   "metadata": {},
   "outputs": [],
   "source": [
    "meta_data = [(\"resting blood pressure\", \"trestbps\", \"mmHg\"), (\"serum cholesterol level\", \"chol\", \"mg/dl\"), (\"maximum heart rate achieved\", \"thalach\", \"bpm\")]"
   ]
  },
  {
   "cell_type": "markdown",
   "metadata": {},
   "source": [
    "#### Spearman"
   ]
  },
  {
   "cell_type": "code",
   "execution_count": 19,
   "metadata": {},
   "outputs": [
    {
     "name": "stdout",
     "output_type": "stream",
     "text": [
      "The Spearman's correlation between age and ... \n",
      "resting blood pressure is:\t 0.292 \t[mmHg]\n",
      "serum cholesterol level is:\t 0.191 \t[mg/dl]\n",
      "maximum heart rate achieved is:\t -0.392 \t[bpm]\n"
     ]
    }
   ],
   "source": [
    "print(\"The Spearman's correlation between age and ... \")\n",
    "for name, col, unit in meta_data:\n",
    "    print(f\"{name} is:\\t {data.corr(method ='spearman')['Age'][col]:.3f} \\t[{unit}]\")"
   ]
  },
  {
   "cell_type": "markdown",
   "metadata": {},
   "source": [
    "#### Kendall"
   ]
  },
  {
   "cell_type": "code",
   "execution_count": 20,
   "metadata": {},
   "outputs": [
    {
     "name": "stdout",
     "output_type": "stream",
     "text": [
      "The Kendall's correlation between age and ... \n",
      "resting blood pressure is:\t 0.206 \t[mmHg]\n",
      "serum cholesterol level is:\t 0.132 \t[mg/dl]\n",
      "maximum heart rate achieved is:\t -0.276 \t[bpm]\n"
     ]
    }
   ],
   "source": [
    "print(\"The Kendall's correlation between age and ... \")\n",
    "for name, col, unit in meta_data:\n",
    "    print(f\"{name} is:\\t {data.corr(method ='kendall')['Age'][col]:.3f} \\t[{unit}]\")"
   ]
  },
  {
   "cell_type": "markdown",
   "metadata": {},
   "source": [
    "#### Also, which variable(s) are most correlated with age? Illustrate with heatmaps."
   ]
  },
  {
   "cell_type": "code",
   "execution_count": 21,
   "metadata": {},
   "outputs": [
    {
     "data": {
      "image/png": "[encoded data removed]",
      "text/plain": [
       "<Figure size 432x288 with 2 Axes>"
      ]
     },
     "metadata": {
      "needs_background": "light"
     },
     "output_type": "display_data"
    }
   ],
   "source": [
    "data_spearman_age = pd.DataFrame(data.corr(method ='spearman')['Age'])\n",
    "### Plot the heatmap and annotation on it\n",
    "sns.heatmap(data_spearman_age, annot=True, square=True)\n",
    "plt.title('Correlation Heat Map - Age')\n",
    "plt.show()"
   ]
  },
  {
   "cell_type": "markdown",
   "metadata": {},
   "source": [
    "Of course, 'Age' is perfectly correlated with 'Age'. \n",
    "Besides this, we can identiy the second highest positive correlation which has magnitude ~0.29 and is with the resting blood pressure value:"
   ]
  },
  {
   "cell_type": "code",
   "execution_count": 22,
   "metadata": {},
   "outputs": [
    {
     "name": "stdout",
     "output_type": "stream",
     "text": [
      "The highest non-trivial corrleation (Spearman) with the feature 'Age' is with feature\n",
      "'trestbps' and it has magnitude of approximately '0.292'.\n"
     ]
    }
   ],
   "source": [
    "### Get the second highest correlation value\n",
    "second_max_corr = data.corr(method ='spearman')['Age'].sort_values()[-2]\n",
    "### Get the feature name, that corresponds to this value\n",
    "true_false_df = (data_spearman_age.values == second_max_corr)\n",
    "second_max_feature = data_spearman_age.index[true_false_df.argmax()]\n",
    "\n",
    "print(f\"The highest non-trivial corrleation (Spearman) with the feature 'Age' is with feature\")\n",
    "print(f\"'{second_max_feature}' and it has magnitude of approximately '{second_max_corr:.3f}'.\")"
   ]
  },
  {
   "cell_type": "code",
   "execution_count": 23,
   "metadata": {},
   "outputs": [
    {
     "name": "stdout",
     "output_type": "stream",
     "text": [
      "The lowest corrleation (Spearman) with the feature 'Age' is with feature\n",
      "'thalach' and it has magnitude of approximately '-0.392'.\n"
     ]
    }
   ],
   "source": [
    "### Lets do the same for the least correlation\n",
    "min_corr = data.corr(method ='spearman')['Age'].sort_values()[0]\n",
    "### Get the feature name, that corresponds to this value\n",
    "min_feature = data_spearman_age.index[(data_spearman_age.values == min_corr).argmax()]\n",
    "\n",
    "print(f\"The lowest corrleation (Spearman) with the feature 'Age' is with feature\")\n",
    "print(f\"'{min_feature}' and it has magnitude of approximately '{min_corr:.3f}'.\")"
   ]
  },
  {
   "cell_type": "markdown",
   "metadata": {},
   "source": [
    "### 4. From your understanding, which of the features can be labeled as discrete random variables and which features as continuous random variables?"
   ]
  },
  {
   "cell_type": "code",
   "execution_count": 24,
   "metadata": {},
   "outputs": [
    {
     "data": {
      "text/html": [
       "<div>\n",
       "<style scoped>\n",
       "    .dataframe tbody tr th:only-of-type {\n",
       "        vertical-align: middle;\n",
       "    }\n",
       "\n",
       "    .dataframe tbody tr th {\n",
       "        vertical-align: top;\n",
       "    }\n",
       "\n",
       "    .dataframe thead th {\n",
       "        text-align: right;\n",
       "    }\n",
       "</style>\n",
       "<table border=\"1\" class=\"dataframe\">\n",
       "  <thead>\n",
       "    <tr style=\"text-align: right;\">\n",
       "      <th></th>\n",
       "      <th>Age</th>\n",
       "      <th>Sex</th>\n",
       "      <th>cp</th>\n",
       "      <th>trestbps</th>\n",
       "      <th>chol</th>\n",
       "      <th>fbs</th>\n",
       "      <th>resetecg</th>\n",
       "      <th>thalach</th>\n",
       "      <th>exang</th>\n",
       "      <th>slope</th>\n",
       "      <th>ca</th>\n",
       "      <th>thal</th>\n",
       "      <th>num</th>\n",
       "    </tr>\n",
       "    <tr>\n",
       "      <th>id</th>\n",
       "      <th></th>\n",
       "      <th></th>\n",
       "      <th></th>\n",
       "      <th></th>\n",
       "      <th></th>\n",
       "      <th></th>\n",
       "      <th></th>\n",
       "      <th></th>\n",
       "      <th></th>\n",
       "      <th></th>\n",
       "      <th></th>\n",
       "      <th></th>\n",
       "      <th></th>\n",
       "    </tr>\n",
       "  </thead>\n",
       "  <tbody>\n",
       "    <tr>\n",
       "      <th>1</th>\n",
       "      <td>63</td>\n",
       "      <td>1</td>\n",
       "      <td>1</td>\n",
       "      <td>145</td>\n",
       "      <td>233.0</td>\n",
       "      <td>1.0</td>\n",
       "      <td>2.0</td>\n",
       "      <td>150.0</td>\n",
       "      <td>0.0</td>\n",
       "      <td>3.0</td>\n",
       "      <td>0.0</td>\n",
       "      <td>6.0</td>\n",
       "      <td>0</td>\n",
       "    </tr>\n",
       "    <tr>\n",
       "      <th>2</th>\n",
       "      <td>67</td>\n",
       "      <td>1</td>\n",
       "      <td>4</td>\n",
       "      <td>160</td>\n",
       "      <td>286.0</td>\n",
       "      <td>0.0</td>\n",
       "      <td>2.0</td>\n",
       "      <td>108.0</td>\n",
       "      <td>1.0</td>\n",
       "      <td>2.0</td>\n",
       "      <td>3.0</td>\n",
       "      <td>3.0</td>\n",
       "      <td>2</td>\n",
       "    </tr>\n",
       "  </tbody>\n",
       "</table>\n",
       "</div>"
      ],
      "text/plain": [
       "    Age  Sex  cp  trestbps   chol  fbs  resetecg  thalach  exang  slope   ca  \\\n",
       "id                                                                             \n",
       "1    63    1   1       145  233.0  1.0       2.0    150.0    0.0    3.0  0.0   \n",
       "2    67    1   4       160  286.0  0.0       2.0    108.0    1.0    2.0  3.0   \n",
       "\n",
       "   thal  num  \n",
       "id            \n",
       "1   6.0    0  \n",
       "2   3.0    2  "
      ]
     },
     "execution_count": 24,
     "metadata": {},
     "output_type": "execute_result"
    }
   ],
   "source": [
    "data.head(2)"
   ]
  },
  {
   "cell_type": "markdown",
   "metadata": {},
   "source": [
    "#### Let's go through them one by one:\n",
    "- 'iD' has integer values and thus a DISCRETE range. It is not really a random variable though.\n",
    "- 'Age' in general is a difference between time and could be understood as a continuous value. But in this databas it only takes integer values (years) and thus is DISCRETE.\n",
    "- 'Sex' is clearly a DISCRETE variable by definition: \n",
    "    - 1: male,\n",
    "    - 0: female\n",
    "- 'cp' (chest pain type) is DISCRETE by definition: \n",
    "    - 1: typical angina, \n",
    "    - 2: atypical angina, \n",
    "    - 3: non-anginal pain, \n",
    "    - 4: asymptomatic\n",
    "- 'trestbps' (resting blood pressure) is given in torr (unit of ressure, mmHg). It could be intepreted as continuous. But considering the given data which only has integer values, a DISCRETE interpretation is fine.\n",
    "- 'chol' (serum cholestoral) - same as with 'trestbps' but unit mg/dl - DISCRETE\n",
    "- 'fbs' (fasting blood sugar) is DISCRETE by definition:\n",
    "    - 0: fasting blood sugar >= 120 mg/dl\n",
    "    - 1: fasting blood sugar >  120 mg/dl\n",
    "- 'resetecg' (resting electrocardiographic results) is DISCRETE by definition:\n",
    "    - 0: normal\n",
    "    - 1: having ST-T wave abnormality (T wave inversions and/or ST elevation or depression of > 0.05 mV) \n",
    "    - showing probable or definite left ventricular hypertrophy by Estes' criteria \"\n",
    "- 'thalach' (maximum heart rate achieved) similar to 'trestbps'. Since it is measured in bpm (beats per minute), its values can be seen as integers and thus DISCRETE\n",
    "- 'exang' (exercise induced angina) is DISCRETE by definition\n",
    "    - 0: no\n",
    "    - 1: yes\n",
    "- 'slope' (slope of the peak exercise ST segment) is DISCRETE by definition\n",
    "    - 1: upsloping\n",
    "    - 2: flat\n",
    "    - 3: downsloping\n",
    "- 'ca' (number of major vessels colored by flourosopy) is DISCRETE by definition since it is a count (0-3)\n",
    "- 'thal' is DISCRETE by definition:\n",
    "    - 3: normal\n",
    "    - 6: fixed defect\n",
    "    - 7: reversable defect\n",
    "- 'num' (diagnosis of heart disease) is DISCRETE by definition:\n",
    "    - 0: angiographic disease status = <50 % diameter narrowing\n",
    "    - 1: angiographic disease status = >50 % diameter narrowing"
   ]
  },
  {
   "cell_type": "markdown",
   "metadata": {},
   "source": [
    "### 5. Describe the distribution for the values of the \"thalach\" feature? Illustrate with a plot."
   ]
  },
  {
   "cell_type": "code",
   "execution_count": 25,
   "metadata": {},
   "outputs": [
    {
     "data": {
      "image/png": "[encoded data removed]",
      "text/plain": [
       "<Figure size 432x288 with 1 Axes>"
      ]
     },
     "metadata": {
      "needs_background": "light"
     },
     "output_type": "display_data"
    }
   ],
   "source": [
    "data['thalach'].plot()\n",
    "plt.ylabel(\"Maximum heart rate achieved [bpm]\")\n",
    "plt.show()"
   ]
  },
  {
   "cell_type": "markdown",
   "metadata": {},
   "source": [
    "It seems like there is some noise in the data. Values below 100 bpm as a maximum heart rate seem unreasonable."
   ]
  },
  {
   "cell_type": "code",
   "execution_count": 26,
   "metadata": {},
   "outputs": [
    {
     "data": {
      "text/plain": [
       "<AxesSubplot:ylabel='Density'>"
      ]
     },
     "execution_count": 26,
     "metadata": {},
     "output_type": "execute_result"
    },
    {
     "data": {
      "image/png": "[encoded data removed]",
      "text/plain": [
       "<Figure size 432x288 with 1 Axes>"
      ]
     },
     "metadata": {
      "needs_background": "light"
     },
     "output_type": "display_data"
    }
   ],
   "source": [
    "data['thalach'].plot.density(grid=True)"
   ]
  },
  {
   "cell_type": "markdown",
   "metadata": {},
   "source": [
    "### 6. Plot the frequency of “Sex” variable in the dataset and describe what you observe in the plot. Similarly plot and describe the 'ca' feature for the male participants."
   ]
  },
  {
   "cell_type": "markdown",
   "metadata": {},
   "source": [
    "#### \"Sex\""
   ]
  },
  {
   "cell_type": "code",
   "execution_count": 27,
   "metadata": {},
   "outputs": [
    {
     "data": {
      "text/plain": [
       "1    206\n",
       "0     97\n",
       "Name: Sex, dtype: int64"
      ]
     },
     "execution_count": 27,
     "metadata": {},
     "output_type": "execute_result"
    }
   ],
   "source": [
    "data['Sex'].value_counts()"
   ]
  },
  {
   "cell_type": "code",
   "execution_count": 28,
   "metadata": {},
   "outputs": [
    {
     "data": {
      "image/png": "[encoded data removed]",
      "text/plain": [
       "<Figure size 432x288 with 1 Axes>"
      ]
     },
     "metadata": {
      "needs_background": "light"
     },
     "output_type": "display_data"
    }
   ],
   "source": [
    "### 'rot=0' leads to horizontal x-values\n",
    "ax = data['Sex'].value_counts().plot('bar', rot=0)\n",
    "ax.set_xticklabels([\"male\", \"female\"])\n",
    "ax.set_ylabel(\"Number of subjects\")\n",
    "plt.show()"
   ]
  },
  {
   "cell_type": "markdown",
   "metadata": {},
   "source": [
    "This means there are almost twice as much entries with value 'male' than the opposite 'female'."
   ]
  },
  {
   "cell_type": "markdown",
   "metadata": {},
   "source": [
    "## \"Ca\""
   ]
  },
  {
   "cell_type": "code",
   "execution_count": 29,
   "metadata": {},
   "outputs": [
    {
     "data": {
      "text/plain": [
       "0.0    176\n",
       "1.0     65\n",
       "2.0     38\n",
       "3.0     20\n",
       "?        4\n",
       "Name: ca, dtype: int64"
      ]
     },
     "execution_count": 29,
     "metadata": {},
     "output_type": "execute_result"
    }
   ],
   "source": [
    "data['ca'].value_counts()"
   ]
  },
  {
   "cell_type": "code",
   "execution_count": 30,
   "metadata": {},
   "outputs": [
    {
     "data": {
      "image/png": "[encoded data removed]",
      "text/plain": [
       "<Figure size 432x288 with 1 Axes>"
      ]
     },
     "metadata": {
      "needs_background": "light"
     },
     "output_type": "display_data"
    }
   ],
   "source": [
    "ax = data['ca'].value_counts().plot('bar', rot=0)\n",
    "ax.set_xlabel(\"Number of major vessels colored by flourosopy\")\n",
    "ax.set_ylabel(\"Number of subjects\")\n",
    "plt.show()"
   ]
  },
  {
   "cell_type": "markdown",
   "metadata": {},
   "source": [
    "Similarly to the \"Sex\" value, the database contains disproportionally more subjects where no major vessels were colored by flourosopy."
   ]
  },
  {
   "cell_type": "markdown",
   "metadata": {},
   "source": [
    "### 7. Detect outlier patients for features \"trestbps'' and \"chol\". Illustrate with plots."
   ]
  },
  {
   "cell_type": "markdown",
   "metadata": {},
   "source": [
    "#### \"trestbps\""
   ]
  },
  {
   "cell_type": "code",
   "execution_count": 31,
   "metadata": {},
   "outputs": [
    {
     "data": {
      "text/plain": [
       "<AxesSubplot:xlabel='trestbps'>"
      ]
     },
     "execution_count": 31,
     "metadata": {},
     "output_type": "execute_result"
    },
    {
     "data": {
      "image/png": "[encoded data removed]",
      "text/plain": [
       "<Figure size 432x288 with 1 Axes>"
      ]
     },
     "metadata": {
      "needs_background": "light"
     },
     "output_type": "display_data"
    }
   ],
   "source": [
    "sns.boxplot(x=data['trestbps'])"
   ]
  },
  {
   "cell_type": "markdown",
   "metadata": {},
   "source": [
    "Values above 170 mm Hg can be seen as outliers. And indeed - a resting blood pressure this high is quite unusual."
   ]
  },
  {
   "cell_type": "markdown",
   "metadata": {},
   "source": [
    "#### \"chol\""
   ]
  },
  {
   "cell_type": "code",
   "execution_count": 32,
   "metadata": {},
   "outputs": [],
   "source": [
    "### We cannot compute a boxplot or other data analysis while having\n",
    "### the non numeric '?' entries. So lets temporarily replace them with NaN:\n",
    "data_numeric_chol = data.replace({'ca': {'?': np.nan}}, regex=False)"
   ]
  },
  {
   "cell_type": "code",
   "execution_count": 33,
   "metadata": {},
   "outputs": [
    {
     "data": {
      "text/plain": [
       "<AxesSubplot:xlabel='chol'>"
      ]
     },
     "execution_count": 33,
     "metadata": {},
     "output_type": "execute_result"
    },
    {
     "data": {
      "image/png": "[encoded data removed]",
      "text/plain": [
       "<Figure size 432x288 with 1 Axes>"
      ]
     },
     "metadata": {
      "needs_background": "light"
     },
     "output_type": "display_data"
    }
   ],
   "source": [
    "sns.boxplot(x=data_numeric_chol['chol'])"
   ]
  },
  {
   "cell_type": "markdown",
   "metadata": {},
   "source": [
    "Values above 350 mg/dl can be seen as outliers."
   ]
  }
 ],
 "metadata": {
  "kernelspec": {
   "display_name": "Python 3",
   "language": "python",
   "name": "python3"
  },
  "language_info": {
   "codemirror_mode": {
    "name": "ipython",
    "version": 3
   },
   "file_extension": ".py",
   "mimetype": "text/x-python",
   "name": "python",
   "nbconvert_exporter": "python",
   "pygments_lexer": "ipython3",
   "version": "3.7.7"
  }
 },
 "nbformat": 4,
 "nbformat_minor": 2
}
