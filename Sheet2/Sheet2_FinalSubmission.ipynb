{
  "nbformat": 4,
  "nbformat_minor": 0,
  "metadata": {
    "kernelspec": {
      "display_name": "Python 3",
      "language": "python",
      "name": "python3"
    },
    "language_info": {
      "codemirror_mode": {
        "name": "ipython",
        "version": 3
      },
      "file_extension": ".py",
      "mimetype": "text/x-python",
      "name": "python",
      "nbconvert_exporter": "python",
      "pygments_lexer": "ipython3",
      "version": "3.8.5"
    },
    "colab": {
      "name": "Sheet2_FinalSubmission.ipynb",
      "provenance": [],
      "include_colab_link": true
    }
  },
  "cells": [
    {
      "cell_type": "markdown",
      "metadata": {
        "id": "view-in-github",
        "colab_type": "text"
      },
      "source": [
        "<a href=\"https://colab.research.google.com/github/D34dP0oL/4216_Biomedical_DS_and_AI/blob/main/Sheet2/Sheet2_FinalSubmission.ipynb\" target=\"_parent\"><img src=\"https://colab.research.google.com/assets/colab-badge.svg\" alt=\"Open In Colab\"/></a>"
      ]
    },
    {
      "cell_type": "markdown",
      "metadata": {
        "id": "1zP9QQdqjM0d"
      },
      "source": [
        "# Sheet 2 - Introduction\n",
        "\n",
        "By: Genivika Mann, Jonah Sieg, Fatemeh Salehi, Helia Salimi, Fabrice Beaumont"
      ]
    },
    {
      "cell_type": "markdown",
      "metadata": {
        "id": "zWa7yNDEjM0j"
      },
      "source": [
        "## Ex1 - Understanding Your Dataset"
      ]
    },
    {
      "cell_type": "code",
      "metadata": {
        "id": "KqrAXUfsjM0l"
      },
      "source": [
        "import numpy as np\n",
        "import pandas as pd\n",
        "import matplotlib.pyplot as plt\n",
        "import seaborn as sns"
      ],
      "execution_count": null,
      "outputs": []
    },
    {
      "cell_type": "markdown",
      "metadata": {
        "id": "0z9Rhpz3jM0o"
      },
      "source": [
        "### 1. Perform data cleaning procedures such that your final dataset is usable in the following questions"
      ]
    },
    {
      "cell_type": "markdown",
      "metadata": {
        "id": "xs5ffsT4jM0q"
      },
      "source": [
        "#### For the file 'processedClevelandData.csv'"
      ]
    },
    {
      "cell_type": "code",
      "metadata": {
        "id": "VJ6mIkv-jM0s",
        "outputId": "6a7dbd13-3b37-4308-81fd-62a9635c53cc"
      },
      "source": [
        "data = pd.read_csv(\"processedClevelandData.csv\", sep=';', index_col = 'id')\n",
        "data.head(4)"
      ],
      "execution_count": null,
      "outputs": [
        {
          "output_type": "execute_result",
          "data": {
            "text/html": [
              "<div>\n",
              "<style scoped>\n",
              "    .dataframe tbody tr th:only-of-type {\n",
              "        vertical-align: middle;\n",
              "    }\n",
              "\n",
              "    .dataframe tbody tr th {\n",
              "        vertical-align: top;\n",
              "    }\n",
              "\n",
              "    .dataframe thead th {\n",
              "        text-align: right;\n",
              "    }\n",
              "</style>\n",
              "<table border=\"1\" class=\"dataframe\">\n",
              "  <thead>\n",
              "    <tr style=\"text-align: right;\">\n",
              "      <th></th>\n",
              "      <th>Age</th>\n",
              "      <th>Sex</th>\n",
              "      <th>cp</th>\n",
              "      <th>trestbps</th>\n",
              "      <th>chol</th>\n",
              "      <th>fbs</th>\n",
              "      <th>resetecg</th>\n",
              "      <th>thalach</th>\n",
              "      <th>exang</th>\n",
              "      <th>slope</th>\n",
              "      <th>ca</th>\n",
              "      <th>thal</th>\n",
              "      <th>num</th>\n",
              "    </tr>\n",
              "    <tr>\n",
              "      <th>id</th>\n",
              "      <th></th>\n",
              "      <th></th>\n",
              "      <th></th>\n",
              "      <th></th>\n",
              "      <th></th>\n",
              "      <th></th>\n",
              "      <th></th>\n",
              "      <th></th>\n",
              "      <th></th>\n",
              "      <th></th>\n",
              "      <th></th>\n",
              "      <th></th>\n",
              "      <th></th>\n",
              "    </tr>\n",
              "  </thead>\n",
              "  <tbody>\n",
              "    <tr>\n",
              "      <th>1</th>\n",
              "      <td>63.0</td>\n",
              "      <td>1.0</td>\n",
              "      <td>1.0</td>\n",
              "      <td>145.0</td>\n",
              "      <td>233.0</td>\n",
              "      <td>1.0</td>\n",
              "      <td>2.0</td>\n",
              "      <td>150.0</td>\n",
              "      <td>0.0</td>\n",
              "      <td>3.0</td>\n",
              "      <td>0.0</td>\n",
              "      <td>6.0</td>\n",
              "      <td>0</td>\n",
              "    </tr>\n",
              "    <tr>\n",
              "      <th>2</th>\n",
              "      <td>67.0</td>\n",
              "      <td>1.0</td>\n",
              "      <td>4.0</td>\n",
              "      <td>160.0</td>\n",
              "      <td>286.0</td>\n",
              "      <td>0.0</td>\n",
              "      <td>2.0</td>\n",
              "      <td>108.0</td>\n",
              "      <td>1.0</td>\n",
              "      <td>2.0</td>\n",
              "      <td>3.0</td>\n",
              "      <td>3.0</td>\n",
              "      <td>1</td>\n",
              "    </tr>\n",
              "    <tr>\n",
              "      <th>3</th>\n",
              "      <td>67.0</td>\n",
              "      <td>1.0</td>\n",
              "      <td>4.0</td>\n",
              "      <td>120.0</td>\n",
              "      <td>229.0</td>\n",
              "      <td>0.0</td>\n",
              "      <td>2.0</td>\n",
              "      <td>129.0</td>\n",
              "      <td>1.0</td>\n",
              "      <td>2.0</td>\n",
              "      <td>2.0</td>\n",
              "      <td>7.0</td>\n",
              "      <td>1</td>\n",
              "    </tr>\n",
              "    <tr>\n",
              "      <th>4</th>\n",
              "      <td>37.0</td>\n",
              "      <td>1.0</td>\n",
              "      <td>3.0</td>\n",
              "      <td>130.0</td>\n",
              "      <td>250.0</td>\n",
              "      <td>0.0</td>\n",
              "      <td>0.0</td>\n",
              "      <td>187.0</td>\n",
              "      <td>0.0</td>\n",
              "      <td>3.0</td>\n",
              "      <td>0.0</td>\n",
              "      <td>3.0</td>\n",
              "      <td>0</td>\n",
              "    </tr>\n",
              "  </tbody>\n",
              "</table>\n",
              "</div>"
            ],
            "text/plain": [
              "     Age  Sex   cp  trestbps   chol  fbs  resetecg  thalach  exang  slope  \\\n",
              "id                                                                          \n",
              "1   63.0  1.0  1.0     145.0  233.0  1.0       2.0    150.0    0.0    3.0   \n",
              "2   67.0  1.0  4.0     160.0  286.0  0.0       2.0    108.0    1.0    2.0   \n",
              "3   67.0  1.0  4.0     120.0  229.0  0.0       2.0    129.0    1.0    2.0   \n",
              "4   37.0  1.0  3.0     130.0  250.0  0.0       0.0    187.0    0.0    3.0   \n",
              "\n",
              "     ca thal  num  \n",
              "id                 \n",
              "1   0.0  6.0    0  \n",
              "2   3.0  3.0    1  \n",
              "3   2.0  7.0    1  \n",
              "4   0.0  3.0    0  "
            ]
          },
          "metadata": {
            "tags": []
          },
          "execution_count": 2
        }
      ]
    },
    {
      "cell_type": "code",
      "metadata": {
        "id": "9PUokQy9jM0v",
        "outputId": "1ad1b933-13dd-4ab3-9134-5bd821ec6f86"
      },
      "source": [
        "### Check, if any missing values have to be filled in\n",
        "data.isna().sum().sum()"
      ],
      "execution_count": null,
      "outputs": [
        {
          "output_type": "execute_result",
          "data": {
            "text/plain": [
              "0"
            ]
          },
          "metadata": {
            "tags": []
          },
          "execution_count": 3
        }
      ]
    },
    {
      "cell_type": "code",
      "metadata": {
        "id": "TUe-JOZmjM0w",
        "outputId": "cf1a58ec-fe21-4c55-ce7d-29138c37aac6"
      },
      "source": [
        "### Check, if any duplicate rows exist\n",
        "nr_duplicated_rows = np.sum( data.duplicated() )\n",
        "print( f'There are {nr_duplicated_rows} duplicated rows.' ) "
      ],
      "execution_count": null,
      "outputs": [
        {
          "output_type": "stream",
          "text": [
            "There are 0 duplicated rows.\n"
          ],
          "name": "stdout"
        }
      ]
    },
    {
      "cell_type": "code",
      "metadata": {
        "id": "AY9WnghVjM0y",
        "outputId": "a8b8b675-53e7-4f69-a48d-0578f5fcc232"
      },
      "source": [
        "### There are no NaN values and duplicated rows, but we notice some '?' values. For example\n",
        "data.loc[288]['ca']"
      ],
      "execution_count": null,
      "outputs": [
        {
          "output_type": "execute_result",
          "data": {
            "text/plain": [
              "'?'"
            ]
          },
          "metadata": {
            "tags": []
          },
          "execution_count": 5
        }
      ]
    },
    {
      "cell_type": "code",
      "metadata": {
        "id": "VomOVd7gjM03",
        "outputId": "45ade176-f650-489d-8f59-e0fe45ff4890"
      },
      "source": [
        "### identify columns having '?' value by\n",
        "### listing data types of all columns\n",
        "data.dtypes"
      ],
      "execution_count": null,
      "outputs": [
        {
          "output_type": "execute_result",
          "data": {
            "text/plain": [
              "Age         float64\n",
              "Sex         float64\n",
              "cp          float64\n",
              "trestbps    float64\n",
              "chol        float64\n",
              "fbs         float64\n",
              "resetecg    float64\n",
              "thalach     float64\n",
              "exang       float64\n",
              "slope       float64\n",
              "ca           object\n",
              "thal         object\n",
              "num           int64\n",
              "dtype: object"
            ]
          },
          "metadata": {
            "tags": []
          },
          "execution_count": 6
        }
      ]
    },
    {
      "cell_type": "code",
      "metadata": {
        "id": "TJg6ReztjM04",
        "outputId": "2884e13a-8dea-410b-a8a4-e82824cf557d"
      },
      "source": [
        "### examining values present in `ca` column and `thal` column\n",
        "print( 'Value counts of `ca` column ' )\n",
        "print( data[ 'ca' ].value_counts() )\n",
        "print( 'Value counts of `thal` column ' )\n",
        "print( data[ 'thal' ].value_counts() )\n",
        "\n",
        "### and removing rows containing ? in these two columns\n",
        "data =  data[ ( data[ 'ca' ] != '?' ) ]\n",
        "data = data[ ( data[ 'thal' ] != '?' ) ]"
      ],
      "execution_count": null,
      "outputs": [
        {
          "output_type": "stream",
          "text": [
            "Value counts of `ca` column \n",
            "0.0    176\n",
            "1.0     65\n",
            "2.0     38\n",
            "3.0     20\n",
            "?        4\n",
            "Name: ca, dtype: int64\n",
            "Value counts of `thal` column \n",
            "3.0    166\n",
            "7.0    117\n",
            "6.0     18\n",
            "?        2\n",
            "Name: thal, dtype: int64\n"
          ],
          "name": "stdout"
        }
      ]
    },
    {
      "cell_type": "code",
      "metadata": {
        "id": "JGbA0DQ7jM09"
      },
      "source": [
        "### W.r.t. task 1.3: Column 'chol' stores the values AND the unit mg/dl as a string\n",
        "### Lets remove the unit to be left with directly usable values\n",
        "data['chol'] = data['chol'].map(lambda x: x.rstrip('mg/dl'))\n",
        "data['chol'] = data['chol'].astype(float) ### 'int' seems reasonable too"
      ],
      "execution_count": null,
      "outputs": []
    },
    {
      "cell_type": "code",
      "metadata": {
        "id": "yeDR1MZijM0-",
        "outputId": "b2c46ad0-96b3-4de5-e7ae-3f81e1c8b877"
      },
      "source": [
        "data.head(4)"
      ],
      "execution_count": null,
      "outputs": [
        {
          "output_type": "execute_result",
          "data": {
            "text/html": [
              "<div>\n",
              "<style scoped>\n",
              "    .dataframe tbody tr th:only-of-type {\n",
              "        vertical-align: middle;\n",
              "    }\n",
              "\n",
              "    .dataframe tbody tr th {\n",
              "        vertical-align: top;\n",
              "    }\n",
              "\n",
              "    .dataframe thead th {\n",
              "        text-align: right;\n",
              "    }\n",
              "</style>\n",
              "<table border=\"1\" class=\"dataframe\">\n",
              "  <thead>\n",
              "    <tr style=\"text-align: right;\">\n",
              "      <th></th>\n",
              "      <th>Age</th>\n",
              "      <th>Sex</th>\n",
              "      <th>cp</th>\n",
              "      <th>trestbps</th>\n",
              "      <th>chol</th>\n",
              "      <th>fbs</th>\n",
              "      <th>resetecg</th>\n",
              "      <th>thalach</th>\n",
              "      <th>exang</th>\n",
              "      <th>slope</th>\n",
              "      <th>ca</th>\n",
              "      <th>thal</th>\n",
              "      <th>num</th>\n",
              "    </tr>\n",
              "    <tr>\n",
              "      <th>id</th>\n",
              "      <th></th>\n",
              "      <th></th>\n",
              "      <th></th>\n",
              "      <th></th>\n",
              "      <th></th>\n",
              "      <th></th>\n",
              "      <th></th>\n",
              "      <th></th>\n",
              "      <th></th>\n",
              "      <th></th>\n",
              "      <th></th>\n",
              "      <th></th>\n",
              "      <th></th>\n",
              "    </tr>\n",
              "  </thead>\n",
              "  <tbody>\n",
              "    <tr>\n",
              "      <th>1</th>\n",
              "      <td>63.0</td>\n",
              "      <td>1.0</td>\n",
              "      <td>1.0</td>\n",
              "      <td>145.0</td>\n",
              "      <td>233.0</td>\n",
              "      <td>1.0</td>\n",
              "      <td>2.0</td>\n",
              "      <td>150.0</td>\n",
              "      <td>0.0</td>\n",
              "      <td>3.0</td>\n",
              "      <td>0.0</td>\n",
              "      <td>6.0</td>\n",
              "      <td>0</td>\n",
              "    </tr>\n",
              "    <tr>\n",
              "      <th>2</th>\n",
              "      <td>67.0</td>\n",
              "      <td>1.0</td>\n",
              "      <td>4.0</td>\n",
              "      <td>160.0</td>\n",
              "      <td>286.0</td>\n",
              "      <td>0.0</td>\n",
              "      <td>2.0</td>\n",
              "      <td>108.0</td>\n",
              "      <td>1.0</td>\n",
              "      <td>2.0</td>\n",
              "      <td>3.0</td>\n",
              "      <td>3.0</td>\n",
              "      <td>1</td>\n",
              "    </tr>\n",
              "    <tr>\n",
              "      <th>3</th>\n",
              "      <td>67.0</td>\n",
              "      <td>1.0</td>\n",
              "      <td>4.0</td>\n",
              "      <td>120.0</td>\n",
              "      <td>229.0</td>\n",
              "      <td>0.0</td>\n",
              "      <td>2.0</td>\n",
              "      <td>129.0</td>\n",
              "      <td>1.0</td>\n",
              "      <td>2.0</td>\n",
              "      <td>2.0</td>\n",
              "      <td>7.0</td>\n",
              "      <td>1</td>\n",
              "    </tr>\n",
              "    <tr>\n",
              "      <th>4</th>\n",
              "      <td>37.0</td>\n",
              "      <td>1.0</td>\n",
              "      <td>3.0</td>\n",
              "      <td>130.0</td>\n",
              "      <td>250.0</td>\n",
              "      <td>0.0</td>\n",
              "      <td>0.0</td>\n",
              "      <td>187.0</td>\n",
              "      <td>0.0</td>\n",
              "      <td>3.0</td>\n",
              "      <td>0.0</td>\n",
              "      <td>3.0</td>\n",
              "      <td>0</td>\n",
              "    </tr>\n",
              "  </tbody>\n",
              "</table>\n",
              "</div>"
            ],
            "text/plain": [
              "     Age  Sex   cp  trestbps   chol  fbs  resetecg  thalach  exang  slope  \\\n",
              "id                                                                          \n",
              "1   63.0  1.0  1.0     145.0  233.0  1.0       2.0    150.0    0.0    3.0   \n",
              "2   67.0  1.0  4.0     160.0  286.0  0.0       2.0    108.0    1.0    2.0   \n",
              "3   67.0  1.0  4.0     120.0  229.0  0.0       2.0    129.0    1.0    2.0   \n",
              "4   37.0  1.0  3.0     130.0  250.0  0.0       0.0    187.0    0.0    3.0   \n",
              "\n",
              "     ca thal  num  \n",
              "id                 \n",
              "1   0.0  6.0    0  \n",
              "2   3.0  3.0    1  \n",
              "3   2.0  7.0    1  \n",
              "4   0.0  3.0    0  "
            ]
          },
          "metadata": {
            "tags": []
          },
          "execution_count": 8
        }
      ]
    },
    {
      "cell_type": "markdown",
      "metadata": {
        "id": "Q2c2C-StjM0-"
      },
      "source": [
        "#### For the file 'featureDescription.csv'"
      ]
    },
    {
      "cell_type": "markdown",
      "metadata": {
        "id": "5EClbwXujM0_"
      },
      "source": [
        "When first reading in the file, we notices some messed up separation.\n",
        "We noticed, that often the delimiter ; was inside a quotationmark.\n",
        "By flipping these, we get a better - but still not perfect readout.\n",
        "Alternatively one could clean up the small data by hand."
      ]
    },
    {
      "cell_type": "code",
      "metadata": {
        "id": "KVne57qRjM0_"
      },
      "source": [
        "file_in = open(\"featureDescription.csv\", \"rt\")\n",
        "file_out = open(\"featureDescription_clean.csv\", \"wt\")\n",
        "for line in file_in:\n",
        "    file_out.write(line.replace(';\"', '\";'))\n",
        "file_in.close()\n",
        "file_out.close()\n",
        "\n",
        "features = pd.read_csv(\"featureDescription.csv\", sep=';')"
      ],
      "execution_count": null,
      "outputs": []
    },
    {
      "cell_type": "markdown",
      "metadata": {
        "id": "2pAkqyR6jM1A"
      },
      "source": [
        "### 2. For each type of diagnosis of heart disease, find the following for the resting blood pressure:"
      ]
    },
    {
      "cell_type": "markdown",
      "metadata": {
        "id": "SbCaWqf4jM1B"
      },
      "source": [
        "#### Taking a look at the features reveals, that the 'diagnosis of heart disease' is given in the column 'num'"
      ]
    },
    {
      "cell_type": "markdown",
      "metadata": {
        "id": "kQy4XVK9jM1B"
      },
      "source": [
        "#### a. Mean"
      ]
    },
    {
      "cell_type": "code",
      "metadata": {
        "id": "DCiExoKcjM1B"
      },
      "source": [
        "### One can get the mean of the (resting) 'blood pressure' [mmHg] with: \n",
        "#data['trestbps'].mean()\n",
        "### But to get it for each type of diagnosis of heart disease ('num') separately,\n",
        "### group the rows with the same 'num' entry first\n",
        "mean_per_heartDisease = data.groupby(['num']).mean()"
      ],
      "execution_count": null,
      "outputs": []
    },
    {
      "cell_type": "code",
      "metadata": {
        "id": "9PYg9UgqjM1C",
        "outputId": "318084a8-17db-48ad-8b9c-d6514ac6272a"
      },
      "source": [
        "#mean_per_heartDisease['trestbps']\n",
        "for index, row in mean_per_heartDisease.iterrows():\n",
        "    print(f\"Heart disease {index} has an average blood pressure of {row['trestbps']:.2f} mmHg\")"
      ],
      "execution_count": null,
      "outputs": [
        {
          "output_type": "stream",
          "text": [
            "Heart disease 0 has an average blood pressure of 129.18 mmHg\n",
            "Heart disease 1 has an average blood pressure of 134.64 mmHg\n"
          ],
          "name": "stdout"
        }
      ]
    },
    {
      "cell_type": "code",
      "metadata": {
        "id": "zEnM8KpBjM1L",
        "outputId": "f5979f7e-7db2-4705-80ce-76c211740340"
      },
      "source": [
        "mean_per_heartDisease['trestbps'].plot()\n",
        "# plt.xticks(np.arange(0, 4.1, 1.0))\n",
        "plt.xlabel(\"Heart disease\")\n",
        "plt.ylabel(\"Mean [mmHg]\")"
      ],
      "execution_count": null,
      "outputs": [
        {
          "output_type": "execute_result",
          "data": {
            "text/plain": [
              "Text(0, 0.5, 'Mean [mmHg]')"
            ]
          },
          "metadata": {
            "tags": []
          },
          "execution_count": 12
        },
        {
          "output_type": "display_data",
          "data": {
            "image/png": "[encoded data removed]",
            "text/plain": [
              "<Figure size 432x288 with 1 Axes>"
            ]
          },
          "metadata": {
            "tags": [],
            "needs_background": "light"
          }
        }
      ]
    },
    {
      "cell_type": "markdown",
      "metadata": {
        "id": "5FiDUnzcjM1M"
      },
      "source": [
        "#### b. Median"
      ]
    },
    {
      "cell_type": "code",
      "metadata": {
        "id": "76yqA7k0jM1M",
        "outputId": "fe7c2759-242a-4a77-b805-3aaaa638b78a"
      },
      "source": [
        "median_per_heartDisease = data.groupby(['num']).median()\n",
        "for index, row in median_per_heartDisease.iterrows():\n",
        "    print(f\"Heart disease {index} has an median blood pressure of {row['trestbps']:.2f} mmHg\")"
      ],
      "execution_count": null,
      "outputs": [
        {
          "output_type": "stream",
          "text": [
            "Heart disease 0 has an median blood pressure of 130.00 mmHg\n",
            "Heart disease 1 has an median blood pressure of 130.00 mmHg\n"
          ],
          "name": "stdout"
        }
      ]
    },
    {
      "cell_type": "code",
      "metadata": {
        "id": "Xnd_waBjjM1M",
        "outputId": "e4f8cc04-e1b5-4392-d142-76e494e377bd"
      },
      "source": [
        "median_per_heartDisease['trestbps'].plot()\n",
        "# plt.xticks(np.arange(0, 4.1, 1.0))\n",
        "plt.xlabel(\"Heart disease\")\n",
        "plt.ylabel(\"Median [mmHg]\")"
      ],
      "execution_count": null,
      "outputs": [
        {
          "output_type": "execute_result",
          "data": {
            "text/plain": [
              "Text(0, 0.5, 'Median [mmHg]')"
            ]
          },
          "metadata": {
            "tags": []
          },
          "execution_count": 14
        },
        {
          "output_type": "display_data",
          "data": {
            "image/png": "[encoded data removed]",
            "text/plain": [
              "<Figure size 432x288 with 1 Axes>"
            ]
          },
          "metadata": {
            "tags": [],
            "needs_background": "light"
          }
        }
      ]
    },
    {
      "cell_type": "markdown",
      "metadata": {
        "id": "GkFI6jPGjM1N"
      },
      "source": [
        "#### c. Standard deviation"
      ]
    },
    {
      "cell_type": "code",
      "metadata": {
        "id": "iA-2wDKojM1O",
        "outputId": "87665f61-e8a9-4bca-863f-f1bac4c389d8"
      },
      "source": [
        "stdDev_per_heartDisease = data.groupby(['num']).std()\n",
        "for index, row in stdDev_per_heartDisease.iterrows():\n",
        "    print(f\"Heart disease {index} has a std. dev. in blood pressure of {row['trestbps']:.2f} mmHg\")"
      ],
      "execution_count": null,
      "outputs": [
        {
          "output_type": "stream",
          "text": [
            "Heart disease 0 has a std. dev. in blood pressure of 16.37 mmHg\n",
            "Heart disease 1 has a std. dev. in blood pressure of 18.90 mmHg\n"
          ],
          "name": "stdout"
        }
      ]
    },
    {
      "cell_type": "code",
      "metadata": {
        "id": "78DjKtsZjM1O",
        "outputId": "26271e8a-7be9-4e6c-d5e8-3ab9dba142f0"
      },
      "source": [
        "stdDev_per_heartDisease['trestbps'].plot()\n",
        "# plt.xticks(np.arange(0, 4.1, 1.0))\n",
        "plt.xlabel(\"Heart disease\")\n",
        "plt.ylabel(\"Standard deviation [mmHg]\")"
      ],
      "execution_count": null,
      "outputs": [
        {
          "output_type": "execute_result",
          "data": {
            "text/plain": [
              "Text(0, 0.5, 'Standard deviation [mmHg]')"
            ]
          },
          "metadata": {
            "tags": []
          },
          "execution_count": 16
        },
        {
          "output_type": "display_data",
          "data": {
            "image/png": "[encoded data removed]",
            "text/plain": [
              "<Figure size 432x288 with 1 Axes>"
            ]
          },
          "metadata": {
            "tags": [],
            "needs_background": "light"
          }
        }
      ]
    },
    {
      "cell_type": "markdown",
      "metadata": {
        "id": "UGGobEZIjM1P"
      },
      "source": [
        "### 3. Use Spearman's and Kendall correlation to quantify the correlation between age and the following."
      ]
    },
    {
      "cell_type": "code",
      "metadata": {
        "id": "7e-q0mOwjM1P"
      },
      "source": [
        "meta_data = [(\"resting blood pressure\", \"trestbps\", \"mmHg\"), (\"serum cholesterol level\", \"chol\", \"mg/dl\"), (\"maximum heart rate achieved\", \"thalach\", \"bpm\")]"
      ],
      "execution_count": null,
      "outputs": []
    },
    {
      "cell_type": "markdown",
      "metadata": {
        "id": "-8U-XnKqjM1P"
      },
      "source": [
        "#### Spearman"
      ]
    },
    {
      "cell_type": "code",
      "metadata": {
        "id": "SxFrS5GpjM1P",
        "outputId": "d503335f-92d5-46d3-fb50-f417b9a91af4"
      },
      "source": [
        "print(\"The Spearman's correlation between age and ... \")\n",
        "for name, col, unit in meta_data:\n",
        "    print(f\"{name} is:\\t {data.corr(method ='spearman')['Age'][col]:.3f} \\t[{unit}]\")"
      ],
      "execution_count": null,
      "outputs": [
        {
          "output_type": "stream",
          "text": [
            "The Spearman's correlation between age and ... \n",
            "resting blood pressure is:\t 0.300 \t[mmHg]\n",
            "serum cholesterol level is:\t 0.183 \t[mg/dl]\n",
            "maximum heart rate achieved is:\t -0.393 \t[bpm]\n"
          ],
          "name": "stdout"
        }
      ]
    },
    {
      "cell_type": "markdown",
      "metadata": {
        "id": "svQJ_RbjjM1Q"
      },
      "source": [
        "#### Kendall"
      ]
    },
    {
      "cell_type": "code",
      "metadata": {
        "id": "AxcQHyHQjM1Q",
        "outputId": "6d8d21a8-7f08-4564-f820-27a0876f11fd"
      },
      "source": [
        "print(\"The Kendall's correlation between age and ... \")\n",
        "for name, col, unit in meta_data:\n",
        "    print(f\"{name} is:\\t {data.corr(method ='kendall')['Age'][col]:.3f} \\t[{unit}]\")"
      ],
      "execution_count": null,
      "outputs": [
        {
          "output_type": "stream",
          "text": [
            "The Kendall's correlation between age and ... \n",
            "resting blood pressure is:\t 0.211 \t[mmHg]\n",
            "serum cholesterol level is:\t 0.127 \t[mg/dl]\n",
            "maximum heart rate achieved is:\t -0.277 \t[bpm]\n"
          ],
          "name": "stdout"
        }
      ]
    },
    {
      "cell_type": "markdown",
      "metadata": {
        "id": "MfZoVro0jM1R"
      },
      "source": [
        "#### Also, which variable(s) are most correlated with age? Illustrate with heatmaps."
      ]
    },
    {
      "cell_type": "code",
      "metadata": {
        "id": "pn4OSMrnjM1T",
        "outputId": "2eb95d7f-03bb-47ff-b43e-8d0989903588"
      },
      "source": [
        "data_spearman_age = pd.DataFrame(data.corr(method ='spearman')['Age'])\n",
        "### Plot the heatmap and annotation on it\n",
        "sns.heatmap(data_spearman_age, annot=True, square=True)\n",
        "plt.title('Correlation Heat Map - Age')\n",
        "plt.show()"
      ],
      "execution_count": null,
      "outputs": [
        {
          "output_type": "display_data",
          "data": {
            "image/png": "[encoded data removed]",
            "text/plain": [
              "<Figure size 432x288 with 2 Axes>"
            ]
          },
          "metadata": {
            "tags": [],
            "needs_background": "light"
          }
        }
      ]
    },
    {
      "cell_type": "markdown",
      "metadata": {
        "id": "vLn_YoAgjM1T"
      },
      "source": [
        "Of course, 'Age' is perfectly correlated with 'Age'. \n",
        "Besides this, we can identiy the second highest positive correlation which has magnitude ~0.29 and is with the resting blood pressure value:"
      ]
    },
    {
      "cell_type": "code",
      "metadata": {
        "id": "WtnSfjwUjM1U",
        "outputId": "0f0dd865-1ca6-4656-b9f0-fab4b10cfbef"
      },
      "source": [
        "### Get the second highest correlation value\n",
        "second_max_corr = data.corr(method ='spearman')['Age'].sort_values()[-2]\n",
        "### Get the feature name, that corresponds to this value\n",
        "true_false_df = (data_spearman_age.values == second_max_corr)\n",
        "second_max_feature = data_spearman_age.index[true_false_df.argmax()]\n",
        "\n",
        "print(f\"The highest non-trivial corrleation (Spearman) with the feature 'Age' is with feature\")\n",
        "print(f\"'{second_max_feature}' and it has magnitude of approximately '{second_max_corr:.3f}'.\")"
      ],
      "execution_count": null,
      "outputs": [
        {
          "output_type": "stream",
          "text": [
            "The highest non-trivial corrleation (Spearman) with the feature 'Age' is with feature\n",
            "'trestbps' and it has magnitude of approximately '0.300'.\n"
          ],
          "name": "stdout"
        }
      ]
    },
    {
      "cell_type": "code",
      "metadata": {
        "id": "w6fCrE39jM1U",
        "outputId": "ec2021cb-3260-49ae-9109-17ad1b41ed80"
      },
      "source": [
        "### Lets do the same for the least correlation\n",
        "min_corr = data.corr(method ='spearman')['Age'].sort_values()[0]\n",
        "### Get the feature name, that corresponds to this value\n",
        "min_feature = data_spearman_age.index[(data_spearman_age.values == min_corr).argmax()]\n",
        "\n",
        "print(f\"The lowest corrleation (Spearman) with the feature 'Age' is with feature\")\n",
        "print(f\"'{min_feature}' and it has magnitude of approximately '{min_corr:.3f}'.\")"
      ],
      "execution_count": null,
      "outputs": [
        {
          "output_type": "stream",
          "text": [
            "The lowest corrleation (Spearman) with the feature 'Age' is with feature\n",
            "'thalach' and it has magnitude of approximately '-0.393'.\n"
          ],
          "name": "stdout"
        }
      ]
    },
    {
      "cell_type": "markdown",
      "metadata": {
        "id": "jtoSuOkKjM1U"
      },
      "source": [
        "### 4. From your understanding, which of the features can be labeled as discrete random variables and which features as continuous random variables?"
      ]
    },
    {
      "cell_type": "code",
      "metadata": {
        "id": "CQyrhz9qjM1U",
        "outputId": "c463c0ad-1943-458d-ed70-f33d62a2c201"
      },
      "source": [
        "data.head(2)"
      ],
      "execution_count": null,
      "outputs": [
        {
          "output_type": "execute_result",
          "data": {
            "text/html": [
              "<div>\n",
              "<style scoped>\n",
              "    .dataframe tbody tr th:only-of-type {\n",
              "        vertical-align: middle;\n",
              "    }\n",
              "\n",
              "    .dataframe tbody tr th {\n",
              "        vertical-align: top;\n",
              "    }\n",
              "\n",
              "    .dataframe thead th {\n",
              "        text-align: right;\n",
              "    }\n",
              "</style>\n",
              "<table border=\"1\" class=\"dataframe\">\n",
              "  <thead>\n",
              "    <tr style=\"text-align: right;\">\n",
              "      <th></th>\n",
              "      <th>Age</th>\n",
              "      <th>Sex</th>\n",
              "      <th>cp</th>\n",
              "      <th>trestbps</th>\n",
              "      <th>chol</th>\n",
              "      <th>fbs</th>\n",
              "      <th>resetecg</th>\n",
              "      <th>thalach</th>\n",
              "      <th>exang</th>\n",
              "      <th>slope</th>\n",
              "      <th>ca</th>\n",
              "      <th>thal</th>\n",
              "      <th>num</th>\n",
              "    </tr>\n",
              "    <tr>\n",
              "      <th>id</th>\n",
              "      <th></th>\n",
              "      <th></th>\n",
              "      <th></th>\n",
              "      <th></th>\n",
              "      <th></th>\n",
              "      <th></th>\n",
              "      <th></th>\n",
              "      <th></th>\n",
              "      <th></th>\n",
              "      <th></th>\n",
              "      <th></th>\n",
              "      <th></th>\n",
              "      <th></th>\n",
              "    </tr>\n",
              "  </thead>\n",
              "  <tbody>\n",
              "    <tr>\n",
              "      <th>1</th>\n",
              "      <td>63.0</td>\n",
              "      <td>1.0</td>\n",
              "      <td>1.0</td>\n",
              "      <td>145.0</td>\n",
              "      <td>233.0</td>\n",
              "      <td>1.0</td>\n",
              "      <td>2.0</td>\n",
              "      <td>150.0</td>\n",
              "      <td>0.0</td>\n",
              "      <td>3.0</td>\n",
              "      <td>0.0</td>\n",
              "      <td>6.0</td>\n",
              "      <td>0</td>\n",
              "    </tr>\n",
              "    <tr>\n",
              "      <th>2</th>\n",
              "      <td>67.0</td>\n",
              "      <td>1.0</td>\n",
              "      <td>4.0</td>\n",
              "      <td>160.0</td>\n",
              "      <td>286.0</td>\n",
              "      <td>0.0</td>\n",
              "      <td>2.0</td>\n",
              "      <td>108.0</td>\n",
              "      <td>1.0</td>\n",
              "      <td>2.0</td>\n",
              "      <td>3.0</td>\n",
              "      <td>3.0</td>\n",
              "      <td>1</td>\n",
              "    </tr>\n",
              "  </tbody>\n",
              "</table>\n",
              "</div>"
            ],
            "text/plain": [
              "     Age  Sex   cp  trestbps   chol  fbs  resetecg  thalach  exang  slope  \\\n",
              "id                                                                          \n",
              "1   63.0  1.0  1.0     145.0  233.0  1.0       2.0    150.0    0.0    3.0   \n",
              "2   67.0  1.0  4.0     160.0  286.0  0.0       2.0    108.0    1.0    2.0   \n",
              "\n",
              "     ca thal  num  \n",
              "id                 \n",
              "1   0.0  6.0    0  \n",
              "2   3.0  3.0    1  "
            ]
          },
          "metadata": {
            "tags": []
          },
          "execution_count": 23
        }
      ]
    },
    {
      "cell_type": "markdown",
      "metadata": {
        "id": "bx3k_o5_jM1V"
      },
      "source": [
        "#### Let's go through them one by one:\n",
        "- 'iD' has integer values and thus a DISCRETE range. It is not really a random variable though.\n",
        "- 'Age' in general is a difference between time and could be understood as a continuous value. But in this databas it only takes integer values (years) and thus is DISCRETE.\n",
        "- 'Sex' is clearly a DISCRETE variable by definition: \n",
        "    - 1: male,\n",
        "    - 0: female\n",
        "- 'cp' (chest pain type) is DISCRETE by definition: \n",
        "    - 1: typical angina, \n",
        "    - 2: atypical angina, \n",
        "    - 3: non-anginal pain, \n",
        "    - 4: asymptomatic\n",
        "- 'trestbps' (resting blood pressure) is given in torr (unit of ressure, mmHg). It could be intepreted as continuous. But considering the given data which only has integer values, a DISCRETE interpretation is fine.\n",
        "- 'chol' (serum cholestoral) - same as with 'trestbps' but unit mg/dl - DISCRETE\n",
        "- 'fbs' (fasting blood sugar) is DISCRETE by definition:\n",
        "    - 0: fasting blood sugar >= 120 mg/dl\n",
        "    - 1: fasting blood sugar >  120 mg/dl\n",
        "- 'resetecg' (resting electrocardiographic results) is DISCRETE by definition:\n",
        "    - 0: normal\n",
        "    - 1: having ST-T wave abnormality (T wave inversions and/or ST elevation or depression of > 0.05 mV) \n",
        "    - showing probable or definite left ventricular hypertrophy by Estes' criteria \"\n",
        "- 'thalach' (maximum heart rate achieved) similar to 'trestbps'. Since it is measured in bpm (beats per minute), its values can be seen as integers and thus DISCRETE\n",
        "- 'exang' (exercise induced angina) is DISCRETE by definition\n",
        "    - 0: no\n",
        "    - 1: yes\n",
        "- 'slope' (slope of the peak exercise ST segment) is DISCRETE by definition\n",
        "    - 1: upsloping\n",
        "    - 2: flat\n",
        "    - 3: downsloping\n",
        "- 'ca' (number of major vessels colored by flourosopy) is DISCRETE by definition since it is a count (0-3)\n",
        "- 'thal' is DISCRETE by definition:\n",
        "    - 3: normal\n",
        "    - 6: fixed defect\n",
        "    - 7: reversable defect\n",
        "- 'num' (diagnosis of heart disease) is DISCRETE by definition:\n",
        "    - 0: angiographic disease status = <50 % diameter narrowing\n",
        "    - 1: angiographic disease status = >50 % diameter narrowing"
      ]
    },
    {
      "cell_type": "markdown",
      "metadata": {
        "id": "OueybXF4jM1X"
      },
      "source": [
        "### 5. Describe the distribution for the values of the \"thalach\" feature? Illustrate with a plot."
      ]
    },
    {
      "cell_type": "code",
      "metadata": {
        "id": "mg9Y3o1CjM1X",
        "outputId": "af0d8719-ccb5-4f2b-900f-c2a786e7ea27"
      },
      "source": [
        "data['thalach'].plot()\n",
        "plt.ylabel(\"Maximum heart rate achieved [bpm]\")\n",
        "plt.show()"
      ],
      "execution_count": null,
      "outputs": [
        {
          "output_type": "display_data",
          "data": {
            "image/png": "[encoded data removed]",
            "text/plain": [
              "<Figure size 432x288 with 1 Axes>"
            ]
          },
          "metadata": {
            "tags": [],
            "needs_background": "light"
          }
        }
      ]
    },
    {
      "cell_type": "markdown",
      "metadata": {
        "id": "vbg2N8jPjM1X"
      },
      "source": [
        "It seems like there is some noise in the data. Values below 100 bpm as a maximum heart rate seem unreasonable."
      ]
    },
    {
      "cell_type": "code",
      "metadata": {
        "id": "qsMY-Bh6jM1Y",
        "outputId": "38c6f6a1-7663-4a16-cd57-bda2341e9789"
      },
      "source": [
        "data['thalach'].plot.density(grid=True)"
      ],
      "execution_count": null,
      "outputs": [
        {
          "output_type": "execute_result",
          "data": {
            "text/plain": [
              "<AxesSubplot:ylabel='Density'>"
            ]
          },
          "metadata": {
            "tags": []
          },
          "execution_count": 25
        },
        {
          "output_type": "display_data",
          "data": {
            "image/png": "[encoded data removed]",
            "text/plain": [
              "<Figure size 432x288 with 1 Axes>"
            ]
          },
          "metadata": {
            "tags": [],
            "needs_background": "light"
          }
        }
      ]
    },
    {
      "cell_type": "markdown",
      "metadata": {
        "id": "wbxYculCjM1Z"
      },
      "source": [
        "The `Thalach` feature follows a normal distribution with its mean lying around 160-170, as shown in the density plot above."
      ]
    },
    {
      "cell_type": "markdown",
      "metadata": {
        "id": "KOGvAjMYjM1Z"
      },
      "source": [
        "### 6. Plot the frequency of “Sex” variable in the dataset and describe what you observe in the plot. Similarly plot and describe the 'ca' feature for the male participants."
      ]
    },
    {
      "cell_type": "markdown",
      "metadata": {
        "id": "t_m-hpIUjM1Z"
      },
      "source": [
        "#### \"Sex\""
      ]
    },
    {
      "cell_type": "code",
      "metadata": {
        "id": "76LbvUOGjM1Z",
        "outputId": "12c68979-e80d-4eb3-fb54-e3101019b8cf"
      },
      "source": [
        "data['Sex'].value_counts()"
      ],
      "execution_count": null,
      "outputs": [
        {
          "output_type": "execute_result",
          "data": {
            "text/plain": [
              "1.0    201\n",
              "0.0     96\n",
              "Name: Sex, dtype: int64"
            ]
          },
          "metadata": {
            "tags": []
          },
          "execution_count": 26
        }
      ]
    },
    {
      "cell_type": "code",
      "metadata": {
        "id": "sEFkjYeDjM1a",
        "outputId": "cdf028f1-7818-42aa-e449-709fdf56e492"
      },
      "source": [
        "# Plotting count plot for \"Sex\" feature in dataset\n",
        "sns.countplot( data = data, x = \"Sex\" )\n",
        "plt.title( 'Count plot for feature Sex' )\n",
        "plt.xlabel( 'Sex' )\n",
        "plt.ylabel( 'frequency' )\n",
        "plt.show()"
      ],
      "execution_count": null,
      "outputs": [
        {
          "output_type": "display_data",
          "data": {
            "image/png": "[encoded data removed]",
            "text/plain": [
              "<Figure size 432x288 with 1 Axes>"
            ]
          },
          "metadata": {
            "tags": [],
            "needs_background": "light"
          }
        }
      ]
    },
    {
      "cell_type": "markdown",
      "metadata": {
        "id": "eVRKrTe-jM1b"
      },
      "source": [
        "This means there are almost twice as much entries with value 'male' than the opposite 'female'."
      ]
    },
    {
      "cell_type": "markdown",
      "metadata": {
        "id": "kWDdjjf_jM1b"
      },
      "source": [
        "## \"Ca\""
      ]
    },
    {
      "cell_type": "code",
      "metadata": {
        "id": "QPvaHPJDjM1b",
        "outputId": "029e389a-a924-4196-b597-a21d99c8d38e"
      },
      "source": [
        "# Plotting the \"ca\" feature for male participants\n",
        "\n",
        "# preparing dataframe with only male participant rows\n",
        "male_participants_dataset = data[ data[ 'Sex' ] == 1 ]\n",
        "print( male_participants_dataset[ \"ca\" ].unique() )\n",
        "\n",
        "\n",
        "# plotting 'ca' for male participants\n",
        "sns.countplot( data = male_participants_dataset, x = \"ca\" )\n",
        "plt.title( \"Count plot for feature ca for male participants\" )\n",
        "plt.xlabel( \"ca\" )\n",
        "plt.ylabel( \"frequency\" )\n",
        "plt.show()"
      ],
      "execution_count": null,
      "outputs": [
        {
          "output_type": "stream",
          "text": [
            "['0.0' '3.0' '2.0' '1.0']\n"
          ],
          "name": "stdout"
        },
        {
          "output_type": "display_data",
          "data": {
            "image/png": "[encoded data removed]",
            "text/plain": [
              "<Figure size 432x288 with 1 Axes>"
            ]
          },
          "metadata": {
            "tags": [],
            "needs_background": "light"
          }
        }
      ]
    },
    {
      "cell_type": "markdown",
      "metadata": {
        "id": "FxIwIsRKjM1b"
      },
      "source": [
        "Observation: More than half of the male participants have 'ca' feature value of '0.0', followed by almost a quarter male participants having 'ca' equal to '1.0'. Less than 20 male participants have 'ca' feature of '3.0' "
      ]
    },
    {
      "cell_type": "markdown",
      "metadata": {
        "id": "aVV2MPEIjM1c"
      },
      "source": [
        "### 7. Detect outlier patients for features \"trestbps'' and \"chol\". Illustrate with plots."
      ]
    },
    {
      "cell_type": "markdown",
      "metadata": {
        "id": "wtPhSGw0jM1c"
      },
      "source": [
        "#### \"trestbps\""
      ]
    },
    {
      "cell_type": "code",
      "metadata": {
        "id": "Lu556T3QjM1d",
        "outputId": "57d233ad-5d0b-49d4-f0ea-2fb8c36be384"
      },
      "source": [
        "### plotting box plot of 'trestbps'\n",
        "sns.boxplot(x=data['trestbps'])"
      ],
      "execution_count": null,
      "outputs": [
        {
          "output_type": "execute_result",
          "data": {
            "text/plain": [
              "<AxesSubplot:xlabel='trestbps'>"
            ]
          },
          "metadata": {
            "tags": []
          },
          "execution_count": 31
        },
        {
          "output_type": "display_data",
          "data": {
            "image/png": "[encoded data removed]",
            "text/plain": [
              "<Figure size 432x288 with 1 Axes>"
            ]
          },
          "metadata": {
            "tags": [],
            "needs_background": "light"
          }
        }
      ]
    },
    {
      "cell_type": "markdown",
      "metadata": {
        "id": "I772Q79gjM1d"
      },
      "source": [
        "#### \"chol\""
      ]
    },
    {
      "cell_type": "code",
      "metadata": {
        "id": "UM864dgDjM1d",
        "outputId": "7b0a0d35-90f0-4cf6-c313-3a55ccb468d9"
      },
      "source": [
        "### plotting box plot of 'chol'\n",
        "sns.boxplot(x=data['chol'])"
      ],
      "execution_count": null,
      "outputs": [
        {
          "output_type": "execute_result",
          "data": {
            "text/plain": [
              "<AxesSubplot:xlabel='chol'>"
            ]
          },
          "metadata": {
            "tags": []
          },
          "execution_count": 30
        },
        {
          "output_type": "display_data",
          "data": {
            "image/png": "[encoded data removed]",
            "text/plain": [
              "<Figure size 432x288 with 1 Axes>"
            ]
          },
          "metadata": {
            "tags": [],
            "needs_background": "light"
          }
        }
      ]
    },
    {
      "cell_type": "markdown",
      "metadata": {
        "id": "r47gV0TtjM1d"
      },
      "source": [
        "Outliers are visible in box plots as the points below Minimum ( $Q_1-1.5*IQR$ ) or the points above Maximum ( $Q_3+1.5*IQR$). The box plots for 'trestbps' and 'chol' shows outliers above the maximum.\n",
        "\n",
        "- For 'trestbps', values above 170 mm Hg can be seen as outliers. And indeed - a resting blood pressure this high is quite unusual.\n",
        "- For 'chol', values above 350 mg/dl can be seen as outliers."
      ]
    },
    {
      "cell_type": "code",
      "metadata": {
        "id": "HnW2C2xvjM1e",
        "outputId": "abd9a4fb-24ad-406a-a6a0-b9f253498820"
      },
      "source": [
        "def outlierDetector( dataset, feature ):\n",
        "    '''This method calculates quartiles, IQR and minimum, maximum for a feature of the dataset.\n",
        "    It then returns a dataframe containing outliers of the feature\n",
        "    \n",
        "    Args:\n",
        "        dataset - A dataset containing the feature whose outliers need to be detected.\n",
        "        feature - The feature whose outliers need to be detected\n",
        "        \n",
        "    Return:\n",
        "        outliers - A dataframe containing outliers of df\n",
        "    '''\n",
        "    q1 = dataset[ feature ].quantile(0.25)\n",
        "    q3 = dataset[ feature ].quantile(0.75)\n",
        "    iqr = q3 - q1\n",
        "    minimum = q1 - 1.5 * iqr\n",
        "    maximum = q3 + 1.5 * iqr\n",
        "    outliers = dataset[ ( dataset[ feature ] > maximum ) | ( dataset[ feature ] < minimum ) ]\n",
        "    outlier_rows = outliers.shape[ 0 ]\n",
        "    print( f\"The no. of outliers in feature {feature} are {outlier_rows}\" )\n",
        "    print( outliers, \"\\n\" )\n",
        "    \n",
        "outlierDetector( data, 'trestbps' )\n",
        "outlierDetector( data, 'chol' )"
      ],
      "execution_count": null,
      "outputs": [
        {
          "output_type": "stream",
          "text": [
            "The no. of outliers in feature trestbps are 9\n",
            "      Age  Sex   cp  trestbps   chol  fbs  resetecg  thalach  exang  slope  \\\n",
            "id                                                                           \n",
            "15   52.0  1.0  3.0     172.0  199.0  1.0       0.0    162.0    0.0    1.0   \n",
            "84   68.0  1.0  3.0     180.0  274.0  1.0       2.0    150.0    1.0    2.0   \n",
            "127  56.0  0.0  4.0     200.0  288.0  1.0       2.0    133.0    1.0    3.0   \n",
            "173  59.0  0.0  4.0     174.0  249.0  0.0       0.0    143.0    1.0    2.0   \n",
            "184  59.0  1.0  1.0     178.0  270.0  0.0       2.0    145.0    0.0    3.0   \n",
            "189  54.0  1.0  2.0     192.0  283.0  0.0       2.0    195.0    0.0    1.0   \n",
            "202  64.0  0.0  4.0     180.0  325.0  0.0       0.0    154.0    1.0    1.0   \n",
            "214  66.0  0.0  4.0     178.0  228.0  1.0       0.0    165.0    1.0    2.0   \n",
            "232  55.0  0.0  4.0     180.0  327.0  0.0       1.0    117.0    1.0    2.0   \n",
            "\n",
            "      ca thal  num  \n",
            "id                  \n",
            "15   0.0  7.0    0  \n",
            "84   0.0  7.0    1  \n",
            "127  2.0  7.0    1  \n",
            "173  0.0  3.0    1  \n",
            "184  0.0  7.0    0  \n",
            "189  1.0  7.0    1  \n",
            "202  0.0  3.0    0  \n",
            "214  2.0  7.0    1  \n",
            "232  0.0  3.0    1   \n",
            "\n",
            "The no. of outliers in feature chol are 5\n",
            "      Age  Sex   cp  trestbps   chol  fbs  resetecg  thalach  exang  slope  \\\n",
            "id                                                                           \n",
            "49   65.0  0.0  3.0     140.0  417.0  1.0       2.0    157.0    0.0    1.0   \n",
            "122  63.0  0.0  4.0     150.0  407.0  0.0       2.0    154.0    0.0    2.0   \n",
            "153  67.0  0.0  3.0     115.0  564.0  0.0       2.0    160.0    0.0    2.0   \n",
            "174  62.0  0.0  4.0     140.0  394.0  0.0       2.0    157.0    0.0    2.0   \n",
            "182  56.0  0.0  4.0     134.0  409.0  0.0       2.0    150.0    1.0    2.0   \n",
            "\n",
            "      ca thal  num  \n",
            "id                  \n",
            "49   1.0  3.0    0  \n",
            "122  3.0  7.0    1  \n",
            "153  0.0  7.0    0  \n",
            "174  0.0  3.0    0  \n",
            "182  2.0  7.0    1   \n",
            "\n"
          ],
          "name": "stdout"
        }
      ]
    },
    {
      "cell_type": "markdown",
      "metadata": {
        "id": "g-d9mpyyjM1e"
      },
      "source": [
        "#### **Exercise 2 - Probability**"
      ]
    },
    {
      "cell_type": "markdown",
      "metadata": {
        "id": "cfOgNcCSjM1e"
      },
      "source": [
        "**1. Suppose a discrete random variable, MMSE (Mini mental state examination),\n",
        "cognitive test measured for Alzheimer’s disease (AD) has the following\n",
        "probability mass function.....Find the probability that MMSE:\n",
        "a) at least 22\n",
        "b) at least 14 and at most 28**"
      ]
    },
    {
      "cell_type": "markdown",
      "metadata": {
        "id": "lZJguDLRjM1f"
      },
      "source": [
        " $$\n",
        "a) Pr(X >= 22) = 1 - Pr(X<22) = 1-[ Pr(X=5) + Pr(X=8) + Pr(X=14) ] \\\\ = 1- [ 0.05 + 0.27 + 0.16 ] = 0.52\n",
        " $$"
      ]
    },
    {
      "cell_type": "markdown",
      "metadata": {
        "id": "MTx9W7dBjM1g"
      },
      "source": [
        "$$\n",
        "b) Pr(X>=14 \\ and \\ X<=28) = Pr(X=14)+Pr(X=22)+Pr(X=24)+Pr(X=28) \\\\ = 0.16+0.17+0.03+0.12 = 0.48\n",
        "$$"
      ]
    },
    {
      "cell_type": "markdown",
      "metadata": {
        "id": "zGlW6SRyjM1g"
      },
      "source": [
        "**2. A company produced antibody testing kits for COVID-19. The false positive\n",
        "rate of the test is known to be 3%. What is the probability to find at least 2\n",
        "false positive results within 35 tested patients?**"
      ]
    },
    {
      "cell_type": "markdown",
      "metadata": {
        "id": "KDrcT69_jM1g"
      },
      "source": [
        "Let\n",
        "\n",
        "\n",
        "X be the no. of false positive results,\n",
        "\n",
        "n be the no. of tested patients (n=35),\n",
        "\n",
        "p be the probability of a single false postive result (p=3/100),\n",
        "\n",
        "q be the (1-p) = 97/100\n",
        "\n",
        "$$\n",
        "Pr( X>=2 \\ | \\ n=35, p= \\frac{3}{100}) = 1-Pr(X<2 \\ | \\ n=35, p=\\frac{3}{100})\n",
        "\\\\ = 1 - [ Pr(X=0) + Pr(X=1) ]\n",
        "$$\n",
        "\n",
        "\n",
        "We can calculate $Pr(X=0) \\ and \\ Pr(X=1) $ using Binomial Distribution\n",
        "$$\n",
        "Pr(X<2 \\ | \\ n=35, p=\\frac{3}{100}) = Pr(X=0, n=35, p=\\frac{3}{100}) \\  + \\ Pr(X=1, n=35, p=\\frac{3}{100})\n",
        "$$\n",
        "\n",
        "Probability of 0 false positives with n=35\n",
        "$$\n",
        "Pr(X=0, n=35, p=\\frac{3}{100}) =  \\binom{35}{0} \\left(\\frac{3}{100}\\right)^{0}\\left(\\frac{97}{100}\\right)^{35} = 0.3443 \\tag1\n",
        "$$\n",
        "Probability of 1 false positive with n=35\n",
        "$$\n",
        "Pr(X=1, n=35, p=\\frac{3}{100}) =  \\binom{35}{0} \\left(\\frac{3}{100}\\right)^{1}\\left(\\frac{97}{100}\\right)^{34} = 0.01065 \\tag2\n",
        "$$\n",
        "Using $(1)$ and $(2)$,\n",
        "$$\n",
        "Pr(X>=2 \\ | \\ n=35, p=\\frac{3}{100}) = 1-\\left(0.3443+0.01065 \\right) = 0.64505 \n",
        "$$"
      ]
    },
    {
      "cell_type": "markdown",
      "metadata": {
        "id": "SoFl58dzjM1g"
      },
      "source": [
        "#### **Exercise 3 - Hypothesis Testing**"
      ]
    },
    {
      "cell_type": "markdown",
      "metadata": {
        "id": "ZDHGMNXLjM1g"
      },
      "source": [
        "Using the processed dataset from question 1 answer the following questions."
      ]
    },
    {
      "cell_type": "markdown",
      "metadata": {
        "id": "GvBIM0uUjM1h"
      },
      "source": [
        "**1. Are all the criteria for carrying out a t-test to identify a significant difference in\n",
        "the age of patients who have heart disease and those who don’t, met?\n",
        "-If the criteria is met, carry out a t-test using Python.\n",
        "-And if not, point out the unmet conditions for the variables, and mention\n",
        "a possible solution in-order to combat this issue.**"
      ]
    },
    {
      "cell_type": "markdown",
      "metadata": {
        "id": "i-aZI1ftjM1i"
      },
      "source": [
        "- We need to first check whether our samples are normally distributed. t-test can only be applied on normally distributed samples.\n",
        "- We perform the Shapiro-Wilks test to check whether sample is drawn from normal distribution. We also plot density plots to observe the distribution."
      ]
    },
    {
      "cell_type": "code",
      "metadata": {
        "id": "ttLKMtkujM1i",
        "outputId": "cc8891d4-6f9b-48d8-d295-f24aa05a9fcb"
      },
      "source": [
        "# divide dataset into two samples\n",
        "heart_disease_sample = data[ data[ 'num' ] == 1 ]\n",
        "non_heart_disease_sample = data[ data[ 'num' ] == 0 ]\n",
        "print( heart_disease_sample.shape )\n",
        "print( non_heart_disease_sample.shape )"
      ],
      "execution_count": null,
      "outputs": [
        {
          "output_type": "stream",
          "text": [
            "(137, 13)\n",
            "(160, 13)\n"
          ],
          "name": "stdout"
        }
      ]
    },
    {
      "cell_type": "code",
      "metadata": {
        "id": "OIfP4-EvjM1i",
        "outputId": "4d390364-2488-4208-b5e0-d3e4605602fe"
      },
      "source": [
        "# performing Shapiro-Wilks test on heart disease sample\n",
        "from scipy import stats\n",
        "shapiro_test = stats.shapiro( heart_disease_sample[ 'Age' ] )\n",
        "print( \"Shapiro-Wilks test result for heart disease sample:\\n\", shapiro_test )"
      ],
      "execution_count": null,
      "outputs": [
        {
          "output_type": "stream",
          "text": [
            "Shapiro-Wilks test result for heart disease sample:\n",
            " ShapiroResult(statistic=0.9659031629562378, pvalue=0.0016701725544407964)\n"
          ],
          "name": "stdout"
        }
      ]
    },
    {
      "cell_type": "markdown",
      "metadata": {
        "id": "dK9q7xfPjM1i"
      },
      "source": [
        "From the test results, it can be seen that the heart_disease_sample is not normally distributed since p-value< 0.05 significance level."
      ]
    },
    {
      "cell_type": "code",
      "metadata": {
        "id": "JoOVUOj7jM1i",
        "outputId": "c3892337-262e-469e-fa51-772dbebdcf79"
      },
      "source": [
        "# performing Shapiro-Wilks test on non-heart disease sample\n",
        "shapiro_test = stats.shapiro( non_heart_disease_sample[ 'Age' ] )\n",
        "print( \"Shapiro-Wilks test result for non-heart disease sample:\\n\", shapiro_test )"
      ],
      "execution_count": null,
      "outputs": [
        {
          "output_type": "stream",
          "text": [
            "Shapiro-Wilks test result for non-heart disease sample:\n",
            " ShapiroResult(statistic=0.9860922694206238, pvalue=0.11105211079120636)\n"
          ],
          "name": "stdout"
        }
      ]
    },
    {
      "cell_type": "markdown",
      "metadata": {
        "id": "o6lq_ibtjM1j"
      },
      "source": [
        "The non_heart_disease_sample is normally distributed since p-value> 0.05 significance level."
      ]
    },
    {
      "cell_type": "code",
      "metadata": {
        "id": "Nz6ku36kjM1j",
        "outputId": "290c15fb-522b-4c9e-8d28-49271b017ea4"
      },
      "source": [
        "# plot distribution age feature for sample with num = 1 ( with heart disease)\n",
        "heart_disease_sample[ 'Age' ].plot.density(grid=True)\n",
        "plt.title( 'Density plot for Age feature for heart disease sample' )\n",
        "plt.xlabel( 'Age' )\n",
        "plt.show()"
      ],
      "execution_count": null,
      "outputs": [
        {
          "output_type": "display_data",
          "data": {
            "image/png": "[encoded data removed]",
            "text/plain": [
              "<Figure size 432x288 with 1 Axes>"
            ]
          },
          "metadata": {
            "tags": [],
            "needs_background": "light"
          }
        }
      ]
    },
    {
      "cell_type": "code",
      "metadata": {
        "id": "BTc4wJt1jM1j",
        "outputId": "d36e4902-bc3b-47b1-db63-ef4b2f62a5a3"
      },
      "source": [
        "# plot distribution age feature for sample with  num = 0  ( without heart disease)\n",
        "non_heart_disease_sample[ 'Age' ].plot.density(grid=True)\n",
        "plt.title( 'Density plot for Age feature for non-heart disease sample' )\n",
        "plt.xlabel( 'Age' )\n",
        "plt.show()"
      ],
      "execution_count": null,
      "outputs": [
        {
          "output_type": "display_data",
          "data": {
            "image/png": "[encoded data removed]",
            "text/plain": [
              "<Figure size 432x288 with 1 Axes>"
            ]
          },
          "metadata": {
            "tags": [],
            "needs_background": "light"
          }
        }
      ]
    },
    {
      "cell_type": "markdown",
      "metadata": {
        "id": "STlZzfxijM1j"
      },
      "source": [
        "We cannot perform the t-test as the heart disease sample in not normally distributed. However, we can combat this problem by choosing another test that does not require the sample to be normally distributed.\n",
        "An alternative is to use the rank based Mann Whitney rank test"
      ]
    },
    {
      "cell_type": "code",
      "metadata": {
        "id": "Ce2ja6NZjM1k",
        "outputId": "bbd6baab-c6cd-40d7-ae41-65797586bc84"
      },
      "source": [
        "# Using Mann-Whitney rank test \n",
        "mannwhitneyu_results = stats.mannwhitneyu( heart_disease_sample[ 'Age' ], non_heart_disease_sample[ 'Age' ], alternative = 'two-sided' )\n",
        "print( mannwhitneyu_results )"
      ],
      "execution_count": null,
      "outputs": [
        {
          "output_type": "stream",
          "text": [
            "MannwhitneyuResult(statistic=14003.5, pvalue=3.672541004211365e-05)\n"
          ],
          "name": "stdout"
        }
      ]
    },
    {
      "cell_type": "markdown",
      "metadata": {
        "id": "Heh6UmjRjM1l"
      },
      "source": [
        "We reject the null hypothesis as p-value<0.05 and conclude that the alternative hypothesis is true, i.e $H_{1}:\\mu_{age\\ of\\  heart\\ disease\\ patients}\\neq \\mu_{age\\ of\\ normal\\ patients}$\n",
        "\n",
        "\n",
        "**Thus, there is significant difference in the age of patients who have heart disease and those who do not.**"
      ]
    },
    {
      "cell_type": "markdown",
      "metadata": {
        "id": "UGjFGoTFjM1l"
      },
      "source": [
        "**2. Identify if women are significantly more likely to get heart disease than men?**"
      ]
    },
    {
      "cell_type": "code",
      "metadata": {
        "id": "5yS-81lkjM1m",
        "outputId": "68835509-d89f-4f93-e68e-8b7e0335ea20"
      },
      "source": [
        "# creating matrix between features `Sex` and `num`(heart disease feature)\n",
        "feature_matrix = pd.crosstab( data[ 'Sex' ], data[ 'num' ] )\n",
        "print( feature_matrix )\n",
        "\n",
        "# plotting feature_matrix between 'Sex' and 'num'\n",
        "feature_matrix.plot( kind = 'bar', rot=0 )\n",
        "plt.xticks(  ( 0.0, 1.0 ), ( 'Female', 'Male' ) )\n",
        "L = plt.legend()\n",
        "L.get_texts()[1].set_text( 'Heart Disease Patient' )\n",
        "L.get_texts()[0].set_text( 'Normal Patient' )"
      ],
      "execution_count": null,
      "outputs": [
        {
          "output_type": "stream",
          "text": [
            "num   0    1\n",
            "Sex         \n",
            "0.0  71   25\n",
            "1.0  89  112\n"
          ],
          "name": "stdout"
        },
        {
          "output_type": "display_data",
          "data": {
            "image/png": "[encoded data removed]",
            "text/plain": [
              "<Figure size 432x288 with 1 Axes>"
            ]
          },
          "metadata": {
            "tags": [],
            "needs_background": "light"
          }
        }
      ]
    },
    {
      "cell_type": "markdown",
      "metadata": {
        "id": "S1HC2shijM1m"
      },
      "source": [
        "We conclude from the plot that women are **less likely** to have heart disease than men."
      ]
    },
    {
      "cell_type": "markdown",
      "metadata": {
        "id": "9XoWl7-4jM1m"
      },
      "source": [
        "**3. Inform yourself about χ²−test. And using χ²−test, identify if there is a\n",
        "significant association between exercise induced angina (exang), and the\n",
        "slope of the peak exercise ST segment (slope)?**"
      ]
    },
    {
      "cell_type": "code",
      "metadata": {
        "id": "ySkt1CQKjM1m",
        "outputId": "7795e172-0945-4166-8961-d91b39742cad"
      },
      "source": [
        "# creating matrix between features - 'exang' and 'slope'\n",
        "feature_matrix = pd.crosstab( data[ 'exang' ], data[ 'slope' ] )\n",
        "print( feature_matrix )"
      ],
      "execution_count": null,
      "outputs": [
        {
          "output_type": "stream",
          "text": [
            "slope  1.0  2.0  3.0\n",
            "exang               \n",
            "0.0    113   75   12\n",
            "1.0     26   62    9\n"
          ],
          "name": "stdout"
        }
      ]
    },
    {
      "cell_type": "code",
      "metadata": {
        "id": "_-bXNFLUjM1n",
        "outputId": "8117c7a5-a764-410d-c4e0-76390ea210bd"
      },
      "source": [
        "# performing chi2 test of independence\n",
        "chi2_results = stats.chi2_contingency( feature_matrix )\n",
        "print( 'Chi-square value: ', chi2_results[0] )\n",
        "print( 'p-value: ', chi2_results[1] )\n",
        "print( 'degree of freedom: ', chi2_results[2] )\n",
        "print( 'expected values: ', chi2_results[3] )"
      ],
      "execution_count": null,
      "outputs": [
        {
          "output_type": "stream",
          "text": [
            "Chi-square value:  23.183106158398047\n",
            "p-value:  9.243840878417745e-06\n",
            "degree of freedom:  2\n",
            "expected values:  [[93.6026936  92.25589226 14.14141414]\n",
            " [45.3973064  44.74410774  6.85858586]]\n"
          ],
          "name": "stdout"
        }
      ]
    },
    {
      "cell_type": "markdown",
      "metadata": {
        "id": "3p7XZH4NjM1n"
      },
      "source": [
        "The p-value is less than 0.05, therefore null hypothesis is rejected. The 'exang' and 'slope' are dependant and there is significant association between the two features."
      ]
    }
  ]
}