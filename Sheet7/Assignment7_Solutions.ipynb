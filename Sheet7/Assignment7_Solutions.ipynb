{
  "nbformat": 4,
  "nbformat_minor": 0,
  "metadata": {
    "kernelspec": {
      "display_name": "Python 3",
      "language": "python",
      "name": "python3"
    },
    "language_info": {
      "codemirror_mode": {
        "name": "ipython",
        "version": 3
      },
      "file_extension": ".py",
      "mimetype": "text/x-python",
      "name": "python",
      "nbconvert_exporter": "python",
      "pygments_lexer": "ipython3",
      "version": "3.7.7"
    },
    "colab": {
      "name": "Assignment6_Solutions.ipynb",
      "provenance": [],
      "collapsed_sections": [],
      "include_colab_link": true
    }
  },
  "cells": [
    {
      "cell_type": "markdown",
      "metadata": {
        "id": "view-in-github",
        "colab_type": "text"
      },
      "source": [
        "<a href=\"https://colab.research.google.com/github/D34dP0oL/4216_Biomedical_DS_and_AI/blob/main/Sheet6/Assignment6_Solutions.ipynb\" target=\"_parent\"><img src=\"https://colab.research.google.com/assets/colab-badge.svg\" alt=\"Open In Colab\"/></a>"
      ]
    },
    {
      "cell_type": "code",
      "metadata": {
        "id": "-UnHoHsFop-8"
      },
      "source": [
        "import numpy as np\n",
        "import math\n",
        "import pandas as pd\n",
        "import random as rand\n",
        "import time\n",
        "\n",
        "import scipy.sparse as sparse\n",
        "import matplotlib.pyplot as plt\n",
        "import seaborn as sns\n",
        "\n",
        "\n",
        "from sklearn.linear_model import LinearRegression, LogisticRegression\n",
        "from sklearn.model_selection import train_test_split\n",
        "from sklearn.metrics import explained_variance_score, mean_absolute_error, r2_score, mean_squared_error, classification_report\n",
        "from sklearn.preprocessing import PolynomialFeatures\n",
        "from sklearn.pipeline import Pipeline"
      ],
      "execution_count": 5,
      "outputs": []
    },
    {
      "cell_type": "code",
      "metadata": {
        "colab": {
          "base_uri": "https://localhost:8080/"
        },
        "id": "-v5oIoP2nzQm",
        "outputId": "6ccb366d-7683-49f1-dddb-36dc24ab77c1"
      },
      "source": [
        "!pip install nimfa"
      ],
      "execution_count": null,
      "outputs": [
        {
          "output_type": "stream",
          "text": [
            "Requirement already satisfied: nimfa in /usr/local/lib/python3.7/dist-packages (1.4.0)\n",
            "Requirement already satisfied: numpy>=1.7.0 in /usr/local/lib/python3.7/dist-packages (from nimfa) (1.20.3)\n",
            "Requirement already satisfied: scipy>=0.12.0 in /usr/local/lib/python3.7/dist-packages (from nimfa) (1.4.1)\n"
          ],
          "name": "stdout"
        }
      ]
    },
    {
      "cell_type": "code",
      "metadata": {
        "id": "__NYQR_Gn5lI"
      },
      "source": [
        "import nimfa"
      ],
      "execution_count": null,
      "outputs": []
    },
    {
      "cell_type": "code",
      "metadata": {
        "id": "BUswbzmRCHbj"
      },
      "source": [
        "def get_dataset_from_github(filename, index_col_str=None, header_str='infer'):    \n",
        "    data_file_path = \"https://raw.githubusercontent.com/D34dP0oL/4216_Biomedical_DS_and_AI/main/Datasets/\"\n",
        "    if index_col_str is None and header_str == 'infer':\n",
        "      data = pd.read_csv(data_file_path + filename)\n",
        "    elif index_col_str is None:\n",
        "        data = pd.read_csv(data_file_path + filename, header=header_str)\n",
        "    elif header_str == 'infer':\n",
        "      data = pd.read_csv(data_file_path + filename, index_col=index_col_str)\n",
        "    else:\n",
        "      data = pd.read_csv(data_file_path + filename, index_col=index_col_str, header=header_str)\n",
        "\n",
        "    return data"
      ],
      "execution_count": 6,
      "outputs": []
    },
    {
      "cell_type": "markdown",
      "metadata": {
        "id": "Lx0G72bGl7xc"
      },
      "source": [
        "## Biomedical Data Science & AI\n",
        "\n",
        "## Assignment 6\n",
        "\n",
        "#### Group members:  Fabrice Beaumont, Fatemeh Salehi, Genivika Mann, Helia Salimi, Jonah"
      ]
    },
    {
      "cell_type": "markdown",
      "metadata": {
        "id": "-fhYMe5ml7xo"
      },
      "source": [
        "---\n",
        "### Exercise 1 - NMF clustering\n"
      ]
    },
    {
      "cell_type": "markdown",
      "metadata": {
        "id": "jgUkN-nGziCe"
      },
      "source": [
        "#### 1.1. Write an algorithm to showcase the working of Non-negative matrix factorization (NMF)."
      ]
    },
    {
      "cell_type": "markdown",
      "metadata": {
        "id": "XPktaQuslzHU"
      },
      "source": [
        "**Input:** \n",
        "- Non-negative matrix $X\\in\\mathbb{R}^{n\\times m}$ (where $n$ represents features and $m$ represents data point) and \n",
        "- factorization rank $k$ (selected such that $(n+m)r< n m $)\n",
        "\n",
        "**Output:** \n",
        "- Non-negative matrices $W\\in\\mathbb{R}^{n\\times k}$ and \n",
        "- $H\\in\\mathbb{R}^{k\\times m}$\n",
        "\n",
        "**Objective:** Minimise the below objective function $D(X||WH)$ by alternating minimizations with respect to $W$ and $H$:\n",
        "$$D(X||WH) := \\sum_{ij}\\left( x_{ij}\\log\\Big(\\frac{x_{ij}}{w_{ij}H_{ij}}\\Big)-x_{ij}+w_{ij}\\right)$$\n"
      ]
    },
    {
      "cell_type": "markdown",
      "metadata": {
        "id": "OwzKYapDQCIQ"
      },
      "source": [
        "**Algorithm**:\n",
        "1. Generate initial non-negative matrices $W^{0}$ and $H^{0}$ using an initialization algorithm (eg. random initialization).\n",
        "1. Loop over $t=0,\\dots t_{\\text{max}}$ but stop if $W^{t-1} = W^{t}$ and $H^{t-1} = H^{t}$ (i.e $W$ and $H$ converge)\n",
        "    1. Update the elements of $W^{t}$:\n",
        "        $$ w_{ik} = w_{ik} \\frac{ 1 }{ \\sum_{j=1}^{p}h_{kj} } \\frac{ \\sum_{j=1}^{p} h_{kj} x_{ij} }{ (WH)_{ij} } $$\n",
        "    1. Update the elements of $H^{t}$:\n",
        "        $$ h_{kj}= h_{kj} \\frac{ 1  }{\\sum_{i=1}^{N}w_{ik}} \\frac{\\sum_{i=1}^{N}w_{ik}x_{ij}}{(WH)_{ij}} $$"
      ]
    },
    {
      "cell_type": "markdown",
      "metadata": {
        "id": "appoDszfFI5l"
      },
      "source": [
        "#### 1.2. Mention the pros and cons of NMF as well as one of its applications."
      ]
    },
    {
      "cell_type": "markdown",
      "metadata": {
        "id": "aGkvea5pnVne"
      },
      "source": [
        "**Advantages of NMF:**\n",
        "- It is useful for **high dimensional data** as it extracts **sparse and meaningful features** from non-negative data vectors.\n",
        "- It is a **bi-clustering** algorithm as it performs both **feature selection** and **clustering**. The sparse NMF enforces sparsity on the factor matrices which results in identification of sparse set of features specific for each cluster in the factor matrices.\n",
        "- It is **not distance based**.\n",
        "\n",
        "**Disadvantages of NMF:**\n",
        "- It can only detect **linearly separable clusters**.\n",
        "- It is **computationally demanding**.\n",
        "- The procedure is prone to **random initialization**. Hence we may get different clusters depending on initialization. This problem can be tackled by performing NMF multiple times and analysing the consensus matrix.\n",
        "\n",
        "**Applications:**\n",
        "1. **Text Mining** - NMF can be used for text mining in areas such as topic modeling, document clustering, topic detection and trend tracking, email analysis.\n",
        "2. **Image Analysis and Computer Vision** - NMF is also applied in feature representation for facial feature extraction and video tracking. "
      ]
    },
    {
      "cell_type": "markdown",
      "metadata": {
        "id": "zyw9E17lFKxz"
      },
      "source": [
        "#### 1.3. Use the nimfa package for NMF clustering on the `gene expression data` to cluster genes into groups. Use the parameters (10 ranks, 50 maximum iterations and 25 runs) to compute the following:"
      ]
    },
    {
      "cell_type": "code",
      "metadata": {
        "id": "2FT6A23BSWcS"
      },
      "source": [
        "ranks = 10\n",
        "max_nr_iterations = 50\n",
        "nr_runs = 25"
      ],
      "execution_count": null,
      "outputs": []
    },
    {
      "cell_type": "code",
      "metadata": {
        "id": "raHIjdHfUEXA",
        "colab": {
          "base_uri": "https://localhost:8080/",
          "height": 224
        },
        "outputId": "e5fe7902-b915-4ff2-abd3-97eb8db014cd"
      },
      "source": [
        "# Load the dataset\n",
        "gene_expression_data = get_dataset_from_github(\"allData.csv\", index_col_str=\"Unnamed: 0\")\n",
        "gene_expression_data.head(4)"
      ],
      "execution_count": null,
      "outputs": [
        {
          "output_type": "execute_result",
          "data": {
            "text/html": [
              "<div>\n",
              "<style scoped>\n",
              "    .dataframe tbody tr th:only-of-type {\n",
              "        vertical-align: middle;\n",
              "    }\n",
              "\n",
              "    .dataframe tbody tr th {\n",
              "        vertical-align: top;\n",
              "    }\n",
              "\n",
              "    .dataframe thead th {\n",
              "        text-align: right;\n",
              "    }\n",
              "</style>\n",
              "<table border=\"1\" class=\"dataframe\">\n",
              "  <thead>\n",
              "    <tr style=\"text-align: right;\">\n",
              "      <th></th>\n",
              "      <th>36638_at</th>\n",
              "      <th>39318_at</th>\n",
              "      <th>38514_at</th>\n",
              "      <th>266_s_at</th>\n",
              "      <th>38585_at</th>\n",
              "      <th>41266_at</th>\n",
              "      <th>36108_at</th>\n",
              "      <th>39389_at</th>\n",
              "      <th>31525_s_at</th>\n",
              "      <th>32612_at</th>\n",
              "      <th>36536_at</th>\n",
              "      <th>40202_at</th>\n",
              "      <th>33705_at</th>\n",
              "      <th>33516_at</th>\n",
              "      <th>33412_at</th>\n",
              "      <th>41166_at</th>\n",
              "      <th>32649_at</th>\n",
              "      <th>37006_at</th>\n",
              "      <th>33809_at</th>\n",
              "      <th>1065_at</th>\n",
              "      <th>37701_at</th>\n",
              "      <th>39729_at</th>\n",
              "      <th>40570_at</th>\n",
              "      <th>37043_at</th>\n",
              "      <th>36878_f_at</th>\n",
              "      <th>32035_at</th>\n",
              "      <th>38968_at</th>\n",
              "      <th>307_at</th>\n",
              "      <th>36773_f_at</th>\n",
              "      <th>41165_g_at</th>\n",
              "      <th>296_at</th>\n",
              "      <th>34033_s_at</th>\n",
              "      <th>38242_at</th>\n",
              "      <th>37399_at</th>\n",
              "      <th>41723_s_at</th>\n",
              "      <th>35926_s_at</th>\n",
              "      <th>41164_at</th>\n",
              "      <th>36239_at</th>\n",
              "      <th>34362_at</th>\n",
              "      <th>40775_at</th>\n",
              "      <th>...</th>\n",
              "      <th>35701_at</th>\n",
              "      <th>37888_at</th>\n",
              "      <th>40272_at</th>\n",
              "      <th>1202_g_at</th>\n",
              "      <th>38136_at</th>\n",
              "      <th>38434_at</th>\n",
              "      <th>32327_at</th>\n",
              "      <th>40455_at</th>\n",
              "      <th>1823_g_at</th>\n",
              "      <th>39119_s_at</th>\n",
              "      <th>35828_at</th>\n",
              "      <th>35566_f_at</th>\n",
              "      <th>32180_s_at</th>\n",
              "      <th>40418_at</th>\n",
              "      <th>40262_at</th>\n",
              "      <th>41607_at</th>\n",
              "      <th>394_at</th>\n",
              "      <th>32038_s_at</th>\n",
              "      <th>35677_at</th>\n",
              "      <th>38139_at</th>\n",
              "      <th>32472_at</th>\n",
              "      <th>40077_at</th>\n",
              "      <th>846_s_at</th>\n",
              "      <th>35883_at</th>\n",
              "      <th>31568_at</th>\n",
              "      <th>31880_at</th>\n",
              "      <th>35878_at</th>\n",
              "      <th>34689_at</th>\n",
              "      <th>41060_at</th>\n",
              "      <th>38198_at</th>\n",
              "      <th>37655_at</th>\n",
              "      <th>1440_s_at</th>\n",
              "      <th>32260_at</th>\n",
              "      <th>40070_at</th>\n",
              "      <th>1056_s_at</th>\n",
              "      <th>39200_s_at</th>\n",
              "      <th>36105_at</th>\n",
              "      <th>32578_at</th>\n",
              "      <th>39383_at</th>\n",
              "      <th>33718_at</th>\n",
              "    </tr>\n",
              "  </thead>\n",
              "  <tbody>\n",
              "    <tr>\n",
              "      <th>01005</th>\n",
              "      <td>0.583368</td>\n",
              "      <td>0.535258</td>\n",
              "      <td>0.642984</td>\n",
              "      <td>0.891901</td>\n",
              "      <td>0.269871</td>\n",
              "      <td>0.605566</td>\n",
              "      <td>0.069070</td>\n",
              "      <td>0.938101</td>\n",
              "      <td>0.314737</td>\n",
              "      <td>0.590410</td>\n",
              "      <td>0.796561</td>\n",
              "      <td>0.850594</td>\n",
              "      <td>0.918978</td>\n",
              "      <td>0.240408</td>\n",
              "      <td>0.414888</td>\n",
              "      <td>0.691153</td>\n",
              "      <td>0.411294</td>\n",
              "      <td>0.637927</td>\n",
              "      <td>0.594209</td>\n",
              "      <td>0.518397</td>\n",
              "      <td>0.670180</td>\n",
              "      <td>0.332630</td>\n",
              "      <td>0.840712</td>\n",
              "      <td>0.631080</td>\n",
              "      <td>0.473505</td>\n",
              "      <td>0.851113</td>\n",
              "      <td>0.545758</td>\n",
              "      <td>0.457605</td>\n",
              "      <td>0.462939</td>\n",
              "      <td>0.868577</td>\n",
              "      <td>0.330381</td>\n",
              "      <td>0.801885</td>\n",
              "      <td>0.712293</td>\n",
              "      <td>0.134634</td>\n",
              "      <td>0.791588</td>\n",
              "      <td>0.787409</td>\n",
              "      <td>0.991021</td>\n",
              "      <td>0.543582</td>\n",
              "      <td>0.732365</td>\n",
              "      <td>0.176654</td>\n",
              "      <td>...</td>\n",
              "      <td>0.378084</td>\n",
              "      <td>0.483172</td>\n",
              "      <td>0.168982</td>\n",
              "      <td>0.330266</td>\n",
              "      <td>0.419703</td>\n",
              "      <td>0.571903</td>\n",
              "      <td>0.580894</td>\n",
              "      <td>0.234959</td>\n",
              "      <td>0.718483</td>\n",
              "      <td>0.114381</td>\n",
              "      <td>0.267416</td>\n",
              "      <td>0.144547</td>\n",
              "      <td>0.391687</td>\n",
              "      <td>0.348717</td>\n",
              "      <td>0.551471</td>\n",
              "      <td>0.410498</td>\n",
              "      <td>0.364310</td>\n",
              "      <td>0.407837</td>\n",
              "      <td>0.294238</td>\n",
              "      <td>0.237388</td>\n",
              "      <td>0.224433</td>\n",
              "      <td>0.200875</td>\n",
              "      <td>0.318495</td>\n",
              "      <td>0.124299</td>\n",
              "      <td>0.678597</td>\n",
              "      <td>0.353297</td>\n",
              "      <td>0.230118</td>\n",
              "      <td>0.438577</td>\n",
              "      <td>0.464230</td>\n",
              "      <td>0.337547</td>\n",
              "      <td>0.884590</td>\n",
              "      <td>0.399443</td>\n",
              "      <td>0.379796</td>\n",
              "      <td>0.272379</td>\n",
              "      <td>0.216088</td>\n",
              "      <td>0.355740</td>\n",
              "      <td>0.167203</td>\n",
              "      <td>0.438651</td>\n",
              "      <td>0.395720</td>\n",
              "      <td>0.273593</td>\n",
              "    </tr>\n",
              "    <tr>\n",
              "      <th>01010</th>\n",
              "      <td>0.505321</td>\n",
              "      <td>0.704177</td>\n",
              "      <td>0.913612</td>\n",
              "      <td>0.657634</td>\n",
              "      <td>0.402911</td>\n",
              "      <td>0.429698</td>\n",
              "      <td>0.803187</td>\n",
              "      <td>0.360471</td>\n",
              "      <td>0.718665</td>\n",
              "      <td>0.773198</td>\n",
              "      <td>0.346023</td>\n",
              "      <td>0.439240</td>\n",
              "      <td>0.575085</td>\n",
              "      <td>0.333801</td>\n",
              "      <td>0.267722</td>\n",
              "      <td>0.717744</td>\n",
              "      <td>0.164642</td>\n",
              "      <td>0.917898</td>\n",
              "      <td>0.095272</td>\n",
              "      <td>0.252275</td>\n",
              "      <td>0.123748</td>\n",
              "      <td>0.465028</td>\n",
              "      <td>0.534974</td>\n",
              "      <td>0.208745</td>\n",
              "      <td>0.748863</td>\n",
              "      <td>0.370238</td>\n",
              "      <td>0.785184</td>\n",
              "      <td>0.561516</td>\n",
              "      <td>0.752276</td>\n",
              "      <td>0.722854</td>\n",
              "      <td>0.224205</td>\n",
              "      <td>0.486049</td>\n",
              "      <td>0.578132</td>\n",
              "      <td>0.073096</td>\n",
              "      <td>0.969421</td>\n",
              "      <td>0.121779</td>\n",
              "      <td>0.639100</td>\n",
              "      <td>0.714173</td>\n",
              "      <td>0.301113</td>\n",
              "      <td>0.218048</td>\n",
              "      <td>...</td>\n",
              "      <td>0.801471</td>\n",
              "      <td>0.399995</td>\n",
              "      <td>0.444195</td>\n",
              "      <td>0.308787</td>\n",
              "      <td>0.128357</td>\n",
              "      <td>0.814556</td>\n",
              "      <td>0.308978</td>\n",
              "      <td>0.276849</td>\n",
              "      <td>0.583248</td>\n",
              "      <td>0.534276</td>\n",
              "      <td>0.540936</td>\n",
              "      <td>0.278203</td>\n",
              "      <td>0.397564</td>\n",
              "      <td>0.209693</td>\n",
              "      <td>0.316325</td>\n",
              "      <td>0.078122</td>\n",
              "      <td>0.366716</td>\n",
              "      <td>0.377046</td>\n",
              "      <td>0.226715</td>\n",
              "      <td>0.237455</td>\n",
              "      <td>0.328624</td>\n",
              "      <td>0.294165</td>\n",
              "      <td>0.441081</td>\n",
              "      <td>0.559321</td>\n",
              "      <td>0.691367</td>\n",
              "      <td>0.297660</td>\n",
              "      <td>0.406114</td>\n",
              "      <td>0.850692</td>\n",
              "      <td>0.225666</td>\n",
              "      <td>0.208741</td>\n",
              "      <td>0.086277</td>\n",
              "      <td>0.432789</td>\n",
              "      <td>0.431440</td>\n",
              "      <td>0.461242</td>\n",
              "      <td>0.443493</td>\n",
              "      <td>0.291054</td>\n",
              "      <td>0.102883</td>\n",
              "      <td>0.584035</td>\n",
              "      <td>0.589994</td>\n",
              "      <td>0.401375</td>\n",
              "    </tr>\n",
              "    <tr>\n",
              "      <th>03002</th>\n",
              "      <td>0.375805</td>\n",
              "      <td>0.073716</td>\n",
              "      <td>0.707562</td>\n",
              "      <td>0.847162</td>\n",
              "      <td>0.792428</td>\n",
              "      <td>0.819212</td>\n",
              "      <td>0.644334</td>\n",
              "      <td>0.735292</td>\n",
              "      <td>0.828776</td>\n",
              "      <td>0.821131</td>\n",
              "      <td>0.694593</td>\n",
              "      <td>0.912418</td>\n",
              "      <td>0.925177</td>\n",
              "      <td>0.604762</td>\n",
              "      <td>0.845645</td>\n",
              "      <td>0.102832</td>\n",
              "      <td>0.441828</td>\n",
              "      <td>0.960942</td>\n",
              "      <td>0.822917</td>\n",
              "      <td>0.579433</td>\n",
              "      <td>0.574525</td>\n",
              "      <td>0.209021</td>\n",
              "      <td>0.661056</td>\n",
              "      <td>0.446048</td>\n",
              "      <td>0.711056</td>\n",
              "      <td>0.422506</td>\n",
              "      <td>0.933707</td>\n",
              "      <td>0.548291</td>\n",
              "      <td>0.714249</td>\n",
              "      <td>0.260367</td>\n",
              "      <td>0.282758</td>\n",
              "      <td>0.977896</td>\n",
              "      <td>0.804228</td>\n",
              "      <td>0.809919</td>\n",
              "      <td>0.875175</td>\n",
              "      <td>0.835892</td>\n",
              "      <td>0.395444</td>\n",
              "      <td>0.679245</td>\n",
              "      <td>0.587615</td>\n",
              "      <td>0.268066</td>\n",
              "      <td>...</td>\n",
              "      <td>0.333469</td>\n",
              "      <td>0.406121</td>\n",
              "      <td>0.116223</td>\n",
              "      <td>0.227236</td>\n",
              "      <td>0.230363</td>\n",
              "      <td>0.476691</td>\n",
              "      <td>0.638118</td>\n",
              "      <td>0.138736</td>\n",
              "      <td>0.465002</td>\n",
              "      <td>0.177763</td>\n",
              "      <td>0.594686</td>\n",
              "      <td>0.107521</td>\n",
              "      <td>0.554402</td>\n",
              "      <td>0.391740</td>\n",
              "      <td>0.279571</td>\n",
              "      <td>0.297585</td>\n",
              "      <td>0.246278</td>\n",
              "      <td>0.163830</td>\n",
              "      <td>0.349512</td>\n",
              "      <td>0.319535</td>\n",
              "      <td>0.237265</td>\n",
              "      <td>0.570321</td>\n",
              "      <td>0.201130</td>\n",
              "      <td>0.137217</td>\n",
              "      <td>0.659292</td>\n",
              "      <td>0.323094</td>\n",
              "      <td>0.426197</td>\n",
              "      <td>0.176555</td>\n",
              "      <td>0.253732</td>\n",
              "      <td>0.405952</td>\n",
              "      <td>0.750758</td>\n",
              "      <td>0.305592</td>\n",
              "      <td>0.444996</td>\n",
              "      <td>0.293573</td>\n",
              "      <td>0.318939</td>\n",
              "      <td>0.259713</td>\n",
              "      <td>0.271869</td>\n",
              "      <td>0.556874</td>\n",
              "      <td>0.931118</td>\n",
              "      <td>0.301529</td>\n",
              "    </tr>\n",
              "    <tr>\n",
              "      <th>04006</th>\n",
              "      <td>1.000000</td>\n",
              "      <td>0.226960</td>\n",
              "      <td>0.119596</td>\n",
              "      <td>0.394317</td>\n",
              "      <td>0.115411</td>\n",
              "      <td>0.050117</td>\n",
              "      <td>0.440698</td>\n",
              "      <td>0.649291</td>\n",
              "      <td>0.498758</td>\n",
              "      <td>0.692290</td>\n",
              "      <td>0.087991</td>\n",
              "      <td>0.757562</td>\n",
              "      <td>0.264205</td>\n",
              "      <td>0.178758</td>\n",
              "      <td>1.000000</td>\n",
              "      <td>0.630364</td>\n",
              "      <td>0.023287</td>\n",
              "      <td>0.051236</td>\n",
              "      <td>0.037160</td>\n",
              "      <td>0.553999</td>\n",
              "      <td>0.181132</td>\n",
              "      <td>0.402491</td>\n",
              "      <td>0.379906</td>\n",
              "      <td>0.139041</td>\n",
              "      <td>0.481713</td>\n",
              "      <td>0.206804</td>\n",
              "      <td>0.526957</td>\n",
              "      <td>0.222823</td>\n",
              "      <td>0.431150</td>\n",
              "      <td>0.722786</td>\n",
              "      <td>0.562790</td>\n",
              "      <td>0.676347</td>\n",
              "      <td>0.385088</td>\n",
              "      <td>0.445281</td>\n",
              "      <td>0.772617</td>\n",
              "      <td>0.686851</td>\n",
              "      <td>0.719016</td>\n",
              "      <td>0.044023</td>\n",
              "      <td>0.266791</td>\n",
              "      <td>0.149898</td>\n",
              "      <td>...</td>\n",
              "      <td>0.820746</td>\n",
              "      <td>0.479706</td>\n",
              "      <td>0.209392</td>\n",
              "      <td>0.283426</td>\n",
              "      <td>0.224231</td>\n",
              "      <td>0.826304</td>\n",
              "      <td>0.036298</td>\n",
              "      <td>0.199957</td>\n",
              "      <td>0.851421</td>\n",
              "      <td>0.203652</td>\n",
              "      <td>0.542015</td>\n",
              "      <td>0.223738</td>\n",
              "      <td>0.000000</td>\n",
              "      <td>0.210257</td>\n",
              "      <td>0.510002</td>\n",
              "      <td>0.088128</td>\n",
              "      <td>0.628238</td>\n",
              "      <td>0.430658</td>\n",
              "      <td>0.274953</td>\n",
              "      <td>0.062263</td>\n",
              "      <td>0.217099</td>\n",
              "      <td>0.519138</td>\n",
              "      <td>0.394596</td>\n",
              "      <td>0.253829</td>\n",
              "      <td>0.846699</td>\n",
              "      <td>0.030612</td>\n",
              "      <td>0.160331</td>\n",
              "      <td>0.723064</td>\n",
              "      <td>0.393538</td>\n",
              "      <td>0.194421</td>\n",
              "      <td>0.090901</td>\n",
              "      <td>0.365967</td>\n",
              "      <td>0.170796</td>\n",
              "      <td>0.565408</td>\n",
              "      <td>0.456499</td>\n",
              "      <td>0.407845</td>\n",
              "      <td>0.100038</td>\n",
              "      <td>0.670769</td>\n",
              "      <td>0.541601</td>\n",
              "      <td>0.659517</td>\n",
              "    </tr>\n",
              "  </tbody>\n",
              "</table>\n",
              "<p>4 rows × 5000 columns</p>\n",
              "</div>"
            ],
            "text/plain": [
              "       36638_at  39318_at  38514_at  ...  32578_at  39383_at  33718_at\n",
              "01005  0.583368  0.535258  0.642984  ...  0.438651  0.395720  0.273593\n",
              "01010  0.505321  0.704177  0.913612  ...  0.584035  0.589994  0.401375\n",
              "03002  0.375805  0.073716  0.707562  ...  0.556874  0.931118  0.301529\n",
              "04006  1.000000  0.226960  0.119596  ...  0.670769  0.541601  0.659517\n",
              "\n",
              "[4 rows x 5000 columns]"
            ]
          },
          "metadata": {
            "tags": []
          },
          "execution_count": 85
        }
      ]
    },
    {
      "cell_type": "code",
      "metadata": {
        "colab": {
          "base_uri": "https://localhost:8080/",
          "height": 224
        },
        "id": "c8aGl77OoRh7",
        "outputId": "eb95698e-bdf9-4667-974e-003a447512da"
      },
      "source": [
        "# Transpose the matrix so that \n",
        "#   gene expression features are present along row and \n",
        "#   patient samples are present along column.\n",
        "# (As required by NMF algorithms)\n",
        "gene_expression_data = gene_expression_data.T\n",
        "gene_expression_data.head(4)"
      ],
      "execution_count": null,
      "outputs": [
        {
          "output_type": "execute_result",
          "data": {
            "text/html": [
              "<div>\n",
              "<style scoped>\n",
              "    .dataframe tbody tr th:only-of-type {\n",
              "        vertical-align: middle;\n",
              "    }\n",
              "\n",
              "    .dataframe tbody tr th {\n",
              "        vertical-align: top;\n",
              "    }\n",
              "\n",
              "    .dataframe thead th {\n",
              "        text-align: right;\n",
              "    }\n",
              "</style>\n",
              "<table border=\"1\" class=\"dataframe\">\n",
              "  <thead>\n",
              "    <tr style=\"text-align: right;\">\n",
              "      <th></th>\n",
              "      <th>01005</th>\n",
              "      <th>01010</th>\n",
              "      <th>03002</th>\n",
              "      <th>04006</th>\n",
              "      <th>04007</th>\n",
              "      <th>04008</th>\n",
              "      <th>04010</th>\n",
              "      <th>04016</th>\n",
              "      <th>06002</th>\n",
              "      <th>08001</th>\n",
              "      <th>08011</th>\n",
              "      <th>08012</th>\n",
              "      <th>08018</th>\n",
              "      <th>08024</th>\n",
              "      <th>09008</th>\n",
              "      <th>09017</th>\n",
              "      <th>11005</th>\n",
              "      <th>12006</th>\n",
              "      <th>12007</th>\n",
              "      <th>12012</th>\n",
              "      <th>12019</th>\n",
              "      <th>12026</th>\n",
              "      <th>14016</th>\n",
              "      <th>15001</th>\n",
              "      <th>15004</th>\n",
              "      <th>15005</th>\n",
              "      <th>16004</th>\n",
              "      <th>16009</th>\n",
              "      <th>19005</th>\n",
              "      <th>20002</th>\n",
              "      <th>22009</th>\n",
              "      <th>22010</th>\n",
              "      <th>22011</th>\n",
              "      <th>22013</th>\n",
              "      <th>24001</th>\n",
              "      <th>24005</th>\n",
              "      <th>24008</th>\n",
              "      <th>24010</th>\n",
              "      <th>24011</th>\n",
              "      <th>24017</th>\n",
              "      <th>...</th>\n",
              "      <th>64001</th>\n",
              "      <th>64002</th>\n",
              "      <th>65005</th>\n",
              "      <th>68001</th>\n",
              "      <th>68003</th>\n",
              "      <th>84004</th>\n",
              "      <th>LAL5</th>\n",
              "      <th>01003</th>\n",
              "      <th>01007</th>\n",
              "      <th>02020</th>\n",
              "      <th>04018</th>\n",
              "      <th>09002</th>\n",
              "      <th>10005</th>\n",
              "      <th>11002</th>\n",
              "      <th>12008</th>\n",
              "      <th>15006</th>\n",
              "      <th>16002</th>\n",
              "      <th>16007</th>\n",
              "      <th>17003</th>\n",
              "      <th>18001</th>\n",
              "      <th>19002</th>\n",
              "      <th>19008</th>\n",
              "      <th>19014</th>\n",
              "      <th>19017</th>\n",
              "      <th>20005</th>\n",
              "      <th>24006</th>\n",
              "      <th>26009</th>\n",
              "      <th>28008</th>\n",
              "      <th>28009</th>\n",
              "      <th>31015</th>\n",
              "      <th>37001</th>\n",
              "      <th>43006</th>\n",
              "      <th>43015</th>\n",
              "      <th>44001</th>\n",
              "      <th>49004</th>\n",
              "      <th>56007</th>\n",
              "      <th>64005</th>\n",
              "      <th>65003</th>\n",
              "      <th>83001</th>\n",
              "      <th>LAL4</th>\n",
              "    </tr>\n",
              "  </thead>\n",
              "  <tbody>\n",
              "    <tr>\n",
              "      <th>36638_at</th>\n",
              "      <td>0.583368</td>\n",
              "      <td>0.505321</td>\n",
              "      <td>0.375805</td>\n",
              "      <td>1.000000</td>\n",
              "      <td>0.890125</td>\n",
              "      <td>0.015269</td>\n",
              "      <td>0.198995</td>\n",
              "      <td>0.262746</td>\n",
              "      <td>0.000000</td>\n",
              "      <td>0.806019</td>\n",
              "      <td>0.692559</td>\n",
              "      <td>0.277515</td>\n",
              "      <td>0.322394</td>\n",
              "      <td>0.375715</td>\n",
              "      <td>0.684558</td>\n",
              "      <td>0.752682</td>\n",
              "      <td>0.722361</td>\n",
              "      <td>0.718326</td>\n",
              "      <td>0.756068</td>\n",
              "      <td>0.659369</td>\n",
              "      <td>0.569807</td>\n",
              "      <td>0.388773</td>\n",
              "      <td>0.695404</td>\n",
              "      <td>0.353944</td>\n",
              "      <td>0.897458</td>\n",
              "      <td>0.698388</td>\n",
              "      <td>0.682201</td>\n",
              "      <td>0.088996</td>\n",
              "      <td>0.798552</td>\n",
              "      <td>0.306779</td>\n",
              "      <td>0.267395</td>\n",
              "      <td>0.067844</td>\n",
              "      <td>0.409219</td>\n",
              "      <td>0.802846</td>\n",
              "      <td>0.578941</td>\n",
              "      <td>0.908053</td>\n",
              "      <td>0.324830</td>\n",
              "      <td>0.781241</td>\n",
              "      <td>0.803168</td>\n",
              "      <td>0.394646</td>\n",
              "      <td>...</td>\n",
              "      <td>0.681933</td>\n",
              "      <td>0.178811</td>\n",
              "      <td>0.745151</td>\n",
              "      <td>0.126567</td>\n",
              "      <td>0.709436</td>\n",
              "      <td>0.887262</td>\n",
              "      <td>0.432983</td>\n",
              "      <td>0.097948</td>\n",
              "      <td>0.108993</td>\n",
              "      <td>0.080268</td>\n",
              "      <td>0.043897</td>\n",
              "      <td>0.079175</td>\n",
              "      <td>0.182502</td>\n",
              "      <td>0.142439</td>\n",
              "      <td>0.101625</td>\n",
              "      <td>0.033591</td>\n",
              "      <td>0.058946</td>\n",
              "      <td>0.062742</td>\n",
              "      <td>0.084656</td>\n",
              "      <td>0.145296</td>\n",
              "      <td>0.008051</td>\n",
              "      <td>0.122108</td>\n",
              "      <td>0.034378</td>\n",
              "      <td>0.108406</td>\n",
              "      <td>0.132328</td>\n",
              "      <td>0.070793</td>\n",
              "      <td>0.073178</td>\n",
              "      <td>0.096580</td>\n",
              "      <td>0.072055</td>\n",
              "      <td>0.084068</td>\n",
              "      <td>0.027652</td>\n",
              "      <td>0.068056</td>\n",
              "      <td>0.007161</td>\n",
              "      <td>0.122048</td>\n",
              "      <td>0.092802</td>\n",
              "      <td>0.072759</td>\n",
              "      <td>0.053972</td>\n",
              "      <td>0.136163</td>\n",
              "      <td>0.022913</td>\n",
              "      <td>0.060686</td>\n",
              "    </tr>\n",
              "    <tr>\n",
              "      <th>39318_at</th>\n",
              "      <td>0.535258</td>\n",
              "      <td>0.704177</td>\n",
              "      <td>0.073716</td>\n",
              "      <td>0.226960</td>\n",
              "      <td>0.631314</td>\n",
              "      <td>0.200666</td>\n",
              "      <td>0.838839</td>\n",
              "      <td>0.182013</td>\n",
              "      <td>0.128862</td>\n",
              "      <td>0.530119</td>\n",
              "      <td>0.677224</td>\n",
              "      <td>0.640806</td>\n",
              "      <td>0.663941</td>\n",
              "      <td>0.258496</td>\n",
              "      <td>0.891362</td>\n",
              "      <td>0.641042</td>\n",
              "      <td>0.708184</td>\n",
              "      <td>0.653712</td>\n",
              "      <td>0.385693</td>\n",
              "      <td>0.013329</td>\n",
              "      <td>0.513790</td>\n",
              "      <td>0.253276</td>\n",
              "      <td>0.065792</td>\n",
              "      <td>0.511977</td>\n",
              "      <td>0.205911</td>\n",
              "      <td>0.726466</td>\n",
              "      <td>0.170650</td>\n",
              "      <td>0.482767</td>\n",
              "      <td>0.266564</td>\n",
              "      <td>0.166389</td>\n",
              "      <td>0.291895</td>\n",
              "      <td>0.506378</td>\n",
              "      <td>0.201323</td>\n",
              "      <td>0.097011</td>\n",
              "      <td>0.507479</td>\n",
              "      <td>0.338769</td>\n",
              "      <td>0.521623</td>\n",
              "      <td>0.648001</td>\n",
              "      <td>0.497395</td>\n",
              "      <td>0.210510</td>\n",
              "      <td>...</td>\n",
              "      <td>0.657223</td>\n",
              "      <td>0.502717</td>\n",
              "      <td>0.311046</td>\n",
              "      <td>0.426952</td>\n",
              "      <td>0.427635</td>\n",
              "      <td>0.014288</td>\n",
              "      <td>0.676291</td>\n",
              "      <td>0.031417</td>\n",
              "      <td>0.016688</td>\n",
              "      <td>0.088286</td>\n",
              "      <td>0.043172</td>\n",
              "      <td>0.076267</td>\n",
              "      <td>0.007593</td>\n",
              "      <td>0.080682</td>\n",
              "      <td>0.095095</td>\n",
              "      <td>0.072924</td>\n",
              "      <td>0.001821</td>\n",
              "      <td>0.007816</td>\n",
              "      <td>0.102957</td>\n",
              "      <td>0.035593</td>\n",
              "      <td>0.075475</td>\n",
              "      <td>0.064498</td>\n",
              "      <td>0.091034</td>\n",
              "      <td>0.084101</td>\n",
              "      <td>0.053690</td>\n",
              "      <td>0.088813</td>\n",
              "      <td>0.131927</td>\n",
              "      <td>0.032501</td>\n",
              "      <td>0.047843</td>\n",
              "      <td>0.088048</td>\n",
              "      <td>0.062598</td>\n",
              "      <td>0.000000</td>\n",
              "      <td>0.084411</td>\n",
              "      <td>0.105926</td>\n",
              "      <td>0.016825</td>\n",
              "      <td>0.068235</td>\n",
              "      <td>0.086147</td>\n",
              "      <td>0.082575</td>\n",
              "      <td>0.026321</td>\n",
              "      <td>0.091866</td>\n",
              "    </tr>\n",
              "    <tr>\n",
              "      <th>38514_at</th>\n",
              "      <td>0.642984</td>\n",
              "      <td>0.913612</td>\n",
              "      <td>0.707562</td>\n",
              "      <td>0.119596</td>\n",
              "      <td>0.518785</td>\n",
              "      <td>0.499243</td>\n",
              "      <td>0.961742</td>\n",
              "      <td>0.564457</td>\n",
              "      <td>0.414330</td>\n",
              "      <td>0.193236</td>\n",
              "      <td>0.524249</td>\n",
              "      <td>0.775625</td>\n",
              "      <td>0.667670</td>\n",
              "      <td>0.018227</td>\n",
              "      <td>0.774230</td>\n",
              "      <td>0.510303</td>\n",
              "      <td>0.537349</td>\n",
              "      <td>0.055171</td>\n",
              "      <td>0.428153</td>\n",
              "      <td>0.261719</td>\n",
              "      <td>0.592253</td>\n",
              "      <td>0.032013</td>\n",
              "      <td>0.175034</td>\n",
              "      <td>0.233551</td>\n",
              "      <td>0.491460</td>\n",
              "      <td>0.464333</td>\n",
              "      <td>0.458282</td>\n",
              "      <td>0.584649</td>\n",
              "      <td>0.526413</td>\n",
              "      <td>0.789192</td>\n",
              "      <td>0.381525</td>\n",
              "      <td>0.127308</td>\n",
              "      <td>0.042941</td>\n",
              "      <td>0.332039</td>\n",
              "      <td>0.698663</td>\n",
              "      <td>0.573582</td>\n",
              "      <td>0.222438</td>\n",
              "      <td>0.342756</td>\n",
              "      <td>0.630626</td>\n",
              "      <td>0.074464</td>\n",
              "      <td>...</td>\n",
              "      <td>0.364441</td>\n",
              "      <td>0.896267</td>\n",
              "      <td>0.313433</td>\n",
              "      <td>0.890112</td>\n",
              "      <td>0.083992</td>\n",
              "      <td>0.350499</td>\n",
              "      <td>0.642825</td>\n",
              "      <td>0.086817</td>\n",
              "      <td>0.601450</td>\n",
              "      <td>0.554403</td>\n",
              "      <td>0.282904</td>\n",
              "      <td>0.096552</td>\n",
              "      <td>0.501360</td>\n",
              "      <td>0.500465</td>\n",
              "      <td>0.170396</td>\n",
              "      <td>0.599786</td>\n",
              "      <td>0.229882</td>\n",
              "      <td>0.320748</td>\n",
              "      <td>0.834142</td>\n",
              "      <td>0.840381</td>\n",
              "      <td>0.321355</td>\n",
              "      <td>0.488987</td>\n",
              "      <td>0.802427</td>\n",
              "      <td>0.091139</td>\n",
              "      <td>0.787187</td>\n",
              "      <td>0.089560</td>\n",
              "      <td>0.451128</td>\n",
              "      <td>0.507536</td>\n",
              "      <td>0.535121</td>\n",
              "      <td>0.599800</td>\n",
              "      <td>0.028387</td>\n",
              "      <td>0.032067</td>\n",
              "      <td>0.475572</td>\n",
              "      <td>0.137729</td>\n",
              "      <td>0.174771</td>\n",
              "      <td>0.473041</td>\n",
              "      <td>0.000065</td>\n",
              "      <td>0.456977</td>\n",
              "      <td>0.774337</td>\n",
              "      <td>0.710210</td>\n",
              "    </tr>\n",
              "    <tr>\n",
              "      <th>266_s_at</th>\n",
              "      <td>0.891901</td>\n",
              "      <td>0.657634</td>\n",
              "      <td>0.847162</td>\n",
              "      <td>0.394317</td>\n",
              "      <td>0.880312</td>\n",
              "      <td>0.765667</td>\n",
              "      <td>0.947758</td>\n",
              "      <td>0.691745</td>\n",
              "      <td>0.764316</td>\n",
              "      <td>0.848112</td>\n",
              "      <td>0.931445</td>\n",
              "      <td>0.837018</td>\n",
              "      <td>0.634944</td>\n",
              "      <td>0.328985</td>\n",
              "      <td>0.919713</td>\n",
              "      <td>0.840403</td>\n",
              "      <td>0.921656</td>\n",
              "      <td>0.895931</td>\n",
              "      <td>0.800624</td>\n",
              "      <td>0.451617</td>\n",
              "      <td>0.735399</td>\n",
              "      <td>0.609946</td>\n",
              "      <td>0.268450</td>\n",
              "      <td>0.775320</td>\n",
              "      <td>0.387596</td>\n",
              "      <td>0.802828</td>\n",
              "      <td>0.371029</td>\n",
              "      <td>0.427131</td>\n",
              "      <td>0.172877</td>\n",
              "      <td>0.379312</td>\n",
              "      <td>0.209994</td>\n",
              "      <td>0.563751</td>\n",
              "      <td>0.734015</td>\n",
              "      <td>0.502308</td>\n",
              "      <td>0.661838</td>\n",
              "      <td>0.319607</td>\n",
              "      <td>0.713253</td>\n",
              "      <td>0.836141</td>\n",
              "      <td>0.783192</td>\n",
              "      <td>0.685724</td>\n",
              "      <td>...</td>\n",
              "      <td>0.641136</td>\n",
              "      <td>0.408060</td>\n",
              "      <td>0.523368</td>\n",
              "      <td>0.341189</td>\n",
              "      <td>0.877377</td>\n",
              "      <td>0.512372</td>\n",
              "      <td>0.719037</td>\n",
              "      <td>0.280221</td>\n",
              "      <td>0.171660</td>\n",
              "      <td>0.120613</td>\n",
              "      <td>0.098869</td>\n",
              "      <td>0.478389</td>\n",
              "      <td>0.235160</td>\n",
              "      <td>0.244276</td>\n",
              "      <td>0.150481</td>\n",
              "      <td>0.166987</td>\n",
              "      <td>0.185296</td>\n",
              "      <td>0.020562</td>\n",
              "      <td>0.130338</td>\n",
              "      <td>0.020408</td>\n",
              "      <td>0.456283</td>\n",
              "      <td>0.116035</td>\n",
              "      <td>0.102212</td>\n",
              "      <td>0.075708</td>\n",
              "      <td>0.000000</td>\n",
              "      <td>0.095787</td>\n",
              "      <td>0.158506</td>\n",
              "      <td>0.163375</td>\n",
              "      <td>0.167522</td>\n",
              "      <td>0.211806</td>\n",
              "      <td>0.121269</td>\n",
              "      <td>0.207306</td>\n",
              "      <td>0.314549</td>\n",
              "      <td>0.394670</td>\n",
              "      <td>0.229842</td>\n",
              "      <td>0.239455</td>\n",
              "      <td>0.136057</td>\n",
              "      <td>0.120866</td>\n",
              "      <td>0.135344</td>\n",
              "      <td>0.218240</td>\n",
              "    </tr>\n",
              "  </tbody>\n",
              "</table>\n",
              "<p>4 rows × 128 columns</p>\n",
              "</div>"
            ],
            "text/plain": [
              "             01005     01010     03002  ...     65003     83001      LAL4\n",
              "36638_at  0.583368  0.505321  0.375805  ...  0.136163  0.022913  0.060686\n",
              "39318_at  0.535258  0.704177  0.073716  ...  0.082575  0.026321  0.091866\n",
              "38514_at  0.642984  0.913612  0.707562  ...  0.456977  0.774337  0.710210\n",
              "266_s_at  0.891901  0.657634  0.847162  ...  0.120866  0.135344  0.218240\n",
              "\n",
              "[4 rows x 128 columns]"
            ]
          },
          "metadata": {
            "tags": []
          },
          "execution_count": 80
        }
      ]
    },
    {
      "cell_type": "code",
      "metadata": {
        "id": "ReHdJWvXoa9o"
      },
      "source": [
        "# Creating Standard NMF model for data with 10 ranks, 50 maximum iterations and 25 runs\n",
        "nmf_model = nimfa.Nmf(\n",
        "    # Set the target matrix\n",
        "    V = gene_expression_data.to_numpy(), \n",
        "    # Set the factorization rank\n",
        "    rank = ranks, \n",
        "    # Set the maximum number of factorization iterations\n",
        "    max_iter = max_nr_iterations, \n",
        "    # Set the number of runs of the algorithm\n",
        "    n_run = nr_runs, \n",
        "    # Enable the computation of a connectivity matrix across multiple runs\n",
        "    track_factor=True, \n",
        ")"
      ],
      "execution_count": null,
      "outputs": []
    },
    {
      "cell_type": "code",
      "metadata": {
        "colab": {
          "base_uri": "https://localhost:8080/"
        },
        "id": "qkDhZCy8bfx4",
        "outputId": "84ec3a37-b42a-4906-83b8-192f2c8c54b5"
      },
      "source": [
        "# Instantiate model\n",
        "_start = time.time()\n",
        "nmf_fit = nmf_model()\n",
        "_end = time.time()\n",
        "\n",
        "print(f\"Instantiated NMF model in {round(_end - _start, 2)} sec (using nimfa)\")\n",
        "# print(nmf_fit.summary())"
      ],
      "execution_count": null,
      "outputs": [
        {
          "output_type": "stream",
          "text": [
            "Instantiated NMF model in 11.41 sec (using nimfa)\n"
          ],
          "name": "stdout"
        }
      ]
    },
    {
      "cell_type": "markdown",
      "metadata": {
        "id": "jhfmrS-AFOra"
      },
      "source": [
        "#### 1.3.a) Compute consensus matrix from the average connectivity matrix across multiple runs."
      ]
    },
    {
      "cell_type": "code",
      "metadata": {
        "colab": {
          "base_uri": "https://localhost:8080/"
        },
        "id": "UQb6pyYjojvp",
        "outputId": "75a085f3-09a9-4dd3-987f-81be6859557a"
      },
      "source": [
        "print( 'Consensus Matrix')\n",
        "consensus_matrix = nmf_fit.summary()['consensus']\n",
        "print(consensus_matrix)"
      ],
      "execution_count": null,
      "outputs": [
        {
          "output_type": "stream",
          "text": [
            "Consensus Matrix\n",
            "[[1.0000000e+00 8.8817842e-18 3.2000000e-01 ... 8.8817842e-18\n",
            "  8.8817842e-18 8.8817842e-18]\n",
            " [8.8817842e-18 1.0000000e+00 8.8817842e-18 ... 8.8817842e-18\n",
            "  8.0000000e-02 8.8817842e-18]\n",
            " [3.2000000e-01 8.8817842e-18 1.0000000e+00 ... 8.8817842e-18\n",
            "  8.8817842e-18 8.8817842e-18]\n",
            " ...\n",
            " [8.8817842e-18 8.8817842e-18 8.8817842e-18 ... 1.0000000e+00\n",
            "  2.8000000e-01 6.0000000e-01]\n",
            " [8.8817842e-18 8.0000000e-02 8.8817842e-18 ... 2.8000000e-01\n",
            "  1.0000000e+00 2.4000000e-01]\n",
            " [8.8817842e-18 8.8817842e-18 8.8817842e-18 ... 6.0000000e-01\n",
            "  2.4000000e-01 1.0000000e+00]]\n"
          ],
          "name": "stdout"
        }
      ]
    },
    {
      "cell_type": "markdown",
      "metadata": {
        "id": "NT5fcXYbFQKJ"
      },
      "source": [
        "#### 1.3.b) Produce a heatmap with a dendrogram from the clustering results you obtained."
      ]
    },
    {
      "cell_type": "code",
      "metadata": {
        "id": "s0Vu0wc_T3L7",
        "colab": {
          "base_uri": "https://localhost:8080/",
          "height": 305
        },
        "outputId": "305723f3-ebf6-4d22-89d4-738feb70a9c2"
      },
      "source": [
        "sns.heatmap(consensus_matrix, cmap='coolwarm')\n",
        "plt.title(f\"Heatmap of consensus matrix\\n({ranks} ranks, max {50} iterations, {nr_runs} runs)\")\n",
        "plt.show()"
      ],
      "execution_count": null,
      "outputs": [
        {
          "output_type": "display_data",
          "data": {
            "image/png": "[encoded data removed]",
            "text/plain": [
              "<Figure size 432x288 with 2 Axes>"
            ]
          },
          "metadata": {
            "tags": [],
            "needs_background": "light"
          }
        }
      ]
    },
    {
      "cell_type": "code",
      "metadata": {
        "id": "4XCGLKQ9UEiN"
      },
      "source": [
        "# !pip install numpy --upgrade"
      ],
      "execution_count": null,
      "outputs": []
    },
    {
      "cell_type": "code",
      "metadata": {
        "colab": {
          "base_uri": "https://localhost:8080/",
          "height": 514
        },
        "id": "qtugNkjlo0bU",
        "outputId": "f0844808-e456-41cb-b73e-76db70a36b85"
      },
      "source": [
        "sns.clustermap(consensus_matrix, cmap='coolwarm', figsize=(7, 7), cbar_pos=(1., .4, .03, .4))\n",
        "plt.suptitle(f\"Heatmap with dendrogram consensus matrix\\n({ranks} ranks, max {50} iterations, {nr_runs} runs)\\n\\n\", fontsize=14)\n",
        "plt.show()"
      ],
      "execution_count": null,
      "outputs": [
        {
          "output_type": "display_data",
          "data": {
            "image/png": "[encoded data removed]",
            "text/plain": [
              "<Figure size 504x504 with 4 Axes>"
            ]
          },
          "metadata": {
            "tags": [],
            "needs_background": "light"
          }
        }
      ]
    },
    {
      "cell_type": "markdown",
      "metadata": {
        "id": "ZFoW86HYFRQr"
      },
      "source": [
        "#### 1.3.c) What are the consequences of selecting a rank value that is too small or too large? Implement a method showing how you can optimize the value of the rank to be used."
      ]
    },
    {
      "cell_type": "markdown",
      "metadata": {
        "id": "h5n-6kZ4qctG"
      },
      "source": [
        "The rank indicates the number of clusters into which the data will be divided. It defines the size of the new subspace i.e the number of features to be extracted. \n",
        "- If the rank is **too low** we will **miss features** and \n",
        "- if the rank is **too large** we will **model noise**. \n",
        "\n",
        "Hence its important to pick an optimal rank which reduces the noise in the data and effectively models the features."
      ]
    },
    {
      "cell_type": "markdown",
      "metadata": {
        "id": "E_G-EEiEVqF5"
      },
      "source": [
        "We can optimise the value of rank by running the NMF algorithm on data and measuring the quality of clustering based on different **quality metrics**. The rank corresponding to the best quality clustering can then be selected."
      ]
    },
    {
      "cell_type": "code",
      "metadata": {
        "id": "Xc9AlFdnqkTB"
      },
      "source": [
        "# Method to find the optimum rank value using cophenetic correlation coefficient\n",
        "def get_optimum_rank(candidate_ranks = [8, 10], data = None, quality_metric = 'cophenetic'):\n",
        "    '''\n",
        "    This method selects the optimum rank value from the\n",
        "    list of candidate ranks. The optimum rank value is the rank which\n",
        "    produces a clustering having the highest value of the quality metric.\n",
        "    \n",
        "    Parameters:\n",
        "    candidate_ranks - The list of candidate ranks which will be tested to find the optimum rank,\n",
        "    data - The data to be clustered,\n",
        "    quality_metric - The metric used to asses the quality of the clustering produced by the rank.\n",
        "    We assess the quality of the clustering using cophenetic correlation \n",
        "    '''\n",
        "\n",
        "    best_rank = candidate_ranks[0]\n",
        "    quality_metric_results = []\n",
        "        \n",
        "    for candidate_rank in candidate_ranks:        \n",
        "        \n",
        "        # Perform NMF clustering with the current candidate rank\n",
        "        nmf_model = nimfa.Nmf(\n",
        "            V = data.to_numpy(),\n",
        "            rank = candidate_rank,\n",
        "            max_iter = max_nr_iterations,\n",
        "            n_run = nr_runs,\n",
        "            track_factor=True,\n",
        "        )\n",
        "        nmf_fit = nmf_model()\n",
        "        \n",
        "        # Choose highest rank before the cophenetic correlation starts dropping\n",
        "        if ( 0 < len(quality_metric_results) and quality_metric_results[- 1] > nmf_fit.summary()['cophenetic'] ):\n",
        "            break\n",
        "        else:\n",
        "            # Update the best rank since a better one has been found\n",
        "            best_rank = candidate_rank\n",
        "            \n",
        "        quality_metric_results.append(nmf_fit.summary()['cophenetic'])\n",
        "    \n",
        "    return best_rank"
      ],
      "execution_count": null,
      "outputs": []
    },
    {
      "cell_type": "code",
      "metadata": {
        "id": "7NnBrzm2YiPG",
        "colab": {
          "base_uri": "https://localhost:8080/"
        },
        "outputId": "8fb82c9c-755c-49d1-ae32-0a6a69a18009"
      },
      "source": [
        "ranks_test_list = [2, 3, 10]\n",
        "_start = time.time()\n",
        "optimum_ranks = get_optimum_rank(candidate_ranks = ranks_test_list, data = gene_expression_data)\n",
        "_end = time.time()\n",
        "\n",
        "print(f\"The optimal rank (out of {ranks_test_list}) is {optimum_ranks}\")\n",
        "print(f\"(Evaluated {len(ranks_test_list)} rank-candidates in {round(_end-_start, 2)} sec.)\")"
      ],
      "execution_count": null,
      "outputs": [
        {
          "output_type": "stream",
          "text": [
            "The optimal rank (out of [2, 3, 10]) is 3\n",
            "(Evaluated 3 rank-candidates in 27.92 sec.)\n"
          ],
          "name": "stdout"
        }
      ]
    },
    {
      "cell_type": "markdown",
      "metadata": {
        "id": "NExXYSYPFL78"
      },
      "source": [
        "#### 1.4. Inform yourself about **Non-Negative Matrix Tri-Factorization** (**NMTF**). What is the primary difference between NMF and NMTF and what does it achieve?"
      ]
    },
    {
      "cell_type": "markdown",
      "metadata": {
        "id": "wk7eOB7u3g0x"
      },
      "source": [
        "Source: [Non-Negative Matrix Tri-Factorization for co-clustering:\n",
        "an analysis of the block matrix](https://www.researchgate.net/publication/272923306_Non-negative_Matrix_Tri-Factorization_for_co-clustering_An_analysis_of_the_block_matrix) by *N. Del Buono* and *G. Pio b*"
      ]
    },
    {
      "cell_type": "markdown",
      "metadata": {
        "id": "Fn-uLRwm5VsF"
      },
      "source": [
        "One may desired to have a **co-clustering** method for non-negative dyadic data (that is data representing observations which relate two finite sets).\n",
        "\n",
        "NMF as a clustering algorithm can be used for co-clustering by demanding $WW^\\intercal = \\mathbb{I}$ and $HH^\\intercal = \\mathbb{I}$. \n",
        "\n",
        "(This induces that every cluster member is in closer to only one cluster centroid and far from the others -> **Minimize intra-cluster variance and maximize inter-cluster variance**)"
      ]
    },
    {
      "cell_type": "markdown",
      "metadata": {
        "id": "TDiuIyy56PK9"
      },
      "source": [
        "However these two constraints are in practise often too restrictive. NMTF can reduce this problem."
      ]
    },
    {
      "cell_type": "markdown",
      "metadata": {
        "id": "UL_pbwWc3r2U"
      },
      "source": [
        "**NMTF** approximates a (data) matrix $X\\in\\mathbb{R}^{n\\times m}$ by three non-negative factor matrices \n",
        "- $U\\in\\mathbb{R}_+^{n\\times l}$ (row coefficients), \n",
        "- $S\\in\\mathbb{R}_+^{l\\times k}$ (block matrix) and \n",
        "- $U\\in\\mathbb{V}_+^{k\\times m}$ (column coefficients):\n",
        "$$ X\\approx USV $$\n",
        "\n",
        "(Generally it is $k\\ll \\min\\{n, m\\}$ and $l\\ll \\min\\{n, m\\}$"
      ]
    },
    {
      "cell_type": "markdown",
      "metadata": {
        "id": "yEsqdazJ4wGP"
      },
      "source": [
        "A NMF can be implied by setting $W := US$ and $H:=V$ (and the other way around)."
      ]
    },
    {
      "cell_type": "markdown",
      "metadata": {
        "id": "NIOX8-I5630P"
      },
      "source": [
        "**Primary difference**: \n",
        "Factorizing in three instead of two matrices.\n",
        "\n",
        "**What does it achieve:**\n",
        "Using NMTF over NMF for co-clustering may lead to a greater (better) average inter-cluster similarity.\n"
      ]
    },
    {
      "cell_type": "markdown",
      "metadata": {
        "id": "BnWW-nzRFNGQ"
      },
      "source": [
        "#### 1.5. PCA and NMF are both matrix factorization methods, how do they differ from each other? Describe a situation where PCA is favored over NMF."
      ]
    },
    {
      "cell_type": "markdown",
      "metadata": {
        "id": "5zsIZv4w_HiQ"
      },
      "source": [
        "Sources: \n",
        "- [Quora Q&A](https://www.quora.com/When-should-I-use-PCA-versus-non-negative-matrix-factorization) - Dnyaneshwar Giri, Database Developer at Schlumberger\n",
        "- [\"Everything you did and didn't know about PCA\"](http://alexhwilliams.info/itsneuronalblog/2016/03/27/pca/) by Alex Williams, postdoc in Statistics at Stanford University"
      ]
    },
    {
      "cell_type": "markdown",
      "metadata": {
        "id": "YVP7uDtVTy_H"
      },
      "source": [
        "Principal components (PCs) are linear combinations of uncorrelated attributes (and thus orthogonal to each other). One can order them in terms of variance and represent the other data by a linear combination of them. Thus they are usefull for dimensionality reduction.\n",
        "\n",
        "While PCA identifies these PCs to segment the data, NMF introduces a **non-negativity constraint** on the coefficients of the linear combination. This forces the reconstructed whole to be an additive combination of the basis pasts, and generally leads to zeros for non-contributing factors.\n",
        "\n",
        "Situation where PCA is favored over NMF:\n",
        "- When the data is linearly separable\n",
        "- When one is encouraged to generade new features\n",
        "- To establish a geometrical separability between data tuples.\n",
        "- For classification model building."
      ]
    },
    {
      "cell_type": "markdown",
      "metadata": {
        "id": "9v3MrpiqElLz"
      },
      "source": [
        "---\n",
        "### Exercise 2 - Machine Learning"
      ]
    },
    {
      "cell_type": "markdown",
      "metadata": {
        "id": "AsbQAaMbY7q1"
      },
      "source": [
        "#### 2.1. The type of machine learning (e.g. supervised learning, unsupervised learning, etc.) applied depends on the problem at hand. Assume that we have an `Alzheimer's disease (AD) dataset` where rows represent 500 participants and columns represent 100 different collected measurements for each participant."
      ]
    },
    {
      "cell_type": "markdown",
      "metadata": {
        "id": "EjUHF7RUE3Cp"
      },
      "source": [
        "##### 2.1.a) You are asked to train a model that can predict whether a participant is healthy or AD. Mention the type of machine learning you would use for this case scenario and elaborate."
      ]
    },
    {
      "cell_type": "markdown",
      "metadata": {
        "id": "9XRqVmMXXV0T"
      },
      "source": [
        "We would use **supervised learning** because in this dataset we are dealing with labeled samples that we can use to learn how to correctly classify unseen participants. We have a very small amount of data at hand and so it is important that we choose a low-complexity model to not overfit the given data. We are also not interested in the different clusters into which the patients or features can be divided based on the data hence unsupervised learning does not seem appropriate."
      ]
    },
    {
      "cell_type": "markdown",
      "metadata": {
        "id": "kDPR_PU5E6M5"
      },
      "source": [
        "##### 2.1.b) Assume that we do not have any information about the diagnosis of each participant. This time we would like to divide our participants into groups based on the features that we have in hand. What type of machine learning would be appropriate for this scenario and elaborate?"
      ]
    },
    {
      "cell_type": "markdown",
      "metadata": {
        "id": "pcpiLOTBbK0X"
      },
      "source": [
        "In this case we ca not use supervised learning as our samples are not labeled, so we would choose **unsupervised learning** ( eg. hierarchical clustering, k-means clustering, GMMs, NMF). Our goal then is to learn the inherent structure of our samples and find clusters that could then be used to categorize new samples."
      ]
    },
    {
      "cell_type": "markdown",
      "metadata": {
        "id": "JIcUlAxgE7Wd"
      },
      "source": [
        "##### 2.1.c) Imagine that the shape of our dataset is *(100, 600)*, mention one pre-processing step that you would take to carry out the tasks *2.1.a)* and *2.1.b)*?"
      ]
    },
    {
      "cell_type": "markdown",
      "metadata": {
        "id": "-US2V4IRdxVx"
      },
      "source": [
        "The shape of our dataset indicates that we have 100 samples and 600 features. The no. of features in the dataset is very large as compared to samples. To deal with this high dimensional data, we can apply dimensionality reduction technique of Principal Component Analysis as a pre-processing step. We can then select the number of Principal Components to represent our data and apply machine learning tasks (a) and (b) on the selected Principal Components.\n",
        "\n",
        "- `2.1.a)` We would slice the dataset into two distinct sets, namely a training and a test set. The training set is used to train the supervised learning algorithm we're using. The test set is then used to evaluate the model and is used once the model is trained. We would split the dataset at 500 participants so that we have a training set of size *(100, 500)* and a test set of size *(100, 100)*.\n",
        "\n",
        "- `2.1.b)` For unsupervised learning in this case we do not need to split the set into training and test set as we want to find the inherent structure of the given data and so it is crucial to have as much data at hand as possible. Also we would not be able to evaluate the model with a test set because there is no way to evaluate the performance without given labels."
      ]
    },
    {
      "cell_type": "markdown",
      "metadata": {
        "id": "Phw_HR48Ey9z"
      },
      "source": [
        "#### 2.2. Generate a pipeline in scikit learn using the following code snippet:"
      ]
    },
    {
      "cell_type": "code",
      "metadata": {
        "id": "s4jSTy2jG6FZ"
      },
      "source": [
        "####################### Given Code Snippet ############################\n",
        "# polynomial_features = PolynomialFeatures(degree=15, include_bias=False)\n",
        "# linear_regression = LinearRegression()\n",
        "\n",
        "# pipeline = Pipeline([\n",
        "#     (\"polynomial_features\", polynomial_features),\n",
        "#     (\"linear_regression\", linear_regression)\n",
        "# ])`\n",
        "#######################################################################"
      ],
      "execution_count": null,
      "outputs": []
    },
    {
      "cell_type": "code",
      "metadata": {
        "id": "6g4uJxmUANz4"
      },
      "source": [
        "polynomial_features = PolynomialFeatures(degree=15, include_bias=False)\n",
        "linear_regression = LinearRegression()\n",
        "\n",
        "pipeline = Pipeline([\n",
        "  (\"polynomial_features\", polynomial_features),\n",
        "  (\"linear_regression\", linear_regression)\n",
        "])"
      ],
      "execution_count": null,
      "outputs": []
    },
    {
      "cell_type": "markdown",
      "metadata": {
        "id": "5QTFGk1zHUv9"
      },
      "source": [
        "##### 2.2.a) Using the Fish dataset provided, identify the quality of fit of the pipeline for the dataset (use the weight as the response variable)."
      ]
    },
    {
      "cell_type": "code",
      "metadata": {
        "colab": {
          "base_uri": "https://localhost:8080/",
          "height": 175
        },
        "id": "ioSQB6QQpIQR",
        "outputId": "06ada9f0-4527-4d99-e314-99b38c8385bb"
      },
      "source": [
        "fish_ds = get_dataset_from_github(\"Fish.csv\")\n",
        "fish_ds.head(4)"
      ],
      "execution_count": null,
      "outputs": [
        {
          "output_type": "execute_result",
          "data": {
            "text/html": [
              "<div>\n",
              "<style scoped>\n",
              "    .dataframe tbody tr th:only-of-type {\n",
              "        vertical-align: middle;\n",
              "    }\n",
              "\n",
              "    .dataframe tbody tr th {\n",
              "        vertical-align: top;\n",
              "    }\n",
              "\n",
              "    .dataframe thead th {\n",
              "        text-align: right;\n",
              "    }\n",
              "</style>\n",
              "<table border=\"1\" class=\"dataframe\">\n",
              "  <thead>\n",
              "    <tr style=\"text-align: right;\">\n",
              "      <th></th>\n",
              "      <th>Species</th>\n",
              "      <th>Weight</th>\n",
              "      <th>Length1</th>\n",
              "      <th>Length2</th>\n",
              "      <th>Length3</th>\n",
              "      <th>Height</th>\n",
              "      <th>Width</th>\n",
              "    </tr>\n",
              "  </thead>\n",
              "  <tbody>\n",
              "    <tr>\n",
              "      <th>0</th>\n",
              "      <td>Bream</td>\n",
              "      <td>242.0</td>\n",
              "      <td>23.2</td>\n",
              "      <td>25.4</td>\n",
              "      <td>30.0</td>\n",
              "      <td>11.5200</td>\n",
              "      <td>4.0200</td>\n",
              "    </tr>\n",
              "    <tr>\n",
              "      <th>1</th>\n",
              "      <td>Bream</td>\n",
              "      <td>290.0</td>\n",
              "      <td>24.0</td>\n",
              "      <td>26.3</td>\n",
              "      <td>31.2</td>\n",
              "      <td>12.4800</td>\n",
              "      <td>4.3056</td>\n",
              "    </tr>\n",
              "    <tr>\n",
              "      <th>2</th>\n",
              "      <td>Bream</td>\n",
              "      <td>340.0</td>\n",
              "      <td>23.9</td>\n",
              "      <td>26.5</td>\n",
              "      <td>31.1</td>\n",
              "      <td>12.3778</td>\n",
              "      <td>4.6961</td>\n",
              "    </tr>\n",
              "    <tr>\n",
              "      <th>3</th>\n",
              "      <td>Bream</td>\n",
              "      <td>363.0</td>\n",
              "      <td>26.3</td>\n",
              "      <td>29.0</td>\n",
              "      <td>33.5</td>\n",
              "      <td>12.7300</td>\n",
              "      <td>4.4555</td>\n",
              "    </tr>\n",
              "  </tbody>\n",
              "</table>\n",
              "</div>"
            ],
            "text/plain": [
              "  Species  Weight  Length1  Length2  Length3   Height   Width\n",
              "0   Bream   242.0     23.2     25.4     30.0  11.5200  4.0200\n",
              "1   Bream   290.0     24.0     26.3     31.2  12.4800  4.3056\n",
              "2   Bream   340.0     23.9     26.5     31.1  12.3778  4.6961\n",
              "3   Bream   363.0     26.3     29.0     33.5  12.7300  4.4555"
            ]
          },
          "metadata": {
            "tags": []
          },
          "execution_count": 77
        }
      ]
    },
    {
      "cell_type": "code",
      "metadata": {
        "id": "pHo1tWUTqB76"
      },
      "source": [
        "# Preparation of the training data\n",
        "y = fish_ds['Weight'].to_numpy()\n",
        "X = fish_ds.drop(['Weight'], axis=1).to_numpy()\n",
        "# Replace the species strings with numbers. Should we do this? seems wrong to me as its categorical\n",
        "# However, we will have to do this to handle the categorical feature \"Species\" before the data is fed into pipeline\n",
        "_, X[:,0] = np.unique(X[:,0], return_inverse=True)"
      ],
      "execution_count": null,
      "outputs": []
    },
    {
      "cell_type": "code",
      "metadata": {
        "id": "gGDELd49A9zq"
      },
      "source": [
        "# Train on the dataset\n",
        "X_train, X_test, y_train, y_test = train_test_split(X, y, random_state=0)\n",
        "\n",
        "# Fit the data\n",
        "pipeline.fit(X_train, y_train)\n",
        "y_predicted = pipeline.predict(X_test)"
      ],
      "execution_count": null,
      "outputs": []
    },
    {
      "cell_type": "code",
      "metadata": {
        "id": "c_RNoDIrBOpf",
        "colab": {
          "base_uri": "https://localhost:8080/"
        },
        "outputId": "e8c57eae-3153-4b61-8ed9-4e64d15110ca"
      },
      "source": [
        "# Print results\n",
        "print(f\"Score:               {pipeline.score(X_test, y_test)}\")\n",
        "print(f'Explained Variance:  {explained_variance_score(y_test, y_predicted)}')\n",
        "print(f'Mean Absolute Error: {mean_absolute_error(y_test, y_predicted)}')\n",
        "print(f'R2 Score:            {r2_score(y_test, y_predicted)}')\n",
        "print(f'Mean Squared Error:  {mean_squared_error(y_test, y_predicted)}')"
      ],
      "execution_count": null,
      "outputs": [
        {
          "output_type": "stream",
          "text": [
            "Score:               -47656136990019.78\n",
            "Explained Variance:  -45695382578656.23\n",
            "Mean Absolute Error: 734433808.8446305\n",
            "R2 Score:            -47656136990019.78\n",
            "Mean Squared Error:  9.053322170016309e+18\n"
          ],
          "name": "stdout"
        }
      ]
    },
    {
      "cell_type": "markdown",
      "metadata": {
        "id": "vAfsAnU8HaY9"
      },
      "source": [
        "##### 2.2.b) If the pipeline produces a badly fit model for the dataset, list some methods to improve the model."
      ]
    },
    {
      "cell_type": "markdown",
      "metadata": {
        "id": "92LnnztQwACP"
      },
      "source": [
        "The model has been a **bad fit** as indicated by explained variance score, mean absolute error, $R^2$ score and mean squared error.\n",
        "\n",
        "\n",
        "Methods to improve the model are:\n",
        "- Remove the Polynomial Features preprocessing step from pipeline\n",
        "- Perform PCA to decorrelate features\n",
        "- Use regularization techniques and perform Lasso or Ridge Regression"
      ]
    },
    {
      "cell_type": "markdown",
      "metadata": {
        "id": "1FT2Xl_AE1Fk"
      },
      "source": [
        "#### 2.3. In this exercise we will compare the accuracy of different methods on a high-dimensional ($p>>n$) dataset. Load the leukemia_small.csv and extract the class labels from the column names (2 classes, `AML` and `ALL`).Randomly split the data into *70%* training and *30%* test.\n",
        "\n",
        "**Hint:** Use the `train_test_split` function from scikit-learn to define the test_size and\n",
        "set `random_state=1` for better reproducibility.\n"
      ]
    },
    {
      "cell_type": "code",
      "metadata": {
        "colab": {
          "base_uri": "https://localhost:8080/",
          "height": 221
        },
        "id": "6QQLnI76WRYv",
        "outputId": "1fa6e86f-523e-472f-fcaa-a808a5e69e0e"
      },
      "source": [
        "leukemia_small_ds = get_dataset_from_github(\"leukemia_small.csv\", index_col_str = False, header_str = None).T.rename(columns={ 0: 'Class'})\n",
        "leukemia_small_ds.head(4)"
      ],
      "execution_count": 69,
      "outputs": [
        {
          "output_type": "execute_result",
          "data": {
            "text/html": [
              "<div>\n",
              "<style scoped>\n",
              "    .dataframe tbody tr th:only-of-type {\n",
              "        vertical-align: middle;\n",
              "    }\n",
              "\n",
              "    .dataframe tbody tr th {\n",
              "        vertical-align: top;\n",
              "    }\n",
              "\n",
              "    .dataframe thead th {\n",
              "        text-align: right;\n",
              "    }\n",
              "</style>\n",
              "<table border=\"1\" class=\"dataframe\">\n",
              "  <thead>\n",
              "    <tr style=\"text-align: right;\">\n",
              "      <th></th>\n",
              "      <th>Class</th>\n",
              "      <th>1</th>\n",
              "      <th>2</th>\n",
              "      <th>3</th>\n",
              "      <th>4</th>\n",
              "      <th>5</th>\n",
              "      <th>6</th>\n",
              "      <th>7</th>\n",
              "      <th>8</th>\n",
              "      <th>9</th>\n",
              "      <th>10</th>\n",
              "      <th>11</th>\n",
              "      <th>12</th>\n",
              "      <th>13</th>\n",
              "      <th>14</th>\n",
              "      <th>15</th>\n",
              "      <th>16</th>\n",
              "      <th>17</th>\n",
              "      <th>18</th>\n",
              "      <th>19</th>\n",
              "      <th>20</th>\n",
              "      <th>21</th>\n",
              "      <th>22</th>\n",
              "      <th>23</th>\n",
              "      <th>24</th>\n",
              "      <th>25</th>\n",
              "      <th>26</th>\n",
              "      <th>27</th>\n",
              "      <th>28</th>\n",
              "      <th>29</th>\n",
              "      <th>30</th>\n",
              "      <th>31</th>\n",
              "      <th>32</th>\n",
              "      <th>33</th>\n",
              "      <th>34</th>\n",
              "      <th>35</th>\n",
              "      <th>36</th>\n",
              "      <th>37</th>\n",
              "      <th>38</th>\n",
              "      <th>39</th>\n",
              "      <th>...</th>\n",
              "      <th>3532</th>\n",
              "      <th>3533</th>\n",
              "      <th>3534</th>\n",
              "      <th>3535</th>\n",
              "      <th>3536</th>\n",
              "      <th>3537</th>\n",
              "      <th>3538</th>\n",
              "      <th>3539</th>\n",
              "      <th>3540</th>\n",
              "      <th>3541</th>\n",
              "      <th>3542</th>\n",
              "      <th>3543</th>\n",
              "      <th>3544</th>\n",
              "      <th>3545</th>\n",
              "      <th>3546</th>\n",
              "      <th>3547</th>\n",
              "      <th>3548</th>\n",
              "      <th>3549</th>\n",
              "      <th>3550</th>\n",
              "      <th>3551</th>\n",
              "      <th>3552</th>\n",
              "      <th>3553</th>\n",
              "      <th>3554</th>\n",
              "      <th>3555</th>\n",
              "      <th>3556</th>\n",
              "      <th>3557</th>\n",
              "      <th>3558</th>\n",
              "      <th>3559</th>\n",
              "      <th>3560</th>\n",
              "      <th>3561</th>\n",
              "      <th>3562</th>\n",
              "      <th>3563</th>\n",
              "      <th>3564</th>\n",
              "      <th>3565</th>\n",
              "      <th>3566</th>\n",
              "      <th>3567</th>\n",
              "      <th>3568</th>\n",
              "      <th>3569</th>\n",
              "      <th>3570</th>\n",
              "      <th>3571</th>\n",
              "    </tr>\n",
              "  </thead>\n",
              "  <tbody>\n",
              "    <tr>\n",
              "      <th>0</th>\n",
              "      <td>ALL</td>\n",
              "      <td>0.561549117</td>\n",
              "      <td>0.213566469</td>\n",
              "      <td>-0.636584194</td>\n",
              "      <td>0.34712398</td>\n",
              "      <td>0.545508929</td>\n",
              "      <td>1.720234943</td>\n",
              "      <td>1.855733316</td>\n",
              "      <td>1.800898906</td>\n",
              "      <td>0.109674775</td>\n",
              "      <td>-0.288622115</td>\n",
              "      <td>0.172398982</td>\n",
              "      <td>-0.056535636</td>\n",
              "      <td>-0.293796966</td>\n",
              "      <td>-0.753771588</td>\n",
              "      <td>-0.047159955</td>\n",
              "      <td>1.174768572</td>\n",
              "      <td>0.885725999</td>\n",
              "      <td>0.960716855</td>\n",
              "      <td>1.03027837</td>\n",
              "      <td>-0.887742179</td>\n",
              "      <td>0.878236512</td>\n",
              "      <td>-0.072578516</td>\n",
              "      <td>-0.950653716</td>\n",
              "      <td>0.194475476</td>\n",
              "      <td>-0.90126314</td>\n",
              "      <td>-1.403129034</td>\n",
              "      <td>0.08544546</td>\n",
              "      <td>-0.077103259</td>\n",
              "      <td>-0.572644696</td>\n",
              "      <td>-0.019092489</td>\n",
              "      <td>0.356714586</td>\n",
              "      <td>-0.550185015</td>\n",
              "      <td>0.215047891</td>\n",
              "      <td>0.356506114</td>\n",
              "      <td>-1.18939295</td>\n",
              "      <td>-0.601479716</td>\n",
              "      <td>-0.504250677</td>\n",
              "      <td>-0.911922977</td>\n",
              "      <td>0.881435116</td>\n",
              "      <td>...</td>\n",
              "      <td>1.133279972</td>\n",
              "      <td>-1.303194915</td>\n",
              "      <td>-1.22576188</td>\n",
              "      <td>0.274410778</td>\n",
              "      <td>-0.58729919</td>\n",
              "      <td>0.465868103</td>\n",
              "      <td>1.029307754</td>\n",
              "      <td>-0.438912101</td>\n",
              "      <td>0.907392848</td>\n",
              "      <td>0.538989088</td>\n",
              "      <td>0.337721853</td>\n",
              "      <td>-1.153526375</td>\n",
              "      <td>-0.313203102</td>\n",
              "      <td>-0.289005777</td>\n",
              "      <td>-0.748961886</td>\n",
              "      <td>-0.253659787</td>\n",
              "      <td>-0.538890637</td>\n",
              "      <td>-0.641355495</td>\n",
              "      <td>-1.116868354</td>\n",
              "      <td>-0.345541923</td>\n",
              "      <td>0.587859742</td>\n",
              "      <td>-0.034107849</td>\n",
              "      <td>-0.552531313</td>\n",
              "      <td>-0.317909902</td>\n",
              "      <td>0.759793692</td>\n",
              "      <td>0.450235067</td>\n",
              "      <td>0.44186214</td>\n",
              "      <td>0.203262606</td>\n",
              "      <td>1.093257171</td>\n",
              "      <td>0.186078302</td>\n",
              "      <td>0.046676217</td>\n",
              "      <td>0.126566848</td>\n",
              "      <td>0.61284668</td>\n",
              "      <td>0.443501521</td>\n",
              "      <td>0.859034625</td>\n",
              "      <td>-0.672449451</td>\n",
              "      <td>0.150162632</td>\n",
              "      <td>0.068992444</td>\n",
              "      <td>0.129262921</td>\n",
              "      <td>-0.533469501</td>\n",
              "    </tr>\n",
              "    <tr>\n",
              "      <th>1</th>\n",
              "      <td>ALL</td>\n",
              "      <td>-0.623141166</td>\n",
              "      <td>-0.912107005</td>\n",
              "      <td>-0.465296101</td>\n",
              "      <td>-0.734344627</td>\n",
              "      <td>-0.539898208</td>\n",
              "      <td>0.000112247</td>\n",
              "      <td>-0.717582533</td>\n",
              "      <td>0.733660606</td>\n",
              "      <td>0.018899509</td>\n",
              "      <td>-0.159572898</td>\n",
              "      <td>-0.055124766</td>\n",
              "      <td>-0.231349506</td>\n",
              "      <td>1.055416294</td>\n",
              "      <td>0.142631039</td>\n",
              "      <td>-0.04609399</td>\n",
              "      <td>0.487989199</td>\n",
              "      <td>0.28087913</td>\n",
              "      <td>0.143566847</td>\n",
              "      <td>1.055985841</td>\n",
              "      <td>0.545802623</td>\n",
              "      <td>0.864516049</td>\n",
              "      <td>0.315409203</td>\n",
              "      <td>-0.016670824</td>\n",
              "      <td>0.095174309</td>\n",
              "      <td>-0.691832691</td>\n",
              "      <td>-0.338084377</td>\n",
              "      <td>-0.029403143</td>\n",
              "      <td>-0.519796335</td>\n",
              "      <td>-0.379407842</td>\n",
              "      <td>0.458945454</td>\n",
              "      <td>-0.18980173</td>\n",
              "      <td>1.144176474</td>\n",
              "      <td>0.448057984</td>\n",
              "      <td>-1.269341546</td>\n",
              "      <td>0.419031407</td>\n",
              "      <td>0.306394172</td>\n",
              "      <td>0.300575436</td>\n",
              "      <td>-0.01875397</td>\n",
              "      <td>0.289719467</td>\n",
              "      <td>...</td>\n",
              "      <td>0.060390202</td>\n",
              "      <td>-0.248578924</td>\n",
              "      <td>-0.645320421</td>\n",
              "      <td>-0.32735125</td>\n",
              "      <td>0.053913756</td>\n",
              "      <td>-0.540641844</td>\n",
              "      <td>-0.495055716</td>\n",
              "      <td>-0.272546852</td>\n",
              "      <td>-0.574711676</td>\n",
              "      <td>-0.053121517</td>\n",
              "      <td>0.812706165</td>\n",
              "      <td>-0.69147496</td>\n",
              "      <td>0.759219606</td>\n",
              "      <td>-0.048362943</td>\n",
              "      <td>-0.553353396</td>\n",
              "      <td>-0.547467817</td>\n",
              "      <td>-0.429311704</td>\n",
              "      <td>-0.713568059</td>\n",
              "      <td>0.666996231</td>\n",
              "      <td>0.347290097</td>\n",
              "      <td>0.528568249</td>\n",
              "      <td>-0.28710694</td>\n",
              "      <td>-0.601236397</td>\n",
              "      <td>-0.371594266</td>\n",
              "      <td>-0.723166263</td>\n",
              "      <td>-0.899579008</td>\n",
              "      <td>0.052185513</td>\n",
              "      <td>0.165260574</td>\n",
              "      <td>-1.698748836</td>\n",
              "      <td>-0.637995963</td>\n",
              "      <td>-0.180748586</td>\n",
              "      <td>-0.146952384</td>\n",
              "      <td>-0.453801419</td>\n",
              "      <td>-0.527682479</td>\n",
              "      <td>-0.457938679</td>\n",
              "      <td>0.41200043</td>\n",
              "      <td>0.392065095</td>\n",
              "      <td>0.054326025</td>\n",
              "      <td>0.007136491</td>\n",
              "      <td>-1.14837176</td>\n",
              "    </tr>\n",
              "    <tr>\n",
              "      <th>2</th>\n",
              "      <td>ALL</td>\n",
              "      <td>-0.814523716</td>\n",
              "      <td>-1.084069278</td>\n",
              "      <td>-0.583126554</td>\n",
              "      <td>1.785912462</td>\n",
              "      <td>1.445063581</td>\n",
              "      <td>1.099342014</td>\n",
              "      <td>1.111595335</td>\n",
              "      <td>1.178676098</td>\n",
              "      <td>-0.193477159</td>\n",
              "      <td>-0.116154698</td>\n",
              "      <td>-0.30992514</td>\n",
              "      <td>-0.427120893</td>\n",
              "      <td>1.166872593</td>\n",
              "      <td>-0.772489668</td>\n",
              "      <td>-0.775355902</td>\n",
              "      <td>0.65031595</td>\n",
              "      <td>0.031918602</td>\n",
              "      <td>0.467452308</td>\n",
              "      <td>0.826083031</td>\n",
              "      <td>1.248610248</td>\n",
              "      <td>1.492170857</td>\n",
              "      <td>1.042891715</td>\n",
              "      <td>-1.604553884</td>\n",
              "      <td>0.454315131</td>\n",
              "      <td>-0.118768945</td>\n",
              "      <td>0.777405974</td>\n",
              "      <td>2.193976334</td>\n",
              "      <td>-0.212635641</td>\n",
              "      <td>-0.595666004</td>\n",
              "      <td>0.918900651</td>\n",
              "      <td>1.360256604</td>\n",
              "      <td>0.734339427</td>\n",
              "      <td>0.307071548</td>\n",
              "      <td>-0.126907801</td>\n",
              "      <td>-0.599930318</td>\n",
              "      <td>0.495834684</td>\n",
              "      <td>0.766432741</td>\n",
              "      <td>1.525370772</td>\n",
              "      <td>0.165779243</td>\n",
              "      <td>...</td>\n",
              "      <td>0.3059003</td>\n",
              "      <td>0.685548133</td>\n",
              "      <td>-1.112055292</td>\n",
              "      <td>-1.351322498</td>\n",
              "      <td>-0.589529735</td>\n",
              "      <td>0.081023398</td>\n",
              "      <td>-0.036864317</td>\n",
              "      <td>-0.458732055</td>\n",
              "      <td>-2.435798543</td>\n",
              "      <td>0.409979905</td>\n",
              "      <td>-0.077493032</td>\n",
              "      <td>-1.296028224</td>\n",
              "      <td>0.477144948</td>\n",
              "      <td>-0.917109352</td>\n",
              "      <td>-0.772265739</td>\n",
              "      <td>0.323575094</td>\n",
              "      <td>-0.551945343</td>\n",
              "      <td>-0.626667709</td>\n",
              "      <td>-0.19972538</td>\n",
              "      <td>0.841453206</td>\n",
              "      <td>0.669142032</td>\n",
              "      <td>-0.570436763</td>\n",
              "      <td>-0.777686331</td>\n",
              "      <td>0.916680047</td>\n",
              "      <td>0.460648557</td>\n",
              "      <td>0.814594515</td>\n",
              "      <td>-1.916366345</td>\n",
              "      <td>-1.462125447</td>\n",
              "      <td>1.140758821</td>\n",
              "      <td>-1.281924817</td>\n",
              "      <td>-0.813904039</td>\n",
              "      <td>0.620945453</td>\n",
              "      <td>1.117184336</td>\n",
              "      <td>1.572018162</td>\n",
              "      <td>-0.355646467</td>\n",
              "      <td>0.921389555</td>\n",
              "      <td>-1.207114119</td>\n",
              "      <td>0.479036165</td>\n",
              "      <td>1.546483562</td>\n",
              "      <td>-0.391755427</td>\n",
              "    </tr>\n",
              "    <tr>\n",
              "      <th>3</th>\n",
              "      <td>ALL</td>\n",
              "      <td>0.229492381</td>\n",
              "      <td>-0.965718987</td>\n",
              "      <td>-0.525059929</td>\n",
              "      <td>-0.188015918</td>\n",
              "      <td>-0.534602564</td>\n",
              "      <td>1.177446527</td>\n",
              "      <td>1.057922482</td>\n",
              "      <td>1.126832141</td>\n",
              "      <td>0.289005757</td>\n",
              "      <td>-0.085842156</td>\n",
              "      <td>0.380784905</td>\n",
              "      <td>0.126031546</td>\n",
              "      <td>-0.888375551</td>\n",
              "      <td>-0.651474458</td>\n",
              "      <td>-0.145383059</td>\n",
              "      <td>0.760924113</td>\n",
              "      <td>-0.018085432</td>\n",
              "      <td>-0.078384187</td>\n",
              "      <td>0.315194588</td>\n",
              "      <td>-1.253140508</td>\n",
              "      <td>0.201908315</td>\n",
              "      <td>0.701529788</td>\n",
              "      <td>0.969925085</td>\n",
              "      <td>-1.016213958</td>\n",
              "      <td>-0.764904702</td>\n",
              "      <td>0.538379418</td>\n",
              "      <td>1.601447746</td>\n",
              "      <td>-0.418467485</td>\n",
              "      <td>-0.446829774</td>\n",
              "      <td>-0.582513061</td>\n",
              "      <td>0.416560127</td>\n",
              "      <td>0.498936025</td>\n",
              "      <td>0.859670439</td>\n",
              "      <td>0.355850138</td>\n",
              "      <td>-0.29226057</td>\n",
              "      <td>0.155317364</td>\n",
              "      <td>0.004809928</td>\n",
              "      <td>-0.4911139</td>\n",
              "      <td>0.429193484</td>\n",
              "      <td>...</td>\n",
              "      <td>-0.024495203</td>\n",
              "      <td>-1.709761016</td>\n",
              "      <td>1.199066467</td>\n",
              "      <td>0.312304726</td>\n",
              "      <td>-0.366831729</td>\n",
              "      <td>1.364042021</td>\n",
              "      <td>0.050002138</td>\n",
              "      <td>-0.330593059</td>\n",
              "      <td>-0.357428318</td>\n",
              "      <td>0.666813073</td>\n",
              "      <td>0.41078959</td>\n",
              "      <td>0.240791651</td>\n",
              "      <td>-0.380810378</td>\n",
              "      <td>0.205803791</td>\n",
              "      <td>-0.621602811</td>\n",
              "      <td>-0.85444165</td>\n",
              "      <td>-0.467544697</td>\n",
              "      <td>0.609688126</td>\n",
              "      <td>-1.013641505</td>\n",
              "      <td>-1.93836263</td>\n",
              "      <td>0.06941961</td>\n",
              "      <td>0.230112209</td>\n",
              "      <td>-0.256534713</td>\n",
              "      <td>-0.265853837</td>\n",
              "      <td>1.169906655</td>\n",
              "      <td>2.05831423</td>\n",
              "      <td>-0.433012517</td>\n",
              "      <td>0.175607641</td>\n",
              "      <td>0.231014357</td>\n",
              "      <td>-0.358369342</td>\n",
              "      <td>0.549908346</td>\n",
              "      <td>-1.229743055</td>\n",
              "      <td>0.739718957</td>\n",
              "      <td>0.115689911</td>\n",
              "      <td>-0.110720075</td>\n",
              "      <td>0.58166393</td>\n",
              "      <td>-1.001331703</td>\n",
              "      <td>-0.197116777</td>\n",
              "      <td>-0.99098939</td>\n",
              "      <td>-0.924844881</td>\n",
              "    </tr>\n",
              "  </tbody>\n",
              "</table>\n",
              "<p>4 rows × 3572 columns</p>\n",
              "</div>"
            ],
            "text/plain": [
              "  Class             1             2  ...          3569         3570          3571\n",
              "0   ALL   0.561549117   0.213566469  ...   0.068992444  0.129262921  -0.533469501\n",
              "1   ALL  -0.623141166  -0.912107005  ...   0.054326025  0.007136491   -1.14837176\n",
              "2   ALL  -0.814523716  -1.084069278  ...   0.479036165  1.546483562  -0.391755427\n",
              "3   ALL   0.229492381  -0.965718987  ...  -0.197116777  -0.99098939  -0.924844881\n",
              "\n",
              "[4 rows x 3572 columns]"
            ]
          },
          "metadata": {
            "tags": []
          },
          "execution_count": 69
        }
      ]
    },
    {
      "cell_type": "code",
      "metadata": {
        "id": "1m2Y9__fed_n"
      },
      "source": [
        "X_train, X_test, y_train, y_test = train_test_split(leukemia_small_ds.iloc[:,1:], leukemia_small_ds['Class'], test_size=0.3, random_state=1)"
      ],
      "execution_count": 70,
      "outputs": []
    },
    {
      "cell_type": "markdown",
      "metadata": {
        "id": "6W8jwBlpE9z7"
      },
      "source": [
        "##### 2.3.a) Fit a logistic regression (no penalization)"
      ]
    },
    {
      "cell_type": "code",
      "metadata": {
        "id": "fI49Q1mGzcla"
      },
      "source": [
        "regr_wo_penalty = LogisticRegression(penalty='none').fit(X_train, y_train)\n",
        "y_train_predicted_wo_penalty = regr_wo_penalty.predict(X_train)\n",
        "y_test_predicted_wo_penalty = regr_wo_penalty.predict(X_test)"
      ],
      "execution_count": 71,
      "outputs": []
    },
    {
      "cell_type": "markdown",
      "metadata": {
        "id": "tg4ZR1dOE_gU"
      },
      "source": [
        "##### 2.3.b) Fit multiple $l_1$-penalized logistic regressions ($\\lambda \\in \\{ 0.001,\\ 0.01,\\  0.1,\\ \n",
        "1,\\  10,\\ 100\\}$)"
      ]
    },
    {
      "cell_type": "code",
      "metadata": {
        "id": "2MdjsL8rBuEG"
      },
      "source": [
        "lambdas = [0.001, 0.01, 0.1, 1.0, 10.0, 100.0]"
      ],
      "execution_count": 72,
      "outputs": []
    },
    {
      "cell_type": "code",
      "metadata": {
        "id": "Mgpb20tm56eU"
      },
      "source": [
        "regr_l1_penalty =[None] * len(lambdas)\n",
        "y_train_predicted_l1_penalty  = [None] * len(lambdas)\n",
        "y_test_predicted_l1_penalty   = [None] * len(lambdas)\n",
        "\n",
        "for index in range(len(lambdas)):\n",
        "  regr_l1_penalty[index] = LogisticRegression(penalty='l1', C=1/lambdas[index], solver='liblinear').fit(X_train, y_train)\n",
        "  y_train_predicted_l1_penalty[index]  = regr_l1_penalty[index].predict(X_train)\n",
        "  y_test_predicted_l1_penalty[index]   = regr_l1_penalty[index].predict(X_test)"
      ],
      "execution_count": 73,
      "outputs": []
    },
    {
      "cell_type": "markdown",
      "metadata": {
        "id": "33sv9n9aFApt"
      },
      "source": [
        "##### 2.3.c) Fit multiple $l_2$-penalized logistic regressions ($\\lambda \\in \\{ 0.001,\\ 0.01,\\  0.1,\\ \n",
        "1,\\  10,\\ 100\\}$)"
      ]
    },
    {
      "cell_type": "code",
      "metadata": {
        "id": "Qtort7Hp71iD"
      },
      "source": [
        "regr_l2_penalty =[None] * len(lambdas)\n",
        "y_train_predicted_l2_penalty  = [None] * len(lambdas)\n",
        "y_test_predicted_l2_penalty   = [None] * len(lambdas)\n",
        "\n",
        "for index in range(len(lambdas)):\n",
        "  regr_l2_penalty[index] = LogisticRegression(penalty='l2', C=1/lambdas[index]).fit(X_train, y_train)\n",
        "  y_train_predicted_l2_penalty[index]  = regr_l2_penalty[index].predict(X_train)\n",
        "  y_test_predicted_l2_penalty[index]   = regr_l2_penalty[index].predict(X_test)"
      ],
      "execution_count": 74,
      "outputs": []
    },
    {
      "cell_type": "markdown",
      "metadata": {
        "id": "oY1tnymZFBbW"
      },
      "source": [
        "##### 2.3.d) For the models from *2.3.a)*, *2.3.b)*, and *2.3.c)* measure the performance on the training and test set"
      ]
    },
    {
      "cell_type": "code",
      "metadata": {
        "id": "5jVtQdNOCBUY"
      },
      "source": [
        "def print_seperator(mode=0):\n",
        "  if mode==0:\n",
        "    print('\\n' + 70 * ('-*') + '-' + '\\n') \n",
        "  else:\n",
        "    print(4*'\\t' + '*' + 50 * ('-') + '*' + '\\n')"
      ],
      "execution_count": 75,
      "outputs": []
    },
    {
      "cell_type": "code",
      "metadata": {
        "id": "wyz2hjzMajOe",
        "outputId": "18ce44ae-4639-4af0-a673-3a433653dcf1",
        "colab": {
          "base_uri": "https://localhost:8080/"
        }
      },
      "source": [
        "three_digit_lambdas = ['{:.4}'.format(number) for number in lambdas]\n",
        "three_digit_lambdas"
      ],
      "execution_count": 76,
      "outputs": [
        {
          "output_type": "execute_result",
          "data": {
            "text/plain": [
              "['0.001', '0.01', '0.1', '1.0', '10.0', '100.0']"
            ]
          },
          "metadata": {
            "tags": []
          },
          "execution_count": 76
        }
      ]
    },
    {
      "cell_type": "code",
      "metadata": {
        "id": "WllfbY_Qdhyp",
        "outputId": "24cef989-1c64-48f1-96c7-966967c88448",
        "colab": {
          "base_uri": "https://localhost:8080/"
        }
      },
      "source": [
        "print(\"Classification report of the logistic regression with no penalization on the training set:\\n\", classification_report(y_train, y_train_predicted_wo_penalty))\n",
        "print(\"Classification report of the logistic regression with no penalization on the test set:\\n\",   classification_report(y_test, y_test_predicted_wo_penalty))\n",
        "\n",
        "print_seperator()\n",
        "\n",
        "for index in range(len(lambdas)):\n",
        "  print(\"Classification report of the l1 -penalized logistic regressions with lambda equal to %s on the training set:\\n\" % three_digit_lambdas[index],  classification_report(y_train, y_train_predicted_l1_penalty[index]))\n",
        "  print(\"Classification report of the l1 -penalized logistic regressions with lambda equal to %s on the test set:\\n\" % three_digit_lambdas[index],      classification_report(y_test, y_test_predicted_l1_penalty[index]))\n",
        "  if index != len(lambdas)-1:\n",
        "    print_seperator(mode=1)\n",
        "\n",
        "print_seperator()\n",
        "\n",
        "for index in range(len(lambdas)):\n",
        "  print(\"Classification report of the l2 -penalized logistic regressions with lambda equal to %s on the training set:\\n\" % three_digit_lambdas[index],  classification_report(y_train, y_train_predicted_l2_penalty[index]))\n",
        "  print(\"Classification report of the l2 -penalized logistic regressions with lambda equal to %s on the test set:\\n\" % three_digit_lambdas[index],      classification_report(y_test, y_test_predicted_l2_penalty[index]))\n",
        "  if index != len(lambdas)-1:\n",
        "    print_seperator(mode=1)    "
      ],
      "execution_count": 77,
      "outputs": [
        {
          "output_type": "stream",
          "text": [
            "Classification report of the logistic regression with no penalization on the training set:\n",
            "               precision    recall  f1-score   support\n",
            "\n",
            "         ALL       1.00      1.00      1.00        33\n",
            "         AML       1.00      1.00      1.00        17\n",
            "\n",
            "    accuracy                           1.00        50\n",
            "   macro avg       1.00      1.00      1.00        50\n",
            "weighted avg       1.00      1.00      1.00        50\n",
            "\n",
            "Classification report of the logistic regression with no penalization on the test set:\n",
            "               precision    recall  f1-score   support\n",
            "\n",
            "         ALL       1.00      0.79      0.88        14\n",
            "         AML       0.73      1.00      0.84         8\n",
            "\n",
            "    accuracy                           0.86        22\n",
            "   macro avg       0.86      0.89      0.86        22\n",
            "weighted avg       0.90      0.86      0.87        22\n",
            "\n",
            "\n",
            "-*-*-*-*-*-*-*-*-*-*-*-*-*-*-*-*-*-*-*-*-*-*-*-*-*-*-*-*-*-*-*-*-*-*-*-*-*-*-*-*-*-*-*-*-*-*-*-*-*-*-*-*-*-*-*-*-*-*-*-*-*-*-*-*-*-*-*-*-*-*-\n",
            "\n",
            "Classification report of the l1 -penalized logistic regressions with lambda equal to 0.001 on the training set:\n",
            "               precision    recall  f1-score   support\n",
            "\n",
            "         ALL       1.00      1.00      1.00        33\n",
            "         AML       1.00      1.00      1.00        17\n",
            "\n",
            "    accuracy                           1.00        50\n",
            "   macro avg       1.00      1.00      1.00        50\n",
            "weighted avg       1.00      1.00      1.00        50\n",
            "\n",
            "Classification report of the l1 -penalized logistic regressions with lambda equal to 0.001 on the test set:\n",
            "               precision    recall  f1-score   support\n",
            "\n",
            "         ALL       1.00      0.93      0.96        14\n",
            "         AML       0.89      1.00      0.94         8\n",
            "\n",
            "    accuracy                           0.95        22\n",
            "   macro avg       0.94      0.96      0.95        22\n",
            "weighted avg       0.96      0.95      0.96        22\n",
            "\n",
            "\t\t\t\t*--------------------------------------------------*\n",
            "\n",
            "Classification report of the l1 -penalized logistic regressions with lambda equal to 0.01 on the training set:\n",
            "               precision    recall  f1-score   support\n",
            "\n",
            "         ALL       1.00      1.00      1.00        33\n",
            "         AML       1.00      1.00      1.00        17\n",
            "\n",
            "    accuracy                           1.00        50\n",
            "   macro avg       1.00      1.00      1.00        50\n",
            "weighted avg       1.00      1.00      1.00        50\n",
            "\n",
            "Classification report of the l1 -penalized logistic regressions with lambda equal to 0.01 on the test set:\n",
            "               precision    recall  f1-score   support\n",
            "\n",
            "         ALL       1.00      0.93      0.96        14\n",
            "         AML       0.89      1.00      0.94         8\n",
            "\n",
            "    accuracy                           0.95        22\n",
            "   macro avg       0.94      0.96      0.95        22\n",
            "weighted avg       0.96      0.95      0.96        22\n",
            "\n",
            "\t\t\t\t*--------------------------------------------------*\n",
            "\n",
            "Classification report of the l1 -penalized logistic regressions with lambda equal to 0.1 on the training set:\n",
            "               precision    recall  f1-score   support\n",
            "\n",
            "         ALL       1.00      1.00      1.00        33\n",
            "         AML       1.00      1.00      1.00        17\n",
            "\n",
            "    accuracy                           1.00        50\n",
            "   macro avg       1.00      1.00      1.00        50\n",
            "weighted avg       1.00      1.00      1.00        50\n",
            "\n",
            "Classification report of the l1 -penalized logistic regressions with lambda equal to 0.1 on the test set:\n",
            "               precision    recall  f1-score   support\n",
            "\n",
            "         ALL       1.00      0.93      0.96        14\n",
            "         AML       0.89      1.00      0.94         8\n",
            "\n",
            "    accuracy                           0.95        22\n",
            "   macro avg       0.94      0.96      0.95        22\n",
            "weighted avg       0.96      0.95      0.96        22\n",
            "\n",
            "\t\t\t\t*--------------------------------------------------*\n",
            "\n",
            "Classification report of the l1 -penalized logistic regressions with lambda equal to 1.0 on the training set:\n",
            "               precision    recall  f1-score   support\n",
            "\n",
            "         ALL       1.00      1.00      1.00        33\n",
            "         AML       1.00      1.00      1.00        17\n",
            "\n",
            "    accuracy                           1.00        50\n",
            "   macro avg       1.00      1.00      1.00        50\n",
            "weighted avg       1.00      1.00      1.00        50\n",
            "\n",
            "Classification report of the l1 -penalized logistic regressions with lambda equal to 1.0 on the test set:\n",
            "               precision    recall  f1-score   support\n",
            "\n",
            "         ALL       1.00      0.93      0.96        14\n",
            "         AML       0.89      1.00      0.94         8\n",
            "\n",
            "    accuracy                           0.95        22\n",
            "   macro avg       0.94      0.96      0.95        22\n",
            "weighted avg       0.96      0.95      0.96        22\n",
            "\n",
            "\t\t\t\t*--------------------------------------------------*\n",
            "\n",
            "Classification report of the l1 -penalized logistic regressions with lambda equal to 10.0 on the training set:\n",
            "               precision    recall  f1-score   support\n",
            "\n",
            "         ALL       1.00      1.00      1.00        33\n",
            "         AML       1.00      1.00      1.00        17\n",
            "\n",
            "    accuracy                           1.00        50\n",
            "   macro avg       1.00      1.00      1.00        50\n",
            "weighted avg       1.00      1.00      1.00        50\n",
            "\n",
            "Classification report of the l1 -penalized logistic regressions with lambda equal to 10.0 on the test set:\n",
            "               precision    recall  f1-score   support\n",
            "\n",
            "         ALL       1.00      0.93      0.96        14\n",
            "         AML       0.89      1.00      0.94         8\n",
            "\n",
            "    accuracy                           0.95        22\n",
            "   macro avg       0.94      0.96      0.95        22\n",
            "weighted avg       0.96      0.95      0.96        22\n",
            "\n",
            "\t\t\t\t*--------------------------------------------------*\n",
            "\n",
            "Classification report of the l1 -penalized logistic regressions with lambda equal to 100.0 on the training set:\n",
            "               precision    recall  f1-score   support\n",
            "\n",
            "         ALL       0.66      1.00      0.80        33\n",
            "         AML       0.00      0.00      0.00        17\n",
            "\n",
            "    accuracy                           0.66        50\n",
            "   macro avg       0.33      0.50      0.40        50\n",
            "weighted avg       0.44      0.66      0.52        50\n",
            "\n",
            "Classification report of the l1 -penalized logistic regressions with lambda equal to 100.0 on the test set:\n",
            "               precision    recall  f1-score   support\n",
            "\n",
            "         ALL       0.64      1.00      0.78        14\n",
            "         AML       0.00      0.00      0.00         8\n",
            "\n",
            "    accuracy                           0.64        22\n",
            "   macro avg       0.32      0.50      0.39        22\n",
            "weighted avg       0.40      0.64      0.49        22\n",
            "\n",
            "\n",
            "-*-*-*-*-*-*-*-*-*-*-*-*-*-*-*-*-*-*-*-*-*-*-*-*-*-*-*-*-*-*-*-*-*-*-*-*-*-*-*-*-*-*-*-*-*-*-*-*-*-*-*-*-*-*-*-*-*-*-*-*-*-*-*-*-*-*-*-*-*-*-\n",
            "\n",
            "Classification report of the l2 -penalized logistic regressions with lambda equal to 0.001 on the training set:\n",
            "               precision    recall  f1-score   support\n",
            "\n",
            "         ALL       1.00      1.00      1.00        33\n",
            "         AML       1.00      1.00      1.00        17\n",
            "\n",
            "    accuracy                           1.00        50\n",
            "   macro avg       1.00      1.00      1.00        50\n",
            "weighted avg       1.00      1.00      1.00        50\n",
            "\n",
            "Classification report of the l2 -penalized logistic regressions with lambda equal to 0.001 on the test set:\n",
            "               precision    recall  f1-score   support\n",
            "\n",
            "         ALL       1.00      0.79      0.88        14\n",
            "         AML       0.73      1.00      0.84         8\n",
            "\n",
            "    accuracy                           0.86        22\n",
            "   macro avg       0.86      0.89      0.86        22\n",
            "weighted avg       0.90      0.86      0.87        22\n",
            "\n",
            "\t\t\t\t*--------------------------------------------------*\n",
            "\n",
            "Classification report of the l2 -penalized logistic regressions with lambda equal to 0.01 on the training set:\n",
            "               precision    recall  f1-score   support\n",
            "\n",
            "         ALL       1.00      1.00      1.00        33\n",
            "         AML       1.00      1.00      1.00        17\n",
            "\n",
            "    accuracy                           1.00        50\n",
            "   macro avg       1.00      1.00      1.00        50\n",
            "weighted avg       1.00      1.00      1.00        50\n",
            "\n",
            "Classification report of the l2 -penalized logistic regressions with lambda equal to 0.01 on the test set:\n",
            "               precision    recall  f1-score   support\n",
            "\n",
            "         ALL       1.00      0.93      0.96        14\n",
            "         AML       0.89      1.00      0.94         8\n",
            "\n",
            "    accuracy                           0.95        22\n",
            "   macro avg       0.94      0.96      0.95        22\n",
            "weighted avg       0.96      0.95      0.96        22\n",
            "\n",
            "\t\t\t\t*--------------------------------------------------*\n",
            "\n",
            "Classification report of the l2 -penalized logistic regressions with lambda equal to 0.1 on the training set:\n",
            "               precision    recall  f1-score   support\n",
            "\n",
            "         ALL       1.00      1.00      1.00        33\n",
            "         AML       1.00      1.00      1.00        17\n",
            "\n",
            "    accuracy                           1.00        50\n",
            "   macro avg       1.00      1.00      1.00        50\n",
            "weighted avg       1.00      1.00      1.00        50\n",
            "\n",
            "Classification report of the l2 -penalized logistic regressions with lambda equal to 0.1 on the test set:\n",
            "               precision    recall  f1-score   support\n",
            "\n",
            "         ALL       1.00      1.00      1.00        14\n",
            "         AML       1.00      1.00      1.00         8\n",
            "\n",
            "    accuracy                           1.00        22\n",
            "   macro avg       1.00      1.00      1.00        22\n",
            "weighted avg       1.00      1.00      1.00        22\n",
            "\n",
            "\t\t\t\t*--------------------------------------------------*\n",
            "\n",
            "Classification report of the l2 -penalized logistic regressions with lambda equal to 1.0 on the training set:\n",
            "               precision    recall  f1-score   support\n",
            "\n",
            "         ALL       1.00      1.00      1.00        33\n",
            "         AML       1.00      1.00      1.00        17\n",
            "\n",
            "    accuracy                           1.00        50\n",
            "   macro avg       1.00      1.00      1.00        50\n",
            "weighted avg       1.00      1.00      1.00        50\n",
            "\n",
            "Classification report of the l2 -penalized logistic regressions with lambda equal to 1.0 on the test set:\n",
            "               precision    recall  f1-score   support\n",
            "\n",
            "         ALL       1.00      1.00      1.00        14\n",
            "         AML       1.00      1.00      1.00         8\n",
            "\n",
            "    accuracy                           1.00        22\n",
            "   macro avg       1.00      1.00      1.00        22\n",
            "weighted avg       1.00      1.00      1.00        22\n",
            "\n",
            "\t\t\t\t*--------------------------------------------------*\n",
            "\n",
            "Classification report of the l2 -penalized logistic regressions with lambda equal to 10.0 on the training set:\n",
            "               precision    recall  f1-score   support\n",
            "\n",
            "         ALL       1.00      1.00      1.00        33\n",
            "         AML       1.00      1.00      1.00        17\n",
            "\n",
            "    accuracy                           1.00        50\n",
            "   macro avg       1.00      1.00      1.00        50\n",
            "weighted avg       1.00      1.00      1.00        50\n",
            "\n",
            "Classification report of the l2 -penalized logistic regressions with lambda equal to 10.0 on the test set:\n",
            "               precision    recall  f1-score   support\n",
            "\n",
            "         ALL       1.00      1.00      1.00        14\n",
            "         AML       1.00      1.00      1.00         8\n",
            "\n",
            "    accuracy                           1.00        22\n",
            "   macro avg       1.00      1.00      1.00        22\n",
            "weighted avg       1.00      1.00      1.00        22\n",
            "\n",
            "\t\t\t\t*--------------------------------------------------*\n",
            "\n",
            "Classification report of the l2 -penalized logistic regressions with lambda equal to 100.0 on the training set:\n",
            "               precision    recall  f1-score   support\n",
            "\n",
            "         ALL       1.00      1.00      1.00        33\n",
            "         AML       1.00      1.00      1.00        17\n",
            "\n",
            "    accuracy                           1.00        50\n",
            "   macro avg       1.00      1.00      1.00        50\n",
            "weighted avg       1.00      1.00      1.00        50\n",
            "\n",
            "Classification report of the l2 -penalized logistic regressions with lambda equal to 100.0 on the test set:\n",
            "               precision    recall  f1-score   support\n",
            "\n",
            "         ALL       1.00      1.00      1.00        14\n",
            "         AML       1.00      1.00      1.00         8\n",
            "\n",
            "    accuracy                           1.00        22\n",
            "   macro avg       1.00      1.00      1.00        22\n",
            "weighted avg       1.00      1.00      1.00        22\n",
            "\n"
          ],
          "name": "stdout"
        },
        {
          "output_type": "stream",
          "text": [
            "/usr/local/lib/python3.7/dist-packages/sklearn/metrics/_classification.py:1272: UndefinedMetricWarning: Precision and F-score are ill-defined and being set to 0.0 in labels with no predicted samples. Use `zero_division` parameter to control this behavior.\n",
            "  _warn_prf(average, modifier, msg_start, len(result))\n"
          ],
          "name": "stderr"
        }
      ]
    },
    {
      "cell_type": "markdown",
      "metadata": {
        "id": "_G_aB_cVFCbN"
      },
      "source": [
        "##### 2.3.e) Using *2.3.d)* report the performances with one scatterplot for each approach (one scatterplot for each: unpenalized, $l_1$, $l_2$), with the regularization constant on the $x$-axis and the accuracy on the $y$-axis, train and test set colored differently, proper axis labels and a legend."
      ]
    },
    {
      "cell_type": "code",
      "metadata": {
        "id": "_iVbF1p3myZs",
        "outputId": "5195c897-b081-446b-db4b-86ece4e10b58",
        "colab": {
          "base_uri": "https://localhost:8080/",
          "height": 312
        }
      },
      "source": [
        "unpen_results_dataframe = pd.DataFrame([[0, regr_wo_penalty.score(X_train, y_train), 0], \n",
        "                                        [0, regr_wo_penalty.score(X_test, y_test), 1]], \n",
        "                                       columns = ['lambda', 'accuracy', 'isTestData'])\n",
        "\n",
        "sns.scatterplot(x = 'lambda', y = 'accuracy', data = unpen_results_dataframe, hue = 'isTestData')\n",
        "plt.title('unpenalized Logistic Regression')\n",
        "plt.xlabel('Regularization Constant Lambda')\n",
        "plt.ylabel('Accuracy')"
      ],
      "execution_count": 78,
      "outputs": [
        {
          "output_type": "execute_result",
          "data": {
            "text/plain": [
              "Text(0, 0.5, 'Accuracy')"
            ]
          },
          "metadata": {
            "tags": []
          },
          "execution_count": 78
        },
        {
          "output_type": "display_data",
          "data": {
            "image/png": "[encoded data removed]",
            "text/plain": [
              "<Figure size 432x288 with 1 Axes>"
            ]
          },
          "metadata": {
            "tags": [],
            "needs_background": "light"
          }
        }
      ]
    },
    {
      "cell_type": "code",
      "metadata": {
        "id": "ClkfKa8_eX1l",
        "outputId": "be781f27-2897-4f6e-a0bf-585e6c7b4f1a",
        "colab": {
          "base_uri": "https://localhost:8080/",
          "height": 312
        }
      },
      "source": [
        "train_results_list = list(zip(lambdas,  [model.score(X_train, y_train) for model in regr_l1_penalty], [0] * len(lambdas)))\n",
        "test_results_list = list(zip(lambdas,   [model.score(X_test, y_test) for model in regr_l1_penalty],   [1] * len(lambdas)))\n",
        "l1_results_dataframe = pd.DataFrame(train_results_list + test_results_list, columns = ['lambda', 'accuracy', 'isTestData'])\n",
        "\n",
        "sns.scatterplot(x = 'lambda', y = 'accuracy', data = l1_results_dataframe, hue = 'isTestData')\n",
        "plt.title('l1 penalized Logistic Regression')\n",
        "plt.xlabel('Regularization Constant Lambda')\n",
        "plt.ylabel('Accuracy')"
      ],
      "execution_count": 79,
      "outputs": [
        {
          "output_type": "execute_result",
          "data": {
            "text/plain": [
              "Text(0, 0.5, 'Accuracy')"
            ]
          },
          "metadata": {
            "tags": []
          },
          "execution_count": 79
        },
        {
          "output_type": "display_data",
          "data": {
            "image/png": "[encoded data removed]",
            "text/plain": [
              "<Figure size 432x288 with 1 Axes>"
            ]
          },
          "metadata": {
            "tags": [],
            "needs_background": "light"
          }
        }
      ]
    },
    {
      "cell_type": "code",
      "metadata": {
        "id": "mxmBioLamT8r",
        "outputId": "8ba10992-851e-4594-9178-691e2de74345",
        "colab": {
          "base_uri": "https://localhost:8080/",
          "height": 312
        }
      },
      "source": [
        "train_results_list = list(zip(lambdas,  [model.score(X_train, y_train) for model in regr_l2_penalty], [0] * len(lambdas)))\n",
        "test_results_list = list(zip(lambdas,   [model.score(X_test, y_test) for model in regr_l2_penalty],   [1] * len(lambdas)))\n",
        "l2_results_dataframe = pd.DataFrame(train_results_list + test_results_list, columns = ['lambda', 'accuracy', 'isTestData'])\n",
        "\n",
        "sns.scatterplot(x = 'lambda', y = 'accuracy', data = l2_results_dataframe, hue = 'isTestData')\n",
        "plt.title('l2 penalized Logistic Regression')\n",
        "plt.xlabel('Regularization Constant Lambda')\n",
        "plt.ylabel('Accuracy')"
      ],
      "execution_count": 80,
      "outputs": [
        {
          "output_type": "execute_result",
          "data": {
            "text/plain": [
              "Text(0, 0.5, 'Accuracy')"
            ]
          },
          "metadata": {
            "tags": []
          },
          "execution_count": 80
        },
        {
          "output_type": "display_data",
          "data": {
            "image/png": "[encoded data removed]",
            "text/plain": [
              "<Figure size 432x288 with 1 Axes>"
            ]
          },
          "metadata": {
            "tags": [],
            "needs_background": "light"
          }
        }
      ]
    },
    {
      "cell_type": "markdown",
      "metadata": {
        "id": "UswnbGnvFDY5"
      },
      "source": [
        "##### 2.3.f) Which method in combination with which parameter gives the best results on the test set?"
      ]
    },
    {
      "cell_type": "markdown",
      "metadata": {
        "id": "y0PsNuqdmu-A"
      },
      "source": [
        "The best results on the test set are obtained by using penalized Logistic Regression models. By analysing the classification report containing precision, recall and f1 score, it can be seen that the **l1 penalized Logistic Regression** algorithm performs perfect classification with **lambda = 0.1** and the **l2 penalized Logistic Regression** performs perfect classification with **lambda=0.1, 1, 10, 100**."
      ]
    }
  ]
}