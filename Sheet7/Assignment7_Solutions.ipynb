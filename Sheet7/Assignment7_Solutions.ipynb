{
  "nbformat": 4,
  "nbformat_minor": 0,
  "metadata": {
    "kernelspec": {
      "display_name": "Python 3",
      "language": "python",
      "name": "python3"
    },
    "language_info": {
      "codemirror_mode": {
        "name": "ipython",
        "version": 3
      },
      "file_extension": ".py",
      "mimetype": "text/x-python",
      "name": "python",
      "nbconvert_exporter": "python",
      "pygments_lexer": "ipython3",
      "version": "3.7.7"
    },
    "colab": {
      "name": "Assignment7_Solutions.ipynb",
      "provenance": [],
      "collapsed_sections": [],
      "include_colab_link": true
    }
  },
  "cells": [
    {
      "cell_type": "markdown",
      "metadata": {
        "id": "view-in-github",
        "colab_type": "text"
      },
      "source": [
        "<a href=\"https://colab.research.google.com/github/FabriceBeaumont/4216_Biomedical_DS_and_AI/blob/main/Sheet7/Assignment7_Solutions.ipynb\" target=\"_parent\"><img src=\"https://colab.research.google.com/assets/colab-badge.svg\" alt=\"Open In Colab\"/></a>"
      ]
    },
    {
      "cell_type": "code",
      "metadata": {
        "id": "-UnHoHsFop-8"
      },
      "source": [
        "import numpy as np\n",
        "import math\n",
        "import pandas as pd\n",
        "import random as rand\n",
        "from sklearn import preprocessing\n",
        "from sklearn.model_selection import KFold, cross_val_score, GridSearchCV\n",
        "from sklearn.ensemble import RandomForestClassifier"
      ],
      "execution_count": 48,
      "outputs": []
    },
    {
      "cell_type": "code",
      "metadata": {
        "id": "BUswbzmRCHbj"
      },
      "source": [
        "def get_dataset_from_github(filename, index_col_str=None, header_str='infer'):    \n",
        "    data_file_path = \"https://raw.githubusercontent.com/D34dP0oL/4216_Biomedical_DS_and_AI/main/Datasets/\"\n",
        "    if index_col_str is None and header_str == 'infer':\n",
        "      data = pd.read_csv(data_file_path + filename)\n",
        "    elif index_col_str is None:\n",
        "        data = pd.read_csv(data_file_path + filename, header=header_str)\n",
        "    elif header_str == 'infer':\n",
        "      data = pd.read_csv(data_file_path + filename, index_col=index_col_str)\n",
        "    else:\n",
        "      data = pd.read_csv(data_file_path + filename, index_col=index_col_str, header=header_str)\n",
        "\n",
        "    return data"
      ],
      "execution_count": null,
      "outputs": []
    },
    {
      "cell_type": "markdown",
      "metadata": {
        "id": "Lx0G72bGl7xc"
      },
      "source": [
        "## Biomedical Data Science & AI\n",
        "\n",
        "## Assignment 7\n",
        "\n",
        "#### Group members:  Fabrice Beaumont, Fatemeh Salehi, Genivika Mann, Helia Salimi, Jonah"
      ]
    },
    {
      "cell_type": "markdown",
      "metadata": {
        "id": "-fhYMe5ml7xo"
      },
      "source": [
        "---\n",
        "### Exercise 1 - Elastic Net & Nested Cross-Validation\n"
      ]
    },
    {
      "cell_type": "markdown",
      "metadata": {
        "id": "jgUkN-nGziCe"
      },
      "source": [
        "#### 1.1. Using the `titanic_survival_data.csv` dataset, train a logistic regression model with elastic net penalization to demonstrate the pros and cons of the different data splitting methods and give a short description on what you observe."
      ]
    },
    {
      "cell_type": "markdown",
      "metadata": {
        "id": "LWG_h9C_o2bZ"
      },
      "source": [
        "##### 1.1.a) Report the accuracy of data splitting with a test size of $0.2$ and random state as $1$."
      ]
    },
    {
      "cell_type": "markdown",
      "metadata": {
        "id": "OHb-R-M0o4d4"
      },
      "source": [
        "##### 1.1.b) Plot the boxplot for the accuracy of the **$K$-fold cross validation** with $5$ splits."
      ]
    },
    {
      "cell_type": "markdown",
      "metadata": {
        "id": "NKQMVXZLo6A1"
      },
      "source": [
        "##### 1.1.c) Plot the boxplot for the accuracy of the **Stratified-$K$-fold cross validation** with $5$ splits."
      ]
    },
    {
      "cell_type": "markdown",
      "metadata": {
        "id": "dkWfRRu6o7HE"
      },
      "source": [
        "##### 1.1.d) Inform yourself about **leave-one-out cross-validation** (**LOOCV**). Implement LOOCV and mention the pros and cons of the method."
      ]
    },
    {
      "cell_type": "markdown",
      "metadata": {
        "id": "appoDszfFI5l"
      },
      "source": [
        "#### 1.2. Use the nested cross validation to train a logistic regression with elastic net penalization (`leukemia_small.csv`)."
      ]
    },
    {
      "cell_type": "markdown",
      "metadata": {
        "id": "jhfmrS-AFOra"
      },
      "source": [
        "##### 1.2.a) Split the data into training and test samples using an appropriate cross validation method, and in the inner loop carry out **hyperparameter optimization**."
      ]
    },
    {
      "cell_type": "markdown",
      "metadata": {
        "id": "4CJhiLbSpoOm"
      },
      "source": [
        "##### 1.2.b) Compute the area under the ROC curve (**AUC-ROC**) and the area under the precision-recall curve (**AUC-PR**)."
      ]
    },
    {
      "cell_type": "markdown",
      "metadata": {
        "id": "r290kRylppoH"
      },
      "source": [
        "##### 1.2.c) Plot separate boxplots for the two performance metrics."
      ]
    },
    {
      "cell_type": "markdown",
      "metadata": {
        "id": "NExXYSYPFL78"
      },
      "source": [
        "#### 1.3. In your own words, explain how each of the following metrics can be used to assess the performance of a model and then calculate each metric using the following confusion matrix."
      ]
    },
    {
      "cell_type": "markdown",
      "metadata": {
        "id": "FB9TtcYdqJZH"
      },
      "source": [
        " _           | Predicted No | Predicted Yes |\n",
        "---|---|---\n",
        "Actual No    | $250$        | $20$          |\n",
        "Actual Yes   | $30$         | $100$         |"
      ]
    },
    {
      "cell_type": "markdown",
      "metadata": {
        "id": "BnWW-nzRFNGQ"
      },
      "source": [
        "##### 1.3.a) Recall\n",
        "\n",
        "With recall we can measure what percentage of the total positives are predicted to be positive, so in other words, it gives us a measure of the true positive rate.\n",
        "\n",
        "Calculation:\n",
        "\n",
        "$Recall = \\frac{TP}{TP+FN} = \\frac{100}{100+30} \\approx 77\\%$"
      ]
    },
    {
      "cell_type": "markdown",
      "metadata": {
        "id": "11_ebbYlp8cS"
      },
      "source": [
        "##### 1.3.b) $F_1$\n",
        "\n",
        "The F1-Score measures the balance between precision and recall. While the recall measures how many false negatives we have, the precision give us an indication of the number of false positives. If the model has high recall and precision this leads to a high F1-Score. The F1-Score is especially useful as a performance measure if we have an uneven class distribution.\n",
        "\n",
        "Calculation:\n",
        "\n",
        "$Precision = \\frac{TP}{TP+FP} = \\frac{100}{100+20} \\approx 83\\%$\n",
        "\n",
        "$F1 = 2\\cdot \\frac{Precision \\cdot Recall}{Precision + Recall} = 2\\cdot \\frac{0.833\\cdot 0.769}{0.833 + 0.769} \\approx 0.8$"
      ]
    },
    {
      "cell_type": "markdown",
      "metadata": {
        "id": "WvzK-GqDp-H-"
      },
      "source": [
        "##### 1.3.c) Balanced Accuracy (BAC)\n",
        "\n",
        "Balanced Accuracy is the arithmetic mean between recall (also called sensitivity/true positive rate in this scope) and specificity. The specificity is a measure for the true negative rate. Like the F1-Score the balanced accuracy is especially useful to measure the performance of a model when the classes are imbalanced as it attempts to account for the imbalance in classes.\n",
        "\n",
        "Calculation:\n",
        "\n",
        "$Specificity = \\frac{TN}{TN+FP} = \\frac{250}{250+20} \\approx 93\\%$\n",
        "\n",
        "$BAC = \\frac{TPR + TNR}{2} = \\frac{0.769 + 0.926}{2} \\approx 0.85$"
      ]
    },
    {
      "cell_type": "markdown",
      "metadata": {
        "id": "Gpr7R7PRp_KB"
      },
      "source": [
        "##### 1.3.d) Matthews Correlation Coefficient (MCC)\n",
        "\n",
        "Matthew Correlation Coefficient gives us a measure of the differences between the real values and the predicted values. The difference takes true positives, false positives, true negatives and false negatives into account and returns a high score only if for all four measures the model has good results.\n",
        "\n",
        "Calculation:\n",
        "\n",
        "$MCC = \\frac{TP\\cdot TN - FP\\cdot FN}{\\sqrt{(TP+FP)(TP+FN)(TN+FP)(TN+FN)}} = \\frac{100\\cdot 250 - 20\\cdot 30}{\\sqrt{(100+20)(100+30)(250+20)(250+30)}} \\approx 0.71$"
      ]
    },
    {
      "cell_type": "markdown",
      "metadata": {
        "id": "9v3MrpiqElLz"
      },
      "source": [
        "---\n",
        "### Exercise 2 - SVM"
      ]
    },
    {
      "cell_type": "markdown",
      "metadata": {
        "id": "AsbQAaMbY7q1"
      },
      "source": [
        "#### 2.1. Inform yourself about **SVM** and briefly explain the working strategy of linear SVM and why maximizing the margin is a good strategy."
      ]
    },
    {
      "cell_type": "markdown",
      "metadata": {
        "id": "Zy3FrdNcDPqR"
      },
      "source": [
        "SVM is a *supervised machine learning algorithm* which can be used for \n",
        "- classification or \n",
        "- regression problems. \n",
        "\n",
        "It uses a technique called the *kernel trick* to transform your data and then based on these transformations it finds an optimal boundary between the possible outputs. Simply put, it does some extremely complex data transformations, then figures out how to seperate your data based on the labels or outputs you have defined.\n",
        "\n",
        "A simple linear SVM classifier works by making a straight line between two classes. That means all of the data points on one side of the line will represent a category and the data points on the other side of the line will be put into a different category. This means there can be an infinite number of lines to choose from.\n",
        "\n",
        "What makes the linear SVM algorithm better than some of the other algorithms, like $k$-nearest neighbors, is that it chooses the best line to classify your data points. It chooses the line that separates the data and is the furthest away from the closet data points as possible.\n",
        "\n",
        "A large margin effectively corresponds to a regularization of SVM weights which prevents overfitting. Hence, we prefer a large margin (or the right margin chosen by cross-validation) because it helps us generalize our predictions and perform better on the test data by not overfitting the model to the training data.\n",
        "\n",
        "The intuition as that decision boundary that maximises the margin would be the most useful, as they create the most separation between boundary cases so that small variations will be less likely to affect the classification"
      ]
    },
    {
      "cell_type": "markdown",
      "metadata": {
        "id": "1FT2Xl_AE1Fk"
      },
      "source": [
        "#### 2.2. Inform yourself about the non-linearity problem for classifiers. Briefly explain how SVM uses **kernel trick** to overcome this issue."
      ]
    },
    {
      "cell_type": "markdown",
      "metadata": {
        "id": "kITgL-LfDy9C"
      },
      "source": [
        "If the data are not linearly separable, a linear classification cannot perfectly distinguish the two classes. Nonlinear functions can be used to separate instances that are not linearly separable.\n",
        "\n",
        "In machine learning, a trick known as **kernel trick** is used to learn a linear classifier to classify a non-linear dataset. It transforms the linearly inseparable data into a linearly separable one by projecting it into a higher dimension. A kernel function is applied on each data instance to map the original non-linear data points into some higher dimensional space in which they become linearly separable.\n",
        "\n",
        "To get a better understanding, let’s consider circles dataset:"
      ]
    },
    {
      "cell_type": "code",
      "metadata": {
        "id": "nPOToyFTETq4"
      },
      "source": [
        "# TODO: 1.png"
      ],
      "execution_count": null,
      "outputs": []
    },
    {
      "cell_type": "markdown",
      "metadata": {
        "id": "rlf04T63D-NN"
      },
      "source": [
        "The dataset is clearly a non-linear dataset and consists of two features (say, $X$ and $Y$)."
      ]
    },
    {
      "cell_type": "markdown",
      "metadata": {
        "id": "bcNg1mniECIx"
      },
      "source": [
        "In order to use SVM for classifying this data, introduce another feature $Z = X^2 + Y^2$ into the dataset. Thus, projecting the 2-dimensional data into 3-dimensional space. The first dimension representing the feature $X$, second representing $Y$ and third representing $Z$ (which, mathematically, is equal to the radius of the circle of which the point $(x, y)$ is a part of). Now, clearly, for the data shown above, the *yellow* data points belong to a circle of smaller radius and the *purple* data points belong to a circle of larger radius. Thus, the data becomes linearly separable along the $Z$-axis."
      ]
    },
    {
      "cell_type": "code",
      "metadata": {
        "id": "fwKiYcNHEV4Z"
      },
      "source": [
        "# TODO: 2.png"
      ],
      "execution_count": null,
      "outputs": []
    },
    {
      "cell_type": "markdown",
      "metadata": {
        "id": "6W8jwBlpE9z7"
      },
      "source": [
        "---\n",
        "### Exercise 3 - Random Forest\n",
        "\n",
        "For the following questions, use `random_seed = 1` for better reproducibility of your\n",
        "answers."
      ]
    },
    {
      "cell_type": "markdown",
      "metadata": {
        "id": "tg4ZR1dOE_gU"
      },
      "source": [
        "#### 3.1. Load the breast cancer dataset from sklearn to your Jupyter notebook. Use label encoding to convert your target variable “class” into numerical form. Split the dataset using a $5$-fold cross validation."
      ]
    },
    {
      "cell_type": "code",
      "metadata": {
        "id": "AZr4Oj2KPyl5",
        "outputId": "7d40a7f8-3cf0-4b1f-ce4a-56289c63a664",
        "colab": {
          "base_uri": "https://localhost:8080/",
          "height": 226
        }
      },
      "source": [
        "cancer_data = pd.read_csv('https://raw.githubusercontent.com/D34dP0oL/4216_Biomedical_DS_and_AI/main/Datasets/cancer_all.csv', index_col = 'Unnamed: 0')\n",
        "cancer_data.head(4)"
      ],
      "execution_count": 40,
      "outputs": [
        {
          "output_type": "execute_result",
          "data": {
            "text/html": [
              "<div>\n",
              "<style scoped>\n",
              "    .dataframe tbody tr th:only-of-type {\n",
              "        vertical-align: middle;\n",
              "    }\n",
              "\n",
              "    .dataframe tbody tr th {\n",
              "        vertical-align: top;\n",
              "    }\n",
              "\n",
              "    .dataframe thead th {\n",
              "        text-align: right;\n",
              "    }\n",
              "</style>\n",
              "<table border=\"1\" class=\"dataframe\">\n",
              "  <thead>\n",
              "    <tr style=\"text-align: right;\">\n",
              "      <th></th>\n",
              "      <th>mean radius</th>\n",
              "      <th>mean texture</th>\n",
              "      <th>mean perimeter</th>\n",
              "      <th>mean area</th>\n",
              "      <th>mean smoothness</th>\n",
              "      <th>mean compactness</th>\n",
              "      <th>mean concavity</th>\n",
              "      <th>mean concave points</th>\n",
              "      <th>mean symmetry</th>\n",
              "      <th>mean fractal dimension</th>\n",
              "      <th>radius error</th>\n",
              "      <th>texture error</th>\n",
              "      <th>perimeter error</th>\n",
              "      <th>area error</th>\n",
              "      <th>smoothness error</th>\n",
              "      <th>compactness error</th>\n",
              "      <th>concavity error</th>\n",
              "      <th>concave points error</th>\n",
              "      <th>symmetry error</th>\n",
              "      <th>fractal dimension error</th>\n",
              "      <th>worst radius</th>\n",
              "      <th>worst texture</th>\n",
              "      <th>worst perimeter</th>\n",
              "      <th>worst area</th>\n",
              "      <th>worst smoothness</th>\n",
              "      <th>worst compactness</th>\n",
              "      <th>worst concavity</th>\n",
              "      <th>worst concave points</th>\n",
              "      <th>worst symmetry</th>\n",
              "      <th>worst fractal dimension</th>\n",
              "    </tr>\n",
              "  </thead>\n",
              "  <tbody>\n",
              "    <tr>\n",
              "      <th>0</th>\n",
              "      <td>17.99</td>\n",
              "      <td>10.38</td>\n",
              "      <td>122.80</td>\n",
              "      <td>1001.0</td>\n",
              "      <td>0.11840</td>\n",
              "      <td>0.27760</td>\n",
              "      <td>0.3001</td>\n",
              "      <td>0.14710</td>\n",
              "      <td>0.2419</td>\n",
              "      <td>0.07871</td>\n",
              "      <td>1.0950</td>\n",
              "      <td>0.9053</td>\n",
              "      <td>8.589</td>\n",
              "      <td>153.40</td>\n",
              "      <td>0.006399</td>\n",
              "      <td>0.04904</td>\n",
              "      <td>0.05373</td>\n",
              "      <td>0.01587</td>\n",
              "      <td>0.03003</td>\n",
              "      <td>0.006193</td>\n",
              "      <td>25.38</td>\n",
              "      <td>17.33</td>\n",
              "      <td>184.60</td>\n",
              "      <td>2019.0</td>\n",
              "      <td>0.1622</td>\n",
              "      <td>0.6656</td>\n",
              "      <td>0.7119</td>\n",
              "      <td>0.2654</td>\n",
              "      <td>0.4601</td>\n",
              "      <td>0.11890</td>\n",
              "    </tr>\n",
              "    <tr>\n",
              "      <th>1</th>\n",
              "      <td>20.57</td>\n",
              "      <td>17.77</td>\n",
              "      <td>132.90</td>\n",
              "      <td>1326.0</td>\n",
              "      <td>0.08474</td>\n",
              "      <td>0.07864</td>\n",
              "      <td>0.0869</td>\n",
              "      <td>0.07017</td>\n",
              "      <td>0.1812</td>\n",
              "      <td>0.05667</td>\n",
              "      <td>0.5435</td>\n",
              "      <td>0.7339</td>\n",
              "      <td>3.398</td>\n",
              "      <td>74.08</td>\n",
              "      <td>0.005225</td>\n",
              "      <td>0.01308</td>\n",
              "      <td>0.01860</td>\n",
              "      <td>0.01340</td>\n",
              "      <td>0.01389</td>\n",
              "      <td>0.003532</td>\n",
              "      <td>24.99</td>\n",
              "      <td>23.41</td>\n",
              "      <td>158.80</td>\n",
              "      <td>1956.0</td>\n",
              "      <td>0.1238</td>\n",
              "      <td>0.1866</td>\n",
              "      <td>0.2416</td>\n",
              "      <td>0.1860</td>\n",
              "      <td>0.2750</td>\n",
              "      <td>0.08902</td>\n",
              "    </tr>\n",
              "    <tr>\n",
              "      <th>2</th>\n",
              "      <td>19.69</td>\n",
              "      <td>21.25</td>\n",
              "      <td>130.00</td>\n",
              "      <td>1203.0</td>\n",
              "      <td>0.10960</td>\n",
              "      <td>0.15990</td>\n",
              "      <td>0.1974</td>\n",
              "      <td>0.12790</td>\n",
              "      <td>0.2069</td>\n",
              "      <td>0.05999</td>\n",
              "      <td>0.7456</td>\n",
              "      <td>0.7869</td>\n",
              "      <td>4.585</td>\n",
              "      <td>94.03</td>\n",
              "      <td>0.006150</td>\n",
              "      <td>0.04006</td>\n",
              "      <td>0.03832</td>\n",
              "      <td>0.02058</td>\n",
              "      <td>0.02250</td>\n",
              "      <td>0.004571</td>\n",
              "      <td>23.57</td>\n",
              "      <td>25.53</td>\n",
              "      <td>152.50</td>\n",
              "      <td>1709.0</td>\n",
              "      <td>0.1444</td>\n",
              "      <td>0.4245</td>\n",
              "      <td>0.4504</td>\n",
              "      <td>0.2430</td>\n",
              "      <td>0.3613</td>\n",
              "      <td>0.08758</td>\n",
              "    </tr>\n",
              "    <tr>\n",
              "      <th>3</th>\n",
              "      <td>11.42</td>\n",
              "      <td>20.38</td>\n",
              "      <td>77.58</td>\n",
              "      <td>386.1</td>\n",
              "      <td>0.14250</td>\n",
              "      <td>0.28390</td>\n",
              "      <td>0.2414</td>\n",
              "      <td>0.10520</td>\n",
              "      <td>0.2597</td>\n",
              "      <td>0.09744</td>\n",
              "      <td>0.4956</td>\n",
              "      <td>1.1560</td>\n",
              "      <td>3.445</td>\n",
              "      <td>27.23</td>\n",
              "      <td>0.009110</td>\n",
              "      <td>0.07458</td>\n",
              "      <td>0.05661</td>\n",
              "      <td>0.01867</td>\n",
              "      <td>0.05963</td>\n",
              "      <td>0.009208</td>\n",
              "      <td>14.91</td>\n",
              "      <td>26.50</td>\n",
              "      <td>98.87</td>\n",
              "      <td>567.7</td>\n",
              "      <td>0.2098</td>\n",
              "      <td>0.8663</td>\n",
              "      <td>0.6869</td>\n",
              "      <td>0.2575</td>\n",
              "      <td>0.6638</td>\n",
              "      <td>0.17300</td>\n",
              "    </tr>\n",
              "  </tbody>\n",
              "</table>\n",
              "</div>"
            ],
            "text/plain": [
              "   mean radius  mean texture  ...  worst symmetry  worst fractal dimension\n",
              "0        17.99         10.38  ...          0.4601                  0.11890\n",
              "1        20.57         17.77  ...          0.2750                  0.08902\n",
              "2        19.69         21.25  ...          0.3613                  0.08758\n",
              "3        11.42         20.38  ...          0.6638                  0.17300\n",
              "\n",
              "[4 rows x 30 columns]"
            ]
          },
          "metadata": {
            "tags": []
          },
          "execution_count": 40
        }
      ]
    },
    {
      "cell_type": "code",
      "metadata": {
        "id": "r6FZJ2XF03wo"
      },
      "source": [
        "feature_scaler = preprocessing.StandardScaler()\n",
        "cancer_data = feature_scaler.fit_transform(cancer_data)"
      ],
      "execution_count": 54,
      "outputs": []
    },
    {
      "cell_type": "code",
      "metadata": {
        "id": "Dhqdtj__Sgon",
        "outputId": "f318898a-52e5-4dc7-a3ad-6dcea2dd3cf1",
        "colab": {
          "base_uri": "https://localhost:8080/",
          "height": 172
        }
      },
      "source": [
        "cancer_class_data = pd.read_csv('https://raw.githubusercontent.com/D34dP0oL/4216_Biomedical_DS_and_AI/main/Datasets/cancer_class.csv', index_col = 'Unnamed: 0')\n",
        "cancer_class_data.head(4)"
      ],
      "execution_count": 42,
      "outputs": [
        {
          "output_type": "execute_result",
          "data": {
            "text/html": [
              "<div>\n",
              "<style scoped>\n",
              "    .dataframe tbody tr th:only-of-type {\n",
              "        vertical-align: middle;\n",
              "    }\n",
              "\n",
              "    .dataframe tbody tr th {\n",
              "        vertical-align: top;\n",
              "    }\n",
              "\n",
              "    .dataframe thead th {\n",
              "        text-align: right;\n",
              "    }\n",
              "</style>\n",
              "<table border=\"1\" class=\"dataframe\">\n",
              "  <thead>\n",
              "    <tr style=\"text-align: right;\">\n",
              "      <th></th>\n",
              "      <th>class</th>\n",
              "    </tr>\n",
              "  </thead>\n",
              "  <tbody>\n",
              "    <tr>\n",
              "      <th>0</th>\n",
              "      <td>malignant</td>\n",
              "    </tr>\n",
              "    <tr>\n",
              "      <th>1</th>\n",
              "      <td>malignant</td>\n",
              "    </tr>\n",
              "    <tr>\n",
              "      <th>2</th>\n",
              "      <td>malignant</td>\n",
              "    </tr>\n",
              "    <tr>\n",
              "      <th>3</th>\n",
              "      <td>malignant</td>\n",
              "    </tr>\n",
              "  </tbody>\n",
              "</table>\n",
              "</div>"
            ],
            "text/plain": [
              "       class\n",
              "0  malignant\n",
              "1  malignant\n",
              "2  malignant\n",
              "3  malignant"
            ]
          },
          "metadata": {
            "tags": []
          },
          "execution_count": 42
        }
      ]
    },
    {
      "cell_type": "code",
      "metadata": {
        "id": "wdhqeMy7S11W",
        "outputId": "0d44041d-d43e-4e23-edfa-6fc93bdfa9ad",
        "colab": {
          "base_uri": "https://localhost:8080/"
        }
      },
      "source": [
        "cancer_class_data['class'].unique()"
      ],
      "execution_count": 43,
      "outputs": [
        {
          "output_type": "execute_result",
          "data": {
            "text/plain": [
              "array(['malignant', 'benign'], dtype=object)"
            ]
          },
          "metadata": {
            "tags": []
          },
          "execution_count": 43
        }
      ]
    },
    {
      "cell_type": "code",
      "metadata": {
        "id": "VumpD2RJSbZi",
        "outputId": "4a65ffc4-9d49-4d13-c62a-22957044f98b",
        "colab": {
          "base_uri": "https://localhost:8080/"
        }
      },
      "source": [
        "label_encoder = preprocessing.LabelEncoder()\n",
        "label_encoder.fit(['malignant', 'benign'])\n",
        "encoded_cancer_class_data = label_encoder.transform(cancer_class_data.values.ravel())\n",
        "encoded_cancer_class_data"
      ],
      "execution_count": 44,
      "outputs": [
        {
          "output_type": "execute_result",
          "data": {
            "text/plain": [
              "array([1, 1, 1, 1, 1, 1, 1, 1, 1, 1, 1, 1, 1, 1, 1, 1, 1, 1, 1, 0, 0, 0,\n",
              "       1, 1, 1, 1, 1, 1, 1, 1, 1, 1, 1, 1, 1, 1, 1, 0, 1, 1, 1, 1, 1, 1,\n",
              "       1, 1, 0, 1, 0, 0, 0, 0, 0, 1, 1, 0, 1, 1, 0, 0, 0, 0, 1, 0, 1, 1,\n",
              "       0, 0, 0, 0, 1, 0, 1, 1, 0, 1, 0, 1, 1, 0, 0, 0, 1, 1, 0, 1, 1, 1,\n",
              "       0, 0, 0, 1, 0, 0, 1, 1, 0, 0, 0, 1, 1, 0, 0, 0, 0, 1, 0, 0, 1, 0,\n",
              "       0, 0, 0, 0, 0, 0, 0, 1, 1, 1, 0, 1, 1, 0, 0, 0, 1, 1, 0, 1, 0, 1,\n",
              "       1, 0, 1, 1, 0, 0, 1, 0, 0, 1, 0, 0, 0, 0, 1, 0, 0, 0, 0, 0, 0, 0,\n",
              "       0, 0, 1, 0, 0, 0, 0, 1, 1, 0, 1, 0, 0, 1, 1, 0, 0, 1, 1, 0, 0, 0,\n",
              "       0, 1, 0, 0, 1, 1, 1, 0, 1, 0, 1, 0, 0, 0, 1, 0, 0, 1, 1, 0, 1, 1,\n",
              "       1, 1, 0, 1, 1, 1, 0, 1, 0, 1, 0, 0, 1, 0, 1, 1, 1, 1, 0, 0, 1, 1,\n",
              "       0, 0, 0, 1, 0, 0, 0, 0, 0, 1, 1, 0, 0, 1, 0, 0, 1, 1, 0, 1, 0, 0,\n",
              "       0, 0, 1, 0, 0, 0, 0, 0, 1, 0, 1, 1, 1, 1, 1, 1, 1, 1, 1, 1, 1, 1,\n",
              "       1, 1, 0, 0, 0, 0, 0, 0, 1, 0, 1, 0, 0, 1, 0, 0, 1, 0, 1, 1, 0, 0,\n",
              "       0, 0, 0, 0, 0, 0, 0, 0, 0, 0, 0, 1, 0, 0, 1, 0, 1, 0, 0, 0, 0, 0,\n",
              "       0, 0, 0, 0, 0, 0, 0, 0, 0, 1, 0, 0, 0, 1, 0, 1, 0, 0, 0, 0, 1, 1,\n",
              "       1, 0, 0, 0, 0, 1, 0, 1, 0, 1, 0, 0, 0, 1, 0, 0, 0, 0, 0, 0, 0, 1,\n",
              "       1, 1, 0, 0, 0, 0, 0, 0, 0, 0, 0, 0, 0, 1, 1, 0, 1, 1, 1, 0, 1, 1,\n",
              "       0, 0, 0, 0, 0, 1, 0, 0, 0, 0, 0, 1, 0, 0, 0, 1, 0, 0, 1, 1, 0, 0,\n",
              "       0, 0, 0, 0, 1, 0, 0, 0, 0, 0, 0, 0, 1, 0, 0, 0, 0, 0, 1, 0, 0, 1,\n",
              "       0, 0, 0, 0, 0, 0, 0, 0, 0, 0, 0, 0, 1, 0, 1, 1, 0, 1, 0, 0, 0, 0,\n",
              "       0, 1, 0, 0, 1, 0, 1, 0, 0, 1, 0, 1, 0, 0, 0, 0, 0, 0, 0, 0, 1, 1,\n",
              "       0, 0, 0, 0, 0, 0, 1, 0, 0, 0, 0, 0, 0, 0, 0, 0, 0, 1, 0, 0, 0, 0,\n",
              "       0, 0, 0, 1, 0, 1, 0, 0, 1, 0, 0, 0, 0, 0, 1, 1, 0, 1, 0, 1, 0, 0,\n",
              "       0, 0, 0, 1, 0, 0, 1, 0, 1, 0, 1, 1, 0, 0, 0, 1, 0, 0, 0, 0, 0, 0,\n",
              "       0, 0, 0, 0, 0, 1, 0, 1, 1, 0, 0, 0, 0, 0, 0, 0, 0, 0, 0, 0, 0, 0,\n",
              "       0, 0, 0, 0, 0, 0, 0, 0, 0, 0, 0, 0, 1, 1, 1, 1, 1, 1, 0])"
            ]
          },
          "metadata": {
            "tags": []
          },
          "execution_count": 44
        }
      ]
    },
    {
      "cell_type": "code",
      "metadata": {
        "id": "j6w3DnNLl8Se",
        "outputId": "1d97f629-e3bc-4935-e89f-92439b34e0f1",
        "colab": {
          "base_uri": "https://localhost:8080/"
        }
      },
      "source": [
        "# cross-validation\n",
        "cv = KFold(n_splits=5, random_state=1, shuffle=True)\n",
        "counter = 1\n",
        "for train_index, test_index in cv.split(cancer_data):\n",
        "  print(\"Splitted data number: %d\\n\" % counter)\n",
        "  print(\"Train data indexes:\", train_index,2*\"\\n\", \"Test data indexes:\", test_index, 5*\"\\n\")\n",
        "  counter += 1\n",
        "\n",
        "classifier = RandomForestClassifier(n_estimators=300, random_state=1)"
      ],
      "execution_count": 45,
      "outputs": [
        {
          "output_type": "stream",
          "text": [
            "Splitted data number: 1\n",
            "\n",
            "Train data indexes: [  1   2   4   6   7   8  10  11  12  13  14  15  16  18  19  20  21  22\n",
            "  23  24  25  26  27  28  30  32  33  35  36  37  39  42  43  44  45  46\n",
            "  48  50  51  52  53  54  55  56  57  58  60  61  63  64  70  71  72  73\n",
            "  74  75  76  77  78  79  80  81  82  83  84  86  87  88  89  91  93  94\n",
            "  95  96  97  98  99 100 101 102 103 104 105 106 108 109 110 112 113 114\n",
            " 115 116 117 118 121 122 123 125 126 127 128 129 130 131 133 134 136 137\n",
            " 138 139 140 141 142 143 144 145 146 148 149 150 151 152 153 154 155 156\n",
            " 157 158 162 163 164 166 167 168 169 170 171 173 174 175 176 177 178 181\n",
            " 182 183 184 185 188 190 191 192 193 194 196 198 199 200 201 202 203 204\n",
            " 205 206 208 209 210 211 212 213 215 216 217 218 219 220 222 223 224 225\n",
            " 226 227 228 229 230 231 232 234 235 236 238 239 240 241 243 244 247 248\n",
            " 249 250 251 252 253 254 255 256 259 260 261 262 263 264 265 266 267 268\n",
            " 269 270 271 272 275 276 278 279 280 281 282 284 287 288 290 291 293 294\n",
            " 296 297 298 299 300 301 302 303 306 307 309 310 311 312 313 314 315 316\n",
            " 317 318 319 320 321 322 323 325 327 328 329 330 331 332 333 334 336 337\n",
            " 338 339 340 341 343 345 348 349 350 351 352 353 354 355 356 357 359 360\n",
            " 361 363 364 365 366 367 368 369 371 372 373 374 375 377 379 380 381 382\n",
            " 383 384 385 386 387 388 389 390 391 392 393 394 395 396 397 398 401 402\n",
            " 404 405 406 407 408 409 410 412 413 415 416 417 418 419 422 423 426 427\n",
            " 428 429 430 431 433 434 436 437 438 439 440 441 444 445 446 447 449 450\n",
            " 452 454 455 456 458 459 460 461 463 464 465 466 467 468 469 470 471 472\n",
            " 473 474 475 476 478 479 481 482 483 484 485 487 489 490 491 493 494 495\n",
            " 497 498 499 500 502 503 504 505 506 507 508 509 510 511 512 513 514 515\n",
            " 516 517 521 522 523 524 525 526 527 528 529 530 532 533 534 535 536 537\n",
            " 538 540 541 543 544 546 548 549 551 552 553 554 556 557 559 560 561 562\n",
            " 563 565 566 567 568] \n",
            "\n",
            " Test data indexes: [  0   3   5   9  17  29  31  34  38  40  41  47  49  59  62  65  66  67\n",
            "  68  69  85  90  92 107 111 119 120 124 132 135 147 159 160 161 165 172\n",
            " 179 180 186 187 189 195 197 207 214 221 233 237 242 245 246 257 258 273\n",
            " 274 277 283 285 286 289 292 295 304 305 308 324 326 335 342 344 346 347\n",
            " 358 362 370 376 378 399 400 403 411 414 420 421 424 425 432 435 442 443\n",
            " 448 451 453 457 462 477 480 486 488 492 496 501 518 519 520 531 539 542\n",
            " 545 547 550 555 558 564] \n",
            "\n",
            "\n",
            "\n",
            "\n",
            "\n",
            "Splitted data number: 2\n",
            "\n",
            "Train data indexes: [  0   1   2   3   5   7   8   9  10  12  13  14  15  17  20  21  22  24\n",
            "  25  26  27  28  29  30  31  32  33  34  35  36  37  38  39  40  41  43\n",
            "  44  45  47  48  49  50  51  52  53  54  55  56  57  59  60  61  62  63\n",
            "  64  65  66  67  68  69  70  71  72  73  74  75  76  77  79  82  83  84\n",
            "  85  86  87  89  90  91  92  94  96  97  98  99 100 103 105 107 108 109\n",
            " 111 112 113 114 116 118 119 120 123 124 125 126 127 129 130 131 132 134\n",
            " 135 136 137 138 140 141 143 144 145 147 148 149 150 151 152 153 154 155\n",
            " 156 158 159 160 161 163 164 165 166 167 169 170 171 172 174 175 176 177\n",
            " 178 179 180 181 182 183 184 186 187 188 189 190 191 193 194 195 196 197\n",
            " 198 199 200 202 203 205 206 207 208 209 210 211 212 214 215 216 217 219\n",
            " 220 221 222 224 226 227 228 229 230 231 233 234 235 237 238 239 240 242\n",
            " 243 245 246 248 251 252 253 254 255 256 257 258 259 262 263 264 265 266\n",
            " 267 269 270 271 272 273 274 275 276 277 278 279 280 281 282 283 285 286\n",
            " 287 288 289 290 292 294 295 296 297 298 299 300 301 302 303 304 305 308\n",
            " 309 310 312 313 316 317 319 320 321 322 323 324 325 326 327 330 331 332\n",
            " 333 335 336 337 338 339 340 341 342 343 344 345 346 347 348 349 351 352\n",
            " 353 354 356 357 358 359 362 363 364 365 366 367 368 369 370 371 372 373\n",
            " 376 377 378 380 381 382 384 387 388 389 390 391 393 395 396 397 398 399\n",
            " 400 401 403 405 406 411 412 414 416 417 418 420 421 423 424 425 426 427\n",
            " 428 429 430 431 432 433 435 436 437 438 441 442 443 444 446 448 449 450\n",
            " 451 452 453 454 455 456 457 458 459 460 461 462 464 466 467 468 469 471\n",
            " 473 474 475 477 478 480 481 482 485 486 488 489 490 491 492 493 494 495\n",
            " 496 497 498 499 500 501 502 503 504 505 506 507 508 509 510 511 513 515\n",
            " 516 518 519 520 521 522 524 525 528 530 531 532 533 534 536 537 538 539\n",
            " 541 542 543 544 545 547 548 549 550 552 553 555 556 557 558 559 560 561\n",
            " 563 564 565 567 568] \n",
            "\n",
            " Test data indexes: [  4   6  11  16  18  19  23  42  46  58  78  80  81  88  93  95 101 102\n",
            " 104 106 110 115 117 121 122 128 133 139 142 146 157 162 168 173 185 192\n",
            " 201 204 213 218 223 225 232 236 241 244 247 249 250 260 261 268 284 291\n",
            " 293 306 307 311 314 315 318 328 329 334 350 355 360 361 374 375 379 383\n",
            " 385 386 392 394 402 404 407 408 409 410 413 415 419 422 434 439 440 445\n",
            " 447 463 465 470 472 476 479 483 484 487 512 514 517 523 526 527 529 535\n",
            " 540 546 551 554 562 566] \n",
            "\n",
            "\n",
            "\n",
            "\n",
            "\n",
            "Splitted data number: 3\n",
            "\n",
            "Train data indexes: [  0   2   3   4   5   6   7   8   9  10  11  15  16  17  18  19  20  21\n",
            "  22  23  24  25  26  28  29  30  31  32  33  34  35  36  37  38  40  41\n",
            "  42  43  45  46  47  48  49  50  52  54  55  56  57  58  59  60  62  63\n",
            "  64  65  66  67  68  69  71  72  74  75  76  77  78  79  80  81  83  84\n",
            "  85  86  87  88  90  92  93  94  95  96  97  99 101 102 103 104 106 107\n",
            " 108 109 110 111 113 114 115 116 117 118 119 120 121 122 124 126 128 129\n",
            " 130 132 133 134 135 136 137 139 140 141 142 143 144 146 147 148 149 151\n",
            " 152 155 156 157 159 160 161 162 165 166 168 169 170 172 173 176 177 178\n",
            " 179 180 181 182 183 184 185 186 187 189 190 192 193 194 195 196 197 198\n",
            " 199 200 201 202 203 204 205 207 209 210 211 212 213 214 215 216 217 218\n",
            " 219 220 221 222 223 225 231 232 233 234 235 236 237 239 240 241 242 243\n",
            " 244 245 246 247 248 249 250 252 253 254 257 258 259 260 261 262 263 264\n",
            " 266 268 269 273 274 276 277 278 279 281 282 283 284 285 286 287 288 289\n",
            " 291 292 293 295 296 297 299 301 302 303 304 305 306 307 308 309 310 311\n",
            " 313 314 315 316 317 318 319 320 321 322 324 325 326 327 328 329 330 331\n",
            " 332 333 334 335 336 337 338 340 342 343 344 346 347 348 350 352 353 354\n",
            " 355 356 357 358 359 360 361 362 367 369 370 371 372 374 375 376 377 378\n",
            " 379 380 381 383 384 385 386 387 389 390 391 392 393 394 395 397 398 399\n",
            " 400 401 402 403 404 405 407 408 409 410 411 412 413 414 415 416 418 419\n",
            " 420 421 422 424 425 431 432 434 435 438 439 440 441 442 443 445 447 448\n",
            " 450 451 452 453 454 455 456 457 458 459 461 462 463 465 466 468 469 470\n",
            " 471 472 473 474 475 476 477 478 479 480 483 484 485 486 487 488 489 490\n",
            " 491 492 494 495 496 497 501 503 505 506 508 509 511 512 513 514 515 516\n",
            " 517 518 519 520 522 523 525 526 527 529 530 531 532 533 534 535 537 539\n",
            " 540 542 543 544 545 546 547 548 550 551 553 554 555 556 557 558 559 561\n",
            " 562 563 564 565 566] \n",
            "\n",
            " Test data indexes: [  1  12  13  14  27  39  44  51  53  61  70  73  82  89  91  98 100 105\n",
            " 112 123 125 127 131 138 145 150 153 154 158 163 164 167 171 174 175 188\n",
            " 191 206 208 224 226 227 228 229 230 238 251 255 256 265 267 270 271 272\n",
            " 275 280 290 294 298 300 312 323 339 341 345 349 351 363 364 365 366 368\n",
            " 373 382 388 396 406 417 423 426 427 428 429 430 433 436 437 444 446 449\n",
            " 460 464 467 481 482 493 498 499 500 502 504 507 510 521 524 528 536 538\n",
            " 541 549 552 560 567 568] \n",
            "\n",
            "\n",
            "\n",
            "\n",
            "\n",
            "Splitted data number: 4\n",
            "\n",
            "Train data indexes: [  0   1   2   3   4   5   6   7   9  10  11  12  13  14  15  16  17  18\n",
            "  19  20  22  23  25  26  27  29  30  31  34  36  37  38  39  40  41  42\n",
            "  43  44  46  47  49  51  52  53  57  58  59  61  62  64  65  66  67  68\n",
            "  69  70  71  72  73  74  75  76  77  78  80  81  82  83  85  86  87  88\n",
            "  89  90  91  92  93  95  96  98 100 101 102 104 105 106 107 110 111 112\n",
            " 115 117 119 120 121 122 123 124 125 126 127 128 129 131 132 133 135 136\n",
            " 138 139 141 142 143 144 145 146 147 149 150 151 153 154 155 157 158 159\n",
            " 160 161 162 163 164 165 166 167 168 171 172 173 174 175 178 179 180 183\n",
            " 185 186 187 188 189 190 191 192 195 196 197 200 201 203 204 206 207 208\n",
            " 209 210 213 214 215 216 218 221 223 224 225 226 227 228 229 230 232 233\n",
            " 235 236 237 238 239 240 241 242 243 244 245 246 247 249 250 251 252 253\n",
            " 254 255 256 257 258 259 260 261 262 263 264 265 266 267 268 269 270 271\n",
            " 272 273 274 275 276 277 279 280 281 282 283 284 285 286 288 289 290 291\n",
            " 292 293 294 295 297 298 300 301 302 304 305 306 307 308 311 312 313 314\n",
            " 315 316 318 319 321 323 324 326 328 329 332 333 334 335 336 339 341 342\n",
            " 344 345 346 347 348 349 350 351 355 356 357 358 359 360 361 362 363 364\n",
            " 365 366 367 368 369 370 373 374 375 376 378 379 381 382 383 384 385 386\n",
            " 387 388 390 392 393 394 396 398 399 400 402 403 404 406 407 408 409 410\n",
            " 411 413 414 415 416 417 418 419 420 421 422 423 424 425 426 427 428 429\n",
            " 430 431 432 433 434 435 436 437 439 440 442 443 444 445 446 447 448 449\n",
            " 451 452 453 454 455 456 457 460 461 462 463 464 465 466 467 468 469 470\n",
            " 471 472 474 475 476 477 478 479 480 481 482 483 484 486 487 488 490 492\n",
            " 493 496 497 498 499 500 501 502 503 504 507 508 510 512 513 514 515 516\n",
            " 517 518 519 520 521 523 524 526 527 528 529 530 531 533 534 535 536 538\n",
            " 539 540 541 542 543 544 545 546 547 549 550 551 552 554 555 558 560 561\n",
            " 562 564 566 567 568] \n",
            "\n",
            " Test data indexes: [  8  21  24  28  32  33  35  45  48  50  54  55  56  60  63  79  84  94\n",
            "  97  99 103 108 109 113 114 116 118 130 134 137 140 148 152 156 169 170\n",
            " 176 177 181 182 184 193 194 198 199 202 205 211 212 217 219 220 222 231\n",
            " 234 248 278 287 296 299 303 309 310 317 320 322 325 327 330 331 337 338\n",
            " 340 343 352 353 354 371 372 377 380 389 391 395 397 401 405 412 438 441\n",
            " 450 458 459 473 485 489 491 494 495 505 506 509 511 522 525 532 537 548\n",
            " 553 556 557 559 563 565] \n",
            "\n",
            "\n",
            "\n",
            "\n",
            "\n",
            "Splitted data number: 5\n",
            "\n",
            "Train data indexes: [  0   1   3   4   5   6   8   9  11  12  13  14  16  17  18  19  21  23\n",
            "  24  27  28  29  31  32  33  34  35  38  39  40  41  42  44  45  46  47\n",
            "  48  49  50  51  53  54  55  56  58  59  60  61  62  63  65  66  67  68\n",
            "  69  70  73  78  79  80  81  82  84  85  88  89  90  91  92  93  94  95\n",
            "  97  98  99 100 101 102 103 104 105 106 107 108 109 110 111 112 113 114\n",
            " 115 116 117 118 119 120 121 122 123 124 125 127 128 130 131 132 133 134\n",
            " 135 137 138 139 140 142 145 146 147 148 150 152 153 154 156 157 158 159\n",
            " 160 161 162 163 164 165 167 168 169 170 171 172 173 174 175 176 177 179\n",
            " 180 181 182 184 185 186 187 188 189 191 192 193 194 195 197 198 199 201\n",
            " 202 204 205 206 207 208 211 212 213 214 217 218 219 220 221 222 223 224\n",
            " 225 226 227 228 229 230 231 232 233 234 236 237 238 241 242 244 245 246\n",
            " 247 248 249 250 251 255 256 257 258 260 261 265 267 268 270 271 272 273\n",
            " 274 275 277 278 280 283 284 285 286 287 289 290 291 292 293 294 295 296\n",
            " 298 299 300 303 304 305 306 307 308 309 310 311 312 314 315 317 318 320\n",
            " 322 323 324 325 326 327 328 329 330 331 334 335 337 338 339 340 341 342\n",
            " 343 344 345 346 347 349 350 351 352 353 354 355 358 360 361 362 363 364\n",
            " 365 366 368 370 371 372 373 374 375 376 377 378 379 380 382 383 385 386\n",
            " 388 389 391 392 394 395 396 397 399 400 401 402 403 404 405 406 407 408\n",
            " 409 410 411 412 413 414 415 417 419 420 421 422 423 424 425 426 427 428\n",
            " 429 430 432 433 434 435 436 437 438 439 440 441 442 443 444 445 446 447\n",
            " 448 449 450 451 453 457 458 459 460 462 463 464 465 467 470 472 473 476\n",
            " 477 479 480 481 482 483 484 485 486 487 488 489 491 492 493 494 495 496\n",
            " 498 499 500 501 502 504 505 506 507 509 510 511 512 514 517 518 519 520\n",
            " 521 522 523 524 525 526 527 528 529 531 532 535 536 537 538 539 540 541\n",
            " 542 545 546 547 548 549 550 551 552 553 554 555 556 557 558 559 560 562\n",
            " 563 564 565 566 567 568] \n",
            "\n",
            " Test data indexes: [  2   7  10  15  20  22  25  26  30  36  37  43  52  57  64  71  72  74\n",
            "  75  76  77  83  86  87  96 126 129 136 141 143 144 149 151 155 166 178\n",
            " 183 190 196 200 203 209 210 215 216 235 239 240 243 252 253 254 259 262\n",
            " 263 264 266 269 276 279 281 282 288 297 301 302 313 316 319 321 332 333\n",
            " 336 348 356 357 359 367 369 381 384 387 390 393 398 416 418 431 452 454\n",
            " 455 456 461 466 468 469 471 474 475 478 490 497 503 508 513 515 516 530\n",
            " 533 534 543 544 561] \n",
            "\n",
            "\n",
            "\n",
            "\n",
            "\n"
          ],
          "name": "stdout"
        }
      ]
    },
    {
      "cell_type": "code",
      "metadata": {
        "id": "Pb9xKLHDq7C8",
        "outputId": "8a6cf5c6-0c9e-40c7-a0d9-f1e182d4e8fd",
        "colab": {
          "base_uri": "https://localhost:8080/"
        }
      },
      "source": [
        "# fitting the model and computing the score 5 consecutive times for evaluation with different splits each time\n",
        "scores = cross_val_score(classifier, cancer_data, cancer_class_data, scoring='accuracy', cv=cv, n_jobs=-1)\n",
        "print(\"scores:\\n\",scores,\"\\n\")\n",
        "\n",
        "print('Accuracy: %.3f and Standard Deviation: %.3f)' % (np.mean(scores), np.std(scores)))"
      ],
      "execution_count": 46,
      "outputs": [
        {
          "output_type": "stream",
          "text": [
            "scores:\n",
            " [0.95614035 0.94736842 0.95614035 0.96491228 0.97345133] \n",
            "\n",
            "Accuracy: 0.960 and Standard Deviation: 0.009)\n"
          ],
          "name": "stdout"
        }
      ]
    },
    {
      "cell_type": "markdown",
      "metadata": {
        "id": "UswnbGnvFDY5"
      },
      "source": [
        "#### 3.2. Set up a parameter grid and use grid search with $5$-fold cross validation to identify the best hyperparameter values used to fit a random forest classifier."
      ]
    },
    {
      "cell_type": "code",
      "metadata": {
        "id": "AdB5CJRcwo0K",
        "outputId": "fbf01592-3b9c-4f80-a094-2e2d5b1678da",
        "colab": {
          "base_uri": "https://localhost:8080/"
        }
      },
      "source": [
        "#from sklearn.model_selection import ParameterGrid\n",
        "\n",
        "grid_param = {\n",
        "    'n_estimators': [100, 300, 500, 800, 1000],\n",
        "    'criterion': ['gini', 'entropy'],\n",
        "    'bootstrap': [True, False]\n",
        "}\n",
        "\n",
        "gd_sr = GridSearchCV(estimator=classifier,\n",
        "                     param_grid=grid_param,\n",
        "                     scoring='accuracy',\n",
        "                     cv=cv,\n",
        "                     n_jobs=-1)\n",
        "\n",
        "gd_sr.fit(cancer_data, cancer_class_data.values.ravel())\n",
        "best_parameters = gd_sr.best_params_\n",
        "print(best_parameters)\n",
        "best_result = gd_sr.best_score_\n",
        "print(best_result)"
      ],
      "execution_count": 49,
      "outputs": [
        {
          "output_type": "stream",
          "text": [
            "{'bootstrap': False, 'criterion': 'gini', 'n_estimators': 800}\n",
            "0.9613724576929048\n"
          ],
          "name": "stdout"
        }
      ]
    },
    {
      "cell_type": "markdown",
      "metadata": {
        "id": "a_REmdztsGyT"
      },
      "source": [
        "#### 3.3. Use the best hyperparameters from *2)* to fit the final model. Predict the classes of the test set and count the number of samples assigned to each class."
      ]
    },
    {
      "cell_type": "code",
      "metadata": {
        "id": "O8pVQ4-H5LI9",
        "outputId": "a3fb6c92-25ff-41a5-aab6-30354882ed71",
        "colab": {
          "base_uri": "https://localhost:8080/"
        }
      },
      "source": [
        "clf = RandomForestClassifier(bootstrap = False, criterion = 'gini', n_estimators = 800, random_state=1)\n",
        "clf.fit(cancer_data, cancer_class_data.values.ravel())"
      ],
      "execution_count": 52,
      "outputs": [
        {
          "output_type": "execute_result",
          "data": {
            "text/plain": [
              "RandomForestClassifier(bootstrap=False, ccp_alpha=0.0, class_weight=None,\n",
              "                       criterion='gini', max_depth=None, max_features='auto',\n",
              "                       max_leaf_nodes=None, max_samples=None,\n",
              "                       min_impurity_decrease=0.0, min_impurity_split=None,\n",
              "                       min_samples_leaf=1, min_samples_split=2,\n",
              "                       min_weight_fraction_leaf=0.0, n_estimators=800,\n",
              "                       n_jobs=None, oob_score=False, random_state=1, verbose=0,\n",
              "                       warm_start=False)"
            ]
          },
          "metadata": {
            "tags": []
          },
          "execution_count": 52
        }
      ]
    },
    {
      "cell_type": "markdown",
      "metadata": {
        "id": "I2qVdnYgsH37"
      },
      "source": [
        "#### 3.4. Print the importance of each feature in descending order. Identify the top five features."
      ]
    },
    {
      "cell_type": "code",
      "metadata": {
        "id": "n_TiPk4B3zVe",
        "outputId": "bcc95c92-e554-4416-c9b7-d7e250353ee1",
        "colab": {
          "base_uri": "https://localhost:8080/"
        }
      },
      "source": [
        "print(sorted(gd_sr.cv_results_.keys(), reverse=True))"
      ],
      "execution_count": 51,
      "outputs": [
        {
          "output_type": "stream",
          "text": [
            "['std_test_score', 'std_score_time', 'std_fit_time', 'split4_test_score', 'split3_test_score', 'split2_test_score', 'split1_test_score', 'split0_test_score', 'rank_test_score', 'params', 'param_n_estimators', 'param_criterion', 'param_bootstrap', 'mean_test_score', 'mean_score_time', 'mean_fit_time']\n"
          ],
          "name": "stdout"
        }
      ]
    },
    {
      "cell_type": "markdown",
      "metadata": {
        "id": "Bd1K747ssJBm"
      },
      "source": [
        "#### 3.5. Mention a case when permutation feature importance is favored over impurity-based feature importance. Use permutation importance to print the importances of your features in a descending order. Compare your answer with that of *4)*. Do you notice any differences?"
      ]
    },
    {
      "cell_type": "markdown",
      "metadata": {
        "id": "kEewS1cBsKR4"
      },
      "source": [
        "#### 3.6. In your own words, explain the **bootstrapping technique** and mention how random forest benefits from its application."
      ]
    }
  ]
}